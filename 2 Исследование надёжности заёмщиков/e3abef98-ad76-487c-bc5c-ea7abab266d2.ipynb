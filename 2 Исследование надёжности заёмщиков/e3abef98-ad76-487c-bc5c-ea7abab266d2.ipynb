{
 "cells": [
  {
   "cell_type": "markdown",
   "id": "ae0218f4",
   "metadata": {},
   "source": [
    "# Исследование надежности заемщиков"
   ]
  },
  {
   "cell_type": "markdown",
   "id": "d6de07e8",
   "metadata": {},
   "source": [
    "Заказчик — кредитный отдел банка. Нужно разобраться, влияет ли семейное положение и количество детей клиента на факт погашения кредита в срок. Входные данные от банка — статистика о платёжеспособности клиентов.\n",
    "Результаты исследования будут учтены при построении модели кредитного скоринга — специальной системы, которая оценивает способность потенциального заёмщика вернуть кредит банку.\n",
    "\n",
    "**Цель исследования** — проверить гипотезу:\n",
    " * H1.Cемейное положение и количество детей клиента **влияет** на факт погашения кредита в срок\n",
    " \n",
    "**Ход исследования**\n",
    " 1. Обзор данных.\n",
    " 2. Предобработка данных.\n",
    " 3. Проверка гипотезы."
   ]
  },
  {
   "cell_type": "markdown",
   "id": "94a318c0",
   "metadata": {},
   "source": [
    "### Шаг 1. Обзор данных"
   ]
  },
  {
   "cell_type": "code",
   "execution_count": 1,
   "id": "9c860cdb",
   "metadata": {},
   "outputs": [
    {
     "name": "stdout",
     "output_type": "stream",
     "text": [
      "<class 'pandas.core.frame.DataFrame'>\n",
      "RangeIndex: 21525 entries, 0 to 21524\n",
      "Data columns (total 12 columns):\n",
      " #   Column            Non-Null Count  Dtype  \n",
      "---  ------            --------------  -----  \n",
      " 0   children          21525 non-null  int64  \n",
      " 1   days_employed     19351 non-null  float64\n",
      " 2   dob_years         21525 non-null  int64  \n",
      " 3   education         21525 non-null  object \n",
      " 4   education_id      21525 non-null  int64  \n",
      " 5   family_status     21525 non-null  object \n",
      " 6   family_status_id  21525 non-null  int64  \n",
      " 7   gender            21525 non-null  object \n",
      " 8   income_type       21525 non-null  object \n",
      " 9   debt              21525 non-null  int64  \n",
      " 10  total_income      19351 non-null  float64\n",
      " 11  purpose           21525 non-null  object \n",
      "dtypes: float64(2), int64(5), object(5)\n",
      "memory usage: 2.0+ MB\n"
     ]
    },
    {
     "data": {
      "text/html": [
       "<div>\n",
       "<style scoped>\n",
       "    .dataframe tbody tr th:only-of-type {\n",
       "        vertical-align: middle;\n",
       "    }\n",
       "\n",
       "    .dataframe tbody tr th {\n",
       "        vertical-align: top;\n",
       "    }\n",
       "\n",
       "    .dataframe thead th {\n",
       "        text-align: right;\n",
       "    }\n",
       "</style>\n",
       "<table border=\"1\" class=\"dataframe\">\n",
       "  <thead>\n",
       "    <tr style=\"text-align: right;\">\n",
       "      <th></th>\n",
       "      <th>children</th>\n",
       "      <th>days_employed</th>\n",
       "      <th>dob_years</th>\n",
       "      <th>education</th>\n",
       "      <th>education_id</th>\n",
       "      <th>family_status</th>\n",
       "      <th>family_status_id</th>\n",
       "      <th>gender</th>\n",
       "      <th>income_type</th>\n",
       "      <th>debt</th>\n",
       "      <th>total_income</th>\n",
       "      <th>purpose</th>\n",
       "    </tr>\n",
       "  </thead>\n",
       "  <tbody>\n",
       "    <tr>\n",
       "      <th>0</th>\n",
       "      <td>1</td>\n",
       "      <td>-8437.673028</td>\n",
       "      <td>42</td>\n",
       "      <td>высшее</td>\n",
       "      <td>0</td>\n",
       "      <td>женат / замужем</td>\n",
       "      <td>0</td>\n",
       "      <td>F</td>\n",
       "      <td>сотрудник</td>\n",
       "      <td>0</td>\n",
       "      <td>253875.639453</td>\n",
       "      <td>покупка жилья</td>\n",
       "    </tr>\n",
       "    <tr>\n",
       "      <th>1</th>\n",
       "      <td>1</td>\n",
       "      <td>-4024.803754</td>\n",
       "      <td>36</td>\n",
       "      <td>среднее</td>\n",
       "      <td>1</td>\n",
       "      <td>женат / замужем</td>\n",
       "      <td>0</td>\n",
       "      <td>F</td>\n",
       "      <td>сотрудник</td>\n",
       "      <td>0</td>\n",
       "      <td>112080.014102</td>\n",
       "      <td>приобретение автомобиля</td>\n",
       "    </tr>\n",
       "    <tr>\n",
       "      <th>2</th>\n",
       "      <td>0</td>\n",
       "      <td>-5623.422610</td>\n",
       "      <td>33</td>\n",
       "      <td>Среднее</td>\n",
       "      <td>1</td>\n",
       "      <td>женат / замужем</td>\n",
       "      <td>0</td>\n",
       "      <td>M</td>\n",
       "      <td>сотрудник</td>\n",
       "      <td>0</td>\n",
       "      <td>145885.952297</td>\n",
       "      <td>покупка жилья</td>\n",
       "    </tr>\n",
       "    <tr>\n",
       "      <th>3</th>\n",
       "      <td>3</td>\n",
       "      <td>-4124.747207</td>\n",
       "      <td>32</td>\n",
       "      <td>среднее</td>\n",
       "      <td>1</td>\n",
       "      <td>женат / замужем</td>\n",
       "      <td>0</td>\n",
       "      <td>M</td>\n",
       "      <td>сотрудник</td>\n",
       "      <td>0</td>\n",
       "      <td>267628.550329</td>\n",
       "      <td>дополнительное образование</td>\n",
       "    </tr>\n",
       "    <tr>\n",
       "      <th>4</th>\n",
       "      <td>0</td>\n",
       "      <td>340266.072047</td>\n",
       "      <td>53</td>\n",
       "      <td>среднее</td>\n",
       "      <td>1</td>\n",
       "      <td>гражданский брак</td>\n",
       "      <td>1</td>\n",
       "      <td>F</td>\n",
       "      <td>пенсионер</td>\n",
       "      <td>0</td>\n",
       "      <td>158616.077870</td>\n",
       "      <td>сыграть свадьбу</td>\n",
       "    </tr>\n",
       "    <tr>\n",
       "      <th>5</th>\n",
       "      <td>0</td>\n",
       "      <td>-926.185831</td>\n",
       "      <td>27</td>\n",
       "      <td>высшее</td>\n",
       "      <td>0</td>\n",
       "      <td>гражданский брак</td>\n",
       "      <td>1</td>\n",
       "      <td>M</td>\n",
       "      <td>компаньон</td>\n",
       "      <td>0</td>\n",
       "      <td>255763.565419</td>\n",
       "      <td>покупка жилья</td>\n",
       "    </tr>\n",
       "    <tr>\n",
       "      <th>6</th>\n",
       "      <td>0</td>\n",
       "      <td>-2879.202052</td>\n",
       "      <td>43</td>\n",
       "      <td>высшее</td>\n",
       "      <td>0</td>\n",
       "      <td>женат / замужем</td>\n",
       "      <td>0</td>\n",
       "      <td>F</td>\n",
       "      <td>компаньон</td>\n",
       "      <td>0</td>\n",
       "      <td>240525.971920</td>\n",
       "      <td>операции с жильем</td>\n",
       "    </tr>\n",
       "    <tr>\n",
       "      <th>7</th>\n",
       "      <td>0</td>\n",
       "      <td>-152.779569</td>\n",
       "      <td>50</td>\n",
       "      <td>СРЕДНЕЕ</td>\n",
       "      <td>1</td>\n",
       "      <td>женат / замужем</td>\n",
       "      <td>0</td>\n",
       "      <td>M</td>\n",
       "      <td>сотрудник</td>\n",
       "      <td>0</td>\n",
       "      <td>135823.934197</td>\n",
       "      <td>образование</td>\n",
       "    </tr>\n",
       "    <tr>\n",
       "      <th>8</th>\n",
       "      <td>2</td>\n",
       "      <td>-6929.865299</td>\n",
       "      <td>35</td>\n",
       "      <td>ВЫСШЕЕ</td>\n",
       "      <td>0</td>\n",
       "      <td>гражданский брак</td>\n",
       "      <td>1</td>\n",
       "      <td>F</td>\n",
       "      <td>сотрудник</td>\n",
       "      <td>0</td>\n",
       "      <td>95856.832424</td>\n",
       "      <td>на проведение свадьбы</td>\n",
       "    </tr>\n",
       "    <tr>\n",
       "      <th>9</th>\n",
       "      <td>0</td>\n",
       "      <td>-2188.756445</td>\n",
       "      <td>41</td>\n",
       "      <td>среднее</td>\n",
       "      <td>1</td>\n",
       "      <td>женат / замужем</td>\n",
       "      <td>0</td>\n",
       "      <td>M</td>\n",
       "      <td>сотрудник</td>\n",
       "      <td>0</td>\n",
       "      <td>144425.938277</td>\n",
       "      <td>покупка жилья для семьи</td>\n",
       "    </tr>\n",
       "  </tbody>\n",
       "</table>\n",
       "</div>"
      ],
      "text/plain": [
       "   children  days_employed  dob_years education  education_id  \\\n",
       "0         1   -8437.673028         42    высшее             0   \n",
       "1         1   -4024.803754         36   среднее             1   \n",
       "2         0   -5623.422610         33   Среднее             1   \n",
       "3         3   -4124.747207         32   среднее             1   \n",
       "4         0  340266.072047         53   среднее             1   \n",
       "5         0    -926.185831         27    высшее             0   \n",
       "6         0   -2879.202052         43    высшее             0   \n",
       "7         0    -152.779569         50   СРЕДНЕЕ             1   \n",
       "8         2   -6929.865299         35    ВЫСШЕЕ             0   \n",
       "9         0   -2188.756445         41   среднее             1   \n",
       "\n",
       "      family_status  family_status_id gender income_type  debt   total_income  \\\n",
       "0   женат / замужем                 0      F   сотрудник     0  253875.639453   \n",
       "1   женат / замужем                 0      F   сотрудник     0  112080.014102   \n",
       "2   женат / замужем                 0      M   сотрудник     0  145885.952297   \n",
       "3   женат / замужем                 0      M   сотрудник     0  267628.550329   \n",
       "4  гражданский брак                 1      F   пенсионер     0  158616.077870   \n",
       "5  гражданский брак                 1      M   компаньон     0  255763.565419   \n",
       "6   женат / замужем                 0      F   компаньон     0  240525.971920   \n",
       "7   женат / замужем                 0      M   сотрудник     0  135823.934197   \n",
       "8  гражданский брак                 1      F   сотрудник     0   95856.832424   \n",
       "9   женат / замужем                 0      M   сотрудник     0  144425.938277   \n",
       "\n",
       "                      purpose  \n",
       "0               покупка жилья  \n",
       "1     приобретение автомобиля  \n",
       "2               покупка жилья  \n",
       "3  дополнительное образование  \n",
       "4             сыграть свадьбу  \n",
       "5               покупка жилья  \n",
       "6           операции с жильем  \n",
       "7                 образование  \n",
       "8       на проведение свадьбы  \n",
       "9     покупка жилья для семьи  "
      ]
     },
     "execution_count": 1,
     "metadata": {},
     "output_type": "execute_result"
    }
   ],
   "source": [
    "import pandas as pd\n",
    "df = pd.read_csv('data.csv')\n",
    "df.info()\n",
    "df.head(10)"
   ]
  },
  {
   "cell_type": "markdown",
   "id": "92ab8404",
   "metadata": {},
   "source": [
    "Датасет состоит из 12 колонок и 21525 строк."
   ]
  },
  {
   "cell_type": "markdown",
   "id": "032df7c2",
   "metadata": {},
   "source": [
    "### Шаг 2.1 Заполнение пропусков"
   ]
  },
  {
   "cell_type": "code",
   "execution_count": 2,
   "id": "17a6bfed",
   "metadata": {},
   "outputs": [
    {
     "data": {
      "text/plain": [
       "children               0\n",
       "days_employed       2174\n",
       "dob_years              0\n",
       "education              0\n",
       "education_id           0\n",
       "family_status          0\n",
       "family_status_id       0\n",
       "gender                 0\n",
       "income_type            0\n",
       "debt                   0\n",
       "total_income        2174\n",
       "purpose                0\n",
       "dtype: int64"
      ]
     },
     "metadata": {},
     "output_type": "display_data"
    },
    {
     "name": "stdout",
     "output_type": "stream",
     "text": [
      "Количество пропусков в days_employed: 2174\n"
     ]
    },
    {
     "data": {
      "text/html": [
       "<div>\n",
       "<style scoped>\n",
       "    .dataframe tbody tr th:only-of-type {\n",
       "        vertical-align: middle;\n",
       "    }\n",
       "\n",
       "    .dataframe tbody tr th {\n",
       "        vertical-align: top;\n",
       "    }\n",
       "\n",
       "    .dataframe thead th {\n",
       "        text-align: right;\n",
       "    }\n",
       "</style>\n",
       "<table border=\"1\" class=\"dataframe\">\n",
       "  <thead>\n",
       "    <tr style=\"text-align: right;\">\n",
       "      <th></th>\n",
       "      <th>children</th>\n",
       "      <th>days_employed</th>\n",
       "      <th>dob_years</th>\n",
       "      <th>education</th>\n",
       "      <th>education_id</th>\n",
       "      <th>family_status</th>\n",
       "      <th>family_status_id</th>\n",
       "      <th>gender</th>\n",
       "      <th>income_type</th>\n",
       "      <th>debt</th>\n",
       "      <th>total_income</th>\n",
       "      <th>purpose</th>\n",
       "    </tr>\n",
       "  </thead>\n",
       "  <tbody>\n",
       "    <tr>\n",
       "      <th>12</th>\n",
       "      <td>0</td>\n",
       "      <td>NaN</td>\n",
       "      <td>65</td>\n",
       "      <td>среднее</td>\n",
       "      <td>1</td>\n",
       "      <td>гражданский брак</td>\n",
       "      <td>1</td>\n",
       "      <td>M</td>\n",
       "      <td>пенсионер</td>\n",
       "      <td>0</td>\n",
       "      <td>NaN</td>\n",
       "      <td>сыграть свадьбу</td>\n",
       "    </tr>\n",
       "    <tr>\n",
       "      <th>26</th>\n",
       "      <td>0</td>\n",
       "      <td>NaN</td>\n",
       "      <td>41</td>\n",
       "      <td>среднее</td>\n",
       "      <td>1</td>\n",
       "      <td>женат / замужем</td>\n",
       "      <td>0</td>\n",
       "      <td>M</td>\n",
       "      <td>госслужащий</td>\n",
       "      <td>0</td>\n",
       "      <td>NaN</td>\n",
       "      <td>образование</td>\n",
       "    </tr>\n",
       "    <tr>\n",
       "      <th>29</th>\n",
       "      <td>0</td>\n",
       "      <td>NaN</td>\n",
       "      <td>63</td>\n",
       "      <td>среднее</td>\n",
       "      <td>1</td>\n",
       "      <td>Не женат / не замужем</td>\n",
       "      <td>4</td>\n",
       "      <td>F</td>\n",
       "      <td>пенсионер</td>\n",
       "      <td>0</td>\n",
       "      <td>NaN</td>\n",
       "      <td>строительство жилой недвижимости</td>\n",
       "    </tr>\n",
       "    <tr>\n",
       "      <th>41</th>\n",
       "      <td>0</td>\n",
       "      <td>NaN</td>\n",
       "      <td>50</td>\n",
       "      <td>среднее</td>\n",
       "      <td>1</td>\n",
       "      <td>женат / замужем</td>\n",
       "      <td>0</td>\n",
       "      <td>F</td>\n",
       "      <td>госслужащий</td>\n",
       "      <td>0</td>\n",
       "      <td>NaN</td>\n",
       "      <td>сделка с подержанным автомобилем</td>\n",
       "    </tr>\n",
       "    <tr>\n",
       "      <th>55</th>\n",
       "      <td>0</td>\n",
       "      <td>NaN</td>\n",
       "      <td>54</td>\n",
       "      <td>среднее</td>\n",
       "      <td>1</td>\n",
       "      <td>гражданский брак</td>\n",
       "      <td>1</td>\n",
       "      <td>F</td>\n",
       "      <td>пенсионер</td>\n",
       "      <td>1</td>\n",
       "      <td>NaN</td>\n",
       "      <td>сыграть свадьбу</td>\n",
       "    </tr>\n",
       "  </tbody>\n",
       "</table>\n",
       "</div>"
      ],
      "text/plain": [
       "    children  days_employed  dob_years education  education_id  \\\n",
       "12         0            NaN         65   среднее             1   \n",
       "26         0            NaN         41   среднее             1   \n",
       "29         0            NaN         63   среднее             1   \n",
       "41         0            NaN         50   среднее             1   \n",
       "55         0            NaN         54   среднее             1   \n",
       "\n",
       "            family_status  family_status_id gender  income_type  debt  \\\n",
       "12       гражданский брак                 1      M    пенсионер     0   \n",
       "26        женат / замужем                 0      M  госслужащий     0   \n",
       "29  Не женат / не замужем                 4      F    пенсионер     0   \n",
       "41        женат / замужем                 0      F  госслужащий     0   \n",
       "55       гражданский брак                 1      F    пенсионер     1   \n",
       "\n",
       "    total_income                           purpose  \n",
       "12           NaN                   сыграть свадьбу  \n",
       "26           NaN                       образование  \n",
       "29           NaN  строительство жилой недвижимости  \n",
       "41           NaN  сделка с подержанным автомобилем  \n",
       "55           NaN                   сыграть свадьбу  "
      ]
     },
     "metadata": {},
     "output_type": "display_data"
    },
    {
     "name": "stdout",
     "output_type": "stream",
     "text": [
      "Количество пропусков в total_income: 2174\n"
     ]
    },
    {
     "data": {
      "text/html": [
       "<div>\n",
       "<style scoped>\n",
       "    .dataframe tbody tr th:only-of-type {\n",
       "        vertical-align: middle;\n",
       "    }\n",
       "\n",
       "    .dataframe tbody tr th {\n",
       "        vertical-align: top;\n",
       "    }\n",
       "\n",
       "    .dataframe thead th {\n",
       "        text-align: right;\n",
       "    }\n",
       "</style>\n",
       "<table border=\"1\" class=\"dataframe\">\n",
       "  <thead>\n",
       "    <tr style=\"text-align: right;\">\n",
       "      <th></th>\n",
       "      <th>children</th>\n",
       "      <th>days_employed</th>\n",
       "      <th>dob_years</th>\n",
       "      <th>education</th>\n",
       "      <th>education_id</th>\n",
       "      <th>family_status</th>\n",
       "      <th>family_status_id</th>\n",
       "      <th>gender</th>\n",
       "      <th>income_type</th>\n",
       "      <th>debt</th>\n",
       "      <th>total_income</th>\n",
       "      <th>purpose</th>\n",
       "    </tr>\n",
       "  </thead>\n",
       "  <tbody>\n",
       "    <tr>\n",
       "      <th>12</th>\n",
       "      <td>0</td>\n",
       "      <td>NaN</td>\n",
       "      <td>65</td>\n",
       "      <td>среднее</td>\n",
       "      <td>1</td>\n",
       "      <td>гражданский брак</td>\n",
       "      <td>1</td>\n",
       "      <td>M</td>\n",
       "      <td>пенсионер</td>\n",
       "      <td>0</td>\n",
       "      <td>NaN</td>\n",
       "      <td>сыграть свадьбу</td>\n",
       "    </tr>\n",
       "    <tr>\n",
       "      <th>26</th>\n",
       "      <td>0</td>\n",
       "      <td>NaN</td>\n",
       "      <td>41</td>\n",
       "      <td>среднее</td>\n",
       "      <td>1</td>\n",
       "      <td>женат / замужем</td>\n",
       "      <td>0</td>\n",
       "      <td>M</td>\n",
       "      <td>госслужащий</td>\n",
       "      <td>0</td>\n",
       "      <td>NaN</td>\n",
       "      <td>образование</td>\n",
       "    </tr>\n",
       "    <tr>\n",
       "      <th>29</th>\n",
       "      <td>0</td>\n",
       "      <td>NaN</td>\n",
       "      <td>63</td>\n",
       "      <td>среднее</td>\n",
       "      <td>1</td>\n",
       "      <td>Не женат / не замужем</td>\n",
       "      <td>4</td>\n",
       "      <td>F</td>\n",
       "      <td>пенсионер</td>\n",
       "      <td>0</td>\n",
       "      <td>NaN</td>\n",
       "      <td>строительство жилой недвижимости</td>\n",
       "    </tr>\n",
       "    <tr>\n",
       "      <th>41</th>\n",
       "      <td>0</td>\n",
       "      <td>NaN</td>\n",
       "      <td>50</td>\n",
       "      <td>среднее</td>\n",
       "      <td>1</td>\n",
       "      <td>женат / замужем</td>\n",
       "      <td>0</td>\n",
       "      <td>F</td>\n",
       "      <td>госслужащий</td>\n",
       "      <td>0</td>\n",
       "      <td>NaN</td>\n",
       "      <td>сделка с подержанным автомобилем</td>\n",
       "    </tr>\n",
       "    <tr>\n",
       "      <th>55</th>\n",
       "      <td>0</td>\n",
       "      <td>NaN</td>\n",
       "      <td>54</td>\n",
       "      <td>среднее</td>\n",
       "      <td>1</td>\n",
       "      <td>гражданский брак</td>\n",
       "      <td>1</td>\n",
       "      <td>F</td>\n",
       "      <td>пенсионер</td>\n",
       "      <td>1</td>\n",
       "      <td>NaN</td>\n",
       "      <td>сыграть свадьбу</td>\n",
       "    </tr>\n",
       "  </tbody>\n",
       "</table>\n",
       "</div>"
      ],
      "text/plain": [
       "    children  days_employed  dob_years education  education_id  \\\n",
       "12         0            NaN         65   среднее             1   \n",
       "26         0            NaN         41   среднее             1   \n",
       "29         0            NaN         63   среднее             1   \n",
       "41         0            NaN         50   среднее             1   \n",
       "55         0            NaN         54   среднее             1   \n",
       "\n",
       "            family_status  family_status_id gender  income_type  debt  \\\n",
       "12       гражданский брак                 1      M    пенсионер     0   \n",
       "26        женат / замужем                 0      M  госслужащий     0   \n",
       "29  Не женат / не замужем                 4      F    пенсионер     0   \n",
       "41        женат / замужем                 0      F  госслужащий     0   \n",
       "55       гражданский брак                 1      F    пенсионер     1   \n",
       "\n",
       "    total_income                           purpose  \n",
       "12           NaN                   сыграть свадьбу  \n",
       "26           NaN                       образование  \n",
       "29           NaN  строительство жилой недвижимости  \n",
       "41           NaN  сделка с подержанным автомобилем  \n",
       "55           NaN                   сыграть свадьбу  "
      ]
     },
     "metadata": {},
     "output_type": "display_data"
    },
    {
     "data": {
      "image/png": "[encoded data removed]",
      "text/plain": [
       "<Figure size 360x360 with 1 Axes>"
      ]
     },
     "metadata": {
      "needs_background": "light"
     },
     "output_type": "display_data"
    },
    {
     "data": {
      "image/png": "[encoded data removed]",
      "text/plain": [
       "<Figure size 360x360 with 1 Axes>"
      ]
     },
     "metadata": {
      "needs_background": "light"
     },
     "output_type": "display_data"
    }
   ],
   "source": [
    "# подсчёт пропусков\n",
    "display(df.isna().sum())\n",
    "\n",
    "import seaborn as sns\n",
    "\n",
    "print('Количество пропусков в days_employed:', len(df[df['days_employed'].isna()]))\n",
    "display(df[df['days_employed'].isna()].head())\n",
    "sns_plot = sns.displot(df['days_employed'])\n",
    "\n",
    "print('Количество пропусков в total_income:', len(df[df['total_income'].isna()]))\n",
    "display(df[df['total_income'].isna()].head())\n",
    "sns_plot = sns.displot(df['total_income'])"
   ]
  },
  {
   "cell_type": "markdown",
   "id": "ce3545c9",
   "metadata": {},
   "source": [
    "Обнаружены пропуски в колонках `days_employed` и `total_income`, это количественные данные, они\n",
    "не влияют на результаты проверки гипотезы, указанной в задаче, но могут пригодиться для решения задачи \"вокруг\". Однако, простое удаление этих строк может лишить важной порции данных. Вероятно, пропуски связаны с тем, что эти данные исходно не указаны для гос.служащих и пенсионеров. Пропущенные `days_employed` будут заменены на следующем этапе, `total_income` заполним медианным значением, т.к. разброс данных в этой колонке большой и распределение значений не является нормальным.         \n",
    "\n",
    "Доля пропущенных значений:\n",
    "* в столбце `days_employed` : 2174 / 21525 * 100% = 10%\n",
    "* в столбце `total_income` : 2174 / 21525 * 100% = 10%"
   ]
  },
  {
   "cell_type": "code",
   "execution_count": 3,
   "id": "023e6863",
   "metadata": {},
   "outputs": [
    {
     "data": {
      "text/plain": [
       "children               0\n",
       "days_employed       2174\n",
       "dob_years              0\n",
       "education              0\n",
       "education_id           0\n",
       "family_status          0\n",
       "family_status_id       0\n",
       "gender                 0\n",
       "income_type            0\n",
       "debt                   0\n",
       "total_income           0\n",
       "purpose                0\n",
       "dtype: int64"
      ]
     },
     "metadata": {},
     "output_type": "display_data"
    }
   ],
   "source": [
    "#заполнение медианой выборки с заполненными значениями total_income и проверка\n",
    "median_value = df[~(df['total_income'].isna())]['total_income'].median()   \n",
    "df['total_income'] = df['total_income'].fillna(median_value)\n",
    "display(df.isna().sum())"
   ]
  },
  {
   "cell_type": "markdown",
   "id": "c7582330",
   "metadata": {},
   "source": [
    "### Шаг 2.2 Проверка данных на аномалии и исправления."
   ]
  },
  {
   "cell_type": "code",
   "execution_count": 4,
   "id": "01cba243",
   "metadata": {
    "scrolled": true
   },
   "outputs": [
    {
     "data": {
      "text/plain": [
       "'Количество дней трудового стажа меньше 0 или больше возраста:'"
      ]
     },
     "metadata": {},
     "output_type": "display_data"
    },
    {
     "data": {
      "text/plain": [
       "19351"
      ]
     },
     "metadata": {},
     "output_type": "display_data"
    },
    {
     "data": {
      "text/plain": [
       "'Доход меньше 0 или больше 10 000 0000:'"
      ]
     },
     "metadata": {},
     "output_type": "display_data"
    },
    {
     "data": {
      "text/plain": [
       "0"
      ]
     },
     "metadata": {},
     "output_type": "display_data"
    },
    {
     "data": {
      "text/plain": [
       "'Возраст меньше 0 или больше 100:'"
      ]
     },
     "metadata": {},
     "output_type": "display_data"
    },
    {
     "data": {
      "text/plain": [
       "0"
      ]
     },
     "metadata": {},
     "output_type": "display_data"
    },
    {
     "data": {
      "text/plain": [
       "'children'"
      ]
     },
     "metadata": {},
     "output_type": "display_data"
    },
    {
     "data": {
      "text/plain": [
       "[-1, 0, 1, 2, 3, 4, 5, 20]"
      ]
     },
     "metadata": {},
     "output_type": "display_data"
    },
    {
     "data": {
      "text/plain": [
       "'education'"
      ]
     },
     "metadata": {},
     "output_type": "display_data"
    },
    {
     "data": {
      "text/plain": [
       "['ВЫСШЕЕ',\n",
       " 'Высшее',\n",
       " 'НАЧАЛЬНОЕ',\n",
       " 'НЕОКОНЧЕННОЕ ВЫСШЕЕ',\n",
       " 'Начальное',\n",
       " 'Неоконченное высшее',\n",
       " 'СРЕДНЕЕ',\n",
       " 'Среднее',\n",
       " 'УЧЕНАЯ СТЕПЕНЬ',\n",
       " 'Ученая степень',\n",
       " 'высшее',\n",
       " 'начальное',\n",
       " 'неоконченное высшее',\n",
       " 'среднее',\n",
       " 'ученая степень']"
      ]
     },
     "metadata": {},
     "output_type": "display_data"
    },
    {
     "data": {
      "text/plain": [
       "'education_id'"
      ]
     },
     "metadata": {},
     "output_type": "display_data"
    },
    {
     "data": {
      "text/plain": [
       "[0, 1, 2, 3, 4]"
      ]
     },
     "metadata": {},
     "output_type": "display_data"
    },
    {
     "data": {
      "text/plain": [
       "'family_status'"
      ]
     },
     "metadata": {},
     "output_type": "display_data"
    },
    {
     "data": {
      "text/plain": [
       "['Не женат / не замужем',\n",
       " 'в разводе',\n",
       " 'вдовец / вдова',\n",
       " 'гражданский брак',\n",
       " 'женат / замужем']"
      ]
     },
     "metadata": {},
     "output_type": "display_data"
    },
    {
     "data": {
      "text/plain": [
       "'family_status_id'"
      ]
     },
     "metadata": {},
     "output_type": "display_data"
    },
    {
     "data": {
      "text/plain": [
       "[0, 1, 2, 3, 4]"
      ]
     },
     "metadata": {},
     "output_type": "display_data"
    },
    {
     "data": {
      "text/plain": [
       "'gender'"
      ]
     },
     "metadata": {},
     "output_type": "display_data"
    },
    {
     "data": {
      "text/plain": [
       "['F', 'M', 'XNA']"
      ]
     },
     "metadata": {},
     "output_type": "display_data"
    },
    {
     "data": {
      "text/plain": [
       "'income_type'"
      ]
     },
     "metadata": {},
     "output_type": "display_data"
    },
    {
     "data": {
      "text/plain": [
       "['безработный',\n",
       " 'в декрете',\n",
       " 'госслужащий',\n",
       " 'компаньон',\n",
       " 'пенсионер',\n",
       " 'предприниматель',\n",
       " 'сотрудник',\n",
       " 'студент']"
      ]
     },
     "metadata": {},
     "output_type": "display_data"
    },
    {
     "data": {
      "text/plain": [
       "'debt'"
      ]
     },
     "metadata": {},
     "output_type": "display_data"
    },
    {
     "data": {
      "text/plain": [
       "[0, 1]"
      ]
     },
     "metadata": {},
     "output_type": "display_data"
    },
    {
     "data": {
      "text/plain": [
       "'purpose'"
      ]
     },
     "metadata": {},
     "output_type": "display_data"
    },
    {
     "data": {
      "text/plain": [
       "['автомобили',\n",
       " 'автомобиль',\n",
       " 'высшее образование',\n",
       " 'дополнительное образование',\n",
       " 'жилье',\n",
       " 'заняться высшим образованием',\n",
       " 'заняться образованием',\n",
       " 'на покупку автомобиля',\n",
       " 'на покупку подержанного автомобиля',\n",
       " 'на покупку своего автомобиля',\n",
       " 'на проведение свадьбы',\n",
       " 'недвижимость',\n",
       " 'образование',\n",
       " 'операции с жильем',\n",
       " 'операции с коммерческой недвижимостью',\n",
       " 'операции с недвижимостью',\n",
       " 'операции со своей недвижимостью',\n",
       " 'покупка жилой недвижимости',\n",
       " 'покупка жилья',\n",
       " 'покупка жилья для сдачи',\n",
       " 'покупка жилья для семьи',\n",
       " 'покупка коммерческой недвижимости',\n",
       " 'покупка недвижимости',\n",
       " 'покупка своего жилья',\n",
       " 'получение высшего образования',\n",
       " 'получение дополнительного образования',\n",
       " 'получение образования',\n",
       " 'приобретение автомобиля',\n",
       " 'профильное образование',\n",
       " 'ремонт жилью',\n",
       " 'свадьба',\n",
       " 'свой автомобиль',\n",
       " 'сделка с автомобилем',\n",
       " 'сделка с подержанным автомобилем',\n",
       " 'строительство жилой недвижимости',\n",
       " 'строительство недвижимости',\n",
       " 'строительство собственной недвижимости',\n",
       " 'сыграть свадьбу']"
      ]
     },
     "metadata": {},
     "output_type": "display_data"
    }
   ],
   "source": [
    "#количество дней трудового стажа меньше 0 или больше возраста\n",
    "df_anomaly = df[(df['days_employed'] < 0) | (df['days_employed'] > df['dob_years']*356)]\n",
    "display('Количество дней трудового стажа меньше 0 или больше возраста:', len(df_anomaly))\n",
    "\n",
    "#доход меньше 0 или больше 10 000 0000\n",
    "df_anomaly = df[(df['total_income'] < 0) | (df['total_income'] > 100000000) ]\n",
    "display('Доход меньше 0 или больше 10 000 0000:', len(df_anomaly))\n",
    "\n",
    "#возраст меньше 0 или больше 100\n",
    "df_anomaly = df[(df['dob_years'] < 0) | (df['dob_years'] > 100)]\n",
    "display('Возраст меньше 0 или больше 100:', len(df_anomaly))\n",
    "\n",
    "df.head()\n",
    "#уникальные записи в остальных колонках\n",
    "def print_unique(col_name):\n",
    "    display(col_name)\n",
    "    display(sorted(df[col_name].unique()))\n",
    "\n",
    "print_unique('children')\n",
    "print_unique('education')\n",
    "print_unique('education_id')\n",
    "print_unique('family_status')\n",
    "print_unique('family_status_id')\n",
    "print_unique('gender')\n",
    "print_unique('income_type')\n",
    "print_unique('debt')\n",
    "print_unique('purpose')"
   ]
  },
  {
   "cell_type": "markdown",
   "id": "5a6f6ec0",
   "metadata": {},
   "source": [
    "Аномалии встречаются в колонках `days_employed` , `children` , `gender`. Явные дубли в колонке , неявные дубли в колонке `purpose`. В колонках `family_status` и `education` нужно привести все значения к нижнему регистру.\n",
    "\n",
    "Судя по количеству строк с аномальными значениями в `days_employed` 19351 и строк с пустыми значениями в этой колонке 2174 все строки данной колонки являются некорректными. Однако ни для проверки основной гипотезы, ни для ответов на дальнейшие вопросы количество дней трудового стажа не нужно. Поэтому, удалим эту колонку из датасета. Колонку `gender` также можно удалить по этой причине.\n",
    "\n",
    "Отрицательные значения в `children` заменим на 0, число детей 20 кажется ошибочным, лучше эти строки удалить."
   ]
  },
  {
   "cell_type": "code",
   "execution_count": 5,
   "id": "a4d0e8c5",
   "metadata": {},
   "outputs": [
    {
     "data": {
      "text/plain": [
       "47"
      ]
     },
     "execution_count": 5,
     "metadata": {},
     "output_type": "execute_result"
    }
   ],
   "source": [
    "len(df[df['children'] == -1])"
   ]
  },
  {
   "cell_type": "code",
   "execution_count": 6,
   "id": "5e0e44cf",
   "metadata": {
    "scrolled": false
   },
   "outputs": [
    {
     "data": {
      "text/html": [
       "<div>\n",
       "<style scoped>\n",
       "    .dataframe tbody tr th:only-of-type {\n",
       "        vertical-align: middle;\n",
       "    }\n",
       "\n",
       "    .dataframe tbody tr th {\n",
       "        vertical-align: top;\n",
       "    }\n",
       "\n",
       "    .dataframe thead th {\n",
       "        text-align: right;\n",
       "    }\n",
       "</style>\n",
       "<table border=\"1\" class=\"dataframe\">\n",
       "  <thead>\n",
       "    <tr style=\"text-align: right;\">\n",
       "      <th></th>\n",
       "      <th>children</th>\n",
       "      <th>dob_years</th>\n",
       "      <th>education</th>\n",
       "      <th>education_id</th>\n",
       "      <th>family_status</th>\n",
       "      <th>family_status_id</th>\n",
       "      <th>income_type</th>\n",
       "      <th>debt</th>\n",
       "      <th>total_income</th>\n",
       "      <th>purpose</th>\n",
       "    </tr>\n",
       "  </thead>\n",
       "  <tbody>\n",
       "    <tr>\n",
       "      <th>0</th>\n",
       "      <td>1</td>\n",
       "      <td>42</td>\n",
       "      <td>высшее</td>\n",
       "      <td>0</td>\n",
       "      <td>женат / замужем</td>\n",
       "      <td>0</td>\n",
       "      <td>сотрудник</td>\n",
       "      <td>0</td>\n",
       "      <td>253875.639453</td>\n",
       "      <td>покупка жилья</td>\n",
       "    </tr>\n",
       "    <tr>\n",
       "      <th>1</th>\n",
       "      <td>1</td>\n",
       "      <td>36</td>\n",
       "      <td>среднее</td>\n",
       "      <td>1</td>\n",
       "      <td>женат / замужем</td>\n",
       "      <td>0</td>\n",
       "      <td>сотрудник</td>\n",
       "      <td>0</td>\n",
       "      <td>112080.014102</td>\n",
       "      <td>приобретение автомобиля</td>\n",
       "    </tr>\n",
       "    <tr>\n",
       "      <th>2</th>\n",
       "      <td>0</td>\n",
       "      <td>33</td>\n",
       "      <td>Среднее</td>\n",
       "      <td>1</td>\n",
       "      <td>женат / замужем</td>\n",
       "      <td>0</td>\n",
       "      <td>сотрудник</td>\n",
       "      <td>0</td>\n",
       "      <td>145885.952297</td>\n",
       "      <td>покупка жилья</td>\n",
       "    </tr>\n",
       "    <tr>\n",
       "      <th>3</th>\n",
       "      <td>3</td>\n",
       "      <td>32</td>\n",
       "      <td>среднее</td>\n",
       "      <td>1</td>\n",
       "      <td>женат / замужем</td>\n",
       "      <td>0</td>\n",
       "      <td>сотрудник</td>\n",
       "      <td>0</td>\n",
       "      <td>267628.550329</td>\n",
       "      <td>дополнительное образование</td>\n",
       "    </tr>\n",
       "    <tr>\n",
       "      <th>4</th>\n",
       "      <td>0</td>\n",
       "      <td>53</td>\n",
       "      <td>среднее</td>\n",
       "      <td>1</td>\n",
       "      <td>гражданский брак</td>\n",
       "      <td>1</td>\n",
       "      <td>пенсионер</td>\n",
       "      <td>0</td>\n",
       "      <td>158616.077870</td>\n",
       "      <td>сыграть свадьбу</td>\n",
       "    </tr>\n",
       "    <tr>\n",
       "      <th>...</th>\n",
       "      <td>...</td>\n",
       "      <td>...</td>\n",
       "      <td>...</td>\n",
       "      <td>...</td>\n",
       "      <td>...</td>\n",
       "      <td>...</td>\n",
       "      <td>...</td>\n",
       "      <td>...</td>\n",
       "      <td>...</td>\n",
       "      <td>...</td>\n",
       "    </tr>\n",
       "    <tr>\n",
       "      <th>21520</th>\n",
       "      <td>1</td>\n",
       "      <td>43</td>\n",
       "      <td>среднее</td>\n",
       "      <td>1</td>\n",
       "      <td>гражданский брак</td>\n",
       "      <td>1</td>\n",
       "      <td>компаньон</td>\n",
       "      <td>0</td>\n",
       "      <td>224791.862382</td>\n",
       "      <td>операции с жильем</td>\n",
       "    </tr>\n",
       "    <tr>\n",
       "      <th>21521</th>\n",
       "      <td>0</td>\n",
       "      <td>67</td>\n",
       "      <td>среднее</td>\n",
       "      <td>1</td>\n",
       "      <td>женат / замужем</td>\n",
       "      <td>0</td>\n",
       "      <td>пенсионер</td>\n",
       "      <td>0</td>\n",
       "      <td>155999.806512</td>\n",
       "      <td>сделка с автомобилем</td>\n",
       "    </tr>\n",
       "    <tr>\n",
       "      <th>21522</th>\n",
       "      <td>1</td>\n",
       "      <td>38</td>\n",
       "      <td>среднее</td>\n",
       "      <td>1</td>\n",
       "      <td>гражданский брак</td>\n",
       "      <td>1</td>\n",
       "      <td>сотрудник</td>\n",
       "      <td>1</td>\n",
       "      <td>89672.561153</td>\n",
       "      <td>недвижимость</td>\n",
       "    </tr>\n",
       "    <tr>\n",
       "      <th>21523</th>\n",
       "      <td>3</td>\n",
       "      <td>38</td>\n",
       "      <td>среднее</td>\n",
       "      <td>1</td>\n",
       "      <td>женат / замужем</td>\n",
       "      <td>0</td>\n",
       "      <td>сотрудник</td>\n",
       "      <td>1</td>\n",
       "      <td>244093.050500</td>\n",
       "      <td>на покупку своего автомобиля</td>\n",
       "    </tr>\n",
       "    <tr>\n",
       "      <th>21524</th>\n",
       "      <td>2</td>\n",
       "      <td>40</td>\n",
       "      <td>среднее</td>\n",
       "      <td>1</td>\n",
       "      <td>женат / замужем</td>\n",
       "      <td>0</td>\n",
       "      <td>сотрудник</td>\n",
       "      <td>0</td>\n",
       "      <td>82047.418899</td>\n",
       "      <td>на покупку автомобиля</td>\n",
       "    </tr>\n",
       "  </tbody>\n",
       "</table>\n",
       "<p>21449 rows × 10 columns</p>\n",
       "</div>"
      ],
      "text/plain": [
       "       children  dob_years education  education_id     family_status  \\\n",
       "0             1         42    высшее             0   женат / замужем   \n",
       "1             1         36   среднее             1   женат / замужем   \n",
       "2             0         33   Среднее             1   женат / замужем   \n",
       "3             3         32   среднее             1   женат / замужем   \n",
       "4             0         53   среднее             1  гражданский брак   \n",
       "...         ...        ...       ...           ...               ...   \n",
       "21520         1         43   среднее             1  гражданский брак   \n",
       "21521         0         67   среднее             1   женат / замужем   \n",
       "21522         1         38   среднее             1  гражданский брак   \n",
       "21523         3         38   среднее             1   женат / замужем   \n",
       "21524         2         40   среднее             1   женат / замужем   \n",
       "\n",
       "       family_status_id income_type  debt   total_income  \\\n",
       "0                     0   сотрудник     0  253875.639453   \n",
       "1                     0   сотрудник     0  112080.014102   \n",
       "2                     0   сотрудник     0  145885.952297   \n",
       "3                     0   сотрудник     0  267628.550329   \n",
       "4                     1   пенсионер     0  158616.077870   \n",
       "...                 ...         ...   ...            ...   \n",
       "21520                 1   компаньон     0  224791.862382   \n",
       "21521                 0   пенсионер     0  155999.806512   \n",
       "21522                 1   сотрудник     1   89672.561153   \n",
       "21523                 0   сотрудник     1  244093.050500   \n",
       "21524                 0   сотрудник     0   82047.418899   \n",
       "\n",
       "                            purpose  \n",
       "0                     покупка жилья  \n",
       "1           приобретение автомобиля  \n",
       "2                     покупка жилья  \n",
       "3        дополнительное образование  \n",
       "4                   сыграть свадьбу  \n",
       "...                             ...  \n",
       "21520             операции с жильем  \n",
       "21521          сделка с автомобилем  \n",
       "21522                  недвижимость  \n",
       "21523  на покупку своего автомобиля  \n",
       "21524         на покупку автомобиля  \n",
       "\n",
       "[21449 rows x 10 columns]"
      ]
     },
     "metadata": {},
     "output_type": "display_data"
    }
   ],
   "source": [
    "#Обработка аномалий\n",
    "\n",
    "df = df.drop(columns=['days_employed', 'gender'])\n",
    "df.loc[df['children'] < 0, 'children'] = 0\n",
    "df = df.drop(df[df['children'] == 20].index)\n",
    "display(df)\n"
   ]
  },
  {
   "cell_type": "markdown",
   "id": "1e7d7005",
   "metadata": {},
   "source": [
    "### Шаг 2.3. Изменение типов данных."
   ]
  },
  {
   "cell_type": "code",
   "execution_count": 7,
   "id": "3e85599b",
   "metadata": {
    "scrolled": true
   },
   "outputs": [
    {
     "name": "stdout",
     "output_type": "stream",
     "text": [
      "<class 'pandas.core.frame.DataFrame'>\n",
      "Int64Index: 21449 entries, 0 to 21524\n",
      "Data columns (total 10 columns):\n",
      " #   Column            Non-Null Count  Dtype \n",
      "---  ------            --------------  ----- \n",
      " 0   children          21449 non-null  int64 \n",
      " 1   dob_years         21449 non-null  int64 \n",
      " 2   education         21449 non-null  object\n",
      " 3   education_id      21449 non-null  int64 \n",
      " 4   family_status     21449 non-null  object\n",
      " 5   family_status_id  21449 non-null  int64 \n",
      " 6   income_type       21449 non-null  object\n",
      " 7   debt              21449 non-null  int64 \n",
      " 8   total_income      21449 non-null  int32 \n",
      " 9   purpose           21449 non-null  object\n",
      "dtypes: int32(1), int64(5), object(4)\n",
      "memory usage: 1.7+ MB\n"
     ]
    }
   ],
   "source": [
    "df['total_income'] = df['total_income'].astype('int')\n",
    "df.info()"
   ]
  },
  {
   "cell_type": "markdown",
   "id": "abdcbed7",
   "metadata": {},
   "source": [
    "### Шаг 2.4. Удаление дубликатов.\n",
    "Явные дубликаты могли возникнуть по техническим причинам, неявные - из-за человеческого фактора.\n",
    "Перед удалением дубликатов колонки `education` `family_status` приведем к нижему регистру."
   ]
  },
  {
   "cell_type": "code",
   "execution_count": 8,
   "id": "c3aa66f3",
   "metadata": {},
   "outputs": [
    {
     "data": {
      "text/plain": [
       "array(['автомобиль', 'недвижимость', 'образование', 'свадьба'],\n",
       "      dtype=object)"
      ]
     },
     "metadata": {},
     "output_type": "display_data"
    },
    {
     "data": {
      "text/plain": [
       "575"
      ]
     },
     "metadata": {},
     "output_type": "display_data"
    },
    {
     "data": {
      "text/plain": [
       "0"
      ]
     },
     "metadata": {},
     "output_type": "display_data"
    }
   ],
   "source": [
    "# Устранение неявных дубликатов\n",
    "df['education'] = df['education'].str.lower()\n",
    "df['family_status'] = df['family_status'].str.lower()\n",
    "\n",
    "wrong_values = ['автомобили', \n",
    "                'свой автомобиль', \n",
    "                'сделка с автомобилем', \n",
    "                'на покупку подержанного автомобиля',\n",
    "                'на покупку своего автомобиля',\n",
    "                'на покупку автомобиля',\n",
    "                'приобретение автомобиля',\n",
    "                'сделка с подержанным автомобилем']\n",
    "df['purpose'] = df['purpose'].replace(wrong_values, 'автомобиль')\n",
    "wrong_values  = ['высшее образование',\n",
    "                 'дополнительное образование',\n",
    "                 'заняться высшим образованием',\n",
    "                 'заняться образованием',\n",
    "                 'получение высшего образования',\n",
    "                 'получение дополнительного образования',\n",
    "                 'получение образования',\n",
    "                 'профильное образование'\n",
    "                ]\n",
    "df['purpose'] = df['purpose'].replace(wrong_values, 'образование')\n",
    "\n",
    "wrong_values  = ['жилье',\n",
    "                'операции с жильем',\n",
    "                'операции с коммерческой недвижимостью',\n",
    "                'операции с недвижимостью',\n",
    "                'операции со своей недвижимостью',\n",
    "                'покупка жилой недвижимости',\n",
    "                'покупка жилья',\n",
    "                'покупка жилья для сдачи',\n",
    "                'покупка жилья для семьи',\n",
    "                'покупка коммерческой недвижимости',\n",
    "                'покупка недвижимости',\n",
    "                'покупка своего жилья',\n",
    "                'ремонт жилью',\n",
    "                'сделка с подержанным автомобилем',\n",
    "                'строительство жилой недвижимости',\n",
    "                'строительство недвижимости',\n",
    "                'строительство собственной недвижимости'\n",
    "                ]\n",
    "df['purpose'] = df['purpose'].replace(wrong_values, 'недвижимость')\n",
    "\n",
    "wrong_values  = ['на проведение свадьбы',\n",
    "                 'сыграть свадьбу'\n",
    "                ]\n",
    "df['purpose'] = df['purpose'].replace(wrong_values, 'свадьба')\n",
    "display(df['purpose'].sort_values().unique())\n",
    "\n",
    "# удаление явных дубликатов (с удалением старых индексов и формированием новых)\n",
    "display(df.duplicated().sum())\n",
    "df = df.drop_duplicates().reset_index(drop=True)\n",
    "display(df.duplicated().sum())"
   ]
  },
  {
   "cell_type": "markdown",
   "id": "a8000a06",
   "metadata": {},
   "source": [
    "### Шаг 2.5. Формирование дополнительных датафреймов словарей, декомпозиция исходного датафрейма.\n",
    "\n",
    "Создадим словари для education и family_status"
   ]
  },
  {
   "cell_type": "code",
   "execution_count": 9,
   "id": "8eaec1df",
   "metadata": {},
   "outputs": [
    {
     "data": {
      "text/html": [
       "<div>\n",
       "<style scoped>\n",
       "    .dataframe tbody tr th:only-of-type {\n",
       "        vertical-align: middle;\n",
       "    }\n",
       "\n",
       "    .dataframe tbody tr th {\n",
       "        vertical-align: top;\n",
       "    }\n",
       "\n",
       "    .dataframe thead th {\n",
       "        text-align: right;\n",
       "    }\n",
       "</style>\n",
       "<table border=\"1\" class=\"dataframe\">\n",
       "  <thead>\n",
       "    <tr style=\"text-align: right;\">\n",
       "      <th></th>\n",
       "      <th>education_id</th>\n",
       "      <th>education</th>\n",
       "    </tr>\n",
       "  </thead>\n",
       "  <tbody>\n",
       "    <tr>\n",
       "      <th>0</th>\n",
       "      <td>0</td>\n",
       "      <td>высшее</td>\n",
       "    </tr>\n",
       "    <tr>\n",
       "      <th>1</th>\n",
       "      <td>1</td>\n",
       "      <td>среднее</td>\n",
       "    </tr>\n",
       "    <tr>\n",
       "      <th>2</th>\n",
       "      <td>2</td>\n",
       "      <td>неоконченное высшее</td>\n",
       "    </tr>\n",
       "    <tr>\n",
       "      <th>3</th>\n",
       "      <td>3</td>\n",
       "      <td>начальное</td>\n",
       "    </tr>\n",
       "    <tr>\n",
       "      <th>4</th>\n",
       "      <td>4</td>\n",
       "      <td>ученая степень</td>\n",
       "    </tr>\n",
       "  </tbody>\n",
       "</table>\n",
       "</div>"
      ],
      "text/plain": [
       "   education_id            education\n",
       "0             0               высшее\n",
       "1             1              среднее\n",
       "2             2  неоконченное высшее\n",
       "3             3            начальное\n",
       "4             4       ученая степень"
      ]
     },
     "metadata": {},
     "output_type": "display_data"
    },
    {
     "data": {
      "text/html": [
       "<div>\n",
       "<style scoped>\n",
       "    .dataframe tbody tr th:only-of-type {\n",
       "        vertical-align: middle;\n",
       "    }\n",
       "\n",
       "    .dataframe tbody tr th {\n",
       "        vertical-align: top;\n",
       "    }\n",
       "\n",
       "    .dataframe thead th {\n",
       "        text-align: right;\n",
       "    }\n",
       "</style>\n",
       "<table border=\"1\" class=\"dataframe\">\n",
       "  <thead>\n",
       "    <tr style=\"text-align: right;\">\n",
       "      <th></th>\n",
       "      <th>family_status_id</th>\n",
       "      <th>family_status</th>\n",
       "    </tr>\n",
       "  </thead>\n",
       "  <tbody>\n",
       "    <tr>\n",
       "      <th>0</th>\n",
       "      <td>0</td>\n",
       "      <td>женат / замужем</td>\n",
       "    </tr>\n",
       "    <tr>\n",
       "      <th>1</th>\n",
       "      <td>1</td>\n",
       "      <td>гражданский брак</td>\n",
       "    </tr>\n",
       "    <tr>\n",
       "      <th>2</th>\n",
       "      <td>2</td>\n",
       "      <td>вдовец / вдова</td>\n",
       "    </tr>\n",
       "    <tr>\n",
       "      <th>3</th>\n",
       "      <td>3</td>\n",
       "      <td>в разводе</td>\n",
       "    </tr>\n",
       "    <tr>\n",
       "      <th>4</th>\n",
       "      <td>4</td>\n",
       "      <td>не женат / не замужем</td>\n",
       "    </tr>\n",
       "  </tbody>\n",
       "</table>\n",
       "</div>"
      ],
      "text/plain": [
       "   family_status_id          family_status\n",
       "0                 0        женат / замужем\n",
       "1                 1       гражданский брак\n",
       "2                 2         вдовец / вдова\n",
       "3                 3              в разводе\n",
       "4                 4  не женат / не замужем"
      ]
     },
     "metadata": {},
     "output_type": "display_data"
    },
    {
     "data": {
      "text/html": [
       "<div>\n",
       "<style scoped>\n",
       "    .dataframe tbody tr th:only-of-type {\n",
       "        vertical-align: middle;\n",
       "    }\n",
       "\n",
       "    .dataframe tbody tr th {\n",
       "        vertical-align: top;\n",
       "    }\n",
       "\n",
       "    .dataframe thead th {\n",
       "        text-align: right;\n",
       "    }\n",
       "</style>\n",
       "<table border=\"1\" class=\"dataframe\">\n",
       "  <thead>\n",
       "    <tr style=\"text-align: right;\">\n",
       "      <th></th>\n",
       "      <th>children</th>\n",
       "      <th>dob_years</th>\n",
       "      <th>education_id</th>\n",
       "      <th>family_status_id</th>\n",
       "      <th>income_type</th>\n",
       "      <th>debt</th>\n",
       "      <th>total_income</th>\n",
       "      <th>purpose</th>\n",
       "    </tr>\n",
       "  </thead>\n",
       "  <tbody>\n",
       "    <tr>\n",
       "      <th>0</th>\n",
       "      <td>1</td>\n",
       "      <td>42</td>\n",
       "      <td>0</td>\n",
       "      <td>0</td>\n",
       "      <td>сотрудник</td>\n",
       "      <td>0</td>\n",
       "      <td>253875</td>\n",
       "      <td>недвижимость</td>\n",
       "    </tr>\n",
       "    <tr>\n",
       "      <th>1</th>\n",
       "      <td>1</td>\n",
       "      <td>36</td>\n",
       "      <td>1</td>\n",
       "      <td>0</td>\n",
       "      <td>сотрудник</td>\n",
       "      <td>0</td>\n",
       "      <td>112080</td>\n",
       "      <td>автомобиль</td>\n",
       "    </tr>\n",
       "    <tr>\n",
       "      <th>2</th>\n",
       "      <td>0</td>\n",
       "      <td>33</td>\n",
       "      <td>1</td>\n",
       "      <td>0</td>\n",
       "      <td>сотрудник</td>\n",
       "      <td>0</td>\n",
       "      <td>145885</td>\n",
       "      <td>недвижимость</td>\n",
       "    </tr>\n",
       "    <tr>\n",
       "      <th>3</th>\n",
       "      <td>3</td>\n",
       "      <td>32</td>\n",
       "      <td>1</td>\n",
       "      <td>0</td>\n",
       "      <td>сотрудник</td>\n",
       "      <td>0</td>\n",
       "      <td>267628</td>\n",
       "      <td>образование</td>\n",
       "    </tr>\n",
       "    <tr>\n",
       "      <th>4</th>\n",
       "      <td>0</td>\n",
       "      <td>53</td>\n",
       "      <td>1</td>\n",
       "      <td>1</td>\n",
       "      <td>пенсионер</td>\n",
       "      <td>0</td>\n",
       "      <td>158616</td>\n",
       "      <td>свадьба</td>\n",
       "    </tr>\n",
       "  </tbody>\n",
       "</table>\n",
       "</div>"
      ],
      "text/plain": [
       "   children  dob_years  education_id  family_status_id income_type  debt  \\\n",
       "0         1         42             0                 0   сотрудник     0   \n",
       "1         1         36             1                 0   сотрудник     0   \n",
       "2         0         33             1                 0   сотрудник     0   \n",
       "3         3         32             1                 0   сотрудник     0   \n",
       "4         0         53             1                 1   пенсионер     0   \n",
       "\n",
       "   total_income       purpose  \n",
       "0        253875  недвижимость  \n",
       "1        112080    автомобиль  \n",
       "2        145885  недвижимость  \n",
       "3        267628   образование  \n",
       "4        158616       свадьба  "
      ]
     },
     "metadata": {},
     "output_type": "display_data"
    }
   ],
   "source": [
    "education_dict = df[['education_id', 'education']]\n",
    "education_dict = education_dict.drop_duplicates().reset_index(drop=True)\n",
    "display(education_dict.head()) \n",
    "\n",
    "family_status_dict = df[['family_status_id', 'family_status']]\n",
    "family_status_dict = family_status_dict.drop_duplicates().reset_index(drop=True)\n",
    "display(family_status_dict.head()) \n",
    "\n",
    "df = df.drop(columns=['education', 'family_status'])\n",
    "display(df.head()) "
   ]
  },
  {
   "cell_type": "markdown",
   "id": "5663b508",
   "metadata": {},
   "source": [
    "### Шаг 2.6. Категоризация дохода."
   ]
  },
  {
   "cell_type": "code",
   "execution_count": 10,
   "id": "df1956bf",
   "metadata": {},
   "outputs": [
    {
     "data": {
      "text/html": [
       "<div>\n",
       "<style scoped>\n",
       "    .dataframe tbody tr th:only-of-type {\n",
       "        vertical-align: middle;\n",
       "    }\n",
       "\n",
       "    .dataframe tbody tr th {\n",
       "        vertical-align: top;\n",
       "    }\n",
       "\n",
       "    .dataframe thead th {\n",
       "        text-align: right;\n",
       "    }\n",
       "</style>\n",
       "<table border=\"1\" class=\"dataframe\">\n",
       "  <thead>\n",
       "    <tr style=\"text-align: right;\">\n",
       "      <th></th>\n",
       "      <th>children</th>\n",
       "      <th>dob_years</th>\n",
       "      <th>education_id</th>\n",
       "      <th>family_status_id</th>\n",
       "      <th>income_type</th>\n",
       "      <th>debt</th>\n",
       "      <th>total_income</th>\n",
       "      <th>purpose</th>\n",
       "      <th>total_income_category</th>\n",
       "    </tr>\n",
       "  </thead>\n",
       "  <tbody>\n",
       "    <tr>\n",
       "      <th>0</th>\n",
       "      <td>1</td>\n",
       "      <td>42</td>\n",
       "      <td>0</td>\n",
       "      <td>0</td>\n",
       "      <td>сотрудник</td>\n",
       "      <td>0</td>\n",
       "      <td>253875</td>\n",
       "      <td>недвижимость</td>\n",
       "      <td>B</td>\n",
       "    </tr>\n",
       "    <tr>\n",
       "      <th>1</th>\n",
       "      <td>1</td>\n",
       "      <td>36</td>\n",
       "      <td>1</td>\n",
       "      <td>0</td>\n",
       "      <td>сотрудник</td>\n",
       "      <td>0</td>\n",
       "      <td>112080</td>\n",
       "      <td>автомобиль</td>\n",
       "      <td>C</td>\n",
       "    </tr>\n",
       "    <tr>\n",
       "      <th>2</th>\n",
       "      <td>0</td>\n",
       "      <td>33</td>\n",
       "      <td>1</td>\n",
       "      <td>0</td>\n",
       "      <td>сотрудник</td>\n",
       "      <td>0</td>\n",
       "      <td>145885</td>\n",
       "      <td>недвижимость</td>\n",
       "      <td>C</td>\n",
       "    </tr>\n",
       "    <tr>\n",
       "      <th>3</th>\n",
       "      <td>3</td>\n",
       "      <td>32</td>\n",
       "      <td>1</td>\n",
       "      <td>0</td>\n",
       "      <td>сотрудник</td>\n",
       "      <td>0</td>\n",
       "      <td>267628</td>\n",
       "      <td>образование</td>\n",
       "      <td>B</td>\n",
       "    </tr>\n",
       "    <tr>\n",
       "      <th>4</th>\n",
       "      <td>0</td>\n",
       "      <td>53</td>\n",
       "      <td>1</td>\n",
       "      <td>1</td>\n",
       "      <td>пенсионер</td>\n",
       "      <td>0</td>\n",
       "      <td>158616</td>\n",
       "      <td>свадьба</td>\n",
       "      <td>C</td>\n",
       "    </tr>\n",
       "  </tbody>\n",
       "</table>\n",
       "</div>"
      ],
      "text/plain": [
       "   children  dob_years  education_id  family_status_id income_type  debt  \\\n",
       "0         1         42             0                 0   сотрудник     0   \n",
       "1         1         36             1                 0   сотрудник     0   \n",
       "2         0         33             1                 0   сотрудник     0   \n",
       "3         3         32             1                 0   сотрудник     0   \n",
       "4         0         53             1                 1   пенсионер     0   \n",
       "\n",
       "   total_income       purpose total_income_category  \n",
       "0        253875  недвижимость                     B  \n",
       "1        112080    автомобиль                     C  \n",
       "2        145885  недвижимость                     C  \n",
       "3        267628   образование                     B  \n",
       "4        158616       свадьба                     C  "
      ]
     },
     "metadata": {},
     "output_type": "display_data"
    }
   ],
   "source": [
    "def income_group(income):\n",
    "    if income <= 30000:\n",
    "        return 'E'\n",
    "    elif income <= 50000:\n",
    "        return 'D'\n",
    "    elif income <= 200000:\n",
    "        return 'C'\n",
    "    elif income <= 1000000:\n",
    "        return 'B'\n",
    "    else:\n",
    "        return 'A'\n",
    "\n",
    "df['total_income_category'] = df['total_income'].apply(income_group)\n",
    "display(df.head()) "
   ]
  },
  {
   "cell_type": "markdown",
   "id": "7f060bb7",
   "metadata": {},
   "source": [
    "### Шаг 2.7. Категоризация целей кредита.\n",
    "Избыточно, т.к. цели кредита нормализованы на этапе устранения дубликатов"
   ]
  },
  {
   "cell_type": "markdown",
   "id": "1f147dcf",
   "metadata": {},
   "source": [
    "### Ответы на вопросы."
   ]
  },
  {
   "cell_type": "markdown",
   "id": "a46be823",
   "metadata": {},
   "source": [
    "##### Вопрос 1: Есть ли зависимость между количеством детей и возвратом кредита в срок?"
   ]
  },
  {
   "cell_type": "code",
   "execution_count": 11,
   "id": "91a3fdf4",
   "metadata": {},
   "outputs": [
    {
     "data": {
      "text/html": [
       "<div>\n",
       "<style scoped>\n",
       "    .dataframe tbody tr th:only-of-type {\n",
       "        vertical-align: middle;\n",
       "    }\n",
       "\n",
       "    .dataframe tbody tr th {\n",
       "        vertical-align: top;\n",
       "    }\n",
       "\n",
       "    .dataframe thead th {\n",
       "        text-align: right;\n",
       "    }\n",
       "</style>\n",
       "<table border=\"1\" class=\"dataframe\">\n",
       "  <thead>\n",
       "    <tr style=\"text-align: right;\">\n",
       "      <th></th>\n",
       "      <th>sum</th>\n",
       "      <th>count</th>\n",
       "      <th>return_rate</th>\n",
       "    </tr>\n",
       "    <tr>\n",
       "      <th>children</th>\n",
       "      <th></th>\n",
       "      <th></th>\n",
       "      <th></th>\n",
       "    </tr>\n",
       "  </thead>\n",
       "  <tbody>\n",
       "    <tr>\n",
       "      <th>5</th>\n",
       "      <td>0</td>\n",
       "      <td>9</td>\n",
       "      <td>0.000000</td>\n",
       "    </tr>\n",
       "    <tr>\n",
       "      <th>0</th>\n",
       "      <td>1059</td>\n",
       "      <td>13754</td>\n",
       "      <td>7.699578</td>\n",
       "    </tr>\n",
       "    <tr>\n",
       "      <th>3</th>\n",
       "      <td>27</td>\n",
       "      <td>328</td>\n",
       "      <td>8.231707</td>\n",
       "    </tr>\n",
       "    <tr>\n",
       "      <th>1</th>\n",
       "      <td>442</td>\n",
       "      <td>4720</td>\n",
       "      <td>9.364407</td>\n",
       "    </tr>\n",
       "    <tr>\n",
       "      <th>2</th>\n",
       "      <td>194</td>\n",
       "      <td>2023</td>\n",
       "      <td>9.589718</td>\n",
       "    </tr>\n",
       "    <tr>\n",
       "      <th>4</th>\n",
       "      <td>4</td>\n",
       "      <td>40</td>\n",
       "      <td>10.000000</td>\n",
       "    </tr>\n",
       "  </tbody>\n",
       "</table>\n",
       "</div>"
      ],
      "text/plain": [
       "           sum  count  return_rate\n",
       "children                          \n",
       "5            0      9     0.000000\n",
       "0         1059  13754     7.699578\n",
       "3           27    328     8.231707\n",
       "1          442   4720     9.364407\n",
       "2          194   2023     9.589718\n",
       "4            4     40    10.000000"
      ]
     },
     "metadata": {},
     "output_type": "display_data"
    },
    {
     "data": {
      "text/html": [
       "<div>\n",
       "<style scoped>\n",
       "    .dataframe tbody tr th:only-of-type {\n",
       "        vertical-align: middle;\n",
       "    }\n",
       "\n",
       "    .dataframe tbody tr th {\n",
       "        vertical-align: top;\n",
       "    }\n",
       "\n",
       "    .dataframe thead th {\n",
       "        text-align: right;\n",
       "    }\n",
       "</style>\n",
       "<table border=\"1\" class=\"dataframe\">\n",
       "  <thead>\n",
       "    <tr style=\"text-align: right;\">\n",
       "      <th></th>\n",
       "      <th>children</th>\n",
       "      <th>dob_years</th>\n",
       "      <th>education_id</th>\n",
       "      <th>family_status_id</th>\n",
       "      <th>debt</th>\n",
       "      <th>total_income</th>\n",
       "    </tr>\n",
       "  </thead>\n",
       "  <tbody>\n",
       "    <tr>\n",
       "      <th>children</th>\n",
       "      <td>1.000000</td>\n",
       "      <td>-0.307780</td>\n",
       "      <td>-0.026213</td>\n",
       "      <td>-0.160444</td>\n",
       "      <td>0.023945</td>\n",
       "      <td>0.029071</td>\n",
       "    </tr>\n",
       "    <tr>\n",
       "      <th>dob_years</th>\n",
       "      <td>-0.307780</td>\n",
       "      <td>1.000000</td>\n",
       "      <td>0.065046</td>\n",
       "      <td>-0.067036</td>\n",
       "      <td>-0.068944</td>\n",
       "      <td>-0.050053</td>\n",
       "    </tr>\n",
       "    <tr>\n",
       "      <th>education_id</th>\n",
       "      <td>-0.026213</td>\n",
       "      <td>0.065046</td>\n",
       "      <td>1.000000</td>\n",
       "      <td>0.010111</td>\n",
       "      <td>0.053493</td>\n",
       "      <td>-0.169829</td>\n",
       "    </tr>\n",
       "    <tr>\n",
       "      <th>family_status_id</th>\n",
       "      <td>-0.160444</td>\n",
       "      <td>-0.067036</td>\n",
       "      <td>0.010111</td>\n",
       "      <td>1.000000</td>\n",
       "      <td>0.018113</td>\n",
       "      <td>-0.009954</td>\n",
       "    </tr>\n",
       "    <tr>\n",
       "      <th>debt</th>\n",
       "      <td>0.023945</td>\n",
       "      <td>-0.068944</td>\n",
       "      <td>0.053493</td>\n",
       "      <td>0.018113</td>\n",
       "      <td>1.000000</td>\n",
       "      <td>-0.013070</td>\n",
       "    </tr>\n",
       "    <tr>\n",
       "      <th>total_income</th>\n",
       "      <td>0.029071</td>\n",
       "      <td>-0.050053</td>\n",
       "      <td>-0.169829</td>\n",
       "      <td>-0.009954</td>\n",
       "      <td>-0.013070</td>\n",
       "      <td>1.000000</td>\n",
       "    </tr>\n",
       "  </tbody>\n",
       "</table>\n",
       "</div>"
      ],
      "text/plain": [
       "                  children  dob_years  education_id  family_status_id  \\\n",
       "children          1.000000  -0.307780     -0.026213         -0.160444   \n",
       "dob_years        -0.307780   1.000000      0.065046         -0.067036   \n",
       "education_id     -0.026213   0.065046      1.000000          0.010111   \n",
       "family_status_id -0.160444  -0.067036      0.010111          1.000000   \n",
       "debt              0.023945  -0.068944      0.053493          0.018113   \n",
       "total_income      0.029071  -0.050053     -0.169829         -0.009954   \n",
       "\n",
       "                      debt  total_income  \n",
       "children          0.023945      0.029071  \n",
       "dob_years        -0.068944     -0.050053  \n",
       "education_id      0.053493     -0.169829  \n",
       "family_status_id  0.018113     -0.009954  \n",
       "debt              1.000000     -0.013070  \n",
       "total_income     -0.013070      1.000000  "
      ]
     },
     "metadata": {},
     "output_type": "display_data"
    },
    {
     "data": {
      "text/plain": [
       "<AxesSubplot:>"
      ]
     },
     "execution_count": 11,
     "metadata": {},
     "output_type": "execute_result"
    },
    {
     "data": {
      "image/png": "[encoded data removed]",
      "text/plain": [
       "<Figure size 432x288 with 2 Axes>"
      ]
     },
     "metadata": {
      "needs_background": "light"
     },
     "output_type": "display_data"
    }
   ],
   "source": [
    "#вычисляем процент возврата кредита\n",
    "df_grouped = df.groupby('children').debt.agg(['sum', 'count'])\n",
    "df_grouped['return_rate'] = df_grouped['sum'] / df_grouped['count'] * 100\n",
    "display(df_grouped.sort_values('return_rate')) \n",
    "\n",
    "#проверим корреляцию\n",
    "display(df.corr())\n",
    "import seaborn as sns\n",
    "sns.heatmap(df.corr())"
   ]
  },
  {
   "cell_type": "markdown",
   "id": "8fbdf5e9",
   "metadata": {},
   "source": [
    "##### Вывод 1:\n",
    "Минимальный процент возврата кредита у заемщиков с числом детей 5, максимальный - с четырьмя детьми \n",
    "Однако коэффициент корреляции между этими величинами 0.023945. Это вызвано тем, что в датасете всего 9 строк, где количество детей - 5. Следовательно статистическую значимость этой зависимости подтвердить на текущих данных нельзя. "
   ]
  },
  {
   "cell_type": "markdown",
   "id": "f52add44",
   "metadata": {},
   "source": [
    "##### Вопрос 2: Есть ли зависимость между семейным положением и возвратом кредита в срок?"
   ]
  },
  {
   "cell_type": "code",
   "execution_count": 12,
   "id": "3950e1f6",
   "metadata": {
    "scrolled": true
   },
   "outputs": [
    {
     "data": {
      "text/html": [
       "<div>\n",
       "<style scoped>\n",
       "    .dataframe tbody tr th:only-of-type {\n",
       "        vertical-align: middle;\n",
       "    }\n",
       "\n",
       "    .dataframe tbody tr th {\n",
       "        vertical-align: top;\n",
       "    }\n",
       "\n",
       "    .dataframe thead th {\n",
       "        text-align: right;\n",
       "    }\n",
       "</style>\n",
       "<table border=\"1\" class=\"dataframe\">\n",
       "  <thead>\n",
       "    <tr style=\"text-align: right;\">\n",
       "      <th></th>\n",
       "      <th>family_status_id</th>\n",
       "      <th>family_status</th>\n",
       "      <th>sum</th>\n",
       "      <th>count</th>\n",
       "      <th>return_rate</th>\n",
       "    </tr>\n",
       "  </thead>\n",
       "  <tbody>\n",
       "    <tr>\n",
       "      <th>2</th>\n",
       "      <td>2</td>\n",
       "      <td>вдовец / вдова</td>\n",
       "      <td>63</td>\n",
       "      <td>938</td>\n",
       "      <td>6.716418</td>\n",
       "    </tr>\n",
       "    <tr>\n",
       "      <th>3</th>\n",
       "      <td>3</td>\n",
       "      <td>в разводе</td>\n",
       "      <td>84</td>\n",
       "      <td>1190</td>\n",
       "      <td>7.058824</td>\n",
       "    </tr>\n",
       "    <tr>\n",
       "      <th>0</th>\n",
       "      <td>0</td>\n",
       "      <td>женат / замужем</td>\n",
       "      <td>923</td>\n",
       "      <td>11897</td>\n",
       "      <td>7.758258</td>\n",
       "    </tr>\n",
       "    <tr>\n",
       "      <th>1</th>\n",
       "      <td>1</td>\n",
       "      <td>гражданский брак</td>\n",
       "      <td>384</td>\n",
       "      <td>4088</td>\n",
       "      <td>9.393346</td>\n",
       "    </tr>\n",
       "    <tr>\n",
       "      <th>4</th>\n",
       "      <td>4</td>\n",
       "      <td>не женат / не замужем</td>\n",
       "      <td>272</td>\n",
       "      <td>2761</td>\n",
       "      <td>9.851503</td>\n",
       "    </tr>\n",
       "  </tbody>\n",
       "</table>\n",
       "</div>"
      ],
      "text/plain": [
       "   family_status_id          family_status  sum  count  return_rate\n",
       "2                 2         вдовец / вдова   63    938     6.716418\n",
       "3                 3              в разводе   84   1190     7.058824\n",
       "0                 0        женат / замужем  923  11897     7.758258\n",
       "1                 1       гражданский брак  384   4088     9.393346\n",
       "4                 4  не женат / не замужем  272   2761     9.851503"
      ]
     },
     "metadata": {},
     "output_type": "display_data"
    },
    {
     "data": {
      "text/html": [
       "<div>\n",
       "<style scoped>\n",
       "    .dataframe tbody tr th:only-of-type {\n",
       "        vertical-align: middle;\n",
       "    }\n",
       "\n",
       "    .dataframe tbody tr th {\n",
       "        vertical-align: top;\n",
       "    }\n",
       "\n",
       "    .dataframe thead tr th {\n",
       "        text-align: left;\n",
       "    }\n",
       "\n",
       "    .dataframe thead tr:last-of-type th {\n",
       "        text-align: right;\n",
       "    }\n",
       "</style>\n",
       "<table border=\"1\" class=\"dataframe\">\n",
       "  <thead>\n",
       "    <tr>\n",
       "      <th></th>\n",
       "      <th>sum</th>\n",
       "      <th>count</th>\n",
       "    </tr>\n",
       "    <tr>\n",
       "      <th></th>\n",
       "      <th>debt</th>\n",
       "      <th>debt</th>\n",
       "    </tr>\n",
       "    <tr>\n",
       "      <th>family_status_id</th>\n",
       "      <th></th>\n",
       "      <th></th>\n",
       "    </tr>\n",
       "  </thead>\n",
       "  <tbody>\n",
       "    <tr>\n",
       "      <th>0</th>\n",
       "      <td>923</td>\n",
       "      <td>11897</td>\n",
       "    </tr>\n",
       "    <tr>\n",
       "      <th>1</th>\n",
       "      <td>384</td>\n",
       "      <td>4088</td>\n",
       "    </tr>\n",
       "    <tr>\n",
       "      <th>2</th>\n",
       "      <td>63</td>\n",
       "      <td>938</td>\n",
       "    </tr>\n",
       "    <tr>\n",
       "      <th>3</th>\n",
       "      <td>84</td>\n",
       "      <td>1190</td>\n",
       "    </tr>\n",
       "    <tr>\n",
       "      <th>4</th>\n",
       "      <td>272</td>\n",
       "      <td>2761</td>\n",
       "    </tr>\n",
       "  </tbody>\n",
       "</table>\n",
       "</div>"
      ],
      "text/plain": [
       "                  sum  count\n",
       "                 debt   debt\n",
       "family_status_id            \n",
       "0                 923  11897\n",
       "1                 384   4088\n",
       "2                  63    938\n",
       "3                  84   1190\n",
       "4                 272   2761"
      ]
     },
     "execution_count": 12,
     "metadata": {},
     "output_type": "execute_result"
    }
   ],
   "source": [
    "#вычисляем процент возврата кредита\n",
    "df_grouped = df.groupby('family_status_id').debt.agg(['sum', 'count'])\n",
    "df_grouped['return_rate'] = df_grouped['sum'] / df_grouped['count'] * 100\n",
    "\n",
    "#склеиваем со словарем\n",
    "family_status_grouped = family_status_dict.merge(df_grouped, on='family_status_id', how='right')\n",
    "display(family_status_grouped.sort_values('return_rate'))\n",
    "\n",
    "#через сводную таблицу\n",
    "df.pivot_table(index='family_status_id',values='debt',aggfunc=['sum', 'count'])"
   ]
  },
  {
   "cell_type": "markdown",
   "id": "f6256100",
   "metadata": {},
   "source": [
    "##### Вывод 2:\n",
    "Минимальный процент возврата кредита у заемщиков с семейным статусом \"вдовец / вдова\" , максимальный - \"не женат / не замужем.\n",
    "Однако коэффициент корреляции между этими величинами 0.018113. Это вызвано тем, что в датасете меньше всего строк с семейным положением \"с семейным статусом \"вдовец / вдова\". Следовательно статистическую значимость этой зависимости подтвердить на текущих данных нельзя. "
   ]
  },
  {
   "cell_type": "markdown",
   "id": "9fea9253",
   "metadata": {},
   "source": [
    "##### Вопрос 3: Есть ли зависимость между уровнем дохода и возвратом кредита в срок?"
   ]
  },
  {
   "cell_type": "code",
   "execution_count": 13,
   "id": "c2c3c70f",
   "metadata": {},
   "outputs": [
    {
     "data": {
      "text/html": [
       "<div>\n",
       "<style scoped>\n",
       "    .dataframe tbody tr th:only-of-type {\n",
       "        vertical-align: middle;\n",
       "    }\n",
       "\n",
       "    .dataframe tbody tr th {\n",
       "        vertical-align: top;\n",
       "    }\n",
       "\n",
       "    .dataframe thead th {\n",
       "        text-align: right;\n",
       "    }\n",
       "</style>\n",
       "<table border=\"1\" class=\"dataframe\">\n",
       "  <thead>\n",
       "    <tr style=\"text-align: right;\">\n",
       "      <th></th>\n",
       "      <th>sum</th>\n",
       "      <th>count</th>\n",
       "      <th>return_rate</th>\n",
       "    </tr>\n",
       "    <tr>\n",
       "      <th>total_income_category</th>\n",
       "      <th></th>\n",
       "      <th></th>\n",
       "      <th></th>\n",
       "    </tr>\n",
       "  </thead>\n",
       "  <tbody>\n",
       "    <tr>\n",
       "      <th>D</th>\n",
       "      <td>21</td>\n",
       "      <td>350</td>\n",
       "      <td>6.000000</td>\n",
       "    </tr>\n",
       "    <tr>\n",
       "      <th>B</th>\n",
       "      <td>354</td>\n",
       "      <td>5020</td>\n",
       "      <td>7.051793</td>\n",
       "    </tr>\n",
       "    <tr>\n",
       "      <th>A</th>\n",
       "      <td>2</td>\n",
       "      <td>25</td>\n",
       "      <td>8.000000</td>\n",
       "    </tr>\n",
       "    <tr>\n",
       "      <th>C</th>\n",
       "      <td>1347</td>\n",
       "      <td>15457</td>\n",
       "      <td>8.714498</td>\n",
       "    </tr>\n",
       "    <tr>\n",
       "      <th>E</th>\n",
       "      <td>2</td>\n",
       "      <td>22</td>\n",
       "      <td>9.090909</td>\n",
       "    </tr>\n",
       "  </tbody>\n",
       "</table>\n",
       "</div>"
      ],
      "text/plain": [
       "                        sum  count  return_rate\n",
       "total_income_category                          \n",
       "D                        21    350     6.000000\n",
       "B                       354   5020     7.051793\n",
       "A                         2     25     8.000000\n",
       "C                      1347  15457     8.714498\n",
       "E                         2     22     9.090909"
      ]
     },
     "metadata": {},
     "output_type": "display_data"
    }
   ],
   "source": [
    "#вычисляем процент возврата кредита\n",
    "df_grouped = df.groupby('total_income_category').debt.agg(['sum', 'count'])\n",
    "df_grouped['return_rate'] = df_grouped['sum'] / df_grouped['count'] * 100\n",
    "display(df_grouped.sort_values('return_rate')) "
   ]
  },
  {
   "cell_type": "markdown",
   "id": "a2a6122d",
   "metadata": {},
   "source": [
    "##### Вывод 3:\n",
    "Минимальный процент возврата кредита у заемщиков с категорией дохода \"D\" (30001–50000), максимальный - с категорией \"E\" (0–30000). Категории \"D\" и \"E\" близкие между собой, категория \"А\" с минимальным доходам имеет средний процент возврата. Можно сделать вывод, что уровень дохода совсем не влияет на факт погашения кредита в срок.\n",
    "Коэффициент корреляции между этими величинами -0.013070. Это вызвано тем, что в датасете всего 250 строк с категорией дохода \"D\" и 22 строки с категорией \"E\". Следовательно статистическую значимость этой зависимости подтвердить на текущих данных нельзя.  "
   ]
  },
  {
   "cell_type": "markdown",
   "id": "43c5ea4c",
   "metadata": {},
   "source": [
    "##### Вопрос 4: Как разные цели кредита влияют на его возврат в срок?"
   ]
  },
  {
   "cell_type": "code",
   "execution_count": 14,
   "id": "cfde78e4",
   "metadata": {},
   "outputs": [
    {
     "data": {
      "text/html": [
       "<div>\n",
       "<style scoped>\n",
       "    .dataframe tbody tr th:only-of-type {\n",
       "        vertical-align: middle;\n",
       "    }\n",
       "\n",
       "    .dataframe tbody tr th {\n",
       "        vertical-align: top;\n",
       "    }\n",
       "\n",
       "    .dataframe thead th {\n",
       "        text-align: right;\n",
       "    }\n",
       "</style>\n",
       "<table border=\"1\" class=\"dataframe\">\n",
       "  <thead>\n",
       "    <tr style=\"text-align: right;\">\n",
       "      <th></th>\n",
       "      <th>sum</th>\n",
       "      <th>count</th>\n",
       "      <th>return_rate</th>\n",
       "    </tr>\n",
       "    <tr>\n",
       "      <th>purpose</th>\n",
       "      <th></th>\n",
       "      <th></th>\n",
       "      <th></th>\n",
       "    </tr>\n",
       "  </thead>\n",
       "  <tbody>\n",
       "    <tr>\n",
       "      <th>недвижимость</th>\n",
       "      <td>776</td>\n",
       "      <td>10442</td>\n",
       "      <td>7.431527</td>\n",
       "    </tr>\n",
       "    <tr>\n",
       "      <th>свадьба</th>\n",
       "      <td>182</td>\n",
       "      <td>2280</td>\n",
       "      <td>7.982456</td>\n",
       "    </tr>\n",
       "    <tr>\n",
       "      <th>образование</th>\n",
       "      <td>369</td>\n",
       "      <td>3922</td>\n",
       "      <td>9.408465</td>\n",
       "    </tr>\n",
       "    <tr>\n",
       "      <th>автомобиль</th>\n",
       "      <td>399</td>\n",
       "      <td>4230</td>\n",
       "      <td>9.432624</td>\n",
       "    </tr>\n",
       "  </tbody>\n",
       "</table>\n",
       "</div>"
      ],
      "text/plain": [
       "              sum  count  return_rate\n",
       "purpose                              \n",
       "недвижимость  776  10442     7.431527\n",
       "свадьба       182   2280     7.982456\n",
       "образование   369   3922     9.408465\n",
       "автомобиль    399   4230     9.432624"
      ]
     },
     "metadata": {},
     "output_type": "display_data"
    }
   ],
   "source": [
    "#вычисляем процент возврата кредита\n",
    "df_grouped = df.groupby('purpose').debt.agg(['sum', 'count'])\n",
    "df_grouped['return_rate'] = df_grouped['sum'] / df_grouped['count'] * 100\n",
    "display(df_grouped.sort_values('return_rate'))"
   ]
  },
  {
   "cell_type": "markdown",
   "id": "f6558437",
   "metadata": {},
   "source": [
    "##### Вывод 4:\n",
    "Минимальный процент возврата кредита, который брался на сделку с недвижимостью, максимальный - на сделку с автомобилем."
   ]
  },
  {
   "cell_type": "markdown",
   "id": "522313d5",
   "metadata": {},
   "source": [
    "## Общий вывод:"
   ]
  },
  {
   "cell_type": "markdown",
   "id": "b94aeeef",
   "metadata": {},
   "source": [
    "По данным статистики о платёжеспособности клиентов проведено исследование, как различные факторы влияют на факт погашения кредита в срок. Проверили 4 гипотезы и установили следующее:\n",
    "\n",
    "1. На процент возврата кредита влияет количество детей заемщика\n",
    "2. На процент возврата кредита влияет семейное положение заемщика\n",
    "3. На процент возврата кредита не влияет уровень дохода заемщика\n",
    "4. На процент возврата кредита влияет цель, с которой занимаются средства\n",
    "\n",
    "Статистическую достоверность проверки данных гипотез установить невозможно. С методами проверок гипотез мы ещё познакомимся в следующих темах."
   ]
  }
 ],
 "metadata": {
  "ExecuteTimeLog": [
   {
    "duration": 430,
    "start_time": "2022-04-25T20:33:32.295Z"
   },
   {
    "duration": 107,
    "start_time": "2022-04-25T20:33:59.576Z"
   },
   {
    "duration": 62,
    "start_time": "2022-04-25T20:34:08.266Z"
   },
   {
    "duration": 70,
    "start_time": "2022-04-25T20:34:36.615Z"
   },
   {
    "duration": 69,
    "start_time": "2022-04-25T20:36:07.235Z"
   },
   {
    "duration": 80,
    "start_time": "2022-04-25T20:40:19.964Z"
   },
   {
    "duration": 10,
    "start_time": "2022-04-25T20:40:28.948Z"
   },
   {
    "duration": 1265,
    "start_time": "2022-04-25T20:54:08.248Z"
   },
   {
    "duration": 3183,
    "start_time": "2022-04-25T20:55:02.716Z"
   },
   {
    "duration": 3273,
    "start_time": "2022-04-25T20:55:23.725Z"
   },
   {
    "duration": 3577,
    "start_time": "2022-04-25T20:55:31.316Z"
   },
   {
    "duration": 3459,
    "start_time": "2022-04-25T20:55:45.413Z"
   },
   {
    "duration": 4677,
    "start_time": "2022-04-25T20:56:46.097Z"
   },
   {
    "duration": 48,
    "start_time": "2022-04-26T05:32:10.545Z"
   },
   {
    "duration": 7,
    "start_time": "2022-04-26T05:32:22.547Z"
   },
   {
    "duration": 7,
    "start_time": "2022-04-26T05:32:28.194Z"
   },
   {
    "duration": 12,
    "start_time": "2022-04-26T05:32:30.430Z"
   },
   {
    "duration": 442,
    "start_time": "2022-04-26T05:32:47.470Z"
   },
   {
    "duration": 4996,
    "start_time": "2022-04-26T05:32:47.913Z"
   },
   {
    "duration": 4348,
    "start_time": "2022-04-26T05:33:23.741Z"
   },
   {
    "duration": 18,
    "start_time": "2022-04-26T05:33:43.554Z"
   },
   {
    "duration": 22,
    "start_time": "2022-04-26T05:34:05.318Z"
   },
   {
    "duration": 18,
    "start_time": "2022-04-26T05:34:17.937Z"
   },
   {
    "duration": 36,
    "start_time": "2022-04-26T05:34:42.849Z"
   },
   {
    "duration": 51,
    "start_time": "2022-04-26T05:35:19.101Z"
   },
   {
    "duration": 505,
    "start_time": "2022-04-26T11:46:01.441Z"
   },
   {
    "duration": 11,
    "start_time": "2022-04-26T11:46:01.948Z"
   },
   {
    "duration": 10,
    "start_time": "2022-04-26T11:49:25.009Z"
   },
   {
    "duration": 29,
    "start_time": "2022-04-26T11:49:53.308Z"
   },
   {
    "duration": 31,
    "start_time": "2022-04-26T11:50:24.338Z"
   },
   {
    "duration": 121,
    "start_time": "2022-04-26T11:51:07.825Z"
   },
   {
    "duration": 14,
    "start_time": "2022-04-26T11:51:19.286Z"
   },
   {
    "duration": 19,
    "start_time": "2022-04-26T11:51:30.089Z"
   },
   {
    "duration": 11,
    "start_time": "2022-04-26T11:52:46.424Z"
   },
   {
    "duration": 10,
    "start_time": "2022-04-26T11:52:53.334Z"
   },
   {
    "duration": 11,
    "start_time": "2022-04-26T11:53:08.436Z"
   },
   {
    "duration": 6,
    "start_time": "2022-04-26T11:53:32.130Z"
   },
   {
    "duration": 8,
    "start_time": "2022-04-26T11:53:41.127Z"
   },
   {
    "duration": 75,
    "start_time": "2022-04-26T17:03:18.177Z"
   },
   {
    "duration": 597,
    "start_time": "2022-04-26T17:03:22.456Z"
   },
   {
    "duration": 7783,
    "start_time": "2022-04-26T17:03:23.056Z"
   },
   {
    "duration": 13,
    "start_time": "2022-04-26T17:03:30.841Z"
   },
   {
    "duration": 9,
    "start_time": "2022-04-26T17:03:50.920Z"
   },
   {
    "duration": 1181,
    "start_time": "2022-04-26T17:04:11.300Z"
   },
   {
    "duration": 9501,
    "start_time": "2022-04-26T17:10:14.216Z"
   },
   {
    "duration": 8322,
    "start_time": "2022-04-26T17:10:25.611Z"
   },
   {
    "duration": 9,
    "start_time": "2022-04-26T17:10:50.542Z"
   },
   {
    "duration": 18,
    "start_time": "2022-04-26T17:15:30.828Z"
   },
   {
    "duration": 17,
    "start_time": "2022-04-26T17:16:16.873Z"
   },
   {
    "duration": 45,
    "start_time": "2022-04-26T19:54:19.029Z"
   },
   {
    "duration": 486,
    "start_time": "2022-04-26T19:54:28.531Z"
   },
   {
    "duration": 5243,
    "start_time": "2022-04-26T19:54:29.019Z"
   },
   {
    "duration": 17,
    "start_time": "2022-04-26T19:54:34.264Z"
   },
   {
    "duration": 4036,
    "start_time": "2022-04-26T19:55:30.520Z"
   },
   {
    "duration": 4044,
    "start_time": "2022-04-26T19:55:53.496Z"
   },
   {
    "duration": 14,
    "start_time": "2022-04-26T20:07:29.485Z"
   },
   {
    "duration": 6,
    "start_time": "2022-04-26T20:08:10.805Z"
   },
   {
    "duration": 6,
    "start_time": "2022-04-26T20:09:07.120Z"
   },
   {
    "duration": 8,
    "start_time": "2022-04-26T20:09:29.831Z"
   },
   {
    "duration": 8,
    "start_time": "2022-04-26T20:10:02.630Z"
   },
   {
    "duration": 650,
    "start_time": "2022-04-27T15:29:15.389Z"
   },
   {
    "duration": 7849,
    "start_time": "2022-04-27T15:29:16.042Z"
   },
   {
    "duration": 9,
    "start_time": "2022-04-27T15:29:23.894Z"
   },
   {
    "duration": 8,
    "start_time": "2022-04-27T15:29:43.640Z"
   },
   {
    "duration": 11,
    "start_time": "2022-04-27T15:30:02.661Z"
   },
   {
    "duration": 6,
    "start_time": "2022-04-27T15:31:02.350Z"
   },
   {
    "duration": 18,
    "start_time": "2022-04-27T15:31:07.161Z"
   },
   {
    "duration": 232,
    "start_time": "2022-04-27T15:31:24.600Z"
   },
   {
    "duration": 124,
    "start_time": "2022-04-27T15:31:35.151Z"
   },
   {
    "duration": 130,
    "start_time": "2022-04-27T15:31:58.511Z"
   },
   {
    "duration": 118,
    "start_time": "2022-04-27T15:32:17.990Z"
   },
   {
    "duration": 131,
    "start_time": "2022-04-27T15:32:38.559Z"
   },
   {
    "duration": 137,
    "start_time": "2022-04-27T15:32:47.781Z"
   },
   {
    "duration": 154,
    "start_time": "2022-04-27T15:33:00.060Z"
   },
   {
    "duration": 12,
    "start_time": "2022-04-27T15:33:31.869Z"
   },
   {
    "duration": 7312,
    "start_time": "2022-04-27T15:33:49.055Z"
   },
   {
    "duration": 3,
    "start_time": "2022-04-27T15:34:28.913Z"
   },
   {
    "duration": 7053,
    "start_time": "2022-04-27T15:43:53.179Z"
   },
   {
    "duration": 7412,
    "start_time": "2022-04-27T15:45:33.569Z"
   },
   {
    "duration": 7014,
    "start_time": "2022-04-27T15:45:57.259Z"
   },
   {
    "duration": 28,
    "start_time": "2022-04-27T18:30:43.372Z"
   },
   {
    "duration": 11,
    "start_time": "2022-04-27T18:30:57.432Z"
   },
   {
    "duration": 27,
    "start_time": "2022-04-27T18:31:11.852Z"
   },
   {
    "duration": 36,
    "start_time": "2022-04-27T18:31:58.245Z"
   },
   {
    "duration": 29,
    "start_time": "2022-04-27T18:32:09.973Z"
   },
   {
    "duration": 27,
    "start_time": "2022-04-27T18:32:22.092Z"
   },
   {
    "duration": 34,
    "start_time": "2022-04-27T18:33:18.163Z"
   },
   {
    "duration": 47,
    "start_time": "2022-04-27T18:33:41.182Z"
   },
   {
    "duration": 28,
    "start_time": "2022-04-27T18:35:02.393Z"
   },
   {
    "duration": 26,
    "start_time": "2022-04-27T18:35:24.063Z"
   },
   {
    "duration": 49,
    "start_time": "2022-04-27T18:35:30.654Z"
   },
   {
    "duration": 179,
    "start_time": "2022-04-27T18:36:41.003Z"
   },
   {
    "duration": 13,
    "start_time": "2022-04-27T18:36:49.532Z"
   },
   {
    "duration": 297,
    "start_time": "2022-04-27T18:46:56.664Z"
   },
   {
    "duration": 39,
    "start_time": "2022-04-27T18:48:51.712Z"
   },
   {
    "duration": 40,
    "start_time": "2022-04-27T18:49:07.050Z"
   },
   {
    "duration": 45,
    "start_time": "2022-04-27T18:52:49.221Z"
   },
   {
    "duration": 46,
    "start_time": "2022-04-27T18:53:05.638Z"
   },
   {
    "duration": 52,
    "start_time": "2022-04-27T18:53:24.443Z"
   },
   {
    "duration": 54,
    "start_time": "2022-04-27T18:54:11.592Z"
   },
   {
    "duration": 51,
    "start_time": "2022-04-27T18:55:19.322Z"
   },
   {
    "duration": 49,
    "start_time": "2022-04-27T18:57:34.302Z"
   },
   {
    "duration": 48,
    "start_time": "2022-04-27T18:57:52.001Z"
   },
   {
    "duration": 63,
    "start_time": "2022-04-27T18:58:11.412Z"
   },
   {
    "duration": 47,
    "start_time": "2022-04-27T18:59:10.833Z"
   },
   {
    "duration": 42,
    "start_time": "2022-04-27T19:00:05.081Z"
   },
   {
    "duration": 34,
    "start_time": "2022-04-27T19:02:48.472Z"
   },
   {
    "duration": 70,
    "start_time": "2022-04-27T19:04:25.895Z"
   },
   {
    "duration": 5,
    "start_time": "2022-04-27T19:18:55.222Z"
   },
   {
    "duration": 24,
    "start_time": "2022-04-27T19:19:06.402Z"
   },
   {
    "duration": 16,
    "start_time": "2022-04-27T19:19:36.002Z"
   },
   {
    "duration": 13,
    "start_time": "2022-04-27T19:19:59.982Z"
   },
   {
    "duration": 19,
    "start_time": "2022-04-27T19:20:08.637Z"
   },
   {
    "duration": 1673,
    "start_time": "2022-04-27T19:20:41.472Z"
   },
   {
    "duration": 26,
    "start_time": "2022-04-27T19:21:00.122Z"
   },
   {
    "duration": 20,
    "start_time": "2022-04-27T19:21:14.152Z"
   },
   {
    "duration": 25,
    "start_time": "2022-04-27T19:21:36.201Z"
   },
   {
    "duration": 32,
    "start_time": "2022-04-27T19:21:58.411Z"
   },
   {
    "duration": 20,
    "start_time": "2022-04-27T19:23:10.402Z"
   },
   {
    "duration": 82,
    "start_time": "2022-04-27T19:23:17.246Z"
   },
   {
    "duration": 483,
    "start_time": "2022-04-28T13:16:39.576Z"
   },
   {
    "duration": 4769,
    "start_time": "2022-04-28T13:16:40.061Z"
   },
   {
    "duration": 15,
    "start_time": "2022-04-28T13:16:44.832Z"
   },
   {
    "duration": 78,
    "start_time": "2022-04-28T13:16:44.849Z"
   },
   {
    "duration": 14,
    "start_time": "2022-04-28T13:18:16.937Z"
   },
   {
    "duration": 18,
    "start_time": "2022-04-28T13:19:48.809Z"
   },
   {
    "duration": 16,
    "start_time": "2022-04-28T13:20:04.827Z"
   },
   {
    "duration": 15,
    "start_time": "2022-04-28T13:20:13.758Z"
   },
   {
    "duration": 55,
    "start_time": "2022-04-28T13:21:11.559Z"
   },
   {
    "duration": 51,
    "start_time": "2022-04-28T13:22:33.786Z"
   },
   {
    "duration": 55,
    "start_time": "2022-04-28T13:23:24.210Z"
   },
   {
    "duration": 65,
    "start_time": "2022-04-28T13:23:49.261Z"
   },
   {
    "duration": 50,
    "start_time": "2022-04-28T13:24:08.139Z"
   },
   {
    "duration": 35,
    "start_time": "2022-04-28T13:24:54.051Z"
   },
   {
    "duration": 51,
    "start_time": "2022-04-28T13:27:07.030Z"
   },
   {
    "duration": 84,
    "start_time": "2022-04-28T13:28:20.340Z"
   },
   {
    "duration": 39,
    "start_time": "2022-04-28T13:29:09.831Z"
   },
   {
    "duration": 60,
    "start_time": "2022-04-28T13:29:32.380Z"
   },
   {
    "duration": 38,
    "start_time": "2022-04-28T13:31:22.919Z"
   },
   {
    "duration": 30,
    "start_time": "2022-04-28T13:35:42.999Z"
   },
   {
    "duration": 28,
    "start_time": "2022-04-28T13:35:58.359Z"
   },
   {
    "duration": 41,
    "start_time": "2022-04-28T13:36:46.289Z"
   },
   {
    "duration": 362,
    "start_time": "2022-04-28T13:37:14.101Z"
   },
   {
    "duration": 4671,
    "start_time": "2022-04-28T13:37:14.466Z"
   },
   {
    "duration": 16,
    "start_time": "2022-04-28T13:37:19.139Z"
   },
   {
    "duration": 612,
    "start_time": "2022-04-28T13:37:19.157Z"
   },
   {
    "duration": 838,
    "start_time": "2022-04-28T13:37:19.771Z"
   },
   {
    "duration": 49,
    "start_time": "2022-04-28T13:37:54.520Z"
   },
   {
    "duration": 44,
    "start_time": "2022-04-28T13:39:38.259Z"
   },
   {
    "duration": 38,
    "start_time": "2022-04-28T13:40:00.530Z"
   },
   {
    "duration": 12,
    "start_time": "2022-04-28T13:46:02.740Z"
   },
   {
    "duration": 13,
    "start_time": "2022-04-28T13:46:10.680Z"
   },
   {
    "duration": 107,
    "start_time": "2022-04-28T13:46:16.729Z"
   },
   {
    "duration": 12,
    "start_time": "2022-04-28T13:46:22.300Z"
   },
   {
    "duration": 78,
    "start_time": "2022-04-28T13:46:40.835Z"
   },
   {
    "duration": 4016,
    "start_time": "2022-04-28T13:46:40.915Z"
   },
   {
    "duration": 15,
    "start_time": "2022-04-28T13:46:44.933Z"
   },
   {
    "duration": 255,
    "start_time": "2022-04-28T13:46:44.950Z"
   },
   {
    "duration": 6,
    "start_time": "2022-04-28T13:46:45.223Z"
   },
   {
    "duration": 13,
    "start_time": "2022-04-28T14:02:04.690Z"
   },
   {
    "duration": 10,
    "start_time": "2022-04-28T14:02:12.959Z"
   },
   {
    "duration": 13,
    "start_time": "2022-04-28T14:04:39.249Z"
   },
   {
    "duration": 1563,
    "start_time": "2022-04-28T14:04:42.351Z"
   },
   {
    "duration": 4107,
    "start_time": "2022-04-28T14:04:43.916Z"
   },
   {
    "duration": 14,
    "start_time": "2022-04-28T14:04:48.024Z"
   },
   {
    "duration": 83,
    "start_time": "2022-04-28T14:04:48.040Z"
   },
   {
    "duration": 19,
    "start_time": "2022-04-28T14:04:48.126Z"
   },
   {
    "duration": 81,
    "start_time": "2022-04-28T14:07:05.318Z"
   },
   {
    "duration": 4259,
    "start_time": "2022-04-28T14:07:05.401Z"
   },
   {
    "duration": 14,
    "start_time": "2022-04-28T14:07:09.662Z"
   },
   {
    "duration": 267,
    "start_time": "2022-04-28T14:07:09.678Z"
   },
   {
    "duration": 12,
    "start_time": "2022-04-28T14:07:09.948Z"
   },
   {
    "duration": 78,
    "start_time": "2022-04-28T14:08:30.010Z"
   },
   {
    "duration": 4375,
    "start_time": "2022-04-28T14:08:30.090Z"
   },
   {
    "duration": 14,
    "start_time": "2022-04-28T14:08:34.467Z"
   },
   {
    "duration": 69,
    "start_time": "2022-04-28T14:08:34.483Z"
   },
   {
    "duration": 29,
    "start_time": "2022-04-28T14:08:34.554Z"
   },
   {
    "duration": 19,
    "start_time": "2022-04-28T14:12:56.149Z"
   },
   {
    "duration": 44,
    "start_time": "2022-04-28T14:13:12.330Z"
   },
   {
    "duration": 45,
    "start_time": "2022-04-28T14:15:44.481Z"
   },
   {
    "duration": 78,
    "start_time": "2022-04-28T14:27:34.570Z"
   },
   {
    "duration": 4275,
    "start_time": "2022-04-28T14:27:34.650Z"
   },
   {
    "duration": 14,
    "start_time": "2022-04-28T14:27:38.926Z"
   },
   {
    "duration": 238,
    "start_time": "2022-04-28T14:27:38.942Z"
   },
   {
    "duration": 57,
    "start_time": "2022-04-28T14:27:39.182Z"
   },
   {
    "duration": 98,
    "start_time": "2022-04-28T14:27:39.240Z"
   },
   {
    "duration": 81,
    "start_time": "2022-04-28T14:28:23.333Z"
   },
   {
    "duration": 35,
    "start_time": "2022-04-28T14:28:34.005Z"
   },
   {
    "duration": 187,
    "start_time": "2022-04-28T14:29:07.470Z"
   },
   {
    "duration": 66,
    "start_time": "2022-04-28T14:30:11.897Z"
   },
   {
    "duration": 194,
    "start_time": "2022-04-28T14:30:15.339Z"
   },
   {
    "duration": 196,
    "start_time": "2022-04-28T14:31:05.400Z"
   },
   {
    "duration": 26,
    "start_time": "2022-04-28T14:31:30.251Z"
   },
   {
    "duration": 37,
    "start_time": "2022-04-28T14:31:46.008Z"
   },
   {
    "duration": 77,
    "start_time": "2022-04-28T14:32:02.320Z"
   },
   {
    "duration": 198,
    "start_time": "2022-04-28T14:33:48.089Z"
   },
   {
    "duration": 83,
    "start_time": "2022-04-28T14:34:24.210Z"
   },
   {
    "duration": 101,
    "start_time": "2022-04-28T14:34:39.223Z"
   },
   {
    "duration": 82,
    "start_time": "2022-04-28T14:40:23.356Z"
   },
   {
    "duration": 4302,
    "start_time": "2022-04-28T14:40:23.440Z"
   },
   {
    "duration": 14,
    "start_time": "2022-04-28T14:40:27.744Z"
   },
   {
    "duration": 87,
    "start_time": "2022-04-28T14:40:27.759Z"
   },
   {
    "duration": 36,
    "start_time": "2022-04-28T14:40:27.848Z"
   },
   {
    "duration": 43,
    "start_time": "2022-04-28T14:40:27.886Z"
   },
   {
    "duration": 0,
    "start_time": "2022-04-28T14:40:27.930Z"
   },
   {
    "duration": 82,
    "start_time": "2022-04-28T14:40:46.749Z"
   },
   {
    "duration": 4281,
    "start_time": "2022-04-28T14:40:46.834Z"
   },
   {
    "duration": 18,
    "start_time": "2022-04-28T14:40:51.117Z"
   },
   {
    "duration": 231,
    "start_time": "2022-04-28T14:40:51.137Z"
   },
   {
    "duration": 53,
    "start_time": "2022-04-28T14:40:51.370Z"
   },
   {
    "duration": 7,
    "start_time": "2022-04-28T14:40:51.425Z"
   },
   {
    "duration": 0,
    "start_time": "2022-04-28T14:40:51.434Z"
   },
   {
    "duration": 77,
    "start_time": "2022-04-28T14:41:08.650Z"
   },
   {
    "duration": 4306,
    "start_time": "2022-04-28T14:41:08.729Z"
   },
   {
    "duration": 15,
    "start_time": "2022-04-28T14:41:13.037Z"
   },
   {
    "duration": 84,
    "start_time": "2022-04-28T14:41:13.054Z"
   },
   {
    "duration": 38,
    "start_time": "2022-04-28T14:41:13.139Z"
   },
   {
    "duration": 3,
    "start_time": "2022-04-28T14:41:13.179Z"
   },
   {
    "duration": 124,
    "start_time": "2022-04-28T14:41:13.184Z"
   },
   {
    "duration": 13,
    "start_time": "2022-04-28T14:41:45.948Z"
   },
   {
    "duration": 13,
    "start_time": "2022-04-28T15:43:11.840Z"
   },
   {
    "duration": 7,
    "start_time": "2022-04-28T15:43:18.059Z"
   },
   {
    "duration": 10,
    "start_time": "2022-04-28T15:43:53.890Z"
   },
   {
    "duration": 18,
    "start_time": "2022-04-28T15:45:05.919Z"
   },
   {
    "duration": 22,
    "start_time": "2022-04-28T15:45:22.209Z"
   },
   {
    "duration": 29,
    "start_time": "2022-04-28T15:46:47.570Z"
   },
   {
    "duration": 9,
    "start_time": "2022-04-28T15:53:37.280Z"
   },
   {
    "duration": 10,
    "start_time": "2022-04-28T15:53:47.139Z"
   },
   {
    "duration": 13,
    "start_time": "2022-04-28T15:53:53.979Z"
   },
   {
    "duration": 17,
    "start_time": "2022-04-28T15:54:01.250Z"
   },
   {
    "duration": 24,
    "start_time": "2022-04-28T17:26:55.710Z"
   },
   {
    "duration": 325,
    "start_time": "2022-04-28T17:28:31.217Z"
   },
   {
    "duration": 429,
    "start_time": "2022-04-28T17:34:10.680Z"
   },
   {
    "duration": 179,
    "start_time": "2022-04-28T17:34:20.200Z"
   },
   {
    "duration": 198,
    "start_time": "2022-04-28T17:37:48.410Z"
   },
   {
    "duration": 197,
    "start_time": "2022-04-28T17:37:56.362Z"
   },
   {
    "duration": 21,
    "start_time": "2022-04-28T17:38:07.080Z"
   },
   {
    "duration": 17,
    "start_time": "2022-04-28T17:38:38.091Z"
   },
   {
    "duration": 162,
    "start_time": "2022-04-28T17:38:54.721Z"
   },
   {
    "duration": 462,
    "start_time": "2022-04-28T17:39:19.860Z"
   },
   {
    "duration": 545,
    "start_time": "2022-04-28T17:40:12.811Z"
   },
   {
    "duration": 369,
    "start_time": "2022-04-28T17:40:25.650Z"
   },
   {
    "duration": 431,
    "start_time": "2022-04-28T17:40:30.581Z"
   },
   {
    "duration": 451,
    "start_time": "2022-04-28T17:44:53.843Z"
   },
   {
    "duration": 427,
    "start_time": "2022-04-28T17:45:15.791Z"
   },
   {
    "duration": 7,
    "start_time": "2022-04-28T17:49:28.760Z"
   },
   {
    "duration": 335,
    "start_time": "2022-04-28T17:52:51.051Z"
   },
   {
    "duration": 9,
    "start_time": "2022-04-28T17:55:35.010Z"
   },
   {
    "duration": 13,
    "start_time": "2022-04-28T18:04:23.680Z"
   },
   {
    "duration": 10,
    "start_time": "2022-04-28T18:04:37.700Z"
   },
   {
    "duration": 9,
    "start_time": "2022-04-28T18:05:06.691Z"
   },
   {
    "duration": 9,
    "start_time": "2022-04-28T18:05:15.350Z"
   },
   {
    "duration": 13,
    "start_time": "2022-04-28T18:06:56.100Z"
   },
   {
    "duration": 13,
    "start_time": "2022-04-28T18:07:36.590Z"
   },
   {
    "duration": 16,
    "start_time": "2022-04-28T18:07:54.907Z"
   },
   {
    "duration": 15,
    "start_time": "2022-04-28T18:08:30.265Z"
   },
   {
    "duration": 15,
    "start_time": "2022-04-28T18:09:14.630Z"
   },
   {
    "duration": 13,
    "start_time": "2022-04-28T18:09:41.440Z"
   },
   {
    "duration": 16,
    "start_time": "2022-04-28T18:11:34.179Z"
   },
   {
    "duration": 21,
    "start_time": "2022-04-28T18:11:56.303Z"
   },
   {
    "duration": 24,
    "start_time": "2022-04-28T18:13:01.389Z"
   },
   {
    "duration": 24,
    "start_time": "2022-04-28T18:13:59.028Z"
   },
   {
    "duration": 23,
    "start_time": "2022-04-28T18:22:10.620Z"
   },
   {
    "duration": 20,
    "start_time": "2022-04-28T18:22:21.597Z"
   },
   {
    "duration": 11,
    "start_time": "2022-04-28T18:22:30.814Z"
   },
   {
    "duration": 11,
    "start_time": "2022-04-28T18:22:34.192Z"
   },
   {
    "duration": 15,
    "start_time": "2022-04-28T18:22:42.679Z"
   },
   {
    "duration": 11,
    "start_time": "2022-04-28T18:25:17.489Z"
   },
   {
    "duration": 13,
    "start_time": "2022-04-28T18:25:33.079Z"
   },
   {
    "duration": 15,
    "start_time": "2022-04-28T18:25:43.830Z"
   },
   {
    "duration": 15,
    "start_time": "2022-04-28T18:26:01.550Z"
   },
   {
    "duration": 16,
    "start_time": "2022-04-28T18:27:33.519Z"
   },
   {
    "duration": 17,
    "start_time": "2022-04-28T18:27:50.069Z"
   },
   {
    "duration": 8,
    "start_time": "2022-04-28T18:28:07.720Z"
   },
   {
    "duration": 9,
    "start_time": "2022-04-28T18:28:13.780Z"
   },
   {
    "duration": 12,
    "start_time": "2022-04-28T18:28:31.379Z"
   },
   {
    "duration": 10,
    "start_time": "2022-04-28T18:28:58.650Z"
   },
   {
    "duration": 16,
    "start_time": "2022-04-28T18:29:14.709Z"
   },
   {
    "duration": 3383,
    "start_time": "2022-04-28T18:33:10.472Z"
   },
   {
    "duration": 3283,
    "start_time": "2022-04-28T18:33:14.269Z"
   },
   {
    "duration": 18,
    "start_time": "2022-04-28T18:33:51.157Z"
   },
   {
    "duration": 19,
    "start_time": "2022-04-28T18:34:13.454Z"
   },
   {
    "duration": 345,
    "start_time": "2022-04-29T10:40:35.426Z"
   },
   {
    "duration": 351,
    "start_time": "2022-04-29T10:41:37.047Z"
   },
   {
    "duration": 385,
    "start_time": "2022-04-29T10:41:49.664Z"
   },
   {
    "duration": 377,
    "start_time": "2022-04-29T10:45:17.664Z"
   },
   {
    "duration": 403,
    "start_time": "2022-04-29T10:45:59.586Z"
   },
   {
    "duration": 384,
    "start_time": "2022-04-29T10:46:51.874Z"
   },
   {
    "duration": 349,
    "start_time": "2022-04-29T10:49:42.344Z"
   },
   {
    "duration": 374,
    "start_time": "2022-04-29T10:54:07.034Z"
   },
   {
    "duration": 445,
    "start_time": "2022-04-29T10:54:15.625Z"
   },
   {
    "duration": 419,
    "start_time": "2022-04-29T10:57:08.154Z"
   },
   {
    "duration": 358,
    "start_time": "2022-04-29T10:57:27.876Z"
   },
   {
    "duration": 358,
    "start_time": "2022-04-29T10:57:35.234Z"
   },
   {
    "duration": 440,
    "start_time": "2022-04-29T10:58:25.015Z"
   },
   {
    "duration": 765,
    "start_time": "2022-04-29T10:58:38.835Z"
   },
   {
    "duration": 397,
    "start_time": "2022-04-29T10:58:46.156Z"
   },
   {
    "duration": 346,
    "start_time": "2022-04-29T10:59:16.502Z"
   },
   {
    "duration": 446,
    "start_time": "2022-04-29T11:00:15.617Z"
   },
   {
    "duration": 34,
    "start_time": "2022-04-29T11:00:59.414Z"
   },
   {
    "duration": 20,
    "start_time": "2022-04-29T11:02:45.434Z"
   },
   {
    "duration": 330,
    "start_time": "2022-04-29T11:03:26.554Z"
   },
   {
    "duration": 20,
    "start_time": "2022-04-29T11:03:53.135Z"
   },
   {
    "duration": 16,
    "start_time": "2022-04-29T11:04:15.872Z"
   },
   {
    "duration": 370,
    "start_time": "2022-04-29T11:14:29.355Z"
   },
   {
    "duration": 14,
    "start_time": "2022-04-29T11:22:20.145Z"
   },
   {
    "duration": 13,
    "start_time": "2022-04-29T11:28:40.355Z"
   },
   {
    "duration": 1685,
    "start_time": "2022-04-29T11:39:48.188Z"
   },
   {
    "duration": 22,
    "start_time": "2022-04-29T11:41:07.631Z"
   },
   {
    "duration": 17,
    "start_time": "2022-04-29T11:42:22.189Z"
   },
   {
    "duration": 312,
    "start_time": "2022-04-29T11:42:49.539Z"
   },
   {
    "duration": 23,
    "start_time": "2022-04-29T11:42:56.436Z"
   },
   {
    "duration": 457,
    "start_time": "2022-04-29T11:43:13.074Z"
   },
   {
    "duration": 371,
    "start_time": "2022-04-29T11:45:49.988Z"
   },
   {
    "duration": 215,
    "start_time": "2022-04-29T11:46:41.219Z"
   },
   {
    "duration": 344,
    "start_time": "2022-04-29T11:47:28.148Z"
   },
   {
    "duration": 121,
    "start_time": "2022-04-29T11:58:11.869Z"
   },
   {
    "duration": 5042,
    "start_time": "2022-04-29T11:58:11.993Z"
   },
   {
    "duration": 17,
    "start_time": "2022-04-29T11:58:17.037Z"
   },
   {
    "duration": 93,
    "start_time": "2022-04-29T11:58:17.056Z"
   },
   {
    "duration": 25,
    "start_time": "2022-04-29T11:58:17.151Z"
   },
   {
    "duration": 59,
    "start_time": "2022-04-29T11:58:17.178Z"
   },
   {
    "duration": 134,
    "start_time": "2022-04-29T11:58:17.239Z"
   },
   {
    "duration": 51,
    "start_time": "2022-04-29T11:58:17.374Z"
   },
   {
    "duration": 19,
    "start_time": "2022-04-29T11:58:17.428Z"
   },
   {
    "duration": 447,
    "start_time": "2022-04-29T11:58:17.450Z"
   },
   {
    "duration": 25,
    "start_time": "2022-04-29T11:58:17.899Z"
   },
   {
    "duration": 14,
    "start_time": "2022-04-29T11:58:17.926Z"
   },
   {
    "duration": 14,
    "start_time": "2022-04-29T11:58:17.942Z"
   },
   {
    "duration": 76,
    "start_time": "2022-04-29T11:58:47.078Z"
   },
   {
    "duration": 5160,
    "start_time": "2022-04-29T11:58:47.157Z"
   },
   {
    "duration": 19,
    "start_time": "2022-04-29T11:58:52.319Z"
   },
   {
    "duration": 99,
    "start_time": "2022-04-29T11:58:52.340Z"
   },
   {
    "duration": 24,
    "start_time": "2022-04-29T11:58:52.441Z"
   },
   {
    "duration": 21,
    "start_time": "2022-04-29T11:58:52.467Z"
   },
   {
    "duration": 142,
    "start_time": "2022-04-29T11:58:52.491Z"
   },
   {
    "duration": 31,
    "start_time": "2022-04-29T11:58:52.635Z"
   },
   {
    "duration": 16,
    "start_time": "2022-04-29T11:58:52.668Z"
   },
   {
    "duration": 466,
    "start_time": "2022-04-29T11:58:52.685Z"
   },
   {
    "duration": 21,
    "start_time": "2022-04-29T11:58:53.153Z"
   },
   {
    "duration": 12,
    "start_time": "2022-04-29T11:58:53.176Z"
   },
   {
    "duration": 38,
    "start_time": "2022-04-29T11:58:53.190Z"
   },
   {
    "duration": 598,
    "start_time": "2022-05-04T19:37:51.317Z"
   },
   {
    "duration": 11624,
    "start_time": "2022-05-04T19:37:51.917Z"
   },
   {
    "duration": 31,
    "start_time": "2022-05-04T19:38:03.543Z"
   },
   {
    "duration": 119,
    "start_time": "2022-05-04T19:38:03.604Z"
   },
   {
    "duration": 79,
    "start_time": "2022-05-04T19:38:03.726Z"
   },
   {
    "duration": 21,
    "start_time": "2022-05-04T19:38:03.808Z"
   },
   {
    "duration": 175,
    "start_time": "2022-05-04T19:38:03.831Z"
   },
   {
    "duration": 40,
    "start_time": "2022-05-04T19:38:04.008Z"
   },
   {
    "duration": 51,
    "start_time": "2022-05-04T19:38:04.050Z"
   },
   {
    "duration": 493,
    "start_time": "2022-05-04T19:38:04.106Z"
   },
   {
    "duration": 23,
    "start_time": "2022-05-04T19:38:04.601Z"
   },
   {
    "duration": 19,
    "start_time": "2022-05-04T19:38:04.626Z"
   },
   {
    "duration": 52,
    "start_time": "2022-05-04T19:38:04.647Z"
   },
   {
    "duration": 17,
    "start_time": "2022-05-04T19:45:23.804Z"
   },
   {
    "duration": 119,
    "start_time": "2022-05-04T19:45:39.297Z"
   },
   {
    "duration": 7164,
    "start_time": "2022-05-04T19:45:39.419Z"
   },
   {
    "duration": 23,
    "start_time": "2022-05-04T19:45:46.593Z"
   },
   {
    "duration": 123,
    "start_time": "2022-05-04T19:45:46.619Z"
   },
   {
    "duration": 33,
    "start_time": "2022-05-04T19:45:51.690Z"
   },
   {
    "duration": 10,
    "start_time": "2022-05-04T19:46:15.048Z"
   },
   {
    "duration": 47,
    "start_time": "2022-05-04T20:02:18.659Z"
   },
   {
    "duration": 190,
    "start_time": "2022-05-04T20:02:57.779Z"
   },
   {
    "duration": 46,
    "start_time": "2022-05-04T20:03:08.478Z"
   }
  ],
  "kernelspec": {
   "display_name": "Python 3 (ipykernel)",
   "language": "python",
   "name": "python3"
  },
  "language_info": {
   "codemirror_mode": {
    "name": "ipython",
    "version": 3
   },
   "file_extension": ".py",
   "mimetype": "text/x-python",
   "name": "python",
   "nbconvert_exporter": "python",
   "pygments_lexer": "ipython3",
   "version": "3.9.13"
  },
  "toc": {
   "base_numbering": 1,
   "nav_menu": {},
   "number_sections": true,
   "sideBar": true,
   "skip_h1_title": true,
   "title_cell": "Table of Contents",
   "title_sidebar": "Contents",
   "toc_cell": false,
   "toc_position": {},
   "toc_section_display": true,
   "toc_window_display": true
  }
 },
 "nbformat": 4,
 "nbformat_minor": 5
}

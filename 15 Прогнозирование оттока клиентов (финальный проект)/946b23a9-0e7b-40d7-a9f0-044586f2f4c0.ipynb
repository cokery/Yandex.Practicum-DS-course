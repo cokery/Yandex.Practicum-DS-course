{
 "cells": [
  {
   "cell_type": "markdown",
   "metadata": {},
   "source": [
    "<h1>Финальный проект \"Прогнозирование оттока клиентов\"</h1>\n",
    "\n",
    "Оператор связи «Ниединогоразрыва.ком» хочет научиться прогнозировать отток клиентов. Если выяснится, что пользователь планирует уйти, ему будут предложены промокоды и специальные условия. Команда оператора собрала персональные данные о некоторых клиентах, информацию об их тарифах и договорах.\n",
    "\n",
    "**Описание данных**\n",
    "Данные состоят из файлов, полученных из разных источников:\n",
    "* contract.csv - информация о договоре;\n",
    "* personal.csv - персональные данные клиента;\n",
    "* internet.csv - информация об интернет услугах;\n",
    "* phone.csv - информация об услугах телефонии.\n",
    "\n",
    "**Цель проекта:**\n",
    "Предсказать, ушел ли клиент или остался?\n",
    "\n",
    "Бизнес метрика - это убытки по двум направлениям: \n",
    "1. Пользователю предложили промокоды , но он не собирался уходить (false positive)\n",
    "2. Пользователю ничего не предложили и он ушёл (false negative) \n",
    "AUC-ROC  - метрика, которая учитывает возможность балансировать между false posititve и false negative"
   ]
  },
  {
   "cell_type": "markdown",
   "metadata": {},
   "source": [
    "## Основной проект\n",
    "### Предварительный анализ данных"
   ]
  },
  {
   "cell_type": "code",
   "execution_count": 1,
   "metadata": {},
   "outputs": [],
   "source": [
    "import lightgbm as lgb\n",
    "import matplotlib.pyplot as plt\n",
    "import numpy as np\n",
    "import pandas as pd\n",
    "import seaborn as sns\n",
    "import warnings\n",
    "\n",
    "from datetime import datetime\n",
    "from sklearn.ensemble import RandomForestClassifier\n",
    "from sklearn.linear_model import LogisticRegression\n",
    "from sklearn.metrics import roc_curve\n",
    "from sklearn.metrics import roc_auc_score\n",
    "from sklearn.model_selection import GridSearchCV\n",
    "from sklearn.model_selection import train_test_split\n",
    "from sklearn.preprocessing import OrdinalEncoder\n",
    "from sklearn.preprocessing import StandardScaler\n"
   ]
  },
  {
   "cell_type": "markdown",
   "metadata": {},
   "source": [
    "<div class=\"alert alert-success\">\n",
    "<b>✔️ Комментарий ревьювера:</b> Необходимые библиотеки импортированы, все хорошо\n",
    "    \n",
    "</div>"
   ]
  },
  {
   "cell_type": "code",
   "execution_count": 2,
   "metadata": {},
   "outputs": [
    {
     "name": "stdout",
     "output_type": "stream",
     "text": [
      "<class 'pandas.core.frame.DataFrame'>\n",
      "RangeIndex: 7043 entries, 0 to 7042\n",
      "Data columns (total 8 columns):\n",
      " #   Column            Non-Null Count  Dtype         \n",
      "---  ------            --------------  -----         \n",
      " 0   customerID        7043 non-null   object        \n",
      " 1   BeginDate         7043 non-null   datetime64[ns]\n",
      " 2   EndDate           7043 non-null   object        \n",
      " 3   Type              7043 non-null   object        \n",
      " 4   PaperlessBilling  7043 non-null   object        \n",
      " 5   PaymentMethod     7043 non-null   object        \n",
      " 6   MonthlyCharges    7043 non-null   float64       \n",
      " 7   TotalCharges      7043 non-null   object        \n",
      "dtypes: datetime64[ns](1), float64(1), object(6)\n",
      "memory usage: 440.3+ KB\n"
     ]
    },
    {
     "data": {
      "text/html": [
       "<div>\n",
       "<style scoped>\n",
       "    .dataframe tbody tr th:only-of-type {\n",
       "        vertical-align: middle;\n",
       "    }\n",
       "\n",
       "    .dataframe tbody tr th {\n",
       "        vertical-align: top;\n",
       "    }\n",
       "\n",
       "    .dataframe thead th {\n",
       "        text-align: right;\n",
       "    }\n",
       "</style>\n",
       "<table border=\"1\" class=\"dataframe\">\n",
       "  <thead>\n",
       "    <tr style=\"text-align: right;\">\n",
       "      <th></th>\n",
       "      <th>customerID</th>\n",
       "      <th>BeginDate</th>\n",
       "      <th>EndDate</th>\n",
       "      <th>Type</th>\n",
       "      <th>PaperlessBilling</th>\n",
       "      <th>PaymentMethod</th>\n",
       "      <th>MonthlyCharges</th>\n",
       "      <th>TotalCharges</th>\n",
       "    </tr>\n",
       "  </thead>\n",
       "  <tbody>\n",
       "    <tr>\n",
       "      <th>0</th>\n",
       "      <td>7590-VHVEG</td>\n",
       "      <td>2020-01-01</td>\n",
       "      <td>No</td>\n",
       "      <td>Month-to-month</td>\n",
       "      <td>Yes</td>\n",
       "      <td>Electronic check</td>\n",
       "      <td>29.85</td>\n",
       "      <td>29.85</td>\n",
       "    </tr>\n",
       "    <tr>\n",
       "      <th>1</th>\n",
       "      <td>5575-GNVDE</td>\n",
       "      <td>2017-04-01</td>\n",
       "      <td>No</td>\n",
       "      <td>One year</td>\n",
       "      <td>No</td>\n",
       "      <td>Mailed check</td>\n",
       "      <td>56.95</td>\n",
       "      <td>1889.5</td>\n",
       "    </tr>\n",
       "    <tr>\n",
       "      <th>2</th>\n",
       "      <td>3668-QPYBK</td>\n",
       "      <td>2019-10-01</td>\n",
       "      <td>2019-12-01 00:00:00</td>\n",
       "      <td>Month-to-month</td>\n",
       "      <td>Yes</td>\n",
       "      <td>Mailed check</td>\n",
       "      <td>53.85</td>\n",
       "      <td>108.15</td>\n",
       "    </tr>\n",
       "    <tr>\n",
       "      <th>3</th>\n",
       "      <td>7795-CFOCW</td>\n",
       "      <td>2016-05-01</td>\n",
       "      <td>No</td>\n",
       "      <td>One year</td>\n",
       "      <td>No</td>\n",
       "      <td>Bank transfer (automatic)</td>\n",
       "      <td>42.30</td>\n",
       "      <td>1840.75</td>\n",
       "    </tr>\n",
       "    <tr>\n",
       "      <th>4</th>\n",
       "      <td>9237-HQITU</td>\n",
       "      <td>2019-09-01</td>\n",
       "      <td>2019-11-01 00:00:00</td>\n",
       "      <td>Month-to-month</td>\n",
       "      <td>Yes</td>\n",
       "      <td>Electronic check</td>\n",
       "      <td>70.70</td>\n",
       "      <td>151.65</td>\n",
       "    </tr>\n",
       "  </tbody>\n",
       "</table>\n",
       "</div>"
      ],
      "text/plain": [
       "   customerID  BeginDate              EndDate            Type  \\\n",
       "0  7590-VHVEG 2020-01-01                   No  Month-to-month   \n",
       "1  5575-GNVDE 2017-04-01                   No        One year   \n",
       "2  3668-QPYBK 2019-10-01  2019-12-01 00:00:00  Month-to-month   \n",
       "3  7795-CFOCW 2016-05-01                   No        One year   \n",
       "4  9237-HQITU 2019-09-01  2019-11-01 00:00:00  Month-to-month   \n",
       "\n",
       "  PaperlessBilling              PaymentMethod  MonthlyCharges TotalCharges  \n",
       "0              Yes           Electronic check           29.85        29.85  \n",
       "1               No               Mailed check           56.95       1889.5  \n",
       "2              Yes               Mailed check           53.85       108.15  \n",
       "3               No  Bank transfer (automatic)           42.30      1840.75  \n",
       "4              Yes           Electronic check           70.70       151.65  "
      ]
     },
     "metadata": {},
     "output_type": "display_data"
    },
    {
     "name": "stdout",
     "output_type": "stream",
     "text": [
      "<class 'pandas.core.frame.DataFrame'>\n",
      "RangeIndex: 7043 entries, 0 to 7042\n",
      "Data columns (total 5 columns):\n",
      " #   Column         Non-Null Count  Dtype \n",
      "---  ------         --------------  ----- \n",
      " 0   customerID     7043 non-null   object\n",
      " 1   gender         7043 non-null   object\n",
      " 2   SeniorCitizen  7043 non-null   int64 \n",
      " 3   Partner        7043 non-null   object\n",
      " 4   Dependents     7043 non-null   object\n",
      "dtypes: int64(1), object(4)\n",
      "memory usage: 275.2+ KB\n"
     ]
    },
    {
     "data": {
      "text/html": [
       "<div>\n",
       "<style scoped>\n",
       "    .dataframe tbody tr th:only-of-type {\n",
       "        vertical-align: middle;\n",
       "    }\n",
       "\n",
       "    .dataframe tbody tr th {\n",
       "        vertical-align: top;\n",
       "    }\n",
       "\n",
       "    .dataframe thead th {\n",
       "        text-align: right;\n",
       "    }\n",
       "</style>\n",
       "<table border=\"1\" class=\"dataframe\">\n",
       "  <thead>\n",
       "    <tr style=\"text-align: right;\">\n",
       "      <th></th>\n",
       "      <th>customerID</th>\n",
       "      <th>gender</th>\n",
       "      <th>SeniorCitizen</th>\n",
       "      <th>Partner</th>\n",
       "      <th>Dependents</th>\n",
       "    </tr>\n",
       "  </thead>\n",
       "  <tbody>\n",
       "    <tr>\n",
       "      <th>0</th>\n",
       "      <td>7590-VHVEG</td>\n",
       "      <td>Female</td>\n",
       "      <td>0</td>\n",
       "      <td>Yes</td>\n",
       "      <td>No</td>\n",
       "    </tr>\n",
       "    <tr>\n",
       "      <th>1</th>\n",
       "      <td>5575-GNVDE</td>\n",
       "      <td>Male</td>\n",
       "      <td>0</td>\n",
       "      <td>No</td>\n",
       "      <td>No</td>\n",
       "    </tr>\n",
       "    <tr>\n",
       "      <th>2</th>\n",
       "      <td>3668-QPYBK</td>\n",
       "      <td>Male</td>\n",
       "      <td>0</td>\n",
       "      <td>No</td>\n",
       "      <td>No</td>\n",
       "    </tr>\n",
       "    <tr>\n",
       "      <th>3</th>\n",
       "      <td>7795-CFOCW</td>\n",
       "      <td>Male</td>\n",
       "      <td>0</td>\n",
       "      <td>No</td>\n",
       "      <td>No</td>\n",
       "    </tr>\n",
       "    <tr>\n",
       "      <th>4</th>\n",
       "      <td>9237-HQITU</td>\n",
       "      <td>Female</td>\n",
       "      <td>0</td>\n",
       "      <td>No</td>\n",
       "      <td>No</td>\n",
       "    </tr>\n",
       "  </tbody>\n",
       "</table>\n",
       "</div>"
      ],
      "text/plain": [
       "   customerID  gender  SeniorCitizen Partner Dependents\n",
       "0  7590-VHVEG  Female              0     Yes         No\n",
       "1  5575-GNVDE    Male              0      No         No\n",
       "2  3668-QPYBK    Male              0      No         No\n",
       "3  7795-CFOCW    Male              0      No         No\n",
       "4  9237-HQITU  Female              0      No         No"
      ]
     },
     "metadata": {},
     "output_type": "display_data"
    },
    {
     "name": "stdout",
     "output_type": "stream",
     "text": [
      "<class 'pandas.core.frame.DataFrame'>\n",
      "RangeIndex: 5517 entries, 0 to 5516\n",
      "Data columns (total 8 columns):\n",
      " #   Column            Non-Null Count  Dtype \n",
      "---  ------            --------------  ----- \n",
      " 0   customerID        5517 non-null   object\n",
      " 1   InternetService   5517 non-null   object\n",
      " 2   OnlineSecurity    5517 non-null   object\n",
      " 3   OnlineBackup      5517 non-null   object\n",
      " 4   DeviceProtection  5517 non-null   object\n",
      " 5   TechSupport       5517 non-null   object\n",
      " 6   StreamingTV       5517 non-null   object\n",
      " 7   StreamingMovies   5517 non-null   object\n",
      "dtypes: object(8)\n",
      "memory usage: 344.9+ KB\n"
     ]
    },
    {
     "data": {
      "text/html": [
       "<div>\n",
       "<style scoped>\n",
       "    .dataframe tbody tr th:only-of-type {\n",
       "        vertical-align: middle;\n",
       "    }\n",
       "\n",
       "    .dataframe tbody tr th {\n",
       "        vertical-align: top;\n",
       "    }\n",
       "\n",
       "    .dataframe thead th {\n",
       "        text-align: right;\n",
       "    }\n",
       "</style>\n",
       "<table border=\"1\" class=\"dataframe\">\n",
       "  <thead>\n",
       "    <tr style=\"text-align: right;\">\n",
       "      <th></th>\n",
       "      <th>customerID</th>\n",
       "      <th>InternetService</th>\n",
       "      <th>OnlineSecurity</th>\n",
       "      <th>OnlineBackup</th>\n",
       "      <th>DeviceProtection</th>\n",
       "      <th>TechSupport</th>\n",
       "      <th>StreamingTV</th>\n",
       "      <th>StreamingMovies</th>\n",
       "    </tr>\n",
       "  </thead>\n",
       "  <tbody>\n",
       "    <tr>\n",
       "      <th>0</th>\n",
       "      <td>7590-VHVEG</td>\n",
       "      <td>DSL</td>\n",
       "      <td>No</td>\n",
       "      <td>Yes</td>\n",
       "      <td>No</td>\n",
       "      <td>No</td>\n",
       "      <td>No</td>\n",
       "      <td>No</td>\n",
       "    </tr>\n",
       "    <tr>\n",
       "      <th>1</th>\n",
       "      <td>5575-GNVDE</td>\n",
       "      <td>DSL</td>\n",
       "      <td>Yes</td>\n",
       "      <td>No</td>\n",
       "      <td>Yes</td>\n",
       "      <td>No</td>\n",
       "      <td>No</td>\n",
       "      <td>No</td>\n",
       "    </tr>\n",
       "    <tr>\n",
       "      <th>2</th>\n",
       "      <td>3668-QPYBK</td>\n",
       "      <td>DSL</td>\n",
       "      <td>Yes</td>\n",
       "      <td>Yes</td>\n",
       "      <td>No</td>\n",
       "      <td>No</td>\n",
       "      <td>No</td>\n",
       "      <td>No</td>\n",
       "    </tr>\n",
       "    <tr>\n",
       "      <th>3</th>\n",
       "      <td>7795-CFOCW</td>\n",
       "      <td>DSL</td>\n",
       "      <td>Yes</td>\n",
       "      <td>No</td>\n",
       "      <td>Yes</td>\n",
       "      <td>Yes</td>\n",
       "      <td>No</td>\n",
       "      <td>No</td>\n",
       "    </tr>\n",
       "    <tr>\n",
       "      <th>4</th>\n",
       "      <td>9237-HQITU</td>\n",
       "      <td>Fiber optic</td>\n",
       "      <td>No</td>\n",
       "      <td>No</td>\n",
       "      <td>No</td>\n",
       "      <td>No</td>\n",
       "      <td>No</td>\n",
       "      <td>No</td>\n",
       "    </tr>\n",
       "  </tbody>\n",
       "</table>\n",
       "</div>"
      ],
      "text/plain": [
       "   customerID InternetService OnlineSecurity OnlineBackup DeviceProtection  \\\n",
       "0  7590-VHVEG             DSL             No          Yes               No   \n",
       "1  5575-GNVDE             DSL            Yes           No              Yes   \n",
       "2  3668-QPYBK             DSL            Yes          Yes               No   \n",
       "3  7795-CFOCW             DSL            Yes           No              Yes   \n",
       "4  9237-HQITU     Fiber optic             No           No               No   \n",
       "\n",
       "  TechSupport StreamingTV StreamingMovies  \n",
       "0          No          No              No  \n",
       "1          No          No              No  \n",
       "2          No          No              No  \n",
       "3         Yes          No              No  \n",
       "4          No          No              No  "
      ]
     },
     "metadata": {},
     "output_type": "display_data"
    },
    {
     "name": "stdout",
     "output_type": "stream",
     "text": [
      "<class 'pandas.core.frame.DataFrame'>\n",
      "RangeIndex: 6361 entries, 0 to 6360\n",
      "Data columns (total 2 columns):\n",
      " #   Column         Non-Null Count  Dtype \n",
      "---  ------         --------------  ----- \n",
      " 0   customerID     6361 non-null   object\n",
      " 1   MultipleLines  6361 non-null   object\n",
      "dtypes: object(2)\n",
      "memory usage: 99.5+ KB\n"
     ]
    },
    {
     "data": {
      "text/html": [
       "<div>\n",
       "<style scoped>\n",
       "    .dataframe tbody tr th:only-of-type {\n",
       "        vertical-align: middle;\n",
       "    }\n",
       "\n",
       "    .dataframe tbody tr th {\n",
       "        vertical-align: top;\n",
       "    }\n",
       "\n",
       "    .dataframe thead th {\n",
       "        text-align: right;\n",
       "    }\n",
       "</style>\n",
       "<table border=\"1\" class=\"dataframe\">\n",
       "  <thead>\n",
       "    <tr style=\"text-align: right;\">\n",
       "      <th></th>\n",
       "      <th>customerID</th>\n",
       "      <th>MultipleLines</th>\n",
       "    </tr>\n",
       "  </thead>\n",
       "  <tbody>\n",
       "    <tr>\n",
       "      <th>0</th>\n",
       "      <td>5575-GNVDE</td>\n",
       "      <td>No</td>\n",
       "    </tr>\n",
       "    <tr>\n",
       "      <th>1</th>\n",
       "      <td>3668-QPYBK</td>\n",
       "      <td>No</td>\n",
       "    </tr>\n",
       "    <tr>\n",
       "      <th>2</th>\n",
       "      <td>9237-HQITU</td>\n",
       "      <td>No</td>\n",
       "    </tr>\n",
       "    <tr>\n",
       "      <th>3</th>\n",
       "      <td>9305-CDSKC</td>\n",
       "      <td>Yes</td>\n",
       "    </tr>\n",
       "    <tr>\n",
       "      <th>4</th>\n",
       "      <td>1452-KIOVK</td>\n",
       "      <td>Yes</td>\n",
       "    </tr>\n",
       "  </tbody>\n",
       "</table>\n",
       "</div>"
      ],
      "text/plain": [
       "   customerID MultipleLines\n",
       "0  5575-GNVDE            No\n",
       "1  3668-QPYBK            No\n",
       "2  9237-HQITU            No\n",
       "3  9305-CDSKC           Yes\n",
       "4  1452-KIOVK           Yes"
      ]
     },
     "metadata": {},
     "output_type": "display_data"
    }
   ],
   "source": [
    "try:\n",
    "    df_contract = pd.read_csv('contract.csv', parse_dates=['BeginDate', 'EndDate'])\n",
    "    df_personal = pd.read_csv('personal.csv')\n",
    "    df_internet = pd.read_csv('internet.csv')\n",
    "    df_phone = pd.read_csv('phone.csv')\n",
    "except:\n",
    "    df_contract = pd.read_csv('/datasets/final_provider/contract.csv', parse_dates=['BeginDate', 'EndDate'])\n",
    "    df_personal = pd.read_csv('/datasets/final_provider/personal.csv')\n",
    "    df_internet = pd.read_csv('/datasets/final_provider/internet.csv')\n",
    "    df_phone = pd.read_csv('/datasets/final_provider/phone.csv')\n",
    "    \n",
    "df_contract.info()\n",
    "display(df_contract.head())\n",
    "\n",
    "df_personal.info()\n",
    "display(df_personal.head())\n",
    "\n",
    "df_internet.info()\n",
    "display(df_internet.head())\n",
    "\n",
    "df_phone.info()\n",
    "display(df_phone.head())"
   ]
  },
  {
   "cell_type": "markdown",
   "metadata": {},
   "source": [
    "Результаты предварительного анализа:\n",
    "* contract: пропусков нет, `BeginDate` и `EndDate` требуется привести к типу `DateTime`, в `EndDate` встечается `No` в качестве значений\n",
    "* personal: пропусков нет, с типами все ок\n",
    "* internet: пропусков нет, с типами все ок\n",
    "* phone: пропусков нет, с типами все ок\n",
    "\n",
    "В последних двух таблицах данных меньше, чем в первых двух. Возможно, это связано с тем, что не все клиенты пользуются интернетом или телефонией."
   ]
  },
  {
   "cell_type": "markdown",
   "metadata": {},
   "source": [
    "### Предобработка и исследовательский анализ данных"
   ]
  },
  {
   "cell_type": "markdown",
   "metadata": {},
   "source": [
    "#### Приведение типов\n",
    "1. Даты приведем к нужным типам в момент считывания файлам\n",
    "2. Переименование колонок с названиями не по стандарту\n",
    "3. Анализ клиентов с TotalCharges = 0"
   ]
  },
  {
   "cell_type": "code",
   "execution_count": 3,
   "metadata": {},
   "outputs": [],
   "source": [
    "\n",
    "df_personal.rename(columns={'gender':'Gender'}, inplace = True)\n",
    "\n",
    "df_contract['TotalCharges'] = pd.to_numeric(df_contract['TotalCharges'], errors='coerce')\n",
    "df_contract['TotalCharges'].fillna(0, inplace = True)"
   ]
  },
  {
   "cell_type": "code",
   "execution_count": 4,
   "metadata": {},
   "outputs": [
    {
     "data": {
      "text/plain": [
       "11"
      ]
     },
     "execution_count": 4,
     "metadata": {},
     "output_type": "execute_result"
    }
   ],
   "source": [
    "df_contract[df_contract['TotalCharges'] == 0]['customerID'].count()"
   ]
  },
  {
   "cell_type": "code",
   "execution_count": 5,
   "metadata": {},
   "outputs": [
    {
     "data": {
      "text/html": [
       "<div>\n",
       "<style scoped>\n",
       "    .dataframe tbody tr th:only-of-type {\n",
       "        vertical-align: middle;\n",
       "    }\n",
       "\n",
       "    .dataframe tbody tr th {\n",
       "        vertical-align: top;\n",
       "    }\n",
       "\n",
       "    .dataframe thead th {\n",
       "        text-align: right;\n",
       "    }\n",
       "</style>\n",
       "<table border=\"1\" class=\"dataframe\">\n",
       "  <thead>\n",
       "    <tr style=\"text-align: right;\">\n",
       "      <th></th>\n",
       "      <th>customerID</th>\n",
       "      <th>BeginDate</th>\n",
       "      <th>EndDate</th>\n",
       "      <th>Type</th>\n",
       "      <th>PaperlessBilling</th>\n",
       "      <th>PaymentMethod</th>\n",
       "      <th>MonthlyCharges</th>\n",
       "      <th>TotalCharges</th>\n",
       "    </tr>\n",
       "  </thead>\n",
       "  <tbody>\n",
       "    <tr>\n",
       "      <th>488</th>\n",
       "      <td>4472-LVYGI</td>\n",
       "      <td>2020-02-01</td>\n",
       "      <td>No</td>\n",
       "      <td>Two year</td>\n",
       "      <td>Yes</td>\n",
       "      <td>Bank transfer (automatic)</td>\n",
       "      <td>52.55</td>\n",
       "      <td>0.0</td>\n",
       "    </tr>\n",
       "    <tr>\n",
       "      <th>753</th>\n",
       "      <td>3115-CZMZD</td>\n",
       "      <td>2020-02-01</td>\n",
       "      <td>No</td>\n",
       "      <td>Two year</td>\n",
       "      <td>No</td>\n",
       "      <td>Mailed check</td>\n",
       "      <td>20.25</td>\n",
       "      <td>0.0</td>\n",
       "    </tr>\n",
       "    <tr>\n",
       "      <th>936</th>\n",
       "      <td>5709-LVOEQ</td>\n",
       "      <td>2020-02-01</td>\n",
       "      <td>No</td>\n",
       "      <td>Two year</td>\n",
       "      <td>No</td>\n",
       "      <td>Mailed check</td>\n",
       "      <td>80.85</td>\n",
       "      <td>0.0</td>\n",
       "    </tr>\n",
       "    <tr>\n",
       "      <th>1082</th>\n",
       "      <td>4367-NUYAO</td>\n",
       "      <td>2020-02-01</td>\n",
       "      <td>No</td>\n",
       "      <td>Two year</td>\n",
       "      <td>No</td>\n",
       "      <td>Mailed check</td>\n",
       "      <td>25.75</td>\n",
       "      <td>0.0</td>\n",
       "    </tr>\n",
       "    <tr>\n",
       "      <th>1340</th>\n",
       "      <td>1371-DWPAZ</td>\n",
       "      <td>2020-02-01</td>\n",
       "      <td>No</td>\n",
       "      <td>Two year</td>\n",
       "      <td>No</td>\n",
       "      <td>Credit card (automatic)</td>\n",
       "      <td>56.05</td>\n",
       "      <td>0.0</td>\n",
       "    </tr>\n",
       "    <tr>\n",
       "      <th>3331</th>\n",
       "      <td>7644-OMVMY</td>\n",
       "      <td>2020-02-01</td>\n",
       "      <td>No</td>\n",
       "      <td>Two year</td>\n",
       "      <td>No</td>\n",
       "      <td>Mailed check</td>\n",
       "      <td>19.85</td>\n",
       "      <td>0.0</td>\n",
       "    </tr>\n",
       "    <tr>\n",
       "      <th>3826</th>\n",
       "      <td>3213-VVOLG</td>\n",
       "      <td>2020-02-01</td>\n",
       "      <td>No</td>\n",
       "      <td>Two year</td>\n",
       "      <td>No</td>\n",
       "      <td>Mailed check</td>\n",
       "      <td>25.35</td>\n",
       "      <td>0.0</td>\n",
       "    </tr>\n",
       "    <tr>\n",
       "      <th>4380</th>\n",
       "      <td>2520-SGTTA</td>\n",
       "      <td>2020-02-01</td>\n",
       "      <td>No</td>\n",
       "      <td>Two year</td>\n",
       "      <td>No</td>\n",
       "      <td>Mailed check</td>\n",
       "      <td>20.00</td>\n",
       "      <td>0.0</td>\n",
       "    </tr>\n",
       "    <tr>\n",
       "      <th>5218</th>\n",
       "      <td>2923-ARZLG</td>\n",
       "      <td>2020-02-01</td>\n",
       "      <td>No</td>\n",
       "      <td>One year</td>\n",
       "      <td>Yes</td>\n",
       "      <td>Mailed check</td>\n",
       "      <td>19.70</td>\n",
       "      <td>0.0</td>\n",
       "    </tr>\n",
       "    <tr>\n",
       "      <th>6670</th>\n",
       "      <td>4075-WKNIU</td>\n",
       "      <td>2020-02-01</td>\n",
       "      <td>No</td>\n",
       "      <td>Two year</td>\n",
       "      <td>No</td>\n",
       "      <td>Mailed check</td>\n",
       "      <td>73.35</td>\n",
       "      <td>0.0</td>\n",
       "    </tr>\n",
       "    <tr>\n",
       "      <th>6754</th>\n",
       "      <td>2775-SEFEE</td>\n",
       "      <td>2020-02-01</td>\n",
       "      <td>No</td>\n",
       "      <td>Two year</td>\n",
       "      <td>Yes</td>\n",
       "      <td>Bank transfer (automatic)</td>\n",
       "      <td>61.90</td>\n",
       "      <td>0.0</td>\n",
       "    </tr>\n",
       "  </tbody>\n",
       "</table>\n",
       "</div>"
      ],
      "text/plain": [
       "      customerID  BeginDate EndDate      Type PaperlessBilling  \\\n",
       "488   4472-LVYGI 2020-02-01      No  Two year              Yes   \n",
       "753   3115-CZMZD 2020-02-01      No  Two year               No   \n",
       "936   5709-LVOEQ 2020-02-01      No  Two year               No   \n",
       "1082  4367-NUYAO 2020-02-01      No  Two year               No   \n",
       "1340  1371-DWPAZ 2020-02-01      No  Two year               No   \n",
       "3331  7644-OMVMY 2020-02-01      No  Two year               No   \n",
       "3826  3213-VVOLG 2020-02-01      No  Two year               No   \n",
       "4380  2520-SGTTA 2020-02-01      No  Two year               No   \n",
       "5218  2923-ARZLG 2020-02-01      No  One year              Yes   \n",
       "6670  4075-WKNIU 2020-02-01      No  Two year               No   \n",
       "6754  2775-SEFEE 2020-02-01      No  Two year              Yes   \n",
       "\n",
       "                  PaymentMethod  MonthlyCharges  TotalCharges  \n",
       "488   Bank transfer (automatic)           52.55           0.0  \n",
       "753                Mailed check           20.25           0.0  \n",
       "936                Mailed check           80.85           0.0  \n",
       "1082               Mailed check           25.75           0.0  \n",
       "1340    Credit card (automatic)           56.05           0.0  \n",
       "3331               Mailed check           19.85           0.0  \n",
       "3826               Mailed check           25.35           0.0  \n",
       "4380               Mailed check           20.00           0.0  \n",
       "5218               Mailed check           19.70           0.0  \n",
       "6670               Mailed check           73.35           0.0  \n",
       "6754  Bank transfer (automatic)           61.90           0.0  "
      ]
     },
     "execution_count": 5,
     "metadata": {},
     "output_type": "execute_result"
    }
   ],
   "source": [
    "df_contract[df_contract['TotalCharges'] == 0]"
   ]
  },
  {
   "cell_type": "markdown",
   "metadata": {},
   "source": [
    "Всего 11 клиентов с нулевыми суммарными платежами , все они заристрировались в дату, на которую проводится анализ. Соответственно, это не техническая ошибка, так и должно быть. Если у нас предоплата, тогда корректно будет сделать присвоение TotalCharges = MonthlyCharges, но данных об этом нет."
   ]
  },
  {
   "cell_type": "markdown",
   "metadata": {},
   "source": [
    "#### Работа с пропусками"
   ]
  },
  {
   "cell_type": "code",
   "execution_count": 6,
   "metadata": {},
   "outputs": [
    {
     "data": {
      "text/plain": [
       "customerID          0\n",
       "BeginDate           0\n",
       "EndDate             0\n",
       "Type                0\n",
       "PaperlessBilling    0\n",
       "PaymentMethod       0\n",
       "MonthlyCharges      0\n",
       "TotalCharges        0\n",
       "dtype: int64"
      ]
     },
     "metadata": {},
     "output_type": "display_data"
    },
    {
     "data": {
      "text/plain": [
       "customerID       0\n",
       "Gender           0\n",
       "SeniorCitizen    0\n",
       "Partner          0\n",
       "Dependents       0\n",
       "dtype: int64"
      ]
     },
     "metadata": {},
     "output_type": "display_data"
    },
    {
     "data": {
      "text/plain": [
       "customerID          0\n",
       "InternetService     0\n",
       "OnlineSecurity      0\n",
       "OnlineBackup        0\n",
       "DeviceProtection    0\n",
       "TechSupport         0\n",
       "StreamingTV         0\n",
       "StreamingMovies     0\n",
       "dtype: int64"
      ]
     },
     "metadata": {},
     "output_type": "display_data"
    },
    {
     "data": {
      "text/plain": [
       "customerID       0\n",
       "MultipleLines    0\n",
       "dtype: int64"
      ]
     },
     "metadata": {},
     "output_type": "display_data"
    }
   ],
   "source": [
    "display(df_contract.isna().sum())\n",
    "display(df_personal.isna().sum())\n",
    "display(df_internet.isna().sum())\n",
    "display(df_phone.isna().sum())"
   ]
  },
  {
   "cell_type": "markdown",
   "metadata": {},
   "source": [
    "Пропусков не обнаружено"
   ]
  },
  {
   "cell_type": "markdown",
   "metadata": {},
   "source": [
    "#### Работа с дубликатами"
   ]
  },
  {
   "cell_type": "code",
   "execution_count": 7,
   "metadata": {},
   "outputs": [
    {
     "data": {
      "text/plain": [
       "0"
      ]
     },
     "metadata": {},
     "output_type": "display_data"
    },
    {
     "data": {
      "text/plain": [
       "0"
      ]
     },
     "metadata": {},
     "output_type": "display_data"
    },
    {
     "data": {
      "text/plain": [
       "0"
      ]
     },
     "metadata": {},
     "output_type": "display_data"
    },
    {
     "data": {
      "text/plain": [
       "0"
      ]
     },
     "metadata": {},
     "output_type": "display_data"
    }
   ],
   "source": [
    "display(df_contract.duplicated().sum())\n",
    "display(df_personal.duplicated().sum())\n",
    "display(df_internet.duplicated().sum())\n",
    "display(df_phone.duplicated().sum())"
   ]
  },
  {
   "cell_type": "markdown",
   "metadata": {},
   "source": [
    "Явных дубликатов не обнаружено"
   ]
  },
  {
   "cell_type": "code",
   "execution_count": 8,
   "metadata": {},
   "outputs": [
    {
     "name": "stdout",
     "output_type": "stream",
     "text": [
      "\n",
      "df_contract\n",
      "df_contract.Type: ['Month-to-month' 'One year' 'Two year']\n",
      "df_contract.PaperlessBilling: ['Yes' 'No']\n",
      "df_contract.PaymentMethod: ['Electronic check' 'Mailed check' 'Bank transfer (automatic)'\n",
      " 'Credit card (automatic)']\n",
      "\n",
      "df_personal\n",
      "df_personal.Gender: ['Female' 'Male']\n",
      "df_personal.Partner: ['Yes' 'No']\n",
      "df_personal.SeniorCitizen: [0 1]\n",
      "df_personal.Dependents: ['No' 'Yes']\n",
      "\n",
      "df_internet\n",
      "df_internet.InternetService: ['DSL' 'Fiber optic']\n",
      "df_internet.OnlineSecurity: ['No' 'Yes']\n",
      "df_internet.OnlineBackup: ['Yes' 'No']\n",
      "df_internet.DeviceProtection: ['No' 'Yes']\n",
      "df_internet.TechSupport: ['No' 'Yes']\n",
      "df_internet.StreamingTV: ['No' 'Yes']\n",
      "df_internet.StreamingMovies: ['No' 'Yes']\n",
      "\n",
      "df_phone\n",
      "df_phone.MultipleLines: ['No' 'Yes']\n"
     ]
    }
   ],
   "source": [
    "#Неявные дубликаты и аномальные строковые значения\n",
    "def print_unique(df_name, df, cols):\n",
    "    print(f'\\n{df_name}')\n",
    "    for col in cols: \n",
    "        print(f'{df_name}.{col}:', df[col].unique())\n",
    "\n",
    "print_unique('df_contract', df_contract, ['Type', 'PaperlessBilling', 'PaymentMethod'])\n",
    "print_unique('df_personal', df_personal, ['Gender', 'Partner', 'SeniorCitizen', 'Dependents'])\n",
    "print_unique('df_internet', df_internet, ['InternetService', 'OnlineSecurity', 'OnlineBackup', 'DeviceProtection', \n",
    "                                          'TechSupport', 'StreamingTV', 'StreamingMovies'])\n",
    "print_unique('df_phone', df_phone, ['MultipleLines'])"
   ]
  },
  {
   "cell_type": "markdown",
   "metadata": {},
   "source": [
    "Неявных дубликатов и аномальных текстовых значений не обнаружено"
   ]
  },
  {
   "cell_type": "code",
   "execution_count": 9,
   "metadata": {
    "scrolled": true
   },
   "outputs": [
    {
     "data": {
      "text/plain": [
       "array([[<AxesSubplot:title={'center':'SeniorCitizen'}>]], dtype=object)"
      ]
     },
     "execution_count": 9,
     "metadata": {},
     "output_type": "execute_result"
    },
    {
     "data": {
      "image/png": "[encoded data removed]",
      "text/plain": [
       "<Figure size 432x288 with 4 Axes>"
      ]
     },
     "metadata": {
      "needs_background": "light"
     },
     "output_type": "display_data"
    },
    {
     "data": {
      "image/png": "[encoded data removed]",
      "text/plain": [
       "<Figure size 432x288 with 1 Axes>"
      ]
     },
     "metadata": {
      "needs_background": "light"
     },
     "output_type": "display_data"
    }
   ],
   "source": [
    "df_contract.hist()\n",
    "df_personal.hist()"
   ]
  },
  {
   "cell_type": "markdown",
   "metadata": {},
   "source": [
    "Тут также не видно аномалий в распределении"
   ]
  },
  {
   "cell_type": "markdown",
   "metadata": {},
   "source": [
    "#### Формирование датасета для обучения, генерация новых признаков, удаление ненужных, выделение целевого"
   ]
  },
  {
   "cell_type": "code",
   "execution_count": 10,
   "metadata": {},
   "outputs": [
    {
     "data": {
      "text/html": [
       "<div>\n",
       "<style scoped>\n",
       "    .dataframe tbody tr th:only-of-type {\n",
       "        vertical-align: middle;\n",
       "    }\n",
       "\n",
       "    .dataframe tbody tr th {\n",
       "        vertical-align: top;\n",
       "    }\n",
       "\n",
       "    .dataframe thead th {\n",
       "        text-align: right;\n",
       "    }\n",
       "</style>\n",
       "<table border=\"1\" class=\"dataframe\">\n",
       "  <thead>\n",
       "    <tr style=\"text-align: right;\">\n",
       "      <th></th>\n",
       "      <th>customerID</th>\n",
       "      <th>BeginDate</th>\n",
       "      <th>EndDate</th>\n",
       "      <th>Type</th>\n",
       "      <th>PaperlessBilling</th>\n",
       "      <th>PaymentMethod</th>\n",
       "      <th>MonthlyCharges</th>\n",
       "      <th>TotalCharges</th>\n",
       "      <th>Gender</th>\n",
       "      <th>SeniorCitizen</th>\n",
       "      <th>Partner</th>\n",
       "      <th>Dependents</th>\n",
       "      <th>InternetService</th>\n",
       "      <th>OnlineSecurity</th>\n",
       "      <th>OnlineBackup</th>\n",
       "      <th>DeviceProtection</th>\n",
       "      <th>TechSupport</th>\n",
       "      <th>StreamingTV</th>\n",
       "      <th>StreamingMovies</th>\n",
       "      <th>MultipleLines</th>\n",
       "    </tr>\n",
       "  </thead>\n",
       "  <tbody>\n",
       "    <tr>\n",
       "      <th>0</th>\n",
       "      <td>7590-VHVEG</td>\n",
       "      <td>2020-01-01</td>\n",
       "      <td>No</td>\n",
       "      <td>Month-to-month</td>\n",
       "      <td>Yes</td>\n",
       "      <td>Electronic check</td>\n",
       "      <td>29.85</td>\n",
       "      <td>29.85</td>\n",
       "      <td>Female</td>\n",
       "      <td>0</td>\n",
       "      <td>Yes</td>\n",
       "      <td>No</td>\n",
       "      <td>DSL</td>\n",
       "      <td>No</td>\n",
       "      <td>Yes</td>\n",
       "      <td>No</td>\n",
       "      <td>No</td>\n",
       "      <td>No</td>\n",
       "      <td>No</td>\n",
       "      <td>NaN</td>\n",
       "    </tr>\n",
       "    <tr>\n",
       "      <th>1</th>\n",
       "      <td>5575-GNVDE</td>\n",
       "      <td>2017-04-01</td>\n",
       "      <td>No</td>\n",
       "      <td>One year</td>\n",
       "      <td>No</td>\n",
       "      <td>Mailed check</td>\n",
       "      <td>56.95</td>\n",
       "      <td>1889.50</td>\n",
       "      <td>Male</td>\n",
       "      <td>0</td>\n",
       "      <td>No</td>\n",
       "      <td>No</td>\n",
       "      <td>DSL</td>\n",
       "      <td>Yes</td>\n",
       "      <td>No</td>\n",
       "      <td>Yes</td>\n",
       "      <td>No</td>\n",
       "      <td>No</td>\n",
       "      <td>No</td>\n",
       "      <td>No</td>\n",
       "    </tr>\n",
       "    <tr>\n",
       "      <th>2</th>\n",
       "      <td>3668-QPYBK</td>\n",
       "      <td>2019-10-01</td>\n",
       "      <td>2019-12-01 00:00:00</td>\n",
       "      <td>Month-to-month</td>\n",
       "      <td>Yes</td>\n",
       "      <td>Mailed check</td>\n",
       "      <td>53.85</td>\n",
       "      <td>108.15</td>\n",
       "      <td>Male</td>\n",
       "      <td>0</td>\n",
       "      <td>No</td>\n",
       "      <td>No</td>\n",
       "      <td>DSL</td>\n",
       "      <td>Yes</td>\n",
       "      <td>Yes</td>\n",
       "      <td>No</td>\n",
       "      <td>No</td>\n",
       "      <td>No</td>\n",
       "      <td>No</td>\n",
       "      <td>No</td>\n",
       "    </tr>\n",
       "    <tr>\n",
       "      <th>3</th>\n",
       "      <td>7795-CFOCW</td>\n",
       "      <td>2016-05-01</td>\n",
       "      <td>No</td>\n",
       "      <td>One year</td>\n",
       "      <td>No</td>\n",
       "      <td>Bank transfer (automatic)</td>\n",
       "      <td>42.30</td>\n",
       "      <td>1840.75</td>\n",
       "      <td>Male</td>\n",
       "      <td>0</td>\n",
       "      <td>No</td>\n",
       "      <td>No</td>\n",
       "      <td>DSL</td>\n",
       "      <td>Yes</td>\n",
       "      <td>No</td>\n",
       "      <td>Yes</td>\n",
       "      <td>Yes</td>\n",
       "      <td>No</td>\n",
       "      <td>No</td>\n",
       "      <td>NaN</td>\n",
       "    </tr>\n",
       "    <tr>\n",
       "      <th>4</th>\n",
       "      <td>9237-HQITU</td>\n",
       "      <td>2019-09-01</td>\n",
       "      <td>2019-11-01 00:00:00</td>\n",
       "      <td>Month-to-month</td>\n",
       "      <td>Yes</td>\n",
       "      <td>Electronic check</td>\n",
       "      <td>70.70</td>\n",
       "      <td>151.65</td>\n",
       "      <td>Female</td>\n",
       "      <td>0</td>\n",
       "      <td>No</td>\n",
       "      <td>No</td>\n",
       "      <td>Fiber optic</td>\n",
       "      <td>No</td>\n",
       "      <td>No</td>\n",
       "      <td>No</td>\n",
       "      <td>No</td>\n",
       "      <td>No</td>\n",
       "      <td>No</td>\n",
       "      <td>No</td>\n",
       "    </tr>\n",
       "    <tr>\n",
       "      <th>...</th>\n",
       "      <td>...</td>\n",
       "      <td>...</td>\n",
       "      <td>...</td>\n",
       "      <td>...</td>\n",
       "      <td>...</td>\n",
       "      <td>...</td>\n",
       "      <td>...</td>\n",
       "      <td>...</td>\n",
       "      <td>...</td>\n",
       "      <td>...</td>\n",
       "      <td>...</td>\n",
       "      <td>...</td>\n",
       "      <td>...</td>\n",
       "      <td>...</td>\n",
       "      <td>...</td>\n",
       "      <td>...</td>\n",
       "      <td>...</td>\n",
       "      <td>...</td>\n",
       "      <td>...</td>\n",
       "      <td>...</td>\n",
       "    </tr>\n",
       "    <tr>\n",
       "      <th>7038</th>\n",
       "      <td>6840-RESVB</td>\n",
       "      <td>2018-02-01</td>\n",
       "      <td>No</td>\n",
       "      <td>One year</td>\n",
       "      <td>Yes</td>\n",
       "      <td>Mailed check</td>\n",
       "      <td>84.80</td>\n",
       "      <td>1990.50</td>\n",
       "      <td>Male</td>\n",
       "      <td>0</td>\n",
       "      <td>Yes</td>\n",
       "      <td>Yes</td>\n",
       "      <td>DSL</td>\n",
       "      <td>Yes</td>\n",
       "      <td>No</td>\n",
       "      <td>Yes</td>\n",
       "      <td>Yes</td>\n",
       "      <td>Yes</td>\n",
       "      <td>Yes</td>\n",
       "      <td>Yes</td>\n",
       "    </tr>\n",
       "    <tr>\n",
       "      <th>7039</th>\n",
       "      <td>2234-XADUH</td>\n",
       "      <td>2014-02-01</td>\n",
       "      <td>No</td>\n",
       "      <td>One year</td>\n",
       "      <td>Yes</td>\n",
       "      <td>Credit card (automatic)</td>\n",
       "      <td>103.20</td>\n",
       "      <td>7362.90</td>\n",
       "      <td>Female</td>\n",
       "      <td>0</td>\n",
       "      <td>Yes</td>\n",
       "      <td>Yes</td>\n",
       "      <td>Fiber optic</td>\n",
       "      <td>No</td>\n",
       "      <td>Yes</td>\n",
       "      <td>Yes</td>\n",
       "      <td>No</td>\n",
       "      <td>Yes</td>\n",
       "      <td>Yes</td>\n",
       "      <td>Yes</td>\n",
       "    </tr>\n",
       "    <tr>\n",
       "      <th>7040</th>\n",
       "      <td>4801-JZAZL</td>\n",
       "      <td>2019-03-01</td>\n",
       "      <td>No</td>\n",
       "      <td>Month-to-month</td>\n",
       "      <td>Yes</td>\n",
       "      <td>Electronic check</td>\n",
       "      <td>29.60</td>\n",
       "      <td>346.45</td>\n",
       "      <td>Female</td>\n",
       "      <td>0</td>\n",
       "      <td>Yes</td>\n",
       "      <td>Yes</td>\n",
       "      <td>DSL</td>\n",
       "      <td>Yes</td>\n",
       "      <td>No</td>\n",
       "      <td>No</td>\n",
       "      <td>No</td>\n",
       "      <td>No</td>\n",
       "      <td>No</td>\n",
       "      <td>NaN</td>\n",
       "    </tr>\n",
       "    <tr>\n",
       "      <th>7041</th>\n",
       "      <td>8361-LTMKD</td>\n",
       "      <td>2019-07-01</td>\n",
       "      <td>2019-11-01 00:00:00</td>\n",
       "      <td>Month-to-month</td>\n",
       "      <td>Yes</td>\n",
       "      <td>Mailed check</td>\n",
       "      <td>74.40</td>\n",
       "      <td>306.60</td>\n",
       "      <td>Male</td>\n",
       "      <td>1</td>\n",
       "      <td>Yes</td>\n",
       "      <td>No</td>\n",
       "      <td>Fiber optic</td>\n",
       "      <td>No</td>\n",
       "      <td>No</td>\n",
       "      <td>No</td>\n",
       "      <td>No</td>\n",
       "      <td>No</td>\n",
       "      <td>No</td>\n",
       "      <td>Yes</td>\n",
       "    </tr>\n",
       "    <tr>\n",
       "      <th>7042</th>\n",
       "      <td>3186-AJIEK</td>\n",
       "      <td>2014-08-01</td>\n",
       "      <td>No</td>\n",
       "      <td>Two year</td>\n",
       "      <td>Yes</td>\n",
       "      <td>Bank transfer (automatic)</td>\n",
       "      <td>105.65</td>\n",
       "      <td>6844.50</td>\n",
       "      <td>Male</td>\n",
       "      <td>0</td>\n",
       "      <td>No</td>\n",
       "      <td>No</td>\n",
       "      <td>Fiber optic</td>\n",
       "      <td>Yes</td>\n",
       "      <td>No</td>\n",
       "      <td>Yes</td>\n",
       "      <td>Yes</td>\n",
       "      <td>Yes</td>\n",
       "      <td>Yes</td>\n",
       "      <td>No</td>\n",
       "    </tr>\n",
       "  </tbody>\n",
       "</table>\n",
       "<p>7043 rows × 20 columns</p>\n",
       "</div>"
      ],
      "text/plain": [
       "      customerID  BeginDate              EndDate            Type  \\\n",
       "0     7590-VHVEG 2020-01-01                   No  Month-to-month   \n",
       "1     5575-GNVDE 2017-04-01                   No        One year   \n",
       "2     3668-QPYBK 2019-10-01  2019-12-01 00:00:00  Month-to-month   \n",
       "3     7795-CFOCW 2016-05-01                   No        One year   \n",
       "4     9237-HQITU 2019-09-01  2019-11-01 00:00:00  Month-to-month   \n",
       "...          ...        ...                  ...             ...   \n",
       "7038  6840-RESVB 2018-02-01                   No        One year   \n",
       "7039  2234-XADUH 2014-02-01                   No        One year   \n",
       "7040  4801-JZAZL 2019-03-01                   No  Month-to-month   \n",
       "7041  8361-LTMKD 2019-07-01  2019-11-01 00:00:00  Month-to-month   \n",
       "7042  3186-AJIEK 2014-08-01                   No        Two year   \n",
       "\n",
       "     PaperlessBilling              PaymentMethod  MonthlyCharges  \\\n",
       "0                 Yes           Electronic check           29.85   \n",
       "1                  No               Mailed check           56.95   \n",
       "2                 Yes               Mailed check           53.85   \n",
       "3                  No  Bank transfer (automatic)           42.30   \n",
       "4                 Yes           Electronic check           70.70   \n",
       "...               ...                        ...             ...   \n",
       "7038              Yes               Mailed check           84.80   \n",
       "7039              Yes    Credit card (automatic)          103.20   \n",
       "7040              Yes           Electronic check           29.60   \n",
       "7041              Yes               Mailed check           74.40   \n",
       "7042              Yes  Bank transfer (automatic)          105.65   \n",
       "\n",
       "      TotalCharges  Gender  SeniorCitizen Partner Dependents InternetService  \\\n",
       "0            29.85  Female              0     Yes         No             DSL   \n",
       "1          1889.50    Male              0      No         No             DSL   \n",
       "2           108.15    Male              0      No         No             DSL   \n",
       "3          1840.75    Male              0      No         No             DSL   \n",
       "4           151.65  Female              0      No         No     Fiber optic   \n",
       "...            ...     ...            ...     ...        ...             ...   \n",
       "7038       1990.50    Male              0     Yes        Yes             DSL   \n",
       "7039       7362.90  Female              0     Yes        Yes     Fiber optic   \n",
       "7040        346.45  Female              0     Yes        Yes             DSL   \n",
       "7041        306.60    Male              1     Yes         No     Fiber optic   \n",
       "7042       6844.50    Male              0      No         No     Fiber optic   \n",
       "\n",
       "     OnlineSecurity OnlineBackup DeviceProtection TechSupport StreamingTV  \\\n",
       "0                No          Yes               No          No          No   \n",
       "1               Yes           No              Yes          No          No   \n",
       "2               Yes          Yes               No          No          No   \n",
       "3               Yes           No              Yes         Yes          No   \n",
       "4                No           No               No          No          No   \n",
       "...             ...          ...              ...         ...         ...   \n",
       "7038            Yes           No              Yes         Yes         Yes   \n",
       "7039             No          Yes              Yes          No         Yes   \n",
       "7040            Yes           No               No          No          No   \n",
       "7041             No           No               No          No          No   \n",
       "7042            Yes           No              Yes         Yes         Yes   \n",
       "\n",
       "     StreamingMovies MultipleLines  \n",
       "0                 No           NaN  \n",
       "1                 No            No  \n",
       "2                 No            No  \n",
       "3                 No           NaN  \n",
       "4                 No            No  \n",
       "...              ...           ...  \n",
       "7038             Yes           Yes  \n",
       "7039             Yes           Yes  \n",
       "7040              No           NaN  \n",
       "7041              No           Yes  \n",
       "7042             Yes            No  \n",
       "\n",
       "[7043 rows x 20 columns]"
      ]
     },
     "execution_count": 10,
     "metadata": {},
     "output_type": "execute_result"
    }
   ],
   "source": [
    "df = (df_contract.merge(df_personal, on='customerID', how='left')\n",
    "                .merge(df_internet, on='customerID', how='left')\n",
    "                .merge(df_phone, on='customerID', how='left')\n",
    "     )\n",
    "df"
   ]
  },
  {
   "cell_type": "code",
   "execution_count": 11,
   "metadata": {},
   "outputs": [
    {
     "data": {
      "text/plain": [
       "customerID             0\n",
       "BeginDate              0\n",
       "EndDate                0\n",
       "Type                   0\n",
       "PaperlessBilling       0\n",
       "PaymentMethod          0\n",
       "MonthlyCharges         0\n",
       "TotalCharges           0\n",
       "Gender                 0\n",
       "SeniorCitizen          0\n",
       "Partner                0\n",
       "Dependents             0\n",
       "InternetService     1526\n",
       "OnlineSecurity      1526\n",
       "OnlineBackup        1526\n",
       "DeviceProtection    1526\n",
       "TechSupport         1526\n",
       "StreamingTV         1526\n",
       "StreamingMovies     1526\n",
       "MultipleLines        682\n",
       "dtype: int64"
      ]
     },
     "execution_count": 11,
     "metadata": {},
     "output_type": "execute_result"
    }
   ],
   "source": [
    "#Из-за меньшего кол-ва строк в последних двух таблицах будут пропуски, заполним их значениями \"unknown\", \n",
    "#т.к. остальные данные имеют ценность и не должны быть потеряны\n",
    "df.isna().sum()"
   ]
  },
  {
   "cell_type": "code",
   "execution_count": 12,
   "metadata": {
    "scrolled": true
   },
   "outputs": [
    {
     "data": {
      "text/plain": [
       "customerID          0\n",
       "BeginDate           0\n",
       "EndDate             0\n",
       "Type                0\n",
       "PaperlessBilling    0\n",
       "PaymentMethod       0\n",
       "MonthlyCharges      0\n",
       "TotalCharges        0\n",
       "Gender              0\n",
       "SeniorCitizen       0\n",
       "Partner             0\n",
       "Dependents          0\n",
       "InternetService     0\n",
       "OnlineSecurity      0\n",
       "OnlineBackup        0\n",
       "DeviceProtection    0\n",
       "TechSupport         0\n",
       "StreamingTV         0\n",
       "StreamingMovies     0\n",
       "MultipleLines       0\n",
       "dtype: int64"
      ]
     },
     "execution_count": 12,
     "metadata": {},
     "output_type": "execute_result"
    }
   ],
   "source": [
    "df.fillna('unknown', inplace = True)\n",
    "df.isna().sum()"
   ]
  },
  {
   "cell_type": "code",
   "execution_count": 13,
   "metadata": {
    "scrolled": true
   },
   "outputs": [
    {
     "data": {
      "text/html": [
       "<div>\n",
       "<style scoped>\n",
       "    .dataframe tbody tr th:only-of-type {\n",
       "        vertical-align: middle;\n",
       "    }\n",
       "\n",
       "    .dataframe tbody tr th {\n",
       "        vertical-align: top;\n",
       "    }\n",
       "\n",
       "    .dataframe thead th {\n",
       "        text-align: right;\n",
       "    }\n",
       "</style>\n",
       "<table border=\"1\" class=\"dataframe\">\n",
       "  <thead>\n",
       "    <tr style=\"text-align: right;\">\n",
       "      <th></th>\n",
       "      <th>Type</th>\n",
       "      <th>PaperlessBilling</th>\n",
       "      <th>PaymentMethod</th>\n",
       "      <th>MonthlyCharges</th>\n",
       "      <th>TotalCharges</th>\n",
       "      <th>Gender</th>\n",
       "      <th>SeniorCitizen</th>\n",
       "      <th>Partner</th>\n",
       "      <th>Dependents</th>\n",
       "      <th>InternetService</th>\n",
       "      <th>OnlineSecurity</th>\n",
       "      <th>OnlineBackup</th>\n",
       "      <th>DeviceProtection</th>\n",
       "      <th>TechSupport</th>\n",
       "      <th>StreamingTV</th>\n",
       "      <th>StreamingMovies</th>\n",
       "      <th>MultipleLines</th>\n",
       "      <th>Churned</th>\n",
       "      <th>Duration</th>\n",
       "    </tr>\n",
       "  </thead>\n",
       "  <tbody>\n",
       "    <tr>\n",
       "      <th>0</th>\n",
       "      <td>Month-to-month</td>\n",
       "      <td>Yes</td>\n",
       "      <td>Electronic check</td>\n",
       "      <td>29.85</td>\n",
       "      <td>29.85</td>\n",
       "      <td>Female</td>\n",
       "      <td>0</td>\n",
       "      <td>Yes</td>\n",
       "      <td>No</td>\n",
       "      <td>DSL</td>\n",
       "      <td>No</td>\n",
       "      <td>Yes</td>\n",
       "      <td>No</td>\n",
       "      <td>No</td>\n",
       "      <td>No</td>\n",
       "      <td>No</td>\n",
       "      <td>unknown</td>\n",
       "      <td>0</td>\n",
       "      <td>31</td>\n",
       "    </tr>\n",
       "    <tr>\n",
       "      <th>1</th>\n",
       "      <td>One year</td>\n",
       "      <td>No</td>\n",
       "      <td>Mailed check</td>\n",
       "      <td>56.95</td>\n",
       "      <td>1889.50</td>\n",
       "      <td>Male</td>\n",
       "      <td>0</td>\n",
       "      <td>No</td>\n",
       "      <td>No</td>\n",
       "      <td>DSL</td>\n",
       "      <td>Yes</td>\n",
       "      <td>No</td>\n",
       "      <td>Yes</td>\n",
       "      <td>No</td>\n",
       "      <td>No</td>\n",
       "      <td>No</td>\n",
       "      <td>No</td>\n",
       "      <td>0</td>\n",
       "      <td>1036</td>\n",
       "    </tr>\n",
       "    <tr>\n",
       "      <th>2</th>\n",
       "      <td>Month-to-month</td>\n",
       "      <td>Yes</td>\n",
       "      <td>Mailed check</td>\n",
       "      <td>53.85</td>\n",
       "      <td>108.15</td>\n",
       "      <td>Male</td>\n",
       "      <td>0</td>\n",
       "      <td>No</td>\n",
       "      <td>No</td>\n",
       "      <td>DSL</td>\n",
       "      <td>Yes</td>\n",
       "      <td>Yes</td>\n",
       "      <td>No</td>\n",
       "      <td>No</td>\n",
       "      <td>No</td>\n",
       "      <td>No</td>\n",
       "      <td>No</td>\n",
       "      <td>1</td>\n",
       "      <td>123</td>\n",
       "    </tr>\n",
       "    <tr>\n",
       "      <th>3</th>\n",
       "      <td>One year</td>\n",
       "      <td>No</td>\n",
       "      <td>Bank transfer (automatic)</td>\n",
       "      <td>42.30</td>\n",
       "      <td>1840.75</td>\n",
       "      <td>Male</td>\n",
       "      <td>0</td>\n",
       "      <td>No</td>\n",
       "      <td>No</td>\n",
       "      <td>DSL</td>\n",
       "      <td>Yes</td>\n",
       "      <td>No</td>\n",
       "      <td>Yes</td>\n",
       "      <td>Yes</td>\n",
       "      <td>No</td>\n",
       "      <td>No</td>\n",
       "      <td>unknown</td>\n",
       "      <td>0</td>\n",
       "      <td>1371</td>\n",
       "    </tr>\n",
       "    <tr>\n",
       "      <th>4</th>\n",
       "      <td>Month-to-month</td>\n",
       "      <td>Yes</td>\n",
       "      <td>Electronic check</td>\n",
       "      <td>70.70</td>\n",
       "      <td>151.65</td>\n",
       "      <td>Female</td>\n",
       "      <td>0</td>\n",
       "      <td>No</td>\n",
       "      <td>No</td>\n",
       "      <td>Fiber optic</td>\n",
       "      <td>No</td>\n",
       "      <td>No</td>\n",
       "      <td>No</td>\n",
       "      <td>No</td>\n",
       "      <td>No</td>\n",
       "      <td>No</td>\n",
       "      <td>No</td>\n",
       "      <td>1</td>\n",
       "      <td>153</td>\n",
       "    </tr>\n",
       "    <tr>\n",
       "      <th>...</th>\n",
       "      <td>...</td>\n",
       "      <td>...</td>\n",
       "      <td>...</td>\n",
       "      <td>...</td>\n",
       "      <td>...</td>\n",
       "      <td>...</td>\n",
       "      <td>...</td>\n",
       "      <td>...</td>\n",
       "      <td>...</td>\n",
       "      <td>...</td>\n",
       "      <td>...</td>\n",
       "      <td>...</td>\n",
       "      <td>...</td>\n",
       "      <td>...</td>\n",
       "      <td>...</td>\n",
       "      <td>...</td>\n",
       "      <td>...</td>\n",
       "      <td>...</td>\n",
       "      <td>...</td>\n",
       "    </tr>\n",
       "    <tr>\n",
       "      <th>7038</th>\n",
       "      <td>One year</td>\n",
       "      <td>Yes</td>\n",
       "      <td>Mailed check</td>\n",
       "      <td>84.80</td>\n",
       "      <td>1990.50</td>\n",
       "      <td>Male</td>\n",
       "      <td>0</td>\n",
       "      <td>Yes</td>\n",
       "      <td>Yes</td>\n",
       "      <td>DSL</td>\n",
       "      <td>Yes</td>\n",
       "      <td>No</td>\n",
       "      <td>Yes</td>\n",
       "      <td>Yes</td>\n",
       "      <td>Yes</td>\n",
       "      <td>Yes</td>\n",
       "      <td>Yes</td>\n",
       "      <td>0</td>\n",
       "      <td>730</td>\n",
       "    </tr>\n",
       "    <tr>\n",
       "      <th>7039</th>\n",
       "      <td>One year</td>\n",
       "      <td>Yes</td>\n",
       "      <td>Credit card (automatic)</td>\n",
       "      <td>103.20</td>\n",
       "      <td>7362.90</td>\n",
       "      <td>Female</td>\n",
       "      <td>0</td>\n",
       "      <td>Yes</td>\n",
       "      <td>Yes</td>\n",
       "      <td>Fiber optic</td>\n",
       "      <td>No</td>\n",
       "      <td>Yes</td>\n",
       "      <td>Yes</td>\n",
       "      <td>No</td>\n",
       "      <td>Yes</td>\n",
       "      <td>Yes</td>\n",
       "      <td>Yes</td>\n",
       "      <td>0</td>\n",
       "      <td>2191</td>\n",
       "    </tr>\n",
       "    <tr>\n",
       "      <th>7040</th>\n",
       "      <td>Month-to-month</td>\n",
       "      <td>Yes</td>\n",
       "      <td>Electronic check</td>\n",
       "      <td>29.60</td>\n",
       "      <td>346.45</td>\n",
       "      <td>Female</td>\n",
       "      <td>0</td>\n",
       "      <td>Yes</td>\n",
       "      <td>Yes</td>\n",
       "      <td>DSL</td>\n",
       "      <td>Yes</td>\n",
       "      <td>No</td>\n",
       "      <td>No</td>\n",
       "      <td>No</td>\n",
       "      <td>No</td>\n",
       "      <td>No</td>\n",
       "      <td>unknown</td>\n",
       "      <td>0</td>\n",
       "      <td>337</td>\n",
       "    </tr>\n",
       "    <tr>\n",
       "      <th>7041</th>\n",
       "      <td>Month-to-month</td>\n",
       "      <td>Yes</td>\n",
       "      <td>Mailed check</td>\n",
       "      <td>74.40</td>\n",
       "      <td>306.60</td>\n",
       "      <td>Male</td>\n",
       "      <td>1</td>\n",
       "      <td>Yes</td>\n",
       "      <td>No</td>\n",
       "      <td>Fiber optic</td>\n",
       "      <td>No</td>\n",
       "      <td>No</td>\n",
       "      <td>No</td>\n",
       "      <td>No</td>\n",
       "      <td>No</td>\n",
       "      <td>No</td>\n",
       "      <td>Yes</td>\n",
       "      <td>1</td>\n",
       "      <td>215</td>\n",
       "    </tr>\n",
       "    <tr>\n",
       "      <th>7042</th>\n",
       "      <td>Two year</td>\n",
       "      <td>Yes</td>\n",
       "      <td>Bank transfer (automatic)</td>\n",
       "      <td>105.65</td>\n",
       "      <td>6844.50</td>\n",
       "      <td>Male</td>\n",
       "      <td>0</td>\n",
       "      <td>No</td>\n",
       "      <td>No</td>\n",
       "      <td>Fiber optic</td>\n",
       "      <td>Yes</td>\n",
       "      <td>No</td>\n",
       "      <td>Yes</td>\n",
       "      <td>Yes</td>\n",
       "      <td>Yes</td>\n",
       "      <td>Yes</td>\n",
       "      <td>No</td>\n",
       "      <td>0</td>\n",
       "      <td>2010</td>\n",
       "    </tr>\n",
       "  </tbody>\n",
       "</table>\n",
       "<p>7043 rows × 19 columns</p>\n",
       "</div>"
      ],
      "text/plain": [
       "                Type PaperlessBilling              PaymentMethod  \\\n",
       "0     Month-to-month              Yes           Electronic check   \n",
       "1           One year               No               Mailed check   \n",
       "2     Month-to-month              Yes               Mailed check   \n",
       "3           One year               No  Bank transfer (automatic)   \n",
       "4     Month-to-month              Yes           Electronic check   \n",
       "...              ...              ...                        ...   \n",
       "7038        One year              Yes               Mailed check   \n",
       "7039        One year              Yes    Credit card (automatic)   \n",
       "7040  Month-to-month              Yes           Electronic check   \n",
       "7041  Month-to-month              Yes               Mailed check   \n",
       "7042        Two year              Yes  Bank transfer (automatic)   \n",
       "\n",
       "      MonthlyCharges  TotalCharges  Gender  SeniorCitizen Partner Dependents  \\\n",
       "0              29.85         29.85  Female              0     Yes         No   \n",
       "1              56.95       1889.50    Male              0      No         No   \n",
       "2              53.85        108.15    Male              0      No         No   \n",
       "3              42.30       1840.75    Male              0      No         No   \n",
       "4              70.70        151.65  Female              0      No         No   \n",
       "...              ...           ...     ...            ...     ...        ...   \n",
       "7038           84.80       1990.50    Male              0     Yes        Yes   \n",
       "7039          103.20       7362.90  Female              0     Yes        Yes   \n",
       "7040           29.60        346.45  Female              0     Yes        Yes   \n",
       "7041           74.40        306.60    Male              1     Yes         No   \n",
       "7042          105.65       6844.50    Male              0      No         No   \n",
       "\n",
       "     InternetService OnlineSecurity OnlineBackup DeviceProtection TechSupport  \\\n",
       "0                DSL             No          Yes               No          No   \n",
       "1                DSL            Yes           No              Yes          No   \n",
       "2                DSL            Yes          Yes               No          No   \n",
       "3                DSL            Yes           No              Yes         Yes   \n",
       "4        Fiber optic             No           No               No          No   \n",
       "...              ...            ...          ...              ...         ...   \n",
       "7038             DSL            Yes           No              Yes         Yes   \n",
       "7039     Fiber optic             No          Yes              Yes          No   \n",
       "7040             DSL            Yes           No               No          No   \n",
       "7041     Fiber optic             No           No               No          No   \n",
       "7042     Fiber optic            Yes           No              Yes         Yes   \n",
       "\n",
       "     StreamingTV StreamingMovies MultipleLines  Churned  Duration  \n",
       "0             No              No       unknown        0        31  \n",
       "1             No              No            No        0      1036  \n",
       "2             No              No            No        1       123  \n",
       "3             No              No       unknown        0      1371  \n",
       "4             No              No            No        1       153  \n",
       "...          ...             ...           ...      ...       ...  \n",
       "7038         Yes             Yes           Yes        0       730  \n",
       "7039         Yes             Yes           Yes        0      2191  \n",
       "7040          No              No       unknown        0       337  \n",
       "7041          No              No           Yes        1       215  \n",
       "7042         Yes             Yes            No        0      2010  \n",
       "\n",
       "[7043 rows x 19 columns]"
      ]
     },
     "execution_count": 13,
     "metadata": {},
     "output_type": "execute_result"
    }
   ],
   "source": [
    "#Генерация целевого признака churned\n",
    "df['Churned'] = (df['EndDate'] != 'No').astype(int)\n",
    "#Генерируем доп.признак - длительность контракта\n",
    "cur_date  = datetime.strptime('01/02/20', '%d/%m/%y')\n",
    "df['Duration'] = (cur_date - df['BeginDate']).dt.days\n",
    "##Больше даты не нужны, удаляем эти колонки, заодно выделяем целевой признак\n",
    "target = df['Churned']\n",
    "df.drop(columns=['BeginDate', 'EndDate', 'customerID'], inplace=True)\n",
    "df"
   ]
  },
  {
   "cell_type": "markdown",
   "metadata": {},
   "source": [
    "#### Проверка корреляции признаков"
   ]
  },
  {
   "cell_type": "code",
   "execution_count": 14,
   "metadata": {},
   "outputs": [
    {
     "data": {
      "text/plain": [
       "<AxesSubplot:xlabel='TotalCharges', ylabel='Duration'>"
      ]
     },
     "execution_count": 14,
     "metadata": {},
     "output_type": "execute_result"
    },
    {
     "data": {
      "image/png": "[encoded data removed]",
      "text/plain": [
       "<Figure size 432x288 with 1 Axes>"
      ]
     },
     "metadata": {
      "needs_background": "light"
     },
     "output_type": "display_data"
    },
    {
     "data": {
      "image/png": "[encoded data removed]",
      "text/plain": [
       "<Figure size 432x288 with 1 Axes>"
      ]
     },
     "metadata": {
      "needs_background": "light"
     },
     "output_type": "display_data"
    },
    {
     "data": {
      "image/png": "[encoded data removed]",
      "text/plain": [
       "<Figure size 432x288 with 1 Axes>"
      ]
     },
     "metadata": {
      "needs_background": "light"
     },
     "output_type": "display_data"
    }
   ],
   "source": [
    "df.plot(kind='scatter', x='MonthlyCharges', y='TotalCharges', alpha=0.1, grid = True)\n",
    "df.plot(kind='scatter', x='MonthlyCharges', y='Duration', alpha=0.1, grid = True)\n",
    "df.plot(kind='scatter', x='TotalCharges', y='Duration', alpha=0.1, grid = True)"
   ]
  },
  {
   "cell_type": "markdown",
   "metadata": {},
   "source": [
    "Можно сделать вывод, что между MonthlyCharges и TotalCharges есть корреляция на уровне верхней границы TotalCharges. А именно, для каждого значения MonthlyCharges есть порог TotalCharges, который не может быть превышен. Это логично, если платежи начислялись равномерно по месяцам. Можно также сказать, что не было существенного скачка цен . Вне пороговых значений  TotalCharges корреляции нет. Это объясняется тем, что абоненты более менее равномерно приходят и уходят.\n",
    "\n",
    "Зависимость Duration от MonthlyCharges: самое равномерное распределение по длительности контракта у абонентов с минимальной месячными платежами, также видно, что среди наиболее лояльных клиентов выделяются те, кто платит ежемесячно больше всего.\n",
    "\n",
    "Зависимость Duration от TotalCharges: ожидаемо, что суммарно больше платят те, кто дольше всех является абонентом. Также по графику видно, чем больше длительность контракта, тем сильнее растет разброс в TotalCharges. Это укладывается в здравый смысл, т.к. с течением времени абоненты с более высоким тарифом начинают сильнее обгонять абонентов с более низкими по суммарным платежам."
   ]
  },
  {
   "cell_type": "code",
   "execution_count": 18,
   "metadata": {},
   "outputs": [
    {
     "data": {
      "text/html": [
       "<div>\n",
       "<style scoped>\n",
       "    .dataframe tbody tr th:only-of-type {\n",
       "        vertical-align: middle;\n",
       "    }\n",
       "\n",
       "    .dataframe tbody tr th {\n",
       "        vertical-align: top;\n",
       "    }\n",
       "\n",
       "    .dataframe thead th {\n",
       "        text-align: right;\n",
       "    }\n",
       "</style>\n",
       "<table border=\"1\" class=\"dataframe\">\n",
       "  <thead>\n",
       "    <tr style=\"text-align: right;\">\n",
       "      <th></th>\n",
       "      <th>MonthlyCharges</th>\n",
       "      <th>TotalCharges</th>\n",
       "      <th>Duration</th>\n",
       "    </tr>\n",
       "  </thead>\n",
       "  <tbody>\n",
       "    <tr>\n",
       "      <th>MonthlyCharges</th>\n",
       "      <td>1.000000</td>\n",
       "      <td>0.651174</td>\n",
       "      <td>0.260860</td>\n",
       "    </tr>\n",
       "    <tr>\n",
       "      <th>TotalCharges</th>\n",
       "      <td>0.651174</td>\n",
       "      <td>1.000000</td>\n",
       "      <td>0.829418</td>\n",
       "    </tr>\n",
       "    <tr>\n",
       "      <th>Duration</th>\n",
       "      <td>0.260860</td>\n",
       "      <td>0.829418</td>\n",
       "      <td>1.000000</td>\n",
       "    </tr>\n",
       "  </tbody>\n",
       "</table>\n",
       "</div>"
      ],
      "text/plain": [
       "                MonthlyCharges  TotalCharges  Duration\n",
       "MonthlyCharges        1.000000      0.651174  0.260860\n",
       "TotalCharges          0.651174      1.000000  0.829418\n",
       "Duration              0.260860      0.829418  1.000000"
      ]
     },
     "execution_count": 18,
     "metadata": {},
     "output_type": "execute_result"
    }
   ],
   "source": [
    "df[['MonthlyCharges', 'TotalCharges', 'Duration']].corr()"
   ]
  },
  {
   "cell_type": "markdown",
   "metadata": {},
   "source": [
    "Обнаружена корреляция между признаками Duration и TotalCharges, равная 0.82. Это означает, что имеет место мультиколлинеарность. Чтобы ее исключить перед обучением в логистической регрессии удалим признак Duration"
   ]
  },
  {
   "cell_type": "code",
   "execution_count": 124,
   "metadata": {},
   "outputs": [
    {
     "data": {
      "image/png": "[encoded data removed]",
      "text/plain": [
       "<Figure size 432x288 with 1 Axes>"
      ]
     },
     "metadata": {},
     "output_type": "display_data"
    }
   ],
   "source": [
    "df.groupby('Churned')['Churned'].count().plot(kind='pie', title='Соотношение удержанных и отвалившихся абонентов')\n",
    "plt.show()"
   ]
  },
  {
   "cell_type": "markdown",
   "metadata": {},
   "source": [
    "Видно, что расторгли контракты около трети абонентов"
   ]
  },
  {
   "cell_type": "markdown",
   "metadata": {},
   "source": [
    "Сравнение средних и медианных месячных платежей "
   ]
  },
  {
   "cell_type": "code",
   "execution_count": 125,
   "metadata": {},
   "outputs": [
    {
     "data": {
      "text/plain": [
       "<BarContainer object of 2 artists>"
      ]
     },
     "execution_count": 125,
     "metadata": {},
     "output_type": "execute_result"
    },
    {
     "data": {
      "image/png": "[encoded data removed]",
      "text/plain": [
       "<Figure size 432x288 with 1 Axes>"
      ]
     },
     "metadata": {
      "needs_background": "light"
     },
     "output_type": "display_data"
    }
   ],
   "source": [
    "df_churned = df[df['Churned'] == 1]\n",
    "x = ['ср. месячный платеж (отвал)', 'мед. месячный платеж (отвал)']\n",
    "y = [df_churned['MonthlyCharges'].mean(), df_churned['MonthlyCharges'].median()]\n",
    "plt.barh(x, y)\n",
    "\n",
    "df_retained = df[df['Churned'] == 0]\n",
    "x = ['ср. месячный платеж (удерж)', 'мед. месячный платеж (удерж)']\n",
    "y = [df_retained['MonthlyCharges'].mean(), df_retained['MonthlyCharges'].median()]\n",
    "plt.barh(x, y)"
   ]
  },
  {
   "cell_type": "markdown",
   "metadata": {},
   "source": [
    "Сравнение средних и медианных LTV"
   ]
  },
  {
   "cell_type": "code",
   "execution_count": 126,
   "metadata": {},
   "outputs": [
    {
     "data": {
      "text/plain": [
       "<BarContainer object of 2 artists>"
      ]
     },
     "execution_count": 126,
     "metadata": {},
     "output_type": "execute_result"
    },
    {
     "data": {
      "image/png": "[encoded data removed]",
      "text/plain": [
       "<Figure size 432x288 with 1 Axes>"
      ]
     },
     "metadata": {
      "needs_background": "light"
     },
     "output_type": "display_data"
    }
   ],
   "source": [
    "df_churned = df[df['Churned'] == 1]\n",
    "x = ['ср. LTV (отвал)', 'мед. LTV (отвал)']\n",
    "y = [df_churned['TotalCharges'].mean(), df_churned['TotalCharges'].median()]\n",
    "plt.barh(x, y)\n",
    "\n",
    "df_retained = df[df['Churned'] == 0]\n",
    "x = ['ср. LTV (удерж)', 'мед. LTV (удерж)']\n",
    "y = [df_retained['TotalCharges'].mean(), df_retained['TotalCharges'].median()]\n",
    "plt.barh(x, y)"
   ]
  },
  {
   "cell_type": "markdown",
   "metadata": {},
   "source": [
    "Сравнение средних и медианных длительностей контракта"
   ]
  },
  {
   "cell_type": "code",
   "execution_count": 127,
   "metadata": {},
   "outputs": [
    {
     "data": {
      "text/plain": [
       "<BarContainer object of 2 artists>"
      ]
     },
     "execution_count": 127,
     "metadata": {},
     "output_type": "execute_result"
    },
    {
     "data": {
      "image/png": "[encoded data removed]",
      "text/plain": [
       "<Figure size 432x288 with 1 Axes>"
      ]
     },
     "metadata": {
      "needs_background": "light"
     },
     "output_type": "display_data"
    }
   ],
   "source": [
    "df_churned = df[df['Churned'] == 1]\n",
    "x = ['ср. длина контракта (отвал)', 'мед. длина контракта (отвал)']\n",
    "y = [df_churned['Duration'].mean(), df_churned['Duration'].median()]\n",
    "plt.barh(x, y)\n",
    "\n",
    "df_retained = df[df['Churned'] == 0]\n",
    "x = ['ср. длина контракта (удерж)', 'мед. длина контракта (удерж)']\n",
    "y = [df_retained['Duration'].mean(), df_retained['Duration'].median()]\n",
    "plt.barh(x, y)"
   ]
  },
  {
   "cell_type": "markdown",
   "metadata": {},
   "source": [
    "Если анализировать средние значения, то :\n",
    "1. Видно, что абоненты, которые расторгли контракты, платили в среднем на 10 долларов больше в месяц, чем те, которые остались\n",
    "2. Суммарной выручки они принесли в среднем на 1000 долларов меньше, но причина как раз в отвале\n",
    "3. Длительность контракта у абонентов, расторгших контракт, в среднем в два раза меньше, чем у лояльных\n",
    "\n",
    "Если анализировать медианы, то можно сделать выводы:\n",
    "1. У абонентов, которые расторгли контракты, большая разница между средней и медианой, что означает, что среди них в основном абоненты с более низкой ежемесячной оплатой.\n",
    "2. По LTV наоборот и длительности контракта, медиана  мельше, что означает, что в выборке преобладают абоненты с более высоким LTV и более длительными контрактами"
   ]
  },
  {
   "cell_type": "markdown",
   "metadata": {},
   "source": [
    "Распределение месячных платежей "
   ]
  },
  {
   "cell_type": "code",
   "execution_count": 132,
   "metadata": {},
   "outputs": [
    {
     "data": {
      "text/plain": [
       "array([<AxesSubplot:title={'center':'0'}>,\n",
       "       <AxesSubplot:title={'center':'1'}>], dtype=object)"
      ]
     },
     "execution_count": 132,
     "metadata": {},
     "output_type": "execute_result"
    },
    {
     "data": {
      "image/png": "[encoded data removed]",
      "text/plain": [
       "<Figure size 864x288 with 2 Axes>"
      ]
     },
     "metadata": {
      "needs_background": "light"
     },
     "output_type": "display_data"
    }
   ],
   "source": [
    "#ax = df_retained.hist(['TotalCharges'], bins=30, legend=True, alpha=0.8)\n",
    "#df_churned.hist(['TotalCharges'], ax = ax, bins=30, legend=True, alpha=0.8)\n",
    "\n",
    "df.hist(column = 'MonthlyCharges', by='Churned', bins=30, legend=True, alpha=0.8, figsize=(12,4))"
   ]
  },
  {
   "cell_type": "code",
   "execution_count": 152,
   "metadata": {},
   "outputs": [
    {
     "data": {
      "text/plain": [
       "<AxesSubplot:xlabel='MonthlyCharges', ylabel='Count'>"
      ]
     },
     "execution_count": 152,
     "metadata": {},
     "output_type": "execute_result"
    },
    {
     "data": {
      "image/png": "[encoded data removed]",
      "text/plain": [
       "<Figure size 432x288 with 1 Axes>"
      ]
     },
     "metadata": {},
     "output_type": "display_data"
    }
   ],
   "source": [
    "sns.set(style=\"darkgrid\")\n",
    "sns.histplot(df, x='MonthlyCharges', hue=\"Churned\", bins=30, legend = True)\n"
   ]
  },
  {
   "cell_type": "markdown",
   "metadata": {},
   "source": [
    "Распределение LTV"
   ]
  },
  {
   "cell_type": "code",
   "execution_count": 156,
   "metadata": {},
   "outputs": [
    {
     "data": {
      "text/plain": [
       "<AxesSubplot:xlabel='TotalCharges', ylabel='Count'>"
      ]
     },
     "execution_count": 156,
     "metadata": {},
     "output_type": "execute_result"
    },
    {
     "data": {
      "image/png": "[encoded data removed]",
      "text/plain": [
       "<Figure size 432x288 with 1 Axes>"
      ]
     },
     "metadata": {},
     "output_type": "display_data"
    }
   ],
   "source": [
    "sns.histplot(df, x='TotalCharges', hue=\"Churned\", bins=30, legend = True)"
   ]
  },
  {
   "cell_type": "markdown",
   "metadata": {},
   "source": [
    "Распределение длин контракта"
   ]
  },
  {
   "cell_type": "code",
   "execution_count": 157,
   "metadata": {},
   "outputs": [
    {
     "data": {
      "text/plain": [
       "<AxesSubplot:xlabel='Duration', ylabel='Count'>"
      ]
     },
     "execution_count": 157,
     "metadata": {},
     "output_type": "execute_result"
    },
    {
     "data": {
      "image/png": "[encoded data removed]",
      "text/plain": [
       "<Figure size 432x288 with 1 Axes>"
      ]
     },
     "metadata": {},
     "output_type": "display_data"
    }
   ],
   "source": [
    "sns.histplot(df, x='Duration', hue=\"Churned\", bins=50, legend = True)"
   ]
  },
  {
   "cell_type": "markdown",
   "metadata": {},
   "source": [
    "Распределения показывают:\n",
    "1. Среди лояльных клиентов существенно преобладают абоненты с минимальными месячными платежами, среди отвалившихся - существенных всплекс после платежа 70 долларов / мес\n",
    "3. Активных спад по LTV у лояльных клиентов начинается после 2000 долларов. Можно обратить внимание на клиентов, которые уже принесли нам эту сумму и предложить другую программу лояльности.\n",
    "2. Большинство абонетов в выборке имеют максимальную длительность контракта (пик на гистограмме), что говорит, о том, что они привлекались еще до даты начала анализа"
   ]
  },
  {
   "cell_type": "markdown",
   "metadata": {},
   "source": [
    "Удалим целевой признак из датасета"
   ]
  },
  {
   "cell_type": "code",
   "execution_count": 53,
   "metadata": {},
   "outputs": [],
   "source": [
    "df.drop(columns=['Churned'], inplace=True)"
   ]
  },
  {
   "cell_type": "markdown",
   "metadata": {},
   "source": [
    "#### Деление выборки"
   ]
  },
  {
   "cell_type": "code",
   "execution_count": 54,
   "metadata": {},
   "outputs": [
    {
     "data": {
      "text/plain": [
       "(5282, 1761)"
      ]
     },
     "execution_count": 54,
     "metadata": {},
     "output_type": "execute_result"
    }
   ],
   "source": [
    "features_train, features_test, target_train, target_test = (\n",
    "    train_test_split(df, target, test_size=0.25, random_state=141122)\n",
    ")\n",
    "len(features_train), len(features_test)"
   ]
  },
  {
   "cell_type": "markdown",
   "metadata": {},
   "source": [
    "#### Кодирование признаков"
   ]
  },
  {
   "cell_type": "code",
   "execution_count": 82,
   "metadata": {},
   "outputs": [
    {
     "data": {
      "text/html": [
       "<div>\n",
       "<style scoped>\n",
       "    .dataframe tbody tr th:only-of-type {\n",
       "        vertical-align: middle;\n",
       "    }\n",
       "\n",
       "    .dataframe tbody tr th {\n",
       "        vertical-align: top;\n",
       "    }\n",
       "\n",
       "    .dataframe thead th {\n",
       "        text-align: right;\n",
       "    }\n",
       "</style>\n",
       "<table border=\"1\" class=\"dataframe\">\n",
       "  <thead>\n",
       "    <tr style=\"text-align: right;\">\n",
       "      <th></th>\n",
       "      <th>MonthlyCharges</th>\n",
       "      <th>TotalCharges</th>\n",
       "      <th>SeniorCitizen</th>\n",
       "      <th>Type_One year</th>\n",
       "      <th>Type_Two year</th>\n",
       "      <th>PaperlessBilling_Yes</th>\n",
       "      <th>PaymentMethod_Credit card (automatic)</th>\n",
       "      <th>PaymentMethod_Electronic check</th>\n",
       "      <th>PaymentMethod_Mailed check</th>\n",
       "      <th>Gender_Male</th>\n",
       "      <th>...</th>\n",
       "      <th>DeviceProtection_Yes</th>\n",
       "      <th>DeviceProtection_unknown</th>\n",
       "      <th>TechSupport_Yes</th>\n",
       "      <th>TechSupport_unknown</th>\n",
       "      <th>StreamingTV_Yes</th>\n",
       "      <th>StreamingTV_unknown</th>\n",
       "      <th>StreamingMovies_Yes</th>\n",
       "      <th>StreamingMovies_unknown</th>\n",
       "      <th>MultipleLines_Yes</th>\n",
       "      <th>MultipleLines_unknown</th>\n",
       "    </tr>\n",
       "  </thead>\n",
       "  <tbody>\n",
       "    <tr>\n",
       "      <th>2143</th>\n",
       "      <td>0.336885</td>\n",
       "      <td>-0.043662</td>\n",
       "      <td>1</td>\n",
       "      <td>0</td>\n",
       "      <td>1</td>\n",
       "      <td>0</td>\n",
       "      <td>0</td>\n",
       "      <td>1</td>\n",
       "      <td>0</td>\n",
       "      <td>1</td>\n",
       "      <td>...</td>\n",
       "      <td>1</td>\n",
       "      <td>0</td>\n",
       "      <td>0</td>\n",
       "      <td>0</td>\n",
       "      <td>1</td>\n",
       "      <td>0</td>\n",
       "      <td>1</td>\n",
       "      <td>0</td>\n",
       "      <td>1</td>\n",
       "      <td>0</td>\n",
       "    </tr>\n",
       "    <tr>\n",
       "      <th>1783</th>\n",
       "      <td>0.230713</td>\n",
       "      <td>-0.975339</td>\n",
       "      <td>0</td>\n",
       "      <td>0</td>\n",
       "      <td>0</td>\n",
       "      <td>1</td>\n",
       "      <td>0</td>\n",
       "      <td>1</td>\n",
       "      <td>0</td>\n",
       "      <td>1</td>\n",
       "      <td>...</td>\n",
       "      <td>0</td>\n",
       "      <td>0</td>\n",
       "      <td>0</td>\n",
       "      <td>0</td>\n",
       "      <td>0</td>\n",
       "      <td>0</td>\n",
       "      <td>0</td>\n",
       "      <td>0</td>\n",
       "      <td>0</td>\n",
       "      <td>0</td>\n",
       "    </tr>\n",
       "    <tr>\n",
       "      <th>1549</th>\n",
       "      <td>-0.625297</td>\n",
       "      <td>-0.986730</td>\n",
       "      <td>0</td>\n",
       "      <td>0</td>\n",
       "      <td>0</td>\n",
       "      <td>1</td>\n",
       "      <td>0</td>\n",
       "      <td>0</td>\n",
       "      <td>1</td>\n",
       "      <td>1</td>\n",
       "      <td>...</td>\n",
       "      <td>0</td>\n",
       "      <td>0</td>\n",
       "      <td>0</td>\n",
       "      <td>0</td>\n",
       "      <td>0</td>\n",
       "      <td>0</td>\n",
       "      <td>0</td>\n",
       "      <td>0</td>\n",
       "      <td>0</td>\n",
       "      <td>0</td>\n",
       "    </tr>\n",
       "    <tr>\n",
       "      <th>750</th>\n",
       "      <td>-0.265308</td>\n",
       "      <td>-0.277144</td>\n",
       "      <td>0</td>\n",
       "      <td>0</td>\n",
       "      <td>0</td>\n",
       "      <td>1</td>\n",
       "      <td>0</td>\n",
       "      <td>0</td>\n",
       "      <td>1</td>\n",
       "      <td>0</td>\n",
       "      <td>...</td>\n",
       "      <td>0</td>\n",
       "      <td>0</td>\n",
       "      <td>0</td>\n",
       "      <td>0</td>\n",
       "      <td>0</td>\n",
       "      <td>0</td>\n",
       "      <td>0</td>\n",
       "      <td>0</td>\n",
       "      <td>0</td>\n",
       "      <td>0</td>\n",
       "    </tr>\n",
       "    <tr>\n",
       "      <th>5086</th>\n",
       "      <td>-1.469695</td>\n",
       "      <td>-0.596151</td>\n",
       "      <td>0</td>\n",
       "      <td>1</td>\n",
       "      <td>0</td>\n",
       "      <td>1</td>\n",
       "      <td>0</td>\n",
       "      <td>1</td>\n",
       "      <td>0</td>\n",
       "      <td>1</td>\n",
       "      <td>...</td>\n",
       "      <td>0</td>\n",
       "      <td>1</td>\n",
       "      <td>0</td>\n",
       "      <td>1</td>\n",
       "      <td>0</td>\n",
       "      <td>1</td>\n",
       "      <td>0</td>\n",
       "      <td>1</td>\n",
       "      <td>0</td>\n",
       "      <td>0</td>\n",
       "    </tr>\n",
       "  </tbody>\n",
       "</table>\n",
       "<p>5 rows × 28 columns</p>\n",
       "</div>"
      ],
      "text/plain": [
       "      MonthlyCharges  TotalCharges  SeniorCitizen  Type_One year  \\\n",
       "2143        0.336885     -0.043662              1              0   \n",
       "1783        0.230713     -0.975339              0              0   \n",
       "1549       -0.625297     -0.986730              0              0   \n",
       "750        -0.265308     -0.277144              0              0   \n",
       "5086       -1.469695     -0.596151              0              1   \n",
       "\n",
       "      Type_Two year  PaperlessBilling_Yes  \\\n",
       "2143              1                     0   \n",
       "1783              0                     1   \n",
       "1549              0                     1   \n",
       "750               0                     1   \n",
       "5086              0                     1   \n",
       "\n",
       "      PaymentMethod_Credit card (automatic)  PaymentMethod_Electronic check  \\\n",
       "2143                                      0                               1   \n",
       "1783                                      0                               1   \n",
       "1549                                      0                               0   \n",
       "750                                       0                               0   \n",
       "5086                                      0                               1   \n",
       "\n",
       "      PaymentMethod_Mailed check  Gender_Male  ...  DeviceProtection_Yes  \\\n",
       "2143                           0            1  ...                     1   \n",
       "1783                           0            1  ...                     0   \n",
       "1549                           1            1  ...                     0   \n",
       "750                            1            0  ...                     0   \n",
       "5086                           0            1  ...                     0   \n",
       "\n",
       "      DeviceProtection_unknown  TechSupport_Yes  TechSupport_unknown  \\\n",
       "2143                         0                0                    0   \n",
       "1783                         0                0                    0   \n",
       "1549                         0                0                    0   \n",
       "750                          0                0                    0   \n",
       "5086                         1                0                    1   \n",
       "\n",
       "      StreamingTV_Yes  StreamingTV_unknown  StreamingMovies_Yes  \\\n",
       "2143                1                    0                    1   \n",
       "1783                0                    0                    0   \n",
       "1549                0                    0                    0   \n",
       "750                 0                    0                    0   \n",
       "5086                0                    1                    0   \n",
       "\n",
       "      StreamingMovies_unknown  MultipleLines_Yes  MultipleLines_unknown  \n",
       "2143                        0                  1                      0  \n",
       "1783                        0                  0                      0  \n",
       "1549                        0                  0                      0  \n",
       "750                         0                  0                      0  \n",
       "5086                        1                  0                      0  \n",
       "\n",
       "[5 rows x 28 columns]"
      ]
     },
     "metadata": {},
     "output_type": "display_data"
    },
    {
     "data": {
      "text/html": [
       "<div>\n",
       "<style scoped>\n",
       "    .dataframe tbody tr th:only-of-type {\n",
       "        vertical-align: middle;\n",
       "    }\n",
       "\n",
       "    .dataframe tbody tr th {\n",
       "        vertical-align: top;\n",
       "    }\n",
       "\n",
       "    .dataframe thead th {\n",
       "        text-align: right;\n",
       "    }\n",
       "</style>\n",
       "<table border=\"1\" class=\"dataframe\">\n",
       "  <thead>\n",
       "    <tr style=\"text-align: right;\">\n",
       "      <th></th>\n",
       "      <th>MonthlyCharges</th>\n",
       "      <th>TotalCharges</th>\n",
       "      <th>SeniorCitizen</th>\n",
       "      <th>Type_One year</th>\n",
       "      <th>Type_Two year</th>\n",
       "      <th>PaperlessBilling_Yes</th>\n",
       "      <th>PaymentMethod_Credit card (automatic)</th>\n",
       "      <th>PaymentMethod_Electronic check</th>\n",
       "      <th>PaymentMethod_Mailed check</th>\n",
       "      <th>Gender_Male</th>\n",
       "      <th>...</th>\n",
       "      <th>DeviceProtection_Yes</th>\n",
       "      <th>DeviceProtection_unknown</th>\n",
       "      <th>TechSupport_Yes</th>\n",
       "      <th>TechSupport_unknown</th>\n",
       "      <th>StreamingTV_Yes</th>\n",
       "      <th>StreamingTV_unknown</th>\n",
       "      <th>StreamingMovies_Yes</th>\n",
       "      <th>StreamingMovies_unknown</th>\n",
       "      <th>MultipleLines_Yes</th>\n",
       "      <th>MultipleLines_unknown</th>\n",
       "    </tr>\n",
       "  </thead>\n",
       "  <tbody>\n",
       "    <tr>\n",
       "      <th>1469</th>\n",
       "      <td>1.131515</td>\n",
       "      <td>0.527593</td>\n",
       "      <td>0</td>\n",
       "      <td>0</td>\n",
       "      <td>0</td>\n",
       "      <td>0</td>\n",
       "      <td>0</td>\n",
       "      <td>0</td>\n",
       "      <td>0</td>\n",
       "      <td>1</td>\n",
       "      <td>...</td>\n",
       "      <td>0</td>\n",
       "      <td>0</td>\n",
       "      <td>1</td>\n",
       "      <td>0</td>\n",
       "      <td>1</td>\n",
       "      <td>0</td>\n",
       "      <td>1</td>\n",
       "      <td>0</td>\n",
       "      <td>1</td>\n",
       "      <td>0</td>\n",
       "    </tr>\n",
       "    <tr>\n",
       "      <th>5403</th>\n",
       "      <td>0.713463</td>\n",
       "      <td>0.990540</td>\n",
       "      <td>0</td>\n",
       "      <td>0</td>\n",
       "      <td>0</td>\n",
       "      <td>1</td>\n",
       "      <td>0</td>\n",
       "      <td>1</td>\n",
       "      <td>0</td>\n",
       "      <td>0</td>\n",
       "      <td>...</td>\n",
       "      <td>1</td>\n",
       "      <td>0</td>\n",
       "      <td>1</td>\n",
       "      <td>0</td>\n",
       "      <td>1</td>\n",
       "      <td>0</td>\n",
       "      <td>1</td>\n",
       "      <td>0</td>\n",
       "      <td>1</td>\n",
       "      <td>0</td>\n",
       "    </tr>\n",
       "    <tr>\n",
       "      <th>5694</th>\n",
       "      <td>-0.439496</td>\n",
       "      <td>-0.230363</td>\n",
       "      <td>0</td>\n",
       "      <td>1</td>\n",
       "      <td>0</td>\n",
       "      <td>1</td>\n",
       "      <td>0</td>\n",
       "      <td>0</td>\n",
       "      <td>1</td>\n",
       "      <td>0</td>\n",
       "      <td>...</td>\n",
       "      <td>0</td>\n",
       "      <td>0</td>\n",
       "      <td>1</td>\n",
       "      <td>0</td>\n",
       "      <td>0</td>\n",
       "      <td>0</td>\n",
       "      <td>0</td>\n",
       "      <td>0</td>\n",
       "      <td>0</td>\n",
       "      <td>0</td>\n",
       "    </tr>\n",
       "    <tr>\n",
       "      <th>6846</th>\n",
       "      <td>0.492825</td>\n",
       "      <td>-0.971851</td>\n",
       "      <td>0</td>\n",
       "      <td>0</td>\n",
       "      <td>0</td>\n",
       "      <td>1</td>\n",
       "      <td>0</td>\n",
       "      <td>0</td>\n",
       "      <td>1</td>\n",
       "      <td>0</td>\n",
       "      <td>...</td>\n",
       "      <td>1</td>\n",
       "      <td>0</td>\n",
       "      <td>0</td>\n",
       "      <td>0</td>\n",
       "      <td>0</td>\n",
       "      <td>0</td>\n",
       "      <td>0</td>\n",
       "      <td>0</td>\n",
       "      <td>1</td>\n",
       "      <td>0</td>\n",
       "    </tr>\n",
       "    <tr>\n",
       "      <th>4452</th>\n",
       "      <td>0.721758</td>\n",
       "      <td>1.620231</td>\n",
       "      <td>0</td>\n",
       "      <td>0</td>\n",
       "      <td>1</td>\n",
       "      <td>0</td>\n",
       "      <td>1</td>\n",
       "      <td>0</td>\n",
       "      <td>0</td>\n",
       "      <td>0</td>\n",
       "      <td>...</td>\n",
       "      <td>1</td>\n",
       "      <td>0</td>\n",
       "      <td>1</td>\n",
       "      <td>0</td>\n",
       "      <td>1</td>\n",
       "      <td>0</td>\n",
       "      <td>1</td>\n",
       "      <td>0</td>\n",
       "      <td>0</td>\n",
       "      <td>0</td>\n",
       "    </tr>\n",
       "  </tbody>\n",
       "</table>\n",
       "<p>5 rows × 28 columns</p>\n",
       "</div>"
      ],
      "text/plain": [
       "      MonthlyCharges  TotalCharges  SeniorCitizen  Type_One year  \\\n",
       "1469        1.131515      0.527593              0              0   \n",
       "5403        0.713463      0.990540              0              0   \n",
       "5694       -0.439496     -0.230363              0              1   \n",
       "6846        0.492825     -0.971851              0              0   \n",
       "4452        0.721758      1.620231              0              0   \n",
       "\n",
       "      Type_Two year  PaperlessBilling_Yes  \\\n",
       "1469              0                     0   \n",
       "5403              0                     1   \n",
       "5694              0                     1   \n",
       "6846              0                     1   \n",
       "4452              1                     0   \n",
       "\n",
       "      PaymentMethod_Credit card (automatic)  PaymentMethod_Electronic check  \\\n",
       "1469                                      0                               0   \n",
       "5403                                      0                               1   \n",
       "5694                                      0                               0   \n",
       "6846                                      0                               0   \n",
       "4452                                      1                               0   \n",
       "\n",
       "      PaymentMethod_Mailed check  Gender_Male  ...  DeviceProtection_Yes  \\\n",
       "1469                           0            1  ...                     0   \n",
       "5403                           0            0  ...                     1   \n",
       "5694                           1            0  ...                     0   \n",
       "6846                           1            0  ...                     1   \n",
       "4452                           0            0  ...                     1   \n",
       "\n",
       "      DeviceProtection_unknown  TechSupport_Yes  TechSupport_unknown  \\\n",
       "1469                         0                1                    0   \n",
       "5403                         0                1                    0   \n",
       "5694                         0                1                    0   \n",
       "6846                         0                0                    0   \n",
       "4452                         0                1                    0   \n",
       "\n",
       "      StreamingTV_Yes  StreamingTV_unknown  StreamingMovies_Yes  \\\n",
       "1469                1                    0                    1   \n",
       "5403                1                    0                    1   \n",
       "5694                0                    0                    0   \n",
       "6846                0                    0                    0   \n",
       "4452                1                    0                    1   \n",
       "\n",
       "      StreamingMovies_unknown  MultipleLines_Yes  MultipleLines_unknown  \n",
       "1469                        0                  1                      0  \n",
       "5403                        0                  1                      0  \n",
       "5694                        0                  0                      0  \n",
       "6846                        0                  1                      0  \n",
       "4452                        0                  0                      0  \n",
       "\n",
       "[5 rows x 28 columns]"
      ]
     },
     "metadata": {},
     "output_type": "display_data"
    }
   ],
   "source": [
    "#Для логистической регрессии - OHE\n",
    "features_train_ohe = pd.get_dummies(features_train, drop_first=True) \n",
    "features_test_ohe = pd.get_dummies(features_test, drop_first=True) \n",
    "\n",
    "#Удаляем Duration из-за мультиколлинеарности\n",
    "features_train_ohe.drop(columns=['Duration'], inplace=True)\n",
    "features_test_ohe.drop(columns=['Duration'], inplace=True)\n",
    "\n",
    "#Масштабирование для логистической регрессии\n",
    "numeric = ['MonthlyCharges', 'TotalCharges']\n",
    "pd.options.mode.chained_assignment = None\n",
    "scaler = StandardScaler()\n",
    "scaler.fit(features_train[numeric])\n",
    "features_train_ohe[numeric] = scaler.transform(features_train_ohe[numeric])\n",
    "features_test_ohe[numeric] = scaler.transform(features_test_ohe[numeric])\n",
    "\n",
    "display(features_train_ohe.head())\n",
    "display(features_test_ohe.head())"
   ]
  },
  {
   "cell_type": "code",
   "execution_count": 83,
   "metadata": {
    "scrolled": true
   },
   "outputs": [
    {
     "name": "stdout",
     "output_type": "stream",
     "text": [
      "После OHE-кодировки признаки идентичны.\n"
     ]
    }
   ],
   "source": [
    "l1 = set(features_train.columns)\n",
    "l2 = set(features_test.columns)\n",
    "\n",
    "if l1 == l2:\n",
    "    print('После OHE-кодировки признаки идентичны.')\n",
    "else:\n",
    "    print(f'После OHE-кодировки признаки отличаются. Разница: {l1.symmetric_difference(l2)}')"
   ]
  },
  {
   "cell_type": "code",
   "execution_count": 84,
   "metadata": {},
   "outputs": [
    {
     "data": {
      "text/html": [
       "<div>\n",
       "<style scoped>\n",
       "    .dataframe tbody tr th:only-of-type {\n",
       "        vertical-align: middle;\n",
       "    }\n",
       "\n",
       "    .dataframe tbody tr th {\n",
       "        vertical-align: top;\n",
       "    }\n",
       "\n",
       "    .dataframe thead th {\n",
       "        text-align: right;\n",
       "    }\n",
       "</style>\n",
       "<table border=\"1\" class=\"dataframe\">\n",
       "  <thead>\n",
       "    <tr style=\"text-align: right;\">\n",
       "      <th></th>\n",
       "      <th>Type</th>\n",
       "      <th>PaperlessBilling</th>\n",
       "      <th>PaymentMethod</th>\n",
       "      <th>MonthlyCharges</th>\n",
       "      <th>TotalCharges</th>\n",
       "      <th>Gender</th>\n",
       "      <th>SeniorCitizen</th>\n",
       "      <th>Partner</th>\n",
       "      <th>Dependents</th>\n",
       "      <th>InternetService</th>\n",
       "      <th>OnlineSecurity</th>\n",
       "      <th>OnlineBackup</th>\n",
       "      <th>DeviceProtection</th>\n",
       "      <th>TechSupport</th>\n",
       "      <th>StreamingTV</th>\n",
       "      <th>StreamingMovies</th>\n",
       "      <th>MultipleLines</th>\n",
       "      <th>Duration</th>\n",
       "    </tr>\n",
       "  </thead>\n",
       "  <tbody>\n",
       "    <tr>\n",
       "      <th>2143</th>\n",
       "      <td>2.0</td>\n",
       "      <td>0.0</td>\n",
       "      <td>2.0</td>\n",
       "      <td>74.85</td>\n",
       "      <td>2181.75</td>\n",
       "      <td>1.0</td>\n",
       "      <td>1</td>\n",
       "      <td>1.0</td>\n",
       "      <td>0.0</td>\n",
       "      <td>0.0</td>\n",
       "      <td>0.0</td>\n",
       "      <td>0.0</td>\n",
       "      <td>1.0</td>\n",
       "      <td>0.0</td>\n",
       "      <td>1.0</td>\n",
       "      <td>1.0</td>\n",
       "      <td>1.0</td>\n",
       "      <td>914</td>\n",
       "    </tr>\n",
       "    <tr>\n",
       "      <th>1783</th>\n",
       "      <td>0.0</td>\n",
       "      <td>1.0</td>\n",
       "      <td>2.0</td>\n",
       "      <td>71.65</td>\n",
       "      <td>71.65</td>\n",
       "      <td>1.0</td>\n",
       "      <td>0</td>\n",
       "      <td>0.0</td>\n",
       "      <td>1.0</td>\n",
       "      <td>1.0</td>\n",
       "      <td>0.0</td>\n",
       "      <td>0.0</td>\n",
       "      <td>0.0</td>\n",
       "      <td>0.0</td>\n",
       "      <td>0.0</td>\n",
       "      <td>0.0</td>\n",
       "      <td>0.0</td>\n",
       "      <td>153</td>\n",
       "    </tr>\n",
       "    <tr>\n",
       "      <th>1549</th>\n",
       "      <td>0.0</td>\n",
       "      <td>1.0</td>\n",
       "      <td>3.0</td>\n",
       "      <td>45.85</td>\n",
       "      <td>45.85</td>\n",
       "      <td>1.0</td>\n",
       "      <td>0</td>\n",
       "      <td>0.0</td>\n",
       "      <td>0.0</td>\n",
       "      <td>0.0</td>\n",
       "      <td>0.0</td>\n",
       "      <td>0.0</td>\n",
       "      <td>0.0</td>\n",
       "      <td>0.0</td>\n",
       "      <td>0.0</td>\n",
       "      <td>0.0</td>\n",
       "      <td>0.0</td>\n",
       "      <td>123</td>\n",
       "    </tr>\n",
       "    <tr>\n",
       "      <th>750</th>\n",
       "      <td>0.0</td>\n",
       "      <td>1.0</td>\n",
       "      <td>3.0</td>\n",
       "      <td>56.70</td>\n",
       "      <td>1652.95</td>\n",
       "      <td>0.0</td>\n",
       "      <td>0</td>\n",
       "      <td>0.0</td>\n",
       "      <td>0.0</td>\n",
       "      <td>0.0</td>\n",
       "      <td>1.0</td>\n",
       "      <td>1.0</td>\n",
       "      <td>0.0</td>\n",
       "      <td>0.0</td>\n",
       "      <td>0.0</td>\n",
       "      <td>0.0</td>\n",
       "      <td>0.0</td>\n",
       "      <td>822</td>\n",
       "    </tr>\n",
       "    <tr>\n",
       "      <th>5086</th>\n",
       "      <td>1.0</td>\n",
       "      <td>1.0</td>\n",
       "      <td>2.0</td>\n",
       "      <td>20.40</td>\n",
       "      <td>930.45</td>\n",
       "      <td>1.0</td>\n",
       "      <td>0</td>\n",
       "      <td>0.0</td>\n",
       "      <td>0.0</td>\n",
       "      <td>2.0</td>\n",
       "      <td>2.0</td>\n",
       "      <td>2.0</td>\n",
       "      <td>2.0</td>\n",
       "      <td>2.0</td>\n",
       "      <td>2.0</td>\n",
       "      <td>2.0</td>\n",
       "      <td>0.0</td>\n",
       "      <td>1401</td>\n",
       "    </tr>\n",
       "  </tbody>\n",
       "</table>\n",
       "</div>"
      ],
      "text/plain": [
       "      Type  PaperlessBilling  PaymentMethod  MonthlyCharges  TotalCharges  \\\n",
       "2143   2.0               0.0            2.0           74.85       2181.75   \n",
       "1783   0.0               1.0            2.0           71.65         71.65   \n",
       "1549   0.0               1.0            3.0           45.85         45.85   \n",
       "750    0.0               1.0            3.0           56.70       1652.95   \n",
       "5086   1.0               1.0            2.0           20.40        930.45   \n",
       "\n",
       "      Gender  SeniorCitizen  Partner  Dependents  InternetService  \\\n",
       "2143     1.0              1      1.0         0.0              0.0   \n",
       "1783     1.0              0      0.0         1.0              1.0   \n",
       "1549     1.0              0      0.0         0.0              0.0   \n",
       "750      0.0              0      0.0         0.0              0.0   \n",
       "5086     1.0              0      0.0         0.0              2.0   \n",
       "\n",
       "      OnlineSecurity  OnlineBackup  DeviceProtection  TechSupport  \\\n",
       "2143             0.0           0.0               1.0          0.0   \n",
       "1783             0.0           0.0               0.0          0.0   \n",
       "1549             0.0           0.0               0.0          0.0   \n",
       "750              1.0           1.0               0.0          0.0   \n",
       "5086             2.0           2.0               2.0          2.0   \n",
       "\n",
       "      StreamingTV  StreamingMovies  MultipleLines  Duration  \n",
       "2143          1.0              1.0            1.0       914  \n",
       "1783          0.0              0.0            0.0       153  \n",
       "1549          0.0              0.0            0.0       123  \n",
       "750           0.0              0.0            0.0       822  \n",
       "5086          2.0              2.0            0.0      1401  "
      ]
     },
     "metadata": {},
     "output_type": "display_data"
    },
    {
     "data": {
      "text/html": [
       "<div>\n",
       "<style scoped>\n",
       "    .dataframe tbody tr th:only-of-type {\n",
       "        vertical-align: middle;\n",
       "    }\n",
       "\n",
       "    .dataframe tbody tr th {\n",
       "        vertical-align: top;\n",
       "    }\n",
       "\n",
       "    .dataframe thead th {\n",
       "        text-align: right;\n",
       "    }\n",
       "</style>\n",
       "<table border=\"1\" class=\"dataframe\">\n",
       "  <thead>\n",
       "    <tr style=\"text-align: right;\">\n",
       "      <th></th>\n",
       "      <th>Type</th>\n",
       "      <th>PaperlessBilling</th>\n",
       "      <th>PaymentMethod</th>\n",
       "      <th>MonthlyCharges</th>\n",
       "      <th>TotalCharges</th>\n",
       "      <th>Gender</th>\n",
       "      <th>SeniorCitizen</th>\n",
       "      <th>Partner</th>\n",
       "      <th>Dependents</th>\n",
       "      <th>InternetService</th>\n",
       "      <th>OnlineSecurity</th>\n",
       "      <th>OnlineBackup</th>\n",
       "      <th>DeviceProtection</th>\n",
       "      <th>TechSupport</th>\n",
       "      <th>StreamingTV</th>\n",
       "      <th>StreamingMovies</th>\n",
       "      <th>MultipleLines</th>\n",
       "      <th>Duration</th>\n",
       "    </tr>\n",
       "  </thead>\n",
       "  <tbody>\n",
       "    <tr>\n",
       "      <th>1469</th>\n",
       "      <td>0.0</td>\n",
       "      <td>0.0</td>\n",
       "      <td>0.0</td>\n",
       "      <td>98.80</td>\n",
       "      <td>3475.55</td>\n",
       "      <td>1.0</td>\n",
       "      <td>0</td>\n",
       "      <td>0.0</td>\n",
       "      <td>0.0</td>\n",
       "      <td>1.0</td>\n",
       "      <td>0.0</td>\n",
       "      <td>0.0</td>\n",
       "      <td>0.0</td>\n",
       "      <td>1.0</td>\n",
       "      <td>1.0</td>\n",
       "      <td>1.0</td>\n",
       "      <td>1.0</td>\n",
       "      <td>1218</td>\n",
       "    </tr>\n",
       "    <tr>\n",
       "      <th>5403</th>\n",
       "      <td>0.0</td>\n",
       "      <td>1.0</td>\n",
       "      <td>2.0</td>\n",
       "      <td>86.20</td>\n",
       "      <td>4524.05</td>\n",
       "      <td>0.0</td>\n",
       "      <td>0</td>\n",
       "      <td>1.0</td>\n",
       "      <td>1.0</td>\n",
       "      <td>0.0</td>\n",
       "      <td>0.0</td>\n",
       "      <td>1.0</td>\n",
       "      <td>1.0</td>\n",
       "      <td>1.0</td>\n",
       "      <td>1.0</td>\n",
       "      <td>1.0</td>\n",
       "      <td>1.0</td>\n",
       "      <td>1645</td>\n",
       "    </tr>\n",
       "    <tr>\n",
       "      <th>5694</th>\n",
       "      <td>1.0</td>\n",
       "      <td>1.0</td>\n",
       "      <td>3.0</td>\n",
       "      <td>51.45</td>\n",
       "      <td>1758.90</td>\n",
       "      <td>0.0</td>\n",
       "      <td>0</td>\n",
       "      <td>1.0</td>\n",
       "      <td>0.0</td>\n",
       "      <td>0.0</td>\n",
       "      <td>0.0</td>\n",
       "      <td>0.0</td>\n",
       "      <td>0.0</td>\n",
       "      <td>1.0</td>\n",
       "      <td>0.0</td>\n",
       "      <td>0.0</td>\n",
       "      <td>0.0</td>\n",
       "      <td>1006</td>\n",
       "    </tr>\n",
       "    <tr>\n",
       "      <th>6846</th>\n",
       "      <td>0.0</td>\n",
       "      <td>1.0</td>\n",
       "      <td>3.0</td>\n",
       "      <td>79.55</td>\n",
       "      <td>79.55</td>\n",
       "      <td>0.0</td>\n",
       "      <td>0</td>\n",
       "      <td>0.0</td>\n",
       "      <td>0.0</td>\n",
       "      <td>1.0</td>\n",
       "      <td>0.0</td>\n",
       "      <td>0.0</td>\n",
       "      <td>1.0</td>\n",
       "      <td>0.0</td>\n",
       "      <td>0.0</td>\n",
       "      <td>0.0</td>\n",
       "      <td>1.0</td>\n",
       "      <td>92</td>\n",
       "    </tr>\n",
       "    <tr>\n",
       "      <th>4452</th>\n",
       "      <td>2.0</td>\n",
       "      <td>0.0</td>\n",
       "      <td>1.0</td>\n",
       "      <td>86.45</td>\n",
       "      <td>5950.20</td>\n",
       "      <td>0.0</td>\n",
       "      <td>0</td>\n",
       "      <td>1.0</td>\n",
       "      <td>0.0</td>\n",
       "      <td>0.0</td>\n",
       "      <td>1.0</td>\n",
       "      <td>1.0</td>\n",
       "      <td>1.0</td>\n",
       "      <td>1.0</td>\n",
       "      <td>1.0</td>\n",
       "      <td>1.0</td>\n",
       "      <td>0.0</td>\n",
       "      <td>2132</td>\n",
       "    </tr>\n",
       "  </tbody>\n",
       "</table>\n",
       "</div>"
      ],
      "text/plain": [
       "      Type  PaperlessBilling  PaymentMethod  MonthlyCharges  TotalCharges  \\\n",
       "1469   0.0               0.0            0.0           98.80       3475.55   \n",
       "5403   0.0               1.0            2.0           86.20       4524.05   \n",
       "5694   1.0               1.0            3.0           51.45       1758.90   \n",
       "6846   0.0               1.0            3.0           79.55         79.55   \n",
       "4452   2.0               0.0            1.0           86.45       5950.20   \n",
       "\n",
       "      Gender  SeniorCitizen  Partner  Dependents  InternetService  \\\n",
       "1469     1.0              0      0.0         0.0              1.0   \n",
       "5403     0.0              0      1.0         1.0              0.0   \n",
       "5694     0.0              0      1.0         0.0              0.0   \n",
       "6846     0.0              0      0.0         0.0              1.0   \n",
       "4452     0.0              0      1.0         0.0              0.0   \n",
       "\n",
       "      OnlineSecurity  OnlineBackup  DeviceProtection  TechSupport  \\\n",
       "1469             0.0           0.0               0.0          1.0   \n",
       "5403             0.0           1.0               1.0          1.0   \n",
       "5694             0.0           0.0               0.0          1.0   \n",
       "6846             0.0           0.0               1.0          0.0   \n",
       "4452             1.0           1.0               1.0          1.0   \n",
       "\n",
       "      StreamingTV  StreamingMovies  MultipleLines  Duration  \n",
       "1469          1.0              1.0            1.0      1218  \n",
       "5403          1.0              1.0            1.0      1645  \n",
       "5694          0.0              0.0            0.0      1006  \n",
       "6846          0.0              0.0            1.0        92  \n",
       "4452          1.0              1.0            0.0      2132  "
      ]
     },
     "metadata": {},
     "output_type": "display_data"
    }
   ],
   "source": [
    "encoder = OrdinalEncoder(handle_unknown = 'use_encoded_value', unknown_value = -1)\n",
    "cat_columns = ['Type','PaperlessBilling', 'PaymentMethod', 'Gender','Partner','Dependents','InternetService', 'OnlineSecurity',\n",
    "                'OnlineBackup', 'DeviceProtection', 'TechSupport', 'StreamingTV', 'StreamingMovies', 'MultipleLines']\n",
    "features_train[cat_columns] = encoder.fit_transform(features_train[cat_columns])\n",
    "features_test[cat_columns] = encoder.fit_transform(features_test[cat_columns])\n",
    "display(features_train.head())\n",
    "display(features_test.head())"
   ]
  },
  {
   "cell_type": "markdown",
   "metadata": {},
   "source": [
    "### Подбор лучшей модели"
   ]
  },
  {
   "cell_type": "code",
   "execution_count": 85,
   "metadata": {},
   "outputs": [
    {
     "data": {
      "text/plain": [
       "dict_keys(['C', 'class_weight', 'dual', 'fit_intercept', 'intercept_scaling', 'l1_ratio', 'max_iter', 'multi_class', 'n_jobs', 'penalty', 'random_state', 'solver', 'tol', 'verbose', 'warm_start'])"
      ]
     },
     "execution_count": 85,
     "metadata": {},
     "output_type": "execute_result"
    }
   ],
   "source": [
    "#Подбор лучшей модели для логистической регрессии\n",
    "model_lr = LogisticRegression(random_state=141122)\n",
    "model_lr.get_params().keys()"
   ]
  },
  {
   "cell_type": "code",
   "execution_count": 87,
   "metadata": {},
   "outputs": [
    {
     "name": "stdout",
     "output_type": "stream",
     "text": [
      "Лучшие параметры логистической регрессии {'fit_intercept': True, 'max_iter': 50, 'solver': 'lbfgs'}\n",
      "Лучший roc_auc логистической регрессии 0.84\n",
      "CPU times: user 6.46 s, sys: 8.7 s, total: 15.2 s\n",
      "Wall time: 15.3 s\n"
     ]
    }
   ],
   "source": [
    "%%time\n",
    "warnings.filterwarnings(\"ignore\")\n",
    "parameters = {'fit_intercept':[True,False], 'solver':['lbfgs', 'liblinear'], 'max_iter':[50, 100]}\n",
    "grid = GridSearchCV(model_lr, parameters, cv=5,\n",
    "                    scoring='roc_auc')\n",
    "grid.fit(features_train_ohe, target_train)\n",
    "model_lr = grid.best_estimator_\n",
    "print(f'Лучшие параметры логистической регрессии {grid.best_params_}')\n",
    "print(f'Лучший roc_auc логистической регрессии {grid.best_score_:.2f}')"
   ]
  },
  {
   "cell_type": "code",
   "execution_count": 88,
   "metadata": {},
   "outputs": [
    {
     "name": "stdout",
     "output_type": "stream",
     "text": [
      "CPU times: user 162 ms, sys: 264 ms, total: 426 ms\n",
      "Wall time: 403 ms\n"
     ]
    },
    {
     "data": {
      "text/plain": [
       "LogisticRegression(max_iter=50, random_state=141122)"
      ]
     },
     "execution_count": 88,
     "metadata": {},
     "output_type": "execute_result"
    }
   ],
   "source": [
    "%%time\n",
    "#Обучение модели для замера времени\n",
    "model_lr.fit(features_train_ohe, target_train)"
   ]
  },
  {
   "cell_type": "code",
   "execution_count": 89,
   "metadata": {
    "scrolled": true
   },
   "outputs": [
    {
     "data": {
      "text/plain": [
       "dict_keys(['bootstrap', 'ccp_alpha', 'class_weight', 'criterion', 'max_depth', 'max_features', 'max_leaf_nodes', 'max_samples', 'min_impurity_decrease', 'min_impurity_split', 'min_samples_leaf', 'min_samples_split', 'min_weight_fraction_leaf', 'n_estimators', 'n_jobs', 'oob_score', 'random_state', 'verbose', 'warm_start'])"
      ]
     },
     "execution_count": 89,
     "metadata": {},
     "output_type": "execute_result"
    }
   ],
   "source": [
    "#Случайный лес - подбор модели\n",
    "model_rf = RandomForestClassifier(random_state=141122)\n",
    "model_rf.get_params().keys()"
   ]
  },
  {
   "cell_type": "code",
   "execution_count": 90,
   "metadata": {},
   "outputs": [
    {
     "name": "stdout",
     "output_type": "stream",
     "text": [
      "Лучшие параметры модели случайного леса {'bootstrap': True, 'max_depth': None, 'max_features': 'auto', 'min_samples_split': 2, 'n_estimators': 100}\n",
      "Лучший roc_auc модели случайного леса  0.88\n",
      "CPU times: user 34.5 s, sys: 0 ns, total: 34.5 s\n",
      "Wall time: 34.5 s\n"
     ]
    }
   ],
   "source": [
    "%%time\n",
    "parameters = { \n",
    "    \"n_estimators\"      : [10, 100],\n",
    "    \"max_features\"      : [\"auto\", \"sqrt\", \"log2\"],\n",
    "    \"min_samples_split\" : [2],\n",
    "    \"max_depth\": [None, 1, 2, 3],\n",
    "    \"bootstrap\": [True, False],\n",
    "    } \n",
    "grid = GridSearchCV(model_rf, parameters, cv=5,\n",
    "                    scoring='roc_auc')\n",
    "grid.fit(features_train, target_train)\n",
    "model_rf = grid.best_estimator_\n",
    "print(f'Лучшие параметры модели случайного леса {grid.best_params_}')\n",
    "print(f'Лучший roc_auc модели случайного леса  {grid.best_score_:.2f}')"
   ]
  },
  {
   "cell_type": "code",
   "execution_count": 91,
   "metadata": {},
   "outputs": [
    {
     "name": "stdout",
     "output_type": "stream",
     "text": [
      "CPU times: user 438 ms, sys: 0 ns, total: 438 ms\n",
      "Wall time: 443 ms\n"
     ]
    },
    {
     "data": {
      "text/plain": [
       "RandomForestClassifier(random_state=141122)"
      ]
     },
     "execution_count": 91,
     "metadata": {},
     "output_type": "execute_result"
    }
   ],
   "source": [
    "%%time\n",
    "#Обучение модели для замера времени\n",
    "model_rf.fit(features_train, target_train)"
   ]
  },
  {
   "cell_type": "code",
   "execution_count": 92,
   "metadata": {},
   "outputs": [
    {
     "data": {
      "text/plain": [
       "dict_keys(['boosting_type', 'class_weight', 'colsample_bytree', 'importance_type', 'learning_rate', 'max_depth', 'min_child_samples', 'min_child_weight', 'min_split_gain', 'n_estimators', 'n_jobs', 'num_leaves', 'objective', 'random_state', 'reg_alpha', 'reg_lambda', 'silent', 'subsample', 'subsample_for_bin', 'subsample_freq'])"
      ]
     },
     "execution_count": 92,
     "metadata": {},
     "output_type": "execute_result"
    }
   ],
   "source": [
    "#LGBM - подбор модели\n",
    "model_LightGBM = lgb.LGBMClassifier(random_state=141122)\n",
    "model_LightGBM.get_params().keys()"
   ]
  },
  {
   "cell_type": "code",
   "execution_count": 93,
   "metadata": {
    "scrolled": true
   },
   "outputs": [
    {
     "name": "stdout",
     "output_type": "stream",
     "text": [
      "Лучшие параметры модели LGBM {'learning_rate': 0.1, 'max_depth': -1, 'n_estimators': 200, 'num_leaves': 28}\n",
      "Лучший roc_auc модели LGBM  0.93\n",
      "CPU times: user 2min 14s, sys: 385 ms, total: 2min 14s\n",
      "Wall time: 2min 15s\n"
     ]
    }
   ],
   "source": [
    "%%time\n",
    "parameters = { \n",
    "    'num_leaves': [7, 14, 21, 28],\n",
    "    'learning_rate': [0.1, 0.03],\n",
    "    'max_depth': [-1, 3],\n",
    "    'n_estimators': [50, 100, 200],\n",
    "    } \n",
    "grid = GridSearchCV(model_LightGBM, parameters, cv=5,\n",
    "                    scoring='roc_auc')\n",
    "grid.fit(features_train, target_train)\n",
    "model_LightGBM = grid.best_estimator_\n",
    "print(f'Лучшие параметры модели LGBM {grid.best_params_}')\n",
    "print(f'Лучший roc_auc модели LGBM  {grid.best_score_:.2f}')"
   ]
  },
  {
   "cell_type": "code",
   "execution_count": 94,
   "metadata": {},
   "outputs": [
    {
     "name": "stdout",
     "output_type": "stream",
     "text": [
      "CPU times: user 1.66 s, sys: 26.6 ms, total: 1.68 s\n",
      "Wall time: 1.7 s\n"
     ]
    },
    {
     "data": {
      "text/plain": [
       "LGBMClassifier(n_estimators=200, num_leaves=28, random_state=141122)"
      ]
     },
     "execution_count": 94,
     "metadata": {},
     "output_type": "execute_result"
    }
   ],
   "source": [
    "%%time\n",
    "#Обучение модели для замера времени\n",
    "model_LightGBM.fit(features_train, target_train)"
   ]
  },
  {
   "cell_type": "markdown",
   "metadata": {},
   "source": [
    "**Сравнение моделей на обучающей выборке**\n",
    "\n",
    "№ | Модель | Гиперпараметры | roc_auc | Время обучения, сек. | \n",
    "---:|:---|:---:|:---:|:---:| \n",
    "1 | **Логистическая регрессия** | {'fit_intercept': True, 'max_iter': 50, 'solver': 'liblinear'} | 0.84 | 34.4 ms | \n",
    "2 | **Случайный лес** |  {'bootstrap': True, 'max_depth': None, 'max_features': 'auto', 'min_samples_split': 2, 'n_estimators': 100} | 0.88 | 476 ms| \n",
    "3 | **LGBM** | {'learning_rate': 0.1, 'max_depth': -1, 'n_estimators': 200, 'num_leaves': 28} | 0.93 | 5min 14s | \n",
    "\n",
    "\n",
    "Лучше всего себя показала модель на базе LGBM с метрикой roc_auc = 0.93, ее и стоит использовать для решения текущей задачи бизнеса, при этом время обучения у нее самое большое. Однако т.к. расчет не будет работать в real-time в данном случае качество модели важнее скорости работы."
   ]
  },
  {
   "cell_type": "markdown",
   "metadata": {},
   "source": [
    "### Проверка модели на тестовой выборке"
   ]
  },
  {
   "cell_type": "code",
   "execution_count": 95,
   "metadata": {},
   "outputs": [
    {
     "name": "stdout",
     "output_type": "stream",
     "text": [
      "Метрика roc_auc на тестовой выборке: 0.93\n",
      "CPU times: user 94.2 ms, sys: 2.36 ms, total: 96.5 ms\n",
      "Wall time: 95.6 ms\n"
     ]
    }
   ],
   "source": [
    "%%time\n",
    "predictions = model_LightGBM.predict(features_test)\n",
    "roc_auc = roc_auc_score(target_test, model_LightGBM.predict_proba(features_test)[:, 1])\n",
    "print(\"Метрика roc_auc на тестовой выборке: %.2f\" % roc_auc)"
   ]
  },
  {
   "cell_type": "code",
   "execution_count": 96,
   "metadata": {},
   "outputs": [
    {
     "data": {
      "image/png": "[encoded data removed]",
      "text/plain": [
       "<Figure size 432x432 with 1 Axes>"
      ]
     },
     "metadata": {
      "needs_background": "light"
     },
     "output_type": "display_data"
    }
   ],
   "source": [
    "fpr, tpr, thresholds =  roc_curve(target_test, model_LightGBM.predict_proba(features_test)[:, 1]) \n",
    "plt.figure(figsize=(6, 6))\n",
    "plt.plot([0, 1], [0, 1], linestyle='--')\n",
    "plt.plot(fpr, tpr, linestyle='--')\n",
    "plt.xlim([0.0, 1.0])\n",
    "plt.ylim([0.0, 1.0])\n",
    "plt.xlabel(\"False Positive Rate\")\n",
    "plt.ylabel(\"True Positive Rate\")\n",
    "plt.title(\"ROC-кривая\")\n",
    "plt.show()"
   ]
  },
  {
   "cell_type": "code",
   "execution_count": 97,
   "metadata": {},
   "outputs": [
    {
     "data": {
      "text/plain": [
       "<AxesSubplot:title={'center':'Оценка важности признаков'}, xlabel='Feature importance', ylabel='Features'>"
      ]
     },
     "execution_count": 97,
     "metadata": {},
     "output_type": "execute_result"
    },
    {
     "data": {
      "image/png": "[encoded data removed]",
      "text/plain": [
       "<Figure size 432x288 with 1 Axes>"
      ]
     },
     "metadata": {
      "needs_background": "light"
     },
     "output_type": "display_data"
    }
   ],
   "source": [
    "lgb.plot_importance(model_LightGBM, title='Оценка важности признаков')"
   ]
  },
  {
   "cell_type": "markdown",
   "metadata": {},
   "source": [
    "### Вывод\n",
    "\n",
    "Для решения поставленной задачи из трех моделей (логистическая регрессия, случайный лес, light GBM) была подобрана лучшая. Лучшей оказалось с light GBM с метрикой roc_auc = 0.93  Для нее также были подобраны гиперпараметры. \n",
    "На тестовой выборке метрика roc_auc составила также 0.93, что также является неплохим показателем и говорит о том, что переобучение не произошло.\n",
    "\n",
    "Была проанализирована важность признаков для обучения модели. Самые важные:\n",
    "* TotalCharges\n",
    "* MonthlyCharges\n",
    "* Duration\n",
    "* PaymentMethod\n",
    "* Type\n",
    "\n",
    "Среди этих признаков есть PaymentMethod, который связан с процессом оплаты. Можно дать рекомендацию бизнесу по оптимизации процесса оплаты, чтобы понизить величину оттока клиентов\n"
   ]
  },
  {
   "cell_type": "markdown",
   "metadata": {},
   "source": [
    "## Отчет о работе\n",
    "\n",
    "Была проведена работа по созданию модели машинного обучения для предсказания оттока клиентов телеком-компании. Работа включала в себе:\n",
    "* Предварительный анализ данных\n",
    "* Предобработку данных\n",
    "* Исследовательский анализ\n",
    "* Подготовку признаков, подбор подходящей модели, обучение\n",
    "* Запуск модели на тестовой выборке и анализ результатов\n",
    "\n",
    "1. Размер обучающей выборки составил - 5282, тестовой -  1761.\n",
    "2. Для обучения использовались следующие признаки: `Type`,`PaperlessBilling`,`PaymentMethod`,`MonthlyCharges`,`TotalCharges`,`Gender`,`SeniorCitizen`,`Partner`,`Dependents`,`InternetService`,`OnlineSecurity`,`OnlineBackup`,`DeviceProtection`,`TechSupport`,`StreamingTV`,`StreamingMovies`,`MultipleLines`,`Duration`. При обучении модели логистической регрессии признак `Duration` не использовался вследствие мультиколлинеарности\n",
    "3. Лучшей моделью оказалась модель на базе light GBM с метрикой roc_auc = 0.93 как на обучающей, так и на тестовой выборках.  Для нее были подобраны гиперпараметры:\n",
    "`{'learning_rate': 0.1, 'max_depth': -1, 'n_estimators': 200, 'num_leaves': 28}`\n",
    "4. От первоначального плана работ работа отличается тем, что было проведено дополнительное исследование признаков на предмет мультиколлинеарности, оценка важности признаков,  а также кодирование признаков в итоге выполнялось после деления выборки на обучающую и тестовую.  Не хватило знания о том, что для линейной модели не подходит метод кодирования OrdinalEncoder, а нужно использовать метод OHE.\n",
    "5. Ключевым этапом работы является этап по подбору подходящей модели. Им требуется уделять повышенное внимание. Однако, все этапы работы необходимы, т.к. конечный результат зафисит от многих факторов.\n",
    "6. Трудности в работе: самая большая трудность -  понять,  с чего начинать. Но эта трудность решается благодаря предварительному составлению плана работ и подсказкам Тимлида. Вторая трудность - вспомнить все, чему учился последние полгода, и выбрать только нужное. Больших технических трудностей не было: задача укладывается в рамки пройденного на курсе материала."
   ]
  }
 ],
 "metadata": {
  "ExecuteTimeLog": [
   {
    "duration": 55,
    "start_time": "2022-11-21T07:34:41.085Z"
   },
   {
    "duration": 0,
    "start_time": "2022-11-21T07:34:41.142Z"
   },
   {
    "duration": 437,
    "start_time": "2022-11-21T08:44:03.304Z"
   },
   {
    "duration": 219,
    "start_time": "2022-11-21T08:44:06.077Z"
   },
   {
    "duration": 138,
    "start_time": "2022-11-21T08:48:19.424Z"
   },
   {
    "duration": 222,
    "start_time": "2022-11-21T08:48:47.420Z"
   },
   {
    "duration": 4,
    "start_time": "2022-11-21T08:51:57.359Z"
   },
   {
    "duration": 4,
    "start_time": "2022-11-21T08:52:01.979Z"
   },
   {
    "duration": 24,
    "start_time": "2022-11-21T08:52:06.320Z"
   },
   {
    "duration": 9,
    "start_time": "2022-11-21T08:52:17.380Z"
   },
   {
    "duration": 18,
    "start_time": "2022-11-21T08:52:36.105Z"
   },
   {
    "duration": 68,
    "start_time": "2022-11-21T08:53:15.041Z"
   },
   {
    "duration": 19,
    "start_time": "2022-11-21T08:53:21.300Z"
   },
   {
    "duration": 9,
    "start_time": "2022-11-21T08:55:32.496Z"
   },
   {
    "duration": 9,
    "start_time": "2022-11-21T08:55:48.099Z"
   },
   {
    "duration": 16,
    "start_time": "2022-11-21T08:56:52.055Z"
   },
   {
    "duration": 8,
    "start_time": "2022-11-21T08:57:19.488Z"
   },
   {
    "duration": 3,
    "start_time": "2022-11-21T08:57:27.450Z"
   },
   {
    "duration": 9,
    "start_time": "2022-11-21T08:57:31.438Z"
   },
   {
    "duration": 354,
    "start_time": "2022-11-21T15:02:02.435Z"
   },
   {
    "duration": 77,
    "start_time": "2022-11-21T15:03:36.321Z"
   },
   {
    "duration": 3,
    "start_time": "2022-11-21T15:03:43.189Z"
   },
   {
    "duration": 448,
    "start_time": "2022-11-21T15:03:43.203Z"
   },
   {
    "duration": 27,
    "start_time": "2022-11-21T15:03:47.270Z"
   },
   {
    "duration": 11,
    "start_time": "2022-11-21T15:04:32.010Z"
   },
   {
    "duration": 11,
    "start_time": "2022-11-21T15:04:57.010Z"
   },
   {
    "duration": 18,
    "start_time": "2022-11-21T15:05:14.991Z"
   },
   {
    "duration": 16,
    "start_time": "2022-11-21T15:05:39.912Z"
   },
   {
    "duration": 19,
    "start_time": "2022-11-21T15:05:46.781Z"
   },
   {
    "duration": 20,
    "start_time": "2022-11-21T15:06:12.151Z"
   },
   {
    "duration": 8,
    "start_time": "2022-11-21T15:07:14.662Z"
   },
   {
    "duration": 13,
    "start_time": "2022-11-21T15:07:28.589Z"
   },
   {
    "duration": 20,
    "start_time": "2022-11-21T15:08:29.541Z"
   },
   {
    "duration": 14,
    "start_time": "2022-11-21T15:09:28.751Z"
   },
   {
    "duration": 18,
    "start_time": "2022-11-21T15:09:48.411Z"
   },
   {
    "duration": 14,
    "start_time": "2022-11-21T15:10:01.175Z"
   },
   {
    "duration": 21,
    "start_time": "2022-11-21T15:11:42.893Z"
   },
   {
    "duration": 9,
    "start_time": "2022-11-21T15:11:48.271Z"
   },
   {
    "duration": 5,
    "start_time": "2022-11-21T15:11:50.669Z"
   },
   {
    "duration": 30,
    "start_time": "2022-11-21T15:11:55.082Z"
   },
   {
    "duration": 22,
    "start_time": "2022-11-21T15:23:19.970Z"
   },
   {
    "duration": 18,
    "start_time": "2022-11-21T15:23:28.571Z"
   },
   {
    "duration": 15,
    "start_time": "2022-11-21T15:29:55.411Z"
   },
   {
    "duration": 18,
    "start_time": "2022-11-21T15:30:24.683Z"
   },
   {
    "duration": 609,
    "start_time": "2022-11-21T15:31:15.721Z"
   },
   {
    "duration": 441,
    "start_time": "2022-11-21T15:32:02.421Z"
   },
   {
    "duration": 515,
    "start_time": "2022-11-21T15:32:16.969Z"
   },
   {
    "duration": 427,
    "start_time": "2022-11-21T15:32:24.299Z"
   },
   {
    "duration": 200,
    "start_time": "2022-11-21T15:37:44.749Z"
   },
   {
    "duration": 12,
    "start_time": "2022-11-21T15:37:52.501Z"
   },
   {
    "duration": 15,
    "start_time": "2022-11-21T15:43:03.422Z"
   },
   {
    "duration": 14,
    "start_time": "2022-11-21T15:43:14.767Z"
   },
   {
    "duration": 9,
    "start_time": "2022-11-21T15:43:45.550Z"
   },
   {
    "duration": 5,
    "start_time": "2022-11-21T15:44:02.690Z"
   },
   {
    "duration": 5,
    "start_time": "2022-11-21T15:44:05.540Z"
   },
   {
    "duration": 468,
    "start_time": "2022-11-21T15:44:09.920Z"
   },
   {
    "duration": 20,
    "start_time": "2022-11-21T15:52:45.650Z"
   },
   {
    "duration": 19,
    "start_time": "2022-11-21T15:54:40.479Z"
   },
   {
    "duration": 109,
    "start_time": "2022-11-21T15:55:45.340Z"
   },
   {
    "duration": 143,
    "start_time": "2022-11-21T15:56:22.809Z"
   },
   {
    "duration": 113,
    "start_time": "2022-11-21T15:56:39.788Z"
   },
   {
    "duration": 195,
    "start_time": "2022-11-21T15:56:51.359Z"
   },
   {
    "duration": 98,
    "start_time": "2022-11-21T15:56:57.100Z"
   },
   {
    "duration": 106,
    "start_time": "2022-11-21T15:58:19.339Z"
   },
   {
    "duration": 102,
    "start_time": "2022-11-21T15:58:43.889Z"
   },
   {
    "duration": 50,
    "start_time": "2022-11-21T15:59:24.169Z"
   },
   {
    "duration": 11,
    "start_time": "2022-11-21T15:59:30.759Z"
   },
   {
    "duration": 74,
    "start_time": "2022-11-21T16:03:14.996Z"
   },
   {
    "duration": 6,
    "start_time": "2022-11-21T16:03:19.279Z"
   },
   {
    "duration": 3,
    "start_time": "2022-11-21T16:03:25.107Z"
   },
   {
    "duration": 104,
    "start_time": "2022-11-21T16:03:29.639Z"
   },
   {
    "duration": 3,
    "start_time": "2022-11-21T16:03:57.719Z"
   },
   {
    "duration": 11,
    "start_time": "2022-11-21T16:04:03.290Z"
   },
   {
    "duration": 126,
    "start_time": "2022-11-21T16:04:38.957Z"
   },
   {
    "duration": 212,
    "start_time": "2022-11-21T16:04:47.029Z"
   },
   {
    "duration": 111,
    "start_time": "2022-11-21T16:05:15.110Z"
   },
   {
    "duration": 132,
    "start_time": "2022-11-21T16:05:42.889Z"
   },
   {
    "duration": 19672,
    "start_time": "2022-11-21T16:06:41.879Z"
   },
   {
    "duration": 180,
    "start_time": "2022-11-21T16:08:42.906Z"
   },
   {
    "duration": 14,
    "start_time": "2022-11-21T16:09:23.889Z"
   },
   {
    "duration": 4,
    "start_time": "2022-11-21T16:10:38.659Z"
   },
   {
    "duration": 7,
    "start_time": "2022-11-21T16:11:33.180Z"
   },
   {
    "duration": 8,
    "start_time": "2022-11-21T16:12:06.847Z"
   },
   {
    "duration": 9,
    "start_time": "2022-11-21T16:13:16.969Z"
   },
   {
    "duration": 10,
    "start_time": "2022-11-21T16:13:47.629Z"
   },
   {
    "duration": 10,
    "start_time": "2022-11-21T16:14:27.071Z"
   },
   {
    "duration": 10,
    "start_time": "2022-11-21T16:15:02.890Z"
   },
   {
    "duration": 14,
    "start_time": "2022-11-21T16:15:19.520Z"
   },
   {
    "duration": 1064,
    "start_time": "2022-11-21T16:17:03.960Z"
   },
   {
    "duration": 13,
    "start_time": "2022-11-21T16:17:15.000Z"
   },
   {
    "duration": 14,
    "start_time": "2022-11-21T16:17:58.677Z"
   },
   {
    "duration": 877,
    "start_time": "2022-11-21T16:18:58.740Z"
   },
   {
    "duration": 21,
    "start_time": "2022-11-21T16:19:04.528Z"
   },
   {
    "duration": 3,
    "start_time": "2022-11-21T16:26:40.520Z"
   },
   {
    "duration": 206,
    "start_time": "2022-11-21T16:26:40.526Z"
   },
   {
    "duration": 8,
    "start_time": "2022-11-21T16:26:40.734Z"
   },
   {
    "duration": 45,
    "start_time": "2022-11-21T16:26:40.745Z"
   },
   {
    "duration": 38,
    "start_time": "2022-11-21T16:26:40.792Z"
   },
   {
    "duration": 48,
    "start_time": "2022-11-21T16:26:40.831Z"
   },
   {
    "duration": 27,
    "start_time": "2022-11-21T16:26:40.882Z"
   },
   {
    "duration": 500,
    "start_time": "2022-11-21T16:26:40.910Z"
   },
   {
    "duration": 47,
    "start_time": "2022-11-21T18:26:32.588Z"
   },
   {
    "duration": 27,
    "start_time": "2022-11-21T18:26:45.498Z"
   },
   {
    "duration": 51,
    "start_time": "2022-11-21T18:26:50.649Z"
   },
   {
    "duration": 6,
    "start_time": "2022-11-21T18:28:45.777Z"
   },
   {
    "duration": 13,
    "start_time": "2022-11-21T18:28:51.368Z"
   },
   {
    "duration": 19,
    "start_time": "2022-11-21T18:29:59.198Z"
   },
   {
    "duration": 3,
    "start_time": "2022-11-21T18:33:51.748Z"
   },
   {
    "duration": 175,
    "start_time": "2022-11-21T18:33:51.762Z"
   },
   {
    "duration": 6,
    "start_time": "2022-11-21T18:33:51.939Z"
   },
   {
    "duration": 34,
    "start_time": "2022-11-21T18:33:51.946Z"
   },
   {
    "duration": 19,
    "start_time": "2022-11-21T18:33:51.981Z"
   },
   {
    "duration": 13,
    "start_time": "2022-11-21T18:33:52.002Z"
   },
   {
    "duration": 16,
    "start_time": "2022-11-21T18:33:52.017Z"
   },
   {
    "duration": 402,
    "start_time": "2022-11-21T18:33:52.034Z"
   },
   {
    "duration": 45,
    "start_time": "2022-11-21T18:33:52.437Z"
   },
   {
    "duration": 9,
    "start_time": "2022-11-21T18:33:52.484Z"
   },
   {
    "duration": 18,
    "start_time": "2022-11-21T18:33:52.495Z"
   },
   {
    "duration": 718,
    "start_time": "2022-11-21T18:33:52.514Z"
   },
   {
    "duration": 3,
    "start_time": "2022-11-21T18:34:59.640Z"
   },
   {
    "duration": 186,
    "start_time": "2022-11-21T18:34:59.645Z"
   },
   {
    "duration": 6,
    "start_time": "2022-11-21T18:34:59.833Z"
   },
   {
    "duration": 43,
    "start_time": "2022-11-21T18:34:59.841Z"
   },
   {
    "duration": 24,
    "start_time": "2022-11-21T18:34:59.887Z"
   },
   {
    "duration": 16,
    "start_time": "2022-11-21T18:34:59.913Z"
   },
   {
    "duration": 554,
    "start_time": "2022-11-21T18:34:59.931Z"
   },
   {
    "duration": 48,
    "start_time": "2022-11-21T18:35:00.487Z"
   },
   {
    "duration": 21,
    "start_time": "2022-11-21T18:35:00.537Z"
   },
   {
    "duration": 69,
    "start_time": "2022-11-21T18:35:00.560Z"
   },
   {
    "duration": 28,
    "start_time": "2022-11-21T18:35:00.631Z"
   },
   {
    "duration": 626,
    "start_time": "2022-11-21T18:41:52.299Z"
   },
   {
    "duration": 56,
    "start_time": "2022-11-21T18:48:36.690Z"
   },
   {
    "duration": 44,
    "start_time": "2022-11-21T18:49:42.051Z"
   },
   {
    "duration": 2,
    "start_time": "2022-11-21T18:50:08.881Z"
   },
   {
    "duration": 60,
    "start_time": "2022-11-21T18:50:13.880Z"
   },
   {
    "duration": 55,
    "start_time": "2022-11-21T18:50:36.610Z"
   },
   {
    "duration": 53,
    "start_time": "2022-11-21T18:50:43.139Z"
   },
   {
    "duration": 48,
    "start_time": "2022-11-21T18:51:43.380Z"
   },
   {
    "duration": 45,
    "start_time": "2022-11-21T18:52:19.030Z"
   },
   {
    "duration": 38,
    "start_time": "2022-11-21T18:59:01.511Z"
   },
   {
    "duration": 47,
    "start_time": "2022-11-21T18:59:30.238Z"
   },
   {
    "duration": 48,
    "start_time": "2022-11-21T18:59:41.220Z"
   },
   {
    "duration": 186,
    "start_time": "2022-11-21T18:59:57.863Z"
   },
   {
    "duration": 56,
    "start_time": "2022-11-21T19:01:33.762Z"
   },
   {
    "duration": 50,
    "start_time": "2022-11-21T19:02:25.237Z"
   },
   {
    "duration": 52,
    "start_time": "2022-11-21T19:03:09.990Z"
   },
   {
    "duration": 68,
    "start_time": "2022-11-21T19:04:00.073Z"
   },
   {
    "duration": 5,
    "start_time": "2022-11-21T19:10:00.650Z"
   },
   {
    "duration": 18,
    "start_time": "2022-11-21T19:10:02.909Z"
   },
   {
    "duration": 46,
    "start_time": "2022-11-21T19:11:28.663Z"
   },
   {
    "duration": 2,
    "start_time": "2022-11-21T19:11:37.372Z"
   },
   {
    "duration": 200,
    "start_time": "2022-11-21T19:11:37.377Z"
   },
   {
    "duration": 8,
    "start_time": "2022-11-21T19:11:37.580Z"
   },
   {
    "duration": 24,
    "start_time": "2022-11-21T19:11:37.590Z"
   },
   {
    "duration": 25,
    "start_time": "2022-11-21T19:11:37.616Z"
   },
   {
    "duration": 47,
    "start_time": "2022-11-21T19:11:37.642Z"
   },
   {
    "duration": 469,
    "start_time": "2022-11-21T19:11:37.691Z"
   },
   {
    "duration": 50,
    "start_time": "2022-11-21T19:11:38.162Z"
   },
   {
    "duration": 11,
    "start_time": "2022-11-21T19:11:38.215Z"
   },
   {
    "duration": 30,
    "start_time": "2022-11-21T19:11:38.227Z"
   },
   {
    "duration": 43,
    "start_time": "2022-11-21T19:11:38.259Z"
   },
   {
    "duration": 72,
    "start_time": "2022-11-21T19:11:46.140Z"
   },
   {
    "duration": 7,
    "start_time": "2022-11-21T19:13:15.525Z"
   },
   {
    "duration": 21,
    "start_time": "2022-11-21T19:33:16.620Z"
   },
   {
    "duration": 4,
    "start_time": "2022-11-21T19:33:28.850Z"
   },
   {
    "duration": 76,
    "start_time": "2022-11-21T19:38:46.389Z"
   },
   {
    "duration": 3,
    "start_time": "2022-11-21T19:40:28.481Z"
   },
   {
    "duration": 275,
    "start_time": "2022-11-21T19:40:32.818Z"
   },
   {
    "duration": 3,
    "start_time": "2022-11-21T19:41:10.002Z"
   },
   {
    "duration": 188,
    "start_time": "2022-11-21T19:41:10.016Z"
   },
   {
    "duration": 9,
    "start_time": "2022-11-21T19:41:10.207Z"
   },
   {
    "duration": 30,
    "start_time": "2022-11-21T19:41:10.218Z"
   },
   {
    "duration": 52,
    "start_time": "2022-11-21T19:41:10.250Z"
   },
   {
    "duration": 19,
    "start_time": "2022-11-21T19:41:10.304Z"
   },
   {
    "duration": 510,
    "start_time": "2022-11-21T19:41:10.325Z"
   },
   {
    "duration": 58,
    "start_time": "2022-11-21T19:41:10.837Z"
   },
   {
    "duration": 15,
    "start_time": "2022-11-21T19:41:10.897Z"
   },
   {
    "duration": 38,
    "start_time": "2022-11-21T19:41:10.913Z"
   },
   {
    "duration": 50,
    "start_time": "2022-11-21T19:41:10.953Z"
   },
   {
    "duration": 88,
    "start_time": "2022-11-21T19:41:11.005Z"
   },
   {
    "duration": 8,
    "start_time": "2022-11-21T19:41:11.095Z"
   },
   {
    "duration": 15,
    "start_time": "2022-11-21T19:41:11.105Z"
   },
   {
    "duration": 21017,
    "start_time": "2022-11-21T19:41:14.771Z"
   },
   {
    "duration": 21517,
    "start_time": "2022-11-21T19:42:12.371Z"
   },
   {
    "duration": 8,
    "start_time": "2022-11-21T19:45:35.031Z"
   },
   {
    "duration": 28,
    "start_time": "2022-11-21T19:46:03.321Z"
   },
   {
    "duration": 4,
    "start_time": "2022-11-21T19:46:12.281Z"
   },
   {
    "duration": 36754,
    "start_time": "2022-11-21T19:48:01.229Z"
   },
   {
    "duration": 38,
    "start_time": "2022-11-21T19:53:59.531Z"
   },
   {
    "duration": 4,
    "start_time": "2022-11-21T19:54:06.461Z"
   },
   {
    "duration": 4,
    "start_time": "2022-11-21T19:55:04.024Z"
   },
   {
    "duration": 165880,
    "start_time": "2022-11-21T19:55:05.502Z"
   },
   {
    "duration": 43,
    "start_time": "2022-11-21T20:09:44.922Z"
   },
   {
    "duration": 481,
    "start_time": "2022-11-21T20:10:50.222Z"
   },
   {
    "duration": 314093,
    "start_time": "2022-11-21T20:11:22.202Z"
   },
   {
    "duration": 2,
    "start_time": "2022-11-21T20:16:36.376Z"
   },
   {
    "duration": 63,
    "start_time": "2022-11-21T20:16:46.808Z"
   },
   {
    "duration": 4,
    "start_time": "2022-11-21T20:17:59.288Z"
   },
   {
    "duration": 21,
    "start_time": "2022-11-21T20:18:08.281Z"
   },
   {
    "duration": 113,
    "start_time": "2022-11-21T20:18:31.001Z"
   },
   {
    "duration": 341948,
    "start_time": "2022-11-21T20:19:24.338Z"
   },
   {
    "duration": 13,
    "start_time": "2022-11-21T20:41:35.800Z"
   },
   {
    "duration": 8,
    "start_time": "2022-11-21T20:47:27.069Z"
   },
   {
    "duration": 9,
    "start_time": "2022-11-21T20:49:29.489Z"
   },
   {
    "duration": 12,
    "start_time": "2022-11-21T20:49:36.601Z"
   },
   {
    "duration": 55,
    "start_time": "2022-11-21T20:52:08.460Z"
   },
   {
    "duration": 3,
    "start_time": "2022-11-21T20:52:16.680Z"
   },
   {
    "duration": 50590,
    "start_time": "2022-11-21T20:52:24.919Z"
   },
   {
    "duration": 1891,
    "start_time": "2022-11-22T17:42:27.547Z"
   },
   {
    "duration": 190,
    "start_time": "2022-11-22T17:42:29.440Z"
   },
   {
    "duration": 7,
    "start_time": "2022-11-22T17:42:29.632Z"
   },
   {
    "duration": 20,
    "start_time": "2022-11-22T17:42:31.622Z"
   },
   {
    "duration": 25,
    "start_time": "2022-11-22T17:42:34.286Z"
   },
   {
    "duration": 16,
    "start_time": "2022-11-22T17:42:37.668Z"
   },
   {
    "duration": 20,
    "start_time": "2022-11-22T17:43:10.217Z"
   },
   {
    "duration": 440,
    "start_time": "2022-11-22T17:44:36.123Z"
   },
   {
    "duration": 42,
    "start_time": "2022-11-22T17:51:32.382Z"
   },
   {
    "duration": 12,
    "start_time": "2022-11-22T17:51:34.067Z"
   },
   {
    "duration": 18,
    "start_time": "2022-11-22T17:51:34.668Z"
   },
   {
    "duration": 877,
    "start_time": "2022-11-22T17:51:36.467Z"
   },
   {
    "duration": 1963,
    "start_time": "2022-11-22T17:51:47.645Z"
   },
   {
    "duration": 199,
    "start_time": "2022-11-22T17:51:49.611Z"
   },
   {
    "duration": 7,
    "start_time": "2022-11-22T17:51:49.811Z"
   },
   {
    "duration": 23,
    "start_time": "2022-11-22T17:51:49.820Z"
   },
   {
    "duration": 25,
    "start_time": "2022-11-22T17:51:49.983Z"
   },
   {
    "duration": 17,
    "start_time": "2022-11-22T17:51:50.480Z"
   },
   {
    "duration": 527,
    "start_time": "2022-11-22T17:51:51.400Z"
   },
   {
    "duration": 45,
    "start_time": "2022-11-22T17:51:52.068Z"
   },
   {
    "duration": 10,
    "start_time": "2022-11-22T17:51:52.232Z"
   },
   {
    "duration": 22,
    "start_time": "2022-11-22T17:51:52.472Z"
   },
   {
    "duration": 30,
    "start_time": "2022-11-22T17:51:53.471Z"
   },
   {
    "duration": 153,
    "start_time": "2022-11-22T17:51:55.487Z"
   },
   {
    "duration": 10,
    "start_time": "2022-11-22T17:54:22.621Z"
   },
   {
    "duration": 5,
    "start_time": "2022-11-22T17:54:25.748Z"
   },
   {
    "duration": 1607,
    "start_time": "2022-11-23T11:38:44.476Z"
   },
   {
    "duration": 436,
    "start_time": "2022-11-23T11:38:46.085Z"
   },
   {
    "duration": 8,
    "start_time": "2022-11-23T11:38:46.522Z"
   },
   {
    "duration": 28,
    "start_time": "2022-11-23T11:38:46.532Z"
   },
   {
    "duration": 21,
    "start_time": "2022-11-23T11:38:46.561Z"
   },
   {
    "duration": 4,
    "start_time": "2022-11-23T12:14:01.460Z"
   },
   {
    "duration": 4,
    "start_time": "2022-11-23T12:19:48.636Z"
   },
   {
    "duration": 228,
    "start_time": "2022-11-23T12:19:48.649Z"
   },
   {
    "duration": 7,
    "start_time": "2022-11-23T12:19:48.879Z"
   },
   {
    "duration": 50,
    "start_time": "2022-11-23T12:19:48.888Z"
   },
   {
    "duration": 32,
    "start_time": "2022-11-23T12:19:48.941Z"
   },
   {
    "duration": 73,
    "start_time": "2022-11-23T12:19:48.975Z"
   },
   {
    "duration": 0,
    "start_time": "2022-11-23T12:19:49.051Z"
   },
   {
    "duration": 0,
    "start_time": "2022-11-23T12:19:49.053Z"
   },
   {
    "duration": 0,
    "start_time": "2022-11-23T12:19:49.054Z"
   },
   {
    "duration": 0,
    "start_time": "2022-11-23T12:19:49.055Z"
   },
   {
    "duration": 0,
    "start_time": "2022-11-23T12:19:49.056Z"
   },
   {
    "duration": 0,
    "start_time": "2022-11-23T12:19:49.058Z"
   },
   {
    "duration": 0,
    "start_time": "2022-11-23T12:19:49.059Z"
   },
   {
    "duration": 0,
    "start_time": "2022-11-23T12:19:49.060Z"
   },
   {
    "duration": 223,
    "start_time": "2022-11-23T12:19:53.051Z"
   },
   {
    "duration": 4,
    "start_time": "2022-11-23T12:19:55.869Z"
   },
   {
    "duration": 75,
    "start_time": "2022-11-23T12:19:58.093Z"
   },
   {
    "duration": 5,
    "start_time": "2022-11-23T12:20:05.729Z"
   },
   {
    "duration": 297,
    "start_time": "2022-11-23T12:20:05.744Z"
   },
   {
    "duration": 8,
    "start_time": "2022-11-23T12:20:06.043Z"
   },
   {
    "duration": 29,
    "start_time": "2022-11-23T12:20:06.052Z"
   },
   {
    "duration": 44,
    "start_time": "2022-11-23T12:20:06.083Z"
   },
   {
    "duration": 136,
    "start_time": "2022-11-23T12:20:06.129Z"
   },
   {
    "duration": 1,
    "start_time": "2022-11-23T12:20:06.266Z"
   },
   {
    "duration": 0,
    "start_time": "2022-11-23T12:20:06.268Z"
   },
   {
    "duration": 0,
    "start_time": "2022-11-23T12:20:06.269Z"
   },
   {
    "duration": 0,
    "start_time": "2022-11-23T12:20:06.270Z"
   },
   {
    "duration": 0,
    "start_time": "2022-11-23T12:20:06.271Z"
   },
   {
    "duration": 0,
    "start_time": "2022-11-23T12:20:06.272Z"
   },
   {
    "duration": 0,
    "start_time": "2022-11-23T12:20:06.273Z"
   },
   {
    "duration": 6,
    "start_time": "2022-11-23T12:20:08.508Z"
   },
   {
    "duration": 4,
    "start_time": "2022-11-23T12:20:09.138Z"
   },
   {
    "duration": 585,
    "start_time": "2022-11-23T12:20:41.830Z"
   },
   {
    "duration": 73,
    "start_time": "2022-11-23T12:20:53.131Z"
   },
   {
    "duration": 20,
    "start_time": "2022-11-23T12:21:01.631Z"
   },
   {
    "duration": 22,
    "start_time": "2022-11-23T12:21:13.557Z"
   },
   {
    "duration": 90,
    "start_time": "2022-11-23T14:47:18.837Z"
   },
   {
    "duration": 13,
    "start_time": "2022-11-23T14:47:26.273Z"
   },
   {
    "duration": 16,
    "start_time": "2022-11-23T14:47:38.689Z"
   },
   {
    "duration": 22,
    "start_time": "2022-11-23T14:50:16.627Z"
   },
   {
    "duration": 17,
    "start_time": "2022-11-23T14:51:28.415Z"
   },
   {
    "duration": 20,
    "start_time": "2022-11-23T14:51:34.364Z"
   },
   {
    "duration": 15,
    "start_time": "2022-11-23T14:51:46.109Z"
   },
   {
    "duration": 17,
    "start_time": "2022-11-23T14:52:21.967Z"
   },
   {
    "duration": 16,
    "start_time": "2022-11-23T14:52:31.763Z"
   },
   {
    "duration": 18,
    "start_time": "2022-11-23T14:53:05.617Z"
   },
   {
    "duration": 17,
    "start_time": "2022-11-23T14:53:11.218Z"
   },
   {
    "duration": 1170,
    "start_time": "2022-11-23T14:54:13.080Z"
   },
   {
    "duration": 15,
    "start_time": "2022-11-23T14:54:29.507Z"
   },
   {
    "duration": 13,
    "start_time": "2022-11-23T14:55:50.639Z"
   },
   {
    "duration": 4,
    "start_time": "2022-11-23T15:05:00.689Z"
   },
   {
    "duration": 250,
    "start_time": "2022-11-23T15:05:00.698Z"
   },
   {
    "duration": 8,
    "start_time": "2022-11-23T15:05:00.950Z"
   },
   {
    "duration": 33,
    "start_time": "2022-11-23T15:05:00.960Z"
   },
   {
    "duration": 45,
    "start_time": "2022-11-23T15:05:00.996Z"
   },
   {
    "duration": 15,
    "start_time": "2022-11-23T15:05:01.043Z"
   },
   {
    "duration": 491,
    "start_time": "2022-11-23T15:05:01.060Z"
   },
   {
    "duration": 52,
    "start_time": "2022-11-23T15:05:01.553Z"
   },
   {
    "duration": 42,
    "start_time": "2022-11-23T15:05:01.607Z"
   },
   {
    "duration": 40,
    "start_time": "2022-11-23T15:05:01.651Z"
   },
   {
    "duration": 39,
    "start_time": "2022-11-23T15:05:01.694Z"
   },
   {
    "duration": 75,
    "start_time": "2022-11-23T15:05:01.735Z"
   },
   {
    "duration": 22,
    "start_time": "2022-11-23T15:05:01.812Z"
   },
   {
    "duration": 25,
    "start_time": "2022-11-23T15:05:01.835Z"
   },
   {
    "duration": 16984,
    "start_time": "2022-11-23T15:05:01.862Z"
   },
   {
    "duration": 40,
    "start_time": "2022-11-23T15:06:10.149Z"
   },
   {
    "duration": 483,
    "start_time": "2022-11-23T15:22:13.718Z"
   },
   {
    "duration": 14,
    "start_time": "2022-11-23T16:19:05.930Z"
   },
   {
    "duration": 4,
    "start_time": "2022-11-23T16:19:16.067Z"
   },
   {
    "duration": 206,
    "start_time": "2022-11-23T16:19:16.074Z"
   },
   {
    "duration": 7,
    "start_time": "2022-11-23T16:19:16.282Z"
   },
   {
    "duration": 42,
    "start_time": "2022-11-23T16:19:16.290Z"
   },
   {
    "duration": 23,
    "start_time": "2022-11-23T16:19:16.334Z"
   },
   {
    "duration": 16,
    "start_time": "2022-11-23T16:19:16.359Z"
   },
   {
    "duration": 468,
    "start_time": "2022-11-23T16:19:16.377Z"
   },
   {
    "duration": 57,
    "start_time": "2022-11-23T16:19:16.847Z"
   },
   {
    "duration": 25,
    "start_time": "2022-11-23T16:19:16.906Z"
   },
   {
    "duration": 30,
    "start_time": "2022-11-23T16:19:16.933Z"
   },
   {
    "duration": 42,
    "start_time": "2022-11-23T16:19:16.965Z"
   },
   {
    "duration": 84,
    "start_time": "2022-11-23T16:19:21.606Z"
   },
   {
    "duration": 7,
    "start_time": "2022-11-23T16:44:02.339Z"
   },
   {
    "duration": 101,
    "start_time": "2022-11-23T16:44:12.606Z"
   },
   {
    "duration": 72,
    "start_time": "2022-11-23T16:45:37.749Z"
   },
   {
    "duration": 14,
    "start_time": "2022-11-23T16:46:05.887Z"
   },
   {
    "duration": 12,
    "start_time": "2022-11-23T16:46:35.040Z"
   },
   {
    "duration": 195,
    "start_time": "2022-11-23T16:46:49.119Z"
   },
   {
    "duration": 91,
    "start_time": "2022-11-23T16:50:10.232Z"
   },
   {
    "duration": 94,
    "start_time": "2022-11-23T16:50:29.900Z"
   },
   {
    "duration": 120,
    "start_time": "2022-11-23T16:50:39.369Z"
   },
   {
    "duration": 95,
    "start_time": "2022-11-23T16:52:36.756Z"
   },
   {
    "duration": 121,
    "start_time": "2022-11-23T16:53:43.517Z"
   },
   {
    "duration": 117,
    "start_time": "2022-11-23T16:56:39.058Z"
   },
   {
    "duration": 112,
    "start_time": "2022-11-23T16:56:48.908Z"
   },
   {
    "duration": 99,
    "start_time": "2022-11-23T16:57:29.647Z"
   },
   {
    "duration": 117,
    "start_time": "2022-11-23T17:12:58.738Z"
   },
   {
    "duration": 128,
    "start_time": "2022-11-23T17:13:07.465Z"
   },
   {
    "duration": 68,
    "start_time": "2022-11-23T17:13:21.044Z"
   },
   {
    "duration": 124,
    "start_time": "2022-11-23T17:13:30.548Z"
   },
   {
    "duration": 77,
    "start_time": "2022-11-23T17:15:01.888Z"
   },
   {
    "duration": 287,
    "start_time": "2022-11-23T17:15:12.908Z"
   },
   {
    "duration": 363,
    "start_time": "2022-11-23T17:15:32.150Z"
   },
   {
    "duration": 420,
    "start_time": "2022-11-23T17:15:51.077Z"
   },
   {
    "duration": 215,
    "start_time": "2022-11-23T17:16:01.897Z"
   },
   {
    "duration": 154,
    "start_time": "2022-11-23T17:16:29.228Z"
   },
   {
    "duration": 216,
    "start_time": "2022-11-23T17:16:36.547Z"
   },
   {
    "duration": 348,
    "start_time": "2022-11-23T17:22:18.787Z"
   },
   {
    "duration": 222,
    "start_time": "2022-11-23T17:22:57.378Z"
   },
   {
    "duration": 276,
    "start_time": "2022-11-23T17:26:26.829Z"
   },
   {
    "duration": 82,
    "start_time": "2022-11-23T17:35:18.648Z"
   },
   {
    "duration": 8,
    "start_time": "2022-11-23T17:35:22.379Z"
   },
   {
    "duration": 5,
    "start_time": "2022-11-23T17:35:44.128Z"
   },
   {
    "duration": 5,
    "start_time": "2022-11-23T17:36:07.086Z"
   },
   {
    "duration": 13,
    "start_time": "2022-11-23T17:36:23.298Z"
   },
   {
    "duration": 71,
    "start_time": "2022-11-23T17:42:20.474Z"
   },
   {
    "duration": 38,
    "start_time": "2022-11-23T17:43:36.629Z"
   },
   {
    "duration": 72,
    "start_time": "2022-11-23T17:43:48.288Z"
   },
   {
    "duration": 45,
    "start_time": "2022-11-23T17:47:16.268Z"
   },
   {
    "duration": 4,
    "start_time": "2022-11-23T17:47:33.528Z"
   },
   {
    "duration": 186,
    "start_time": "2022-11-23T17:47:33.542Z"
   },
   {
    "duration": 6,
    "start_time": "2022-11-23T17:47:33.730Z"
   },
   {
    "duration": 12,
    "start_time": "2022-11-23T17:47:33.738Z"
   },
   {
    "duration": 13,
    "start_time": "2022-11-23T17:47:33.752Z"
   },
   {
    "duration": 20,
    "start_time": "2022-11-23T17:47:33.766Z"
   },
   {
    "duration": 46,
    "start_time": "2022-11-23T17:47:33.787Z"
   },
   {
    "duration": 12,
    "start_time": "2022-11-23T17:47:33.834Z"
   },
   {
    "duration": 443,
    "start_time": "2022-11-23T17:47:33.848Z"
   },
   {
    "duration": 48,
    "start_time": "2022-11-23T17:47:34.293Z"
   },
   {
    "duration": 11,
    "start_time": "2022-11-23T17:47:34.343Z"
   },
   {
    "duration": 17,
    "start_time": "2022-11-23T17:47:34.356Z"
   },
   {
    "duration": 29,
    "start_time": "2022-11-23T17:47:34.375Z"
   },
   {
    "duration": 483,
    "start_time": "2022-11-23T17:47:34.405Z"
   },
   {
    "duration": 76,
    "start_time": "2022-11-23T17:47:34.890Z"
   },
   {
    "duration": 130,
    "start_time": "2022-11-23T17:47:34.968Z"
   },
   {
    "duration": 100,
    "start_time": "2022-11-23T17:47:35.100Z"
   },
   {
    "duration": 115,
    "start_time": "2022-11-23T17:47:35.201Z"
   },
   {
    "duration": 226,
    "start_time": "2022-11-23T17:47:35.317Z"
   },
   {
    "duration": 382,
    "start_time": "2022-11-23T17:47:35.545Z"
   },
   {
    "duration": 277,
    "start_time": "2022-11-23T17:47:35.929Z"
   },
   {
    "duration": 5,
    "start_time": "2022-11-23T17:47:36.207Z"
   },
   {
    "duration": 16,
    "start_time": "2022-11-23T17:47:36.214Z"
   },
   {
    "duration": 57,
    "start_time": "2022-11-23T17:47:38.238Z"
   },
   {
    "duration": 4,
    "start_time": "2022-11-23T17:49:19.728Z"
   },
   {
    "duration": 23195,
    "start_time": "2022-11-23T17:49:21.548Z"
   },
   {
    "duration": 4,
    "start_time": "2022-11-23T17:55:55.358Z"
   },
   {
    "duration": 73,
    "start_time": "2022-11-23T17:56:15.528Z"
   },
   {
    "duration": 4,
    "start_time": "2022-11-23T17:56:30.518Z"
   },
   {
    "duration": 12076,
    "start_time": "2022-11-23T17:56:34.558Z"
   },
   {
    "duration": 5,
    "start_time": "2022-11-23T18:00:12.659Z"
   },
   {
    "duration": 95,
    "start_time": "2022-11-23T18:00:21.808Z"
   },
   {
    "duration": 4,
    "start_time": "2022-11-23T18:00:26.899Z"
   },
   {
    "duration": 991,
    "start_time": "2022-11-23T18:00:28.160Z"
   },
   {
    "duration": 3,
    "start_time": "2022-11-23T18:00:54.740Z"
   },
   {
    "duration": 933,
    "start_time": "2022-11-23T18:00:56.178Z"
   },
   {
    "duration": 90,
    "start_time": "2022-11-23T18:01:16.760Z"
   },
   {
    "duration": 4,
    "start_time": "2022-11-23T18:01:24.948Z"
   },
   {
    "duration": 5,
    "start_time": "2022-11-23T18:01:27.209Z"
   },
   {
    "duration": 1023109,
    "start_time": "2022-11-23T18:01:28.919Z"
   },
   {
    "duration": 9,
    "start_time": "2022-11-23T18:18:32.030Z"
   },
   {
    "duration": 1537,
    "start_time": "2022-11-23T18:19:39.900Z"
   },
   {
    "duration": 38,
    "start_time": "2022-11-23T18:20:58.289Z"
   },
   {
    "duration": 4,
    "start_time": "2022-11-23T18:21:59.989Z"
   },
   {
    "duration": 37486,
    "start_time": "2022-11-23T18:22:01.358Z"
   },
   {
    "duration": 10,
    "start_time": "2022-11-23T18:24:49.439Z"
   },
   {
    "duration": 8,
    "start_time": "2022-11-23T18:26:35.889Z"
   },
   {
    "duration": 271,
    "start_time": "2022-11-23T18:26:59.379Z"
   },
   {
    "duration": 2034,
    "start_time": "2022-11-25T09:52:20.611Z"
   },
   {
    "duration": 433,
    "start_time": "2022-11-25T09:52:22.647Z"
   },
   {
    "duration": 8,
    "start_time": "2022-11-25T09:52:23.082Z"
   },
   {
    "duration": 10,
    "start_time": "2022-11-25T09:52:23.092Z"
   },
   {
    "duration": 39,
    "start_time": "2022-11-25T09:52:23.103Z"
   },
   {
    "duration": 18,
    "start_time": "2022-11-25T09:52:23.594Z"
   },
   {
    "duration": 26,
    "start_time": "2022-11-25T09:52:24.083Z"
   },
   {
    "duration": 15,
    "start_time": "2022-11-25T09:52:24.899Z"
   },
   {
    "duration": 604,
    "start_time": "2022-11-25T09:52:25.699Z"
   },
   {
    "duration": 50,
    "start_time": "2022-11-25T09:52:26.305Z"
   },
   {
    "duration": 11,
    "start_time": "2022-11-25T09:52:26.357Z"
   },
   {
    "duration": 21,
    "start_time": "2022-11-25T09:52:26.492Z"
   },
   {
    "duration": 29,
    "start_time": "2022-11-25T09:52:27.420Z"
   },
   {
    "duration": 519,
    "start_time": "2022-11-25T09:52:28.868Z"
   },
   {
    "duration": 74,
    "start_time": "2022-11-25T09:52:29.722Z"
   },
   {
    "duration": 124,
    "start_time": "2022-11-25T09:52:30.587Z"
   },
   {
    "duration": 112,
    "start_time": "2022-11-25T09:52:31.532Z"
   },
   {
    "duration": 115,
    "start_time": "2022-11-25T09:52:31.962Z"
   },
   {
    "duration": 232,
    "start_time": "2022-11-25T09:52:32.467Z"
   },
   {
    "duration": 245,
    "start_time": "2022-11-25T09:52:33.202Z"
   },
   {
    "duration": 414,
    "start_time": "2022-11-25T09:52:33.523Z"
   },
   {
    "duration": 5,
    "start_time": "2022-11-25T09:52:35.154Z"
   },
   {
    "duration": 8,
    "start_time": "2022-11-25T09:52:35.860Z"
   },
   {
    "duration": 66,
    "start_time": "2022-11-25T09:52:41.884Z"
   },
   {
    "duration": 84,
    "start_time": "2022-11-25T09:52:46.084Z"
   },
   {
    "duration": 4,
    "start_time": "2022-11-25T09:52:53.044Z"
   },
   {
    "duration": 16160,
    "start_time": "2022-11-25T09:52:57.084Z"
   },
   {
    "duration": 599,
    "start_time": "2022-11-25T09:53:22.141Z"
   },
   {
    "duration": 4,
    "start_time": "2022-11-25T09:53:55.125Z"
   },
   {
    "duration": 37543,
    "start_time": "2022-11-25T09:53:55.278Z"
   },
   {
    "duration": 489,
    "start_time": "2022-11-25T09:54:32.823Z"
   },
   {
    "duration": 4,
    "start_time": "2022-11-25T09:54:33.314Z"
   },
   {
    "duration": 177806,
    "start_time": "2022-11-25T09:55:57.639Z"
   },
   {
    "duration": 1695,
    "start_time": "2022-11-25T09:58:55.447Z"
   },
   {
    "duration": 54,
    "start_time": "2022-11-25T10:01:00.298Z"
   },
   {
    "duration": 121,
    "start_time": "2022-11-25T10:01:02.466Z"
   },
   {
    "duration": 60,
    "start_time": "2022-11-25T10:01:48.389Z"
   },
   {
    "duration": 118,
    "start_time": "2022-11-25T10:01:50.405Z"
   },
   {
    "duration": 103,
    "start_time": "2022-11-25T10:01:59.644Z"
   },
   {
    "duration": 122,
    "start_time": "2022-11-25T10:02:01.547Z"
   },
   {
    "duration": 1609,
    "start_time": "2022-11-25T17:31:44.187Z"
   },
   {
    "duration": 412,
    "start_time": "2022-11-25T17:31:45.798Z"
   },
   {
    "duration": 6,
    "start_time": "2022-11-25T17:31:46.212Z"
   },
   {
    "duration": 11,
    "start_time": "2022-11-25T17:31:46.219Z"
   },
   {
    "duration": 13,
    "start_time": "2022-11-25T17:31:46.232Z"
   },
   {
    "duration": 23,
    "start_time": "2022-11-25T17:31:46.247Z"
   },
   {
    "duration": 48,
    "start_time": "2022-11-25T17:31:46.272Z"
   },
   {
    "duration": 17,
    "start_time": "2022-11-25T17:31:46.322Z"
   },
   {
    "duration": 598,
    "start_time": "2022-11-25T17:31:46.341Z"
   },
   {
    "duration": 77,
    "start_time": "2022-11-25T17:31:46.941Z"
   },
   {
    "duration": 16,
    "start_time": "2022-11-25T17:31:47.020Z"
   },
   {
    "duration": 27,
    "start_time": "2022-11-25T17:31:47.037Z"
   },
   {
    "duration": 53,
    "start_time": "2022-11-25T17:31:47.066Z"
   },
   {
    "duration": 509,
    "start_time": "2022-11-25T17:31:47.123Z"
   },
   {
    "duration": 83,
    "start_time": "2022-11-25T17:31:47.634Z"
   },
   {
    "duration": 136,
    "start_time": "2022-11-25T17:31:47.719Z"
   },
   {
    "duration": 117,
    "start_time": "2022-11-25T17:31:47.856Z"
   },
   {
    "duration": 128,
    "start_time": "2022-11-25T17:31:47.975Z"
   },
   {
    "duration": 239,
    "start_time": "2022-11-25T17:31:48.113Z"
   },
   {
    "duration": 267,
    "start_time": "2022-11-25T17:31:48.354Z"
   },
   {
    "duration": 400,
    "start_time": "2022-11-25T17:31:48.623Z"
   },
   {
    "duration": 5,
    "start_time": "2022-11-25T17:31:49.025Z"
   },
   {
    "duration": 13,
    "start_time": "2022-11-25T17:31:49.032Z"
   },
   {
    "duration": 108,
    "start_time": "2022-11-25T17:31:49.047Z"
   },
   {
    "duration": 102,
    "start_time": "2022-11-25T17:31:49.158Z"
   },
   {
    "duration": 4,
    "start_time": "2022-11-25T17:31:49.261Z"
   },
   {
    "duration": 10152,
    "start_time": "2022-11-25T17:31:49.267Z"
   },
   {
    "duration": 903,
    "start_time": "2022-11-25T17:31:59.421Z"
   },
   {
    "duration": 91,
    "start_time": "2022-11-25T17:32:00.327Z"
   },
   {
    "duration": 36252,
    "start_time": "2022-11-25T17:32:00.421Z"
   },
   {
    "duration": 518,
    "start_time": "2022-11-25T17:32:36.675Z"
   },
   {
    "duration": 4,
    "start_time": "2022-11-25T17:32:37.195Z"
   },
   {
    "duration": 810607,
    "start_time": "2022-11-25T17:32:37.213Z"
   },
   {
    "duration": 1603,
    "start_time": "2022-11-25T17:46:07.821Z"
   },
   {
    "duration": 97,
    "start_time": "2022-11-25T17:46:09.426Z"
   },
   {
    "duration": 239,
    "start_time": "2022-11-25T17:46:09.525Z"
   },
   {
    "duration": 251,
    "start_time": "2022-11-25T17:46:09.766Z"
   },
   {
    "duration": 110,
    "start_time": "2022-11-25T17:46:10.020Z"
   },
   {
    "duration": 0,
    "start_time": "2022-11-25T17:46:10.131Z"
   },
   {
    "duration": 4,
    "start_time": "2022-11-25T17:46:55.365Z"
   },
   {
    "duration": 21,
    "start_time": "2022-11-25T17:47:13.108Z"
   },
   {
    "duration": 11,
    "start_time": "2022-11-25T17:47:27.098Z"
   },
   {
    "duration": 43,
    "start_time": "2022-11-25T19:20:35.191Z"
   },
   {
    "duration": 1653,
    "start_time": "2022-11-25T19:20:40.990Z"
   },
   {
    "duration": 459,
    "start_time": "2022-11-25T19:20:42.646Z"
   },
   {
    "duration": 10,
    "start_time": "2022-11-25T19:20:43.108Z"
   },
   {
    "duration": 8,
    "start_time": "2022-11-25T19:20:43.121Z"
   },
   {
    "duration": 18,
    "start_time": "2022-11-25T19:20:43.131Z"
   },
   {
    "duration": 38,
    "start_time": "2022-11-25T19:20:43.151Z"
   },
   {
    "duration": 28,
    "start_time": "2022-11-25T19:20:43.191Z"
   },
   {
    "duration": 17,
    "start_time": "2022-11-25T19:20:43.221Z"
   },
   {
    "duration": 638,
    "start_time": "2022-11-25T19:20:43.240Z"
   },
   {
    "duration": 44,
    "start_time": "2022-11-25T19:20:43.880Z"
   },
   {
    "duration": 18,
    "start_time": "2022-11-25T19:20:43.925Z"
   },
   {
    "duration": 46,
    "start_time": "2022-11-25T19:20:43.945Z"
   },
   {
    "duration": 37,
    "start_time": "2022-11-25T19:20:43.993Z"
   },
   {
    "duration": 570,
    "start_time": "2022-11-25T19:20:44.034Z"
   },
   {
    "duration": 10,
    "start_time": "2022-11-25T19:20:44.605Z"
   },
   {
    "duration": 85,
    "start_time": "2022-11-25T19:20:44.616Z"
   },
   {
    "duration": 128,
    "start_time": "2022-11-25T19:20:44.702Z"
   },
   {
    "duration": 107,
    "start_time": "2022-11-25T19:20:44.831Z"
   },
   {
    "duration": 187,
    "start_time": "2022-11-25T19:20:44.939Z"
   },
   {
    "duration": 230,
    "start_time": "2022-11-25T19:20:45.128Z"
   },
   {
    "duration": 250,
    "start_time": "2022-11-25T19:20:45.360Z"
   },
   {
    "duration": 389,
    "start_time": "2022-11-25T19:20:45.612Z"
   },
   {
    "duration": 4,
    "start_time": "2022-11-25T19:20:46.003Z"
   },
   {
    "duration": 10,
    "start_time": "2022-11-25T19:20:46.008Z"
   },
   {
    "duration": 78,
    "start_time": "2022-11-25T19:20:46.020Z"
   },
   {
    "duration": 4,
    "start_time": "2022-11-25T19:20:46.099Z"
   },
   {
    "duration": 70,
    "start_time": "2022-11-25T19:20:46.104Z"
   },
   {
    "duration": 0,
    "start_time": "2022-11-25T19:20:46.177Z"
   },
   {
    "duration": 0,
    "start_time": "2022-11-25T19:20:46.178Z"
   },
   {
    "duration": 0,
    "start_time": "2022-11-25T19:20:46.179Z"
   },
   {
    "duration": 0,
    "start_time": "2022-11-25T19:20:46.181Z"
   },
   {
    "duration": 0,
    "start_time": "2022-11-25T19:20:46.182Z"
   },
   {
    "duration": 0,
    "start_time": "2022-11-25T19:20:46.183Z"
   },
   {
    "duration": 0,
    "start_time": "2022-11-25T19:20:46.184Z"
   },
   {
    "duration": 0,
    "start_time": "2022-11-25T19:20:46.185Z"
   },
   {
    "duration": 0,
    "start_time": "2022-11-25T19:20:46.186Z"
   },
   {
    "duration": 0,
    "start_time": "2022-11-25T19:20:46.187Z"
   },
   {
    "duration": 0,
    "start_time": "2022-11-25T19:20:46.188Z"
   },
   {
    "duration": 0,
    "start_time": "2022-11-25T19:20:46.189Z"
   },
   {
    "duration": 76,
    "start_time": "2022-11-25T19:30:34.861Z"
   },
   {
    "duration": 99,
    "start_time": "2022-11-25T19:30:49.032Z"
   },
   {
    "duration": 4,
    "start_time": "2022-11-25T19:31:27.740Z"
   },
   {
    "duration": 202,
    "start_time": "2022-11-25T19:31:27.746Z"
   },
   {
    "duration": 6,
    "start_time": "2022-11-25T19:31:27.950Z"
   },
   {
    "duration": 7,
    "start_time": "2022-11-25T19:31:27.958Z"
   },
   {
    "duration": 13,
    "start_time": "2022-11-25T19:31:27.979Z"
   },
   {
    "duration": 18,
    "start_time": "2022-11-25T19:31:27.994Z"
   },
   {
    "duration": 23,
    "start_time": "2022-11-25T19:31:28.013Z"
   },
   {
    "duration": 47,
    "start_time": "2022-11-25T19:31:28.038Z"
   },
   {
    "duration": 396,
    "start_time": "2022-11-25T19:31:28.086Z"
   },
   {
    "duration": 42,
    "start_time": "2022-11-25T19:31:28.483Z"
   },
   {
    "duration": 10,
    "start_time": "2022-11-25T19:31:28.527Z"
   },
   {
    "duration": 17,
    "start_time": "2022-11-25T19:31:28.538Z"
   },
   {
    "duration": 27,
    "start_time": "2022-11-25T19:31:28.578Z"
   },
   {
    "duration": 455,
    "start_time": "2022-11-25T19:31:28.606Z"
   },
   {
    "duration": 15,
    "start_time": "2022-11-25T19:31:29.063Z"
   },
   {
    "duration": 64,
    "start_time": "2022-11-25T19:31:29.080Z"
   },
   {
    "duration": 135,
    "start_time": "2022-11-25T19:31:29.145Z"
   },
   {
    "duration": 107,
    "start_time": "2022-11-25T19:31:29.281Z"
   },
   {
    "duration": 111,
    "start_time": "2022-11-25T19:31:29.389Z"
   },
   {
    "duration": 213,
    "start_time": "2022-11-25T19:31:29.501Z"
   },
   {
    "duration": 335,
    "start_time": "2022-11-25T19:31:29.716Z"
   },
   {
    "duration": 265,
    "start_time": "2022-11-25T19:31:30.052Z"
   },
   {
    "duration": 4,
    "start_time": "2022-11-25T19:31:30.318Z"
   },
   {
    "duration": 26,
    "start_time": "2022-11-25T19:31:30.323Z"
   },
   {
    "duration": 70,
    "start_time": "2022-11-25T19:31:30.351Z"
   },
   {
    "duration": 117,
    "start_time": "2022-11-25T19:31:30.422Z"
   },
   {
    "duration": 72,
    "start_time": "2022-11-25T19:33:27.441Z"
   },
   {
    "duration": 10,
    "start_time": "2022-11-25T19:33:32.532Z"
   },
   {
    "duration": 4,
    "start_time": "2022-11-25T19:35:14.491Z"
   },
   {
    "duration": 11,
    "start_time": "2022-11-25T19:36:07.381Z"
   },
   {
    "duration": 12,
    "start_time": "2022-11-25T19:36:20.343Z"
   },
   {
    "duration": 10,
    "start_time": "2022-11-25T19:36:57.981Z"
   },
   {
    "duration": 10,
    "start_time": "2022-11-25T19:37:06.941Z"
   },
   {
    "duration": 10,
    "start_time": "2022-11-25T19:37:24.199Z"
   },
   {
    "duration": 10,
    "start_time": "2022-11-25T19:37:38.093Z"
   },
   {
    "duration": 3,
    "start_time": "2022-11-25T19:37:48.762Z"
   },
   {
    "duration": 10,
    "start_time": "2022-11-25T19:38:19.571Z"
   },
   {
    "duration": 10,
    "start_time": "2022-11-25T19:38:41.772Z"
   },
   {
    "duration": 9,
    "start_time": "2022-11-25T19:38:51.522Z"
   },
   {
    "duration": 5,
    "start_time": "2022-11-25T19:39:16.034Z"
   },
   {
    "duration": 111,
    "start_time": "2022-11-25T19:40:04.491Z"
   },
   {
    "duration": 4,
    "start_time": "2022-11-25T19:40:09.970Z"
   },
   {
    "duration": 76,
    "start_time": "2022-11-25T19:41:02.651Z"
   },
   {
    "duration": 4,
    "start_time": "2022-11-25T19:41:05.424Z"
   },
   {
    "duration": 5,
    "start_time": "2022-11-25T19:41:30.770Z"
   },
   {
    "duration": 4,
    "start_time": "2022-11-25T19:42:16.501Z"
   },
   {
    "duration": 4,
    "start_time": "2022-11-25T19:42:31.161Z"
   },
   {
    "duration": 4,
    "start_time": "2022-11-25T19:42:45.401Z"
   },
   {
    "duration": 4,
    "start_time": "2022-11-25T19:42:52.261Z"
   },
   {
    "duration": 3,
    "start_time": "2022-11-25T19:43:03.744Z"
   },
   {
    "duration": 3,
    "start_time": "2022-11-25T19:43:10.573Z"
   },
   {
    "duration": 62,
    "start_time": "2022-11-25T19:47:23.170Z"
   },
   {
    "duration": 4,
    "start_time": "2022-11-25T19:47:35.671Z"
   },
   {
    "duration": 85,
    "start_time": "2022-11-25T19:47:45.141Z"
   },
   {
    "duration": 4,
    "start_time": "2022-11-25T19:47:47.571Z"
   },
   {
    "duration": 13026,
    "start_time": "2022-11-25T19:47:49.161Z"
   },
   {
    "duration": 15367,
    "start_time": "2022-11-25T19:50:14.812Z"
   },
   {
    "duration": 498,
    "start_time": "2022-11-25T19:50:30.182Z"
   },
   {
    "duration": 97,
    "start_time": "2022-11-25T19:50:30.682Z"
   },
   {
    "duration": 34526,
    "start_time": "2022-11-25T19:50:30.781Z"
   },
   {
    "duration": 448,
    "start_time": "2022-11-25T19:51:05.309Z"
   },
   {
    "duration": 4,
    "start_time": "2022-11-25T19:51:05.758Z"
   },
   {
    "duration": 135921,
    "start_time": "2022-11-25T19:51:05.763Z"
   },
   {
    "duration": 1704,
    "start_time": "2022-11-25T19:53:21.685Z"
   },
   {
    "duration": 99,
    "start_time": "2022-11-25T19:53:23.390Z"
   },
   {
    "duration": 217,
    "start_time": "2022-11-25T19:53:23.491Z"
   },
   {
    "duration": 255,
    "start_time": "2022-11-25T19:53:23.710Z"
   },
   {
    "duration": 288,
    "start_time": "2022-11-25T19:54:17.468Z"
   },
   {
    "duration": 481,
    "start_time": "2022-11-25T19:54:28.104Z"
   },
   {
    "duration": 377,
    "start_time": "2022-11-25T19:55:01.489Z"
   },
   {
    "duration": 374,
    "start_time": "2022-11-25T19:55:29.282Z"
   },
   {
    "duration": 263,
    "start_time": "2022-11-25T19:55:47.651Z"
   },
   {
    "duration": 358,
    "start_time": "2022-11-25T19:55:58.182Z"
   },
   {
    "duration": 499,
    "start_time": "2022-11-25T19:56:24.898Z"
   },
   {
    "duration": 373,
    "start_time": "2022-11-25T19:56:30.661Z"
   },
   {
    "duration": 201,
    "start_time": "2022-11-25T19:56:55.109Z"
   },
   {
    "duration": 17,
    "start_time": "2022-11-25T20:01:12.319Z"
   },
   {
    "duration": 17,
    "start_time": "2022-11-25T20:01:31.660Z"
   },
   {
    "duration": 5,
    "start_time": "2022-11-25T20:01:54.082Z"
   },
   {
    "duration": 222,
    "start_time": "2022-11-25T20:01:54.089Z"
   },
   {
    "duration": 6,
    "start_time": "2022-11-25T20:01:54.313Z"
   },
   {
    "duration": 27,
    "start_time": "2022-11-25T20:01:54.321Z"
   },
   {
    "duration": 14,
    "start_time": "2022-11-25T20:01:54.349Z"
   },
   {
    "duration": 34,
    "start_time": "2022-11-25T20:01:54.364Z"
   },
   {
    "duration": 21,
    "start_time": "2022-11-25T20:01:54.399Z"
   },
   {
    "duration": 16,
    "start_time": "2022-11-25T20:01:54.421Z"
   },
   {
    "duration": 412,
    "start_time": "2022-11-25T20:01:54.439Z"
   },
   {
    "duration": 52,
    "start_time": "2022-11-25T20:01:54.853Z"
   },
   {
    "duration": 10,
    "start_time": "2022-11-25T20:01:54.907Z"
   },
   {
    "duration": 25,
    "start_time": "2022-11-25T20:01:54.919Z"
   },
   {
    "duration": 38,
    "start_time": "2022-11-25T20:01:54.946Z"
   },
   {
    "duration": 463,
    "start_time": "2022-11-25T20:01:54.986Z"
   },
   {
    "duration": 10,
    "start_time": "2022-11-25T20:01:55.451Z"
   },
   {
    "duration": 76,
    "start_time": "2022-11-25T20:01:55.463Z"
   },
   {
    "duration": 125,
    "start_time": "2022-11-25T20:01:55.541Z"
   },
   {
    "duration": 100,
    "start_time": "2022-11-25T20:01:55.668Z"
   },
   {
    "duration": 120,
    "start_time": "2022-11-25T20:01:55.770Z"
   },
   {
    "duration": 439,
    "start_time": "2022-11-25T20:01:58.951Z"
   },
   {
    "duration": 288,
    "start_time": "2022-11-25T20:02:49.591Z"
   },
   {
    "duration": 278,
    "start_time": "2022-11-25T20:02:59.602Z"
   },
   {
    "duration": 305,
    "start_time": "2022-11-25T20:03:05.982Z"
   },
   {
    "duration": 283,
    "start_time": "2022-11-25T20:03:11.433Z"
   },
   {
    "duration": 1804,
    "start_time": "2022-11-25T20:05:17.682Z"
   },
   {
    "duration": 151,
    "start_time": "2022-11-25T20:05:54.961Z"
   },
   {
    "duration": 298,
    "start_time": "2022-11-25T20:06:10.680Z"
   },
   {
    "duration": 132,
    "start_time": "2022-11-25T20:06:21.381Z"
   },
   {
    "duration": 147,
    "start_time": "2022-11-25T20:06:42.165Z"
   },
   {
    "duration": 166,
    "start_time": "2022-11-25T20:06:50.140Z"
   },
   {
    "duration": 194,
    "start_time": "2022-11-25T20:07:14.952Z"
   },
   {
    "duration": 191,
    "start_time": "2022-11-25T20:09:18.971Z"
   },
   {
    "duration": 71,
    "start_time": "2022-11-25T20:09:35.611Z"
   },
   {
    "duration": 205,
    "start_time": "2022-11-25T20:09:41.742Z"
   },
   {
    "duration": 204,
    "start_time": "2022-11-25T20:12:11.249Z"
   },
   {
    "duration": 16,
    "start_time": "2022-11-25T20:14:42.050Z"
   },
   {
    "duration": 13,
    "start_time": "2022-11-25T20:14:49.828Z"
   },
   {
    "duration": 17,
    "start_time": "2022-11-25T20:15:14.074Z"
   },
   {
    "duration": 13,
    "start_time": "2022-11-25T20:16:00.799Z"
   },
   {
    "duration": 94,
    "start_time": "2022-11-25T20:16:54.109Z"
   },
   {
    "duration": 240,
    "start_time": "2022-11-25T20:16:57.489Z"
   },
   {
    "duration": 14,
    "start_time": "2022-11-25T20:18:05.031Z"
   },
   {
    "duration": 13,
    "start_time": "2022-11-25T20:18:18.173Z"
   },
   {
    "duration": 241,
    "start_time": "2022-11-25T20:18:42.032Z"
   },
   {
    "duration": 267,
    "start_time": "2022-11-25T20:18:57.357Z"
   },
   {
    "duration": 323,
    "start_time": "2022-11-25T20:19:08.466Z"
   },
   {
    "duration": 326,
    "start_time": "2022-11-25T20:19:12.061Z"
   },
   {
    "duration": 465,
    "start_time": "2022-11-25T20:19:25.211Z"
   },
   {
    "duration": 345,
    "start_time": "2022-11-25T20:19:44.076Z"
   },
   {
    "duration": 1633,
    "start_time": "2022-11-26T10:44:46.448Z"
   },
   {
    "duration": 445,
    "start_time": "2022-11-26T10:44:48.083Z"
   },
   {
    "duration": 11,
    "start_time": "2022-11-26T10:44:48.529Z"
   },
   {
    "duration": 10,
    "start_time": "2022-11-26T10:44:48.541Z"
   },
   {
    "duration": 14,
    "start_time": "2022-11-26T10:44:48.552Z"
   },
   {
    "duration": 20,
    "start_time": "2022-11-26T10:44:48.568Z"
   },
   {
    "duration": 52,
    "start_time": "2022-11-26T10:44:48.590Z"
   },
   {
    "duration": 14,
    "start_time": "2022-11-26T10:44:48.644Z"
   },
   {
    "duration": 661,
    "start_time": "2022-11-26T10:44:48.660Z"
   },
   {
    "duration": 64,
    "start_time": "2022-11-26T10:44:49.323Z"
   },
   {
    "duration": 12,
    "start_time": "2022-11-26T10:44:49.389Z"
   },
   {
    "duration": 41,
    "start_time": "2022-11-26T10:44:49.403Z"
   },
   {
    "duration": 35,
    "start_time": "2022-11-26T10:44:49.446Z"
   },
   {
    "duration": 549,
    "start_time": "2022-11-26T10:44:49.482Z"
   },
   {
    "duration": 114,
    "start_time": "2022-11-26T10:44:53.280Z"
   },
   {
    "duration": 11,
    "start_time": "2022-11-26T10:45:06.070Z"
   },
   {
    "duration": 732,
    "start_time": "2022-11-26T10:46:17.399Z"
   },
   {
    "duration": 9,
    "start_time": "2022-11-26T10:47:07.671Z"
   }
  ],
  "kernelspec": {
   "display_name": "Python 3 (ipykernel)",
   "language": "python",
   "name": "python3"
  },
  "language_info": {
   "codemirror_mode": {
    "name": "ipython",
    "version": 3
   },
   "file_extension": ".py",
   "mimetype": "text/x-python",
   "name": "python",
   "nbconvert_exporter": "python",
   "pygments_lexer": "ipython3",
   "version": "3.9.13"
  },
  "toc": {
   "base_numbering": 1,
   "nav_menu": {},
   "number_sections": true,
   "sideBar": true,
   "skip_h1_title": true,
   "title_cell": "Table of Contents",
   "title_sidebar": "Contents",
   "toc_cell": false,
   "toc_position": {
    "height": "calc(100% - 180px)",
    "left": "10px",
    "top": "150px",
    "width": "292.705px"
   },
   "toc_section_display": true,
   "toc_window_display": true
  }
 },
 "nbformat": 4,
 "nbformat_minor": 2
}

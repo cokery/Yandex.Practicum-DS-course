{
 "cells": [
  {
   "cell_type": "markdown",
   "metadata": {
    "toc": true
   },
   "source": [
    "<h1>Содержание<span class=\"tocSkip\"></span></h1>\n",
    "<div class=\"toc\"><ul class=\"toc-item\"><li><span><a href=\"#Подготовка-данных\" data-toc-modified-id=\"Подготовка-данных-1\"><span class=\"toc-item-num\">1&nbsp;&nbsp;</span>Подготовка данных</a></span></li><li><span><a href=\"#Исследование-задачи\" data-toc-modified-id=\"Исследование-задачи-2\"><span class=\"toc-item-num\">2&nbsp;&nbsp;</span>Исследование задачи</a></span></li><li><span><a href=\"#Борьба-с-дисбалансом\" data-toc-modified-id=\"Борьба-с-дисбалансом-3\"><span class=\"toc-item-num\">3&nbsp;&nbsp;</span>Борьба с дисбалансом</a></span></li><li><span><a href=\"#Проверка-модели\" data-toc-modified-id=\"Проверка-модели-4\"><span class=\"toc-item-num\">4&nbsp;&nbsp;</span>Проверка модели</a></span></li><li><span><a href=\"#Выводы\" data-toc-modified-id=\"Выводы-5\"><span class=\"toc-item-num\">5&nbsp;&nbsp;</span>Выводы</a></span></li></ul></div>"
   ]
  },
  {
   "cell_type": "markdown",
   "metadata": {},
   "source": [
    "# Отток клиентов"
   ]
  },
  {
   "cell_type": "markdown",
   "metadata": {},
   "source": [
    "Из «Бета-Банка» стали уходить клиенты. Каждый месяц. Немного, но заметно. Банковские маркетологи посчитали: сохранять текущих клиентов дешевле, чем привлекать новых.\n",
    "\n",
    "Нужно спрогнозировать, уйдёт клиент из банка в ближайшее время или нет. Вам предоставлены исторические данные о поведении клиентов и расторжении договоров с банком. \n",
    "\n",
    "Постройте модель с предельно большим значением *F1*-меры. Чтобы сдать проект успешно, нужно довести метрику до 0.59. Проверьте *F1*-меру на тестовой выборке самостоятельно.\n",
    "\n",
    "Дополнительно измеряйте *AUC-ROC*, сравнивайте её значение с *F1*-мерой.\n",
    "\n",
    "Источник данных: [https://www.kaggle.com/barelydedicated/bank-customer-churn-modeling](https://www.kaggle.com/barelydedicated/bank-customer-churn-modeling)"
   ]
  },
  {
   "cell_type": "markdown",
   "metadata": {},
   "source": [
    "## Подготовка данных"
   ]
  },
  {
   "cell_type": "code",
   "execution_count": 36,
   "metadata": {},
   "outputs": [],
   "source": [
    "import pandas as pd\n",
    "import numpy as np\n",
    "import matplotlib.pyplot as plt\n",
    "\n",
    "from sklearn.preprocessing import StandardScaler\n",
    "from sklearn.model_selection import train_test_split\n",
    "from sklearn.tree import DecisionTreeClassifier\n",
    "from sklearn.ensemble import RandomForestClassifier\n",
    "from sklearn.linear_model import LogisticRegression\n",
    "\n",
    "from sklearn.metrics import accuracy_score\n",
    "from sklearn.metrics import f1_score\n",
    "from sklearn.metrics import roc_auc_score\n",
    "from sklearn.metrics import roc_curve"
   ]
  },
  {
   "cell_type": "code",
   "execution_count": 37,
   "metadata": {
    "scrolled": false
   },
   "outputs": [
    {
     "name": "stdout",
     "output_type": "stream",
     "text": [
      "<class 'pandas.core.frame.DataFrame'>\n",
      "RangeIndex: 10000 entries, 0 to 9999\n",
      "Data columns (total 14 columns):\n",
      " #   Column           Non-Null Count  Dtype  \n",
      "---  ------           --------------  -----  \n",
      " 0   RowNumber        10000 non-null  int64  \n",
      " 1   CustomerId       10000 non-null  int64  \n",
      " 2   Surname          10000 non-null  object \n",
      " 3   CreditScore      10000 non-null  int64  \n",
      " 4   Geography        10000 non-null  object \n",
      " 5   Gender           10000 non-null  object \n",
      " 6   Age              10000 non-null  int64  \n",
      " 7   Tenure           9091 non-null   float64\n",
      " 8   Balance          10000 non-null  float64\n",
      " 9   NumOfProducts    10000 non-null  int64  \n",
      " 10  HasCrCard        10000 non-null  int64  \n",
      " 11  IsActiveMember   10000 non-null  int64  \n",
      " 12  EstimatedSalary  10000 non-null  float64\n",
      " 13  Exited           10000 non-null  int64  \n",
      "dtypes: float64(3), int64(8), object(3)\n",
      "memory usage: 1.1+ MB\n"
     ]
    },
    {
     "data": {
      "text/html": [
       "<div>\n",
       "<style scoped>\n",
       "    .dataframe tbody tr th:only-of-type {\n",
       "        vertical-align: middle;\n",
       "    }\n",
       "\n",
       "    .dataframe tbody tr th {\n",
       "        vertical-align: top;\n",
       "    }\n",
       "\n",
       "    .dataframe thead th {\n",
       "        text-align: right;\n",
       "    }\n",
       "</style>\n",
       "<table border=\"1\" class=\"dataframe\">\n",
       "  <thead>\n",
       "    <tr style=\"text-align: right;\">\n",
       "      <th></th>\n",
       "      <th>RowNumber</th>\n",
       "      <th>CustomerId</th>\n",
       "      <th>Surname</th>\n",
       "      <th>CreditScore</th>\n",
       "      <th>Geography</th>\n",
       "      <th>Gender</th>\n",
       "      <th>Age</th>\n",
       "      <th>Tenure</th>\n",
       "      <th>Balance</th>\n",
       "      <th>NumOfProducts</th>\n",
       "      <th>HasCrCard</th>\n",
       "      <th>IsActiveMember</th>\n",
       "      <th>EstimatedSalary</th>\n",
       "      <th>Exited</th>\n",
       "    </tr>\n",
       "  </thead>\n",
       "  <tbody>\n",
       "    <tr>\n",
       "      <th>0</th>\n",
       "      <td>1</td>\n",
       "      <td>15634602</td>\n",
       "      <td>Hargrave</td>\n",
       "      <td>619</td>\n",
       "      <td>France</td>\n",
       "      <td>Female</td>\n",
       "      <td>42</td>\n",
       "      <td>2.0</td>\n",
       "      <td>0.00</td>\n",
       "      <td>1</td>\n",
       "      <td>1</td>\n",
       "      <td>1</td>\n",
       "      <td>101348.88</td>\n",
       "      <td>1</td>\n",
       "    </tr>\n",
       "    <tr>\n",
       "      <th>1</th>\n",
       "      <td>2</td>\n",
       "      <td>15647311</td>\n",
       "      <td>Hill</td>\n",
       "      <td>608</td>\n",
       "      <td>Spain</td>\n",
       "      <td>Female</td>\n",
       "      <td>41</td>\n",
       "      <td>1.0</td>\n",
       "      <td>83807.86</td>\n",
       "      <td>1</td>\n",
       "      <td>0</td>\n",
       "      <td>1</td>\n",
       "      <td>112542.58</td>\n",
       "      <td>0</td>\n",
       "    </tr>\n",
       "    <tr>\n",
       "      <th>2</th>\n",
       "      <td>3</td>\n",
       "      <td>15619304</td>\n",
       "      <td>Onio</td>\n",
       "      <td>502</td>\n",
       "      <td>France</td>\n",
       "      <td>Female</td>\n",
       "      <td>42</td>\n",
       "      <td>8.0</td>\n",
       "      <td>159660.80</td>\n",
       "      <td>3</td>\n",
       "      <td>1</td>\n",
       "      <td>0</td>\n",
       "      <td>113931.57</td>\n",
       "      <td>1</td>\n",
       "    </tr>\n",
       "    <tr>\n",
       "      <th>3</th>\n",
       "      <td>4</td>\n",
       "      <td>15701354</td>\n",
       "      <td>Boni</td>\n",
       "      <td>699</td>\n",
       "      <td>France</td>\n",
       "      <td>Female</td>\n",
       "      <td>39</td>\n",
       "      <td>1.0</td>\n",
       "      <td>0.00</td>\n",
       "      <td>2</td>\n",
       "      <td>0</td>\n",
       "      <td>0</td>\n",
       "      <td>93826.63</td>\n",
       "      <td>0</td>\n",
       "    </tr>\n",
       "    <tr>\n",
       "      <th>4</th>\n",
       "      <td>5</td>\n",
       "      <td>15737888</td>\n",
       "      <td>Mitchell</td>\n",
       "      <td>850</td>\n",
       "      <td>Spain</td>\n",
       "      <td>Female</td>\n",
       "      <td>43</td>\n",
       "      <td>2.0</td>\n",
       "      <td>125510.82</td>\n",
       "      <td>1</td>\n",
       "      <td>1</td>\n",
       "      <td>1</td>\n",
       "      <td>79084.10</td>\n",
       "      <td>0</td>\n",
       "    </tr>\n",
       "  </tbody>\n",
       "</table>\n",
       "</div>"
      ],
      "text/plain": [
       "   RowNumber  CustomerId   Surname  CreditScore Geography  Gender  Age  \\\n",
       "0          1    15634602  Hargrave          619    France  Female   42   \n",
       "1          2    15647311      Hill          608     Spain  Female   41   \n",
       "2          3    15619304      Onio          502    France  Female   42   \n",
       "3          4    15701354      Boni          699    France  Female   39   \n",
       "4          5    15737888  Mitchell          850     Spain  Female   43   \n",
       "\n",
       "   Tenure    Balance  NumOfProducts  HasCrCard  IsActiveMember  \\\n",
       "0     2.0       0.00              1          1               1   \n",
       "1     1.0   83807.86              1          0               1   \n",
       "2     8.0  159660.80              3          1               0   \n",
       "3     1.0       0.00              2          0               0   \n",
       "4     2.0  125510.82              1          1               1   \n",
       "\n",
       "   EstimatedSalary  Exited  \n",
       "0        101348.88       1  \n",
       "1        112542.58       0  \n",
       "2        113931.57       1  \n",
       "3         93826.63       0  \n",
       "4         79084.10       0  "
      ]
     },
     "execution_count": 37,
     "metadata": {},
     "output_type": "execute_result"
    }
   ],
   "source": [
    "from sklearn.utils import shuffle\n",
    "\n",
    "try:\n",
    "    df = pd.read_csv('Churn.csv')\n",
    "except:\n",
    "    df = pd.read_csv('/datasets/Churn.csv')\n",
    "    \n",
    "df.info()\n",
    "df.head()"
   ]
  },
  {
   "cell_type": "code",
   "execution_count": 38,
   "metadata": {},
   "outputs": [
    {
     "data": {
      "text/html": [
       "<div>\n",
       "<style scoped>\n",
       "    .dataframe tbody tr th:only-of-type {\n",
       "        vertical-align: middle;\n",
       "    }\n",
       "\n",
       "    .dataframe tbody tr th {\n",
       "        vertical-align: top;\n",
       "    }\n",
       "\n",
       "    .dataframe thead th {\n",
       "        text-align: right;\n",
       "    }\n",
       "</style>\n",
       "<table border=\"1\" class=\"dataframe\">\n",
       "  <thead>\n",
       "    <tr style=\"text-align: right;\">\n",
       "      <th></th>\n",
       "      <th>RowNumber</th>\n",
       "      <th>CustomerId</th>\n",
       "      <th>Surname</th>\n",
       "      <th>CreditScore</th>\n",
       "      <th>Geography</th>\n",
       "      <th>Gender</th>\n",
       "      <th>Age</th>\n",
       "      <th>Tenure</th>\n",
       "      <th>Balance</th>\n",
       "      <th>NumOfProducts</th>\n",
       "      <th>HasCrCard</th>\n",
       "      <th>IsActiveMember</th>\n",
       "      <th>EstimatedSalary</th>\n",
       "      <th>Exited</th>\n",
       "    </tr>\n",
       "  </thead>\n",
       "  <tbody>\n",
       "    <tr>\n",
       "      <th>30</th>\n",
       "      <td>31</td>\n",
       "      <td>15589475</td>\n",
       "      <td>Azikiwe</td>\n",
       "      <td>591</td>\n",
       "      <td>Spain</td>\n",
       "      <td>Female</td>\n",
       "      <td>39</td>\n",
       "      <td>NaN</td>\n",
       "      <td>0.00</td>\n",
       "      <td>3</td>\n",
       "      <td>1</td>\n",
       "      <td>0</td>\n",
       "      <td>140469.38</td>\n",
       "      <td>1</td>\n",
       "    </tr>\n",
       "    <tr>\n",
       "      <th>48</th>\n",
       "      <td>49</td>\n",
       "      <td>15766205</td>\n",
       "      <td>Yin</td>\n",
       "      <td>550</td>\n",
       "      <td>Germany</td>\n",
       "      <td>Male</td>\n",
       "      <td>38</td>\n",
       "      <td>NaN</td>\n",
       "      <td>103391.38</td>\n",
       "      <td>1</td>\n",
       "      <td>0</td>\n",
       "      <td>1</td>\n",
       "      <td>90878.13</td>\n",
       "      <td>0</td>\n",
       "    </tr>\n",
       "    <tr>\n",
       "      <th>51</th>\n",
       "      <td>52</td>\n",
       "      <td>15768193</td>\n",
       "      <td>Trevisani</td>\n",
       "      <td>585</td>\n",
       "      <td>Germany</td>\n",
       "      <td>Male</td>\n",
       "      <td>36</td>\n",
       "      <td>NaN</td>\n",
       "      <td>146050.97</td>\n",
       "      <td>2</td>\n",
       "      <td>0</td>\n",
       "      <td>0</td>\n",
       "      <td>86424.57</td>\n",
       "      <td>0</td>\n",
       "    </tr>\n",
       "    <tr>\n",
       "      <th>53</th>\n",
       "      <td>54</td>\n",
       "      <td>15702298</td>\n",
       "      <td>Parkhill</td>\n",
       "      <td>655</td>\n",
       "      <td>Germany</td>\n",
       "      <td>Male</td>\n",
       "      <td>41</td>\n",
       "      <td>NaN</td>\n",
       "      <td>125561.97</td>\n",
       "      <td>1</td>\n",
       "      <td>0</td>\n",
       "      <td>0</td>\n",
       "      <td>164040.94</td>\n",
       "      <td>1</td>\n",
       "    </tr>\n",
       "    <tr>\n",
       "      <th>60</th>\n",
       "      <td>61</td>\n",
       "      <td>15651280</td>\n",
       "      <td>Hunter</td>\n",
       "      <td>742</td>\n",
       "      <td>Germany</td>\n",
       "      <td>Male</td>\n",
       "      <td>35</td>\n",
       "      <td>NaN</td>\n",
       "      <td>136857.00</td>\n",
       "      <td>1</td>\n",
       "      <td>0</td>\n",
       "      <td>0</td>\n",
       "      <td>84509.57</td>\n",
       "      <td>0</td>\n",
       "    </tr>\n",
       "    <tr>\n",
       "      <th>...</th>\n",
       "      <td>...</td>\n",
       "      <td>...</td>\n",
       "      <td>...</td>\n",
       "      <td>...</td>\n",
       "      <td>...</td>\n",
       "      <td>...</td>\n",
       "      <td>...</td>\n",
       "      <td>...</td>\n",
       "      <td>...</td>\n",
       "      <td>...</td>\n",
       "      <td>...</td>\n",
       "      <td>...</td>\n",
       "      <td>...</td>\n",
       "      <td>...</td>\n",
       "    </tr>\n",
       "    <tr>\n",
       "      <th>9944</th>\n",
       "      <td>9945</td>\n",
       "      <td>15703923</td>\n",
       "      <td>Cameron</td>\n",
       "      <td>744</td>\n",
       "      <td>Germany</td>\n",
       "      <td>Male</td>\n",
       "      <td>41</td>\n",
       "      <td>NaN</td>\n",
       "      <td>190409.34</td>\n",
       "      <td>2</td>\n",
       "      <td>1</td>\n",
       "      <td>1</td>\n",
       "      <td>138361.48</td>\n",
       "      <td>0</td>\n",
       "    </tr>\n",
       "    <tr>\n",
       "      <th>9956</th>\n",
       "      <td>9957</td>\n",
       "      <td>15707861</td>\n",
       "      <td>Nucci</td>\n",
       "      <td>520</td>\n",
       "      <td>France</td>\n",
       "      <td>Female</td>\n",
       "      <td>46</td>\n",
       "      <td>NaN</td>\n",
       "      <td>85216.61</td>\n",
       "      <td>1</td>\n",
       "      <td>1</td>\n",
       "      <td>0</td>\n",
       "      <td>117369.52</td>\n",
       "      <td>1</td>\n",
       "    </tr>\n",
       "    <tr>\n",
       "      <th>9964</th>\n",
       "      <td>9965</td>\n",
       "      <td>15642785</td>\n",
       "      <td>Douglas</td>\n",
       "      <td>479</td>\n",
       "      <td>France</td>\n",
       "      <td>Male</td>\n",
       "      <td>34</td>\n",
       "      <td>NaN</td>\n",
       "      <td>117593.48</td>\n",
       "      <td>2</td>\n",
       "      <td>0</td>\n",
       "      <td>0</td>\n",
       "      <td>113308.29</td>\n",
       "      <td>0</td>\n",
       "    </tr>\n",
       "    <tr>\n",
       "      <th>9985</th>\n",
       "      <td>9986</td>\n",
       "      <td>15586914</td>\n",
       "      <td>Nepean</td>\n",
       "      <td>659</td>\n",
       "      <td>France</td>\n",
       "      <td>Male</td>\n",
       "      <td>36</td>\n",
       "      <td>NaN</td>\n",
       "      <td>123841.49</td>\n",
       "      <td>2</td>\n",
       "      <td>1</td>\n",
       "      <td>0</td>\n",
       "      <td>96833.00</td>\n",
       "      <td>0</td>\n",
       "    </tr>\n",
       "    <tr>\n",
       "      <th>9999</th>\n",
       "      <td>10000</td>\n",
       "      <td>15628319</td>\n",
       "      <td>Walker</td>\n",
       "      <td>792</td>\n",
       "      <td>France</td>\n",
       "      <td>Female</td>\n",
       "      <td>28</td>\n",
       "      <td>NaN</td>\n",
       "      <td>130142.79</td>\n",
       "      <td>1</td>\n",
       "      <td>1</td>\n",
       "      <td>0</td>\n",
       "      <td>38190.78</td>\n",
       "      <td>0</td>\n",
       "    </tr>\n",
       "  </tbody>\n",
       "</table>\n",
       "<p>909 rows × 14 columns</p>\n",
       "</div>"
      ],
      "text/plain": [
       "      RowNumber  CustomerId    Surname  CreditScore Geography  Gender  Age  \\\n",
       "30           31    15589475    Azikiwe          591     Spain  Female   39   \n",
       "48           49    15766205        Yin          550   Germany    Male   38   \n",
       "51           52    15768193  Trevisani          585   Germany    Male   36   \n",
       "53           54    15702298   Parkhill          655   Germany    Male   41   \n",
       "60           61    15651280     Hunter          742   Germany    Male   35   \n",
       "...         ...         ...        ...          ...       ...     ...  ...   \n",
       "9944       9945    15703923    Cameron          744   Germany    Male   41   \n",
       "9956       9957    15707861      Nucci          520    France  Female   46   \n",
       "9964       9965    15642785    Douglas          479    France    Male   34   \n",
       "9985       9986    15586914     Nepean          659    France    Male   36   \n",
       "9999      10000    15628319     Walker          792    France  Female   28   \n",
       "\n",
       "      Tenure    Balance  NumOfProducts  HasCrCard  IsActiveMember  \\\n",
       "30       NaN       0.00              3          1               0   \n",
       "48       NaN  103391.38              1          0               1   \n",
       "51       NaN  146050.97              2          0               0   \n",
       "53       NaN  125561.97              1          0               0   \n",
       "60       NaN  136857.00              1          0               0   \n",
       "...      ...        ...            ...        ...             ...   \n",
       "9944     NaN  190409.34              2          1               1   \n",
       "9956     NaN   85216.61              1          1               0   \n",
       "9964     NaN  117593.48              2          0               0   \n",
       "9985     NaN  123841.49              2          1               0   \n",
       "9999     NaN  130142.79              1          1               0   \n",
       "\n",
       "      EstimatedSalary  Exited  \n",
       "30          140469.38       1  \n",
       "48           90878.13       0  \n",
       "51           86424.57       0  \n",
       "53          164040.94       1  \n",
       "60           84509.57       0  \n",
       "...               ...     ...  \n",
       "9944        138361.48       0  \n",
       "9956        117369.52       1  \n",
       "9964        113308.29       0  \n",
       "9985         96833.00       0  \n",
       "9999         38190.78       0  \n",
       "\n",
       "[909 rows x 14 columns]"
      ]
     },
     "execution_count": 38,
     "metadata": {},
     "output_type": "execute_result"
    }
   ],
   "source": [
    "df[df['Tenure'].isna()]"
   ]
  },
  {
   "cell_type": "markdown",
   "metadata": {},
   "source": [
    "В колонке `Tenure` есть пропуски, они могут повлиять на результаты. Это довольно существенная часть данных, поэтому удалять - плохое решение. Заполним медианой."
   ]
  },
  {
   "cell_type": "code",
   "execution_count": 39,
   "metadata": {},
   "outputs": [
    {
     "data": {
      "text/plain": [
       "1.0     952\n",
       "2.0     950\n",
       "8.0     933\n",
       "3.0     928\n",
       "5.0     927\n",
       "7.0     925\n",
       "4.0     885\n",
       "9.0     882\n",
       "6.0     881\n",
       "10.0    446\n",
       "0.0     382\n",
       "Name: Tenure, dtype: int64"
      ]
     },
     "execution_count": 39,
     "metadata": {},
     "output_type": "execute_result"
    }
   ],
   "source": [
    "df['Tenure'].value_counts()"
   ]
  },
  {
   "cell_type": "code",
   "execution_count": 40,
   "metadata": {},
   "outputs": [
    {
     "data": {
      "text/plain": [
       "RowNumber            int64\n",
       "CustomerId           int64\n",
       "Surname             object\n",
       "CreditScore          int64\n",
       "Geography           object\n",
       "Gender              object\n",
       "Age                  int64\n",
       "Tenure              object\n",
       "Balance            float64\n",
       "NumOfProducts        int64\n",
       "HasCrCard            int64\n",
       "IsActiveMember       int64\n",
       "EstimatedSalary    float64\n",
       "Exited               int64\n",
       "dtype: object"
      ]
     },
     "execution_count": 40,
     "metadata": {},
     "output_type": "execute_result"
    }
   ],
   "source": [
    "df['Tenure'].fillna(-1, inplace=True)\n",
    "df['Tenure'] = df['Tenure'].astype(object)\n",
    "df.dtypes"
   ]
  },
  {
   "cell_type": "markdown",
   "metadata": {},
   "source": [
    "## Исследование задачи"
   ]
  },
  {
   "cell_type": "markdown",
   "metadata": {},
   "source": [
    "У нас задача классификации. Принадлежность к категории модель вычисляет по формуле, состоящей из признаков. Они могут быть только численные. Признаки `RowNumber`, `CustomerId`, `Surname` вряд ли будут иметь влияние на прогнозирование, т.к. являются уникальными. А признаки `Geography`, `Gender` подвергнем прямому кодированию с учетом того, чтобы избежать дамми-ловушки."
   ]
  },
  {
   "cell_type": "code",
   "execution_count": 41,
   "metadata": {},
   "outputs": [
    {
     "data": {
      "text/html": [
       "<div>\n",
       "<style scoped>\n",
       "    .dataframe tbody tr th:only-of-type {\n",
       "        vertical-align: middle;\n",
       "    }\n",
       "\n",
       "    .dataframe tbody tr th {\n",
       "        vertical-align: top;\n",
       "    }\n",
       "\n",
       "    .dataframe thead th {\n",
       "        text-align: right;\n",
       "    }\n",
       "</style>\n",
       "<table border=\"1\" class=\"dataframe\">\n",
       "  <thead>\n",
       "    <tr style=\"text-align: right;\">\n",
       "      <th></th>\n",
       "      <th>CreditScore</th>\n",
       "      <th>Age</th>\n",
       "      <th>Balance</th>\n",
       "      <th>NumOfProducts</th>\n",
       "      <th>HasCrCard</th>\n",
       "      <th>IsActiveMember</th>\n",
       "      <th>EstimatedSalary</th>\n",
       "      <th>Geography_Germany</th>\n",
       "      <th>Geography_Spain</th>\n",
       "      <th>Gender_Male</th>\n",
       "      <th>...</th>\n",
       "      <th>Tenure_1.0</th>\n",
       "      <th>Tenure_2.0</th>\n",
       "      <th>Tenure_3.0</th>\n",
       "      <th>Tenure_4.0</th>\n",
       "      <th>Tenure_5.0</th>\n",
       "      <th>Tenure_6.0</th>\n",
       "      <th>Tenure_7.0</th>\n",
       "      <th>Tenure_8.0</th>\n",
       "      <th>Tenure_9.0</th>\n",
       "      <th>Tenure_10.0</th>\n",
       "    </tr>\n",
       "  </thead>\n",
       "  <tbody>\n",
       "    <tr>\n",
       "      <th>0</th>\n",
       "      <td>619</td>\n",
       "      <td>42</td>\n",
       "      <td>0.00</td>\n",
       "      <td>1</td>\n",
       "      <td>1</td>\n",
       "      <td>1</td>\n",
       "      <td>101348.88</td>\n",
       "      <td>0</td>\n",
       "      <td>0</td>\n",
       "      <td>0</td>\n",
       "      <td>...</td>\n",
       "      <td>0</td>\n",
       "      <td>1</td>\n",
       "      <td>0</td>\n",
       "      <td>0</td>\n",
       "      <td>0</td>\n",
       "      <td>0</td>\n",
       "      <td>0</td>\n",
       "      <td>0</td>\n",
       "      <td>0</td>\n",
       "      <td>0</td>\n",
       "    </tr>\n",
       "    <tr>\n",
       "      <th>1</th>\n",
       "      <td>608</td>\n",
       "      <td>41</td>\n",
       "      <td>83807.86</td>\n",
       "      <td>1</td>\n",
       "      <td>0</td>\n",
       "      <td>1</td>\n",
       "      <td>112542.58</td>\n",
       "      <td>0</td>\n",
       "      <td>1</td>\n",
       "      <td>0</td>\n",
       "      <td>...</td>\n",
       "      <td>1</td>\n",
       "      <td>0</td>\n",
       "      <td>0</td>\n",
       "      <td>0</td>\n",
       "      <td>0</td>\n",
       "      <td>0</td>\n",
       "      <td>0</td>\n",
       "      <td>0</td>\n",
       "      <td>0</td>\n",
       "      <td>0</td>\n",
       "    </tr>\n",
       "    <tr>\n",
       "      <th>2</th>\n",
       "      <td>502</td>\n",
       "      <td>42</td>\n",
       "      <td>159660.80</td>\n",
       "      <td>3</td>\n",
       "      <td>1</td>\n",
       "      <td>0</td>\n",
       "      <td>113931.57</td>\n",
       "      <td>0</td>\n",
       "      <td>0</td>\n",
       "      <td>0</td>\n",
       "      <td>...</td>\n",
       "      <td>0</td>\n",
       "      <td>0</td>\n",
       "      <td>0</td>\n",
       "      <td>0</td>\n",
       "      <td>0</td>\n",
       "      <td>0</td>\n",
       "      <td>0</td>\n",
       "      <td>1</td>\n",
       "      <td>0</td>\n",
       "      <td>0</td>\n",
       "    </tr>\n",
       "    <tr>\n",
       "      <th>3</th>\n",
       "      <td>699</td>\n",
       "      <td>39</td>\n",
       "      <td>0.00</td>\n",
       "      <td>2</td>\n",
       "      <td>0</td>\n",
       "      <td>0</td>\n",
       "      <td>93826.63</td>\n",
       "      <td>0</td>\n",
       "      <td>0</td>\n",
       "      <td>0</td>\n",
       "      <td>...</td>\n",
       "      <td>1</td>\n",
       "      <td>0</td>\n",
       "      <td>0</td>\n",
       "      <td>0</td>\n",
       "      <td>0</td>\n",
       "      <td>0</td>\n",
       "      <td>0</td>\n",
       "      <td>0</td>\n",
       "      <td>0</td>\n",
       "      <td>0</td>\n",
       "    </tr>\n",
       "    <tr>\n",
       "      <th>4</th>\n",
       "      <td>850</td>\n",
       "      <td>43</td>\n",
       "      <td>125510.82</td>\n",
       "      <td>1</td>\n",
       "      <td>1</td>\n",
       "      <td>1</td>\n",
       "      <td>79084.10</td>\n",
       "      <td>0</td>\n",
       "      <td>1</td>\n",
       "      <td>0</td>\n",
       "      <td>...</td>\n",
       "      <td>0</td>\n",
       "      <td>1</td>\n",
       "      <td>0</td>\n",
       "      <td>0</td>\n",
       "      <td>0</td>\n",
       "      <td>0</td>\n",
       "      <td>0</td>\n",
       "      <td>0</td>\n",
       "      <td>0</td>\n",
       "      <td>0</td>\n",
       "    </tr>\n",
       "  </tbody>\n",
       "</table>\n",
       "<p>5 rows × 21 columns</p>\n",
       "</div>"
      ],
      "text/plain": [
       "   CreditScore  Age    Balance  NumOfProducts  HasCrCard  IsActiveMember  \\\n",
       "0          619   42       0.00              1          1               1   \n",
       "1          608   41   83807.86              1          0               1   \n",
       "2          502   42  159660.80              3          1               0   \n",
       "3          699   39       0.00              2          0               0   \n",
       "4          850   43  125510.82              1          1               1   \n",
       "\n",
       "   EstimatedSalary  Geography_Germany  Geography_Spain  Gender_Male  ...  \\\n",
       "0        101348.88                  0                0            0  ...   \n",
       "1        112542.58                  0                1            0  ...   \n",
       "2        113931.57                  0                0            0  ...   \n",
       "3         93826.63                  0                0            0  ...   \n",
       "4         79084.10                  0                1            0  ...   \n",
       "\n",
       "   Tenure_1.0  Tenure_2.0  Tenure_3.0  Tenure_4.0  Tenure_5.0  Tenure_6.0  \\\n",
       "0           0           1           0           0           0           0   \n",
       "1           1           0           0           0           0           0   \n",
       "2           0           0           0           0           0           0   \n",
       "3           1           0           0           0           0           0   \n",
       "4           0           1           0           0           0           0   \n",
       "\n",
       "   Tenure_7.0  Tenure_8.0  Tenure_9.0  Tenure_10.0  \n",
       "0           0           0           0            0  \n",
       "1           0           0           0            0  \n",
       "2           0           1           0            0  \n",
       "3           0           0           0            0  \n",
       "4           0           0           0            0  \n",
       "\n",
       "[5 rows x 21 columns]"
      ]
     },
     "metadata": {},
     "output_type": "display_data"
    },
    {
     "data": {
      "text/plain": [
       "LogisticRegression(solver='liblinear')"
      ]
     },
     "execution_count": 41,
     "metadata": {},
     "output_type": "execute_result"
    }
   ],
   "source": [
    "target = df['Exited']\n",
    "features = df.drop(['Exited', 'RowNumber', 'CustomerId', 'Surname'], axis=1)\n",
    "features = pd.get_dummies(features, drop_first=True)\n",
    "\n",
    "\n",
    "features_train, features_test, target_train, target_test = (\n",
    "    train_test_split(features, target, test_size=0.2, random_state=12345)\n",
    ")\n",
    "features_train, features_valid, target_train, target_valid = (\n",
    "    train_test_split(features_train, target_train, test_size=0.25, random_state=12345)\n",
    ")\n",
    "\n",
    "display(features.head())\n",
    "model = LogisticRegression(solver='liblinear')\n",
    "model.fit(features_train, target_train) "
   ]
  },
  {
   "cell_type": "markdown",
   "metadata": {},
   "source": [
    "Выполним масштабирование признаков с помощью метода стандартизации данных"
   ]
  },
  {
   "cell_type": "code",
   "execution_count": 42,
   "metadata": {},
   "outputs": [],
   "source": [
    "numeric = ['CreditScore', 'Age', 'Balance', 'EstimatedSalary']\n",
    "\n",
    "# < напишите код здесь >\n",
    "pd.options.mode.chained_assignment = None\n",
    "scaler = StandardScaler()\n",
    "scaler.fit(features_train[numeric])\n",
    "features_train[numeric] = scaler.transform(features_train[numeric])\n",
    "features_test[numeric] = scaler.transform(features_test[numeric])\n",
    "features_valid[numeric] = scaler.transform(features_valid[numeric])"
   ]
  },
  {
   "cell_type": "code",
   "execution_count": 43,
   "metadata": {},
   "outputs": [
    {
     "name": "stdout",
     "output_type": "stream",
     "text": [
      "Дерево решений (max_depth = 5): accuracy = 0.8555, F1 = 0.5505443234836703\n",
      "Случайный лес (n_estimators = 10): accuracy = 0.8545, F1 = 0.5205930807248765\n",
      "Логистическая регрессия: accuracy = 0.8165, F1 = 0.3191094619666048\n"
     ]
    }
   ],
   "source": [
    "#Подбор гиперпараметров для дерева решений\n",
    "best_result = 0\n",
    "best_model_decision_tree = None\n",
    "best_depth = 0\n",
    "for depth in range(1, 6):\n",
    "    model = DecisionTreeClassifier(max_depth = depth, random_state=12345)\n",
    "    model.fit(features_train, target_train)\n",
    "    result = model.score(features_valid, target_valid)\n",
    "    if result > best_result:\n",
    "        best_model_decision_tree = model\n",
    "        best_result = result\n",
    "        best_depth = depth\n",
    "predicted_valid = best_model_decision_tree.predict(features_valid)\n",
    "print(f'Дерево решений (max_depth = {best_depth}): accuracy = {best_result}, F1 = {f1_score(target_valid, predicted_valid)}')\n",
    "   \n",
    "#Случайный лес\n",
    "best_result = 0\n",
    "best_est = 0\n",
    "best_model_random_forest  = None\n",
    "for est in range(1, 11):\n",
    "    model = RandomForestClassifier(random_state=12345, n_estimators=est)\n",
    "    model.fit(features_train, target_train)\n",
    "    result = model.score(features_valid, target_valid)\n",
    "    if result > best_result:\n",
    "        best_model_random_forest = model\n",
    "        best_est = est\n",
    "        best_result = result\n",
    "predicted_valid = best_model_random_forest.predict(features_valid) \n",
    "print(f'Случайный лес (n_estimators = {best_est}): accuracy = {best_result}, F1 = {f1_score(target_valid, predicted_valid)}')\n",
    "    \n",
    "#Логистическая регрессия\n",
    "model_logistic_regression = LogisticRegression(random_state=12345, solver='lbfgs', max_iter=1000)\n",
    "model_logistic_regression.fit(features_train, target_train)\n",
    "best_result = model_logistic_regression.score(features_valid, target_valid)\n",
    "predicted_valid = model_logistic_regression.predict(features_valid) \n",
    "print(f'Логистическая регрессия: accuracy = {best_result}, F1 = {f1_score(target_valid, predicted_valid)}')"
   ]
  },
  {
   "cell_type": "markdown",
   "metadata": {},
   "source": [
    "## Борьба с дисбалансом"
   ]
  },
  {
   "cell_type": "markdown",
   "metadata": {},
   "source": [
    "Посмотрим, насколько у на разбалансирован целевой признак в исходном датасете и проверим модели на исходном датасете"
   ]
  },
  {
   "cell_type": "code",
   "execution_count": 44,
   "metadata": {},
   "outputs": [
    {
     "data": {
      "text/plain": [
       "<AxesSubplot:>"
      ]
     },
     "execution_count": 44,
     "metadata": {},
     "output_type": "execute_result"
    },
    {
     "data": {
      "image/png": "[encoded data removed]",
      "text/plain": [
       "<Figure size 432x288 with 1 Axes>"
      ]
     },
     "metadata": {
      "needs_background": "light"
     },
     "output_type": "display_data"
    }
   ],
   "source": [
    "df['Exited'].hist()"
   ]
  },
  {
   "cell_type": "markdown",
   "metadata": {},
   "source": [
    "Классы распределены неравномерно, есть смысл попробовать сделать upsampling, увеличив размерность класса 1 в 4 раза. В качестве модели возьмем Дерево решений (max_depth = 5), т.к. она показала максимальный F1 на предыдущем шаге."
   ]
  },
  {
   "cell_type": "code",
   "execution_count": 45,
   "metadata": {},
   "outputs": [],
   "source": [
    "def upsample(features, target, repeat):\n",
    "    features_zeros = features[target == 0]\n",
    "    features_ones = features[target == 1]\n",
    "    target_zeros = target[target == 0]\n",
    "    target_ones = target[target == 1]\n",
    "\n",
    "    features_upsampled = pd.concat([features_zeros] + [features_ones] * repeat)\n",
    "    target_upsampled = pd.concat([target_zeros] + [target_ones] * repeat)\n",
    "    \n",
    "    features_upsampled, target_upsampled = shuffle(\n",
    "        features_upsampled, target_upsampled, random_state=12345)\n",
    "    \n",
    "    return features_upsampled, target_upsampled\n",
    "\n",
    "features_upsampled, target_upsampled = upsample(features_train, target_train, 4)"
   ]
  },
  {
   "cell_type": "markdown",
   "metadata": {},
   "source": [
    "Подбор гиперпараметров и выявление лучшей модели после upsampling"
   ]
  },
  {
   "cell_type": "code",
   "execution_count": 46,
   "metadata": {},
   "outputs": [
    {
     "name": "stdout",
     "output_type": "stream",
     "text": [
      "Дерево решений (max_depth = 5): accuracy = 0.763, F1 = 0.5502846299810247\n",
      "CPU times: user 85.3 ms, sys: 0 ns, total: 85.3 ms\n",
      "Wall time: 97 ms\n"
     ]
    }
   ],
   "source": [
    "%%time\n",
    "#Подбор гиперпараметров для дерева решений\n",
    "best_result = 0\n",
    "best_model_decision_tree = None\n",
    "best_depth = 0\n",
    "for depth in range(1, 6):\n",
    "    model = DecisionTreeClassifier(max_depth = depth, random_state=12345)\n",
    "    model.fit(features_upsampled, target_upsampled)\n",
    "    result = model.score(features_valid, target_valid)\n",
    "    if result > best_result:\n",
    "        best_model_decision_tree = model\n",
    "        best_result = result\n",
    "        best_depth = depth\n",
    "predicted_valid = best_model_decision_tree.predict(features_valid)\n",
    "print(f'Дерево решений (max_depth = {best_depth}): accuracy = {best_result}, F1 = {f1_score(target_valid, predicted_valid)}')"
   ]
  },
  {
   "cell_type": "code",
   "execution_count": 47,
   "metadata": {},
   "outputs": [
    {
     "name": "stdout",
     "output_type": "stream",
     "text": [
      "Случайный лес (n_estimators = 10): accuracy = 0.8425, F1 = 0.5374449339207048\n",
      "CPU times: user 621 ms, sys: 0 ns, total: 621 ms\n",
      "Wall time: 624 ms\n"
     ]
    }
   ],
   "source": [
    "%%time\n",
    "#Случайный лес\n",
    "best_result = 0\n",
    "best_est = 0\n",
    "best_model_random_forest  = None\n",
    "for est in range(1, 11):\n",
    "    model = RandomForestClassifier(random_state=12345, n_estimators=est)\n",
    "    model.fit(features_upsampled, target_upsampled)\n",
    "    result = model.score(features_valid, target_valid)\n",
    "    if result > best_result:\n",
    "        best_model_random_forest = model\n",
    "        best_est = est\n",
    "        best_result = result\n",
    "predicted_valid = best_model_random_forest.predict(features_valid) \n",
    "print(f'Случайный лес (n_estimators = {best_est}): accuracy = {best_result}, F1 = {f1_score(target_valid, predicted_valid)}')"
   ]
  },
  {
   "cell_type": "code",
   "execution_count": 48,
   "metadata": {},
   "outputs": [
    {
     "name": "stdout",
     "output_type": "stream",
     "text": [
      "Логистическая регрессия: accuracy = 0.697, F1 = 0.4656084656084656\n",
      "CPU times: user 293 ms, sys: 381 ms, total: 674 ms\n",
      "Wall time: 639 ms\n"
     ]
    }
   ],
   "source": [
    "%%time    \n",
    "#Логистическая регрессия\n",
    "model_logistic_regression = LogisticRegression(random_state=12345, solver='lbfgs', max_iter=1000)\n",
    "model_logistic_regression.fit(features_upsampled, target_upsampled)\n",
    "best_result = model_logistic_regression.score(features_valid, target_valid)\n",
    "predicted_valid = model_logistic_regression.predict(features_valid) \n",
    "print(f'Логистическая регрессия: accuracy = {best_result}, F1 = {f1_score(target_valid, predicted_valid)}')"
   ]
  },
  {
   "cell_type": "markdown",
   "metadata": {},
   "source": [
    "После upsampling лучшая модель - дерево решений с гиперпараметром max_depth = 5. Построим для нее ROC-кривую"
   ]
  },
  {
   "cell_type": "code",
   "execution_count": 49,
   "metadata": {},
   "outputs": [
    {
     "name": "stdout",
     "output_type": "stream",
     "text": [
      "AUC-ROC after upsampling:  0.8206070711582386\n"
     ]
    },
    {
     "data": {
      "image/png": "[encoded data removed]",
      "text/plain": [
       "<Figure size 432x432 with 1 Axes>"
      ]
     },
     "metadata": {
      "needs_background": "light"
     },
     "output_type": "display_data"
    }
   ],
   "source": [
    "model = DecisionTreeClassifier(max_depth = 5, random_state=12345)\n",
    "model.fit(features_upsampled, target_upsampled)\n",
    "probabilities_valid = model.predict_proba(features_valid)\n",
    "probabilities_one_valid = probabilities_valid[:, 1]\n",
    "print(\"AUC-ROC after upsampling: \", roc_auc_score(target_valid, probabilities_one_valid))\n",
    "\n",
    "fpr, tpr, thresholds =  roc_curve(target_valid, probabilities_one_valid) # < напишите код здесь >\n",
    "plt.figure(figsize=(6, 6))\n",
    "plt.plot([0, 1], [0, 1], linestyle='--')\n",
    "plt.plot(fpr, tpr, linestyle='--')\n",
    "plt.xlim([0.0, 1.0])\n",
    "plt.ylim([0.0, 1.0])\n",
    "plt.xlabel(\"False Positive Rate\")\n",
    "plt.ylabel(\"True Positive Rate\")\n",
    "plt.title(\"ROC-кривая\")\n",
    "plt.show()"
   ]
  },
  {
   "cell_type": "markdown",
   "metadata": {},
   "source": [
    "Устранение дисбаланса методотом  upsampling повлияло на F1-меру в лучшую сторону. Попробуем downsampling"
   ]
  },
  {
   "cell_type": "code",
   "execution_count": 50,
   "metadata": {},
   "outputs": [],
   "source": [
    "def downsample(features, target, fraction):\n",
    "    features_zeros = features[target == 0]\n",
    "    features_ones = features[target == 1]\n",
    "    target_zeros = target[target == 0]\n",
    "    target_ones = target[target == 1]\n",
    "\n",
    "    features_downsampled = pd.concat(\n",
    "        [features_zeros.sample(frac=fraction, random_state=12345)] + [features_ones])\n",
    "    target_downsampled = pd.concat(\n",
    "        [target_zeros.sample(frac=fraction, random_state=12345)] + [target_ones])\n",
    "    \n",
    "    features_downsampled, target_downsampled = shuffle(\n",
    "        features_downsampled, target_downsampled, random_state=12345)\n",
    "    \n",
    "    return features_downsampled, target_downsampled\n",
    "\n",
    "features_downsampled, target_downsampled = downsample(features_train, target_train, 0.25)"
   ]
  },
  {
   "cell_type": "markdown",
   "metadata": {},
   "source": [
    "Подбор гиперпараметров и выявление лучшей модели после upsampling"
   ]
  },
  {
   "cell_type": "code",
   "execution_count": 51,
   "metadata": {},
   "outputs": [
    {
     "name": "stdout",
     "output_type": "stream",
     "text": [
      "Дерево решений (max_depth = 3): accuracy = 0.7835, F1 = 0.5118376550169109\n",
      "CPU times: user 43.7 ms, sys: 3.43 ms, total: 47.1 ms\n",
      "Wall time: 65.7 ms\n"
     ]
    }
   ],
   "source": [
    "%%time\n",
    "#Подбор гиперпараметров для дерева решений\n",
    "best_result = 0\n",
    "best_model_decision_tree = None\n",
    "best_depth = 0\n",
    "for depth in range(1, 6):\n",
    "    model = DecisionTreeClassifier(max_depth = depth, random_state=12345)\n",
    "    model.fit(features_downsampled, target_downsampled)\n",
    "    result = model.score(features_valid, target_valid)\n",
    "    if result > best_result:\n",
    "        best_model_decision_tree = model\n",
    "        best_result = result\n",
    "        best_depth = depth\n",
    "predicted_valid = best_model_decision_tree.predict(features_valid)\n",
    "print(f'Дерево решений (max_depth = {best_depth}): accuracy = {best_result}, F1 = {f1_score(target_valid, predicted_valid)}')"
   ]
  },
  {
   "cell_type": "code",
   "execution_count": 52,
   "metadata": {},
   "outputs": [
    {
     "name": "stdout",
     "output_type": "stream",
     "text": [
      "Случайный лес (n_estimators = 6): accuracy = 0.768, F1 = 0.5274949083503055\n",
      "CPU times: user 312 ms, sys: 8.81 ms, total: 321 ms\n",
      "Wall time: 325 ms\n"
     ]
    }
   ],
   "source": [
    "%%time\n",
    "#Случайный лес\n",
    "best_result = 0\n",
    "best_est = 0\n",
    "best_model_random_forest  = None\n",
    "for est in range(1, 11):\n",
    "    model = RandomForestClassifier(random_state=12345, n_estimators=est)\n",
    "    model.fit(features_downsampled, target_downsampled)\n",
    "    result = model.score(features_valid, target_valid)\n",
    "    if result > best_result:\n",
    "        best_model_random_forest = model\n",
    "        best_est = est\n",
    "        best_result = result\n",
    "predicted_valid = best_model_random_forest.predict(features_valid) \n",
    "print(f'Случайный лес (n_estimators = {best_est}): accuracy = {best_result}, F1 = {f1_score(target_valid, predicted_valid)}')"
   ]
  },
  {
   "cell_type": "code",
   "execution_count": 53,
   "metadata": {},
   "outputs": [
    {
     "name": "stdout",
     "output_type": "stream",
     "text": [
      "Логистическая регрессия: accuracy = 0.7005, F1 = 0.4750219106047327\n",
      "CPU times: user 344 ms, sys: 525 ms, total: 869 ms\n",
      "Wall time: 862 ms\n"
     ]
    }
   ],
   "source": [
    "%%time  \n",
    "#Логистическая регрессия\n",
    "model_logistic_regression = LogisticRegression(random_state=12345, solver='lbfgs', max_iter=1000)\n",
    "model_logistic_regression.fit(features_downsampled, target_downsampled)\n",
    "best_result = model_logistic_regression.score(features_valid, target_valid)\n",
    "predicted_valid = model_logistic_regression.predict(features_valid) \n",
    "print(f'Логистическая регрессия: accuracy = {best_result}, F1 = {f1_score(target_valid, predicted_valid)}')"
   ]
  },
  {
   "cell_type": "markdown",
   "metadata": {},
   "source": [
    "После downsampling лучшая модель - \"случайный лес\" с гиперпараметром n_estimators = 6. Построим для нее ROC-кривую"
   ]
  },
  {
   "cell_type": "code",
   "execution_count": 54,
   "metadata": {},
   "outputs": [
    {
     "name": "stdout",
     "output_type": "stream",
     "text": [
      "F1 after downsampling:  0.5068285280728376\n",
      "AUC-ROC after downsampling:  0.7869457129732212\n"
     ]
    },
    {
     "data": {
      "image/png": "[encoded data removed]",
      "text/plain": [
       "<Figure size 432x432 with 1 Axes>"
      ]
     },
     "metadata": {
      "needs_background": "light"
     },
     "output_type": "display_data"
    }
   ],
   "source": [
    "model = RandomForestClassifier(random_state=12345, n_estimators=6)\n",
    "model.fit(features_upsampled, target_upsampled)\n",
    "predicted_valid = model.predict(features_valid)\n",
    "\n",
    "print(\"F1 after downsampling: \", f1_score(target_valid, predicted_valid))\n",
    "\n",
    "probabilities_valid = model.predict_proba(features_valid)\n",
    "probabilities_one_valid = probabilities_valid[:, 1]\n",
    "print(\"AUC-ROC after downsampling: \", roc_auc_score(target_valid, probabilities_one_valid))\n",
    "\n",
    "fpr, tpr, thresholds =  roc_curve(target_valid, probabilities_one_valid)\n",
    "plt.figure(figsize=(6, 6))\n",
    "plt.plot([0, 1], [0, 1], linestyle='--')\n",
    "plt.plot(fpr, tpr, linestyle='--')\n",
    "plt.xlim([0.0, 1.0])\n",
    "plt.ylim([0.0, 1.0])\n",
    "plt.xlabel(\"False Positive Rate\")\n",
    "plt.ylabel(\"True Positive Rate\")\n",
    "plt.title(\"ROC-кривая\")\n",
    "plt.show()"
   ]
  },
  {
   "cell_type": "markdown",
   "metadata": {},
   "source": [
    "После downsampling F1-мера также выросла, но не так значительно, как после upsampling."
   ]
  },
  {
   "cell_type": "markdown",
   "metadata": {},
   "source": [
    "## Проверка модели\n",
    "Проверим работу модели на тестовой выборке после upsampling и downsampling"
   ]
  },
  {
   "cell_type": "markdown",
   "metadata": {},
   "source": [
    "Лучшая модель - \"дерево решений\" с гиперпараметром max_depth = 5"
   ]
  },
  {
   "cell_type": "code",
   "execution_count": 55,
   "metadata": {},
   "outputs": [
    {
     "name": "stdout",
     "output_type": "stream",
     "text": [
      "F1 after upsampling (test sample):  0.5874769797421732\n",
      "AUC-ROC after upsampling (test sample):  0.8453148937500652\n"
     ]
    },
    {
     "data": {
      "image/png": "[encoded data removed]",
      "text/plain": [
       "<Figure size 432x432 with 1 Axes>"
      ]
     },
     "metadata": {
      "needs_background": "light"
     },
     "output_type": "display_data"
    },
    {
     "name": "stdout",
     "output_type": "stream",
     "text": [
      "F1 after downsampling (test sample):  0.5556471558120363\n",
      "AUC-ROC after downsampling (test sample):  0.8251443042799229\n"
     ]
    },
    {
     "data": {
      "image/png": "[encoded data removed]",
      "text/plain": [
       "<Figure size 432x432 with 1 Axes>"
      ]
     },
     "metadata": {
      "needs_background": "light"
     },
     "output_type": "display_data"
    }
   ],
   "source": [
    "model = DecisionTreeClassifier(max_depth = 5, random_state=12345)\n",
    "model.fit(features_upsampled, target_upsampled)\n",
    "predicted_test = model.predict(features_test)\n",
    "\n",
    "print(\"F1 after upsampling (test sample): \", f1_score(target_test, predicted_test))\n",
    "\n",
    "probabilities_test = model.predict_proba(features_test)\n",
    "probabilities_one_test = probabilities_test[:, 1]\n",
    "print(\"AUC-ROC after upsampling (test sample): \", roc_auc_score(target_test, probabilities_one_test))\n",
    "\n",
    "fpr, tpr, thresholds =  roc_curve(target_test, probabilities_one_test)\n",
    "plt.figure(figsize=(6, 6))\n",
    "plt.plot([0, 1], [0, 1], linestyle='--')\n",
    "plt.plot(fpr, tpr, linestyle='--')\n",
    "plt.xlim([0.0, 1.0])\n",
    "plt.ylim([0.0, 1.0])\n",
    "plt.xlabel(\"False Positive Rate\")\n",
    "plt.ylabel(\"True Positive Rate\")\n",
    "plt.title(\"ROC-кривая\")\n",
    "plt.show()\n",
    "\n",
    "model.fit(features_downsampled, target_downsampled)\n",
    "predicted_test = model.predict(features_test)\n",
    "\n",
    "print(\"F1 after downsampling (test sample): \", f1_score(target_test, predicted_test))\n",
    "\n",
    "probabilities_test = model.predict_proba(features_test)\n",
    "probabilities_one_test = probabilities_test[:, 1]\n",
    "print(\"AUC-ROC after downsampling (test sample): \", roc_auc_score(target_test, probabilities_one_test))\n",
    "\n",
    "fpr, tpr, thresholds =  roc_curve(target_test, probabilities_one_test)\n",
    "plt.figure(figsize=(6, 6))\n",
    "plt.plot([0, 1], [0, 1], linestyle='--')\n",
    "plt.plot(fpr, tpr, linestyle='--')\n",
    "plt.xlim([0.0, 1.0])\n",
    "plt.ylim([0.0, 1.0])\n",
    "plt.xlabel(\"False Positive Rate\")\n",
    "plt.ylabel(\"True Positive Rate\")\n",
    "plt.title(\"ROC-кривая\")\n",
    "plt.show()\n"
   ]
  },
  {
   "cell_type": "markdown",
   "metadata": {},
   "source": [
    "## Выводы\n",
    "Создана наиболее оптимальная модель машинного обучения для прогноза оттока клиентов из «Бета-Банка». Проанализировано три различных алгоритма машинного обучения с различными гиперпараметрами. В итоге выбрана модель на основе алгоритма \"Дерево решений\" с гиперпараметром max_depth = 5. Т.к. данные для обучения несбалансированы, выбор модели происходил на основании метрики F1, также проанализирована метрика AUC-ROC. Также провена балансировка классов методами upsampling и  downsampling. Метрики итоговой модели составили:\n",
    "* F1:  0.59\n",
    "* AUC-ROC:  0.85"
   ]
  },
  {
   "cell_type": "code",
   "execution_count": null,
   "metadata": {},
   "outputs": [],
   "source": []
  }
 ],
 "metadata": {
  "ExecuteTimeLog": [
   {
    "duration": 1433,
    "start_time": "2022-07-03T07:40:54.736Z"
   },
   {
    "duration": 22,
    "start_time": "2022-07-03T07:44:38.876Z"
   },
   {
    "duration": 8,
    "start_time": "2022-07-03T07:47:39.584Z"
   },
   {
    "duration": 6,
    "start_time": "2022-07-03T07:47:58.202Z"
   },
   {
    "duration": 7,
    "start_time": "2022-07-03T07:48:19.189Z"
   },
   {
    "duration": 11,
    "start_time": "2022-07-03T07:48:30.073Z"
   },
   {
    "duration": 6,
    "start_time": "2022-07-03T07:48:43.136Z"
   },
   {
    "duration": 116,
    "start_time": "2022-07-03T08:00:58.806Z"
   },
   {
    "duration": 63,
    "start_time": "2022-07-03T10:11:44.382Z"
   },
   {
    "duration": 56,
    "start_time": "2022-07-03T10:13:32.786Z"
   },
   {
    "duration": 10,
    "start_time": "2022-07-03T10:17:52.922Z"
   },
   {
    "duration": 72,
    "start_time": "2022-07-03T10:18:07.918Z"
   },
   {
    "duration": 71,
    "start_time": "2022-07-03T10:18:24.298Z"
   },
   {
    "duration": 24,
    "start_time": "2022-07-03T10:18:24.370Z"
   },
   {
    "duration": 7,
    "start_time": "2022-07-03T10:18:24.397Z"
   },
   {
    "duration": 83,
    "start_time": "2022-07-03T10:18:24.406Z"
   },
   {
    "duration": 42,
    "start_time": "2022-07-03T10:18:24.492Z"
   },
   {
    "duration": 1256,
    "start_time": "2022-07-03T18:41:09.228Z"
   },
   {
    "duration": 31,
    "start_time": "2022-07-03T18:41:10.487Z"
   },
   {
    "duration": 6,
    "start_time": "2022-07-03T18:41:10.520Z"
   },
   {
    "duration": 80,
    "start_time": "2022-07-03T18:41:10.528Z"
   },
   {
    "duration": 20,
    "start_time": "2022-07-03T18:41:10.610Z"
   },
   {
    "duration": 152,
    "start_time": "2022-07-03T18:41:10.632Z"
   },
   {
    "duration": 1154,
    "start_time": "2022-07-03T18:41:49.691Z"
   },
   {
    "duration": 20,
    "start_time": "2022-07-03T18:41:50.847Z"
   },
   {
    "duration": 11,
    "start_time": "2022-07-03T18:41:50.874Z"
   },
   {
    "duration": 56,
    "start_time": "2022-07-03T18:41:50.887Z"
   },
   {
    "duration": 36,
    "start_time": "2022-07-03T18:41:50.944Z"
   },
   {
    "duration": 40,
    "start_time": "2022-07-03T18:41:50.982Z"
   },
   {
    "duration": 53,
    "start_time": "2022-07-03T18:43:59.036Z"
   },
   {
    "duration": 100,
    "start_time": "2022-07-03T18:48:22.461Z"
   },
   {
    "duration": 589,
    "start_time": "2022-07-03T18:48:26.733Z"
   },
   {
    "duration": 34,
    "start_time": "2022-07-03T19:07:28.785Z"
   },
   {
    "duration": 1412,
    "start_time": "2022-07-03T19:08:57.215Z"
   },
   {
    "duration": 23,
    "start_time": "2022-07-03T19:08:58.629Z"
   },
   {
    "duration": 7,
    "start_time": "2022-07-03T19:08:58.654Z"
   },
   {
    "duration": 85,
    "start_time": "2022-07-03T19:08:58.668Z"
   },
   {
    "duration": 27,
    "start_time": "2022-07-03T19:08:58.755Z"
   },
   {
    "duration": 56,
    "start_time": "2022-07-03T19:08:58.784Z"
   },
   {
    "duration": 554,
    "start_time": "2022-07-03T19:08:58.843Z"
   },
   {
    "duration": 136,
    "start_time": "2022-07-03T19:08:59.399Z"
   },
   {
    "duration": 62,
    "start_time": "2022-07-03T19:12:31.093Z"
   },
   {
    "duration": 33,
    "start_time": "2022-07-03T19:22:56.240Z"
   },
   {
    "duration": 39,
    "start_time": "2022-07-03T19:25:59.049Z"
   },
   {
    "duration": 1434,
    "start_time": "2022-07-04T05:52:47.531Z"
   },
   {
    "duration": 24,
    "start_time": "2022-07-04T05:52:48.967Z"
   },
   {
    "duration": 11,
    "start_time": "2022-07-04T05:52:48.993Z"
   },
   {
    "duration": 75,
    "start_time": "2022-07-04T05:52:49.006Z"
   },
   {
    "duration": 24,
    "start_time": "2022-07-04T05:52:49.082Z"
   },
   {
    "duration": 77,
    "start_time": "2022-07-04T05:52:49.107Z"
   },
   {
    "duration": 603,
    "start_time": "2022-07-04T05:52:49.186Z"
   },
   {
    "duration": 76,
    "start_time": "2022-07-04T05:52:49.792Z"
   },
   {
    "duration": 31,
    "start_time": "2022-07-04T05:52:49.869Z"
   },
   {
    "duration": 127,
    "start_time": "2022-07-04T06:00:42.452Z"
   },
   {
    "duration": 1282,
    "start_time": "2022-07-04T06:01:36.068Z"
   },
   {
    "duration": 24,
    "start_time": "2022-07-04T06:01:37.353Z"
   },
   {
    "duration": 7,
    "start_time": "2022-07-04T06:01:37.378Z"
   },
   {
    "duration": 95,
    "start_time": "2022-07-04T06:01:37.387Z"
   },
   {
    "duration": 26,
    "start_time": "2022-07-04T06:01:37.484Z"
   },
   {
    "duration": 62,
    "start_time": "2022-07-04T06:01:37.513Z"
   },
   {
    "duration": 465,
    "start_time": "2022-07-04T06:01:37.577Z"
   },
   {
    "duration": 68,
    "start_time": "2022-07-04T06:01:38.043Z"
   },
   {
    "duration": 53,
    "start_time": "2022-07-04T06:01:38.113Z"
   },
   {
    "duration": 119,
    "start_time": "2022-07-04T06:01:38.169Z"
   },
   {
    "duration": 1287,
    "start_time": "2022-07-04T06:02:51.733Z"
   },
   {
    "duration": 20,
    "start_time": "2022-07-04T06:02:53.022Z"
   },
   {
    "duration": 12,
    "start_time": "2022-07-04T06:02:53.044Z"
   },
   {
    "duration": 57,
    "start_time": "2022-07-04T06:02:53.059Z"
   },
   {
    "duration": 36,
    "start_time": "2022-07-04T06:02:53.118Z"
   },
   {
    "duration": 42,
    "start_time": "2022-07-04T06:02:53.157Z"
   },
   {
    "duration": 448,
    "start_time": "2022-07-04T06:02:53.201Z"
   },
   {
    "duration": 64,
    "start_time": "2022-07-04T06:02:53.651Z"
   },
   {
    "duration": 49,
    "start_time": "2022-07-04T06:02:53.716Z"
   },
   {
    "duration": 135,
    "start_time": "2022-07-04T06:02:53.767Z"
   },
   {
    "duration": 1485,
    "start_time": "2022-07-04T06:03:19.678Z"
   },
   {
    "duration": 24,
    "start_time": "2022-07-04T06:03:21.165Z"
   },
   {
    "duration": 7,
    "start_time": "2022-07-04T06:03:21.190Z"
   },
   {
    "duration": 75,
    "start_time": "2022-07-04T06:03:21.200Z"
   },
   {
    "duration": 23,
    "start_time": "2022-07-04T06:03:21.278Z"
   },
   {
    "duration": 61,
    "start_time": "2022-07-04T06:03:21.303Z"
   },
   {
    "duration": 172,
    "start_time": "2022-07-04T06:03:21.366Z"
   },
   {
    "duration": 64,
    "start_time": "2022-07-04T06:03:21.542Z"
   },
   {
    "duration": 49,
    "start_time": "2022-07-04T06:03:21.608Z"
   },
   {
    "duration": 142,
    "start_time": "2022-07-04T06:03:21.659Z"
   },
   {
    "duration": 85,
    "start_time": "2022-07-04T06:14:11.540Z"
   },
   {
    "duration": 1023,
    "start_time": "2022-07-04T06:14:30.631Z"
   },
   {
    "duration": 80,
    "start_time": "2022-07-04T06:15:41.427Z"
   },
   {
    "duration": 757,
    "start_time": "2022-07-04T06:15:55.993Z"
   },
   {
    "duration": 849,
    "start_time": "2022-07-04T06:18:34.093Z"
   },
   {
    "duration": 144,
    "start_time": "2022-07-04T06:30:58.888Z"
   },
   {
    "duration": 792,
    "start_time": "2022-07-04T06:31:01.053Z"
   },
   {
    "duration": 40,
    "start_time": "2022-07-04T06:33:35.032Z"
   },
   {
    "duration": 26,
    "start_time": "2022-07-04T06:33:37.333Z"
   },
   {
    "duration": 134,
    "start_time": "2022-07-04T06:34:36.255Z"
   },
   {
    "duration": 47,
    "start_time": "2022-07-04T06:49:49.958Z"
   },
   {
    "duration": 39,
    "start_time": "2022-07-04T06:49:52.737Z"
   },
   {
    "duration": 171,
    "start_time": "2022-07-04T06:51:08.254Z"
   },
   {
    "duration": 278,
    "start_time": "2022-07-04T06:51:15.389Z"
   },
   {
    "duration": 965,
    "start_time": "2022-07-05T05:45:53.972Z"
   },
   {
    "duration": 800,
    "start_time": "2022-07-05T05:45:57.582Z"
   },
   {
    "duration": 125,
    "start_time": "2022-07-05T05:45:59.316Z"
   },
   {
    "duration": 1560,
    "start_time": "2022-07-06T14:31:49.562Z"
   },
   {
    "duration": 102,
    "start_time": "2022-07-06T14:31:51.123Z"
   },
   {
    "duration": 23,
    "start_time": "2022-07-06T14:31:51.227Z"
   },
   {
    "duration": 6,
    "start_time": "2022-07-06T14:31:51.252Z"
   },
   {
    "duration": 51,
    "start_time": "2022-07-06T14:31:51.260Z"
   },
   {
    "duration": 0,
    "start_time": "2022-07-06T14:31:51.313Z"
   },
   {
    "duration": 0,
    "start_time": "2022-07-06T14:31:51.314Z"
   },
   {
    "duration": 0,
    "start_time": "2022-07-06T14:31:51.315Z"
   },
   {
    "duration": 0,
    "start_time": "2022-07-06T14:31:51.316Z"
   },
   {
    "duration": 0,
    "start_time": "2022-07-06T14:31:51.317Z"
   },
   {
    "duration": 0,
    "start_time": "2022-07-06T14:31:51.318Z"
   },
   {
    "duration": 1321,
    "start_time": "2022-07-06T14:32:07.199Z"
   },
   {
    "duration": 78,
    "start_time": "2022-07-06T14:32:08.523Z"
   },
   {
    "duration": 22,
    "start_time": "2022-07-06T14:32:08.603Z"
   },
   {
    "duration": 10,
    "start_time": "2022-07-06T14:32:08.627Z"
   },
   {
    "duration": 49,
    "start_time": "2022-07-06T14:32:08.640Z"
   },
   {
    "duration": 0,
    "start_time": "2022-07-06T14:32:08.690Z"
   },
   {
    "duration": 0,
    "start_time": "2022-07-06T14:32:08.691Z"
   },
   {
    "duration": 0,
    "start_time": "2022-07-06T14:32:08.693Z"
   },
   {
    "duration": 0,
    "start_time": "2022-07-06T14:32:08.694Z"
   },
   {
    "duration": 0,
    "start_time": "2022-07-06T14:32:08.696Z"
   },
   {
    "duration": 0,
    "start_time": "2022-07-06T14:32:08.697Z"
   },
   {
    "duration": 1414,
    "start_time": "2022-07-06T14:32:39.322Z"
   },
   {
    "duration": 77,
    "start_time": "2022-07-06T14:32:40.738Z"
   },
   {
    "duration": 21,
    "start_time": "2022-07-06T14:32:40.817Z"
   },
   {
    "duration": 6,
    "start_time": "2022-07-06T14:32:40.841Z"
   },
   {
    "duration": 62,
    "start_time": "2022-07-06T14:32:40.849Z"
   },
   {
    "duration": 44,
    "start_time": "2022-07-06T14:32:40.913Z"
   },
   {
    "duration": 165,
    "start_time": "2022-07-06T14:32:40.959Z"
   },
   {
    "duration": 632,
    "start_time": "2022-07-06T14:32:41.125Z"
   },
   {
    "duration": 352,
    "start_time": "2022-07-06T14:32:41.759Z"
   },
   {
    "duration": 191,
    "start_time": "2022-07-06T14:32:42.114Z"
   },
   {
    "duration": 313,
    "start_time": "2022-07-06T14:32:42.307Z"
   },
   {
    "duration": 6,
    "start_time": "2022-07-06T14:36:17.359Z"
   },
   {
    "duration": 9,
    "start_time": "2022-07-06T14:39:54.480Z"
   },
   {
    "duration": 1285,
    "start_time": "2022-07-06T14:40:07.254Z"
   },
   {
    "duration": 77,
    "start_time": "2022-07-06T14:40:08.541Z"
   },
   {
    "duration": 21,
    "start_time": "2022-07-06T14:40:08.619Z"
   },
   {
    "duration": 13,
    "start_time": "2022-07-06T14:40:08.642Z"
   },
   {
    "duration": 31,
    "start_time": "2022-07-06T14:40:08.657Z"
   },
   {
    "duration": 71,
    "start_time": "2022-07-06T14:40:08.689Z"
   },
   {
    "duration": 123,
    "start_time": "2022-07-06T14:40:08.762Z"
   },
   {
    "duration": 0,
    "start_time": "2022-07-06T14:40:08.886Z"
   },
   {
    "duration": 0,
    "start_time": "2022-07-06T14:40:08.888Z"
   },
   {
    "duration": 0,
    "start_time": "2022-07-06T14:40:08.889Z"
   },
   {
    "duration": 0,
    "start_time": "2022-07-06T14:40:08.891Z"
   },
   {
    "duration": 0,
    "start_time": "2022-07-06T14:40:08.892Z"
   },
   {
    "duration": 23,
    "start_time": "2022-07-06T14:40:33.033Z"
   },
   {
    "duration": 1396,
    "start_time": "2022-07-06T14:40:45.114Z"
   },
   {
    "duration": 73,
    "start_time": "2022-07-06T14:40:46.512Z"
   },
   {
    "duration": 21,
    "start_time": "2022-07-06T14:40:46.587Z"
   },
   {
    "duration": 5,
    "start_time": "2022-07-06T14:40:46.610Z"
   },
   {
    "duration": 14,
    "start_time": "2022-07-06T14:40:46.617Z"
   },
   {
    "duration": 58,
    "start_time": "2022-07-06T14:40:46.645Z"
   },
   {
    "duration": 22,
    "start_time": "2022-07-06T14:40:46.705Z"
   },
   {
    "duration": 170,
    "start_time": "2022-07-06T14:40:46.729Z"
   },
   {
    "duration": 754,
    "start_time": "2022-07-06T14:40:46.900Z"
   },
   {
    "duration": 258,
    "start_time": "2022-07-06T14:40:47.747Z"
   },
   {
    "duration": 154,
    "start_time": "2022-07-06T14:40:48.007Z"
   },
   {
    "duration": 299,
    "start_time": "2022-07-06T14:40:48.163Z"
   },
   {
    "duration": 348,
    "start_time": "2022-07-06T14:41:09.935Z"
   },
   {
    "duration": 1003,
    "start_time": "2022-07-06T14:44:24.244Z"
   },
   {
    "duration": 2229,
    "start_time": "2022-07-06T17:50:39.030Z"
   },
   {
    "duration": 4,
    "start_time": "2022-07-06T17:58:04.851Z"
   },
   {
    "duration": 96,
    "start_time": "2022-07-06T17:58:04.858Z"
   },
   {
    "duration": 26,
    "start_time": "2022-07-06T17:58:04.956Z"
   },
   {
    "duration": 13,
    "start_time": "2022-07-06T17:58:04.985Z"
   },
   {
    "duration": 8,
    "start_time": "2022-07-06T17:58:05.001Z"
   },
   {
    "duration": 101,
    "start_time": "2022-07-06T17:58:05.011Z"
   },
   {
    "duration": 50,
    "start_time": "2022-07-06T17:58:05.113Z"
   },
   {
    "duration": 2098,
    "start_time": "2022-07-06T17:58:05.166Z"
   },
   {
    "duration": 253,
    "start_time": "2022-07-06T17:58:07.274Z"
   },
   {
    "duration": 20,
    "start_time": "2022-07-06T17:58:07.530Z"
   },
   {
    "duration": 1767,
    "start_time": "2022-07-06T17:58:08.979Z"
   },
   {
    "duration": 214,
    "start_time": "2022-07-06T18:00:08.870Z"
   },
   {
    "duration": 15,
    "start_time": "2022-07-06T18:03:19.433Z"
   },
   {
    "duration": 142,
    "start_time": "2022-07-06T18:03:20.932Z"
   },
   {
    "duration": 941,
    "start_time": "2022-07-06T18:03:42.131Z"
   },
   {
    "duration": 185,
    "start_time": "2022-07-06T18:06:14.790Z"
   },
   {
    "duration": 232,
    "start_time": "2022-07-06T18:06:46.909Z"
   },
   {
    "duration": 309,
    "start_time": "2022-07-06T18:08:05.468Z"
   },
   {
    "duration": 1451,
    "start_time": "2022-07-06T18:08:07.910Z"
   },
   {
    "duration": 55,
    "start_time": "2022-07-06T18:08:13.710Z"
   },
   {
    "duration": 6,
    "start_time": "2022-07-06T18:14:00.181Z"
   },
   {
    "duration": 128,
    "start_time": "2022-07-06T18:14:00.191Z"
   },
   {
    "duration": 22,
    "start_time": "2022-07-06T18:14:00.321Z"
   },
   {
    "duration": 39,
    "start_time": "2022-07-06T18:14:00.345Z"
   },
   {
    "duration": 17,
    "start_time": "2022-07-06T18:14:00.387Z"
   },
   {
    "duration": 75,
    "start_time": "2022-07-06T18:14:00.406Z"
   },
   {
    "duration": 26,
    "start_time": "2022-07-06T18:14:00.488Z"
   },
   {
    "duration": 1950,
    "start_time": "2022-07-06T18:14:00.516Z"
   },
   {
    "duration": 301,
    "start_time": "2022-07-06T18:14:02.475Z"
   },
   {
    "duration": 15,
    "start_time": "2022-07-06T18:14:02.779Z"
   },
   {
    "duration": 105,
    "start_time": "2022-07-06T18:14:02.796Z"
   },
   {
    "duration": 628,
    "start_time": "2022-07-06T18:14:02.903Z"
   },
   {
    "duration": 643,
    "start_time": "2022-07-06T18:14:03.533Z"
   },
   {
    "duration": 313,
    "start_time": "2022-07-06T18:14:04.179Z"
   },
   {
    "duration": 13,
    "start_time": "2022-07-06T18:14:04.494Z"
   },
   {
    "duration": 73,
    "start_time": "2022-07-06T18:14:04.508Z"
   },
   {
    "duration": 330,
    "start_time": "2022-07-06T18:14:04.583Z"
   },
   {
    "duration": 869,
    "start_time": "2022-07-06T18:14:04.915Z"
   },
   {
    "duration": 322,
    "start_time": "2022-07-06T18:14:05.789Z"
   },
   {
    "duration": 348,
    "start_time": "2022-07-06T18:14:06.113Z"
   }
  ],
  "kernelspec": {
   "display_name": "Python 3 (ipykernel)",
   "language": "python",
   "name": "python3"
  },
  "language_info": {
   "codemirror_mode": {
    "name": "ipython",
    "version": 3
   },
   "file_extension": ".py",
   "mimetype": "text/x-python",
   "name": "python",
   "nbconvert_exporter": "python",
   "pygments_lexer": "ipython3",
   "version": "3.9.13"
  },
  "toc": {
   "base_numbering": 1,
   "nav_menu": {},
   "number_sections": true,
   "sideBar": true,
   "skip_h1_title": true,
   "title_cell": "Содержание",
   "title_sidebar": "Contents",
   "toc_cell": true,
   "toc_position": {
    "height": "calc(100% - 180px)",
    "left": "10px",
    "top": "150px",
    "width": "165px"
   },
   "toc_section_display": true,
   "toc_window_display": true
  }
 },
 "nbformat": 4,
 "nbformat_minor": 2
}

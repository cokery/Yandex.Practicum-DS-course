{
 "cells": [
  {
   "cell_type": "markdown",
   "id": "1fb09940",
   "metadata": {
    "toc": true
   },
   "source": [
    "<h1>Содержание<span class=\"tocSkip\"></span></h1>\n",
    "<div class=\"toc\"><ul class=\"toc-item\"><li><span><a href=\"#Обзор-данных\" data-toc-modified-id=\"Обзор-данных-1\"><span class=\"toc-item-num\">1&nbsp;&nbsp;</span>Обзор данных</a></span></li><li><span><a href=\"#Предобработка-данных.\" data-toc-modified-id=\"Предобработка-данных.-2\"><span class=\"toc-item-num\">2&nbsp;&nbsp;</span>Предобработка данных.</a></span><ul class=\"toc-item\"><li><span><a href=\"#Замена-названия-столбцов-(приведение-к-нижнему-регистру)\" data-toc-modified-id=\"Замена-названия-столбцов-(приведение-к-нижнему-регистру)-2.1\"><span class=\"toc-item-num\">2.1&nbsp;&nbsp;</span>Замена названия столбцов (приведение к нижнему регистру)</a></span></li><li><span><a href=\"#Заполнение-пропусков-и-изменение-типов\" data-toc-modified-id=\"Заполнение-пропусков-и-изменение-типов-2.2\"><span class=\"toc-item-num\">2.2&nbsp;&nbsp;</span>Заполнение пропусков и изменение типов</a></span></li><li><span><a href=\"#Удаление-дубликатов.\" data-toc-modified-id=\"Удаление-дубликатов.-2.3\"><span class=\"toc-item-num\">2.3&nbsp;&nbsp;</span>Удаление дубликатов.</a></span></li><li><span><a href=\"#Расчеты-и-округления\" data-toc-modified-id=\"Расчеты-и-округления-2.4\"><span class=\"toc-item-num\">2.4&nbsp;&nbsp;</span>Расчеты и округления</a></span></li></ul></li><li><span><a href=\"#Исследовательский-анализ\" data-toc-modified-id=\"Исследовательский-анализ-3\"><span class=\"toc-item-num\">3&nbsp;&nbsp;</span>Исследовательский анализ</a></span><ul class=\"toc-item\"><li><span><a href=\"#Cколько-игр-выпускалось-в-разные-годы.-Важны-ли-данные-за-все-периоды?\" data-toc-modified-id=\"Cколько-игр-выпускалось-в-разные-годы.-Важны-ли-данные-за-все-периоды?-3.1\"><span class=\"toc-item-num\">3.1&nbsp;&nbsp;</span>Cколько игр выпускалось в разные годы. Важны ли данные за все периоды?</a></span></li><li><span><a href=\"#Как-менялись-продажи-по-платформам.-Платформы-с-наибольшими-суммарными-продажами-и-распределение-по-годам\" data-toc-modified-id=\"Как-менялись-продажи-по-платформам.-Платформы-с-наибольшими-суммарными-продажами-и-распределение-по-годам-3.2\"><span class=\"toc-item-num\">3.2&nbsp;&nbsp;</span>Как менялись продажи по платформам. Платформы с наибольшими суммарными продажами и распределение по годам</a></span></li><li><span><a href=\"#Влияние-на-продажи-отзывов-пользователей-и-критиков-по-платформе-PS3\" data-toc-modified-id=\"Влияние-на-продажи-отзывов-пользователей-и-критиков-по-платформе-PS3-3.3\"><span class=\"toc-item-num\">3.3&nbsp;&nbsp;</span>Влияние на продажи отзывов пользователей и критиков по платформе PS3</a></span></li><li><span><a href=\"#Распределение-игр-и-анализ-продаж-по-жанрам\" data-toc-modified-id=\"Распределение-игр-и-анализ-продаж-по-жанрам-3.4\"><span class=\"toc-item-num\">3.4&nbsp;&nbsp;</span>Распределение игр и анализ продаж по жанрам</a></span></li></ul></li><li><span><a href=\"#Портрет-пользователя-каждого-региона\" data-toc-modified-id=\"Портрет-пользователя-каждого-региона-4\"><span class=\"toc-item-num\">4&nbsp;&nbsp;</span>Портрет пользователя каждого региона</a></span><ul class=\"toc-item\"><li><span><a href=\"#Самые-популярные-платформы-(топ-5).-Различия-в-долях-продаж\" data-toc-modified-id=\"Самые-популярные-платформы-(топ-5).-Различия-в-долях-продаж-4.1\"><span class=\"toc-item-num\">4.1&nbsp;&nbsp;</span>Самые популярные платформы (топ-5). Различия в долях продаж</a></span></li><li><span><a href=\"#Самые-популярные-жанры-(топ-5)\" data-toc-modified-id=\"Самые-популярные-жанры-(топ-5)-4.2\"><span class=\"toc-item-num\">4.2&nbsp;&nbsp;</span>Самые популярные жанры (топ-5)</a></span></li><li><span><a href=\"#Влияет-ли-рейтинг-ESRB-на-продажи-в-отдельном-регионе\" data-toc-modified-id=\"Влияет-ли-рейтинг-ESRB-на-продажи-в-отдельном-регионе-4.3\"><span class=\"toc-item-num\">4.3&nbsp;&nbsp;</span>Влияет ли рейтинг ESRB на продажи в отдельном регионе</a></span></li></ul></li><li><span><a href=\"#Проверка-гипотез\" data-toc-modified-id=\"Проверка-гипотез-5\"><span class=\"toc-item-num\">5&nbsp;&nbsp;</span>Проверка гипотез</a></span><ul class=\"toc-item\"><li><span><a href=\"#Cредние-пользовательские-рейтинги-платформ-Xbox-One-и-PC-одинаковые;\" data-toc-modified-id=\"Cредние-пользовательские-рейтинги-платформ-Xbox-One-и-PC-одинаковые;-5.1\"><span class=\"toc-item-num\">5.1&nbsp;&nbsp;</span>Cредние пользовательские рейтинги платформ Xbox One и PC одинаковые;</a></span></li><li><span><a href=\"#Средние-пользовательские-рейтинги-жанров-Action-и-Sports-разные\" data-toc-modified-id=\"Средние-пользовательские-рейтинги-жанров-Action-и-Sports-разные-5.2\"><span class=\"toc-item-num\">5.2&nbsp;&nbsp;</span>Средние пользовательские рейтинги жанров Action и Sports разные</a></span></li></ul></li><li><span><a href=\"#Общий-вывод:\" data-toc-modified-id=\"Общий-вывод:-6\"><span class=\"toc-item-num\">6&nbsp;&nbsp;</span>Общий вывод:</a></span></li></ul></div>"
   ]
  },
  {
   "cell_type": "markdown",
   "id": "ac9f12f1",
   "metadata": {},
   "source": [
    "# Анализ продаж компьютерных игр\n",
    "\n",
    "Из открытых источников доступны исторические данные за 2016 год о продажах игр, оценки пользователей и экспертов, жанры и платформы (например, Xbox или PlayStation). Нужно выявить определяющие успешность игры закономерности. Это позволит сделать ставку на потенциально популярный продукт и спланировать рекламные кампании на 2017 год.\n",
    "\n",
    "**Цель исследования** - проанализировать продажи компьютерных игр и выявить закономерности.\n",
    "\n",
    "**План исследования**:\n",
    "1. Обзор данных\n",
    "2. Предобработка\n",
    "3. Исследовательский анализ данных\n",
    "4. Статистический анализ данных\n",
    "5. Проверка гипотез"
   ]
  },
  {
   "cell_type": "markdown",
   "id": "808c273d",
   "metadata": {},
   "source": [
    "## Обзор данных"
   ]
  },
  {
   "cell_type": "code",
   "execution_count": 1,
   "id": "f50ed5e0",
   "metadata": {
    "scrolled": true
   },
   "outputs": [
    {
     "name": "stdout",
     "output_type": "stream",
     "text": [
      "<class 'pandas.core.frame.DataFrame'>\n",
      "RangeIndex: 16715 entries, 0 to 16714\n",
      "Data columns (total 11 columns):\n",
      " #   Column           Non-Null Count  Dtype  \n",
      "---  ------           --------------  -----  \n",
      " 0   Name             16713 non-null  object \n",
      " 1   Platform         16715 non-null  object \n",
      " 2   Year_of_Release  16446 non-null  float64\n",
      " 3   Genre            16713 non-null  object \n",
      " 4   NA_sales         16715 non-null  float64\n",
      " 5   EU_sales         16715 non-null  float64\n",
      " 6   JP_sales         16715 non-null  float64\n",
      " 7   Other_sales      16715 non-null  float64\n",
      " 8   Critic_Score     8137 non-null   float64\n",
      " 9   User_Score       10014 non-null  object \n",
      " 10  Rating           9949 non-null   object \n",
      "dtypes: float64(6), object(5)\n",
      "memory usage: 1.4+ MB\n"
     ]
    },
    {
     "data": {
      "text/html": [
       "<div>\n",
       "<style scoped>\n",
       "    .dataframe tbody tr th:only-of-type {\n",
       "        vertical-align: middle;\n",
       "    }\n",
       "\n",
       "    .dataframe tbody tr th {\n",
       "        vertical-align: top;\n",
       "    }\n",
       "\n",
       "    .dataframe thead th {\n",
       "        text-align: right;\n",
       "    }\n",
       "</style>\n",
       "<table border=\"1\" class=\"dataframe\">\n",
       "  <thead>\n",
       "    <tr style=\"text-align: right;\">\n",
       "      <th></th>\n",
       "      <th>Name</th>\n",
       "      <th>Platform</th>\n",
       "      <th>Year_of_Release</th>\n",
       "      <th>Genre</th>\n",
       "      <th>NA_sales</th>\n",
       "      <th>EU_sales</th>\n",
       "      <th>JP_sales</th>\n",
       "      <th>Other_sales</th>\n",
       "      <th>Critic_Score</th>\n",
       "      <th>User_Score</th>\n",
       "      <th>Rating</th>\n",
       "    </tr>\n",
       "  </thead>\n",
       "  <tbody>\n",
       "    <tr>\n",
       "      <th>0</th>\n",
       "      <td>Wii Sports</td>\n",
       "      <td>Wii</td>\n",
       "      <td>2006.0</td>\n",
       "      <td>Sports</td>\n",
       "      <td>41.36</td>\n",
       "      <td>28.96</td>\n",
       "      <td>3.77</td>\n",
       "      <td>8.45</td>\n",
       "      <td>76.0</td>\n",
       "      <td>8</td>\n",
       "      <td>E</td>\n",
       "    </tr>\n",
       "    <tr>\n",
       "      <th>1</th>\n",
       "      <td>Super Mario Bros.</td>\n",
       "      <td>NES</td>\n",
       "      <td>1985.0</td>\n",
       "      <td>Platform</td>\n",
       "      <td>29.08</td>\n",
       "      <td>3.58</td>\n",
       "      <td>6.81</td>\n",
       "      <td>0.77</td>\n",
       "      <td>NaN</td>\n",
       "      <td>NaN</td>\n",
       "      <td>NaN</td>\n",
       "    </tr>\n",
       "    <tr>\n",
       "      <th>2</th>\n",
       "      <td>Mario Kart Wii</td>\n",
       "      <td>Wii</td>\n",
       "      <td>2008.0</td>\n",
       "      <td>Racing</td>\n",
       "      <td>15.68</td>\n",
       "      <td>12.76</td>\n",
       "      <td>3.79</td>\n",
       "      <td>3.29</td>\n",
       "      <td>82.0</td>\n",
       "      <td>8.3</td>\n",
       "      <td>E</td>\n",
       "    </tr>\n",
       "    <tr>\n",
       "      <th>3</th>\n",
       "      <td>Wii Sports Resort</td>\n",
       "      <td>Wii</td>\n",
       "      <td>2009.0</td>\n",
       "      <td>Sports</td>\n",
       "      <td>15.61</td>\n",
       "      <td>10.93</td>\n",
       "      <td>3.28</td>\n",
       "      <td>2.95</td>\n",
       "      <td>80.0</td>\n",
       "      <td>8</td>\n",
       "      <td>E</td>\n",
       "    </tr>\n",
       "    <tr>\n",
       "      <th>4</th>\n",
       "      <td>Pokemon Red/Pokemon Blue</td>\n",
       "      <td>GB</td>\n",
       "      <td>1996.0</td>\n",
       "      <td>Role-Playing</td>\n",
       "      <td>11.27</td>\n",
       "      <td>8.89</td>\n",
       "      <td>10.22</td>\n",
       "      <td>1.00</td>\n",
       "      <td>NaN</td>\n",
       "      <td>NaN</td>\n",
       "      <td>NaN</td>\n",
       "    </tr>\n",
       "  </tbody>\n",
       "</table>\n",
       "</div>"
      ],
      "text/plain": [
       "                       Name Platform  Year_of_Release         Genre  NA_sales  \\\n",
       "0                Wii Sports      Wii           2006.0        Sports     41.36   \n",
       "1         Super Mario Bros.      NES           1985.0      Platform     29.08   \n",
       "2            Mario Kart Wii      Wii           2008.0        Racing     15.68   \n",
       "3         Wii Sports Resort      Wii           2009.0        Sports     15.61   \n",
       "4  Pokemon Red/Pokemon Blue       GB           1996.0  Role-Playing     11.27   \n",
       "\n",
       "   EU_sales  JP_sales  Other_sales  Critic_Score User_Score Rating  \n",
       "0     28.96      3.77         8.45          76.0          8      E  \n",
       "1      3.58      6.81         0.77           NaN        NaN    NaN  \n",
       "2     12.76      3.79         3.29          82.0        8.3      E  \n",
       "3     10.93      3.28         2.95          80.0          8      E  \n",
       "4      8.89     10.22         1.00           NaN        NaN    NaN  "
      ]
     },
     "execution_count": 1,
     "metadata": {},
     "output_type": "execute_result"
    }
   ],
   "source": [
    "import pandas as pd\n",
    "import numpy as np\n",
    "import datetime\n",
    "import seaborn as sns\n",
    "from scipy import stats as st\n",
    "import matplotlib.pyplot as plt\n",
    "\n",
    "try:\n",
    "    df = pd.read_csv('games.csv')\n",
    "except:\n",
    "    df = pd.read_csv('/datasets/games.csv')\n",
    "\n",
    "df.info()\n",
    "df.head()"
   ]
  },
  {
   "cell_type": "markdown",
   "id": "4d4ca769",
   "metadata": {},
   "source": [
    "## Предобработка данных."
   ]
  },
  {
   "cell_type": "markdown",
   "id": "21760316",
   "metadata": {},
   "source": [
    "### Замена названия столбцов (приведение к нижнему регистру)\n",
    "Преобразуйте данные в нужные типы. Опишите, в каких столбцах заменили тип данных и почему;\n",
    "Обработайте пропуски при необходимости:\n",
    "Объясните, почему заполнили пропуски определённым образом или почему не стали это делать;\n",
    "Опишите причины, которые могли привести к пропускам;\n",
    "Обратите внимание на аббревиатуру 'tbd' в столбце с оценкой пользователей. Отдельно разберите это значение и опишите, как его обработать;"
   ]
  },
  {
   "cell_type": "code",
   "execution_count": 2,
   "id": "d9cf7649",
   "metadata": {},
   "outputs": [
    {
     "data": {
      "text/html": [
       "<div>\n",
       "<style scoped>\n",
       "    .dataframe tbody tr th:only-of-type {\n",
       "        vertical-align: middle;\n",
       "    }\n",
       "\n",
       "    .dataframe tbody tr th {\n",
       "        vertical-align: top;\n",
       "    }\n",
       "\n",
       "    .dataframe thead th {\n",
       "        text-align: right;\n",
       "    }\n",
       "</style>\n",
       "<table border=\"1\" class=\"dataframe\">\n",
       "  <thead>\n",
       "    <tr style=\"text-align: right;\">\n",
       "      <th></th>\n",
       "      <th>name</th>\n",
       "      <th>platform</th>\n",
       "      <th>year_of_release</th>\n",
       "      <th>genre</th>\n",
       "      <th>na_sales</th>\n",
       "      <th>eu_sales</th>\n",
       "      <th>jp_sales</th>\n",
       "      <th>other_sales</th>\n",
       "      <th>critic_score</th>\n",
       "      <th>user_score</th>\n",
       "      <th>rating</th>\n",
       "    </tr>\n",
       "  </thead>\n",
       "  <tbody>\n",
       "    <tr>\n",
       "      <th>0</th>\n",
       "      <td>Wii Sports</td>\n",
       "      <td>Wii</td>\n",
       "      <td>2006.0</td>\n",
       "      <td>Sports</td>\n",
       "      <td>41.36</td>\n",
       "      <td>28.96</td>\n",
       "      <td>3.77</td>\n",
       "      <td>8.45</td>\n",
       "      <td>76.0</td>\n",
       "      <td>8</td>\n",
       "      <td>E</td>\n",
       "    </tr>\n",
       "    <tr>\n",
       "      <th>1</th>\n",
       "      <td>Super Mario Bros.</td>\n",
       "      <td>NES</td>\n",
       "      <td>1985.0</td>\n",
       "      <td>Platform</td>\n",
       "      <td>29.08</td>\n",
       "      <td>3.58</td>\n",
       "      <td>6.81</td>\n",
       "      <td>0.77</td>\n",
       "      <td>NaN</td>\n",
       "      <td>NaN</td>\n",
       "      <td>NaN</td>\n",
       "    </tr>\n",
       "    <tr>\n",
       "      <th>2</th>\n",
       "      <td>Mario Kart Wii</td>\n",
       "      <td>Wii</td>\n",
       "      <td>2008.0</td>\n",
       "      <td>Racing</td>\n",
       "      <td>15.68</td>\n",
       "      <td>12.76</td>\n",
       "      <td>3.79</td>\n",
       "      <td>3.29</td>\n",
       "      <td>82.0</td>\n",
       "      <td>8.3</td>\n",
       "      <td>E</td>\n",
       "    </tr>\n",
       "    <tr>\n",
       "      <th>3</th>\n",
       "      <td>Wii Sports Resort</td>\n",
       "      <td>Wii</td>\n",
       "      <td>2009.0</td>\n",
       "      <td>Sports</td>\n",
       "      <td>15.61</td>\n",
       "      <td>10.93</td>\n",
       "      <td>3.28</td>\n",
       "      <td>2.95</td>\n",
       "      <td>80.0</td>\n",
       "      <td>8</td>\n",
       "      <td>E</td>\n",
       "    </tr>\n",
       "    <tr>\n",
       "      <th>4</th>\n",
       "      <td>Pokemon Red/Pokemon Blue</td>\n",
       "      <td>GB</td>\n",
       "      <td>1996.0</td>\n",
       "      <td>Role-Playing</td>\n",
       "      <td>11.27</td>\n",
       "      <td>8.89</td>\n",
       "      <td>10.22</td>\n",
       "      <td>1.00</td>\n",
       "      <td>NaN</td>\n",
       "      <td>NaN</td>\n",
       "      <td>NaN</td>\n",
       "    </tr>\n",
       "    <tr>\n",
       "      <th>...</th>\n",
       "      <td>...</td>\n",
       "      <td>...</td>\n",
       "      <td>...</td>\n",
       "      <td>...</td>\n",
       "      <td>...</td>\n",
       "      <td>...</td>\n",
       "      <td>...</td>\n",
       "      <td>...</td>\n",
       "      <td>...</td>\n",
       "      <td>...</td>\n",
       "      <td>...</td>\n",
       "    </tr>\n",
       "    <tr>\n",
       "      <th>16710</th>\n",
       "      <td>Samurai Warriors: Sanada Maru</td>\n",
       "      <td>PS3</td>\n",
       "      <td>2016.0</td>\n",
       "      <td>Action</td>\n",
       "      <td>0.00</td>\n",
       "      <td>0.00</td>\n",
       "      <td>0.01</td>\n",
       "      <td>0.00</td>\n",
       "      <td>NaN</td>\n",
       "      <td>NaN</td>\n",
       "      <td>NaN</td>\n",
       "    </tr>\n",
       "    <tr>\n",
       "      <th>16711</th>\n",
       "      <td>LMA Manager 2007</td>\n",
       "      <td>X360</td>\n",
       "      <td>2006.0</td>\n",
       "      <td>Sports</td>\n",
       "      <td>0.00</td>\n",
       "      <td>0.01</td>\n",
       "      <td>0.00</td>\n",
       "      <td>0.00</td>\n",
       "      <td>NaN</td>\n",
       "      <td>NaN</td>\n",
       "      <td>NaN</td>\n",
       "    </tr>\n",
       "    <tr>\n",
       "      <th>16712</th>\n",
       "      <td>Haitaka no Psychedelica</td>\n",
       "      <td>PSV</td>\n",
       "      <td>2016.0</td>\n",
       "      <td>Adventure</td>\n",
       "      <td>0.00</td>\n",
       "      <td>0.00</td>\n",
       "      <td>0.01</td>\n",
       "      <td>0.00</td>\n",
       "      <td>NaN</td>\n",
       "      <td>NaN</td>\n",
       "      <td>NaN</td>\n",
       "    </tr>\n",
       "    <tr>\n",
       "      <th>16713</th>\n",
       "      <td>Spirits &amp; Spells</td>\n",
       "      <td>GBA</td>\n",
       "      <td>2003.0</td>\n",
       "      <td>Platform</td>\n",
       "      <td>0.01</td>\n",
       "      <td>0.00</td>\n",
       "      <td>0.00</td>\n",
       "      <td>0.00</td>\n",
       "      <td>NaN</td>\n",
       "      <td>NaN</td>\n",
       "      <td>NaN</td>\n",
       "    </tr>\n",
       "    <tr>\n",
       "      <th>16714</th>\n",
       "      <td>Winning Post 8 2016</td>\n",
       "      <td>PSV</td>\n",
       "      <td>2016.0</td>\n",
       "      <td>Simulation</td>\n",
       "      <td>0.00</td>\n",
       "      <td>0.00</td>\n",
       "      <td>0.01</td>\n",
       "      <td>0.00</td>\n",
       "      <td>NaN</td>\n",
       "      <td>NaN</td>\n",
       "      <td>NaN</td>\n",
       "    </tr>\n",
       "  </tbody>\n",
       "</table>\n",
       "<p>16715 rows × 11 columns</p>\n",
       "</div>"
      ],
      "text/plain": [
       "                                name platform  year_of_release         genre  \\\n",
       "0                         Wii Sports      Wii           2006.0        Sports   \n",
       "1                  Super Mario Bros.      NES           1985.0      Platform   \n",
       "2                     Mario Kart Wii      Wii           2008.0        Racing   \n",
       "3                  Wii Sports Resort      Wii           2009.0        Sports   \n",
       "4           Pokemon Red/Pokemon Blue       GB           1996.0  Role-Playing   \n",
       "...                              ...      ...              ...           ...   \n",
       "16710  Samurai Warriors: Sanada Maru      PS3           2016.0        Action   \n",
       "16711               LMA Manager 2007     X360           2006.0        Sports   \n",
       "16712        Haitaka no Psychedelica      PSV           2016.0     Adventure   \n",
       "16713               Spirits & Spells      GBA           2003.0      Platform   \n",
       "16714            Winning Post 8 2016      PSV           2016.0    Simulation   \n",
       "\n",
       "       na_sales  eu_sales  jp_sales  other_sales  critic_score user_score  \\\n",
       "0         41.36     28.96      3.77         8.45          76.0          8   \n",
       "1         29.08      3.58      6.81         0.77           NaN        NaN   \n",
       "2         15.68     12.76      3.79         3.29          82.0        8.3   \n",
       "3         15.61     10.93      3.28         2.95          80.0          8   \n",
       "4         11.27      8.89     10.22         1.00           NaN        NaN   \n",
       "...         ...       ...       ...          ...           ...        ...   \n",
       "16710      0.00      0.00      0.01         0.00           NaN        NaN   \n",
       "16711      0.00      0.01      0.00         0.00           NaN        NaN   \n",
       "16712      0.00      0.00      0.01         0.00           NaN        NaN   \n",
       "16713      0.01      0.00      0.00         0.00           NaN        NaN   \n",
       "16714      0.00      0.00      0.01         0.00           NaN        NaN   \n",
       "\n",
       "      rating  \n",
       "0          E  \n",
       "1        NaN  \n",
       "2          E  \n",
       "3          E  \n",
       "4        NaN  \n",
       "...      ...  \n",
       "16710    NaN  \n",
       "16711    NaN  \n",
       "16712    NaN  \n",
       "16713    NaN  \n",
       "16714    NaN  \n",
       "\n",
       "[16715 rows x 11 columns]"
      ]
     },
     "execution_count": 2,
     "metadata": {},
     "output_type": "execute_result"
    }
   ],
   "source": [
    "df.columns= df.columns.str.lower()\n",
    "df"
   ]
  },
  {
   "cell_type": "markdown",
   "id": "8d60b5bc",
   "metadata": {},
   "source": [
    "### Заполнение пропусков и изменение типов"
   ]
  },
  {
   "cell_type": "code",
   "execution_count": 3,
   "id": "8580f1a3",
   "metadata": {
    "scrolled": false
   },
   "outputs": [
    {
     "data": {
      "text/plain": [
       "critic_score       0.513192\n",
       "rating             0.404786\n",
       "user_score         0.400897\n",
       "year_of_release    0.016093\n",
       "name               0.000120\n",
       "genre              0.000120\n",
       "platform           0.000000\n",
       "na_sales           0.000000\n",
       "eu_sales           0.000000\n",
       "jp_sales           0.000000\n",
       "other_sales        0.000000\n",
       "dtype: float64"
      ]
     },
     "metadata": {},
     "output_type": "display_data"
    },
    {
     "data": {
      "image/png": "[encoded data removed]",
      "text/plain": [
       "<Figure size 1368x432 with 1 Axes>"
      ]
     },
     "metadata": {
      "needs_background": "light"
     },
     "output_type": "display_data"
    }
   ],
   "source": [
    "display(df.isna().mean().sort_values(ascending=False))\n",
    "def pass_value_barh(df):\n",
    "    (\n",
    "        (df.isna().mean()*100)\n",
    "        .to_frame()\n",
    "        .rename(columns = {0:'space'})\n",
    "        .query('space > 0')\n",
    "        .sort_values(by = 'space', ascending = True)\n",
    "        .plot(kind= 'barh', figsize=(19,6), rot = -5, legend = False, fontsize = 16)\n",
    "        .set_title('Процент пропусков' + \"\\n\", fontsize = 22, color = 'SteelBlue')    \n",
    "    );  \n",
    "pass_value_barh(df)"
   ]
  },
  {
   "cell_type": "markdown",
   "id": "08053bc2",
   "metadata": {},
   "source": [
    "Видно пропуски в шести колонках, их причиной могут быть то, что данные получены из нескольких источников и при соденении какие-то значения в некоторых источниках отсутствовали.\n",
    "\n",
    "Пропуски заполняем следующим образом:\n",
    "\n",
    "1. critic_score : пропусков довольно много (~50%), величина являются случайной и независимой.Оставляем пропуски\n",
    "2. rating : пропусков довольно много,заполним значением 'unknown'\n",
    "3. user_score :  пропусков довольно много (~40%), величина являются случайной и независимой.Оставляем пропуски\n",
    "4. year_of_release_y : заполним данными из других строк с теми же играми. Остальное заполним нулями, т.к. это категориальное значение и расчета среднего по нему не будет, тип поменяем на int  \n",
    "5. genre : значением 'unknown', т.к. даже если неизвестен жанр игры, данные могут понадобиться для анализа\n",
    "6. name : значением 'unknown', т.к. даже если неизвестно имя игры, данные могут понадобиться для анализа"
   ]
  },
  {
   "cell_type": "markdown",
   "id": "1256c33c",
   "metadata": {},
   "source": [
    "Посмотрим на строки со значением 'tbd' в колонке `user_score`, возможно, они связаны с `critic_score`"
   ]
  },
  {
   "cell_type": "code",
   "execution_count": 4,
   "id": "64ed976e",
   "metadata": {},
   "outputs": [
    {
     "data": {
      "text/html": [
       "<div>\n",
       "<style scoped>\n",
       "    .dataframe tbody tr th:only-of-type {\n",
       "        vertical-align: middle;\n",
       "    }\n",
       "\n",
       "    .dataframe tbody tr th {\n",
       "        vertical-align: top;\n",
       "    }\n",
       "\n",
       "    .dataframe thead th {\n",
       "        text-align: right;\n",
       "    }\n",
       "</style>\n",
       "<table border=\"1\" class=\"dataframe\">\n",
       "  <thead>\n",
       "    <tr style=\"text-align: right;\">\n",
       "      <th></th>\n",
       "      <th>name</th>\n",
       "      <th>platform</th>\n",
       "      <th>year_of_release</th>\n",
       "      <th>genre</th>\n",
       "      <th>na_sales</th>\n",
       "      <th>eu_sales</th>\n",
       "      <th>jp_sales</th>\n",
       "      <th>other_sales</th>\n",
       "      <th>critic_score</th>\n",
       "      <th>user_score</th>\n",
       "      <th>rating</th>\n",
       "    </tr>\n",
       "  </thead>\n",
       "  <tbody>\n",
       "    <tr>\n",
       "      <th>15030</th>\n",
       "      <td>Let's Dance with Mel B</td>\n",
       "      <td>Wii</td>\n",
       "      <td>2011.0</td>\n",
       "      <td>Sports</td>\n",
       "      <td>0.00</td>\n",
       "      <td>0.02</td>\n",
       "      <td>0.0</td>\n",
       "      <td>0.00</td>\n",
       "      <td>NaN</td>\n",
       "      <td>tbd</td>\n",
       "      <td>T</td>\n",
       "    </tr>\n",
       "    <tr>\n",
       "      <th>2330</th>\n",
       "      <td>TouchMaster 2</td>\n",
       "      <td>DS</td>\n",
       "      <td>2008.0</td>\n",
       "      <td>Puzzle</td>\n",
       "      <td>0.30</td>\n",
       "      <td>0.49</td>\n",
       "      <td>0.0</td>\n",
       "      <td>0.10</td>\n",
       "      <td>76.0</td>\n",
       "      <td>tbd</td>\n",
       "      <td>E</td>\n",
       "    </tr>\n",
       "    <tr>\n",
       "      <th>14553</th>\n",
       "      <td>Ducati World Racing Challenge</td>\n",
       "      <td>PS</td>\n",
       "      <td>2001.0</td>\n",
       "      <td>Racing</td>\n",
       "      <td>0.02</td>\n",
       "      <td>0.01</td>\n",
       "      <td>0.0</td>\n",
       "      <td>0.00</td>\n",
       "      <td>68.0</td>\n",
       "      <td>tbd</td>\n",
       "      <td>E</td>\n",
       "    </tr>\n",
       "    <tr>\n",
       "      <th>8660</th>\n",
       "      <td>Rudolph the Red-Nosed Reindeer</td>\n",
       "      <td>DS</td>\n",
       "      <td>2010.0</td>\n",
       "      <td>Action</td>\n",
       "      <td>0.15</td>\n",
       "      <td>0.00</td>\n",
       "      <td>0.0</td>\n",
       "      <td>0.01</td>\n",
       "      <td>NaN</td>\n",
       "      <td>tbd</td>\n",
       "      <td>E</td>\n",
       "    </tr>\n",
       "    <tr>\n",
       "      <th>5944</th>\n",
       "      <td>Phineas and Ferb Ride Again</td>\n",
       "      <td>DS</td>\n",
       "      <td>2010.0</td>\n",
       "      <td>Action</td>\n",
       "      <td>0.24</td>\n",
       "      <td>0.03</td>\n",
       "      <td>0.0</td>\n",
       "      <td>0.02</td>\n",
       "      <td>NaN</td>\n",
       "      <td>tbd</td>\n",
       "      <td>E</td>\n",
       "    </tr>\n",
       "    <tr>\n",
       "      <th>11968</th>\n",
       "      <td>Let's Paint</td>\n",
       "      <td>Wii</td>\n",
       "      <td>2010.0</td>\n",
       "      <td>Simulation</td>\n",
       "      <td>0.07</td>\n",
       "      <td>0.00</td>\n",
       "      <td>0.0</td>\n",
       "      <td>0.00</td>\n",
       "      <td>NaN</td>\n",
       "      <td>tbd</td>\n",
       "      <td>E</td>\n",
       "    </tr>\n",
       "    <tr>\n",
       "      <th>8558</th>\n",
       "      <td>Namco Classic Fighter Collection</td>\n",
       "      <td>PS2</td>\n",
       "      <td>2008.0</td>\n",
       "      <td>Fighting</td>\n",
       "      <td>0.08</td>\n",
       "      <td>0.06</td>\n",
       "      <td>0.0</td>\n",
       "      <td>0.02</td>\n",
       "      <td>NaN</td>\n",
       "      <td>tbd</td>\n",
       "      <td>T</td>\n",
       "    </tr>\n",
       "    <tr>\n",
       "      <th>10574</th>\n",
       "      <td>SimAnimals Africa</td>\n",
       "      <td>DS</td>\n",
       "      <td>2009.0</td>\n",
       "      <td>Simulation</td>\n",
       "      <td>0.08</td>\n",
       "      <td>0.02</td>\n",
       "      <td>0.0</td>\n",
       "      <td>0.01</td>\n",
       "      <td>NaN</td>\n",
       "      <td>tbd</td>\n",
       "      <td>E</td>\n",
       "    </tr>\n",
       "    <tr>\n",
       "      <th>8176</th>\n",
       "      <td>ESPN X Games Skateboarding</td>\n",
       "      <td>GBA</td>\n",
       "      <td>2001.0</td>\n",
       "      <td>Sports</td>\n",
       "      <td>0.13</td>\n",
       "      <td>0.05</td>\n",
       "      <td>0.0</td>\n",
       "      <td>0.00</td>\n",
       "      <td>NaN</td>\n",
       "      <td>tbd</td>\n",
       "      <td>E</td>\n",
       "    </tr>\n",
       "    <tr>\n",
       "      <th>10210</th>\n",
       "      <td>Grease</td>\n",
       "      <td>DS</td>\n",
       "      <td>2010.0</td>\n",
       "      <td>Misc</td>\n",
       "      <td>0.10</td>\n",
       "      <td>0.00</td>\n",
       "      <td>0.0</td>\n",
       "      <td>0.01</td>\n",
       "      <td>NaN</td>\n",
       "      <td>tbd</td>\n",
       "      <td>E10+</td>\n",
       "    </tr>\n",
       "  </tbody>\n",
       "</table>\n",
       "</div>"
      ],
      "text/plain": [
       "                                   name platform  year_of_release       genre  \\\n",
       "15030            Let's Dance with Mel B      Wii           2011.0      Sports   \n",
       "2330                      TouchMaster 2       DS           2008.0      Puzzle   \n",
       "14553     Ducati World Racing Challenge       PS           2001.0      Racing   \n",
       "8660     Rudolph the Red-Nosed Reindeer       DS           2010.0      Action   \n",
       "5944        Phineas and Ferb Ride Again       DS           2010.0      Action   \n",
       "11968                       Let's Paint      Wii           2010.0  Simulation   \n",
       "8558   Namco Classic Fighter Collection      PS2           2008.0    Fighting   \n",
       "10574                 SimAnimals Africa       DS           2009.0  Simulation   \n",
       "8176         ESPN X Games Skateboarding      GBA           2001.0      Sports   \n",
       "10210                            Grease       DS           2010.0        Misc   \n",
       "\n",
       "       na_sales  eu_sales  jp_sales  other_sales  critic_score user_score  \\\n",
       "15030      0.00      0.02       0.0         0.00           NaN        tbd   \n",
       "2330       0.30      0.49       0.0         0.10          76.0        tbd   \n",
       "14553      0.02      0.01       0.0         0.00          68.0        tbd   \n",
       "8660       0.15      0.00       0.0         0.01           NaN        tbd   \n",
       "5944       0.24      0.03       0.0         0.02           NaN        tbd   \n",
       "11968      0.07      0.00       0.0         0.00           NaN        tbd   \n",
       "8558       0.08      0.06       0.0         0.02           NaN        tbd   \n",
       "10574      0.08      0.02       0.0         0.01           NaN        tbd   \n",
       "8176       0.13      0.05       0.0         0.00           NaN        tbd   \n",
       "10210      0.10      0.00       0.0         0.01           NaN        tbd   \n",
       "\n",
       "      rating  \n",
       "15030      T  \n",
       "2330       E  \n",
       "14553      E  \n",
       "8660       E  \n",
       "5944       E  \n",
       "11968      E  \n",
       "8558       T  \n",
       "10574      E  \n",
       "8176       E  \n",
       "10210   E10+  "
      ]
     },
     "metadata": {},
     "output_type": "display_data"
    },
    {
     "data": {
      "text/plain": [
       "<AxesSubplot:>"
      ]
     },
     "execution_count": 4,
     "metadata": {},
     "output_type": "execute_result"
    },
    {
     "data": {
      "image/png": "[encoded data removed]",
      "text/plain": [
       "<Figure size 432x288 with 1 Axes>"
      ]
     },
     "metadata": {
      "needs_background": "light"
     },
     "output_type": "display_data"
    }
   ],
   "source": [
    "display(df[df.user_score == 'tbd'].sample(10))\n",
    "df[df.user_score == 'tbd']['critic_score'].hist(bins=50)"
   ]
  },
  {
   "cell_type": "code",
   "execution_count": 5,
   "id": "2292a886",
   "metadata": {
    "scrolled": true
   },
   "outputs": [
    {
     "name": "stdout",
     "output_type": "stream",
     "text": [
      "<class 'pandas.core.frame.DataFrame'>\n",
      "RangeIndex: 16715 entries, 0 to 16714\n",
      "Data columns (total 11 columns):\n",
      " #   Column           Non-Null Count  Dtype  \n",
      "---  ------           --------------  -----  \n",
      " 0   name             16713 non-null  object \n",
      " 1   platform         16715 non-null  object \n",
      " 2   year_of_release  16446 non-null  float64\n",
      " 3   genre            16713 non-null  object \n",
      " 4   na_sales         16715 non-null  float64\n",
      " 5   eu_sales         16715 non-null  float64\n",
      " 6   jp_sales         16715 non-null  float64\n",
      " 7   other_sales      16715 non-null  float64\n",
      " 8   critic_score     8137 non-null   float64\n",
      " 9   user_score       10014 non-null  float64\n",
      " 10  rating           16715 non-null  object \n",
      "dtypes: float64(7), object(4)\n",
      "memory usage: 1.4+ MB\n"
     ]
    }
   ],
   "source": [
    "#df.critic_score.fillna(df.critic_score.median(), inplace=True)\n",
    "df.rating.fillna('unknown', inplace=True)\n",
    "df.user_score = df.user_score.str.replace('tbd', '0')\n",
    "\n",
    "df.user_score = df.user_score.astype(float)\n",
    "#df.user_score.fillna(df.user_score.median(), inplace=True)\n",
    "df.info()"
   ]
  },
  {
   "cell_type": "code",
   "execution_count": 6,
   "id": "05019213",
   "metadata": {},
   "outputs": [
    {
     "data": {
      "text/plain": [
       "2"
      ]
     },
     "execution_count": 6,
     "metadata": {},
     "output_type": "execute_result"
    }
   ],
   "source": [
    "df1=pd.DataFrame(data=[[1,2],[3,4]], columns={'A', 'B'})\n",
    "df1.loc[0,'B']"
   ]
  },
  {
   "cell_type": "code",
   "execution_count": 7,
   "id": "b1a53d93",
   "metadata": {},
   "outputs": [
    {
     "data": {
      "text/plain": [
       "269"
      ]
     },
     "metadata": {},
     "output_type": "display_data"
    },
    {
     "data": {
      "text/plain": [
       "146"
      ]
     },
     "metadata": {},
     "output_type": "display_data"
    },
    {
     "data": {
      "text/plain": [
       "0"
      ]
     },
     "metadata": {},
     "output_type": "display_data"
    },
    {
     "name": "stdout",
     "output_type": "stream",
     "text": [
      "<class 'pandas.core.frame.DataFrame'>\n",
      "RangeIndex: 16715 entries, 0 to 16714\n",
      "Data columns (total 11 columns):\n",
      " #   Column           Non-Null Count  Dtype  \n",
      "---  ------           --------------  -----  \n",
      " 0   name             16715 non-null  object \n",
      " 1   platform         16715 non-null  object \n",
      " 2   year_of_release  16715 non-null  int64  \n",
      " 3   genre            16713 non-null  object \n",
      " 4   na_sales         16715 non-null  float64\n",
      " 5   eu_sales         16715 non-null  float64\n",
      " 6   jp_sales         16715 non-null  float64\n",
      " 7   other_sales      16715 non-null  float64\n",
      " 8   critic_score     8137 non-null   float64\n",
      " 9   user_score       10014 non-null  float64\n",
      " 10  rating           16715 non-null  object \n",
      "dtypes: float64(6), int64(1), object(4)\n",
      "memory usage: 1.4+ MB\n"
     ]
    }
   ],
   "source": [
    "df.name.fillna('unknown', inplace=True)\n",
    "\n",
    "display(len(df[df.year_of_release.isna()]))\n",
    "\n",
    "\"\"\"\n",
    "#Для заполнения пропущенного года формируем таблицу с названиями игр и заполненным годом\n",
    "df_years = (df\n",
    "            .loc[~df.year_of_release.isna(), ['name', 'year_of_release']]\n",
    "            .groupby(['name'])\n",
    "            .agg('first')\n",
    "            .reset_index()\n",
    "            .drop_duplicates()          \n",
    "           )\n",
    "display(df_years)\n",
    "df_years_na = (df\n",
    "            .loc[df.year_of_release.isna(), ['name', 'year_of_release']]\n",
    "            .groupby(['name'])\n",
    "            .agg('first')\n",
    "            .reset_index()\n",
    "            .drop_duplicates()\n",
    "           )\n",
    "display(df_years_na)\n",
    "intersect = set(df_years.name).intersection(set(df_years_na.name))\n",
    "display(intersect)\n",
    "\n",
    "#Видим, что в строках с незаполненным годом  есть игры, год выпуска по короторым стоит в других строках датасета\n",
    "#Заполняем из колонки, в которой есть год выпуска по этим играм\n",
    "\n",
    "df = df.merge(df_years, on='name', how='left')\n",
    "df.year_of_release_x.fillna(df.year_of_release_y, inplace=True)\n",
    "df.rename(columns={'year_of_release_x' : 'year_of_release'}, inplace=True)        \n",
    "df.drop('year_of_release_y', axis=1, inplace=True)        \n",
    "\"\"\"\n",
    "\n",
    "#Пробуем через функцию и apply\n",
    "def fill_year_of_release(row):\n",
    "    if np.isnan(row['year_of_release']):\n",
    "        not_na_rows = df[(df['name'] == row['name']) & (~np.isnan(df['year_of_release']))]  \n",
    "        not_na_rows.reset_index(drop=True, inplace=True)\n",
    "        #Найдены строки с этими же играми, где год выпуска заполнен\n",
    "        if len(not_na_rows) > 0:\n",
    "            return not_na_rows.loc[0, 'year_of_release']\n",
    "    else:\n",
    "        return row['year_of_release']\n",
    "        \n",
    "df['year_of_release'] = df.apply(fill_year_of_release, axis=1)\n",
    "\n",
    "display(len(df[df.year_of_release.isna()]))\n",
    "#Осталось 146 строк с пустым значением года, заполним нулями\n",
    "df.year_of_release.fillna(0, inplace=True)\n",
    "display(len(df[df.year_of_release.isna()]))\n",
    "df.year_of_release = df.year_of_release.astype(int)\n",
    "\n",
    "df.info()\n"
   ]
  },
  {
   "cell_type": "markdown",
   "id": "44930a87",
   "metadata": {},
   "source": [
    "### Удаление дубликатов.\n",
    "Можно удалить только явные, т.к. неявных здесь быть не может"
   ]
  },
  {
   "cell_type": "code",
   "execution_count": 8,
   "id": "9080d425",
   "metadata": {},
   "outputs": [
    {
     "data": {
      "text/html": [
       "<div>\n",
       "<style scoped>\n",
       "    .dataframe tbody tr th:only-of-type {\n",
       "        vertical-align: middle;\n",
       "    }\n",
       "\n",
       "    .dataframe tbody tr th {\n",
       "        vertical-align: top;\n",
       "    }\n",
       "\n",
       "    .dataframe thead th {\n",
       "        text-align: right;\n",
       "    }\n",
       "</style>\n",
       "<table border=\"1\" class=\"dataframe\">\n",
       "  <thead>\n",
       "    <tr style=\"text-align: right;\">\n",
       "      <th></th>\n",
       "      <th>name</th>\n",
       "      <th>platform</th>\n",
       "      <th>year_of_release</th>\n",
       "      <th>genre</th>\n",
       "      <th>na_sales</th>\n",
       "      <th>eu_sales</th>\n",
       "      <th>jp_sales</th>\n",
       "      <th>other_sales</th>\n",
       "      <th>critic_score</th>\n",
       "      <th>user_score</th>\n",
       "      <th>rating</th>\n",
       "    </tr>\n",
       "  </thead>\n",
       "  <tbody>\n",
       "    <tr>\n",
       "      <th>23</th>\n",
       "      <td>Grand Theft Auto V</td>\n",
       "      <td>X360</td>\n",
       "      <td>2013</td>\n",
       "      <td>Action</td>\n",
       "      <td>9.66</td>\n",
       "      <td>5.14</td>\n",
       "      <td>0.06</td>\n",
       "      <td>1.41</td>\n",
       "      <td>97.0</td>\n",
       "      <td>8.1</td>\n",
       "      <td>M</td>\n",
       "    </tr>\n",
       "    <tr>\n",
       "      <th>35</th>\n",
       "      <td>Call of Duty: Black Ops II</td>\n",
       "      <td>X360</td>\n",
       "      <td>2012</td>\n",
       "      <td>Shooter</td>\n",
       "      <td>8.25</td>\n",
       "      <td>4.24</td>\n",
       "      <td>0.07</td>\n",
       "      <td>1.12</td>\n",
       "      <td>83.0</td>\n",
       "      <td>4.8</td>\n",
       "      <td>M</td>\n",
       "    </tr>\n",
       "    <tr>\n",
       "      <th>37</th>\n",
       "      <td>Call of Duty: Modern Warfare 3</td>\n",
       "      <td>PS3</td>\n",
       "      <td>2011</td>\n",
       "      <td>Shooter</td>\n",
       "      <td>5.54</td>\n",
       "      <td>5.73</td>\n",
       "      <td>0.49</td>\n",
       "      <td>1.57</td>\n",
       "      <td>88.0</td>\n",
       "      <td>3.2</td>\n",
       "      <td>M</td>\n",
       "    </tr>\n",
       "    <tr>\n",
       "      <th>41</th>\n",
       "      <td>Call of Duty: Black Ops</td>\n",
       "      <td>PS3</td>\n",
       "      <td>2010</td>\n",
       "      <td>Shooter</td>\n",
       "      <td>5.99</td>\n",
       "      <td>4.37</td>\n",
       "      <td>0.48</td>\n",
       "      <td>1.79</td>\n",
       "      <td>88.0</td>\n",
       "      <td>6.4</td>\n",
       "      <td>M</td>\n",
       "    </tr>\n",
       "    <tr>\n",
       "      <th>42</th>\n",
       "      <td>Grand Theft Auto V</td>\n",
       "      <td>PS4</td>\n",
       "      <td>2014</td>\n",
       "      <td>Action</td>\n",
       "      <td>3.96</td>\n",
       "      <td>6.31</td>\n",
       "      <td>0.38</td>\n",
       "      <td>1.97</td>\n",
       "      <td>97.0</td>\n",
       "      <td>8.3</td>\n",
       "      <td>M</td>\n",
       "    </tr>\n",
       "    <tr>\n",
       "      <th>...</th>\n",
       "      <td>...</td>\n",
       "      <td>...</td>\n",
       "      <td>...</td>\n",
       "      <td>...</td>\n",
       "      <td>...</td>\n",
       "      <td>...</td>\n",
       "      <td>...</td>\n",
       "      <td>...</td>\n",
       "      <td>...</td>\n",
       "      <td>...</td>\n",
       "      <td>...</td>\n",
       "    </tr>\n",
       "    <tr>\n",
       "      <th>16706</th>\n",
       "      <td>Men in Black II: Alien Escape</td>\n",
       "      <td>GC</td>\n",
       "      <td>2003</td>\n",
       "      <td>Shooter</td>\n",
       "      <td>0.01</td>\n",
       "      <td>0.00</td>\n",
       "      <td>0.00</td>\n",
       "      <td>0.00</td>\n",
       "      <td>NaN</td>\n",
       "      <td>0.0</td>\n",
       "      <td>T</td>\n",
       "    </tr>\n",
       "    <tr>\n",
       "      <th>16709</th>\n",
       "      <td>SCORE International Baja 1000: The Official Game</td>\n",
       "      <td>PS2</td>\n",
       "      <td>2008</td>\n",
       "      <td>Racing</td>\n",
       "      <td>0.00</td>\n",
       "      <td>0.00</td>\n",
       "      <td>0.00</td>\n",
       "      <td>0.00</td>\n",
       "      <td>NaN</td>\n",
       "      <td>NaN</td>\n",
       "      <td>unknown</td>\n",
       "    </tr>\n",
       "    <tr>\n",
       "      <th>16710</th>\n",
       "      <td>Samurai Warriors: Sanada Maru</td>\n",
       "      <td>PS3</td>\n",
       "      <td>2016</td>\n",
       "      <td>Action</td>\n",
       "      <td>0.00</td>\n",
       "      <td>0.00</td>\n",
       "      <td>0.01</td>\n",
       "      <td>0.00</td>\n",
       "      <td>NaN</td>\n",
       "      <td>NaN</td>\n",
       "      <td>unknown</td>\n",
       "    </tr>\n",
       "    <tr>\n",
       "      <th>16713</th>\n",
       "      <td>Spirits &amp; Spells</td>\n",
       "      <td>GBA</td>\n",
       "      <td>2003</td>\n",
       "      <td>Platform</td>\n",
       "      <td>0.01</td>\n",
       "      <td>0.00</td>\n",
       "      <td>0.00</td>\n",
       "      <td>0.00</td>\n",
       "      <td>NaN</td>\n",
       "      <td>NaN</td>\n",
       "      <td>unknown</td>\n",
       "    </tr>\n",
       "    <tr>\n",
       "      <th>16714</th>\n",
       "      <td>Winning Post 8 2016</td>\n",
       "      <td>PSV</td>\n",
       "      <td>2016</td>\n",
       "      <td>Simulation</td>\n",
       "      <td>0.00</td>\n",
       "      <td>0.00</td>\n",
       "      <td>0.01</td>\n",
       "      <td>0.00</td>\n",
       "      <td>NaN</td>\n",
       "      <td>NaN</td>\n",
       "      <td>unknown</td>\n",
       "    </tr>\n",
       "  </tbody>\n",
       "</table>\n",
       "<p>5155 rows × 11 columns</p>\n",
       "</div>"
      ],
      "text/plain": [
       "                                                   name platform  \\\n",
       "23                                   Grand Theft Auto V     X360   \n",
       "35                           Call of Duty: Black Ops II     X360   \n",
       "37                       Call of Duty: Modern Warfare 3      PS3   \n",
       "41                              Call of Duty: Black Ops      PS3   \n",
       "42                                   Grand Theft Auto V      PS4   \n",
       "...                                                 ...      ...   \n",
       "16706                     Men in Black II: Alien Escape       GC   \n",
       "16709  SCORE International Baja 1000: The Official Game      PS2   \n",
       "16710                     Samurai Warriors: Sanada Maru      PS3   \n",
       "16713                                  Spirits & Spells      GBA   \n",
       "16714                               Winning Post 8 2016      PSV   \n",
       "\n",
       "       year_of_release       genre  na_sales  eu_sales  jp_sales  other_sales  \\\n",
       "23                2013      Action      9.66      5.14      0.06         1.41   \n",
       "35                2012     Shooter      8.25      4.24      0.07         1.12   \n",
       "37                2011     Shooter      5.54      5.73      0.49         1.57   \n",
       "41                2010     Shooter      5.99      4.37      0.48         1.79   \n",
       "42                2014      Action      3.96      6.31      0.38         1.97   \n",
       "...                ...         ...       ...       ...       ...          ...   \n",
       "16706             2003     Shooter      0.01      0.00      0.00         0.00   \n",
       "16709             2008      Racing      0.00      0.00      0.00         0.00   \n",
       "16710             2016      Action      0.00      0.00      0.01         0.00   \n",
       "16713             2003    Platform      0.01      0.00      0.00         0.00   \n",
       "16714             2016  Simulation      0.00      0.00      0.01         0.00   \n",
       "\n",
       "       critic_score  user_score   rating  \n",
       "23             97.0         8.1        M  \n",
       "35             83.0         4.8        M  \n",
       "37             88.0         3.2        M  \n",
       "41             88.0         6.4        M  \n",
       "42             97.0         8.3        M  \n",
       "...             ...         ...      ...  \n",
       "16706           NaN         0.0        T  \n",
       "16709           NaN         NaN  unknown  \n",
       "16710           NaN         NaN  unknown  \n",
       "16713           NaN         NaN  unknown  \n",
       "16714           NaN         NaN  unknown  \n",
       "\n",
       "[5155 rows x 11 columns]"
      ]
     },
     "execution_count": 8,
     "metadata": {},
     "output_type": "execute_result"
    }
   ],
   "source": [
    "df[df.duplicated('name')]"
   ]
  },
  {
   "cell_type": "code",
   "execution_count": 9,
   "id": "30906149",
   "metadata": {},
   "outputs": [],
   "source": [
    "df.drop_duplicates(inplace=True)"
   ]
  },
  {
   "cell_type": "markdown",
   "id": "c93059d5",
   "metadata": {},
   "source": [
    "### Расчеты и округления\n",
    "\n",
    "Считаем суммарные продажи во всех регионах и записываем их в отдельный столбец."
   ]
  },
  {
   "cell_type": "code",
   "execution_count": 10,
   "id": "e9dfde4a",
   "metadata": {},
   "outputs": [
    {
     "data": {
      "text/html": [
       "<div>\n",
       "<style scoped>\n",
       "    .dataframe tbody tr th:only-of-type {\n",
       "        vertical-align: middle;\n",
       "    }\n",
       "\n",
       "    .dataframe tbody tr th {\n",
       "        vertical-align: top;\n",
       "    }\n",
       "\n",
       "    .dataframe thead th {\n",
       "        text-align: right;\n",
       "    }\n",
       "</style>\n",
       "<table border=\"1\" class=\"dataframe\">\n",
       "  <thead>\n",
       "    <tr style=\"text-align: right;\">\n",
       "      <th></th>\n",
       "      <th>name</th>\n",
       "      <th>platform</th>\n",
       "      <th>year_of_release</th>\n",
       "      <th>genre</th>\n",
       "      <th>na_sales</th>\n",
       "      <th>eu_sales</th>\n",
       "      <th>jp_sales</th>\n",
       "      <th>other_sales</th>\n",
       "      <th>critic_score</th>\n",
       "      <th>user_score</th>\n",
       "      <th>rating</th>\n",
       "      <th>world_sales</th>\n",
       "    </tr>\n",
       "  </thead>\n",
       "  <tbody>\n",
       "    <tr>\n",
       "      <th>0</th>\n",
       "      <td>Wii Sports</td>\n",
       "      <td>Wii</td>\n",
       "      <td>2006</td>\n",
       "      <td>Sports</td>\n",
       "      <td>41.36</td>\n",
       "      <td>28.96</td>\n",
       "      <td>3.77</td>\n",
       "      <td>8.45</td>\n",
       "      <td>76.0</td>\n",
       "      <td>8.0</td>\n",
       "      <td>E</td>\n",
       "      <td>82.54</td>\n",
       "    </tr>\n",
       "    <tr>\n",
       "      <th>1</th>\n",
       "      <td>Super Mario Bros.</td>\n",
       "      <td>NES</td>\n",
       "      <td>1985</td>\n",
       "      <td>Platform</td>\n",
       "      <td>29.08</td>\n",
       "      <td>3.58</td>\n",
       "      <td>6.81</td>\n",
       "      <td>0.77</td>\n",
       "      <td>NaN</td>\n",
       "      <td>NaN</td>\n",
       "      <td>unknown</td>\n",
       "      <td>40.24</td>\n",
       "    </tr>\n",
       "    <tr>\n",
       "      <th>2</th>\n",
       "      <td>Mario Kart Wii</td>\n",
       "      <td>Wii</td>\n",
       "      <td>2008</td>\n",
       "      <td>Racing</td>\n",
       "      <td>15.68</td>\n",
       "      <td>12.76</td>\n",
       "      <td>3.79</td>\n",
       "      <td>3.29</td>\n",
       "      <td>82.0</td>\n",
       "      <td>8.3</td>\n",
       "      <td>E</td>\n",
       "      <td>35.52</td>\n",
       "    </tr>\n",
       "    <tr>\n",
       "      <th>3</th>\n",
       "      <td>Wii Sports Resort</td>\n",
       "      <td>Wii</td>\n",
       "      <td>2009</td>\n",
       "      <td>Sports</td>\n",
       "      <td>15.61</td>\n",
       "      <td>10.93</td>\n",
       "      <td>3.28</td>\n",
       "      <td>2.95</td>\n",
       "      <td>80.0</td>\n",
       "      <td>8.0</td>\n",
       "      <td>E</td>\n",
       "      <td>32.77</td>\n",
       "    </tr>\n",
       "    <tr>\n",
       "      <th>4</th>\n",
       "      <td>Pokemon Red/Pokemon Blue</td>\n",
       "      <td>GB</td>\n",
       "      <td>1996</td>\n",
       "      <td>Role-Playing</td>\n",
       "      <td>11.27</td>\n",
       "      <td>8.89</td>\n",
       "      <td>10.22</td>\n",
       "      <td>1.00</td>\n",
       "      <td>NaN</td>\n",
       "      <td>NaN</td>\n",
       "      <td>unknown</td>\n",
       "      <td>31.38</td>\n",
       "    </tr>\n",
       "    <tr>\n",
       "      <th>...</th>\n",
       "      <td>...</td>\n",
       "      <td>...</td>\n",
       "      <td>...</td>\n",
       "      <td>...</td>\n",
       "      <td>...</td>\n",
       "      <td>...</td>\n",
       "      <td>...</td>\n",
       "      <td>...</td>\n",
       "      <td>...</td>\n",
       "      <td>...</td>\n",
       "      <td>...</td>\n",
       "      <td>...</td>\n",
       "    </tr>\n",
       "    <tr>\n",
       "      <th>16710</th>\n",
       "      <td>Samurai Warriors: Sanada Maru</td>\n",
       "      <td>PS3</td>\n",
       "      <td>2016</td>\n",
       "      <td>Action</td>\n",
       "      <td>0.00</td>\n",
       "      <td>0.00</td>\n",
       "      <td>0.01</td>\n",
       "      <td>0.00</td>\n",
       "      <td>NaN</td>\n",
       "      <td>NaN</td>\n",
       "      <td>unknown</td>\n",
       "      <td>0.01</td>\n",
       "    </tr>\n",
       "    <tr>\n",
       "      <th>16711</th>\n",
       "      <td>LMA Manager 2007</td>\n",
       "      <td>X360</td>\n",
       "      <td>2006</td>\n",
       "      <td>Sports</td>\n",
       "      <td>0.00</td>\n",
       "      <td>0.01</td>\n",
       "      <td>0.00</td>\n",
       "      <td>0.00</td>\n",
       "      <td>NaN</td>\n",
       "      <td>NaN</td>\n",
       "      <td>unknown</td>\n",
       "      <td>0.01</td>\n",
       "    </tr>\n",
       "    <tr>\n",
       "      <th>16712</th>\n",
       "      <td>Haitaka no Psychedelica</td>\n",
       "      <td>PSV</td>\n",
       "      <td>2016</td>\n",
       "      <td>Adventure</td>\n",
       "      <td>0.00</td>\n",
       "      <td>0.00</td>\n",
       "      <td>0.01</td>\n",
       "      <td>0.00</td>\n",
       "      <td>NaN</td>\n",
       "      <td>NaN</td>\n",
       "      <td>unknown</td>\n",
       "      <td>0.01</td>\n",
       "    </tr>\n",
       "    <tr>\n",
       "      <th>16713</th>\n",
       "      <td>Spirits &amp; Spells</td>\n",
       "      <td>GBA</td>\n",
       "      <td>2003</td>\n",
       "      <td>Platform</td>\n",
       "      <td>0.01</td>\n",
       "      <td>0.00</td>\n",
       "      <td>0.00</td>\n",
       "      <td>0.00</td>\n",
       "      <td>NaN</td>\n",
       "      <td>NaN</td>\n",
       "      <td>unknown</td>\n",
       "      <td>0.01</td>\n",
       "    </tr>\n",
       "    <tr>\n",
       "      <th>16714</th>\n",
       "      <td>Winning Post 8 2016</td>\n",
       "      <td>PSV</td>\n",
       "      <td>2016</td>\n",
       "      <td>Simulation</td>\n",
       "      <td>0.00</td>\n",
       "      <td>0.00</td>\n",
       "      <td>0.01</td>\n",
       "      <td>0.00</td>\n",
       "      <td>NaN</td>\n",
       "      <td>NaN</td>\n",
       "      <td>unknown</td>\n",
       "      <td>0.01</td>\n",
       "    </tr>\n",
       "  </tbody>\n",
       "</table>\n",
       "<p>16715 rows × 12 columns</p>\n",
       "</div>"
      ],
      "text/plain": [
       "                                name platform  year_of_release         genre  \\\n",
       "0                         Wii Sports      Wii             2006        Sports   \n",
       "1                  Super Mario Bros.      NES             1985      Platform   \n",
       "2                     Mario Kart Wii      Wii             2008        Racing   \n",
       "3                  Wii Sports Resort      Wii             2009        Sports   \n",
       "4           Pokemon Red/Pokemon Blue       GB             1996  Role-Playing   \n",
       "...                              ...      ...              ...           ...   \n",
       "16710  Samurai Warriors: Sanada Maru      PS3             2016        Action   \n",
       "16711               LMA Manager 2007     X360             2006        Sports   \n",
       "16712        Haitaka no Psychedelica      PSV             2016     Adventure   \n",
       "16713               Spirits & Spells      GBA             2003      Platform   \n",
       "16714            Winning Post 8 2016      PSV             2016    Simulation   \n",
       "\n",
       "       na_sales  eu_sales  jp_sales  other_sales  critic_score  user_score  \\\n",
       "0         41.36     28.96      3.77         8.45          76.0         8.0   \n",
       "1         29.08      3.58      6.81         0.77           NaN         NaN   \n",
       "2         15.68     12.76      3.79         3.29          82.0         8.3   \n",
       "3         15.61     10.93      3.28         2.95          80.0         8.0   \n",
       "4         11.27      8.89     10.22         1.00           NaN         NaN   \n",
       "...         ...       ...       ...          ...           ...         ...   \n",
       "16710      0.00      0.00      0.01         0.00           NaN         NaN   \n",
       "16711      0.00      0.01      0.00         0.00           NaN         NaN   \n",
       "16712      0.00      0.00      0.01         0.00           NaN         NaN   \n",
       "16713      0.01      0.00      0.00         0.00           NaN         NaN   \n",
       "16714      0.00      0.00      0.01         0.00           NaN         NaN   \n",
       "\n",
       "        rating  world_sales  \n",
       "0            E        82.54  \n",
       "1      unknown        40.24  \n",
       "2            E        35.52  \n",
       "3            E        32.77  \n",
       "4      unknown        31.38  \n",
       "...        ...          ...  \n",
       "16710  unknown         0.01  \n",
       "16711  unknown         0.01  \n",
       "16712  unknown         0.01  \n",
       "16713  unknown         0.01  \n",
       "16714  unknown         0.01  \n",
       "\n",
       "[16715 rows x 12 columns]"
      ]
     },
     "execution_count": 10,
     "metadata": {},
     "output_type": "execute_result"
    }
   ],
   "source": [
    "df['world_sales'] = df.na_sales + df.eu_sales + df.jp_sales + df.other_sales\n",
    "df"
   ]
  },
  {
   "cell_type": "markdown",
   "id": "26b55561",
   "metadata": {},
   "source": [
    "## Исследовательский анализ"
   ]
  },
  {
   "cell_type": "markdown",
   "id": "27621044",
   "metadata": {},
   "source": [
    "### Cколько игр выпускалось в разные годы. Важны ли данные за все периоды?"
   ]
  },
  {
   "cell_type": "code",
   "execution_count": 11,
   "id": "91cadb6a",
   "metadata": {},
   "outputs": [
    {
     "data": {
      "text/plain": [
       "<AxesSubplot:title={'center':'Количество выпущенных игр по годам за время исследования'}, xlabel='year_of_release'>"
      ]
     },
     "execution_count": 11,
     "metadata": {},
     "output_type": "execute_result"
    },
    {
     "data": {
      "image/png": "[encoded data removed]",
      "text/plain": [
       "<Figure size 1440x720 with 1 Axes>"
      ]
     },
     "metadata": {
      "needs_background": "light"
     },
     "output_type": "display_data"
    }
   ],
   "source": [
    "df.groupby(['year_of_release'])['name'].agg('count').plot(kind='bar', figsize=(20,10), title='Количество выпущенных игр по годам за время исследования')"
   ]
  },
  {
   "cell_type": "markdown",
   "id": "825db999",
   "metadata": {},
   "source": [
    "Больше всего игр было выпущено в десятилетие с 2000 по 2010. Данные до 1991 г. вряд-ли будут полезны и существенно повлияют на статистику. Удалим их."
   ]
  },
  {
   "cell_type": "code",
   "execution_count": 12,
   "id": "65e480e3",
   "metadata": {},
   "outputs": [],
   "source": [
    "df = df[df.year_of_release > 1991]"
   ]
  },
  {
   "cell_type": "markdown",
   "id": "4cbb1857",
   "metadata": {},
   "source": [
    "### Как менялись продажи по платформам. Платформы с наибольшими суммарными продажами и распределение по годам"
   ]
  },
  {
   "cell_type": "code",
   "execution_count": 13,
   "id": "d5864d9a",
   "metadata": {},
   "outputs": [
    {
     "data": {
      "text/html": [
       "<div>\n",
       "<style scoped>\n",
       "    .dataframe tbody tr th:only-of-type {\n",
       "        vertical-align: middle;\n",
       "    }\n",
       "\n",
       "    .dataframe tbody tr th {\n",
       "        vertical-align: top;\n",
       "    }\n",
       "\n",
       "    .dataframe thead th {\n",
       "        text-align: right;\n",
       "    }\n",
       "</style>\n",
       "<table border=\"1\" class=\"dataframe\">\n",
       "  <thead>\n",
       "    <tr style=\"text-align: right;\">\n",
       "      <th></th>\n",
       "      <th>world_sales</th>\n",
       "    </tr>\n",
       "    <tr>\n",
       "      <th>platform</th>\n",
       "      <th></th>\n",
       "    </tr>\n",
       "  </thead>\n",
       "  <tbody>\n",
       "    <tr>\n",
       "      <th>PS2</th>\n",
       "      <td>1247.16</td>\n",
       "    </tr>\n",
       "    <tr>\n",
       "      <th>X360</th>\n",
       "      <td>966.61</td>\n",
       "    </tr>\n",
       "    <tr>\n",
       "      <th>PS3</th>\n",
       "      <td>934.71</td>\n",
       "    </tr>\n",
       "    <tr>\n",
       "      <th>Wii</th>\n",
       "      <td>903.31</td>\n",
       "    </tr>\n",
       "    <tr>\n",
       "      <th>DS</th>\n",
       "      <td>804.26</td>\n",
       "    </tr>\n",
       "  </tbody>\n",
       "</table>\n",
       "</div>"
      ],
      "text/plain": [
       "          world_sales\n",
       "platform             \n",
       "PS2           1247.16\n",
       "X360           966.61\n",
       "PS3            934.71\n",
       "Wii            903.31\n",
       "DS             804.26"
      ]
     },
     "metadata": {},
     "output_type": "display_data"
    },
    {
     "data": {
      "text/plain": [
       "<AxesSubplot:ylabel='platform'>"
      ]
     },
     "execution_count": 13,
     "metadata": {},
     "output_type": "execute_result"
    },
    {
     "data": {
      "image/png": "[encoded data removed]",
      "text/plain": [
       "<Figure size 1440x720 with 1 Axes>"
      ]
     },
     "metadata": {
      "needs_background": "light"
     },
     "output_type": "display_data"
    }
   ],
   "source": [
    "platform_top5 = (df\n",
    "     .groupby('platform')['world_sales']\n",
    "     .agg(sum)\n",
    "     .sort_values(ascending=False)    \n",
    "     .head(5)\n",
    "     .to_frame()\n",
    ")\n",
    "display(platform_top5)\n",
    "platform_top5.sort_values(by='world_sales', ascending=True, inplace=True)\n",
    "platform_top5.plot(kind= 'barh', y='world_sales', figsize=(20,10))"
   ]
  },
  {
   "cell_type": "markdown",
   "id": "33b46105",
   "metadata": {},
   "source": [
    "Топ-5 платформ по объему продаж в мире за последние 10 лет:\n",
    "* PS2\n",
    "* X360\n",
    "* PS3\n",
    "* Wii\n",
    "* DS"
   ]
  },
  {
   "cell_type": "code",
   "execution_count": 14,
   "id": "d9b117d6",
   "metadata": {},
   "outputs": [
    {
     "data": {
      "text/plain": [
       "<AxesSubplot:title={'center':'График продаж по платформам-лидерам за последние 10 лет'}, xlabel='year_of_release'>"
      ]
     },
     "execution_count": 14,
     "metadata": {},
     "output_type": "execute_result"
    },
    {
     "data": {
      "image/png": "[encoded data removed]",
      "text/plain": [
       "<Figure size 1440x720 with 1 Axes>"
      ]
     },
     "metadata": {
      "needs_background": "light"
     },
     "output_type": "display_data"
    }
   ],
   "source": [
    "df_platform_year = df.pivot_table(index='platform', columns='year_of_release', values='world_sales', aggfunc='sum')\n",
    "df_platform_year.rename(columns = {0:'world_sales'}, inplace=True)\n",
    "(df_platform_year\n",
    "     .query('index in @platform_top5.index')\n",
    "     .transpose()\n",
    "     .plot(figsize = (20, 10), title='График продаж по платформам-лидерам за последние 10 лет')\n",
    ")"
   ]
  },
  {
   "cell_type": "markdown",
   "id": "07ec07a6",
   "metadata": {},
   "source": [
    "Характерный срок для появления и исчезновения новых платформ - около 10 лет. Т.к. нужно строить прогноз на 2017 год, то имеет смысл для дальнейшего анализа взять данные с 2011 года. Все платформы из топ-5 находятся на спаде. Посмотрим, какие платформы растут, возьмем топ-5 по продажам за 2016."
   ]
  },
  {
   "cell_type": "code",
   "execution_count": 15,
   "id": "ad8551b7",
   "metadata": {},
   "outputs": [],
   "source": [
    "df_all = df\n",
    "df = df[df.year_of_release > 2011]"
   ]
  },
  {
   "cell_type": "code",
   "execution_count": 16,
   "id": "3f75a89d",
   "metadata": {},
   "outputs": [
    {
     "data": {
      "text/plain": [
       "platform\n",
       "PS4     69.25\n",
       "XOne    26.15\n",
       "3DS     15.14\n",
       "PC       5.25\n",
       "WiiU     4.60\n",
       "Name: 2016, dtype: float64"
      ]
     },
     "metadata": {},
     "output_type": "display_data"
    },
    {
     "data": {
      "text/plain": [
       "<AxesSubplot:title={'center':'График продаж по платформам-лидерам 2016 года'}, xlabel='year_of_release'>"
      ]
     },
     "execution_count": 16,
     "metadata": {},
     "output_type": "execute_result"
    },
    {
     "data": {
      "image/png": "[encoded data removed]",
      "text/plain": [
       "<Figure size 1440x720 with 1 Axes>"
      ]
     },
     "metadata": {
      "needs_background": "light"
     },
     "output_type": "display_data"
    }
   ],
   "source": [
    "platform_top5_2016 = df_platform_year[2016].sort_values(ascending=False).head(5)\n",
    "display(platform_top5_2016)\n",
    "(df_platform_year\n",
    "     .query('index in @platform_top5_2016.index')\n",
    "     .transpose()\n",
    "     .plot(figsize = (20, 10), title='График продаж по платформам-лидерам 2016 года')\n",
    ")"
   ]
  },
  {
   "cell_type": "markdown",
   "id": "6c9313cf",
   "metadata": {},
   "source": [
    "К наиболее активно растущим платформам, на которые стоит сделать ставку, относятся:\n",
    "* PS4\n",
    "* XOne\n",
    "* 3DS"
   ]
  },
  {
   "cell_type": "code",
   "execution_count": 17,
   "id": "622affe5",
   "metadata": {},
   "outputs": [
    {
     "data": {
      "text/plain": [
       "(0.0, 3.0)"
      ]
     },
     "execution_count": 17,
     "metadata": {},
     "output_type": "execute_result"
    },
    {
     "data": {
      "image/png": "[encoded data removed]",
      "text/plain": [
       "<Figure size 1440x720 with 1 Axes>"
      ]
     },
     "metadata": {
      "needs_background": "light"
     },
     "output_type": "display_data"
    }
   ],
   "source": [
    "df.boxplot(column='world_sales', by='platform', figsize=(20,10))\n",
    "plt.ylim(0, 3)\n"
   ]
  },
  {
   "cell_type": "markdown",
   "id": "f0a1f625",
   "metadata": {},
   "source": [
    "Постройте график «ящик с усами» по глобальным продажам игр в разбивке по платформам."
   ]
  },
  {
   "cell_type": "markdown",
   "id": "53963bde",
   "metadata": {},
   "source": [
    "По диаграмме разброса видно, что распределение продаж по платформам сильно разнится. Например, для PS3, PS4 и X360 много экстремальных значений. Это говорит о том, что для этих платформ были выпущены супер-популярные игры. А PSP И DS, наоборот, не отличаются сверх-популярных игр. "
   ]
  },
  {
   "cell_type": "markdown",
   "id": "2e4dda7a",
   "metadata": {},
   "source": [
    "### Влияние на продажи отзывов пользователей и критиков по платформе PS3\n",
    "Возьмем PS3 для анализа, т.к. по ней довольно много данных"
   ]
  },
  {
   "cell_type": "code",
   "execution_count": 18,
   "id": "0fa2edf7",
   "metadata": {
    "scrolled": true
   },
   "outputs": [
    {
     "name": "stdout",
     "output_type": "stream",
     "text": [
      "Корреляция между critic_score и world_sales :  0.331\n",
      "Корреляция между user_score и world_sales :  0.094\n"
     ]
    },
    {
     "data": {
      "image/png": "[encoded data removed]",
      "text/plain": [
       "<Figure size 432x288 with 1 Axes>"
      ]
     },
     "metadata": {
      "needs_background": "light"
     },
     "output_type": "display_data"
    },
    {
     "data": {
      "image/png": "[encoded data removed]",
      "text/plain": [
       "<Figure size 432x288 with 1 Axes>"
      ]
     },
     "metadata": {
      "needs_background": "light"
     },
     "output_type": "display_data"
    },
    {
     "name": "stderr",
     "output_type": "stream",
     "text": [
      "/opt/conda/lib/python3.9/site-packages/seaborn/_decorators.py:36: FutureWarning: Pass the following variable as a keyword arg: x. From version 0.12, the only valid positional argument will be `data`, and passing other arguments without an explicit keyword will result in an error or misinterpretation.\n",
      "  warnings.warn(\n"
     ]
    },
    {
     "data": {
      "image/png": "[encoded data removed]",
      "text/plain": [
       "<Figure size 432x288 with 1 Axes>"
      ]
     },
     "metadata": {
      "needs_background": "light"
     },
     "output_type": "display_data"
    },
    {
     "data": {
      "text/plain": [
       "<AxesSubplot:xlabel='world_sales', ylabel='user_score'>"
      ]
     },
     "execution_count": 18,
     "metadata": {},
     "output_type": "execute_result"
    },
    {
     "data": {
      "image/png": "[encoded data removed]",
      "text/plain": [
       "<Figure size 432x288 with 1 Axes>"
      ]
     },
     "metadata": {
      "needs_background": "light"
     },
     "output_type": "display_data"
    },
    {
     "data": {
      "image/png": "[encoded data removed]",
      "text/plain": [
       "<Figure size 432x288 with 1 Axes>"
      ]
     },
     "metadata": {
      "needs_background": "light"
     },
     "output_type": "display_data"
    }
   ],
   "source": [
    "#Сначала избавимся от выбросов\n",
    "df_ps3 = df[df['platform'] == 'PS3']\n",
    "print('Корреляция между critic_score и world_sales : ', df_ps3['critic_score'].corr(df_ps3['world_sales']).round(3))\n",
    "print('Корреляция между user_score и world_sales : ', df_ps3['user_score'].corr(df_ps3['world_sales']).round(3))\n",
    "\n",
    "df_ps3.boxplot('world_sales')\n",
    "plt.show()\n",
    "df_ps3 = df_ps3[df_ps3['world_sales'] < 2]\n",
    "df_ps3.boxplot('world_sales')\n",
    "plt.show()\n",
    "sns.boxplot(df_ps3['world_sales'],data=df_ps3)\n",
    "plt.show()\n",
    "\n",
    "df_ps3.plot(kind='scatter', x='world_sales', y='critic_score', alpha=0.4, grid = True)\n",
    "df_ps3.plot(kind='scatter', x='world_sales', y='user_score', alpha=0.4, grid = True)"
   ]
  },
  {
   "cell_type": "code",
   "execution_count": 19,
   "id": "bf4b0292",
   "metadata": {},
   "outputs": [
    {
     "data": {
      "text/plain": [
       "'3DS'"
      ]
     },
     "metadata": {},
     "output_type": "display_data"
    },
    {
     "data": {
      "text/html": [
       "<div>\n",
       "<style scoped>\n",
       "    .dataframe tbody tr th:only-of-type {\n",
       "        vertical-align: middle;\n",
       "    }\n",
       "\n",
       "    .dataframe tbody tr th {\n",
       "        vertical-align: top;\n",
       "    }\n",
       "\n",
       "    .dataframe thead th {\n",
       "        text-align: right;\n",
       "    }\n",
       "</style>\n",
       "<table border=\"1\" class=\"dataframe\">\n",
       "  <thead>\n",
       "    <tr style=\"text-align: right;\">\n",
       "      <th></th>\n",
       "      <th>world_sales</th>\n",
       "      <th>critic_score</th>\n",
       "      <th>user_score</th>\n",
       "    </tr>\n",
       "  </thead>\n",
       "  <tbody>\n",
       "    <tr>\n",
       "      <th>world_sales</th>\n",
       "      <td>1.000000</td>\n",
       "      <td>0.320458</td>\n",
       "      <td>0.268187</td>\n",
       "    </tr>\n",
       "    <tr>\n",
       "      <th>critic_score</th>\n",
       "      <td>0.320458</td>\n",
       "      <td>1.000000</td>\n",
       "      <td>0.657211</td>\n",
       "    </tr>\n",
       "    <tr>\n",
       "      <th>user_score</th>\n",
       "      <td>0.268187</td>\n",
       "      <td>0.657211</td>\n",
       "      <td>1.000000</td>\n",
       "    </tr>\n",
       "  </tbody>\n",
       "</table>\n",
       "</div>"
      ],
      "text/plain": [
       "              world_sales  critic_score  user_score\n",
       "world_sales      1.000000      0.320458    0.268187\n",
       "critic_score     0.320458      1.000000    0.657211\n",
       "user_score       0.268187      0.657211    1.000000"
      ]
     },
     "metadata": {},
     "output_type": "display_data"
    },
    {
     "data": {
      "text/plain": [
       "'DS'"
      ]
     },
     "metadata": {},
     "output_type": "display_data"
    },
    {
     "data": {
      "text/html": [
       "<div>\n",
       "<style scoped>\n",
       "    .dataframe tbody tr th:only-of-type {\n",
       "        vertical-align: middle;\n",
       "    }\n",
       "\n",
       "    .dataframe tbody tr th {\n",
       "        vertical-align: top;\n",
       "    }\n",
       "\n",
       "    .dataframe thead th {\n",
       "        text-align: right;\n",
       "    }\n",
       "</style>\n",
       "<table border=\"1\" class=\"dataframe\">\n",
       "  <thead>\n",
       "    <tr style=\"text-align: right;\">\n",
       "      <th></th>\n",
       "      <th>world_sales</th>\n",
       "      <th>critic_score</th>\n",
       "      <th>user_score</th>\n",
       "    </tr>\n",
       "  </thead>\n",
       "  <tbody>\n",
       "    <tr>\n",
       "      <th>world_sales</th>\n",
       "      <td>1.000000</td>\n",
       "      <td>1.0</td>\n",
       "      <td>0.795329</td>\n",
       "    </tr>\n",
       "    <tr>\n",
       "      <th>critic_score</th>\n",
       "      <td>1.000000</td>\n",
       "      <td>1.0</td>\n",
       "      <td>1.000000</td>\n",
       "    </tr>\n",
       "    <tr>\n",
       "      <th>user_score</th>\n",
       "      <td>0.795329</td>\n",
       "      <td>1.0</td>\n",
       "      <td>1.000000</td>\n",
       "    </tr>\n",
       "  </tbody>\n",
       "</table>\n",
       "</div>"
      ],
      "text/plain": [
       "              world_sales  critic_score  user_score\n",
       "world_sales      1.000000           1.0    0.795329\n",
       "critic_score     1.000000           1.0    1.000000\n",
       "user_score       0.795329           1.0    1.000000"
      ]
     },
     "metadata": {},
     "output_type": "display_data"
    },
    {
     "data": {
      "text/plain": [
       "'PC'"
      ]
     },
     "metadata": {},
     "output_type": "display_data"
    },
    {
     "data": {
      "text/html": [
       "<div>\n",
       "<style scoped>\n",
       "    .dataframe tbody tr th:only-of-type {\n",
       "        vertical-align: middle;\n",
       "    }\n",
       "\n",
       "    .dataframe tbody tr th {\n",
       "        vertical-align: top;\n",
       "    }\n",
       "\n",
       "    .dataframe thead th {\n",
       "        text-align: right;\n",
       "    }\n",
       "</style>\n",
       "<table border=\"1\" class=\"dataframe\">\n",
       "  <thead>\n",
       "    <tr style=\"text-align: right;\">\n",
       "      <th></th>\n",
       "      <th>world_sales</th>\n",
       "      <th>critic_score</th>\n",
       "      <th>user_score</th>\n",
       "    </tr>\n",
       "  </thead>\n",
       "  <tbody>\n",
       "    <tr>\n",
       "      <th>world_sales</th>\n",
       "      <td>1.00000</td>\n",
       "      <td>0.240570</td>\n",
       "      <td>-0.065020</td>\n",
       "    </tr>\n",
       "    <tr>\n",
       "      <th>critic_score</th>\n",
       "      <td>0.24057</td>\n",
       "      <td>1.000000</td>\n",
       "      <td>0.431879</td>\n",
       "    </tr>\n",
       "    <tr>\n",
       "      <th>user_score</th>\n",
       "      <td>-0.06502</td>\n",
       "      <td>0.431879</td>\n",
       "      <td>1.000000</td>\n",
       "    </tr>\n",
       "  </tbody>\n",
       "</table>\n",
       "</div>"
      ],
      "text/plain": [
       "              world_sales  critic_score  user_score\n",
       "world_sales       1.00000      0.240570   -0.065020\n",
       "critic_score      0.24057      1.000000    0.431879\n",
       "user_score       -0.06502      0.431879    1.000000"
      ]
     },
     "metadata": {},
     "output_type": "display_data"
    },
    {
     "data": {
      "text/plain": [
       "'PS3'"
      ]
     },
     "metadata": {},
     "output_type": "display_data"
    },
    {
     "data": {
      "text/html": [
       "<div>\n",
       "<style scoped>\n",
       "    .dataframe tbody tr th:only-of-type {\n",
       "        vertical-align: middle;\n",
       "    }\n",
       "\n",
       "    .dataframe tbody tr th {\n",
       "        vertical-align: top;\n",
       "    }\n",
       "\n",
       "    .dataframe thead th {\n",
       "        text-align: right;\n",
       "    }\n",
       "</style>\n",
       "<table border=\"1\" class=\"dataframe\">\n",
       "  <thead>\n",
       "    <tr style=\"text-align: right;\">\n",
       "      <th></th>\n",
       "      <th>world_sales</th>\n",
       "      <th>critic_score</th>\n",
       "      <th>user_score</th>\n",
       "    </tr>\n",
       "  </thead>\n",
       "  <tbody>\n",
       "    <tr>\n",
       "      <th>world_sales</th>\n",
       "      <td>1.000000</td>\n",
       "      <td>0.331371</td>\n",
       "      <td>0.094481</td>\n",
       "    </tr>\n",
       "    <tr>\n",
       "      <th>critic_score</th>\n",
       "      <td>0.331371</td>\n",
       "      <td>1.000000</td>\n",
       "      <td>0.558684</td>\n",
       "    </tr>\n",
       "    <tr>\n",
       "      <th>user_score</th>\n",
       "      <td>0.094481</td>\n",
       "      <td>0.558684</td>\n",
       "      <td>1.000000</td>\n",
       "    </tr>\n",
       "  </tbody>\n",
       "</table>\n",
       "</div>"
      ],
      "text/plain": [
       "              world_sales  critic_score  user_score\n",
       "world_sales      1.000000      0.331371    0.094481\n",
       "critic_score     0.331371      1.000000    0.558684\n",
       "user_score       0.094481      0.558684    1.000000"
      ]
     },
     "metadata": {},
     "output_type": "display_data"
    },
    {
     "data": {
      "text/plain": [
       "'PS4'"
      ]
     },
     "metadata": {},
     "output_type": "display_data"
    },
    {
     "data": {
      "text/html": [
       "<div>\n",
       "<style scoped>\n",
       "    .dataframe tbody tr th:only-of-type {\n",
       "        vertical-align: middle;\n",
       "    }\n",
       "\n",
       "    .dataframe tbody tr th {\n",
       "        vertical-align: top;\n",
       "    }\n",
       "\n",
       "    .dataframe thead th {\n",
       "        text-align: right;\n",
       "    }\n",
       "</style>\n",
       "<table border=\"1\" class=\"dataframe\">\n",
       "  <thead>\n",
       "    <tr style=\"text-align: right;\">\n",
       "      <th></th>\n",
       "      <th>world_sales</th>\n",
       "      <th>critic_score</th>\n",
       "      <th>user_score</th>\n",
       "    </tr>\n",
       "  </thead>\n",
       "  <tbody>\n",
       "    <tr>\n",
       "      <th>world_sales</th>\n",
       "      <td>1.000000</td>\n",
       "      <td>0.406568</td>\n",
       "      <td>0.023279</td>\n",
       "    </tr>\n",
       "    <tr>\n",
       "      <th>critic_score</th>\n",
       "      <td>0.406568</td>\n",
       "      <td>1.000000</td>\n",
       "      <td>0.520752</td>\n",
       "    </tr>\n",
       "    <tr>\n",
       "      <th>user_score</th>\n",
       "      <td>0.023279</td>\n",
       "      <td>0.520752</td>\n",
       "      <td>1.000000</td>\n",
       "    </tr>\n",
       "  </tbody>\n",
       "</table>\n",
       "</div>"
      ],
      "text/plain": [
       "              world_sales  critic_score  user_score\n",
       "world_sales      1.000000      0.406568    0.023279\n",
       "critic_score     0.406568      1.000000    0.520752\n",
       "user_score       0.023279      0.520752    1.000000"
      ]
     },
     "metadata": {},
     "output_type": "display_data"
    },
    {
     "data": {
      "text/plain": [
       "'PSP'"
      ]
     },
     "metadata": {},
     "output_type": "display_data"
    },
    {
     "data": {
      "text/html": [
       "<div>\n",
       "<style scoped>\n",
       "    .dataframe tbody tr th:only-of-type {\n",
       "        vertical-align: middle;\n",
       "    }\n",
       "\n",
       "    .dataframe tbody tr th {\n",
       "        vertical-align: top;\n",
       "    }\n",
       "\n",
       "    .dataframe thead th {\n",
       "        text-align: right;\n",
       "    }\n",
       "</style>\n",
       "<table border=\"1\" class=\"dataframe\">\n",
       "  <thead>\n",
       "    <tr style=\"text-align: right;\">\n",
       "      <th></th>\n",
       "      <th>world_sales</th>\n",
       "      <th>critic_score</th>\n",
       "      <th>user_score</th>\n",
       "    </tr>\n",
       "  </thead>\n",
       "  <tbody>\n",
       "    <tr>\n",
       "      <th>world_sales</th>\n",
       "      <td>1.000000</td>\n",
       "      <td>NaN</td>\n",
       "      <td>-0.403129</td>\n",
       "    </tr>\n",
       "    <tr>\n",
       "      <th>critic_score</th>\n",
       "      <td>NaN</td>\n",
       "      <td>NaN</td>\n",
       "      <td>NaN</td>\n",
       "    </tr>\n",
       "    <tr>\n",
       "      <th>user_score</th>\n",
       "      <td>-0.403129</td>\n",
       "      <td>NaN</td>\n",
       "      <td>1.000000</td>\n",
       "    </tr>\n",
       "  </tbody>\n",
       "</table>\n",
       "</div>"
      ],
      "text/plain": [
       "              world_sales  critic_score  user_score\n",
       "world_sales      1.000000           NaN   -0.403129\n",
       "critic_score          NaN           NaN         NaN\n",
       "user_score      -0.403129           NaN    1.000000"
      ]
     },
     "metadata": {},
     "output_type": "display_data"
    },
    {
     "data": {
      "text/plain": [
       "'PSV'"
      ]
     },
     "metadata": {},
     "output_type": "display_data"
    },
    {
     "data": {
      "text/html": [
       "<div>\n",
       "<style scoped>\n",
       "    .dataframe tbody tr th:only-of-type {\n",
       "        vertical-align: middle;\n",
       "    }\n",
       "\n",
       "    .dataframe tbody tr th {\n",
       "        vertical-align: top;\n",
       "    }\n",
       "\n",
       "    .dataframe thead th {\n",
       "        text-align: right;\n",
       "    }\n",
       "</style>\n",
       "<table border=\"1\" class=\"dataframe\">\n",
       "  <thead>\n",
       "    <tr style=\"text-align: right;\">\n",
       "      <th></th>\n",
       "      <th>world_sales</th>\n",
       "      <th>critic_score</th>\n",
       "      <th>user_score</th>\n",
       "    </tr>\n",
       "  </thead>\n",
       "  <tbody>\n",
       "    <tr>\n",
       "      <th>world_sales</th>\n",
       "      <td>1.000000</td>\n",
       "      <td>0.094488</td>\n",
       "      <td>0.124955</td>\n",
       "    </tr>\n",
       "    <tr>\n",
       "      <th>critic_score</th>\n",
       "      <td>0.094488</td>\n",
       "      <td>1.000000</td>\n",
       "      <td>0.564765</td>\n",
       "    </tr>\n",
       "    <tr>\n",
       "      <th>user_score</th>\n",
       "      <td>0.124955</td>\n",
       "      <td>0.564765</td>\n",
       "      <td>1.000000</td>\n",
       "    </tr>\n",
       "  </tbody>\n",
       "</table>\n",
       "</div>"
      ],
      "text/plain": [
       "              world_sales  critic_score  user_score\n",
       "world_sales      1.000000      0.094488    0.124955\n",
       "critic_score     0.094488      1.000000    0.564765\n",
       "user_score       0.124955      0.564765    1.000000"
      ]
     },
     "metadata": {},
     "output_type": "display_data"
    },
    {
     "data": {
      "text/plain": [
       "'Wii'"
      ]
     },
     "metadata": {},
     "output_type": "display_data"
    },
    {
     "data": {
      "text/html": [
       "<div>\n",
       "<style scoped>\n",
       "    .dataframe tbody tr th:only-of-type {\n",
       "        vertical-align: middle;\n",
       "    }\n",
       "\n",
       "    .dataframe tbody tr th {\n",
       "        vertical-align: top;\n",
       "    }\n",
       "\n",
       "    .dataframe thead th {\n",
       "        text-align: right;\n",
       "    }\n",
       "</style>\n",
       "<table border=\"1\" class=\"dataframe\">\n",
       "  <thead>\n",
       "    <tr style=\"text-align: right;\">\n",
       "      <th></th>\n",
       "      <th>world_sales</th>\n",
       "      <th>critic_score</th>\n",
       "      <th>user_score</th>\n",
       "    </tr>\n",
       "  </thead>\n",
       "  <tbody>\n",
       "    <tr>\n",
       "      <th>world_sales</th>\n",
       "      <td>1.000000</td>\n",
       "      <td>-0.405997</td>\n",
       "      <td>0.568120</td>\n",
       "    </tr>\n",
       "    <tr>\n",
       "      <th>critic_score</th>\n",
       "      <td>-0.405997</td>\n",
       "      <td>1.000000</td>\n",
       "      <td>0.780222</td>\n",
       "    </tr>\n",
       "    <tr>\n",
       "      <th>user_score</th>\n",
       "      <td>0.568120</td>\n",
       "      <td>0.780222</td>\n",
       "      <td>1.000000</td>\n",
       "    </tr>\n",
       "  </tbody>\n",
       "</table>\n",
       "</div>"
      ],
      "text/plain": [
       "              world_sales  critic_score  user_score\n",
       "world_sales      1.000000     -0.405997    0.568120\n",
       "critic_score    -0.405997      1.000000    0.780222\n",
       "user_score       0.568120      0.780222    1.000000"
      ]
     },
     "metadata": {},
     "output_type": "display_data"
    },
    {
     "data": {
      "text/plain": [
       "'WiiU'"
      ]
     },
     "metadata": {},
     "output_type": "display_data"
    },
    {
     "data": {
      "text/html": [
       "<div>\n",
       "<style scoped>\n",
       "    .dataframe tbody tr th:only-of-type {\n",
       "        vertical-align: middle;\n",
       "    }\n",
       "\n",
       "    .dataframe tbody tr th {\n",
       "        vertical-align: top;\n",
       "    }\n",
       "\n",
       "    .dataframe thead th {\n",
       "        text-align: right;\n",
       "    }\n",
       "</style>\n",
       "<table border=\"1\" class=\"dataframe\">\n",
       "  <thead>\n",
       "    <tr style=\"text-align: right;\">\n",
       "      <th></th>\n",
       "      <th>world_sales</th>\n",
       "      <th>critic_score</th>\n",
       "      <th>user_score</th>\n",
       "    </tr>\n",
       "  </thead>\n",
       "  <tbody>\n",
       "    <tr>\n",
       "      <th>world_sales</th>\n",
       "      <td>1.000000</td>\n",
       "      <td>0.348380</td>\n",
       "      <td>0.354087</td>\n",
       "    </tr>\n",
       "    <tr>\n",
       "      <th>critic_score</th>\n",
       "      <td>0.348380</td>\n",
       "      <td>1.000000</td>\n",
       "      <td>0.657313</td>\n",
       "    </tr>\n",
       "    <tr>\n",
       "      <th>user_score</th>\n",
       "      <td>0.354087</td>\n",
       "      <td>0.657313</td>\n",
       "      <td>1.000000</td>\n",
       "    </tr>\n",
       "  </tbody>\n",
       "</table>\n",
       "</div>"
      ],
      "text/plain": [
       "              world_sales  critic_score  user_score\n",
       "world_sales      1.000000      0.348380    0.354087\n",
       "critic_score     0.348380      1.000000    0.657313\n",
       "user_score       0.354087      0.657313    1.000000"
      ]
     },
     "metadata": {},
     "output_type": "display_data"
    },
    {
     "data": {
      "text/plain": [
       "'X360'"
      ]
     },
     "metadata": {},
     "output_type": "display_data"
    },
    {
     "data": {
      "text/html": [
       "<div>\n",
       "<style scoped>\n",
       "    .dataframe tbody tr th:only-of-type {\n",
       "        vertical-align: middle;\n",
       "    }\n",
       "\n",
       "    .dataframe tbody tr th {\n",
       "        vertical-align: top;\n",
       "    }\n",
       "\n",
       "    .dataframe thead th {\n",
       "        text-align: right;\n",
       "    }\n",
       "</style>\n",
       "<table border=\"1\" class=\"dataframe\">\n",
       "  <thead>\n",
       "    <tr style=\"text-align: right;\">\n",
       "      <th></th>\n",
       "      <th>world_sales</th>\n",
       "      <th>critic_score</th>\n",
       "      <th>user_score</th>\n",
       "    </tr>\n",
       "  </thead>\n",
       "  <tbody>\n",
       "    <tr>\n",
       "      <th>world_sales</th>\n",
       "      <td>1.000000</td>\n",
       "      <td>0.360266</td>\n",
       "      <td>0.062319</td>\n",
       "    </tr>\n",
       "    <tr>\n",
       "      <th>critic_score</th>\n",
       "      <td>0.360266</td>\n",
       "      <td>1.000000</td>\n",
       "      <td>0.557952</td>\n",
       "    </tr>\n",
       "    <tr>\n",
       "      <th>user_score</th>\n",
       "      <td>0.062319</td>\n",
       "      <td>0.557952</td>\n",
       "      <td>1.000000</td>\n",
       "    </tr>\n",
       "  </tbody>\n",
       "</table>\n",
       "</div>"
      ],
      "text/plain": [
       "              world_sales  critic_score  user_score\n",
       "world_sales      1.000000      0.360266    0.062319\n",
       "critic_score     0.360266      1.000000    0.557952\n",
       "user_score       0.062319      0.557952    1.000000"
      ]
     },
     "metadata": {},
     "output_type": "display_data"
    },
    {
     "data": {
      "text/plain": [
       "'XOne'"
      ]
     },
     "metadata": {},
     "output_type": "display_data"
    },
    {
     "data": {
      "text/html": [
       "<div>\n",
       "<style scoped>\n",
       "    .dataframe tbody tr th:only-of-type {\n",
       "        vertical-align: middle;\n",
       "    }\n",
       "\n",
       "    .dataframe tbody tr th {\n",
       "        vertical-align: top;\n",
       "    }\n",
       "\n",
       "    .dataframe thead th {\n",
       "        text-align: right;\n",
       "    }\n",
       "</style>\n",
       "<table border=\"1\" class=\"dataframe\">\n",
       "  <thead>\n",
       "    <tr style=\"text-align: right;\">\n",
       "      <th></th>\n",
       "      <th>world_sales</th>\n",
       "      <th>critic_score</th>\n",
       "      <th>user_score</th>\n",
       "    </tr>\n",
       "  </thead>\n",
       "  <tbody>\n",
       "    <tr>\n",
       "      <th>world_sales</th>\n",
       "      <td>1.000000</td>\n",
       "      <td>0.416998</td>\n",
       "      <td>0.074486</td>\n",
       "    </tr>\n",
       "    <tr>\n",
       "      <th>critic_score</th>\n",
       "      <td>0.416998</td>\n",
       "      <td>1.000000</td>\n",
       "      <td>0.465368</td>\n",
       "    </tr>\n",
       "    <tr>\n",
       "      <th>user_score</th>\n",
       "      <td>0.074486</td>\n",
       "      <td>0.465368</td>\n",
       "      <td>1.000000</td>\n",
       "    </tr>\n",
       "  </tbody>\n",
       "</table>\n",
       "</div>"
      ],
      "text/plain": [
       "              world_sales  critic_score  user_score\n",
       "world_sales      1.000000      0.416998    0.074486\n",
       "critic_score     0.416998      1.000000    0.465368\n",
       "user_score       0.074486      0.465368    1.000000"
      ]
     },
     "metadata": {},
     "output_type": "display_data"
    }
   ],
   "source": [
    "for gr in df[['platform', 'world_sales', 'critic_score', 'user_score']].groupby('platform'):\n",
    "    display(gr[0], gr[1].corr())"
   ]
  },
  {
   "cell_type": "markdown",
   "id": "b3f3f749",
   "metadata": {},
   "source": [
    "Видно, что для одной из самых популярных платформ PS3 устойчивой корреляции между оценками игр критиками а также пользователями и продажами по миру нет . Однако также можно сделать вывод о том, что у игр с наибольшими продажами меньше разброс в оценках. Т.е. консенсус в оценке игры и продажи коррелируют, возможно, взаимно усиливая друг друга. Игры с высокими продажами получают меньше негативных оценок, игры с меньшим количеством негативных оценком получают большие продажи. \n",
    "\n",
    "По остальным платформам также нигде нет сильной корреляции уровня продаж с оценками критиков и пользователей (кроме платформы DS, но по этой платформе слишком мало данных в датасете, всего 32 строки)"
   ]
  },
  {
   "cell_type": "code",
   "execution_count": 20,
   "id": "155c5d64",
   "metadata": {},
   "outputs": [
    {
     "data": {
      "text/plain": [
       "32"
      ]
     },
     "execution_count": 20,
     "metadata": {},
     "output_type": "execute_result"
    }
   ],
   "source": [
    "len(df[df['platform'] == 'DS'])"
   ]
  },
  {
   "cell_type": "markdown",
   "id": "3b294838",
   "metadata": {},
   "source": [
    "### Распределение игр и анализ продаж по жанрам"
   ]
  },
  {
   "cell_type": "code",
   "execution_count": 21,
   "id": "77715050",
   "metadata": {},
   "outputs": [
    {
     "data": {
      "text/html": [
       "<div>\n",
       "<style scoped>\n",
       "    .dataframe tbody tr th:only-of-type {\n",
       "        vertical-align: middle;\n",
       "    }\n",
       "\n",
       "    .dataframe tbody tr th {\n",
       "        vertical-align: top;\n",
       "    }\n",
       "\n",
       "    .dataframe thead th {\n",
       "        text-align: right;\n",
       "    }\n",
       "</style>\n",
       "<table border=\"1\" class=\"dataframe\">\n",
       "  <thead>\n",
       "    <tr style=\"text-align: right;\">\n",
       "      <th></th>\n",
       "      <th>genre</th>\n",
       "      <th>name</th>\n",
       "    </tr>\n",
       "  </thead>\n",
       "  <tbody>\n",
       "    <tr>\n",
       "      <th>0</th>\n",
       "      <td>Action</td>\n",
       "      <td>1041</td>\n",
       "    </tr>\n",
       "    <tr>\n",
       "      <th>1</th>\n",
       "      <td>Role-Playing</td>\n",
       "      <td>370</td>\n",
       "    </tr>\n",
       "    <tr>\n",
       "      <th>2</th>\n",
       "      <td>Adventure</td>\n",
       "      <td>302</td>\n",
       "    </tr>\n",
       "    <tr>\n",
       "      <th>3</th>\n",
       "      <td>Sports</td>\n",
       "      <td>268</td>\n",
       "    </tr>\n",
       "    <tr>\n",
       "      <th>4</th>\n",
       "      <td>Shooter</td>\n",
       "      <td>237</td>\n",
       "    </tr>\n",
       "    <tr>\n",
       "      <th>5</th>\n",
       "      <td>Misc</td>\n",
       "      <td>193</td>\n",
       "    </tr>\n",
       "    <tr>\n",
       "      <th>6</th>\n",
       "      <td>Racing</td>\n",
       "      <td>115</td>\n",
       "    </tr>\n",
       "    <tr>\n",
       "      <th>7</th>\n",
       "      <td>Fighting</td>\n",
       "      <td>109</td>\n",
       "    </tr>\n",
       "    <tr>\n",
       "      <th>8</th>\n",
       "      <td>Platform</td>\n",
       "      <td>85</td>\n",
       "    </tr>\n",
       "    <tr>\n",
       "      <th>9</th>\n",
       "      <td>Simulation</td>\n",
       "      <td>80</td>\n",
       "    </tr>\n",
       "    <tr>\n",
       "      <th>10</th>\n",
       "      <td>Strategy</td>\n",
       "      <td>71</td>\n",
       "    </tr>\n",
       "    <tr>\n",
       "      <th>11</th>\n",
       "      <td>Puzzle</td>\n",
       "      <td>28</td>\n",
       "    </tr>\n",
       "  </tbody>\n",
       "</table>\n",
       "</div>"
      ],
      "text/plain": [
       "           genre  name\n",
       "0         Action  1041\n",
       "1   Role-Playing   370\n",
       "2      Adventure   302\n",
       "3         Sports   268\n",
       "4        Shooter   237\n",
       "5           Misc   193\n",
       "6         Racing   115\n",
       "7       Fighting   109\n",
       "8       Platform    85\n",
       "9     Simulation    80\n",
       "10      Strategy    71\n",
       "11        Puzzle    28"
      ]
     },
     "metadata": {},
     "output_type": "display_data"
    },
    {
     "data": {
      "text/plain": [
       "<AxesSubplot:>"
      ]
     },
     "execution_count": 21,
     "metadata": {},
     "output_type": "execute_result"
    },
    {
     "data": {
      "image/png": "[encoded data removed]",
      "text/plain": [
       "<Figure size 1440x720 with 1 Axes>"
      ]
     },
     "metadata": {
      "needs_background": "light"
     },
     "output_type": "display_data"
    }
   ],
   "source": [
    "df_genre = df.groupby('genre')['name'].count().sort_values(ascending=False).to_frame().reset_index()\n",
    "display(df_genre)\n",
    "df_genre.plot(kind= 'barh', figsize=(20,10))"
   ]
  },
  {
   "cell_type": "markdown",
   "id": "9d1e1a93",
   "metadata": {},
   "source": [
    "Топ-5 распределения игр по жанрам выглядит так:\n",
    "1. Action\n",
    "2. Sports\n",
    "3. Misc\n",
    "4. Role-Playing\n",
    "5. Adventure"
   ]
  },
  {
   "cell_type": "code",
   "execution_count": 22,
   "id": "a2dd953a",
   "metadata": {
    "scrolled": false
   },
   "outputs": [
    {
     "data": {
      "text/html": [
       "<div>\n",
       "<style scoped>\n",
       "    .dataframe tbody tr th:only-of-type {\n",
       "        vertical-align: middle;\n",
       "    }\n",
       "\n",
       "    .dataframe tbody tr th {\n",
       "        vertical-align: top;\n",
       "    }\n",
       "\n",
       "    .dataframe thead th {\n",
       "        text-align: right;\n",
       "    }\n",
       "</style>\n",
       "<table border=\"1\" class=\"dataframe\">\n",
       "  <thead>\n",
       "    <tr style=\"text-align: right;\">\n",
       "      <th></th>\n",
       "      <th>genre</th>\n",
       "      <th>world_sales</th>\n",
       "    </tr>\n",
       "  </thead>\n",
       "  <tbody>\n",
       "    <tr>\n",
       "      <th>0</th>\n",
       "      <td>Action</td>\n",
       "      <td>446.41</td>\n",
       "    </tr>\n",
       "    <tr>\n",
       "      <th>1</th>\n",
       "      <td>Shooter</td>\n",
       "      <td>304.75</td>\n",
       "    </tr>\n",
       "    <tr>\n",
       "      <th>2</th>\n",
       "      <td>Role-Playing</td>\n",
       "      <td>192.80</td>\n",
       "    </tr>\n",
       "    <tr>\n",
       "      <th>3</th>\n",
       "      <td>Sports</td>\n",
       "      <td>181.07</td>\n",
       "    </tr>\n",
       "    <tr>\n",
       "      <th>4</th>\n",
       "      <td>Misc</td>\n",
       "      <td>85.28</td>\n",
       "    </tr>\n",
       "    <tr>\n",
       "      <th>5</th>\n",
       "      <td>Platform</td>\n",
       "      <td>61.00</td>\n",
       "    </tr>\n",
       "    <tr>\n",
       "      <th>6</th>\n",
       "      <td>Racing</td>\n",
       "      <td>53.50</td>\n",
       "    </tr>\n",
       "    <tr>\n",
       "      <th>7</th>\n",
       "      <td>Fighting</td>\n",
       "      <td>44.49</td>\n",
       "    </tr>\n",
       "    <tr>\n",
       "      <th>8</th>\n",
       "      <td>Simulation</td>\n",
       "      <td>35.12</td>\n",
       "    </tr>\n",
       "    <tr>\n",
       "      <th>9</th>\n",
       "      <td>Adventure</td>\n",
       "      <td>29.43</td>\n",
       "    </tr>\n",
       "    <tr>\n",
       "      <th>10</th>\n",
       "      <td>Strategy</td>\n",
       "      <td>13.34</td>\n",
       "    </tr>\n",
       "    <tr>\n",
       "      <th>11</th>\n",
       "      <td>Puzzle</td>\n",
       "      <td>4.89</td>\n",
       "    </tr>\n",
       "  </tbody>\n",
       "</table>\n",
       "</div>"
      ],
      "text/plain": [
       "           genre  world_sales\n",
       "0         Action       446.41\n",
       "1        Shooter       304.75\n",
       "2   Role-Playing       192.80\n",
       "3         Sports       181.07\n",
       "4           Misc        85.28\n",
       "5       Platform        61.00\n",
       "6         Racing        53.50\n",
       "7       Fighting        44.49\n",
       "8     Simulation        35.12\n",
       "9      Adventure        29.43\n",
       "10      Strategy        13.34\n",
       "11        Puzzle         4.89"
      ]
     },
     "metadata": {},
     "output_type": "display_data"
    },
    {
     "data": {
      "text/plain": [
       "<AxesSubplot:>"
      ]
     },
     "execution_count": 22,
     "metadata": {},
     "output_type": "execute_result"
    },
    {
     "data": {
      "image/png": "[encoded data removed]",
      "text/plain": [
       "<Figure size 1440x720 with 1 Axes>"
      ]
     },
     "metadata": {
      "needs_background": "light"
     },
     "output_type": "display_data"
    }
   ],
   "source": [
    "#Все жанры\n",
    "df_genre_sales = df.groupby('genre')['world_sales'].sum().sort_values(ascending=False).to_frame().reset_index()\n",
    "display(df_genre_sales)\n",
    "df_genre_sales.plot(kind= 'barh', figsize=(20,10))"
   ]
  },
  {
   "cell_type": "code",
   "execution_count": 23,
   "id": "19bef88f",
   "metadata": {},
   "outputs": [
    {
     "data": {
      "text/html": [
       "<div>\n",
       "<style scoped>\n",
       "    .dataframe tbody tr th:only-of-type {\n",
       "        vertical-align: middle;\n",
       "    }\n",
       "\n",
       "    .dataframe tbody tr th {\n",
       "        vertical-align: top;\n",
       "    }\n",
       "\n",
       "    .dataframe thead th {\n",
       "        text-align: right;\n",
       "    }\n",
       "</style>\n",
       "<table border=\"1\" class=\"dataframe\">\n",
       "  <thead>\n",
       "    <tr style=\"text-align: right;\">\n",
       "      <th></th>\n",
       "      <th>genre</th>\n",
       "      <th>name</th>\n",
       "      <th>world_sales</th>\n",
       "      <th>sales_per_release</th>\n",
       "    </tr>\n",
       "  </thead>\n",
       "  <tbody>\n",
       "    <tr>\n",
       "      <th>4</th>\n",
       "      <td>Shooter</td>\n",
       "      <td>237</td>\n",
       "      <td>304.75</td>\n",
       "      <td>1.285865</td>\n",
       "    </tr>\n",
       "    <tr>\n",
       "      <th>8</th>\n",
       "      <td>Platform</td>\n",
       "      <td>85</td>\n",
       "      <td>61.00</td>\n",
       "      <td>0.717647</td>\n",
       "    </tr>\n",
       "    <tr>\n",
       "      <th>3</th>\n",
       "      <td>Sports</td>\n",
       "      <td>268</td>\n",
       "      <td>181.07</td>\n",
       "      <td>0.675634</td>\n",
       "    </tr>\n",
       "    <tr>\n",
       "      <th>1</th>\n",
       "      <td>Role-Playing</td>\n",
       "      <td>370</td>\n",
       "      <td>192.80</td>\n",
       "      <td>0.521081</td>\n",
       "    </tr>\n",
       "    <tr>\n",
       "      <th>6</th>\n",
       "      <td>Racing</td>\n",
       "      <td>115</td>\n",
       "      <td>53.50</td>\n",
       "      <td>0.465217</td>\n",
       "    </tr>\n",
       "    <tr>\n",
       "      <th>5</th>\n",
       "      <td>Misc</td>\n",
       "      <td>193</td>\n",
       "      <td>85.28</td>\n",
       "      <td>0.441865</td>\n",
       "    </tr>\n",
       "    <tr>\n",
       "      <th>9</th>\n",
       "      <td>Simulation</td>\n",
       "      <td>80</td>\n",
       "      <td>35.12</td>\n",
       "      <td>0.439000</td>\n",
       "    </tr>\n",
       "    <tr>\n",
       "      <th>0</th>\n",
       "      <td>Action</td>\n",
       "      <td>1041</td>\n",
       "      <td>446.41</td>\n",
       "      <td>0.428828</td>\n",
       "    </tr>\n",
       "    <tr>\n",
       "      <th>7</th>\n",
       "      <td>Fighting</td>\n",
       "      <td>109</td>\n",
       "      <td>44.49</td>\n",
       "      <td>0.408165</td>\n",
       "    </tr>\n",
       "    <tr>\n",
       "      <th>10</th>\n",
       "      <td>Strategy</td>\n",
       "      <td>71</td>\n",
       "      <td>13.34</td>\n",
       "      <td>0.187887</td>\n",
       "    </tr>\n",
       "    <tr>\n",
       "      <th>11</th>\n",
       "      <td>Puzzle</td>\n",
       "      <td>28</td>\n",
       "      <td>4.89</td>\n",
       "      <td>0.174643</td>\n",
       "    </tr>\n",
       "    <tr>\n",
       "      <th>2</th>\n",
       "      <td>Adventure</td>\n",
       "      <td>302</td>\n",
       "      <td>29.43</td>\n",
       "      <td>0.097450</td>\n",
       "    </tr>\n",
       "  </tbody>\n",
       "</table>\n",
       "</div>"
      ],
      "text/plain": [
       "           genre  name  world_sales  sales_per_release\n",
       "4        Shooter   237       304.75           1.285865\n",
       "8       Platform    85        61.00           0.717647\n",
       "3         Sports   268       181.07           0.675634\n",
       "1   Role-Playing   370       192.80           0.521081\n",
       "6         Racing   115        53.50           0.465217\n",
       "5           Misc   193        85.28           0.441865\n",
       "9     Simulation    80        35.12           0.439000\n",
       "0         Action  1041       446.41           0.428828\n",
       "7       Fighting   109        44.49           0.408165\n",
       "10      Strategy    71        13.34           0.187887\n",
       "11        Puzzle    28         4.89           0.174643\n",
       "2      Adventure   302        29.43           0.097450"
      ]
     },
     "metadata": {},
     "output_type": "display_data"
    }
   ],
   "source": [
    "#Вычислим прибыльность как выручку на один релиз\n",
    "df_genre = df_genre.merge(df_genre_sales, on='genre')\n",
    "df_genre['sales_per_release'] = df_genre['world_sales'] / df_genre['name']\n",
    "df_genre.sort_values('sales_per_release', ascending=False, inplace=True)\n",
    "display(df_genre)"
   ]
  },
  {
   "cell_type": "markdown",
   "id": "db5b30ca",
   "metadata": {},
   "source": [
    "Рейтинг жанров по выручке частично совпадает рейтингом по количеству игр в этих жанрах. \n",
    "1. Action\n",
    "2. Shooter\n",
    "3. Role-Playing\n",
    "4. Sports\n",
    "5. Misc\n",
    "\n",
    "Меньше всего денег приносит жанр Puzzle, его продажи примерно на порядок меньше лидера - Action. Что касается прибыльности, то посчитаем соотношение выручка / количество релизов для каждого жанра из пятерки. Получится следующий топ-5 список:\n",
    "\n",
    "1. Shooter\n",
    "2. Platform\n",
    "3. Sports\n",
    "4. Role-Playing\n",
    "5. Racing"
   ]
  },
  {
   "cell_type": "markdown",
   "id": "0b8e51ea",
   "metadata": {},
   "source": [
    "## Портрет пользователя каждого региона"
   ]
  },
  {
   "cell_type": "markdown",
   "id": "4f9b3e89",
   "metadata": {},
   "source": [
    "### Самые популярные платформы (топ-5). Различия в долях продаж"
   ]
  },
  {
   "cell_type": "markdown",
   "id": "98ad75b4",
   "metadata": {},
   "source": [
    "Распределение продаж по Северной Америке на диаграмме boxplot и гистограмме"
   ]
  },
  {
   "cell_type": "code",
   "execution_count": 33,
   "id": "29f6f87b",
   "metadata": {},
   "outputs": [
    {
     "data": {
      "image/png": "[encoded data removed]",
      "text/plain": [
       "<Figure size 432x288 with 1 Axes>"
      ]
     },
     "metadata": {
      "needs_background": "light"
     },
     "output_type": "display_data"
    },
    {
     "data": {
      "image/png": "[encoded data removed]",
      "text/plain": [
       "<Figure size 432x288 with 1 Axes>"
      ]
     },
     "metadata": {
      "needs_background": "light"
     },
     "output_type": "display_data"
    }
   ],
   "source": [
    "#Сначала посмотрим на распределения, чтобы понять порог продаж для принадлежности к определенному региону и отсеять выбросы\n",
    "df_na = df[(5 < df['na_sales']) & (df['na_sales'] < 13)]\n",
    "df_na.boxplot('na_sales', )\n",
    "plt.show()\n",
    "df_na.hist('na_sales', bins=100)\n",
    "plt.xlabel('Уровень продаж')\n",
    "plt.ylabel('Распреление в выборке')\n",
    "plt.show()"
   ]
  },
  {
   "cell_type": "markdown",
   "id": "a06a7c07",
   "metadata": {},
   "source": [
    "Распределение продаж по Европе на диаграмме boxplot и гистограмме"
   ]
  },
  {
   "cell_type": "code",
   "execution_count": 34,
   "id": "817b0605",
   "metadata": {},
   "outputs": [
    {
     "data": {
      "image/png": "[encoded data removed]",
      "text/plain": [
       "<Figure size 432x288 with 1 Axes>"
      ]
     },
     "metadata": {
      "needs_background": "light"
     },
     "output_type": "display_data"
    },
    {
     "data": {
      "image/png": "[encoded data removed]",
      "text/plain": [
       "<Figure size 432x288 with 1 Axes>"
      ]
     },
     "metadata": {
      "needs_background": "light"
     },
     "output_type": "display_data"
    }
   ],
   "source": [
    "df_eu = df[(3 < df['eu_sales']) & (df['eu_sales'] < 8)]\n",
    "df_eu.boxplot('eu_sales')\n",
    "plt.show()\n",
    "df_eu.hist('eu_sales', bins=100)\n",
    "plt.xlabel('Уровень продаж')\n",
    "plt.ylabel('Распреление в выборке')\n",
    "plt.show()"
   ]
  },
  {
   "cell_type": "markdown",
   "id": "64b8dbce",
   "metadata": {},
   "source": [
    "Распределение продаж по Японии на диаграмме boxplot и гистограмме"
   ]
  },
  {
   "cell_type": "code",
   "execution_count": 35,
   "id": "f72befcc",
   "metadata": {},
   "outputs": [
    {
     "data": {
      "image/png": "[encoded data removed]",
      "text/plain": [
       "<Figure size 432x288 with 1 Axes>"
      ]
     },
     "metadata": {
      "needs_background": "light"
     },
     "output_type": "display_data"
    },
    {
     "data": {
      "image/png": "[encoded data removed]",
      "text/plain": [
       "<Figure size 432x288 with 1 Axes>"
      ]
     },
     "metadata": {
      "needs_background": "light"
     },
     "output_type": "display_data"
    }
   ],
   "source": [
    "df_jp = df[(2 < df['jp_sales']) & (df['jp_sales'] < 6)]\n",
    "df_jp.boxplot('jp_sales')\n",
    "plt.show()\n",
    "df_jp.hist('jp_sales', bins=100)\n",
    "plt.xlabel('Уровень продаж')\n",
    "plt.ylabel('Распреление в выборке')\n",
    "plt.show()"
   ]
  },
  {
   "cell_type": "code",
   "execution_count": null,
   "id": "21e43701",
   "metadata": {},
   "outputs": [],
   "source": [
    "display(\"North America: \", df_na\n",
    "        .groupby('platform')['na_sales']\n",
    "        .sum().sort_values(ascending=False)\n",
    "        .head(5)\n",
    "        .reset_index()\n",
    "       )\n",
    "display(\"Europe: \", df_eu\n",
    "        .groupby('platform')['eu_sales']\n",
    "        .sum()\n",
    "        .sort_values(ascending=False)\n",
    "        .head(5)\n",
    "        .reset_index())\n",
    "display(\"Japan: \", df_jp\n",
    "        .groupby('platform')['jp_sales']\n",
    "        .sum()\n",
    "        .sort_values(ascending=False)\n",
    "        .head(5)\n",
    "        .reset_index())"
   ]
  },
  {
   "cell_type": "markdown",
   "id": "0fae00ca",
   "metadata": {},
   "source": [
    "Видно, что пятерка наиболее популярных платформ в различных регионах различается:\n",
    "* В Северной Америке это : X360, PS3, DS, PS4, 3DS\n",
    "* В Европе               : PS4, PS3, X360, 3DS\n",
    "* В Японии               : 3DS, DS"
   ]
  },
  {
   "cell_type": "markdown",
   "id": "c0761882",
   "metadata": {},
   "source": [
    "### Самые популярные жанры (топ-5)"
   ]
  },
  {
   "cell_type": "code",
   "execution_count": 36,
   "id": "a926156a",
   "metadata": {},
   "outputs": [
    {
     "data": {
      "text/plain": [
       "'North America: '"
      ]
     },
     "metadata": {},
     "output_type": "display_data"
    },
    {
     "data": {
      "text/html": [
       "<div>\n",
       "<style scoped>\n",
       "    .dataframe tbody tr th:only-of-type {\n",
       "        vertical-align: middle;\n",
       "    }\n",
       "\n",
       "    .dataframe tbody tr th {\n",
       "        vertical-align: top;\n",
       "    }\n",
       "\n",
       "    .dataframe thead th {\n",
       "        text-align: right;\n",
       "    }\n",
       "</style>\n",
       "<table border=\"1\" class=\"dataframe\">\n",
       "  <thead>\n",
       "    <tr style=\"text-align: right;\">\n",
       "      <th></th>\n",
       "      <th>genre</th>\n",
       "      <th>na_sales</th>\n",
       "    </tr>\n",
       "  </thead>\n",
       "  <tbody>\n",
       "    <tr>\n",
       "      <th>0</th>\n",
       "      <td>Shooter</td>\n",
       "      <td>88.18</td>\n",
       "    </tr>\n",
       "    <tr>\n",
       "      <th>1</th>\n",
       "      <td>Action</td>\n",
       "      <td>48.27</td>\n",
       "    </tr>\n",
       "    <tr>\n",
       "      <th>2</th>\n",
       "      <td>Racing</td>\n",
       "      <td>21.59</td>\n",
       "    </tr>\n",
       "    <tr>\n",
       "      <th>3</th>\n",
       "      <td>Sports</td>\n",
       "      <td>17.93</td>\n",
       "    </tr>\n",
       "    <tr>\n",
       "      <th>4</th>\n",
       "      <td>Platform</td>\n",
       "      <td>17.34</td>\n",
       "    </tr>\n",
       "  </tbody>\n",
       "</table>\n",
       "</div>"
      ],
      "text/plain": [
       "      genre  na_sales\n",
       "0   Shooter     88.18\n",
       "1    Action     48.27\n",
       "2    Racing     21.59\n",
       "3    Sports     17.93\n",
       "4  Platform     17.34"
      ]
     },
     "metadata": {},
     "output_type": "display_data"
    },
    {
     "data": {
      "text/plain": [
       "'Europe: '"
      ]
     },
     "metadata": {},
     "output_type": "display_data"
    },
    {
     "data": {
      "text/html": [
       "<div>\n",
       "<style scoped>\n",
       "    .dataframe tbody tr th:only-of-type {\n",
       "        vertical-align: middle;\n",
       "    }\n",
       "\n",
       "    .dataframe tbody tr th {\n",
       "        vertical-align: top;\n",
       "    }\n",
       "\n",
       "    .dataframe thead th {\n",
       "        text-align: right;\n",
       "    }\n",
       "</style>\n",
       "<table border=\"1\" class=\"dataframe\">\n",
       "  <thead>\n",
       "    <tr style=\"text-align: right;\">\n",
       "      <th></th>\n",
       "      <th>genre</th>\n",
       "      <th>eu_sales</th>\n",
       "    </tr>\n",
       "  </thead>\n",
       "  <tbody>\n",
       "    <tr>\n",
       "      <th>0</th>\n",
       "      <td>Shooter</td>\n",
       "      <td>42.33</td>\n",
       "    </tr>\n",
       "    <tr>\n",
       "      <th>1</th>\n",
       "      <td>Action</td>\n",
       "      <td>36.69</td>\n",
       "    </tr>\n",
       "    <tr>\n",
       "      <th>2</th>\n",
       "      <td>Racing</td>\n",
       "      <td>31.71</td>\n",
       "    </tr>\n",
       "    <tr>\n",
       "      <th>3</th>\n",
       "      <td>Sports</td>\n",
       "      <td>26.74</td>\n",
       "    </tr>\n",
       "    <tr>\n",
       "      <th>4</th>\n",
       "      <td>Platform</td>\n",
       "      <td>13.43</td>\n",
       "    </tr>\n",
       "  </tbody>\n",
       "</table>\n",
       "</div>"
      ],
      "text/plain": [
       "      genre  eu_sales\n",
       "0   Shooter     42.33\n",
       "1    Action     36.69\n",
       "2    Racing     31.71\n",
       "3    Sports     26.74\n",
       "4  Platform     13.43"
      ]
     },
     "metadata": {},
     "output_type": "display_data"
    },
    {
     "data": {
      "text/plain": [
       "'Japan: '"
      ]
     },
     "metadata": {},
     "output_type": "display_data"
    },
    {
     "data": {
      "text/html": [
       "<div>\n",
       "<style scoped>\n",
       "    .dataframe tbody tr th:only-of-type {\n",
       "        vertical-align: middle;\n",
       "    }\n",
       "\n",
       "    .dataframe tbody tr th {\n",
       "        vertical-align: top;\n",
       "    }\n",
       "\n",
       "    .dataframe thead th {\n",
       "        text-align: right;\n",
       "    }\n",
       "</style>\n",
       "<table border=\"1\" class=\"dataframe\">\n",
       "  <thead>\n",
       "    <tr style=\"text-align: right;\">\n",
       "      <th></th>\n",
       "      <th>genre</th>\n",
       "      <th>jp_sales</th>\n",
       "    </tr>\n",
       "  </thead>\n",
       "  <tbody>\n",
       "    <tr>\n",
       "      <th>0</th>\n",
       "      <td>Role-Playing</td>\n",
       "      <td>36.32</td>\n",
       "    </tr>\n",
       "    <tr>\n",
       "      <th>1</th>\n",
       "      <td>Sports</td>\n",
       "      <td>13.18</td>\n",
       "    </tr>\n",
       "    <tr>\n",
       "      <th>2</th>\n",
       "      <td>Racing</td>\n",
       "      <td>13.15</td>\n",
       "    </tr>\n",
       "    <tr>\n",
       "      <th>3</th>\n",
       "      <td>Simulation</td>\n",
       "      <td>9.72</td>\n",
       "    </tr>\n",
       "    <tr>\n",
       "      <th>4</th>\n",
       "      <td>Misc</td>\n",
       "      <td>9.58</td>\n",
       "    </tr>\n",
       "  </tbody>\n",
       "</table>\n",
       "</div>"
      ],
      "text/plain": [
       "          genre  jp_sales\n",
       "0  Role-Playing     36.32\n",
       "1        Sports     13.18\n",
       "2        Racing     13.15\n",
       "3    Simulation      9.72\n",
       "4          Misc      9.58"
      ]
     },
     "metadata": {},
     "output_type": "display_data"
    }
   ],
   "source": [
    "display(\"North America: \", df_na\n",
    "        .groupby('genre')['na_sales']\n",
    "        .sum().sort_values(ascending=False)\n",
    "        .head(5)\n",
    "        .reset_index()\n",
    "       )\n",
    "display(\"Europe: \", df_eu\n",
    "        .groupby('genre')['eu_sales']\n",
    "        .sum()\n",
    "        .sort_values(ascending=False)\n",
    "        .head(5)\n",
    "        .reset_index())\n",
    "display(\"Japan: \", df_jp\n",
    "        .groupby('genre')['jp_sales']\n",
    "        .sum()\n",
    "        .sort_values(ascending=False)\n",
    "        .head(5)\n",
    "        .reset_index())"
   ]
  },
  {
   "cell_type": "markdown",
   "id": "d0f1f2bc",
   "metadata": {},
   "source": [
    "В части жанров есть схожесть между Северной Америкой и Европой, там первые места занимает Shooter. В Японии шутеры не так популярны, как в других регионах, их нет в пятерке по данному региону.\n",
    "\n",
    "Топ-5 по жанрам:\n",
    "* В Северной Америке это : Shooter, Action, Misc, Role-Playing\n",
    "* В Европе : Shooter, Sports, Action, Role-Playing, Platform\n",
    "* В Японии : Role-Playing, Action, Simulation, Platform, Fighting"
   ]
  },
  {
   "cell_type": "markdown",
   "id": "764dbc8f",
   "metadata": {},
   "source": [
    "### Влияет ли рейтинг ESRB на продажи в отдельном регионе"
   ]
  },
  {
   "cell_type": "code",
   "execution_count": 37,
   "id": "cf33764d",
   "metadata": {},
   "outputs": [
    {
     "data": {
      "image/png": "[encoded data removed]",
      "text/plain": [
       "<Figure size 432x288 with 1 Axes>"
      ]
     },
     "metadata": {
      "needs_background": "light"
     },
     "output_type": "display_data"
    },
    {
     "data": {
      "image/png": "[encoded data removed]",
      "text/plain": [
       "<Figure size 432x288 with 1 Axes>"
      ]
     },
     "metadata": {
      "needs_background": "light"
     },
     "output_type": "display_data"
    },
    {
     "data": {
      "image/png": "[encoded data removed]",
      "text/plain": [
       "<Figure size 432x288 with 1 Axes>"
      ]
     },
     "metadata": {
      "needs_background": "light"
     },
     "output_type": "display_data"
    }
   ],
   "source": [
    "df_na.groupby('rating')['na_sales'].mean().plot(kind='bar', legend=True, title='Продажи в Северной Америке в зависимости от рейтинга ESRB')\n",
    "plt.xlabel('Рейтинг')\n",
    "plt.ylabel('Уровень продаж')\n",
    "plt.show()\n",
    "\n",
    "df_eu.groupby('rating')['eu_sales'].mean().plot(kind='bar', legend=True, title='Продажи в Европе в зависимости от рейтинга ESRB')\n",
    "plt.xlabel('Рейтинг')\n",
    "plt.ylabel('Уровень продаж')\n",
    "plt.show()\n",
    "\n",
    "df_jp.groupby('rating')['jp_sales'].mean().plot(kind='bar', legend=True, title='Продажи в Японии в зависимости от рейтинга ESRB')\n",
    "plt.xlabel('Рейтинг')\n",
    "plt.ylabel('Уровень продаж')\n",
    "plt.show()"
   ]
  },
  {
   "cell_type": "markdown",
   "id": "f3c85dc7",
   "metadata": {},
   "source": [
    "Видно, что рейтинг по-разному влияет на продажи в зависимости от региона. Меньше всего - в Северной Америке, больше всего - в Японии, где игры с рейтингом E10+ имеют наибольшую среднюю выручку, а с рейтингом M - наименьшую."
   ]
  },
  {
   "cell_type": "markdown",
   "id": "e8eb562c",
   "metadata": {},
   "source": [
    "## Проверка гипотез"
   ]
  },
  {
   "cell_type": "markdown",
   "id": "c5a5acbd",
   "metadata": {},
   "source": [
    "### Cредние пользовательские рейтинги платформ Xbox One и PC одинаковые;\n",
    "\n",
    "\n",
    "Здесь нулевая гипотеза звучит так:\n",
    "* средний пользовательский рейтинг платформы Xbox One равен рейтингу платформы PC\n",
    "\n",
    "Альтернативная:\n",
    "* средний пользовательский рейтинг платформы Xbox One отличается от рейтинга платформы PC (двусторонняя)"
   ]
  },
  {
   "cell_type": "code",
   "execution_count": 38,
   "id": "edc3a9a0",
   "metadata": {},
   "outputs": [],
   "source": [
    "#Перед проверкой гипотез удалим строки с незаполненными значениями user_score и возьмем данные за все года, \n",
    "#а не за последние пять, т.к. для статистических тестов чем больше выборка, тем лучше\n",
    "df = df_all\n",
    "df = df[~df.user_score.isna()]"
   ]
  },
  {
   "cell_type": "code",
   "execution_count": 39,
   "id": "844aa770",
   "metadata": {},
   "outputs": [
    {
     "name": "stdout",
     "output_type": "stream",
     "text": [
      "p-значение: 0.004660269547086834\n",
      "Отвергаем нулевую гипотезу\n"
     ]
    },
    {
     "data": {
      "text/plain": [
       "6.65"
      ]
     },
     "metadata": {},
     "output_type": "display_data"
    },
    {
     "data": {
      "text/plain": [
       "6.15"
      ]
     },
     "metadata": {},
     "output_type": "display_data"
    }
   ],
   "source": [
    "#Гипотеза о равенстве средних двух генеральных совокупностей\n",
    "alpha = .05\n",
    "results = st.ttest_ind(\n",
    "    df[df.platform=='PC']['user_score'], \n",
    "   df[df.platform=='XOne']['user_score'])\n",
    "\n",
    "print('p-значение:', results.pvalue)\n",
    "\n",
    "if results.pvalue < alpha:\n",
    "    print(\"Отвергаем нулевую гипотезу\")\n",
    "else:\n",
    "    print(\"Не получилось отвергнуть нулевую гипотезу\") \n",
    "    \n",
    "display(df[df.platform=='PC']['user_score'].mean().round(2), df[df.platform=='XOne']['user_score'].mean().round(2))"
   ]
  },
  {
   "cell_type": "markdown",
   "id": "1757478a",
   "metadata": {},
   "source": [
    "### Средние пользовательские рейтинги жанров Action и Sports разные\n",
    "\n",
    "Здесь нулевая гипотеза звучит так:\n",
    "* средний пользовательский рейтинг жанра Action равен рейтингу жанра Sports\n",
    "\n",
    "Альтернативная:\n",
    "* средний пользовательский рейтинг жанра Action отличается от рейтинга жанра Sports (двусторонняя)"
   ]
  },
  {
   "cell_type": "code",
   "execution_count": 40,
   "id": "82e3087a",
   "metadata": {},
   "outputs": [
    {
     "name": "stdout",
     "output_type": "stream",
     "text": [
      "p-значение: 7.2237688347126e-14\n",
      "Отвергаем нулевую гипотезу\n"
     ]
    },
    {
     "data": {
      "text/plain": [
       "5.85"
      ]
     },
     "metadata": {},
     "output_type": "display_data"
    },
    {
     "data": {
      "text/plain": [
       "5.07"
      ]
     },
     "metadata": {},
     "output_type": "display_data"
    }
   ],
   "source": [
    "#Гипотеза о равенстве средних двух генеральных совокупностей\n",
    "alpha = .05\n",
    "results = st.ttest_ind(\n",
    "    df[df.genre=='Action']['user_score'], \n",
    "   df[df.genre=='Sports']['user_score'])\n",
    "\n",
    "print('p-значение:', results.pvalue)\n",
    "\n",
    "if results.pvalue < alpha:\n",
    "    print(\"Отвергаем нулевую гипотезу\")\n",
    "else:\n",
    "    print(\"Не получилось отвергнуть нулевую гипотезу\") \n",
    "    \n",
    "display(df[df.genre=='Action']['user_score'].mean().round(2), df[df.genre=='Sports']['user_score'].mean().round(2))"
   ]
  },
  {
   "cell_type": "markdown",
   "id": "d9cc5a41",
   "metadata": {},
   "source": [
    "## Общий вывод:"
   ]
  },
  {
   "cell_type": "markdown",
   "id": "77d62561",
   "metadata": {},
   "source": [
    "Для интернет-магазина «Стримчик» по историческим данным о продажах видео-игр было проведено исследование связи успешности игры с различными факторами и выявление закономерностей.\n",
    "\n",
    "Данные представлены по играм, выпущенным с 1980 по 2016 годы. Больше всего игр было выпущено в десятилетие с 2000 по 2010. Топ-5 платформ по объему продаж в мире за последние 10 лет: PS2, X360, PS3, Wii, DS. К наиболее активно растущим платформам, на которые стоит сделать ставку, относятся: PS4, XOne, 3DS. Характерный срок для появления и исчезновения новых платформ - около 10 лет, поэтому для дальнейшего анализа оставлены данные только за последние 5 лет (с 2011 г.)\n",
    "\n",
    "Видно, что для одной из самых популярных платформ PS3 устойчивой корреляции между оценками игр критиками а также пользователями и продажами по миру нет . Однако также можно сделать вывод о том, что у игр с наибольшими продажами меньше разброс в оценках. Т.е. консенсус в оценке игры и продажи коррелируют, возможно, взаимно усиливая друг друга. Игры с высокими продажами получают меньше негативных оценок, игры с меньшим количеством негативных оценком получают большие продажи.\n",
    "\n",
    "Топ-5 распределения игр по жанрам выглядит так:\n",
    "1. Action\n",
    "2. Sports\n",
    "3. Misc\n",
    "4. Role-Playing\n",
    "5. Adventure\n",
    "\n",
    "Рейтинг жанров по выручке частично совпадает рейтингом по количеству их. \n",
    "1. Action\n",
    "2. Sports\n",
    "3. Shooter\n",
    "4. Role-Playing\n",
    "5. Misc\n",
    "\n",
    "Меньше всего денег приносит жанр Puzzle, его продажи примерно на порядок меньше лидера - Action\n",
    "\n",
    "По прибыльности жанров рейтинг следующий:\n",
    "1. Shooter\n",
    "2. Platform\n",
    "3. Sports\n",
    "4. Role-Playing\n",
    "5. Racing\n",
    "\n",
    "Видно, что пятерка наиболее популярных платформ в различных регионах различается:\n",
    "* В Северной Америке это : X360, PS3, DS, PS4, 3DS\n",
    "* В Европе               : PS4, PS3, X360, 3DS\n",
    "* В Японии               : 3DS, DS\n",
    "\n",
    "В части жанров есть схожесть между Северной Америкой и Европой, там первые места занимает Shooter. В Японии шутеры не так популярны, как в других регионах, их нет в пятерке по данному региону.\n",
    "Топ-5 по жанрам:\n",
    "* В Северной Америке это : Shooter, Action, Misc, Role-Playing\n",
    "* В Европе : Shooter, Sports, Action, Role-Playing, Platform\n",
    "* В Японии : Role-Playing, Action, Simulation, Platform, Fighting\n",
    "\n",
    "Рейтинг ESRB по-разному влияет на продажи в зависимости от региона. Меньше всего - в Северной Америке, больше всего - в Японии, где игры с рейтингом E10+ имеют наибольшую среднюю выручку, а с рейтингом M - наименьшую.\n",
    "\n",
    "\n",
    "Проверили 2 гипотезы и определили:\n",
    "1. Есть статистически значимое отличие среднего пользовательского рейтинга платформы Xbox One от рейтинга платформы PC\n",
    "При этом средний пользовательский рейтинг по выборке для платформы Xbox One равен 6,65, а для платформы PC - 6,15\n",
    "2. Есть статистически значимое отличие среднего пользовательского рейтинга жанра Action от рейтинга жанра Sports\n",
    "При этом средний пользовательский рейтинг по выборке для жанра Action равен 5,85, а для жанра Sports - 5,07\n"
   ]
  }
 ],
 "metadata": {
  "ExecuteTimeLog": [
   {
    "duration": 915,
    "start_time": "2022-06-01T11:39:12.125Z"
   },
   {
    "duration": 0,
    "start_time": "2022-06-01T11:39:13.042Z"
   },
   {
    "duration": 0,
    "start_time": "2022-06-01T11:39:13.043Z"
   },
   {
    "duration": 0,
    "start_time": "2022-06-01T11:39:13.044Z"
   },
   {
    "duration": 0,
    "start_time": "2022-06-01T11:39:13.045Z"
   },
   {
    "duration": 0,
    "start_time": "2022-06-01T11:39:13.052Z"
   },
   {
    "duration": 0,
    "start_time": "2022-06-01T11:39:13.052Z"
   },
   {
    "duration": 0,
    "start_time": "2022-06-01T11:39:13.053Z"
   },
   {
    "duration": 0,
    "start_time": "2022-06-01T11:39:13.055Z"
   },
   {
    "duration": 0,
    "start_time": "2022-06-01T11:39:13.056Z"
   },
   {
    "duration": 0,
    "start_time": "2022-06-01T11:39:13.057Z"
   },
   {
    "duration": 0,
    "start_time": "2022-06-01T11:39:13.059Z"
   },
   {
    "duration": 0,
    "start_time": "2022-06-01T11:39:13.060Z"
   },
   {
    "duration": 0,
    "start_time": "2022-06-01T11:39:13.061Z"
   },
   {
    "duration": 0,
    "start_time": "2022-06-01T11:39:13.062Z"
   },
   {
    "duration": 0,
    "start_time": "2022-06-01T11:39:13.063Z"
   },
   {
    "duration": 0,
    "start_time": "2022-06-01T11:39:13.064Z"
   },
   {
    "duration": 0,
    "start_time": "2022-06-01T11:39:13.065Z"
   },
   {
    "duration": 0,
    "start_time": "2022-06-01T11:39:13.066Z"
   },
   {
    "duration": 0,
    "start_time": "2022-06-01T11:39:13.067Z"
   },
   {
    "duration": 0,
    "start_time": "2022-06-01T11:39:13.069Z"
   },
   {
    "duration": 0,
    "start_time": "2022-06-01T11:39:13.070Z"
   },
   {
    "duration": 0,
    "start_time": "2022-06-01T11:39:13.071Z"
   },
   {
    "duration": 0,
    "start_time": "2022-06-01T11:39:13.072Z"
   },
   {
    "duration": 0,
    "start_time": "2022-06-01T11:39:13.073Z"
   },
   {
    "duration": 0,
    "start_time": "2022-06-01T11:39:13.075Z"
   },
   {
    "duration": 63,
    "start_time": "2022-06-01T11:40:55.165Z"
   },
   {
    "duration": 1145,
    "start_time": "2022-06-01T11:41:16.131Z"
   },
   {
    "duration": 1420,
    "start_time": "2022-06-01T11:41:22.369Z"
   },
   {
    "duration": 36,
    "start_time": "2022-06-01T11:41:23.791Z"
   },
   {
    "duration": 8,
    "start_time": "2022-06-01T11:41:23.853Z"
   },
   {
    "duration": 20,
    "start_time": "2022-06-01T11:41:23.862Z"
   },
   {
    "duration": 11,
    "start_time": "2022-06-01T11:41:23.884Z"
   },
   {
    "duration": 5,
    "start_time": "2022-06-01T11:41:23.896Z"
   },
   {
    "duration": 7,
    "start_time": "2022-06-01T11:41:23.903Z"
   },
   {
    "duration": 9,
    "start_time": "2022-06-01T11:41:23.912Z"
   },
   {
    "duration": 491,
    "start_time": "2022-06-01T11:41:23.922Z"
   },
   {
    "duration": 247,
    "start_time": "2022-06-01T11:41:24.414Z"
   },
   {
    "duration": 271,
    "start_time": "2022-06-01T11:41:24.663Z"
   },
   {
    "duration": 224,
    "start_time": "2022-06-01T11:41:24.936Z"
   },
   {
    "duration": 254,
    "start_time": "2022-06-01T11:41:25.162Z"
   },
   {
    "duration": 132,
    "start_time": "2022-06-01T11:41:25.420Z"
   },
   {
    "duration": 67,
    "start_time": "2022-06-01T11:41:25.554Z"
   },
   {
    "duration": 80,
    "start_time": "2022-06-01T11:41:25.623Z"
   },
   {
    "duration": 1850,
    "start_time": "2022-06-01T11:41:25.705Z"
   },
   {
    "duration": 10,
    "start_time": "2022-06-01T11:41:27.557Z"
   },
   {
    "duration": 102,
    "start_time": "2022-06-01T11:41:27.569Z"
   },
   {
    "duration": 1136,
    "start_time": "2022-06-01T11:41:27.673Z"
   },
   {
    "duration": 1426,
    "start_time": "2022-06-01T11:41:28.811Z"
   },
   {
    "duration": 46,
    "start_time": "2022-06-01T11:41:30.239Z"
   },
   {
    "duration": 867,
    "start_time": "2022-06-01T11:41:30.287Z"
   },
   {
    "duration": 20,
    "start_time": "2022-06-01T11:41:31.156Z"
   },
   {
    "duration": 14,
    "start_time": "2022-06-01T11:41:31.178Z"
   },
   {
    "duration": 40,
    "start_time": "2022-06-01T11:41:31.194Z"
   },
   {
    "duration": 7,
    "start_time": "2022-06-01T12:02:23.056Z"
   },
   {
    "duration": 7,
    "start_time": "2022-06-01T12:02:35.114Z"
   },
   {
    "duration": 10,
    "start_time": "2022-06-01T12:06:12.434Z"
   },
   {
    "duration": 4,
    "start_time": "2022-06-01T12:08:51.875Z"
   },
   {
    "duration": 3003,
    "start_time": "2022-06-02T15:25:04.776Z"
   },
   {
    "duration": 889,
    "start_time": "2022-06-02T15:35:39.580Z"
   },
   {
    "duration": 266,
    "start_time": "2022-06-02T18:46:35.112Z"
   },
   {
    "duration": 1144,
    "start_time": "2022-06-02T18:48:53.506Z"
   },
   {
    "duration": 37,
    "start_time": "2022-06-02T18:48:54.652Z"
   },
   {
    "duration": 8,
    "start_time": "2022-06-02T18:48:54.691Z"
   },
   {
    "duration": 19,
    "start_time": "2022-06-02T18:48:54.701Z"
   },
   {
    "duration": 34,
    "start_time": "2022-06-02T18:48:54.722Z"
   },
   {
    "duration": 12,
    "start_time": "2022-06-02T18:48:54.757Z"
   },
   {
    "duration": 18,
    "start_time": "2022-06-02T18:48:54.771Z"
   },
   {
    "duration": 48,
    "start_time": "2022-06-02T18:48:54.790Z"
   },
   {
    "duration": 206,
    "start_time": "2022-06-02T18:48:54.840Z"
   },
   {
    "duration": 237,
    "start_time": "2022-06-02T18:48:55.048Z"
   },
   {
    "duration": 13,
    "start_time": "2022-06-02T18:48:55.287Z"
   },
   {
    "duration": 224,
    "start_time": "2022-06-02T18:48:55.302Z"
   },
   {
    "duration": 202,
    "start_time": "2022-06-02T18:48:55.528Z"
   },
   {
    "duration": 10,
    "start_time": "2022-06-02T18:48:58.271Z"
   },
   {
    "duration": 12,
    "start_time": "2022-06-02T18:49:17.187Z"
   },
   {
    "duration": 160,
    "start_time": "2022-06-02T18:49:21.626Z"
   },
   {
    "duration": 187,
    "start_time": "2022-06-02T18:52:04.891Z"
   },
   {
    "duration": 34,
    "start_time": "2022-06-02T18:53:05.291Z"
   },
   {
    "duration": 250,
    "start_time": "2022-06-02T18:53:18.920Z"
   },
   {
    "duration": 217,
    "start_time": "2022-06-02T18:53:32.451Z"
   },
   {
    "duration": 243,
    "start_time": "2022-06-02T18:54:08.554Z"
   },
   {
    "duration": 219,
    "start_time": "2022-06-02T18:54:20.254Z"
   },
   {
    "duration": 206,
    "start_time": "2022-06-02T18:58:37.786Z"
   },
   {
    "duration": 115,
    "start_time": "2022-06-02T18:58:48.792Z"
   },
   {
    "duration": 32,
    "start_time": "2022-06-02T18:58:59.411Z"
   },
   {
    "duration": 119,
    "start_time": "2022-06-02T18:59:04.771Z"
   },
   {
    "duration": 115,
    "start_time": "2022-06-02T18:59:16.465Z"
   },
   {
    "duration": 110,
    "start_time": "2022-06-02T18:59:29.076Z"
   },
   {
    "duration": 111,
    "start_time": "2022-06-02T18:59:53.499Z"
   },
   {
    "duration": 116,
    "start_time": "2022-06-02T19:03:24.901Z"
   },
   {
    "duration": 111,
    "start_time": "2022-06-02T19:05:27.073Z"
   },
   {
    "duration": 113,
    "start_time": "2022-06-02T19:06:06.987Z"
   },
   {
    "duration": 125,
    "start_time": "2022-06-02T19:06:13.440Z"
   },
   {
    "duration": 109,
    "start_time": "2022-06-02T19:07:08.777Z"
   },
   {
    "duration": 124,
    "start_time": "2022-06-02T19:30:23.463Z"
   },
   {
    "duration": 10,
    "start_time": "2022-06-02T19:30:40.559Z"
   },
   {
    "duration": 119,
    "start_time": "2022-06-02T19:30:49.231Z"
   },
   {
    "duration": 90,
    "start_time": "2022-06-02T19:31:44.332Z"
   },
   {
    "duration": 36,
    "start_time": "2022-06-02T19:32:25.376Z"
   },
   {
    "duration": 46,
    "start_time": "2022-06-02T19:32:38.359Z"
   },
   {
    "duration": 16,
    "start_time": "2022-06-02T19:33:22.052Z"
   },
   {
    "duration": 1227,
    "start_time": "2022-06-02T19:33:57.087Z"
   },
   {
    "duration": 648,
    "start_time": "2022-06-02T19:34:32.119Z"
   },
   {
    "duration": 38,
    "start_time": "2022-06-02T19:34:32.769Z"
   },
   {
    "duration": 7,
    "start_time": "2022-06-02T19:34:32.808Z"
   },
   {
    "duration": 29,
    "start_time": "2022-06-02T19:34:32.817Z"
   },
   {
    "duration": 29,
    "start_time": "2022-06-02T19:34:32.849Z"
   },
   {
    "duration": 10,
    "start_time": "2022-06-02T19:34:32.879Z"
   },
   {
    "duration": 10,
    "start_time": "2022-06-02T19:34:32.891Z"
   },
   {
    "duration": 9,
    "start_time": "2022-06-02T19:34:32.903Z"
   },
   {
    "duration": 199,
    "start_time": "2022-06-02T19:34:32.914Z"
   },
   {
    "duration": 208,
    "start_time": "2022-06-02T19:34:33.115Z"
   },
   {
    "duration": 304,
    "start_time": "2022-06-02T19:34:33.325Z"
   },
   {
    "duration": 25,
    "start_time": "2022-06-02T19:34:33.631Z"
   },
   {
    "duration": 177,
    "start_time": "2022-06-02T19:34:33.658Z"
   },
   {
    "duration": 202,
    "start_time": "2022-06-02T19:34:33.845Z"
   },
   {
    "duration": 211,
    "start_time": "2022-06-02T19:34:34.048Z"
   },
   {
    "duration": 9,
    "start_time": "2022-06-02T19:34:34.261Z"
   },
   {
    "duration": 211,
    "start_time": "2022-06-02T19:34:34.272Z"
   },
   {
    "duration": 12,
    "start_time": "2022-06-02T19:34:34.484Z"
   },
   {
    "duration": 86,
    "start_time": "2022-06-02T19:34:34.497Z"
   },
   {
    "duration": 35,
    "start_time": "2022-06-02T19:34:34.585Z"
   },
   {
    "duration": 57,
    "start_time": "2022-06-02T19:34:34.622Z"
   },
   {
    "duration": 1993,
    "start_time": "2022-06-02T19:34:34.681Z"
   },
   {
    "duration": 10,
    "start_time": "2022-06-02T19:34:36.675Z"
   },
   {
    "duration": 95,
    "start_time": "2022-06-02T19:34:36.687Z"
   },
   {
    "duration": 1518,
    "start_time": "2022-06-02T19:34:36.784Z"
   },
   {
    "duration": 1330,
    "start_time": "2022-06-02T19:34:38.304Z"
   },
   {
    "duration": 0,
    "start_time": "2022-06-02T19:34:39.637Z"
   },
   {
    "duration": 0,
    "start_time": "2022-06-02T19:34:39.645Z"
   },
   {
    "duration": 0,
    "start_time": "2022-06-02T19:34:39.646Z"
   },
   {
    "duration": 0,
    "start_time": "2022-06-02T19:34:39.647Z"
   },
   {
    "duration": 0,
    "start_time": "2022-06-02T19:34:39.650Z"
   },
   {
    "duration": 1800,
    "start_time": "2022-06-02T20:08:43.882Z"
   },
   {
    "duration": 41,
    "start_time": "2022-06-02T20:08:49.220Z"
   },
   {
    "duration": 889,
    "start_time": "2022-06-02T20:08:51.931Z"
   },
   {
    "duration": 26,
    "start_time": "2022-06-02T20:08:55.361Z"
   },
   {
    "duration": 6,
    "start_time": "2022-06-02T20:08:59.099Z"
   },
   {
    "duration": 18,
    "start_time": "2022-06-02T20:09:01.226Z"
   },
   {
    "duration": 30,
    "start_time": "2022-06-02T20:17:05.879Z"
   },
   {
    "duration": 24,
    "start_time": "2022-06-02T20:17:29.230Z"
   },
   {
    "duration": 36,
    "start_time": "2022-06-02T20:17:35.324Z"
   },
   {
    "duration": 43,
    "start_time": "2022-06-02T20:17:44.411Z"
   },
   {
    "duration": 67,
    "start_time": "2022-06-02T20:18:38.862Z"
   },
   {
    "duration": 13,
    "start_time": "2022-06-02T20:39:35.020Z"
   },
   {
    "duration": 22,
    "start_time": "2022-06-02T20:39:47.564Z"
   },
   {
    "duration": 82,
    "start_time": "2022-06-02T20:41:34.051Z"
   },
   {
    "duration": 27,
    "start_time": "2022-06-02T20:41:51.970Z"
   },
   {
    "duration": 32,
    "start_time": "2022-06-02T20:41:55.434Z"
   },
   {
    "duration": 34,
    "start_time": "2022-06-02T20:42:20.139Z"
   },
   {
    "duration": 31,
    "start_time": "2022-06-02T20:42:24.619Z"
   },
   {
    "duration": 17,
    "start_time": "2022-06-02T20:42:43.630Z"
   },
   {
    "duration": 24,
    "start_time": "2022-06-02T20:43:08.530Z"
   },
   {
    "duration": 32,
    "start_time": "2022-06-02T20:44:47.192Z"
   },
   {
    "duration": 41,
    "start_time": "2022-06-02T20:45:03.032Z"
   },
   {
    "duration": 31,
    "start_time": "2022-06-02T20:45:12.931Z"
   },
   {
    "duration": 64,
    "start_time": "2022-06-02T20:45:27.078Z"
   },
   {
    "duration": 20,
    "start_time": "2022-06-02T20:45:33.333Z"
   },
   {
    "duration": 126,
    "start_time": "2022-06-02T20:51:01.667Z"
   },
   {
    "duration": 21,
    "start_time": "2022-06-02T20:51:32.950Z"
   },
   {
    "duration": 32,
    "start_time": "2022-06-02T20:55:20.210Z"
   },
   {
    "duration": 6,
    "start_time": "2022-06-02T21:01:58.697Z"
   },
   {
    "duration": 616,
    "start_time": "2022-06-02T21:02:03.437Z"
   },
   {
    "duration": 33,
    "start_time": "2022-06-02T21:07:56.308Z"
   },
   {
    "duration": 789,
    "start_time": "2022-06-02T21:08:02.809Z"
   },
   {
    "duration": 573,
    "start_time": "2022-06-02T21:15:43.709Z"
   },
   {
    "duration": 713,
    "start_time": "2022-06-02T21:18:15.096Z"
   },
   {
    "duration": 2180,
    "start_time": "2022-06-03T07:50:46.147Z"
   },
   {
    "duration": 579,
    "start_time": "2022-06-03T07:53:42.407Z"
   },
   {
    "duration": 97,
    "start_time": "2022-06-03T07:54:49.069Z"
   },
   {
    "duration": 574,
    "start_time": "2022-06-03T07:56:09.805Z"
   },
   {
    "duration": 30,
    "start_time": "2022-06-03T07:56:48.128Z"
   },
   {
    "duration": 589,
    "start_time": "2022-06-03T08:03:49.638Z"
   },
   {
    "duration": 38,
    "start_time": "2022-06-03T08:03:50.230Z"
   },
   {
    "duration": 8,
    "start_time": "2022-06-03T08:03:50.269Z"
   },
   {
    "duration": 12,
    "start_time": "2022-06-03T08:03:50.278Z"
   },
   {
    "duration": 33,
    "start_time": "2022-06-03T08:03:50.292Z"
   },
   {
    "duration": 5,
    "start_time": "2022-06-03T08:03:50.327Z"
   },
   {
    "duration": 13,
    "start_time": "2022-06-03T08:03:50.334Z"
   },
   {
    "duration": 7,
    "start_time": "2022-06-03T08:03:50.348Z"
   },
   {
    "duration": 604,
    "start_time": "2022-06-03T08:03:50.356Z"
   },
   {
    "duration": 288,
    "start_time": "2022-06-03T08:03:50.961Z"
   },
   {
    "duration": 239,
    "start_time": "2022-06-03T08:03:51.251Z"
   },
   {
    "duration": 17,
    "start_time": "2022-06-03T08:03:51.491Z"
   },
   {
    "duration": 203,
    "start_time": "2022-06-03T08:03:51.510Z"
   },
   {
    "duration": 211,
    "start_time": "2022-06-03T08:03:51.716Z"
   },
   {
    "duration": 212,
    "start_time": "2022-06-03T08:03:51.928Z"
   },
   {
    "duration": 12,
    "start_time": "2022-06-03T08:03:52.142Z"
   },
   {
    "duration": 192,
    "start_time": "2022-06-03T08:03:52.156Z"
   },
   {
    "duration": 11,
    "start_time": "2022-06-03T08:03:52.349Z"
   },
   {
    "duration": 89,
    "start_time": "2022-06-03T08:03:52.361Z"
   },
   {
    "duration": 31,
    "start_time": "2022-06-03T08:03:52.451Z"
   },
   {
    "duration": 55,
    "start_time": "2022-06-03T08:03:52.483Z"
   },
   {
    "duration": 32,
    "start_time": "2022-06-03T08:03:56.156Z"
   },
   {
    "duration": 27,
    "start_time": "2022-06-03T08:04:42.878Z"
   },
   {
    "duration": 458,
    "start_time": "2022-06-03T08:04:53.004Z"
   },
   {
    "duration": 48,
    "start_time": "2022-06-03T08:05:17.022Z"
   },
   {
    "duration": 77,
    "start_time": "2022-06-03T08:05:43.907Z"
   },
   {
    "duration": 643,
    "start_time": "2022-06-03T08:05:50.877Z"
   },
   {
    "duration": 51,
    "start_time": "2022-06-03T08:06:09.659Z"
   },
   {
    "duration": 97,
    "start_time": "2022-06-03T08:07:03.235Z"
   },
   {
    "duration": 33,
    "start_time": "2022-06-03T08:07:07.585Z"
   },
   {
    "duration": 42,
    "start_time": "2022-06-03T08:07:14.164Z"
   },
   {
    "duration": 163,
    "start_time": "2022-06-03T08:10:23.547Z"
   },
   {
    "duration": 145,
    "start_time": "2022-06-03T08:14:18.015Z"
   },
   {
    "duration": 139,
    "start_time": "2022-06-03T08:14:33.267Z"
   },
   {
    "duration": 1108,
    "start_time": "2022-06-03T08:14:45.370Z"
   },
   {
    "duration": 202,
    "start_time": "2022-06-03T08:14:50.187Z"
   },
   {
    "duration": 133,
    "start_time": "2022-06-03T08:16:30.765Z"
   },
   {
    "duration": 647,
    "start_time": "2022-06-03T08:16:59.688Z"
   },
   {
    "duration": 638,
    "start_time": "2022-06-03T08:17:18.050Z"
   },
   {
    "duration": 634,
    "start_time": "2022-06-03T08:17:40.238Z"
   },
   {
    "duration": 85,
    "start_time": "2022-06-03T08:17:40.874Z"
   },
   {
    "duration": 12,
    "start_time": "2022-06-03T08:17:40.961Z"
   },
   {
    "duration": 16,
    "start_time": "2022-06-03T08:17:40.976Z"
   },
   {
    "duration": 40,
    "start_time": "2022-06-03T08:17:40.994Z"
   },
   {
    "duration": 12,
    "start_time": "2022-06-03T08:17:41.037Z"
   },
   {
    "duration": 18,
    "start_time": "2022-06-03T08:17:41.051Z"
   },
   {
    "duration": 27,
    "start_time": "2022-06-03T08:17:41.071Z"
   },
   {
    "duration": 253,
    "start_time": "2022-06-03T08:17:41.105Z"
   },
   {
    "duration": 324,
    "start_time": "2022-06-03T08:17:41.360Z"
   },
   {
    "duration": 276,
    "start_time": "2022-06-03T08:17:41.686Z"
   },
   {
    "duration": 13,
    "start_time": "2022-06-03T08:17:41.964Z"
   },
   {
    "duration": 219,
    "start_time": "2022-06-03T08:17:41.978Z"
   },
   {
    "duration": 228,
    "start_time": "2022-06-03T08:17:42.199Z"
   },
   {
    "duration": 239,
    "start_time": "2022-06-03T08:17:42.429Z"
   },
   {
    "duration": 9,
    "start_time": "2022-06-03T08:17:42.669Z"
   },
   {
    "duration": 207,
    "start_time": "2022-06-03T08:17:42.681Z"
   },
   {
    "duration": 12,
    "start_time": "2022-06-03T08:17:42.890Z"
   },
   {
    "duration": 84,
    "start_time": "2022-06-03T08:17:42.903Z"
   },
   {
    "duration": 62,
    "start_time": "2022-06-03T08:17:42.989Z"
   },
   {
    "duration": 46,
    "start_time": "2022-06-03T08:17:43.053Z"
   },
   {
    "duration": 148,
    "start_time": "2022-06-03T08:17:49.486Z"
   },
   {
    "duration": 141,
    "start_time": "2022-06-03T08:18:03.560Z"
   },
   {
    "duration": 135,
    "start_time": "2022-06-03T08:18:09.744Z"
   },
   {
    "duration": 131,
    "start_time": "2022-06-03T08:18:19.298Z"
   },
   {
    "duration": 176,
    "start_time": "2022-06-03T08:18:43.162Z"
   },
   {
    "duration": 128,
    "start_time": "2022-06-03T08:19:09.573Z"
   },
   {
    "duration": 130,
    "start_time": "2022-06-03T08:19:32.405Z"
   },
   {
    "duration": 126,
    "start_time": "2022-06-03T08:19:42.857Z"
   },
   {
    "duration": 146,
    "start_time": "2022-06-03T08:20:19.438Z"
   },
   {
    "duration": 153,
    "start_time": "2022-06-03T08:27:33.824Z"
   },
   {
    "duration": 192,
    "start_time": "2022-06-03T08:27:49.004Z"
   },
   {
    "duration": 184,
    "start_time": "2022-06-03T08:27:59.308Z"
   },
   {
    "duration": 200,
    "start_time": "2022-06-03T08:28:15.855Z"
   },
   {
    "duration": 212,
    "start_time": "2022-06-03T08:28:49.792Z"
   },
   {
    "duration": 32,
    "start_time": "2022-06-03T08:29:49.013Z"
   },
   {
    "duration": 978,
    "start_time": "2022-06-03T08:30:03.224Z"
   },
   {
    "duration": 44,
    "start_time": "2022-06-03T08:34:00.330Z"
   },
   {
    "duration": 19,
    "start_time": "2022-06-03T08:34:05.915Z"
   },
   {
    "duration": 76,
    "start_time": "2022-06-03T08:34:08.735Z"
   },
   {
    "duration": 6,
    "start_time": "2022-06-03T08:34:25.840Z"
   },
   {
    "duration": 26,
    "start_time": "2022-06-03T08:34:30.706Z"
   },
   {
    "duration": 1213,
    "start_time": "2022-06-03T08:35:26.987Z"
   },
   {
    "duration": 57,
    "start_time": "2022-06-03T08:35:28.202Z"
   },
   {
    "duration": 9,
    "start_time": "2022-06-03T08:35:28.262Z"
   },
   {
    "duration": 11,
    "start_time": "2022-06-03T08:35:28.273Z"
   },
   {
    "duration": 11,
    "start_time": "2022-06-03T08:35:28.286Z"
   },
   {
    "duration": 8,
    "start_time": "2022-06-03T08:35:28.298Z"
   },
   {
    "duration": 7,
    "start_time": "2022-06-03T08:35:28.308Z"
   },
   {
    "duration": 7,
    "start_time": "2022-06-03T08:35:28.316Z"
   },
   {
    "duration": 237,
    "start_time": "2022-06-03T08:35:28.324Z"
   },
   {
    "duration": 234,
    "start_time": "2022-06-03T08:35:28.563Z"
   },
   {
    "duration": 276,
    "start_time": "2022-06-03T08:35:28.798Z"
   },
   {
    "duration": 12,
    "start_time": "2022-06-03T08:35:29.076Z"
   },
   {
    "duration": 203,
    "start_time": "2022-06-03T08:35:29.090Z"
   },
   {
    "duration": 223,
    "start_time": "2022-06-03T08:35:29.296Z"
   },
   {
    "duration": 253,
    "start_time": "2022-06-03T08:35:29.525Z"
   },
   {
    "duration": 9,
    "start_time": "2022-06-03T08:35:29.780Z"
   },
   {
    "duration": 188,
    "start_time": "2022-06-03T08:35:29.790Z"
   },
   {
    "duration": 17,
    "start_time": "2022-06-03T08:35:29.980Z"
   },
   {
    "duration": 162,
    "start_time": "2022-06-03T08:35:29.999Z"
   },
   {
    "duration": 68,
    "start_time": "2022-06-03T08:35:30.162Z"
   },
   {
    "duration": 168,
    "start_time": "2022-06-03T08:35:30.231Z"
   },
   {
    "duration": 224,
    "start_time": "2022-06-03T08:35:30.401Z"
   },
   {
    "duration": 40,
    "start_time": "2022-06-03T08:35:30.627Z"
   },
   {
    "duration": 1077,
    "start_time": "2022-06-03T08:35:30.668Z"
   },
   {
    "duration": 33,
    "start_time": "2022-06-03T08:35:31.749Z"
   },
   {
    "duration": 7,
    "start_time": "2022-06-03T08:35:31.785Z"
   },
   {
    "duration": 16,
    "start_time": "2022-06-03T08:35:36.391Z"
   },
   {
    "duration": 11,
    "start_time": "2022-06-03T08:36:09.850Z"
   },
   {
    "duration": 9,
    "start_time": "2022-06-03T08:36:18.978Z"
   },
   {
    "duration": 4,
    "start_time": "2022-06-03T08:36:26.507Z"
   },
   {
    "duration": 12,
    "start_time": "2022-06-03T08:37:12.881Z"
   },
   {
    "duration": 21,
    "start_time": "2022-06-03T08:44:55.930Z"
   },
   {
    "duration": 1887,
    "start_time": "2022-06-03T11:30:25.893Z"
   },
   {
    "duration": 38,
    "start_time": "2022-06-03T11:30:27.782Z"
   },
   {
    "duration": 8,
    "start_time": "2022-06-03T11:30:27.821Z"
   },
   {
    "duration": 35,
    "start_time": "2022-06-03T11:30:27.831Z"
   },
   {
    "duration": 13,
    "start_time": "2022-06-03T11:30:27.867Z"
   },
   {
    "duration": 29,
    "start_time": "2022-06-03T11:30:27.881Z"
   },
   {
    "duration": 10,
    "start_time": "2022-06-03T11:30:27.912Z"
   },
   {
    "duration": 9,
    "start_time": "2022-06-03T11:30:27.924Z"
   },
   {
    "duration": 605,
    "start_time": "2022-06-03T11:30:27.935Z"
   },
   {
    "duration": 291,
    "start_time": "2022-06-03T11:30:28.544Z"
   },
   {
    "duration": 311,
    "start_time": "2022-06-03T11:30:28.837Z"
   },
   {
    "duration": 30,
    "start_time": "2022-06-03T11:30:29.150Z"
   },
   {
    "duration": 186,
    "start_time": "2022-06-03T11:30:29.181Z"
   },
   {
    "duration": 201,
    "start_time": "2022-06-03T11:30:29.369Z"
   },
   {
    "duration": 210,
    "start_time": "2022-06-03T11:30:29.571Z"
   },
   {
    "duration": 17,
    "start_time": "2022-06-03T11:30:29.783Z"
   },
   {
    "duration": 185,
    "start_time": "2022-06-03T11:30:29.802Z"
   },
   {
    "duration": 10,
    "start_time": "2022-06-03T11:30:29.989Z"
   },
   {
    "duration": 89,
    "start_time": "2022-06-03T11:30:30.001Z"
   },
   {
    "duration": 32,
    "start_time": "2022-06-03T11:30:30.091Z"
   },
   {
    "duration": 55,
    "start_time": "2022-06-03T11:30:30.124Z"
   },
   {
    "duration": 186,
    "start_time": "2022-06-03T11:30:30.180Z"
   },
   {
    "duration": 27,
    "start_time": "2022-06-03T11:30:30.368Z"
   },
   {
    "duration": 798,
    "start_time": "2022-06-03T11:30:30.397Z"
   },
   {
    "duration": 106,
    "start_time": "2022-06-03T11:30:31.197Z"
   },
   {
    "duration": 14,
    "start_time": "2022-06-03T11:30:31.304Z"
   },
   {
    "duration": 23,
    "start_time": "2022-06-03T11:30:31.320Z"
   },
   {
    "duration": 19,
    "start_time": "2022-06-03T11:30:31.345Z"
   },
   {
    "duration": 735,
    "start_time": "2022-06-03T11:38:16.930Z"
   },
   {
    "duration": 10,
    "start_time": "2022-06-03T11:38:34.780Z"
   },
   {
    "duration": 12,
    "start_time": "2022-06-03T11:40:25.153Z"
   },
   {
    "duration": 11,
    "start_time": "2022-06-03T11:45:06.254Z"
   },
   {
    "duration": 64,
    "start_time": "2022-06-03T18:07:36.509Z"
   },
   {
    "duration": 3186,
    "start_time": "2022-06-03T18:07:43.141Z"
   },
   {
    "duration": 85,
    "start_time": "2022-06-03T18:07:46.330Z"
   },
   {
    "duration": 10,
    "start_time": "2022-06-03T18:07:46.417Z"
   },
   {
    "duration": 17,
    "start_time": "2022-06-03T18:07:46.430Z"
   },
   {
    "duration": 13,
    "start_time": "2022-06-03T18:07:46.449Z"
   },
   {
    "duration": 6,
    "start_time": "2022-06-03T18:07:46.464Z"
   },
   {
    "duration": 5,
    "start_time": "2022-06-03T18:07:46.493Z"
   },
   {
    "duration": 42,
    "start_time": "2022-06-03T18:07:46.500Z"
   },
   {
    "duration": 859,
    "start_time": "2022-06-03T18:07:46.544Z"
   },
   {
    "duration": 355,
    "start_time": "2022-06-03T18:07:47.407Z"
   },
   {
    "duration": 350,
    "start_time": "2022-06-03T18:07:47.764Z"
   },
   {
    "duration": 27,
    "start_time": "2022-06-03T18:07:48.116Z"
   },
   {
    "duration": 292,
    "start_time": "2022-06-03T18:07:48.146Z"
   },
   {
    "duration": 331,
    "start_time": "2022-06-03T18:07:48.440Z"
   },
   {
    "duration": 300,
    "start_time": "2022-06-03T18:07:48.773Z"
   },
   {
    "duration": 30,
    "start_time": "2022-06-03T18:07:49.075Z"
   },
   {
    "duration": 259,
    "start_time": "2022-06-03T18:07:49.108Z"
   },
   {
    "duration": 22,
    "start_time": "2022-06-03T18:07:49.369Z"
   },
   {
    "duration": 87,
    "start_time": "2022-06-03T18:07:49.395Z"
   },
   {
    "duration": 47,
    "start_time": "2022-06-03T18:07:49.493Z"
   },
   {
    "duration": 62,
    "start_time": "2022-06-03T18:07:49.541Z"
   },
   {
    "duration": 201,
    "start_time": "2022-06-03T18:07:56.478Z"
   },
   {
    "duration": 224,
    "start_time": "2022-06-03T18:08:46.260Z"
   },
   {
    "duration": 1517,
    "start_time": "2022-06-03T18:09:03.350Z"
   },
   {
    "duration": 66,
    "start_time": "2022-06-03T18:09:04.869Z"
   },
   {
    "duration": 9,
    "start_time": "2022-06-03T18:09:04.937Z"
   },
   {
    "duration": 8,
    "start_time": "2022-06-03T18:09:04.948Z"
   },
   {
    "duration": 43,
    "start_time": "2022-06-03T18:09:04.957Z"
   },
   {
    "duration": 7,
    "start_time": "2022-06-03T18:09:05.002Z"
   },
   {
    "duration": 8,
    "start_time": "2022-06-03T18:09:05.011Z"
   },
   {
    "duration": 8,
    "start_time": "2022-06-03T18:09:05.021Z"
   },
   {
    "duration": 512,
    "start_time": "2022-06-03T18:09:05.030Z"
   },
   {
    "duration": 261,
    "start_time": "2022-06-03T18:09:05.544Z"
   },
   {
    "duration": 372,
    "start_time": "2022-06-03T18:09:05.808Z"
   },
   {
    "duration": 28,
    "start_time": "2022-06-03T18:09:06.181Z"
   },
   {
    "duration": 258,
    "start_time": "2022-06-03T18:09:06.212Z"
   },
   {
    "duration": 270,
    "start_time": "2022-06-03T18:09:06.472Z"
   },
   {
    "duration": 268,
    "start_time": "2022-06-03T18:09:06.744Z"
   },
   {
    "duration": 12,
    "start_time": "2022-06-03T18:09:07.014Z"
   },
   {
    "duration": 224,
    "start_time": "2022-06-03T18:09:07.028Z"
   },
   {
    "duration": 13,
    "start_time": "2022-06-03T18:09:07.254Z"
   },
   {
    "duration": 97,
    "start_time": "2022-06-03T18:09:07.269Z"
   },
   {
    "duration": 51,
    "start_time": "2022-06-03T18:09:07.368Z"
   },
   {
    "duration": 49,
    "start_time": "2022-06-03T18:09:07.421Z"
   },
   {
    "duration": 215,
    "start_time": "2022-06-03T18:09:07.492Z"
   },
   {
    "duration": 43,
    "start_time": "2022-06-03T18:09:07.709Z"
   },
   {
    "duration": 1085,
    "start_time": "2022-06-03T18:09:07.754Z"
   },
   {
    "duration": 25,
    "start_time": "2022-06-03T18:09:08.840Z"
   },
   {
    "duration": 5,
    "start_time": "2022-06-03T18:09:08.866Z"
   },
   {
    "duration": 40,
    "start_time": "2022-06-03T18:09:08.873Z"
   },
   {
    "duration": 14,
    "start_time": "2022-06-03T18:09:08.917Z"
   },
   {
    "duration": 307,
    "start_time": "2022-06-03T18:09:39.810Z"
   },
   {
    "duration": 233,
    "start_time": "2022-06-03T18:09:47.015Z"
   },
   {
    "duration": 34,
    "start_time": "2022-06-03T18:09:56.106Z"
   },
   {
    "duration": 139,
    "start_time": "2022-06-03T18:13:23.030Z"
   },
   {
    "duration": 6,
    "start_time": "2022-06-03T18:13:44.232Z"
   },
   {
    "duration": 5,
    "start_time": "2022-06-03T18:14:16.036Z"
   },
   {
    "duration": 8,
    "start_time": "2022-06-03T18:15:05.511Z"
   },
   {
    "duration": 42,
    "start_time": "2022-06-03T18:21:39.279Z"
   },
   {
    "duration": 721,
    "start_time": "2022-06-03T18:21:47.579Z"
   },
   {
    "duration": 58,
    "start_time": "2022-06-03T18:21:48.303Z"
   },
   {
    "duration": 40,
    "start_time": "2022-06-03T18:21:48.364Z"
   },
   {
    "duration": 10,
    "start_time": "2022-06-03T18:21:48.407Z"
   },
   {
    "duration": 19,
    "start_time": "2022-06-03T18:21:48.419Z"
   },
   {
    "duration": 24,
    "start_time": "2022-06-03T18:21:48.440Z"
   },
   {
    "duration": 12,
    "start_time": "2022-06-03T18:21:48.466Z"
   },
   {
    "duration": 24,
    "start_time": "2022-06-03T18:21:48.480Z"
   },
   {
    "duration": 248,
    "start_time": "2022-06-03T18:21:48.506Z"
   },
   {
    "duration": 253,
    "start_time": "2022-06-03T18:21:48.757Z"
   },
   {
    "duration": 311,
    "start_time": "2022-06-03T18:21:49.011Z"
   },
   {
    "duration": 12,
    "start_time": "2022-06-03T18:21:49.324Z"
   },
   {
    "duration": 234,
    "start_time": "2022-06-03T18:21:49.338Z"
   },
   {
    "duration": 274,
    "start_time": "2022-06-03T18:21:49.573Z"
   },
   {
    "duration": 253,
    "start_time": "2022-06-03T18:21:49.849Z"
   },
   {
    "duration": 11,
    "start_time": "2022-06-03T18:21:50.105Z"
   },
   {
    "duration": 230,
    "start_time": "2022-06-03T18:21:50.117Z"
   },
   {
    "duration": 13,
    "start_time": "2022-06-03T18:21:50.349Z"
   },
   {
    "duration": 105,
    "start_time": "2022-06-03T18:21:50.363Z"
   },
   {
    "duration": 52,
    "start_time": "2022-06-03T18:21:50.469Z"
   },
   {
    "duration": 50,
    "start_time": "2022-06-03T18:21:50.524Z"
   },
   {
    "duration": 31,
    "start_time": "2022-06-03T18:21:50.576Z"
   },
   {
    "duration": 263,
    "start_time": "2022-06-03T18:21:50.610Z"
   },
   {
    "duration": 51,
    "start_time": "2022-06-03T18:22:03.206Z"
   },
   {
    "duration": 675,
    "start_time": "2022-06-03T18:22:46.153Z"
   },
   {
    "duration": 75,
    "start_time": "2022-06-03T18:22:46.831Z"
   },
   {
    "duration": 9,
    "start_time": "2022-06-03T18:22:46.908Z"
   },
   {
    "duration": 9,
    "start_time": "2022-06-03T18:22:46.919Z"
   },
   {
    "duration": 13,
    "start_time": "2022-06-03T18:22:46.929Z"
   },
   {
    "duration": 7,
    "start_time": "2022-06-03T18:22:46.943Z"
   },
   {
    "duration": 47,
    "start_time": "2022-06-03T18:22:46.952Z"
   },
   {
    "duration": 23,
    "start_time": "2022-06-03T18:22:47.000Z"
   },
   {
    "duration": 231,
    "start_time": "2022-06-03T18:22:47.026Z"
   },
   {
    "duration": 364,
    "start_time": "2022-06-03T18:22:47.260Z"
   },
   {
    "duration": 312,
    "start_time": "2022-06-03T18:22:47.626Z"
   },
   {
    "duration": 13,
    "start_time": "2022-06-03T18:22:47.940Z"
   },
   {
    "duration": 260,
    "start_time": "2022-06-03T18:22:47.955Z"
   },
   {
    "duration": 329,
    "start_time": "2022-06-03T18:22:48.216Z"
   },
   {
    "duration": 334,
    "start_time": "2022-06-03T18:22:48.548Z"
   },
   {
    "duration": 22,
    "start_time": "2022-06-03T18:22:48.884Z"
   },
   {
    "duration": 220,
    "start_time": "2022-06-03T18:22:48.915Z"
   },
   {
    "duration": 13,
    "start_time": "2022-06-03T18:22:49.136Z"
   },
   {
    "duration": 105,
    "start_time": "2022-06-03T18:22:49.151Z"
   },
   {
    "duration": 55,
    "start_time": "2022-06-03T18:22:49.258Z"
   },
   {
    "duration": 48,
    "start_time": "2022-06-03T18:22:49.315Z"
   },
   {
    "duration": 26,
    "start_time": "2022-06-03T18:22:49.364Z"
   },
   {
    "duration": 250,
    "start_time": "2022-06-03T18:22:49.392Z"
   },
   {
    "duration": 35,
    "start_time": "2022-06-03T18:23:17.817Z"
   },
   {
    "duration": 225,
    "start_time": "2022-06-03T18:24:07.510Z"
   },
   {
    "duration": 232,
    "start_time": "2022-06-03T18:27:15.772Z"
   },
   {
    "duration": 242,
    "start_time": "2022-06-03T18:31:09.430Z"
   },
   {
    "duration": 1212,
    "start_time": "2022-06-03T18:32:32.422Z"
   },
   {
    "duration": 37,
    "start_time": "2022-06-03T18:35:01.922Z"
   },
   {
    "duration": 1135,
    "start_time": "2022-06-03T18:35:08.136Z"
   },
   {
    "duration": 32,
    "start_time": "2022-06-03T18:36:45.045Z"
   },
   {
    "duration": 2597,
    "start_time": "2022-06-04T05:21:25.310Z"
   },
   {
    "duration": 39,
    "start_time": "2022-06-04T05:21:27.908Z"
   },
   {
    "duration": 9,
    "start_time": "2022-06-04T05:21:27.948Z"
   },
   {
    "duration": 34,
    "start_time": "2022-06-04T05:21:27.959Z"
   },
   {
    "duration": 12,
    "start_time": "2022-06-04T05:21:27.996Z"
   },
   {
    "duration": 6,
    "start_time": "2022-06-04T05:21:28.010Z"
   },
   {
    "duration": 7,
    "start_time": "2022-06-04T05:21:28.018Z"
   },
   {
    "duration": 9,
    "start_time": "2022-06-04T05:21:28.027Z"
   },
   {
    "duration": 724,
    "start_time": "2022-06-04T05:21:28.037Z"
   },
   {
    "duration": 315,
    "start_time": "2022-06-04T05:21:28.763Z"
   },
   {
    "duration": 300,
    "start_time": "2022-06-04T05:21:29.080Z"
   },
   {
    "duration": 23,
    "start_time": "2022-06-04T05:21:29.381Z"
   },
   {
    "duration": 216,
    "start_time": "2022-06-04T05:21:29.405Z"
   },
   {
    "duration": 244,
    "start_time": "2022-06-04T05:21:29.624Z"
   },
   {
    "duration": 232,
    "start_time": "2022-06-04T05:21:29.870Z"
   },
   {
    "duration": 14,
    "start_time": "2022-06-04T05:21:30.104Z"
   },
   {
    "duration": 210,
    "start_time": "2022-06-04T05:21:30.120Z"
   },
   {
    "duration": 12,
    "start_time": "2022-06-04T05:21:30.332Z"
   },
   {
    "duration": 96,
    "start_time": "2022-06-04T05:21:30.345Z"
   },
   {
    "duration": 34,
    "start_time": "2022-06-04T05:21:30.443Z"
   },
   {
    "duration": 44,
    "start_time": "2022-06-04T05:21:30.489Z"
   },
   {
    "duration": 7,
    "start_time": "2022-06-04T05:21:30.535Z"
   },
   {
    "duration": 239,
    "start_time": "2022-06-04T05:21:30.544Z"
   },
   {
    "duration": 984,
    "start_time": "2022-06-04T05:21:30.785Z"
   },
   {
    "duration": 34,
    "start_time": "2022-06-04T05:21:31.771Z"
   },
   {
    "duration": 5,
    "start_time": "2022-06-04T05:21:31.807Z"
   },
   {
    "duration": 11,
    "start_time": "2022-06-04T05:21:31.814Z"
   },
   {
    "duration": 16,
    "start_time": "2022-06-04T05:21:31.827Z"
   },
   {
    "duration": 13,
    "start_time": "2022-06-04T05:24:07.452Z"
   },
   {
    "duration": 4,
    "start_time": "2022-06-04T05:31:55.828Z"
   },
   {
    "duration": 2193,
    "start_time": "2022-06-04T10:12:45.113Z"
   },
   {
    "duration": 59,
    "start_time": "2022-06-04T10:12:47.308Z"
   },
   {
    "duration": 8,
    "start_time": "2022-06-04T10:12:47.368Z"
   },
   {
    "duration": 21,
    "start_time": "2022-06-04T10:12:47.379Z"
   },
   {
    "duration": 36,
    "start_time": "2022-06-04T10:12:47.403Z"
   },
   {
    "duration": 6,
    "start_time": "2022-06-04T10:12:47.441Z"
   },
   {
    "duration": 6,
    "start_time": "2022-06-04T10:12:47.449Z"
   },
   {
    "duration": 8,
    "start_time": "2022-06-04T10:12:47.456Z"
   },
   {
    "duration": 669,
    "start_time": "2022-06-04T10:12:47.465Z"
   },
   {
    "duration": 282,
    "start_time": "2022-06-04T10:12:48.135Z"
   },
   {
    "duration": 256,
    "start_time": "2022-06-04T10:12:48.423Z"
   },
   {
    "duration": 18,
    "start_time": "2022-06-04T10:12:48.680Z"
   },
   {
    "duration": 202,
    "start_time": "2022-06-04T10:12:48.700Z"
   },
   {
    "duration": 228,
    "start_time": "2022-06-04T10:12:48.904Z"
   },
   {
    "duration": 220,
    "start_time": "2022-06-04T10:12:49.140Z"
   },
   {
    "duration": 13,
    "start_time": "2022-06-04T10:12:49.362Z"
   },
   {
    "duration": 182,
    "start_time": "2022-06-04T10:12:49.376Z"
   },
   {
    "duration": 14,
    "start_time": "2022-06-04T10:12:49.561Z"
   },
   {
    "duration": 100,
    "start_time": "2022-06-04T10:12:49.577Z"
   },
   {
    "duration": 31,
    "start_time": "2022-06-04T10:12:49.678Z"
   },
   {
    "duration": 55,
    "start_time": "2022-06-04T10:12:49.711Z"
   },
   {
    "duration": 6,
    "start_time": "2022-06-04T10:12:49.768Z"
   },
   {
    "duration": 231,
    "start_time": "2022-06-04T10:12:49.776Z"
   },
   {
    "duration": 5,
    "start_time": "2022-06-04T10:12:50.009Z"
   },
   {
    "duration": 653,
    "start_time": "2022-06-04T10:14:02.010Z"
   },
   {
    "duration": 66,
    "start_time": "2022-06-04T10:14:02.666Z"
   },
   {
    "duration": 13,
    "start_time": "2022-06-04T10:14:02.734Z"
   },
   {
    "duration": 12,
    "start_time": "2022-06-04T10:14:02.749Z"
   },
   {
    "duration": 19,
    "start_time": "2022-06-04T10:14:02.764Z"
   },
   {
    "duration": 9,
    "start_time": "2022-06-04T10:14:02.785Z"
   },
   {
    "duration": 7,
    "start_time": "2022-06-04T10:14:02.796Z"
   },
   {
    "duration": 43,
    "start_time": "2022-06-04T10:14:02.805Z"
   },
   {
    "duration": 207,
    "start_time": "2022-06-04T10:14:02.850Z"
   },
   {
    "duration": 232,
    "start_time": "2022-06-04T10:14:03.058Z"
   },
   {
    "duration": 256,
    "start_time": "2022-06-04T10:14:03.292Z"
   },
   {
    "duration": 11,
    "start_time": "2022-06-04T10:14:03.549Z"
   },
   {
    "duration": 196,
    "start_time": "2022-06-04T10:14:03.562Z"
   },
   {
    "duration": 299,
    "start_time": "2022-06-04T10:14:03.761Z"
   },
   {
    "duration": 225,
    "start_time": "2022-06-04T10:14:04.062Z"
   },
   {
    "duration": 11,
    "start_time": "2022-06-04T10:14:04.290Z"
   },
   {
    "duration": 192,
    "start_time": "2022-06-04T10:14:04.303Z"
   },
   {
    "duration": 11,
    "start_time": "2022-06-04T10:14:04.496Z"
   },
   {
    "duration": 86,
    "start_time": "2022-06-04T10:14:04.509Z"
   },
   {
    "duration": 42,
    "start_time": "2022-06-04T10:14:04.596Z"
   },
   {
    "duration": 40,
    "start_time": "2022-06-04T10:14:04.639Z"
   },
   {
    "duration": 7,
    "start_time": "2022-06-04T10:14:04.681Z"
   },
   {
    "duration": 170,
    "start_time": "2022-06-04T10:14:12.392Z"
   },
   {
    "duration": 4,
    "start_time": "2022-06-04T10:14:16.984Z"
   },
   {
    "duration": 981,
    "start_time": "2022-06-04T10:14:22.846Z"
   },
   {
    "duration": 144,
    "start_time": "2022-06-04T10:18:36.476Z"
   },
   {
    "duration": 973,
    "start_time": "2022-06-04T10:18:49.271Z"
   },
   {
    "duration": 930,
    "start_time": "2022-06-04T10:20:39.146Z"
   },
   {
    "duration": 549,
    "start_time": "2022-06-04T10:25:34.836Z"
   },
   {
    "duration": 56,
    "start_time": "2022-06-04T10:25:35.387Z"
   },
   {
    "duration": 8,
    "start_time": "2022-06-04T10:25:35.445Z"
   },
   {
    "duration": 11,
    "start_time": "2022-06-04T10:25:35.454Z"
   },
   {
    "duration": 12,
    "start_time": "2022-06-04T10:25:35.467Z"
   },
   {
    "duration": 7,
    "start_time": "2022-06-04T10:25:35.481Z"
   },
   {
    "duration": 34,
    "start_time": "2022-06-04T10:25:35.490Z"
   },
   {
    "duration": 6,
    "start_time": "2022-06-04T10:25:35.526Z"
   },
   {
    "duration": 181,
    "start_time": "2022-06-04T10:25:35.533Z"
   },
   {
    "duration": 198,
    "start_time": "2022-06-04T10:25:35.716Z"
   },
   {
    "duration": 262,
    "start_time": "2022-06-04T10:25:35.916Z"
   },
   {
    "duration": 705,
    "start_time": "2022-06-04T10:25:44.401Z"
   },
   {
    "duration": 55,
    "start_time": "2022-06-04T10:25:45.122Z"
   },
   {
    "duration": 7,
    "start_time": "2022-06-04T10:25:45.179Z"
   },
   {
    "duration": 8,
    "start_time": "2022-06-04T10:25:45.188Z"
   },
   {
    "duration": 12,
    "start_time": "2022-06-04T10:25:45.222Z"
   },
   {
    "duration": 8,
    "start_time": "2022-06-04T10:25:45.235Z"
   },
   {
    "duration": 6,
    "start_time": "2022-06-04T10:25:45.244Z"
   },
   {
    "duration": 10,
    "start_time": "2022-06-04T10:25:45.251Z"
   },
   {
    "duration": 214,
    "start_time": "2022-06-04T10:25:45.262Z"
   },
   {
    "duration": 204,
    "start_time": "2022-06-04T10:25:45.478Z"
   },
   {
    "duration": 246,
    "start_time": "2022-06-04T10:25:45.684Z"
   },
   {
    "duration": 2,
    "start_time": "2022-06-04T10:25:45.932Z"
   },
   {
    "duration": 197,
    "start_time": "2022-06-04T10:25:45.936Z"
   },
   {
    "duration": 218,
    "start_time": "2022-06-04T10:25:46.135Z"
   },
   {
    "duration": 209,
    "start_time": "2022-06-04T10:25:46.354Z"
   },
   {
    "duration": 10,
    "start_time": "2022-06-04T10:25:46.564Z"
   },
   {
    "duration": 191,
    "start_time": "2022-06-04T10:25:46.575Z"
   },
   {
    "duration": 11,
    "start_time": "2022-06-04T10:25:46.768Z"
   },
   {
    "duration": 83,
    "start_time": "2022-06-04T10:25:46.780Z"
   },
   {
    "duration": 32,
    "start_time": "2022-06-04T10:25:46.865Z"
   },
   {
    "duration": 53,
    "start_time": "2022-06-04T10:25:46.899Z"
   },
   {
    "duration": 7,
    "start_time": "2022-06-04T10:25:46.954Z"
   },
   {
    "duration": 166,
    "start_time": "2022-06-04T10:25:46.963Z"
   },
   {
    "duration": 3,
    "start_time": "2022-06-04T10:25:47.131Z"
   },
   {
    "duration": 1073,
    "start_time": "2022-06-04T10:25:47.136Z"
   },
   {
    "duration": 386,
    "start_time": "2022-06-04T10:25:48.211Z"
   },
   {
    "duration": 0,
    "start_time": "2022-06-04T10:25:48.598Z"
   },
   {
    "duration": 0,
    "start_time": "2022-06-04T10:25:48.599Z"
   },
   {
    "duration": 0,
    "start_time": "2022-06-04T10:25:48.600Z"
   },
   {
    "duration": 43,
    "start_time": "2022-06-04T10:26:26.091Z"
   },
   {
    "duration": 898,
    "start_time": "2022-06-04T10:26:58.191Z"
   },
   {
    "duration": 22,
    "start_time": "2022-06-04T10:27:10.947Z"
   },
   {
    "duration": 15,
    "start_time": "2022-06-04T10:29:22.204Z"
   },
   {
    "duration": 5,
    "start_time": "2022-06-04T10:29:24.911Z"
   },
   {
    "duration": 16,
    "start_time": "2022-06-04T10:29:26.719Z"
   },
   {
    "duration": 5,
    "start_time": "2022-06-04T10:29:37.483Z"
   },
   {
    "duration": 942,
    "start_time": "2022-06-04T10:29:51.844Z"
   },
   {
    "duration": 1818,
    "start_time": "2022-06-07T18:19:46.841Z"
   },
   {
    "duration": 27,
    "start_time": "2022-06-07T18:19:48.665Z"
   },
   {
    "duration": 249,
    "start_time": "2022-06-07T18:19:48.694Z"
   },
   {
    "duration": 287,
    "start_time": "2022-06-07T18:19:48.949Z"
   },
   {
    "duration": 53,
    "start_time": "2022-06-07T18:19:49.240Z"
   },
   {
    "duration": 220,
    "start_time": "2022-06-07T18:19:49.299Z"
   },
   {
    "duration": 18,
    "start_time": "2022-06-07T18:19:49.522Z"
   },
   {
    "duration": 66,
    "start_time": "2022-06-07T18:19:49.542Z"
   },
   {
    "duration": 597,
    "start_time": "2022-06-07T18:19:49.610Z"
   },
   {
    "duration": 17,
    "start_time": "2022-06-07T18:19:50.211Z"
   },
   {
    "duration": 363,
    "start_time": "2022-06-07T18:19:50.230Z"
   },
   {
    "duration": 379,
    "start_time": "2022-06-07T18:19:50.594Z"
   },
   {
    "duration": 294,
    "start_time": "2022-06-07T18:19:50.975Z"
   },
   {
    "duration": 119,
    "start_time": "2022-06-07T18:19:51.281Z"
   },
   {
    "duration": 686,
    "start_time": "2022-06-07T18:19:51.403Z"
   },
   {
    "duration": 313,
    "start_time": "2022-06-07T18:19:52.095Z"
   },
   {
    "duration": 327,
    "start_time": "2022-06-07T18:19:52.411Z"
   },
   {
    "duration": 422,
    "start_time": "2022-06-07T18:19:52.744Z"
   },
   {
    "duration": 1339,
    "start_time": "2022-06-07T18:19:53.168Z"
   },
   {
    "duration": 52,
    "start_time": "2022-06-07T18:19:54.509Z"
   },
   {
    "duration": 113,
    "start_time": "2022-06-07T18:19:54.565Z"
   },
   {
    "duration": 537,
    "start_time": "2022-06-07T18:19:54.680Z"
   },
   {
    "duration": 41,
    "start_time": "2022-06-07T18:19:55.222Z"
   },
   {
    "duration": 79,
    "start_time": "2022-06-07T18:19:55.268Z"
   },
   {
    "duration": 1469,
    "start_time": "2022-06-08T08:54:20.446Z"
   },
   {
    "duration": 1342,
    "start_time": "2022-06-08T20:39:30.043Z"
   },
   {
    "duration": 24,
    "start_time": "2022-06-08T20:39:31.388Z"
   },
   {
    "duration": 222,
    "start_time": "2022-06-08T20:39:31.413Z"
   },
   {
    "duration": 251,
    "start_time": "2022-06-08T20:39:31.637Z"
   },
   {
    "duration": 37,
    "start_time": "2022-06-08T20:39:31.890Z"
   },
   {
    "duration": 78,
    "start_time": "2022-06-08T20:39:31.929Z"
   },
   {
    "duration": 13,
    "start_time": "2022-06-08T20:39:32.026Z"
   },
   {
    "duration": 21,
    "start_time": "2022-06-08T20:39:32.041Z"
   },
   {
    "duration": 362,
    "start_time": "2022-06-08T20:39:32.064Z"
   },
   {
    "duration": 6,
    "start_time": "2022-06-08T20:39:32.427Z"
   },
   {
    "duration": 194,
    "start_time": "2022-06-08T20:39:32.434Z"
   },
   {
    "duration": 296,
    "start_time": "2022-06-08T20:39:32.629Z"
   },
   {
    "duration": 260,
    "start_time": "2022-06-08T20:39:32.928Z"
   },
   {
    "duration": 113,
    "start_time": "2022-06-08T20:39:33.191Z"
   },
   {
    "duration": 363,
    "start_time": "2022-06-08T20:39:35.704Z"
   },
   {
    "duration": 170,
    "start_time": "2022-06-08T20:40:52.653Z"
   },
   {
    "duration": 27,
    "start_time": "2022-06-08T20:40:52.826Z"
   },
   {
    "duration": 232,
    "start_time": "2022-06-08T20:40:52.855Z"
   },
   {
    "duration": 271,
    "start_time": "2022-06-08T20:40:53.089Z"
   },
   {
    "duration": 34,
    "start_time": "2022-06-08T20:40:53.363Z"
   },
   {
    "duration": 127,
    "start_time": "2022-06-08T20:40:53.399Z"
   },
   {
    "duration": 16,
    "start_time": "2022-06-08T20:40:53.529Z"
   },
   {
    "duration": 36,
    "start_time": "2022-06-08T20:40:53.547Z"
   },
   {
    "duration": 373,
    "start_time": "2022-06-08T20:40:53.585Z"
   },
   {
    "duration": 6,
    "start_time": "2022-06-08T20:40:53.960Z"
   },
   {
    "duration": 225,
    "start_time": "2022-06-08T20:40:53.967Z"
   },
   {
    "duration": 344,
    "start_time": "2022-06-08T20:40:54.193Z"
   },
   {
    "duration": 315,
    "start_time": "2022-06-08T20:40:54.539Z"
   },
   {
    "duration": 126,
    "start_time": "2022-06-08T20:40:54.857Z"
   },
   {
    "duration": 729,
    "start_time": "2022-06-08T20:40:57.243Z"
   },
   {
    "duration": 89,
    "start_time": "2022-06-08T20:47:19.133Z"
   },
   {
    "duration": 26,
    "start_time": "2022-06-08T20:47:19.304Z"
   },
   {
    "duration": 190,
    "start_time": "2022-06-08T20:47:19.495Z"
   },
   {
    "duration": 219,
    "start_time": "2022-06-08T20:47:19.686Z"
   },
   {
    "duration": 29,
    "start_time": "2022-06-08T20:47:19.907Z"
   },
   {
    "duration": 97,
    "start_time": "2022-06-08T20:47:19.938Z"
   },
   {
    "duration": 14,
    "start_time": "2022-06-08T20:47:20.037Z"
   },
   {
    "duration": 31,
    "start_time": "2022-06-08T20:47:20.053Z"
   },
   {
    "duration": 367,
    "start_time": "2022-06-08T20:47:20.086Z"
   },
   {
    "duration": 6,
    "start_time": "2022-06-08T20:47:20.455Z"
   },
   {
    "duration": 199,
    "start_time": "2022-06-08T20:47:20.462Z"
   },
   {
    "duration": 275,
    "start_time": "2022-06-08T20:47:20.662Z"
   },
   {
    "duration": 258,
    "start_time": "2022-06-08T20:47:20.939Z"
   },
   {
    "duration": 115,
    "start_time": "2022-06-08T20:47:21.199Z"
   },
   {
    "duration": 689,
    "start_time": "2022-06-08T20:47:27.043Z"
   },
   {
    "duration": 80,
    "start_time": "2022-06-08T20:52:37.502Z"
   },
   {
    "duration": 29,
    "start_time": "2022-06-08T20:52:37.584Z"
   },
   {
    "duration": 183,
    "start_time": "2022-06-08T20:52:37.615Z"
   },
   {
    "duration": 206,
    "start_time": "2022-06-08T20:52:37.801Z"
   },
   {
    "duration": 24,
    "start_time": "2022-06-08T20:52:38.009Z"
   },
   {
    "duration": 94,
    "start_time": "2022-06-08T20:52:38.035Z"
   },
   {
    "duration": 13,
    "start_time": "2022-06-08T20:52:38.130Z"
   },
   {
    "duration": 21,
    "start_time": "2022-06-08T20:52:38.145Z"
   },
   {
    "duration": 353,
    "start_time": "2022-06-08T20:52:38.168Z"
   },
   {
    "duration": 5,
    "start_time": "2022-06-08T20:52:38.525Z"
   },
   {
    "duration": 196,
    "start_time": "2022-06-08T20:52:38.531Z"
   },
   {
    "duration": 250,
    "start_time": "2022-06-08T20:52:38.729Z"
   },
   {
    "duration": 245,
    "start_time": "2022-06-08T20:52:38.981Z"
   },
   {
    "duration": 104,
    "start_time": "2022-06-08T20:52:39.228Z"
   },
   {
    "duration": 572,
    "start_time": "2022-06-08T20:52:39.333Z"
   },
   {
    "duration": 224,
    "start_time": "2022-06-08T20:52:39.906Z"
   },
   {
    "duration": 337,
    "start_time": "2022-06-08T20:52:40.132Z"
   },
   {
    "duration": 215,
    "start_time": "2022-06-08T20:52:47.212Z"
   },
   {
    "duration": 92,
    "start_time": "2022-06-08T20:55:39.665Z"
   },
   {
    "duration": 19,
    "start_time": "2022-06-08T20:55:39.759Z"
   },
   {
    "duration": 191,
    "start_time": "2022-06-08T20:55:39.780Z"
   },
   {
    "duration": 225,
    "start_time": "2022-06-08T20:55:39.973Z"
   },
   {
    "duration": 36,
    "start_time": "2022-06-08T20:55:40.200Z"
   },
   {
    "duration": 95,
    "start_time": "2022-06-08T20:55:40.237Z"
   },
   {
    "duration": 14,
    "start_time": "2022-06-08T20:55:40.337Z"
   },
   {
    "duration": 28,
    "start_time": "2022-06-08T20:55:40.352Z"
   },
   {
    "duration": 362,
    "start_time": "2022-06-08T20:55:40.381Z"
   },
   {
    "duration": 5,
    "start_time": "2022-06-08T20:55:40.745Z"
   },
   {
    "duration": 193,
    "start_time": "2022-06-08T20:55:40.752Z"
   },
   {
    "duration": 283,
    "start_time": "2022-06-08T20:55:40.947Z"
   },
   {
    "duration": 258,
    "start_time": "2022-06-08T20:55:41.236Z"
   },
   {
    "duration": 109,
    "start_time": "2022-06-08T20:55:41.497Z"
   },
   {
    "duration": 608,
    "start_time": "2022-06-08T20:55:41.608Z"
   },
   {
    "duration": 235,
    "start_time": "2022-06-08T20:55:42.217Z"
   },
   {
    "duration": 245,
    "start_time": "2022-06-08T20:55:42.454Z"
   },
   {
    "duration": 493,
    "start_time": "2022-06-08T21:08:19.922Z"
   },
   {
    "duration": 323,
    "start_time": "2022-06-08T21:08:31.273Z"
   },
   {
    "duration": 332,
    "start_time": "2022-06-08T21:08:38.532Z"
   },
   {
    "duration": 24,
    "start_time": "2022-06-08T21:12:16.983Z"
   },
   {
    "duration": 87,
    "start_time": "2022-06-08T21:15:25.409Z"
   },
   {
    "duration": 20,
    "start_time": "2022-06-08T21:15:25.498Z"
   },
   {
    "duration": 172,
    "start_time": "2022-06-08T21:15:25.519Z"
   },
   {
    "duration": 221,
    "start_time": "2022-06-08T21:15:25.692Z"
   },
   {
    "duration": 39,
    "start_time": "2022-06-08T21:15:25.916Z"
   },
   {
    "duration": 92,
    "start_time": "2022-06-08T21:15:25.957Z"
   },
   {
    "duration": 13,
    "start_time": "2022-06-08T21:15:26.054Z"
   },
   {
    "duration": 23,
    "start_time": "2022-06-08T21:15:26.069Z"
   },
   {
    "duration": 368,
    "start_time": "2022-06-08T21:15:26.094Z"
   },
   {
    "duration": 5,
    "start_time": "2022-06-08T21:15:26.463Z"
   },
   {
    "duration": 192,
    "start_time": "2022-06-08T21:15:26.470Z"
   },
   {
    "duration": 257,
    "start_time": "2022-06-08T21:15:26.664Z"
   },
   {
    "duration": 248,
    "start_time": "2022-06-08T21:15:26.922Z"
   },
   {
    "duration": 105,
    "start_time": "2022-06-08T21:15:27.172Z"
   },
   {
    "duration": 754,
    "start_time": "2022-06-08T21:15:27.278Z"
   },
   {
    "duration": 213,
    "start_time": "2022-06-08T21:15:28.037Z"
   },
   {
    "duration": 230,
    "start_time": "2022-06-08T21:15:28.252Z"
   },
   {
    "duration": 327,
    "start_time": "2022-06-08T21:15:28.484Z"
   },
   {
    "duration": 327,
    "start_time": "2022-06-08T21:15:28.812Z"
   },
   {
    "duration": 372,
    "start_time": "2022-06-08T21:15:29.141Z"
   },
   {
    "duration": 45,
    "start_time": "2022-06-08T21:15:29.514Z"
   },
   {
    "duration": 24,
    "start_time": "2022-06-08T21:15:29.560Z"
   },
   {
    "duration": 332,
    "start_time": "2022-06-08T21:15:29.586Z"
   },
   {
    "duration": 16,
    "start_time": "2022-06-08T21:15:33.053Z"
   },
   {
    "duration": 28,
    "start_time": "2022-06-08T21:15:36.825Z"
   },
   {
    "duration": 95,
    "start_time": "2022-06-09T06:15:47.009Z"
   },
   {
    "duration": 21,
    "start_time": "2022-06-09T06:15:47.105Z"
   },
   {
    "duration": 179,
    "start_time": "2022-06-09T06:15:47.128Z"
   },
   {
    "duration": 234,
    "start_time": "2022-06-09T06:15:47.309Z"
   },
   {
    "duration": 24,
    "start_time": "2022-06-09T06:15:47.545Z"
   },
   {
    "duration": 297,
    "start_time": "2022-06-09T06:15:47.570Z"
   },
   {
    "duration": 13,
    "start_time": "2022-06-09T06:15:47.868Z"
   },
   {
    "duration": 23,
    "start_time": "2022-06-09T06:15:47.883Z"
   },
   {
    "duration": 358,
    "start_time": "2022-06-09T06:15:47.925Z"
   },
   {
    "duration": 6,
    "start_time": "2022-06-09T06:15:48.286Z"
   },
   {
    "duration": 226,
    "start_time": "2022-06-09T06:15:48.293Z"
   },
   {
    "duration": 293,
    "start_time": "2022-06-09T06:15:48.526Z"
   },
   {
    "duration": 264,
    "start_time": "2022-06-09T06:15:48.821Z"
   },
   {
    "duration": 110,
    "start_time": "2022-06-09T06:15:49.087Z"
   },
   {
    "duration": 601,
    "start_time": "2022-06-09T06:15:49.199Z"
   },
   {
    "duration": 233,
    "start_time": "2022-06-09T06:15:49.802Z"
   },
   {
    "duration": 238,
    "start_time": "2022-06-09T06:15:50.036Z"
   },
   {
    "duration": 343,
    "start_time": "2022-06-09T06:15:50.276Z"
   },
   {
    "duration": 323,
    "start_time": "2022-06-09T06:15:50.626Z"
   },
   {
    "duration": 356,
    "start_time": "2022-06-09T06:15:50.950Z"
   },
   {
    "duration": 34,
    "start_time": "2022-06-09T06:15:51.307Z"
   },
   {
    "duration": 230,
    "start_time": "2022-06-09T06:15:51.342Z"
   },
   {
    "duration": 358,
    "start_time": "2022-06-09T06:17:15.375Z"
   },
   {
    "duration": 372,
    "start_time": "2022-06-09T06:18:01.322Z"
   },
   {
    "duration": 350,
    "start_time": "2022-06-09T06:18:39.656Z"
   },
   {
    "duration": 353,
    "start_time": "2022-06-09T06:20:26.375Z"
   },
   {
    "duration": 389,
    "start_time": "2022-06-09T06:21:05.054Z"
   },
   {
    "duration": 434,
    "start_time": "2022-06-09T06:21:27.069Z"
   },
   {
    "duration": 404,
    "start_time": "2022-06-09T06:21:55.830Z"
   },
   {
    "duration": 449,
    "start_time": "2022-06-09T06:22:02.255Z"
   },
   {
    "duration": 311,
    "start_time": "2022-06-09T06:23:14.444Z"
   },
   {
    "duration": 296,
    "start_time": "2022-06-09T06:23:44.815Z"
   },
   {
    "duration": 29,
    "start_time": "2022-06-09T06:24:36.902Z"
   },
   {
    "duration": 517,
    "start_time": "2022-06-09T06:24:46.509Z"
   },
   {
    "duration": 23,
    "start_time": "2022-06-09T06:25:37.613Z"
   },
   {
    "duration": 3,
    "start_time": "2022-06-09T06:31:15.740Z"
   },
   {
    "duration": 14,
    "start_time": "2022-06-09T06:33:15.093Z"
   },
   {
    "duration": 4,
    "start_time": "2022-06-09T06:33:26.464Z"
   },
   {
    "duration": 5,
    "start_time": "2022-06-09T06:34:07.703Z"
   },
   {
    "duration": 14,
    "start_time": "2022-06-09T06:34:13.397Z"
   },
   {
    "duration": 22,
    "start_time": "2022-06-09T06:34:19.898Z"
   },
   {
    "duration": 18,
    "start_time": "2022-06-09T06:35:52.049Z"
   },
   {
    "duration": 15,
    "start_time": "2022-06-09T06:36:07.479Z"
   },
   {
    "duration": 14,
    "start_time": "2022-06-09T06:36:22.942Z"
   },
   {
    "duration": 15,
    "start_time": "2022-06-09T06:36:48.787Z"
   },
   {
    "duration": 16,
    "start_time": "2022-06-09T06:37:27.726Z"
   },
   {
    "duration": 16,
    "start_time": "2022-06-09T06:37:35.191Z"
   },
   {
    "duration": 112,
    "start_time": "2022-06-09T06:43:07.650Z"
   },
   {
    "duration": 91,
    "start_time": "2022-06-09T06:43:16.904Z"
   },
   {
    "duration": 109,
    "start_time": "2022-06-09T06:43:41.744Z"
   },
   {
    "duration": 100,
    "start_time": "2022-06-09T06:44:47.460Z"
   },
   {
    "duration": 1471,
    "start_time": "2022-06-09T13:45:00.416Z"
   },
   {
    "duration": 25,
    "start_time": "2022-06-09T13:45:01.889Z"
   },
   {
    "duration": 222,
    "start_time": "2022-06-09T13:45:01.916Z"
   },
   {
    "duration": 191,
    "start_time": "2022-06-09T13:45:02.140Z"
   },
   {
    "duration": 20,
    "start_time": "2022-06-09T13:45:02.333Z"
   },
   {
    "duration": 6,
    "start_time": "2022-06-09T13:45:14.339Z"
   },
   {
    "duration": 5,
    "start_time": "2022-06-09T13:45:18.605Z"
   },
   {
    "duration": 115,
    "start_time": "2022-06-09T13:45:36.418Z"
   },
   {
    "duration": 32,
    "start_time": "2022-06-09T13:47:21.312Z"
   },
   {
    "duration": 34,
    "start_time": "2022-06-09T13:47:43.794Z"
   },
   {
    "duration": 28,
    "start_time": "2022-06-09T13:48:07.531Z"
   },
   {
    "duration": 595,
    "start_time": "2022-06-09T13:48:44.113Z"
   },
   {
    "duration": 28,
    "start_time": "2022-06-09T13:49:00.324Z"
   },
   {
    "duration": 6,
    "start_time": "2022-06-09T13:49:24.062Z"
   },
   {
    "duration": 511,
    "start_time": "2022-06-09T13:49:36.258Z"
   },
   {
    "duration": 42,
    "start_time": "2022-06-09T13:52:25.721Z"
   },
   {
    "duration": 79,
    "start_time": "2022-06-09T13:52:41.194Z"
   },
   {
    "duration": 11,
    "start_time": "2022-06-09T14:56:13.376Z"
   },
   {
    "duration": 111,
    "start_time": "2022-06-09T15:03:09.045Z"
   },
   {
    "duration": 104,
    "start_time": "2022-06-09T15:03:43.227Z"
   },
   {
    "duration": 23,
    "start_time": "2022-06-09T15:03:43.333Z"
   },
   {
    "duration": 216,
    "start_time": "2022-06-09T15:03:43.358Z"
   },
   {
    "duration": 239,
    "start_time": "2022-06-09T15:03:43.578Z"
   },
   {
    "duration": 25,
    "start_time": "2022-06-09T15:03:43.818Z"
   },
   {
    "duration": 108,
    "start_time": "2022-06-09T15:03:43.845Z"
   },
   {
    "duration": 27,
    "start_time": "2022-06-09T15:03:43.955Z"
   },
   {
    "duration": 33,
    "start_time": "2022-06-09T15:03:43.991Z"
   },
   {
    "duration": 382,
    "start_time": "2022-06-09T15:03:44.027Z"
   },
   {
    "duration": 6,
    "start_time": "2022-06-09T15:03:44.416Z"
   },
   {
    "duration": 222,
    "start_time": "2022-06-09T15:03:44.423Z"
   },
   {
    "duration": 329,
    "start_time": "2022-06-09T15:03:44.647Z"
   },
   {
    "duration": 6,
    "start_time": "2022-06-09T15:03:44.978Z"
   },
   {
    "duration": 280,
    "start_time": "2022-06-09T15:03:44.985Z"
   },
   {
    "duration": 305,
    "start_time": "2022-06-09T15:03:48.006Z"
   },
   {
    "duration": 366,
    "start_time": "2022-06-09T15:04:05.299Z"
   },
   {
    "duration": 88,
    "start_time": "2022-06-09T15:08:26.202Z"
   },
   {
    "duration": 26,
    "start_time": "2022-06-09T15:08:26.292Z"
   },
   {
    "duration": 294,
    "start_time": "2022-06-09T15:08:26.324Z"
   },
   {
    "duration": 242,
    "start_time": "2022-06-09T15:08:26.619Z"
   },
   {
    "duration": 30,
    "start_time": "2022-06-09T15:08:26.864Z"
   },
   {
    "duration": 110,
    "start_time": "2022-06-09T15:08:26.896Z"
   },
   {
    "duration": 13,
    "start_time": "2022-06-09T15:08:27.008Z"
   },
   {
    "duration": 20,
    "start_time": "2022-06-09T15:08:27.023Z"
   },
   {
    "duration": 381,
    "start_time": "2022-06-09T15:08:27.045Z"
   },
   {
    "duration": 6,
    "start_time": "2022-06-09T15:08:27.428Z"
   },
   {
    "duration": 238,
    "start_time": "2022-06-09T15:08:27.436Z"
   },
   {
    "duration": 287,
    "start_time": "2022-06-09T15:08:27.684Z"
   },
   {
    "duration": 12,
    "start_time": "2022-06-09T15:08:27.973Z"
   },
   {
    "duration": 310,
    "start_time": "2022-06-09T15:08:27.989Z"
   },
   {
    "duration": 302,
    "start_time": "2022-06-09T15:08:28.303Z"
   },
   {
    "duration": 653,
    "start_time": "2022-06-09T15:08:28.611Z"
   },
   {
    "duration": 229,
    "start_time": "2022-06-09T15:08:29.265Z"
   },
   {
    "duration": 200,
    "start_time": "2022-06-09T15:08:29.498Z"
   },
   {
    "duration": 285,
    "start_time": "2022-06-09T15:08:29.700Z"
   },
   {
    "duration": 340,
    "start_time": "2022-06-09T15:08:29.987Z"
   },
   {
    "duration": 313,
    "start_time": "2022-06-09T15:08:30.328Z"
   },
   {
    "duration": 43,
    "start_time": "2022-06-09T15:08:30.642Z"
   },
   {
    "duration": 25,
    "start_time": "2022-06-09T15:08:30.686Z"
   },
   {
    "duration": 491,
    "start_time": "2022-06-09T15:08:30.715Z"
   },
   {
    "duration": 5,
    "start_time": "2022-06-09T15:08:31.210Z"
   },
   {
    "duration": 12,
    "start_time": "2022-06-09T15:08:34.914Z"
   },
   {
    "duration": 20,
    "start_time": "2022-06-09T15:08:39.469Z"
   },
   {
    "duration": 46,
    "start_time": "2022-06-09T15:14:56.267Z"
   },
   {
    "duration": 4,
    "start_time": "2022-06-09T15:22:41.402Z"
   },
   {
    "duration": 84,
    "start_time": "2022-06-09T15:24:11.451Z"
   },
   {
    "duration": 21,
    "start_time": "2022-06-09T15:24:11.537Z"
   },
   {
    "duration": 186,
    "start_time": "2022-06-09T15:24:11.560Z"
   },
   {
    "duration": 209,
    "start_time": "2022-06-09T15:24:11.748Z"
   },
   {
    "duration": 34,
    "start_time": "2022-06-09T15:24:11.959Z"
   },
   {
    "duration": 97,
    "start_time": "2022-06-09T15:24:11.997Z"
   },
   {
    "duration": 19,
    "start_time": "2022-06-09T15:24:12.096Z"
   },
   {
    "duration": 30,
    "start_time": "2022-06-09T15:24:12.118Z"
   },
   {
    "duration": 364,
    "start_time": "2022-06-09T15:24:12.150Z"
   },
   {
    "duration": 6,
    "start_time": "2022-06-09T15:24:12.515Z"
   },
   {
    "duration": 195,
    "start_time": "2022-06-09T15:24:12.522Z"
   },
   {
    "duration": 299,
    "start_time": "2022-06-09T15:24:12.719Z"
   },
   {
    "duration": 5,
    "start_time": "2022-06-09T15:24:13.021Z"
   },
   {
    "duration": 335,
    "start_time": "2022-06-09T15:24:13.029Z"
   },
   {
    "duration": 327,
    "start_time": "2022-06-09T15:24:13.366Z"
   },
   {
    "duration": 585,
    "start_time": "2022-06-09T15:24:13.698Z"
   },
   {
    "duration": 240,
    "start_time": "2022-06-09T15:24:14.292Z"
   },
   {
    "duration": 284,
    "start_time": "2022-06-09T15:24:14.534Z"
   },
   {
    "duration": 499,
    "start_time": "2022-06-09T15:24:14.820Z"
   },
   {
    "duration": 420,
    "start_time": "2022-06-09T15:24:15.321Z"
   },
   {
    "duration": 370,
    "start_time": "2022-06-09T15:24:15.743Z"
   },
   {
    "duration": 34,
    "start_time": "2022-06-09T15:24:16.115Z"
   },
   {
    "duration": 55,
    "start_time": "2022-06-09T15:24:16.151Z"
   },
   {
    "duration": 405,
    "start_time": "2022-06-09T15:24:16.210Z"
   },
   {
    "duration": 7,
    "start_time": "2022-06-09T15:24:22.998Z"
   },
   {
    "duration": 15,
    "start_time": "2022-06-09T15:24:26.902Z"
   },
   {
    "duration": 13,
    "start_time": "2022-06-09T15:24:41.561Z"
   },
   {
    "duration": 1092,
    "start_time": "2022-06-10T10:37:18.995Z"
   },
   {
    "duration": 19,
    "start_time": "2022-06-10T10:37:20.089Z"
   },
   {
    "duration": 190,
    "start_time": "2022-06-10T10:37:20.109Z"
   },
   {
    "duration": 232,
    "start_time": "2022-06-10T10:37:20.300Z"
   },
   {
    "duration": 24,
    "start_time": "2022-06-10T10:37:20.534Z"
   },
   {
    "duration": 94,
    "start_time": "2022-06-10T10:37:20.560Z"
   },
   {
    "duration": 11,
    "start_time": "2022-06-10T10:37:20.657Z"
   },
   {
    "duration": 27,
    "start_time": "2022-06-10T10:37:20.669Z"
   },
   {
    "duration": 339,
    "start_time": "2022-06-10T10:37:20.697Z"
   },
   {
    "duration": 5,
    "start_time": "2022-06-10T10:37:21.037Z"
   },
   {
    "duration": 180,
    "start_time": "2022-06-10T10:37:21.044Z"
   },
   {
    "duration": 296,
    "start_time": "2022-06-10T10:37:21.227Z"
   },
   {
    "duration": 5,
    "start_time": "2022-06-10T10:37:21.525Z"
   },
   {
    "duration": 229,
    "start_time": "2022-06-10T10:37:21.533Z"
   },
   {
    "duration": 327,
    "start_time": "2022-06-10T10:37:21.763Z"
   },
   {
    "duration": 521,
    "start_time": "2022-06-10T10:37:22.092Z"
   },
   {
    "duration": 192,
    "start_time": "2022-06-10T10:37:22.614Z"
   },
   {
    "duration": 207,
    "start_time": "2022-06-10T10:37:22.807Z"
   },
   {
    "duration": 291,
    "start_time": "2022-06-10T10:37:23.016Z"
   },
   {
    "duration": 396,
    "start_time": "2022-06-10T10:37:23.309Z"
   },
   {
    "duration": 278,
    "start_time": "2022-06-10T10:37:23.707Z"
   },
   {
    "duration": 22,
    "start_time": "2022-06-10T10:37:23.987Z"
   },
   {
    "duration": 35,
    "start_time": "2022-06-10T10:37:24.010Z"
   },
   {
    "duration": 342,
    "start_time": "2022-06-10T10:37:24.047Z"
   },
   {
    "duration": 4,
    "start_time": "2022-06-10T10:37:24.391Z"
   },
   {
    "duration": 22,
    "start_time": "2022-06-10T10:37:24.396Z"
   },
   {
    "duration": 15,
    "start_time": "2022-06-10T10:37:24.420Z"
   },
   {
    "duration": 334,
    "start_time": "2022-06-10T10:58:05.010Z"
   },
   {
    "duration": 414,
    "start_time": "2022-06-10T10:58:21.302Z"
   },
   {
    "duration": 2458,
    "start_time": "2022-06-10T13:27:59.107Z"
   },
   {
    "duration": 25,
    "start_time": "2022-06-10T13:28:01.568Z"
   },
   {
    "duration": 226,
    "start_time": "2022-06-10T13:28:01.595Z"
   },
   {
    "duration": 320,
    "start_time": "2022-06-10T13:28:01.823Z"
   },
   {
    "duration": 51,
    "start_time": "2022-06-10T13:28:02.146Z"
   },
   {
    "duration": 114,
    "start_time": "2022-06-10T13:28:52.997Z"
   },
   {
    "duration": 655,
    "start_time": "2022-06-10T13:29:04.500Z"
   },
   {
    "duration": 12,
    "start_time": "2022-06-10T13:30:03.220Z"
   },
   {
    "duration": 108,
    "start_time": "2022-06-10T13:30:24.324Z"
   },
   {
    "duration": 22,
    "start_time": "2022-06-10T13:30:24.434Z"
   },
   {
    "duration": 221,
    "start_time": "2022-06-10T13:30:24.458Z"
   },
   {
    "duration": 285,
    "start_time": "2022-06-10T13:30:24.681Z"
   },
   {
    "duration": 34,
    "start_time": "2022-06-10T13:30:24.969Z"
   },
   {
    "duration": 647,
    "start_time": "2022-06-10T13:30:33.667Z"
   },
   {
    "duration": 63,
    "start_time": "2022-06-10T13:36:13.298Z"
   },
   {
    "duration": 42,
    "start_time": "2022-06-10T13:36:27.408Z"
   },
   {
    "duration": 13,
    "start_time": "2022-06-10T13:37:35.525Z"
   },
   {
    "duration": 92,
    "start_time": "2022-06-10T13:37:59.210Z"
   },
   {
    "duration": 23,
    "start_time": "2022-06-10T13:37:59.304Z"
   },
   {
    "duration": 206,
    "start_time": "2022-06-10T13:37:59.330Z"
   },
   {
    "duration": 266,
    "start_time": "2022-06-10T13:37:59.538Z"
   },
   {
    "duration": 26,
    "start_time": "2022-06-10T13:37:59.807Z"
   },
   {
    "duration": 705,
    "start_time": "2022-06-10T13:38:08.543Z"
   },
   {
    "duration": 208,
    "start_time": "2022-06-10T13:38:32.963Z"
   },
   {
    "duration": 112,
    "start_time": "2022-06-10T13:38:38.136Z"
   },
   {
    "duration": 35,
    "start_time": "2022-06-10T13:38:38.250Z"
   },
   {
    "duration": 210,
    "start_time": "2022-06-10T13:38:38.286Z"
   },
   {
    "duration": 248,
    "start_time": "2022-06-10T13:38:38.497Z"
   },
   {
    "duration": 48,
    "start_time": "2022-06-10T13:38:38.748Z"
   },
   {
    "duration": 690,
    "start_time": "2022-06-10T13:38:49.831Z"
   },
   {
    "duration": 88,
    "start_time": "2022-06-10T13:39:45.627Z"
   },
   {
    "duration": 22,
    "start_time": "2022-06-10T13:39:45.717Z"
   },
   {
    "duration": 220,
    "start_time": "2022-06-10T13:39:45.741Z"
   },
   {
    "duration": 256,
    "start_time": "2022-06-10T13:39:45.963Z"
   },
   {
    "duration": 47,
    "start_time": "2022-06-10T13:39:46.221Z"
   },
   {
    "duration": 812,
    "start_time": "2022-06-10T13:39:52.009Z"
   },
   {
    "duration": 104,
    "start_time": "2022-06-10T13:41:06.708Z"
   },
   {
    "duration": 25,
    "start_time": "2022-06-10T13:41:06.814Z"
   },
   {
    "duration": 229,
    "start_time": "2022-06-10T13:41:06.861Z"
   },
   {
    "duration": 239,
    "start_time": "2022-06-10T13:41:07.092Z"
   },
   {
    "duration": 36,
    "start_time": "2022-06-10T13:41:07.334Z"
   },
   {
    "duration": 743,
    "start_time": "2022-06-10T13:41:07.373Z"
   },
   {
    "duration": 15,
    "start_time": "2022-06-10T13:41:08.118Z"
   },
   {
    "duration": 47,
    "start_time": "2022-06-10T13:41:08.136Z"
   },
   {
    "duration": 430,
    "start_time": "2022-06-10T13:41:08.185Z"
   },
   {
    "duration": 7,
    "start_time": "2022-06-10T13:41:08.617Z"
   },
   {
    "duration": 246,
    "start_time": "2022-06-10T13:41:08.626Z"
   },
   {
    "duration": 372,
    "start_time": "2022-06-10T13:41:08.874Z"
   },
   {
    "duration": 6,
    "start_time": "2022-06-10T13:41:09.248Z"
   },
   {
    "duration": 307,
    "start_time": "2022-06-10T13:41:09.257Z"
   },
   {
    "duration": 449,
    "start_time": "2022-06-10T13:41:09.567Z"
   },
   {
    "duration": 0,
    "start_time": "2022-06-10T13:41:10.018Z"
   },
   {
    "duration": 0,
    "start_time": "2022-06-10T13:41:10.019Z"
   },
   {
    "duration": 0,
    "start_time": "2022-06-10T13:41:10.020Z"
   },
   {
    "duration": 0,
    "start_time": "2022-06-10T13:41:10.021Z"
   },
   {
    "duration": 0,
    "start_time": "2022-06-10T13:41:10.022Z"
   },
   {
    "duration": 0,
    "start_time": "2022-06-10T13:41:10.024Z"
   },
   {
    "duration": 0,
    "start_time": "2022-06-10T13:41:10.025Z"
   },
   {
    "duration": 0,
    "start_time": "2022-06-10T13:41:10.026Z"
   },
   {
    "duration": 0,
    "start_time": "2022-06-10T13:41:10.027Z"
   },
   {
    "duration": 0,
    "start_time": "2022-06-10T13:41:10.029Z"
   },
   {
    "duration": 0,
    "start_time": "2022-06-10T13:41:10.030Z"
   },
   {
    "duration": 0,
    "start_time": "2022-06-10T13:41:10.031Z"
   },
   {
    "duration": 93,
    "start_time": "2022-06-10T13:41:14.459Z"
   },
   {
    "duration": 34,
    "start_time": "2022-06-10T13:41:14.554Z"
   },
   {
    "duration": 225,
    "start_time": "2022-06-10T13:41:14.590Z"
   },
   {
    "duration": 281,
    "start_time": "2022-06-10T13:41:14.818Z"
   },
   {
    "duration": 24,
    "start_time": "2022-06-10T13:41:15.101Z"
   },
   {
    "duration": 631,
    "start_time": "2022-06-10T13:41:15.127Z"
   },
   {
    "duration": 19,
    "start_time": "2022-06-10T13:41:37.833Z"
   },
   {
    "duration": 22,
    "start_time": "2022-06-10T13:42:05.802Z"
   },
   {
    "duration": 9,
    "start_time": "2022-06-10T13:42:31.803Z"
   },
   {
    "duration": 32,
    "start_time": "2022-06-10T13:43:00.388Z"
   },
   {
    "duration": 36,
    "start_time": "2022-06-10T13:43:07.759Z"
   },
   {
    "duration": 29,
    "start_time": "2022-06-10T13:43:14.638Z"
   },
   {
    "duration": 24,
    "start_time": "2022-06-10T13:43:49.020Z"
   },
   {
    "duration": 23,
    "start_time": "2022-06-10T13:45:39.139Z"
   },
   {
    "duration": 24,
    "start_time": "2022-06-10T13:45:43.426Z"
   },
   {
    "duration": 88,
    "start_time": "2022-06-10T13:56:33.401Z"
   },
   {
    "duration": 22,
    "start_time": "2022-06-10T13:56:33.492Z"
   },
   {
    "duration": 218,
    "start_time": "2022-06-10T13:56:33.516Z"
   },
   {
    "duration": 242,
    "start_time": "2022-06-10T13:56:33.737Z"
   },
   {
    "duration": 25,
    "start_time": "2022-06-10T13:56:33.980Z"
   },
   {
    "duration": 680,
    "start_time": "2022-06-10T13:56:34.007Z"
   },
   {
    "duration": 23,
    "start_time": "2022-06-10T13:56:34.689Z"
   },
   {
    "duration": 20,
    "start_time": "2022-06-10T13:56:34.714Z"
   },
   {
    "duration": 48,
    "start_time": "2022-06-10T13:56:34.736Z"
   },
   {
    "duration": 375,
    "start_time": "2022-06-10T13:56:34.787Z"
   },
   {
    "duration": 8,
    "start_time": "2022-06-10T13:56:35.164Z"
   },
   {
    "duration": 239,
    "start_time": "2022-06-10T13:56:35.174Z"
   },
   {
    "duration": 304,
    "start_time": "2022-06-10T13:56:35.415Z"
   },
   {
    "duration": 16,
    "start_time": "2022-06-10T13:56:35.721Z"
   },
   {
    "duration": 292,
    "start_time": "2022-06-10T13:56:35.739Z"
   },
   {
    "duration": 475,
    "start_time": "2022-06-10T13:56:36.034Z"
   },
   {
    "duration": 687,
    "start_time": "2022-06-10T13:56:36.511Z"
   },
   {
    "duration": 258,
    "start_time": "2022-06-10T13:56:37.200Z"
   },
   {
    "duration": 227,
    "start_time": "2022-06-10T13:56:37.460Z"
   },
   {
    "duration": 344,
    "start_time": "2022-06-10T13:56:37.690Z"
   },
   {
    "duration": 387,
    "start_time": "2022-06-10T13:56:38.036Z"
   },
   {
    "duration": 516,
    "start_time": "2022-06-10T13:56:38.425Z"
   },
   {
    "duration": 36,
    "start_time": "2022-06-10T13:56:38.943Z"
   },
   {
    "duration": 32,
    "start_time": "2022-06-10T13:56:38.981Z"
   },
   {
    "duration": 467,
    "start_time": "2022-06-10T13:56:39.014Z"
   },
   {
    "duration": 6,
    "start_time": "2022-06-10T13:56:39.482Z"
   },
   {
    "duration": 23,
    "start_time": "2022-06-10T13:56:39.490Z"
   },
   {
    "duration": 54,
    "start_time": "2022-06-10T13:56:39.514Z"
   },
   {
    "duration": 90,
    "start_time": "2022-06-10T13:56:57.226Z"
   },
   {
    "duration": 22,
    "start_time": "2022-06-10T13:56:57.318Z"
   },
   {
    "duration": 234,
    "start_time": "2022-06-10T13:56:57.342Z"
   },
   {
    "duration": 240,
    "start_time": "2022-06-10T13:56:57.578Z"
   },
   {
    "duration": 26,
    "start_time": "2022-06-10T13:56:57.820Z"
   },
   {
    "duration": 671,
    "start_time": "2022-06-10T13:57:14.216Z"
   },
   {
    "duration": 227,
    "start_time": "2022-06-10T13:57:36.306Z"
   },
   {
    "duration": 90,
    "start_time": "2022-06-10T13:57:56.405Z"
   },
   {
    "duration": 24,
    "start_time": "2022-06-10T13:57:56.498Z"
   },
   {
    "duration": 205,
    "start_time": "2022-06-10T13:57:56.524Z"
   },
   {
    "duration": 250,
    "start_time": "2022-06-10T13:57:56.732Z"
   },
   {
    "duration": 24,
    "start_time": "2022-06-10T13:57:56.984Z"
   },
   {
    "duration": 691,
    "start_time": "2022-06-10T13:58:27.728Z"
   },
   {
    "duration": 399,
    "start_time": "2022-06-10T13:59:25.665Z"
   },
   {
    "duration": 758,
    "start_time": "2022-06-10T14:02:23.761Z"
   },
   {
    "duration": 630,
    "start_time": "2022-06-10T14:03:18.637Z"
   },
   {
    "duration": 706,
    "start_time": "2022-06-10T14:04:27.500Z"
   },
   {
    "duration": 675,
    "start_time": "2022-06-10T14:04:46.488Z"
   },
   {
    "duration": 821,
    "start_time": "2022-06-10T14:05:29.001Z"
   },
   {
    "duration": 941,
    "start_time": "2022-06-10T14:06:01.392Z"
   },
   {
    "duration": 500,
    "start_time": "2022-06-10T14:06:15.100Z"
   },
   {
    "duration": 524,
    "start_time": "2022-06-10T14:06:36.604Z"
   },
   {
    "duration": 46,
    "start_time": "2022-06-10T14:08:43.104Z"
   },
   {
    "duration": 585,
    "start_time": "2022-06-10T14:08:56.961Z"
   },
   {
    "duration": 511,
    "start_time": "2022-06-10T14:09:57.663Z"
   },
   {
    "duration": 48,
    "start_time": "2022-06-10T14:10:30.842Z"
   },
   {
    "duration": 34,
    "start_time": "2022-06-10T14:10:36.808Z"
   },
   {
    "duration": 563,
    "start_time": "2022-06-10T14:11:01.876Z"
   },
   {
    "duration": 534,
    "start_time": "2022-06-10T14:12:00.504Z"
   },
   {
    "duration": 867,
    "start_time": "2022-06-10T14:13:01.157Z"
   },
   {
    "duration": 866,
    "start_time": "2022-06-10T14:13:22.200Z"
   },
   {
    "duration": 503,
    "start_time": "2022-06-10T14:14:05.062Z"
   },
   {
    "duration": 503,
    "start_time": "2022-06-10T14:14:16.221Z"
   },
   {
    "duration": 949,
    "start_time": "2022-06-10T14:14:33.210Z"
   },
   {
    "duration": 865,
    "start_time": "2022-06-10T14:14:39.061Z"
   },
   {
    "duration": 1017,
    "start_time": "2022-06-10T14:14:51.542Z"
   },
   {
    "duration": 506,
    "start_time": "2022-06-10T14:14:55.707Z"
   },
   {
    "duration": 748,
    "start_time": "2022-06-10T14:16:09.339Z"
   },
   {
    "duration": 707,
    "start_time": "2022-06-10T14:16:23.965Z"
   },
   {
    "duration": 760,
    "start_time": "2022-06-10T14:16:52.966Z"
   },
   {
    "duration": 9,
    "start_time": "2022-06-10T14:36:05.700Z"
   },
   {
    "duration": 7,
    "start_time": "2022-06-10T14:36:13.849Z"
   },
   {
    "duration": 7,
    "start_time": "2022-06-10T14:36:32.208Z"
   },
   {
    "duration": 6,
    "start_time": "2022-06-10T14:36:40.480Z"
   },
   {
    "duration": 6,
    "start_time": "2022-06-10T14:36:56.142Z"
   },
   {
    "duration": 6,
    "start_time": "2022-06-10T14:37:03.768Z"
   },
   {
    "duration": 6,
    "start_time": "2022-06-10T14:37:16.580Z"
   },
   {
    "duration": 8,
    "start_time": "2022-06-10T14:37:58.920Z"
   },
   {
    "duration": 473,
    "start_time": "2022-06-10T14:38:16.060Z"
   },
   {
    "duration": 6,
    "start_time": "2022-06-10T14:38:26.560Z"
   },
   {
    "duration": 6,
    "start_time": "2022-06-10T14:39:12.340Z"
   },
   {
    "duration": 743,
    "start_time": "2022-06-10T14:39:51.164Z"
   },
   {
    "duration": 104,
    "start_time": "2022-06-10T14:40:02.119Z"
   },
   {
    "duration": 33,
    "start_time": "2022-06-10T14:40:02.226Z"
   },
   {
    "duration": 230,
    "start_time": "2022-06-10T14:40:02.261Z"
   },
   {
    "duration": 224,
    "start_time": "2022-06-10T14:40:02.493Z"
   },
   {
    "duration": 23,
    "start_time": "2022-06-10T14:40:02.719Z"
   },
   {
    "duration": 16,
    "start_time": "2022-06-10T14:40:02.744Z"
   },
   {
    "duration": 742,
    "start_time": "2022-06-10T14:40:24.569Z"
   },
   {
    "duration": 591,
    "start_time": "2022-06-10T14:40:53.847Z"
   },
   {
    "duration": 547,
    "start_time": "2022-06-10T14:41:10.489Z"
   },
   {
    "duration": 682,
    "start_time": "2022-06-10T14:41:42.269Z"
   },
   {
    "duration": 827,
    "start_time": "2022-06-10T14:42:00.956Z"
   },
   {
    "duration": 825,
    "start_time": "2022-06-10T14:42:23.033Z"
   },
   {
    "duration": 823,
    "start_time": "2022-06-10T14:42:51.342Z"
   },
   {
    "duration": 907,
    "start_time": "2022-06-10T14:43:31.707Z"
   },
   {
    "duration": 836,
    "start_time": "2022-06-10T14:44:07.926Z"
   },
   {
    "duration": 827,
    "start_time": "2022-06-10T14:44:17.844Z"
   },
   {
    "duration": 575,
    "start_time": "2022-06-10T14:44:36.090Z"
   },
   {
    "duration": 757,
    "start_time": "2022-06-10T14:44:47.042Z"
   },
   {
    "duration": 7,
    "start_time": "2022-06-10T14:45:06.168Z"
   },
   {
    "duration": 686,
    "start_time": "2022-06-10T14:45:20.511Z"
   },
   {
    "duration": 365,
    "start_time": "2022-06-10T14:46:40.229Z"
   },
   {
    "duration": 93,
    "start_time": "2022-06-10T14:46:53.542Z"
   },
   {
    "duration": 22,
    "start_time": "2022-06-10T14:46:53.637Z"
   },
   {
    "duration": 194,
    "start_time": "2022-06-10T14:46:53.661Z"
   },
   {
    "duration": 221,
    "start_time": "2022-06-10T14:46:53.859Z"
   },
   {
    "duration": 22,
    "start_time": "2022-06-10T14:46:54.082Z"
   },
   {
    "duration": 14,
    "start_time": "2022-06-10T14:46:54.106Z"
   },
   {
    "duration": 878,
    "start_time": "2022-06-10T14:46:54.122Z"
   },
   {
    "duration": 23,
    "start_time": "2022-06-10T14:46:55.001Z"
   },
   {
    "duration": 14,
    "start_time": "2022-06-10T14:46:55.025Z"
   },
   {
    "duration": 24,
    "start_time": "2022-06-10T14:46:55.059Z"
   },
   {
    "duration": 396,
    "start_time": "2022-06-10T14:46:59.862Z"
   },
   {
    "duration": 84,
    "start_time": "2022-06-10T14:47:39.223Z"
   },
   {
    "duration": 23,
    "start_time": "2022-06-10T14:47:39.309Z"
   },
   {
    "duration": 197,
    "start_time": "2022-06-10T14:47:39.333Z"
   },
   {
    "duration": 222,
    "start_time": "2022-06-10T14:47:39.531Z"
   },
   {
    "duration": 25,
    "start_time": "2022-06-10T14:47:39.758Z"
   },
   {
    "duration": 6,
    "start_time": "2022-06-10T14:47:39.785Z"
   },
   {
    "duration": 752,
    "start_time": "2022-06-10T14:47:39.793Z"
   },
   {
    "duration": 28,
    "start_time": "2022-06-10T14:47:40.547Z"
   },
   {
    "duration": 14,
    "start_time": "2022-06-10T14:47:40.576Z"
   },
   {
    "duration": 23,
    "start_time": "2022-06-10T14:47:40.591Z"
   },
   {
    "duration": 403,
    "start_time": "2022-06-10T14:47:40.615Z"
   },
   {
    "duration": 5,
    "start_time": "2022-06-10T14:47:41.020Z"
   },
   {
    "duration": 204,
    "start_time": "2022-06-10T14:47:41.027Z"
   },
   {
    "duration": 296,
    "start_time": "2022-06-10T14:47:41.234Z"
   },
   {
    "duration": 5,
    "start_time": "2022-06-10T14:47:41.532Z"
   },
   {
    "duration": 300,
    "start_time": "2022-06-10T14:47:41.538Z"
   },
   {
    "duration": 424,
    "start_time": "2022-06-10T14:47:45.905Z"
   },
   {
    "duration": 37,
    "start_time": "2022-06-10T14:48:05.911Z"
   },
   {
    "duration": 395,
    "start_time": "2022-06-10T14:50:48.669Z"
   },
   {
    "duration": 493,
    "start_time": "2022-06-10T14:52:31.699Z"
   },
   {
    "duration": 642,
    "start_time": "2022-06-10T14:56:02.238Z"
   },
   {
    "duration": 284,
    "start_time": "2022-06-10T14:56:52.445Z"
   },
   {
    "duration": 616,
    "start_time": "2022-06-10T14:58:47.111Z"
   },
   {
    "duration": 645,
    "start_time": "2022-06-10T14:59:03.690Z"
   },
   {
    "duration": 330,
    "start_time": "2022-06-10T14:59:24.050Z"
   },
   {
    "duration": 649,
    "start_time": "2022-06-10T15:02:57.504Z"
   },
   {
    "duration": 678,
    "start_time": "2022-06-10T15:04:37.463Z"
   },
   {
    "duration": 871,
    "start_time": "2022-06-10T15:05:12.663Z"
   },
   {
    "duration": 622,
    "start_time": "2022-06-10T15:06:37.323Z"
   },
   {
    "duration": 6,
    "start_time": "2022-06-10T15:09:35.662Z"
   },
   {
    "duration": 6,
    "start_time": "2022-06-10T15:09:48.236Z"
   },
   {
    "duration": 3,
    "start_time": "2022-06-10T15:10:10.781Z"
   },
   {
    "duration": 28,
    "start_time": "2022-06-10T15:10:19.201Z"
   },
   {
    "duration": 4,
    "start_time": "2022-06-10T15:10:24.164Z"
   },
   {
    "duration": 10,
    "start_time": "2022-06-10T15:10:43.082Z"
   },
   {
    "duration": 104,
    "start_time": "2022-06-10T15:11:53.482Z"
   },
   {
    "duration": 8,
    "start_time": "2022-06-10T15:12:26.128Z"
   },
   {
    "duration": 8,
    "start_time": "2022-06-10T15:12:44.961Z"
   },
   {
    "duration": 7,
    "start_time": "2022-06-10T15:12:48.322Z"
   },
   {
    "duration": 60,
    "start_time": "2022-06-10T15:13:13.161Z"
   },
   {
    "duration": 4,
    "start_time": "2022-06-10T15:25:34.316Z"
   },
   {
    "duration": 79,
    "start_time": "2022-06-10T15:25:43.524Z"
   },
   {
    "duration": 122,
    "start_time": "2022-06-10T15:26:01.971Z"
   },
   {
    "duration": 29,
    "start_time": "2022-06-10T15:30:44.498Z"
   },
   {
    "duration": 6,
    "start_time": "2022-06-10T15:30:55.877Z"
   },
   {
    "duration": 216,
    "start_time": "2022-06-10T15:31:55.096Z"
   },
   {
    "duration": 209,
    "start_time": "2022-06-10T15:32:05.982Z"
   },
   {
    "duration": 264,
    "start_time": "2022-06-10T15:40:11.257Z"
   },
   {
    "duration": 240,
    "start_time": "2022-06-10T15:40:40.698Z"
   },
   {
    "duration": 15,
    "start_time": "2022-06-10T15:41:28.783Z"
   },
   {
    "duration": 230,
    "start_time": "2022-06-10T15:41:55.076Z"
   },
   {
    "duration": 14,
    "start_time": "2022-06-10T15:41:59.197Z"
   },
   {
    "duration": 228,
    "start_time": "2022-06-10T15:42:09.415Z"
   },
   {
    "duration": 238,
    "start_time": "2022-06-10T15:55:33.346Z"
   },
   {
    "duration": 228,
    "start_time": "2022-06-10T15:55:55.556Z"
   },
   {
    "duration": 207,
    "start_time": "2022-06-10T15:56:20.996Z"
   },
   {
    "duration": 6,
    "start_time": "2022-06-10T15:57:58.523Z"
   },
   {
    "duration": 14,
    "start_time": "2022-06-10T15:58:02.660Z"
   },
   {
    "duration": 20,
    "start_time": "2022-06-10T16:00:03.791Z"
   },
   {
    "duration": 791,
    "start_time": "2022-06-10T16:00:22.187Z"
   },
   {
    "duration": 84,
    "start_time": "2022-06-10T16:00:37.456Z"
   },
   {
    "duration": 22,
    "start_time": "2022-06-10T16:00:37.542Z"
   },
   {
    "duration": 190,
    "start_time": "2022-06-10T16:00:37.566Z"
   },
   {
    "duration": 225,
    "start_time": "2022-06-10T16:00:37.758Z"
   },
   {
    "duration": 26,
    "start_time": "2022-06-10T16:00:37.984Z"
   },
   {
    "duration": 6,
    "start_time": "2022-06-10T16:00:38.011Z"
   },
   {
    "duration": 723,
    "start_time": "2022-06-10T16:00:38.019Z"
   },
   {
    "duration": 36,
    "start_time": "2022-06-10T16:00:38.744Z"
   },
   {
    "duration": 16,
    "start_time": "2022-06-10T16:00:38.782Z"
   },
   {
    "duration": 41,
    "start_time": "2022-06-10T16:00:38.801Z"
   },
   {
    "duration": 387,
    "start_time": "2022-06-10T16:00:38.859Z"
   },
   {
    "duration": 10,
    "start_time": "2022-06-10T16:00:39.248Z"
   },
   {
    "duration": 221,
    "start_time": "2022-06-10T16:00:39.260Z"
   },
   {
    "duration": 309,
    "start_time": "2022-06-10T16:00:39.484Z"
   },
   {
    "duration": 4,
    "start_time": "2022-06-10T16:00:39.796Z"
   },
   {
    "duration": 286,
    "start_time": "2022-06-10T16:00:39.802Z"
   },
   {
    "duration": 526,
    "start_time": "2022-06-10T16:00:40.090Z"
   },
   {
    "duration": 645,
    "start_time": "2022-06-10T16:00:40.618Z"
   },
   {
    "duration": 118,
    "start_time": "2022-06-10T16:00:41.265Z"
   },
   {
    "duration": 5,
    "start_time": "2022-06-10T16:00:41.385Z"
   },
   {
    "duration": 249,
    "start_time": "2022-06-10T16:00:41.392Z"
   },
   {
    "duration": 250,
    "start_time": "2022-06-10T16:00:41.643Z"
   },
   {
    "duration": 16,
    "start_time": "2022-06-10T16:00:46.095Z"
   },
   {
    "duration": 145,
    "start_time": "2022-06-10T16:04:05.640Z"
   },
   {
    "duration": 127,
    "start_time": "2022-06-10T16:04:32.118Z"
   },
   {
    "duration": 416,
    "start_time": "2022-06-10T16:05:54.677Z"
   },
   {
    "duration": 394,
    "start_time": "2022-06-10T16:06:10.181Z"
   },
   {
    "duration": 403,
    "start_time": "2022-06-10T16:06:21.162Z"
   },
   {
    "duration": 28,
    "start_time": "2022-06-10T16:08:09.597Z"
   },
   {
    "duration": 363,
    "start_time": "2022-06-10T16:09:32.009Z"
   },
   {
    "duration": 349,
    "start_time": "2022-06-10T16:09:53.725Z"
   },
   {
    "duration": 373,
    "start_time": "2022-06-10T16:10:32.937Z"
   },
   {
    "duration": 13,
    "start_time": "2022-06-10T16:11:21.463Z"
   },
   {
    "duration": 5,
    "start_time": "2022-06-10T16:11:24.178Z"
   },
   {
    "duration": 16,
    "start_time": "2022-06-10T16:11:27.630Z"
   },
   {
    "duration": 1140,
    "start_time": "2022-06-11T15:49:40.885Z"
   },
   {
    "duration": 20,
    "start_time": "2022-06-11T15:49:42.027Z"
   },
   {
    "duration": 197,
    "start_time": "2022-06-11T15:49:42.048Z"
   },
   {
    "duration": 226,
    "start_time": "2022-06-11T15:49:42.248Z"
   },
   {
    "duration": 24,
    "start_time": "2022-06-11T15:49:42.475Z"
   },
   {
    "duration": 7,
    "start_time": "2022-06-11T15:49:42.501Z"
   },
   {
    "duration": 837,
    "start_time": "2022-06-11T15:49:42.511Z"
   },
   {
    "duration": 26,
    "start_time": "2022-06-11T15:49:43.360Z"
   },
   {
    "duration": 15,
    "start_time": "2022-06-11T15:49:43.388Z"
   },
   {
    "duration": 24,
    "start_time": "2022-06-11T15:49:43.406Z"
   },
   {
    "duration": 497,
    "start_time": "2022-06-11T15:49:43.433Z"
   },
   {
    "duration": 6,
    "start_time": "2022-06-11T15:49:43.932Z"
   },
   {
    "duration": 223,
    "start_time": "2022-06-11T15:49:43.940Z"
   },
   {
    "duration": 308,
    "start_time": "2022-06-11T15:49:44.165Z"
   },
   {
    "duration": 5,
    "start_time": "2022-06-11T15:49:44.476Z"
   },
   {
    "duration": 255,
    "start_time": "2022-06-11T15:49:44.482Z"
   },
   {
    "duration": 368,
    "start_time": "2022-06-11T15:49:44.739Z"
   },
   {
    "duration": 601,
    "start_time": "2022-06-11T15:49:45.108Z"
   },
   {
    "duration": 98,
    "start_time": "2022-06-11T15:49:45.710Z"
   },
   {
    "duration": 5,
    "start_time": "2022-06-11T15:49:45.809Z"
   },
   {
    "duration": 223,
    "start_time": "2022-06-11T15:49:45.815Z"
   },
   {
    "duration": 207,
    "start_time": "2022-06-11T15:49:46.039Z"
   },
   {
    "duration": 30,
    "start_time": "2022-06-11T15:49:46.247Z"
   },
   {
    "duration": 355,
    "start_time": "2022-06-11T15:51:26.437Z"
   },
   {
    "duration": 396,
    "start_time": "2022-06-11T15:51:33.304Z"
   },
   {
    "duration": 341,
    "start_time": "2022-06-11T15:51:34.690Z"
   },
   {
    "duration": 27,
    "start_time": "2022-06-11T15:51:51.180Z"
   },
   {
    "duration": 407,
    "start_time": "2022-06-11T15:51:51.209Z"
   },
   {
    "duration": 5,
    "start_time": "2022-06-11T15:51:51.617Z"
   },
   {
    "duration": 20,
    "start_time": "2022-06-11T15:51:51.624Z"
   },
   {
    "duration": 24,
    "start_time": "2022-06-11T15:51:51.663Z"
   },
   {
    "duration": 6,
    "start_time": "2022-06-11T15:54:32.400Z"
   },
   {
    "duration": 4,
    "start_time": "2022-06-11T15:54:37.869Z"
   },
   {
    "duration": 5,
    "start_time": "2022-06-11T15:54:46.116Z"
   },
   {
    "duration": 25,
    "start_time": "2022-06-11T15:55:52.885Z"
   },
   {
    "duration": 5,
    "start_time": "2022-06-11T15:59:07.305Z"
   },
   {
    "duration": 5,
    "start_time": "2022-06-11T15:59:15.610Z"
   }
  ],
  "kernelspec": {
   "display_name": "Python 3 (ipykernel)",
   "language": "python",
   "name": "python3"
  },
  "language_info": {
   "codemirror_mode": {
    "name": "ipython",
    "version": 3
   },
   "file_extension": ".py",
   "mimetype": "text/x-python",
   "name": "python",
   "nbconvert_exporter": "python",
   "pygments_lexer": "ipython3",
   "version": "3.9.13"
  },
  "toc": {
   "base_numbering": 1,
   "nav_menu": {},
   "number_sections": true,
   "sideBar": true,
   "skip_h1_title": true,
   "title_cell": "Содержание",
   "title_sidebar": "Содержание",
   "toc_cell": true,
   "toc_position": {
    "height": "calc(100% - 180px)",
    "left": "10px",
    "top": "150px",
    "width": "234px"
   },
   "toc_section_display": true,
   "toc_window_display": true
  }
 },
 "nbformat": 4,
 "nbformat_minor": 5
}

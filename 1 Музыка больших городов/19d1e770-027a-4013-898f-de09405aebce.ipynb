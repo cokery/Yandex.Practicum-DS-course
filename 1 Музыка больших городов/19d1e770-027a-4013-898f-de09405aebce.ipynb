{
 "cells": [
  {
   "cell_type": "markdown",
   "metadata": {
    "id": "E0vqbgi9ay0H"
   },
   "source": [
    "# Яндекс.Музыка"
   ]
  },
  {
   "cell_type": "markdown",
   "metadata": {
    "id": "VUC88oWjTJw2"
   },
   "source": [
    "Сравнение Москвы и Петербурга окружено мифами. Например:\n",
    " * Москва — мегаполис, подчинённый жёсткому ритму рабочей недели;\n",
    " * Петербург — культурная столица, со своими вкусами.\n",
    "\n",
    "На данных Яндекс.Музыки вы сравните поведение пользователей двух столиц.\n",
    "\n",
    "**Цель исследования** — проверьте три гипотезы:\n",
    "1. Активность пользователей зависит от дня недели. Причём в Москве и Петербурге это проявляется по-разному.\n",
    "2. В понедельник утром в Москве преобладают одни жанры, а в Петербурге — другие. Так же и вечером пятницы преобладают разные жанры — в зависимости от города. \n",
    "3. Москва и Петербург предпочитают разные жанры музыки. В Москве чаще слушают поп-музыку, в Петербурге — русский рэп.\n",
    "\n",
    "**Ход исследования**\n",
    "\n",
    "Данные о поведении пользователей вы получите из файла `yandex_music_project.csv`. О качестве данных ничего не известно. Поэтому перед проверкой гипотез понадобится обзор данных. \n",
    "\n",
    "Вы проверите данные на ошибки и оцените их влияние на исследование. Затем, на этапе предобработки вы поищете возможность исправить самые критичные ошибки данных.\n",
    " \n",
    "Таким образом, исследование пройдёт в три этапа:\n",
    " 1. Обзор данных.\n",
    " 2. Предобработка данных.\n",
    " 3. Проверка гипотез.\n",
    "\n"
   ]
  },
  {
   "cell_type": "markdown",
   "metadata": {
    "id": "Ml1hmfXC_Zcs"
   },
   "source": [
    "## Обзор данных\n",
    "\n",
    "Составьте первое представление о данных Яндекс.Музыки.\n",
    "\n",
    "\n"
   ]
  },
  {
   "cell_type": "markdown",
   "metadata": {
    "id": "57eAOGIz_Zcs"
   },
   "source": [
    "Основной инструмент аналитика — `pandas`. Импортируйте эту библиотеку."
   ]
  },
  {
   "cell_type": "code",
   "execution_count": 64,
   "metadata": {
    "id": "AXN7PHPN_Zcs"
   },
   "outputs": [],
   "source": [
    "# импорт библиотеки pandas\n",
    "import pandas as pd"
   ]
  },
  {
   "cell_type": "markdown",
   "metadata": {
    "id": "SG23P8tt_Zcs"
   },
   "source": [
    "Прочитайте файл `yandex_music_project.csv` из папки `/datasets` и сохраните его в переменной `df`:"
   ]
  },
  {
   "cell_type": "code",
   "execution_count": 65,
   "metadata": {
    "id": "fFVu7vqh_Zct"
   },
   "outputs": [],
   "source": [
    "# чтение файла с данными и сохранение в df\n",
    "df = pd.read_csv('/datasets/yandex_music_project.csv')\n",
    "df.to_csv('yandex_music_project.csv')"
   ]
  },
  {
   "cell_type": "markdown",
   "metadata": {
    "id": "rDoOMd3uTqnZ"
   },
   "source": [
    "Выведите на экран первые десять строк таблицы:"
   ]
  },
  {
   "cell_type": "code",
   "execution_count": 102,
   "metadata": {
    "id": "oWTVX3gW_Zct"
   },
   "outputs": [
    {
     "data": {
      "text/html": [
       "<div>\n",
       "<style scoped>\n",
       "    .dataframe tbody tr th:only-of-type {\n",
       "        vertical-align: middle;\n",
       "    }\n",
       "\n",
       "    .dataframe tbody tr th {\n",
       "        vertical-align: top;\n",
       "    }\n",
       "\n",
       "    .dataframe thead th {\n",
       "        text-align: right;\n",
       "    }\n",
       "</style>\n",
       "<table border=\"1\" class=\"dataframe\">\n",
       "  <thead>\n",
       "    <tr style=\"text-align: right;\">\n",
       "      <th></th>\n",
       "      <th>user_id</th>\n",
       "      <th>track</th>\n",
       "      <th>artist</th>\n",
       "      <th>genre</th>\n",
       "      <th>city</th>\n",
       "      <th>time</th>\n",
       "      <th>day</th>\n",
       "    </tr>\n",
       "  </thead>\n",
       "  <tbody>\n",
       "    <tr>\n",
       "      <th>0</th>\n",
       "      <td>FFB692EC</td>\n",
       "      <td>Kamigata To Boots</td>\n",
       "      <td>The Mass Missile</td>\n",
       "      <td>rock</td>\n",
       "      <td>Saint-Petersburg</td>\n",
       "      <td>20:28:33</td>\n",
       "      <td>Wednesday</td>\n",
       "    </tr>\n",
       "    <tr>\n",
       "      <th>1</th>\n",
       "      <td>55204538</td>\n",
       "      <td>Delayed Because of Accident</td>\n",
       "      <td>Andreas Rönnberg</td>\n",
       "      <td>rock</td>\n",
       "      <td>Moscow</td>\n",
       "      <td>14:07:09</td>\n",
       "      <td>Friday</td>\n",
       "    </tr>\n",
       "    <tr>\n",
       "      <th>2</th>\n",
       "      <td>20EC38</td>\n",
       "      <td>Funiculì funiculà</td>\n",
       "      <td>Mario Lanza</td>\n",
       "      <td>pop</td>\n",
       "      <td>Saint-Petersburg</td>\n",
       "      <td>20:58:07</td>\n",
       "      <td>Wednesday</td>\n",
       "    </tr>\n",
       "    <tr>\n",
       "      <th>3</th>\n",
       "      <td>A3DD03C9</td>\n",
       "      <td>Dragons in the Sunset</td>\n",
       "      <td>Fire + Ice</td>\n",
       "      <td>folk</td>\n",
       "      <td>Saint-Petersburg</td>\n",
       "      <td>08:37:09</td>\n",
       "      <td>Monday</td>\n",
       "    </tr>\n",
       "    <tr>\n",
       "      <th>4</th>\n",
       "      <td>E2DC1FAE</td>\n",
       "      <td>Soul People</td>\n",
       "      <td>Space Echo</td>\n",
       "      <td>dance</td>\n",
       "      <td>Moscow</td>\n",
       "      <td>08:34:34</td>\n",
       "      <td>Monday</td>\n",
       "    </tr>\n",
       "    <tr>\n",
       "      <th>5</th>\n",
       "      <td>842029A1</td>\n",
       "      <td>Преданная</td>\n",
       "      <td>IMPERVTOR</td>\n",
       "      <td>rusrap</td>\n",
       "      <td>Saint-Petersburg</td>\n",
       "      <td>13:09:41</td>\n",
       "      <td>Friday</td>\n",
       "    </tr>\n",
       "    <tr>\n",
       "      <th>6</th>\n",
       "      <td>4CB90AA5</td>\n",
       "      <td>True</td>\n",
       "      <td>Roman Messer</td>\n",
       "      <td>dance</td>\n",
       "      <td>Moscow</td>\n",
       "      <td>13:00:07</td>\n",
       "      <td>Wednesday</td>\n",
       "    </tr>\n",
       "    <tr>\n",
       "      <th>7</th>\n",
       "      <td>F03E1C1F</td>\n",
       "      <td>Feeling This Way</td>\n",
       "      <td>Polina Griffith</td>\n",
       "      <td>dance</td>\n",
       "      <td>Moscow</td>\n",
       "      <td>20:47:49</td>\n",
       "      <td>Wednesday</td>\n",
       "    </tr>\n",
       "    <tr>\n",
       "      <th>8</th>\n",
       "      <td>8FA1D3BE</td>\n",
       "      <td>И вновь продолжается бой</td>\n",
       "      <td>unknown</td>\n",
       "      <td>ruspop</td>\n",
       "      <td>Moscow</td>\n",
       "      <td>09:17:40</td>\n",
       "      <td>Friday</td>\n",
       "    </tr>\n",
       "    <tr>\n",
       "      <th>9</th>\n",
       "      <td>E772D5C0</td>\n",
       "      <td>Pessimist</td>\n",
       "      <td>unknown</td>\n",
       "      <td>dance</td>\n",
       "      <td>Saint-Petersburg</td>\n",
       "      <td>21:20:49</td>\n",
       "      <td>Wednesday</td>\n",
       "    </tr>\n",
       "  </tbody>\n",
       "</table>\n",
       "</div>"
      ],
      "text/plain": [
       "    user_id                        track            artist   genre  \\\n",
       "0  FFB692EC            Kamigata To Boots  The Mass Missile    rock   \n",
       "1  55204538  Delayed Because of Accident  Andreas Rönnberg    rock   \n",
       "2    20EC38            Funiculì funiculà       Mario Lanza     pop   \n",
       "3  A3DD03C9        Dragons in the Sunset        Fire + Ice    folk   \n",
       "4  E2DC1FAE                  Soul People        Space Echo   dance   \n",
       "5  842029A1                    Преданная         IMPERVTOR  rusrap   \n",
       "6  4CB90AA5                         True      Roman Messer   dance   \n",
       "7  F03E1C1F             Feeling This Way   Polina Griffith   dance   \n",
       "8  8FA1D3BE     И вновь продолжается бой           unknown  ruspop   \n",
       "9  E772D5C0                    Pessimist           unknown   dance   \n",
       "\n",
       "               city      time        day  \n",
       "0  Saint-Petersburg  20:28:33  Wednesday  \n",
       "1            Moscow  14:07:09     Friday  \n",
       "2  Saint-Petersburg  20:58:07  Wednesday  \n",
       "3  Saint-Petersburg  08:37:09     Monday  \n",
       "4            Moscow  08:34:34     Monday  \n",
       "5  Saint-Petersburg  13:09:41     Friday  \n",
       "6            Moscow  13:00:07  Wednesday  \n",
       "7            Moscow  20:47:49  Wednesday  \n",
       "8            Moscow  09:17:40     Friday  \n",
       "9  Saint-Petersburg  21:20:49  Wednesday  "
      ]
     },
     "execution_count": 102,
     "metadata": {},
     "output_type": "execute_result"
    }
   ],
   "source": [
    "# получение первых 10 строк таблицы df\n",
    "df.head(10)"
   ]
  },
  {
   "cell_type": "code",
   "execution_count": 67,
   "metadata": {},
   "outputs": [
    {
     "data": {
      "text/html": [
       "<div>\n",
       "<style scoped>\n",
       "    .dataframe tbody tr th:only-of-type {\n",
       "        vertical-align: middle;\n",
       "    }\n",
       "\n",
       "    .dataframe tbody tr th {\n",
       "        vertical-align: top;\n",
       "    }\n",
       "\n",
       "    .dataframe thead th {\n",
       "        text-align: right;\n",
       "    }\n",
       "</style>\n",
       "<table border=\"1\" class=\"dataframe\">\n",
       "  <thead>\n",
       "    <tr style=\"text-align: right;\">\n",
       "      <th></th>\n",
       "      <th>userID</th>\n",
       "      <th>Track</th>\n",
       "      <th>artist</th>\n",
       "      <th>genre</th>\n",
       "      <th>City</th>\n",
       "      <th>time</th>\n",
       "      <th>Day</th>\n",
       "    </tr>\n",
       "  </thead>\n",
       "  <tbody>\n",
       "    <tr>\n",
       "      <th>0</th>\n",
       "      <td>FFB692EC</td>\n",
       "      <td>Kamigata To Boots</td>\n",
       "      <td>The Mass Missile</td>\n",
       "      <td>rock</td>\n",
       "      <td>Saint-Petersburg</td>\n",
       "      <td>20:28:33</td>\n",
       "      <td>Wednesday</td>\n",
       "    </tr>\n",
       "    <tr>\n",
       "      <th>1</th>\n",
       "      <td>55204538</td>\n",
       "      <td>Delayed Because of Accident</td>\n",
       "      <td>Andreas Rönnberg</td>\n",
       "      <td>rock</td>\n",
       "      <td>Moscow</td>\n",
       "      <td>14:07:09</td>\n",
       "      <td>Friday</td>\n",
       "    </tr>\n",
       "  </tbody>\n",
       "</table>\n",
       "</div>"
      ],
      "text/plain": [
       "     userID                        Track            artist genre  \\\n",
       "0  FFB692EC            Kamigata To Boots  The Mass Missile  rock   \n",
       "1  55204538  Delayed Because of Accident  Andreas Rönnberg  rock   \n",
       "\n",
       "             City        time        Day  \n",
       "0  Saint-Petersburg  20:28:33  Wednesday  \n",
       "1            Moscow  14:07:09     Friday  "
      ]
     },
     "execution_count": 67,
     "metadata": {},
     "output_type": "execute_result"
    }
   ],
   "source": [
    "# КОД РЕВЬЮЕРА\n",
    "\n",
    "df.head(10)\n",
    "df.head(6)\n",
    "df.head(2)"
   ]
  },
  {
   "cell_type": "markdown",
   "metadata": {
    "id": "EO73Kwic_Zct"
   },
   "source": [
    "Одной командой получить общую информацию о таблице:"
   ]
  },
  {
   "cell_type": "code",
   "execution_count": 68,
   "metadata": {
    "id": "DSf2kIb-_Zct"
   },
   "outputs": [
    {
     "name": "stdout",
     "output_type": "stream",
     "text": [
      "<class 'pandas.core.frame.DataFrame'>\n",
      "RangeIndex: 65079 entries, 0 to 65078\n",
      "Data columns (total 7 columns):\n",
      " #   Column    Non-Null Count  Dtype \n",
      "---  ------    --------------  ----- \n",
      " 0     userID  65079 non-null  object\n",
      " 1   Track     63848 non-null  object\n",
      " 2   artist    57876 non-null  object\n",
      " 3   genre     63881 non-null  object\n",
      " 4     City    65079 non-null  object\n",
      " 5   time      65079 non-null  object\n",
      " 6   Day       65079 non-null  object\n",
      "dtypes: object(7)\n",
      "memory usage: 3.5+ MB\n"
     ]
    },
    {
     "data": {
      "text/plain": [
       "None"
      ]
     },
     "metadata": {},
     "output_type": "display_data"
    }
   ],
   "source": [
    "# получение общей информации о данных в таблице df\n",
    "display(df.info())"
   ]
  },
  {
   "cell_type": "markdown",
   "metadata": {
    "id": "TaQ2Iwbr_Zct"
   },
   "source": [
    "Итак, в таблице семь столбцов. Тип данных во всех столбцах — `object`.\n",
    "\n",
    "Согласно документации к данным:\n",
    "* `userID` — идентификатор пользователя;\n",
    "* `Track` — название трека;  \n",
    "* `artist` — имя исполнителя;\n",
    "* `genre` — название жанра;\n",
    "* `City` — город пользователя;\n",
    "* `time` — время начала прослушивания;\n",
    "* `Day` — день недели.\n",
    "\n",
    "В названиях колонок видны три нарушения стиля:\n",
    "1. Строчные буквы сочетаются с прописными.\n",
    "2. Встречаются пробелы.\n",
    "3. Найдите ещё одну проблему в названии колонок и опишите её в этом пункте. **В названии колонки userID использован CamelStyle, а нужен snake_style**\n",
    "\n",
    "\n",
    "\n",
    "Количество значений в столбцах различается. Значит, в данных есть пропущенные значения.\n"
   ]
  },
  {
   "cell_type": "markdown",
   "metadata": {
    "id": "MCB6-dXG_Zct"
   },
   "source": [
    "**Выводы**\n",
    "\n",
    "В каждой строке таблицы — данные о прослушанном треке. Часть колонок описывает саму композицию: название, исполнителя и жанр. Остальные данные рассказывают о пользователе: из какого он города, когда он слушал музыку. \n",
    "\n",
    "Предварительно можно утверждать, что, данных достаточно для проверки гипотез. Но встречаются пропуски в данных, а в названиях колонок — расхождения с хорошим стилем.\n",
    "\n",
    "Чтобы двигаться дальше, нужно устранить проблемы в данных."
   ]
  },
  {
   "cell_type": "markdown",
   "metadata": {
    "id": "SjYF6Ub9_Zct"
   },
   "source": [
    "## Предобработка данных\n",
    "Исправьте стиль в заголовках столбцов, исключите пропуски. Затем проверьте данные на дубликаты."
   ]
  },
  {
   "cell_type": "markdown",
   "metadata": {
    "id": "dIaKXr29_Zct"
   },
   "source": [
    "### Стиль заголовков\n",
    "Выведите на экран названия столбцов:"
   ]
  },
  {
   "cell_type": "code",
   "execution_count": 69,
   "metadata": {
    "id": "oKOTdF_Q_Zct"
   },
   "outputs": [
    {
     "data": {
      "text/plain": [
       "Index(['  userID', 'Track', 'artist', 'genre', '  City  ', 'time', 'Day'], dtype='object')"
      ]
     },
     "metadata": {},
     "output_type": "display_data"
    }
   ],
   "source": [
    "# перечень названий столбцов таблицы df\n",
    "display(df.columns)"
   ]
  },
  {
   "cell_type": "markdown",
   "metadata": {
    "id": "FPZA3ki8xe7T"
   },
   "source": []
  },
  {
   "cell_type": "markdown",
   "metadata": {
    "id": "zj5534cv_Zct"
   },
   "source": [
    "Приведите названия в соответствие с хорошим стилем:\n",
    "* несколько слов в названии запишите в «змеином_регистре»,\n",
    "* все символы сделайте строчными,\n",
    "* устраните пробелы.\n",
    "\n",
    "Для этого переименуйте колонки так:\n",
    "* `'  userID'` → `'user_id'`;\n",
    "* `'Track'` → `'track'`;\n",
    "* `'  City  '` → `'city'`;\n",
    "* `'Day'` → `'day'`."
   ]
  },
  {
   "cell_type": "code",
   "execution_count": 70,
   "metadata": {
    "id": "ISlFqs5y_Zct"
   },
   "outputs": [],
   "source": [
    "# переименование столбцов\n",
    "df = df.rename(columns={'  userID':'user_id', 'Track':'track', '  City  ':'city', 'Day':'day'})"
   ]
  },
  {
   "cell_type": "markdown",
   "metadata": {
    "id": "1dqbh00J_Zct"
   },
   "source": [
    "Проверьте результат. Для этого ещё раз выведите на экран названия столбцов:"
   ]
  },
  {
   "cell_type": "code",
   "execution_count": 71,
   "metadata": {
    "id": "d4NOAmTW_Zct"
   },
   "outputs": [
    {
     "data": {
      "text/plain": [
       "Index(['user_id', 'track', 'artist', 'genre', 'city', 'time', 'day'], dtype='object')"
      ]
     },
     "metadata": {},
     "output_type": "display_data"
    }
   ],
   "source": [
    "# проверка результатов - перечень названий столбцов\n",
    "display(df.columns)"
   ]
  },
  {
   "cell_type": "markdown",
   "metadata": {
    "id": "5ISfbcfY_Zct"
   },
   "source": [
    "### Пропуски значений\n",
    "Сначала посчитайте, сколько в таблице пропущенных значений. Для этого достаточно двух методов `pandas`:"
   ]
  },
  {
   "cell_type": "code",
   "execution_count": 72,
   "metadata": {
    "id": "RskX29qr_Zct"
   },
   "outputs": [
    {
     "data": {
      "text/plain": [
       "user_id       0\n",
       "track      1231\n",
       "artist     7203\n",
       "genre      1198\n",
       "city          0\n",
       "time          0\n",
       "day           0\n",
       "dtype: int64"
      ]
     },
     "metadata": {},
     "output_type": "display_data"
    }
   ],
   "source": [
    "# подсчёт пропусков\n",
    "display(df.isna().sum())"
   ]
  },
  {
   "cell_type": "markdown",
   "metadata": {
    "id": "qubhgnlO_Zct"
   },
   "source": [
    "Не все пропущенные значения влияют на исследование. Так в `track` и `artist` пропуски не важны для вашей работы. Достаточно заменить их явными обозначениями.\n",
    "\n",
    "Но пропуски в `genre` могут помешать сравнению музыкальных вкусов в Москве и Санкт-Петербурге. На практике было бы правильно установить причину пропусков и восстановить данные. Такой возможности нет в учебном проекте. Придётся:\n",
    "* заполнить и эти пропуски явными обозначениями,\n",
    "* оценить, насколько они повредят расчётам. "
   ]
  },
  {
   "cell_type": "markdown",
   "metadata": {
    "id": "fSv2laPA_Zct"
   },
   "source": [
    "Замените пропущенные значения в столбцах `track`, `artist` и `genre` на строку `'unknown'`. Для этого создайте список `columns_to_replace`, переберите его элементы циклом `for` и для каждого столбца выполните замену пропущенных значений:"
   ]
  },
  {
   "cell_type": "code",
   "execution_count": 73,
   "metadata": {
    "id": "KplB5qWs_Zct"
   },
   "outputs": [],
   "source": [
    "# перебор названий столбцов в цикле и замена пропущенных значений на 'unknown\n",
    "columns_to_replace = ['track', 'artist', 'genre']\n",
    "for col in columns_to_replace:\n",
    "    df[col] = df[col].fillna('unknown')"
   ]
  },
  {
   "cell_type": "markdown",
   "metadata": {
    "id": "Ilsm-MZo_Zct"
   },
   "source": [
    "Убедитесь, что в таблице не осталось пропусков. Для этого ещё раз посчитайте пропущенные значения."
   ]
  },
  {
   "cell_type": "code",
   "execution_count": 74,
   "metadata": {
    "id": "Tq4nYRX4_Zct"
   },
   "outputs": [
    {
     "data": {
      "text/plain": [
       "user_id    0\n",
       "track      0\n",
       "artist     0\n",
       "genre      0\n",
       "city       0\n",
       "time       0\n",
       "day        0\n",
       "dtype: int64"
      ]
     },
     "metadata": {},
     "output_type": "display_data"
    }
   ],
   "source": [
    "# подсчёт пропусков\n",
    "display(df.isna().sum())"
   ]
  },
  {
   "cell_type": "markdown",
   "metadata": {
    "id": "BWKRtBJ3_Zct"
   },
   "source": [
    "### Дубликаты\n",
    "Посчитайте явные дубликаты в таблице одной командой:"
   ]
  },
  {
   "cell_type": "code",
   "execution_count": 75,
   "metadata": {
    "id": "36eES_S0_Zct"
   },
   "outputs": [
    {
     "data": {
      "text/plain": [
       "3826"
      ]
     },
     "metadata": {},
     "output_type": "display_data"
    }
   ],
   "source": [
    "# подсчёт явных дубликатов\n",
    "display(df.duplicated().sum())"
   ]
  },
  {
   "cell_type": "markdown",
   "metadata": {
    "id": "Ot25h6XR_Zct"
   },
   "source": [
    "Вызовите специальный метод `pandas`, чтобы удалить явные дубликаты:"
   ]
  },
  {
   "cell_type": "code",
   "execution_count": 76,
   "metadata": {
    "id": "exFHq6tt_Zct"
   },
   "outputs": [],
   "source": [
    "# удаление явных дубликатов (с удалением старых индексов и формированием новых)\n",
    "df = df.drop_duplicates().reset_index(drop=True)"
   ]
  },
  {
   "cell_type": "markdown",
   "metadata": {
    "id": "Im2YwBEG_Zct"
   },
   "source": [
    "Ещё раз посчитайте явные дубликаты в таблице — убедитесь, что полностью от них избавились:"
   ]
  },
  {
   "cell_type": "code",
   "execution_count": 77,
   "metadata": {
    "id": "-8PuNWQ0_Zct"
   },
   "outputs": [
    {
     "data": {
      "text/plain": [
       "0"
      ]
     },
     "metadata": {},
     "output_type": "display_data"
    }
   ],
   "source": [
    "# проверка на отсутствие дубликатов\n",
    "display(df.duplicated().sum())"
   ]
  },
  {
   "cell_type": "markdown",
   "metadata": {
    "id": "QlFBsxAr_Zct"
   },
   "source": [
    "Теперь избавьтесь от неявных дубликатов в колонке `genre`. Например, название одного и того же жанра может быть записано немного по-разному. Такие ошибки тоже повлияют на результат исследования."
   ]
  },
  {
   "cell_type": "markdown",
   "metadata": {
    "id": "eSjWwsOh_Zct"
   },
   "source": [
    "Выведите на экран список уникальных названий жанров, отсортированный в алфавитном порядке. Для этого:\n",
    "* извлеките нужный столбец датафрейма, \n",
    "* примените к нему метод сортировки,\n",
    "* для отсортированного столбца вызовите метод, который вернёт уникальные значения из столбца."
   ]
  },
  {
   "cell_type": "code",
   "execution_count": 103,
   "metadata": {
    "id": "JIUcqzZN_Zct"
   },
   "outputs": [
    {
     "data": {
      "text/plain": [
       "['acid',\n",
       " 'acoustic',\n",
       " 'action',\n",
       " 'adult',\n",
       " 'africa',\n",
       " 'afrikaans',\n",
       " 'alternative',\n",
       " 'alternativepunk',\n",
       " 'ambient',\n",
       " 'americana',\n",
       " 'animated',\n",
       " 'anime',\n",
       " 'arabesk',\n",
       " 'arabic',\n",
       " 'arena',\n",
       " 'argentinetango',\n",
       " 'art',\n",
       " 'audiobook',\n",
       " 'author',\n",
       " 'avantgarde',\n",
       " 'axé',\n",
       " 'baile',\n",
       " 'balkan',\n",
       " 'beats',\n",
       " 'bigroom',\n",
       " 'black',\n",
       " 'bluegrass',\n",
       " 'blues',\n",
       " 'bollywood',\n",
       " 'bossa',\n",
       " 'brazilian',\n",
       " 'breakbeat',\n",
       " 'breaks',\n",
       " 'broadway',\n",
       " 'cantautori',\n",
       " 'cantopop',\n",
       " 'canzone',\n",
       " 'caribbean',\n",
       " 'caucasian',\n",
       " 'celtic',\n",
       " 'chamber',\n",
       " 'chanson',\n",
       " 'children',\n",
       " 'chill',\n",
       " 'chinese',\n",
       " 'choral',\n",
       " 'christian',\n",
       " 'christmas',\n",
       " 'classical',\n",
       " 'classicmetal',\n",
       " 'club',\n",
       " 'colombian',\n",
       " 'comedy',\n",
       " 'conjazz',\n",
       " 'contemporary',\n",
       " 'country',\n",
       " 'cuban',\n",
       " 'dance',\n",
       " 'dancehall',\n",
       " 'dancepop',\n",
       " 'dark',\n",
       " 'death',\n",
       " 'deep',\n",
       " 'deutschrock',\n",
       " 'deutschspr',\n",
       " 'dirty',\n",
       " 'disco',\n",
       " 'dnb',\n",
       " 'documentary',\n",
       " 'downbeat',\n",
       " 'downtempo',\n",
       " 'drum',\n",
       " 'dub',\n",
       " 'dubstep',\n",
       " 'eastern',\n",
       " 'easy',\n",
       " 'electronic',\n",
       " 'electropop',\n",
       " 'emo',\n",
       " 'entehno',\n",
       " 'epicmetal',\n",
       " 'estrada',\n",
       " 'ethnic',\n",
       " 'eurofolk',\n",
       " 'european',\n",
       " 'experimental',\n",
       " 'extrememetal',\n",
       " 'fado',\n",
       " 'fairytail',\n",
       " 'film',\n",
       " 'fitness',\n",
       " 'flamenco',\n",
       " 'folk',\n",
       " 'folklore',\n",
       " 'folkmetal',\n",
       " 'folkrock',\n",
       " 'folktronica',\n",
       " 'forró',\n",
       " 'frankreich',\n",
       " 'französisch',\n",
       " 'french',\n",
       " 'funk',\n",
       " 'future',\n",
       " 'gangsta',\n",
       " 'garage',\n",
       " 'german',\n",
       " 'ghazal',\n",
       " 'gitarre',\n",
       " 'glitch',\n",
       " 'gospel',\n",
       " 'gothic',\n",
       " 'grime',\n",
       " 'grunge',\n",
       " 'gypsy',\n",
       " 'handsup',\n",
       " \"hard'n'heavy\",\n",
       " 'hardcore',\n",
       " 'hardstyle',\n",
       " 'hardtechno',\n",
       " 'hip-hop',\n",
       " 'historisch',\n",
       " 'holiday',\n",
       " 'horror',\n",
       " 'house',\n",
       " 'hymn',\n",
       " 'idm',\n",
       " 'independent',\n",
       " 'indian',\n",
       " 'indie',\n",
       " 'indipop',\n",
       " 'industrial',\n",
       " 'inspirational',\n",
       " 'instrumental',\n",
       " 'international',\n",
       " 'irish',\n",
       " 'jam',\n",
       " 'japanese',\n",
       " 'jazz',\n",
       " 'jewish',\n",
       " 'jpop',\n",
       " 'jungle',\n",
       " 'k-pop',\n",
       " 'karadeniz',\n",
       " 'karaoke',\n",
       " 'kayokyoku',\n",
       " 'korean',\n",
       " 'laiko',\n",
       " 'latin',\n",
       " 'latino',\n",
       " 'leftfield',\n",
       " 'local',\n",
       " 'lounge',\n",
       " 'loungeelectronic',\n",
       " 'lovers',\n",
       " 'malaysian',\n",
       " 'mandopop',\n",
       " 'marschmusik',\n",
       " 'meditative',\n",
       " 'mediterranean',\n",
       " 'melodic',\n",
       " 'metal',\n",
       " 'metalcore',\n",
       " 'mexican',\n",
       " 'middle',\n",
       " 'minimal',\n",
       " 'miscellaneous',\n",
       " 'modern',\n",
       " 'mood',\n",
       " 'mpb',\n",
       " 'muslim',\n",
       " 'native',\n",
       " 'neoklassik',\n",
       " 'neue',\n",
       " 'new',\n",
       " 'newage',\n",
       " 'newwave',\n",
       " 'nu',\n",
       " 'nujazz',\n",
       " 'numetal',\n",
       " 'oceania',\n",
       " 'old',\n",
       " 'opera',\n",
       " 'orchestral',\n",
       " 'other',\n",
       " 'piano',\n",
       " 'podcasts',\n",
       " 'pop',\n",
       " 'popdance',\n",
       " 'popelectronic',\n",
       " 'popeurodance',\n",
       " 'poprussian',\n",
       " 'post',\n",
       " 'posthardcore',\n",
       " 'postrock',\n",
       " 'power',\n",
       " 'progmetal',\n",
       " 'progressive',\n",
       " 'psychedelic',\n",
       " 'punjabi',\n",
       " 'punk',\n",
       " 'quebecois',\n",
       " 'ragga',\n",
       " 'ram',\n",
       " 'rancheras',\n",
       " 'rap',\n",
       " 'rave',\n",
       " 'reggae',\n",
       " 'reggaeton',\n",
       " 'regional',\n",
       " 'relax',\n",
       " 'religious',\n",
       " 'retro',\n",
       " 'rhythm',\n",
       " 'rnb',\n",
       " 'rnr',\n",
       " 'rock',\n",
       " 'rockabilly',\n",
       " 'rockalternative',\n",
       " 'rockindie',\n",
       " 'rockother',\n",
       " 'romance',\n",
       " 'roots',\n",
       " 'ruspop',\n",
       " 'rusrap',\n",
       " 'rusrock',\n",
       " 'russian',\n",
       " 'salsa',\n",
       " 'samba',\n",
       " 'scenic',\n",
       " 'schlager',\n",
       " 'self',\n",
       " 'sertanejo',\n",
       " 'shanson',\n",
       " 'shoegazing',\n",
       " 'showtunes',\n",
       " 'singer',\n",
       " 'ska',\n",
       " 'skarock',\n",
       " 'slow',\n",
       " 'smooth',\n",
       " 'soft',\n",
       " 'soul',\n",
       " 'soulful',\n",
       " 'sound',\n",
       " 'soundtrack',\n",
       " 'southern',\n",
       " 'specialty',\n",
       " 'speech',\n",
       " 'spiritual',\n",
       " 'sport',\n",
       " 'stonerrock',\n",
       " 'surf',\n",
       " 'swing',\n",
       " 'synthpop',\n",
       " 'synthrock',\n",
       " 'sängerportrait',\n",
       " 'tango',\n",
       " 'tanzorchester',\n",
       " 'taraftar',\n",
       " 'tatar',\n",
       " 'tech',\n",
       " 'techno',\n",
       " 'teen',\n",
       " 'thrash',\n",
       " 'top',\n",
       " 'traditional',\n",
       " 'tradjazz',\n",
       " 'trance',\n",
       " 'tribal',\n",
       " 'trip',\n",
       " 'triphop',\n",
       " 'tropical',\n",
       " 'türk',\n",
       " 'türkçe',\n",
       " 'ukrrock',\n",
       " 'unknown',\n",
       " 'urban',\n",
       " 'uzbek',\n",
       " 'variété',\n",
       " 'vi',\n",
       " 'videogame',\n",
       " 'vocal',\n",
       " 'western',\n",
       " 'world',\n",
       " 'worldbeat',\n",
       " 'ïîï',\n",
       " 'электроника']"
      ]
     },
     "execution_count": 103,
     "metadata": {},
     "output_type": "execute_result"
    }
   ],
   "source": [
    "# Просмотр уникальных названий жанров\n",
    "sorted(df['genre'].unique())"
   ]
  },
  {
   "cell_type": "markdown",
   "metadata": {
    "id": "qej-Qmuo_Zct"
   },
   "source": [
    "Просмотрите список и найдите неявные дубликаты названия `hiphop`. Это могут быть названия с ошибками или альтернативные названия того же жанра.\n",
    "\n",
    "Вы увидите следующие неявные дубликаты:\n",
    "* *hip*,\n",
    "* *hop*,\n",
    "* *hip-hop*.\n",
    "\n",
    "Чтобы очистить от них таблицу, напишите функцию `replace_wrong_genres()` с двумя параметрами: \n",
    "* `wrong_genres` — список дубликатов,\n",
    "* `correct_genre` — строка с правильным значением.\n",
    "\n",
    "Функция должна исправить колонку `genre` в таблице `df`: заменить каждое значение из списка `wrong_genres` на значение из `correct_genre`."
   ]
  },
  {
   "cell_type": "code",
   "execution_count": 79,
   "metadata": {
    "id": "ErNDkmns_Zct"
   },
   "outputs": [],
   "source": [
    "# Функция для замены неявных дубликатов\n",
    "def replace_wrong_genres(wrong_genres, correct_genre):\n",
    "    for wrong_genre in wrong_genres:\n",
    "        df['genre'] = df['genre'].replace(wrong_genre, correct_genre)"
   ]
  },
  {
   "cell_type": "markdown",
   "metadata": {
    "id": "aDoBJxbA_Zct"
   },
   "source": [
    "Вызовите `replace_wrong_genres()` и передайте ей такие аргументы, чтобы она устранила неявные дубликаты: вместо `hip`, `hop` и `hip-hop` в таблице должно быть значение `hiphop`:"
   ]
  },
  {
   "cell_type": "code",
   "execution_count": 80,
   "metadata": {
    "id": "YN5i2hpmSo09"
   },
   "outputs": [],
   "source": [
    "# Устранение неявных дубликатов\n",
    "replace_wrong_genres(['hip', 'hiphop', 'hop'], 'hip-hop')"
   ]
  },
  {
   "cell_type": "markdown",
   "metadata": {
    "id": "zQKF16_RG15m"
   },
   "source": [
    "Проверьте, что заменили неправильные названия:\n",
    "\n",
    "*   hip\n",
    "*   hop\n",
    "*   hip-hop\n",
    "\n",
    "Выведите отсортированный список уникальных значений столбца `genre`:"
   ]
  },
  {
   "cell_type": "code",
   "execution_count": 81,
   "metadata": {
    "id": "wvixALnFG15m"
   },
   "outputs": [
    {
     "data": {
      "text/plain": [
       "array(['acid', 'acoustic', 'action', 'adult', 'africa', 'afrikaans',\n",
       "       'alternative', 'alternativepunk', 'ambient', 'americana',\n",
       "       'animated', 'anime', 'arabesk', 'arabic', 'arena',\n",
       "       'argentinetango', 'art', 'audiobook', 'author', 'avantgarde',\n",
       "       'axé', 'baile', 'balkan', 'beats', 'bigroom', 'black', 'bluegrass',\n",
       "       'blues', 'bollywood', 'bossa', 'brazilian', 'breakbeat', 'breaks',\n",
       "       'broadway', 'cantautori', 'cantopop', 'canzone', 'caribbean',\n",
       "       'caucasian', 'celtic', 'chamber', 'chanson', 'children', 'chill',\n",
       "       'chinese', 'choral', 'christian', 'christmas', 'classical',\n",
       "       'classicmetal', 'club', 'colombian', 'comedy', 'conjazz',\n",
       "       'contemporary', 'country', 'cuban', 'dance', 'dancehall',\n",
       "       'dancepop', 'dark', 'death', 'deep', 'deutschrock', 'deutschspr',\n",
       "       'dirty', 'disco', 'dnb', 'documentary', 'downbeat', 'downtempo',\n",
       "       'drum', 'dub', 'dubstep', 'eastern', 'easy', 'electronic',\n",
       "       'electropop', 'emo', 'entehno', 'epicmetal', 'estrada', 'ethnic',\n",
       "       'eurofolk', 'european', 'experimental', 'extrememetal', 'fado',\n",
       "       'fairytail', 'film', 'fitness', 'flamenco', 'folk', 'folklore',\n",
       "       'folkmetal', 'folkrock', 'folktronica', 'forró', 'frankreich',\n",
       "       'französisch', 'french', 'funk', 'future', 'gangsta', 'garage',\n",
       "       'german', 'ghazal', 'gitarre', 'glitch', 'gospel', 'gothic',\n",
       "       'grime', 'grunge', 'gypsy', 'handsup', \"hard'n'heavy\", 'hardcore',\n",
       "       'hardstyle', 'hardtechno', 'hip-hop', 'historisch', 'holiday',\n",
       "       'horror', 'house', 'hymn', 'idm', 'independent', 'indian', 'indie',\n",
       "       'indipop', 'industrial', 'inspirational', 'instrumental',\n",
       "       'international', 'irish', 'jam', 'japanese', 'jazz', 'jewish',\n",
       "       'jpop', 'jungle', 'k-pop', 'karadeniz', 'karaoke', 'kayokyoku',\n",
       "       'korean', 'laiko', 'latin', 'latino', 'leftfield', 'local',\n",
       "       'lounge', 'loungeelectronic', 'lovers', 'malaysian', 'mandopop',\n",
       "       'marschmusik', 'meditative', 'mediterranean', 'melodic', 'metal',\n",
       "       'metalcore', 'mexican', 'middle', 'minimal', 'miscellaneous',\n",
       "       'modern', 'mood', 'mpb', 'muslim', 'native', 'neoklassik', 'neue',\n",
       "       'new', 'newage', 'newwave', 'nu', 'nujazz', 'numetal', 'oceania',\n",
       "       'old', 'opera', 'orchestral', 'other', 'piano', 'podcasts', 'pop',\n",
       "       'popdance', 'popelectronic', 'popeurodance', 'poprussian', 'post',\n",
       "       'posthardcore', 'postrock', 'power', 'progmetal', 'progressive',\n",
       "       'psychedelic', 'punjabi', 'punk', 'quebecois', 'ragga', 'ram',\n",
       "       'rancheras', 'rap', 'rave', 'reggae', 'reggaeton', 'regional',\n",
       "       'relax', 'religious', 'retro', 'rhythm', 'rnb', 'rnr', 'rock',\n",
       "       'rockabilly', 'rockalternative', 'rockindie', 'rockother',\n",
       "       'romance', 'roots', 'ruspop', 'rusrap', 'rusrock', 'russian',\n",
       "       'salsa', 'samba', 'scenic', 'schlager', 'self', 'sertanejo',\n",
       "       'shanson', 'shoegazing', 'showtunes', 'singer', 'ska', 'skarock',\n",
       "       'slow', 'smooth', 'soft', 'soul', 'soulful', 'sound', 'soundtrack',\n",
       "       'southern', 'specialty', 'speech', 'spiritual', 'sport',\n",
       "       'stonerrock', 'surf', 'swing', 'synthpop', 'synthrock',\n",
       "       'sängerportrait', 'tango', 'tanzorchester', 'taraftar', 'tatar',\n",
       "       'tech', 'techno', 'teen', 'thrash', 'top', 'traditional',\n",
       "       'tradjazz', 'trance', 'tribal', 'trip', 'triphop', 'tropical',\n",
       "       'türk', 'türkçe', 'ukrrock', 'unknown', 'urban', 'uzbek',\n",
       "       'variété', 'vi', 'videogame', 'vocal', 'western', 'world',\n",
       "       'worldbeat', 'ïîï', 'электроника'], dtype=object)"
      ]
     },
     "metadata": {},
     "output_type": "display_data"
    }
   ],
   "source": [
    "# Проверка на неявные дубликаты\n",
    "display(df['genre'].sort_values().unique())"
   ]
  },
  {
   "cell_type": "markdown",
   "metadata": {
    "id": "jz6a9-7HQUDd"
   },
   "source": [
    "**Выводы**\n",
    "\n",
    "Предобработка обнаружила три проблемы в данных:\n",
    "\n",
    "- нарушения в стиле заголовков,\n",
    "- пропущенные значения,\n",
    "- дубликаты — явные и неявные.\n",
    "\n",
    "Вы исправили заголовки, чтобы упростить работу с таблицей. Без дубликатов исследование станет более точным.\n",
    "\n",
    "Пропущенные значения вы заменили на `'unknown'`. Ещё предстоит увидеть, не повредят ли исследованию пропуски в колонке `genre`.\n",
    "\n",
    "Теперь можно перейти к проверке гипотез. "
   ]
  },
  {
   "cell_type": "markdown",
   "metadata": {
    "id": "WttZHXH0SqKk"
   },
   "source": [
    "## Проверка гипотез"
   ]
  },
  {
   "cell_type": "markdown",
   "metadata": {
    "id": "Im936VVi_Zcu"
   },
   "source": [
    "### Сравнение поведения пользователей двух столиц"
   ]
  },
  {
   "cell_type": "markdown",
   "metadata": {
    "id": "nwt_MuaL_Zcu"
   },
   "source": [
    "Первая гипотеза утверждает, что пользователи по-разному слушают музыку в Москве и Санкт-Петербурге. Проверьте это предположение по данным о трёх днях недели — понедельнике, среде и пятнице. Для этого:\n",
    "\n",
    "* Разделите пользователей Москвы и Санкт-Петербурга\n",
    "* Сравните, сколько треков послушала каждая группа пользователей в понедельник, среду и пятницу.\n"
   ]
  },
  {
   "cell_type": "markdown",
   "metadata": {
    "id": "8Dw_YMmT_Zcu"
   },
   "source": [
    "Для тренировки сначала выполните каждый из расчётов по отдельности. \n",
    "\n",
    "Оцените активность пользователей в каждом городе. Сгруппируйте данные по городу и посчитайте прослушивания в каждой группе.\n",
    "\n"
   ]
  },
  {
   "cell_type": "code",
   "execution_count": 82,
   "metadata": {
    "id": "0_Qs96oh_Zcu"
   },
   "outputs": [
    {
     "data": {
      "text/plain": [
       "city\n",
       "Moscow              42741\n",
       "Saint-Petersburg    18512\n",
       "Name: user_id, dtype: int64"
      ]
     },
     "metadata": {},
     "output_type": "display_data"
    }
   ],
   "source": [
    "# Подсчёт прослушиваний в каждом городе\n",
    "display(df.groupby('city')['user_id'].count())"
   ]
  },
  {
   "cell_type": "markdown",
   "metadata": {
    "id": "dzli3w8o_Zcu"
   },
   "source": [
    "В Москве прослушиваний больше, чем в Петербурге. Из этого не следует, что московские пользователи чаще слушают музыку. Просто самих пользователей в Москве больше.\n",
    "\n",
    "Теперь сгруппируйте данные по дню недели и подсчитайте прослушивания в понедельник, среду и пятницу. Учтите, что в данных есть информация о прослушиваниях только за эти дни.\n"
   ]
  },
  {
   "cell_type": "code",
   "execution_count": 106,
   "metadata": {
    "id": "uZMKjiJz_Zcu"
   },
   "outputs": [
    {
     "data": {
      "text/plain": [
       "day\n",
       "Friday       21840\n",
       "Monday       21354\n",
       "Wednesday    18059\n",
       "Name: user_id, dtype: int64"
      ]
     },
     "execution_count": 106,
     "metadata": {},
     "output_type": "execute_result"
    }
   ],
   "source": [
    "# Подсчёт прослушиваний в каждый из трёх дней\n",
    "df.groupby('day')['user_id'].count()"
   ]
  },
  {
   "cell_type": "code",
   "execution_count": 84,
   "metadata": {},
   "outputs": [
    {
     "data": {
      "text/html": [
       "<div>\n",
       "<style scoped>\n",
       "    .dataframe tbody tr th:only-of-type {\n",
       "        vertical-align: middle;\n",
       "    }\n",
       "\n",
       "    .dataframe tbody tr th {\n",
       "        vertical-align: top;\n",
       "    }\n",
       "\n",
       "    .dataframe thead th {\n",
       "        text-align: right;\n",
       "    }\n",
       "</style>\n",
       "<table border=\"1\" class=\"dataframe\">\n",
       "  <thead>\n",
       "    <tr style=\"text-align: right;\">\n",
       "      <th></th>\n",
       "      <th>user_id</th>\n",
       "    </tr>\n",
       "    <tr>\n",
       "      <th>day</th>\n",
       "      <th></th>\n",
       "    </tr>\n",
       "  </thead>\n",
       "  <tbody>\n",
       "    <tr>\n",
       "      <th>Friday</th>\n",
       "      <td>21840</td>\n",
       "    </tr>\n",
       "    <tr>\n",
       "      <th>Monday</th>\n",
       "      <td>21354</td>\n",
       "    </tr>\n",
       "    <tr>\n",
       "      <th>Wednesday</th>\n",
       "      <td>18059</td>\n",
       "    </tr>\n",
       "  </tbody>\n",
       "</table>\n",
       "</div>"
      ],
      "text/plain": [
       "           user_id\n",
       "day               \n",
       "Friday       21840\n",
       "Monday       21354\n",
       "Wednesday    18059"
      ]
     },
     "execution_count": 84,
     "metadata": {},
     "output_type": "execute_result"
    }
   ],
   "source": [
    "# КОД РЕВЬЮЕРА\n",
    "\n",
    "df.groupby('day')[['user_id']].count()"
   ]
  },
  {
   "cell_type": "markdown",
   "metadata": {
    "id": "cC2tNrlL_Zcu"
   },
   "source": [
    "В среднем пользователи из двух городов менее активны по средам. Но картина может измениться, если рассмотреть каждый город в отдельности."
   ]
  },
  {
   "cell_type": "markdown",
   "metadata": {
    "id": "POzs8bGa_Zcu"
   },
   "source": [
    "Вы видели, как работает группировка по городу и по дням недели. Теперь напишите функцию, которая объединит два эти расчёта.\n",
    "\n",
    "Создайте функцию `number_tracks()`, которая посчитает прослушивания для заданного дня и города. Ей понадобятся два параметра:\n",
    "* день недели,\n",
    "* название города.\n",
    "\n",
    "В функции сохраните в переменную строки исходной таблицы, у которых значение:\n",
    "  * в колонке `day` равно параметру `day`,\n",
    "  * в колонке `city` равно параметру `city`.\n",
    "\n",
    "Для этого примените последовательную фильтрацию с логической индексацией.\n",
    "\n",
    "Затем посчитайте значения в столбце `user_id` получившейся таблицы. Результат сохраните в новую переменную. Верните эту переменную из функции."
   ]
  },
  {
   "cell_type": "code",
   "execution_count": 85,
   "metadata": {
    "id": "Nz3GdQB1_Zcu"
   },
   "outputs": [],
   "source": [
    "# <создание функции number_tracks()>\n",
    "# Объявляется функция с двумя параметрами: day, city.\n",
    "def number_tracks(day, city):\n",
    "    track_list = df[df['day'] == day]\n",
    "    track_list = track_list[track_list['city'] == city]\n",
    "    track_list_count = track_list['user_id'].count()\n",
    "    return track_list_count\n",
    "# В переменной track_list сохраняются те строки таблицы df, для которых \n",
    "# значение в столбце 'day' равно параметру day и одновременно значение\n",
    "# в столбце 'city' равно параметру city (используйте последовательную фильтрацию\n",
    "# с помощью логической индексации).\n",
    "# В переменной track_list_count сохраняется число значений столбца 'user_id',\n",
    "# рассчитанное методом count() для таблицы track_list.\n",
    "# Функция возвращает число - значение track_list_count.\n",
    "\n",
    "# Функция для подсчёта прослушиваний для конкретного города и дня.\n",
    "# С помощью последовательной фильтрации с логической индексацией она \n",
    "# сначала получит из исходной таблицы строки с нужным днём,\n",
    "# затем из результата отфильтрует строки с нужным городом,\n",
    "# методом count() посчитает количество значений в колонке user_id. \n",
    "# Это количество функция вернёт в качестве результата"
   ]
  },
  {
   "cell_type": "markdown",
   "metadata": {
    "id": "ytf7xFrFJQ2r"
   },
   "source": [
    "Вызовите `number_tracks()` шесть раз, меняя значение параметров — так, чтобы получить данные для каждого города в каждый из трёх дней."
   ]
  },
  {
   "cell_type": "code",
   "execution_count": 86,
   "metadata": {
    "id": "rJcRATNQ_Zcu"
   },
   "outputs": [
    {
     "data": {
      "text/plain": [
       "15740"
      ]
     },
     "metadata": {},
     "output_type": "display_data"
    }
   ],
   "source": [
    "# количество прослушиваний в Москве по понедельникам\n",
    "mon_msk_number = number_tracks('Monday', 'Moscow')\n",
    "display(mon_msk_number)"
   ]
  },
  {
   "cell_type": "code",
   "execution_count": 87,
   "metadata": {
    "id": "hq_ncZ5T_Zcu"
   },
   "outputs": [
    {
     "data": {
      "text/plain": [
       "5614"
      ]
     },
     "metadata": {},
     "output_type": "display_data"
    }
   ],
   "source": [
    "# количество прослушиваний в Санкт-Петербурге по понедельникам\n",
    "mon_spb_number = number_tracks('Monday', 'Saint-Petersburg')\n",
    "display(mon_spb_number)"
   ]
  },
  {
   "cell_type": "code",
   "execution_count": 88,
   "metadata": {
    "id": "_NTy2VPU_Zcu"
   },
   "outputs": [
    {
     "data": {
      "text/plain": [
       "11056"
      ]
     },
     "metadata": {},
     "output_type": "display_data"
    }
   ],
   "source": [
    "# количество прослушиваний в Москве по средам\n",
    "wen_msk_number = number_tracks('Wednesday', 'Moscow')\n",
    "display(wen_msk_number)"
   ]
  },
  {
   "cell_type": "code",
   "execution_count": 89,
   "metadata": {
    "id": "j2y3TAwo_Zcu"
   },
   "outputs": [
    {
     "data": {
      "text/plain": [
       "7003"
      ]
     },
     "metadata": {},
     "output_type": "display_data"
    }
   ],
   "source": [
    "# количество прослушиваний в Санкт-Петербурге по средам\n",
    "wen_spb_number = number_tracks('Wednesday', 'Saint-Petersburg')\n",
    "display(wen_spb_number)"
   ]
  },
  {
   "cell_type": "code",
   "execution_count": 90,
   "metadata": {
    "id": "vYDw5u_K_Zcu"
   },
   "outputs": [
    {
     "data": {
      "text/plain": [
       "15945"
      ]
     },
     "metadata": {},
     "output_type": "display_data"
    }
   ],
   "source": [
    "# количество прослушиваний в Москве по пятницам\n",
    "fri_msk_number = number_tracks('Friday', 'Moscow')\n",
    "display(fri_msk_number)"
   ]
  },
  {
   "cell_type": "code",
   "execution_count": 91,
   "metadata": {
    "id": "8_yzFtW3_Zcu"
   },
   "outputs": [
    {
     "data": {
      "text/plain": [
       "5895"
      ]
     },
     "metadata": {},
     "output_type": "display_data"
    },
    {
     "name": "stdout",
     "output_type": "stream",
     "text": [
      "Итого МСК:  42741\n",
      "Итого СПБ: 18512\n",
      "Итого ПН: 21354\n",
      "Итого СР: 18059\n",
      "Итого ПТ: 21840\n"
     ]
    }
   ],
   "source": [
    "# количество прослушиваний в Санкт-Петербурге по пятницам\n",
    "fri_spb_number = number_tracks('Friday', 'Saint-Petersburg')\n",
    "display(fri_spb_number)\n",
    "#Проверка в двух разрезах\n",
    "print('Итого МСК: ', mon_msk_number + wen_msk_number + fri_msk_number)\n",
    "print('Итого СПБ:', mon_spb_number + wen_spb_number + fri_spb_number)\n",
    "print('Итого ПН:', mon_msk_number + mon_spb_number)\n",
    "print('Итого СР:', wen_msk_number + wen_spb_number)\n",
    "print('Итого ПТ:', fri_msk_number + fri_spb_number)"
   ]
  },
  {
   "cell_type": "markdown",
   "metadata": {
    "id": "7QXffbO-_Zcu"
   },
   "source": [
    "Создайте c помощью конструктора `pd.DataFrame` таблицу, где\n",
    "* названия колонок — `['city', 'monday', 'wednesday', 'friday']`;\n",
    "* данные — результаты, которые вы получили с помощью `number_tracks`."
   ]
  },
  {
   "cell_type": "code",
   "execution_count": 92,
   "metadata": {
    "id": "APAcLpOr_Zcu"
   },
   "outputs": [
    {
     "data": {
      "text/html": [
       "<div>\n",
       "<style scoped>\n",
       "    .dataframe tbody tr th:only-of-type {\n",
       "        vertical-align: middle;\n",
       "    }\n",
       "\n",
       "    .dataframe tbody tr th {\n",
       "        vertical-align: top;\n",
       "    }\n",
       "\n",
       "    .dataframe thead th {\n",
       "        text-align: right;\n",
       "    }\n",
       "</style>\n",
       "<table border=\"1\" class=\"dataframe\">\n",
       "  <thead>\n",
       "    <tr style=\"text-align: right;\">\n",
       "      <th></th>\n",
       "      <th>city</th>\n",
       "      <th>monday</th>\n",
       "      <th>wednesday</th>\n",
       "      <th>friday</th>\n",
       "    </tr>\n",
       "  </thead>\n",
       "  <tbody>\n",
       "    <tr>\n",
       "      <th>0</th>\n",
       "      <td>Москва</td>\n",
       "      <td>15740</td>\n",
       "      <td>11056</td>\n",
       "      <td>15945</td>\n",
       "    </tr>\n",
       "    <tr>\n",
       "      <th>1</th>\n",
       "      <td>Санкт-Петербург</td>\n",
       "      <td>5614</td>\n",
       "      <td>7003</td>\n",
       "      <td>5895</td>\n",
       "    </tr>\n",
       "  </tbody>\n",
       "</table>\n",
       "</div>"
      ],
      "text/plain": [
       "              city  monday  wednesday  friday\n",
       "0           Москва   15740      11056   15945\n",
       "1  Санкт-Петербург    5614       7003    5895"
      ]
     },
     "metadata": {},
     "output_type": "display_data"
    }
   ],
   "source": [
    "# Таблица с результатами\n",
    "columns = ['city', 'monday', 'wednesday', 'friday']\n",
    "data = [['Москва', mon_msk_number, wen_msk_number, fri_msk_number], ['Санкт-Петербург', mon_spb_number, wen_spb_number, fri_spb_number] ]\n",
    "df_city_day = pd.DataFrame(data = data, columns = columns)\n",
    "display(df_city_day)"
   ]
  },
  {
   "cell_type": "markdown",
   "metadata": {
    "id": "-EgPIHYu_Zcu"
   },
   "source": [
    "**Выводы**\n",
    "\n",
    "Данные показывают разницу поведения пользователей:\n",
    "\n",
    "- В Москве пик прослушиваний приходится на понедельник и пятницу, а в среду заметен спад.\n",
    "- В Петербурге, наоборот, больше слушают музыку по средам. Активность в понедельник и пятницу здесь почти в равной мере уступает среде.\n",
    "\n",
    "Значит, данные говорят в пользу первой гипотезы."
   ]
  },
  {
   "cell_type": "markdown",
   "metadata": {
    "id": "atZAxtq4_Zcu"
   },
   "source": [
    "### Музыка в начале и в конце недели"
   ]
  },
  {
   "cell_type": "markdown",
   "metadata": {
    "id": "eXrQqXFH_Zcu"
   },
   "source": [
    "Согласно второй гипотезе, утром в понедельник в Москве преобладают одни жанры, а в Петербурге — другие. Так же и вечером пятницы преобладают разные жанры — в зависимости от города."
   ]
  },
  {
   "cell_type": "markdown",
   "metadata": {
    "id": "S8UcW6Hw_Zcu"
   },
   "source": [
    "Сохраните таблицы с данными в две переменные:\n",
    "* по Москве — в `moscow_general`;\n",
    "* по Санкт-Петербургу — в `spb_general`."
   ]
  },
  {
   "cell_type": "code",
   "execution_count": 93,
   "metadata": {
    "id": "qeaFfM_P_Zcu"
   },
   "outputs": [],
   "source": [
    "# получение таблицы moscow_general из тех строк таблицы df, \n",
    "# для которых значение в столбце 'city' равно 'Moscow'\n",
    "moscow_general = df[df['city'] == 'Moscow']\n"
   ]
  },
  {
   "cell_type": "code",
   "execution_count": 94,
   "metadata": {
    "id": "ORaVRKto_Zcu"
   },
   "outputs": [],
   "source": [
    "# получение таблицы spb_general из тех строк таблицы df,\n",
    "# для которых значение в столбце 'city' равно 'Saint-Petersburg'\n",
    "spb_general = df[df['city'] == 'Saint-Petersburg']\n"
   ]
  },
  {
   "cell_type": "markdown",
   "metadata": {
    "id": "MEJV-CX2_Zcu"
   },
   "source": [
    "Создайте функцию `genre_weekday()` с четырьмя параметрами:\n",
    "* таблица (датафрейм) с данными,\n",
    "* день недели,\n",
    "* начальная временная метка в формате 'hh:mm', \n",
    "* последняя временная метка в формате 'hh:mm'.\n",
    "\n",
    "Функция должна вернуть информацию о топ-10 жанров тех треков, которые прослушивали в указанный день, в промежутке между двумя отметками времени."
   ]
  },
  {
   "cell_type": "code",
   "execution_count": 95,
   "metadata": {
    "id": "laJT9BYl_Zcu"
   },
   "outputs": [],
   "source": [
    "# Объявление функции genre_weekday() с параметрами table, day, time1, time2,\n",
    "def genre_weekday(table, day, time1, time2):\n",
    "    genre_df = table[table['day'] == day]\n",
    "    genre_df = genre_df[genre_df['time'] > time1]\n",
    "    genre_df = genre_df[genre_df['time'] < time2]\n",
    "    genre_df_count = genre_df.groupby('genre')['track'].count()\n",
    "    genre_df_sorted = genre_df_count.sort_values(ascending=False)\n",
    "    return genre_df_sorted.head(10)\n",
    "# которая возвращает информацию о самых популярных жанрах в указанный день в\n",
    "# заданное время:\n",
    "# 1) в переменную genre_df сохраняются те строки переданного датафрейма table, для\n",
    "#    которых одновременно:\n",
    "#    - значение в столбце day равно значению аргумента day\n",
    "#    - значение в столбце time больше значения аргумента time1\n",
    "#    - значение в столбце time меньше значения аргумента time2\n",
    "#    Используйте последовательную фильтрацию с помощью логической индексации.\n",
    "# 2) сгруппировать датафрейм genre_df по столбцу genre, взять один из его\n",
    "#    столбцов и посчитать методом count() количество записей для каждого из\n",
    "#    присутствующих жанров, получившийся Series записать в переменную\n",
    "#    genre_df_count\n",
    "# 3) отсортировать genre_df_count по убыванию встречаемости и сохранить\n",
    "#    в переменную genre_df_sorted\n",
    "# 4) вернуть Series из 10 первых значений genre_df_sorted, это будут топ-10\n",
    "#    популярных жанров (в указанный день, в заданное время)"
   ]
  },
  {
   "cell_type": "markdown",
   "metadata": {
    "id": "la2s2_PF_Zcu"
   },
   "source": [
    "Cравните результаты функции `genre_weekday()` для Москвы и Санкт-Петербурга в понедельник утром (с 7:00 до 11:00) и в пятницу вечером (с 17:00 до 23:00):"
   ]
  },
  {
   "cell_type": "code",
   "execution_count": 96,
   "metadata": {
    "id": "yz7itPUQ_Zcu"
   },
   "outputs": [
    {
     "data": {
      "text/plain": [
       "genre\n",
       "pop            781\n",
       "dance          549\n",
       "electronic     480\n",
       "rock           474\n",
       "hip-hop        286\n",
       "ruspop         186\n",
       "world          181\n",
       "rusrap         175\n",
       "alternative    164\n",
       "unknown        161\n",
       "Name: track, dtype: int64"
      ]
     },
     "execution_count": 96,
     "metadata": {},
     "output_type": "execute_result"
    }
   ],
   "source": [
    "# вызов функции для утра понедельника в Москве (вместо df — таблица moscow_general)\n",
    "# объекты, хранящие время, являются строками и сравниваются как строки\n",
    "# пример вызова: genre_weekday(moscow_general, 'Monday', '07:00', '11:00')\n",
    "genre_weekday(moscow_general, 'Monday', '07:00', '11:00')"
   ]
  },
  {
   "cell_type": "code",
   "execution_count": 97,
   "metadata": {
    "id": "kwUcHPdy_Zcu"
   },
   "outputs": [
    {
     "data": {
      "text/plain": [
       "genre\n",
       "pop            218\n",
       "dance          182\n",
       "rock           162\n",
       "electronic     147\n",
       "hip-hop         80\n",
       "ruspop          64\n",
       "alternative     58\n",
       "rusrap          55\n",
       "jazz            44\n",
       "classical       40\n",
       "Name: track, dtype: int64"
      ]
     },
     "execution_count": 97,
     "metadata": {},
     "output_type": "execute_result"
    }
   ],
   "source": [
    "# вызов функции для утра понедельника в Петербурге (вместо df — таблица spb_general)\n",
    "genre_weekday(spb_general, 'Monday', '07:00', '11:00')"
   ]
  },
  {
   "cell_type": "code",
   "execution_count": 108,
   "metadata": {
    "id": "EzXVRE1o_Zcu"
   },
   "outputs": [
    {
     "data": {
      "text/plain": [
       "genre\n",
       "pop            713\n",
       "rock           517\n",
       "dance          495\n",
       "electronic     482\n",
       "hip-hop        273\n",
       "world          208\n",
       "ruspop         170\n",
       "alternative    163\n",
       "classical      163\n",
       "rusrap         142\n",
       "Name: track, dtype: int64"
      ]
     },
     "execution_count": 108,
     "metadata": {},
     "output_type": "execute_result"
    }
   ],
   "source": [
    "# вызов функции для вечера пятницы в Москве\n",
    "genre_weekday(moscow_general, 'Friday', '17:00', '23:00')"
   ]
  },
  {
   "cell_type": "code",
   "execution_count": 99,
   "metadata": {
    "id": "JZaEKu5v_Zcu"
   },
   "outputs": [
    {
     "data": {
      "text/plain": [
       "genre\n",
       "pop            256\n",
       "electronic     216\n",
       "rock           216\n",
       "dance          210\n",
       "hip-hop         97\n",
       "alternative     63\n",
       "jazz            61\n",
       "classical       60\n",
       "rusrap          59\n",
       "world           54\n",
       "Name: track, dtype: int64"
      ]
     },
     "execution_count": 99,
     "metadata": {},
     "output_type": "execute_result"
    }
   ],
   "source": [
    "# вызов функции для вечера пятницы в Петербурге\n",
    "genre_weekday(spb_general, 'Friday', '17:00', '23:00')"
   ]
  },
  {
   "cell_type": "markdown",
   "metadata": {
    "id": "wrCe4MNX_Zcu"
   },
   "source": [
    "**Выводы**\n",
    "\n",
    "Если сравнить топ-10 жанров в понедельник утром, можно сделать такие выводы:\n",
    "\n",
    "1. В Москве и Петербурге слушают похожую музыку. Единственное отличие — в московский рейтинг вошёл жанр “world”, а в петербургский — джаз и классика.\n",
    "\n",
    "2. В Москве пропущенных значений оказалось так много, что значение `'unknown'` заняло десятое место среди самых популярных жанров. Значит, пропущенные значения занимают существенную долю в данных и угрожают достоверности исследования.\n",
    "\n",
    "Вечер пятницы не меняет эту картину. Некоторые жанры поднимаются немного выше, другие спускаются, но в целом топ-10 остаётся тем же самым.\n",
    "\n",
    "Таким образом, вторая гипотеза подтвердилась лишь частично:\n",
    "* Пользователи слушают похожую музыку в начале недели и в конце.\n",
    "* Разница между Москвой и Петербургом не слишком выражена. В Москве чаще слушают русскую популярную музыку, в Петербурге — джаз.\n",
    "\n",
    "Однако пропуски в данных ставят под сомнение этот результат. В Москве их так много, что рейтинг топ-10 мог бы выглядеть иначе, если бы не утерянные  данные о жанрах."
   ]
  },
  {
   "cell_type": "markdown",
   "metadata": {
    "id": "JolODAqr_Zcu"
   },
   "source": [
    "### Жанровые предпочтения в Москве и Петербурге\n",
    "\n",
    "Гипотеза: Петербург — столица рэпа, музыку этого жанра там слушают чаще, чем в Москве.  А Москва — город контрастов, в котором, тем не менее, преобладает поп-музыка."
   ]
  },
  {
   "cell_type": "markdown",
   "metadata": {
    "id": "DlegSvaT_Zcu"
   },
   "source": [
    "Сгруппируйте таблицу `moscow_general` по жанру и посчитайте прослушивания треков каждого жанра методом `count()`. Затем отсортируйте результат в порядке убывания и сохраните его в таблице `moscow_genres`."
   ]
  },
  {
   "cell_type": "code",
   "execution_count": 100,
   "metadata": {
    "id": "r19lIPke_Zcu"
   },
   "outputs": [],
   "source": [
    "# одной строкой: группировка таблицы moscow_general по столбцу 'genre', \n",
    "moscow_genres = moscow_general.groupby('genre')['track'].count().sort_values(ascending=False)\n",
    "# подсчёт числа значений 'genre' в этой группировке методом count(), \n",
    "# сортировка получившегося Series в порядке убывания и сохранение в moscow_genres"
   ]
  },
  {
   "cell_type": "markdown",
   "metadata": {
    "id": "6kMuomxTiIr8"
   },
   "source": [
    "Выведите на экран первые десять строк `moscow_genres`:"
   ]
  },
  {
   "cell_type": "code",
   "execution_count": 107,
   "metadata": {
    "id": "WhCSooF8_Zcv"
   },
   "outputs": [
    {
     "data": {
      "text/html": [
       "<div>\n",
       "<style scoped>\n",
       "    .dataframe tbody tr th:only-of-type {\n",
       "        vertical-align: middle;\n",
       "    }\n",
       "\n",
       "    .dataframe tbody tr th {\n",
       "        vertical-align: top;\n",
       "    }\n",
       "\n",
       "    .dataframe thead th {\n",
       "        text-align: right;\n",
       "    }\n",
       "</style>\n",
       "<table border=\"1\" class=\"dataframe\">\n",
       "  <thead>\n",
       "    <tr style=\"text-align: right;\">\n",
       "      <th></th>\n",
       "      <th>track</th>\n",
       "    </tr>\n",
       "    <tr>\n",
       "      <th>genre</th>\n",
       "      <th></th>\n",
       "    </tr>\n",
       "  </thead>\n",
       "  <tbody>\n",
       "    <tr>\n",
       "      <th>pop</th>\n",
       "      <td>5892</td>\n",
       "    </tr>\n",
       "    <tr>\n",
       "      <th>dance</th>\n",
       "      <td>4435</td>\n",
       "    </tr>\n",
       "    <tr>\n",
       "      <th>rock</th>\n",
       "      <td>3965</td>\n",
       "    </tr>\n",
       "    <tr>\n",
       "      <th>electronic</th>\n",
       "      <td>3786</td>\n",
       "    </tr>\n",
       "    <tr>\n",
       "      <th>hip-hop</th>\n",
       "      <td>2096</td>\n",
       "    </tr>\n",
       "    <tr>\n",
       "      <th>classical</th>\n",
       "      <td>1616</td>\n",
       "    </tr>\n",
       "    <tr>\n",
       "      <th>world</th>\n",
       "      <td>1432</td>\n",
       "    </tr>\n",
       "    <tr>\n",
       "      <th>alternative</th>\n",
       "      <td>1379</td>\n",
       "    </tr>\n",
       "    <tr>\n",
       "      <th>ruspop</th>\n",
       "      <td>1372</td>\n",
       "    </tr>\n",
       "    <tr>\n",
       "      <th>rusrap</th>\n",
       "      <td>1161</td>\n",
       "    </tr>\n",
       "  </tbody>\n",
       "</table>\n",
       "</div>"
      ],
      "text/plain": [
       "             track\n",
       "genre             \n",
       "pop           5892\n",
       "dance         4435\n",
       "rock          3965\n",
       "electronic    3786\n",
       "hip-hop       2096\n",
       "classical     1616\n",
       "world         1432\n",
       "alternative   1379\n",
       "ruspop        1372\n",
       "rusrap        1161"
      ]
     },
     "execution_count": 107,
     "metadata": {},
     "output_type": "execute_result"
    }
   ],
   "source": [
    "# просмотр первых 10 строк moscow_genres\n",
    "moscow_genres.head(10).to_frame()"
   ]
  },
  {
   "cell_type": "code",
   "execution_count": 79,
   "metadata": {},
   "outputs": [
    {
     "data": {
      "text/html": [
       "<div>\n",
       "<style scoped>\n",
       "    .dataframe tbody tr th:only-of-type {\n",
       "        vertical-align: middle;\n",
       "    }\n",
       "\n",
       "    .dataframe tbody tr th {\n",
       "        vertical-align: top;\n",
       "    }\n",
       "\n",
       "    .dataframe thead th {\n",
       "        text-align: right;\n",
       "    }\n",
       "</style>\n",
       "<table border=\"1\" class=\"dataframe\">\n",
       "  <thead>\n",
       "    <tr style=\"text-align: right;\">\n",
       "      <th></th>\n",
       "      <th>track</th>\n",
       "    </tr>\n",
       "    <tr>\n",
       "      <th>genre</th>\n",
       "      <th></th>\n",
       "    </tr>\n",
       "  </thead>\n",
       "  <tbody>\n",
       "    <tr>\n",
       "      <th>pop</th>\n",
       "      <td>5892</td>\n",
       "    </tr>\n",
       "    <tr>\n",
       "      <th>dance</th>\n",
       "      <td>4435</td>\n",
       "    </tr>\n",
       "    <tr>\n",
       "      <th>rock</th>\n",
       "      <td>3965</td>\n",
       "    </tr>\n",
       "    <tr>\n",
       "      <th>electronic</th>\n",
       "      <td>3786</td>\n",
       "    </tr>\n",
       "    <tr>\n",
       "      <th>hip-hop</th>\n",
       "      <td>2096</td>\n",
       "    </tr>\n",
       "    <tr>\n",
       "      <th>classical</th>\n",
       "      <td>1616</td>\n",
       "    </tr>\n",
       "    <tr>\n",
       "      <th>world</th>\n",
       "      <td>1432</td>\n",
       "    </tr>\n",
       "    <tr>\n",
       "      <th>alternative</th>\n",
       "      <td>1379</td>\n",
       "    </tr>\n",
       "    <tr>\n",
       "      <th>ruspop</th>\n",
       "      <td>1372</td>\n",
       "    </tr>\n",
       "    <tr>\n",
       "      <th>rusrap</th>\n",
       "      <td>1161</td>\n",
       "    </tr>\n",
       "  </tbody>\n",
       "</table>\n",
       "</div>"
      ],
      "text/plain": [
       "             track\n",
       "genre             \n",
       "pop           5892\n",
       "dance         4435\n",
       "rock          3965\n",
       "electronic    3786\n",
       "hip-hop       2096\n",
       "classical     1616\n",
       "world         1432\n",
       "alternative   1379\n",
       "ruspop        1372\n",
       "rusrap        1161"
      ]
     },
     "execution_count": 79,
     "metadata": {},
     "output_type": "execute_result"
    }
   ],
   "source": [
    "# КОД РЕВЬЮЕРА\n",
    "\n",
    "moscow_genres.to_frame().head(10)"
   ]
  },
  {
   "cell_type": "markdown",
   "metadata": {
    "id": "cnPG2vnN_Zcv"
   },
   "source": [
    "Теперь повторите то же и для Петербурга.\n",
    "\n",
    "Сгруппируйте таблицу `spb_general` по жанру. Посчитайте прослушивания треков каждого жанра. Результат отсортируйте в порядке убывания и сохраните в таблице `spb_genres`:\n"
   ]
  },
  {
   "cell_type": "code",
   "execution_count": 75,
   "metadata": {
    "id": "gluLIpE7_Zcv"
   },
   "outputs": [],
   "source": [
    "# одной строкой: группировка таблицы spb_general по столбцу 'genre', \n",
    "# подсчёт числа значений 'genre' в этой группировке методом count(), \n",
    "spb_genres  = spb_general.groupby('genre')['track'].count().sort_values(ascending=False)\n",
    "# сортировка получившегося Series в порядке убывания и сохранение в spb_genres"
   ]
  },
  {
   "cell_type": "markdown",
   "metadata": {
    "id": "5Doha_ODgyQ8"
   },
   "source": [
    "Выведите на экран первые десять строк `spb_genres`:"
   ]
  },
  {
   "cell_type": "code",
   "execution_count": 76,
   "metadata": {
    "id": "uaGJHjVU_Zcv"
   },
   "outputs": [
    {
     "data": {
      "text/plain": [
       "genre\n",
       "pop            2431\n",
       "dance          1932\n",
       "rock           1879\n",
       "electronic     1736\n",
       "hip-hop         960\n",
       "alternative     649\n",
       "classical       646\n",
       "rusrap          564\n",
       "ruspop          538\n",
       "world           515\n",
       "Name: track, dtype: int64"
      ]
     },
     "metadata": {},
     "output_type": "display_data"
    }
   ],
   "source": [
    "# просмотр первых 10 строк spb_genres\n",
    "display(spb_genres.head(10))"
   ]
  },
  {
   "cell_type": "markdown",
   "metadata": {
    "id": "RY51YJYu_Zcv"
   },
   "source": [
    "**Выводы**"
   ]
  },
  {
   "cell_type": "markdown",
   "metadata": {
    "id": "nVhnJEm__Zcv"
   },
   "source": [
    "Гипотеза частично подтвердилась:\n",
    "* Поп-музыка — самый популярный жанр в Москве, как и предполагала гипотеза. Более того, в топ-10 жанров встречается близкий жанр — русская популярная музыка.\n",
    "* Вопреки ожиданиям, рэп одинаково популярен в Москве и Петербурге. \n"
   ]
  },
  {
   "cell_type": "markdown",
   "metadata": {
    "id": "ykKQ0N65_Zcv"
   },
   "source": [
    "## Итоги исследования"
   ]
  },
  {
   "cell_type": "markdown",
   "metadata": {
    "id": "tjUwbHb3_Zcv"
   },
   "source": [
    "Вы проверили три гипотезы и установили:\n",
    "\n",
    "1. День недели по-разному влияет на активность пользователей в Москве и Петербурге. \n",
    "\n",
    "Первая гипотеза полностью подтвердилась.\n",
    "\n",
    "2. Музыкальные предпочтения не сильно меняются в течение недели — будь то Москва или Петербург. Небольшие различия заметны в начале недели, по понедельникам:\n",
    "* в Москве слушают музыку жанра “world”,\n",
    "* в Петербурге — джаз и классику.\n",
    "\n",
    "Таким образом, вторая гипотеза подтвердилась лишь отчасти. Этот результат мог оказаться иным, если бы не пропуски в данных.\n",
    "\n",
    "3. Во вкусах пользователей Москвы и Петербурга больше общего чем различий. Вопреки ожиданиям, предпочтения жанров в Петербурге напоминают московские.\n",
    "\n",
    "Третья гипотеза не подтвердилась. Если различия в предпочтениях и существуют, на основной массе пользователей они незаметны.\n",
    "\n",
    "**На практике исследования содержат проверки статистических гипотез.**\n",
    "Из данных одного сервиса не всегда можно сделать вывод о всех жителях города.\n",
    "Проверки статистических гипотез покажут, насколько они достоверны, исходя из имеющихся данных. \n",
    "С методами проверок гипотез вы ещё познакомитесь в следующих темах."
   ]
  }
 ],
 "metadata": {
  "ExecuteTimeLog": [
   {
    "duration": 427,
    "start_time": "2022-04-11T06:23:06.234Z"
   },
   {
    "duration": 171,
    "start_time": "2022-04-11T06:24:21.342Z"
   },
   {
    "duration": 62,
    "start_time": "2022-04-11T06:24:26.214Z"
   },
   {
    "duration": 18,
    "start_time": "2022-04-11T06:24:56.594Z"
   },
   {
    "duration": 9,
    "start_time": "2022-04-11T06:25:13.904Z"
   },
   {
    "duration": 9,
    "start_time": "2022-04-11T06:25:26.704Z"
   },
   {
    "duration": 71,
    "start_time": "2022-04-11T14:35:43.377Z"
   },
   {
    "duration": 430,
    "start_time": "2022-04-11T14:35:56.236Z"
   },
   {
    "duration": 1348,
    "start_time": "2022-04-11T14:35:58.774Z"
   },
   {
    "duration": 19,
    "start_time": "2022-04-11T15:25:48.563Z"
   },
   {
    "duration": 5,
    "start_time": "2022-04-11T17:14:19.705Z"
   },
   {
    "duration": 407,
    "start_time": "2022-04-11T17:14:32.665Z"
   },
   {
    "duration": 697,
    "start_time": "2022-04-11T17:14:33.074Z"
   },
   {
    "duration": 16,
    "start_time": "2022-04-11T17:14:33.772Z"
   },
   {
    "duration": 89,
    "start_time": "2022-04-11T17:14:33.790Z"
   },
   {
    "duration": 7,
    "start_time": "2022-04-11T17:14:33.881Z"
   },
   {
    "duration": 69,
    "start_time": "2022-04-11T20:50:41.999Z"
   },
   {
    "duration": 466,
    "start_time": "2022-04-11T20:50:55.513Z"
   },
   {
    "duration": 928,
    "start_time": "2022-04-11T20:50:55.982Z"
   },
   {
    "duration": 28,
    "start_time": "2022-04-11T20:50:56.912Z"
   },
   {
    "duration": 63,
    "start_time": "2022-04-11T20:50:56.943Z"
   },
   {
    "duration": 7,
    "start_time": "2022-04-11T20:50:57.010Z"
   },
   {
    "duration": 614,
    "start_time": "2022-04-11T20:50:59.310Z"
   },
   {
    "duration": 20,
    "start_time": "2022-04-11T20:53:16.065Z"
   },
   {
    "duration": 15,
    "start_time": "2022-04-11T20:53:50.572Z"
   },
   {
    "duration": 6,
    "start_time": "2022-04-11T20:54:00.558Z"
   },
   {
    "duration": 377,
    "start_time": "2022-04-12T10:25:03.810Z"
   },
   {
    "duration": 2131,
    "start_time": "2022-04-12T10:25:04.189Z"
   },
   {
    "duration": 18,
    "start_time": "2022-04-12T10:25:06.322Z"
   },
   {
    "duration": 39,
    "start_time": "2022-04-12T10:25:06.342Z"
   },
   {
    "duration": 15,
    "start_time": "2022-04-12T10:25:06.382Z"
   },
   {
    "duration": 20,
    "start_time": "2022-04-12T10:25:06.399Z"
   },
   {
    "duration": 10,
    "start_time": "2022-04-12T10:25:06.421Z"
   },
   {
    "duration": 26,
    "start_time": "2022-04-12T10:25:08.340Z"
   },
   {
    "duration": 25,
    "start_time": "2022-04-12T10:27:21.053Z"
   },
   {
    "duration": 18,
    "start_time": "2022-04-12T10:30:55.723Z"
   },
   {
    "duration": 24,
    "start_time": "2022-04-12T10:30:58.097Z"
   },
   {
    "duration": 64,
    "start_time": "2022-04-12T10:36:46.460Z"
   },
   {
    "duration": 61,
    "start_time": "2022-04-12T10:36:54.892Z"
   },
   {
    "duration": 72,
    "start_time": "2022-04-12T10:56:39.689Z"
   },
   {
    "duration": 67,
    "start_time": "2022-04-12T10:56:41.025Z"
   },
   {
    "duration": 10,
    "start_time": "2022-04-12T11:10:20.472Z"
   },
   {
    "duration": 44,
    "start_time": "2022-04-12T11:23:20.284Z"
   },
   {
    "duration": 635,
    "start_time": "2022-04-12T11:30:01.561Z"
   },
   {
    "duration": 104,
    "start_time": "2022-04-12T11:33:36.622Z"
   },
   {
    "duration": 119,
    "start_time": "2022-04-12T11:34:05.392Z"
   },
   {
    "duration": 7,
    "start_time": "2022-04-12T11:34:54.567Z"
   },
   {
    "duration": 124,
    "start_time": "2022-04-12T11:35:18.441Z"
   },
   {
    "duration": 3,
    "start_time": "2022-04-12T11:35:33.281Z"
   },
   {
    "duration": 11,
    "start_time": "2022-04-12T11:35:35.691Z"
   },
   {
    "duration": 9,
    "start_time": "2022-04-12T11:39:58.519Z"
   },
   {
    "duration": 397,
    "start_time": "2022-04-12T16:22:23.369Z"
   },
   {
    "duration": 704,
    "start_time": "2022-04-12T16:22:23.768Z"
   },
   {
    "duration": 17,
    "start_time": "2022-04-12T16:22:24.474Z"
   },
   {
    "duration": 62,
    "start_time": "2022-04-12T16:22:24.493Z"
   },
   {
    "duration": 13,
    "start_time": "2022-04-12T16:22:24.558Z"
   },
   {
    "duration": 18,
    "start_time": "2022-04-12T16:22:24.573Z"
   },
   {
    "duration": 7,
    "start_time": "2022-04-12T16:22:24.593Z"
   },
   {
    "duration": 30,
    "start_time": "2022-04-12T16:22:24.602Z"
   },
   {
    "duration": 19,
    "start_time": "2022-04-12T16:22:24.634Z"
   },
   {
    "duration": 53,
    "start_time": "2022-04-12T16:22:24.655Z"
   },
   {
    "duration": 69,
    "start_time": "2022-04-12T16:22:24.710Z"
   },
   {
    "duration": 99,
    "start_time": "2022-04-12T16:22:24.781Z"
   },
   {
    "duration": 85,
    "start_time": "2022-04-12T16:22:24.882Z"
   },
   {
    "duration": 50,
    "start_time": "2022-04-12T16:22:24.971Z"
   },
   {
    "duration": 4,
    "start_time": "2022-04-12T16:22:25.023Z"
   },
   {
    "duration": 14,
    "start_time": "2022-04-12T16:22:25.029Z"
   },
   {
    "duration": 8,
    "start_time": "2022-04-12T16:22:28.156Z"
   },
   {
    "duration": 5,
    "start_time": "2022-04-12T16:23:58.749Z"
   },
   {
    "duration": 11,
    "start_time": "2022-04-12T16:24:00.876Z"
   },
   {
    "duration": 11,
    "start_time": "2022-04-12T16:24:03.632Z"
   },
   {
    "duration": 3,
    "start_time": "2022-04-12T16:28:16.069Z"
   },
   {
    "duration": 9,
    "start_time": "2022-04-12T16:28:17.559Z"
   },
   {
    "duration": 41,
    "start_time": "2022-04-12T16:29:08.780Z"
   },
   {
    "duration": 86,
    "start_time": "2022-04-12T16:30:22.169Z"
   },
   {
    "duration": 42,
    "start_time": "2022-04-12T16:30:28.353Z"
   },
   {
    "duration": 42,
    "start_time": "2022-04-12T16:31:15.643Z"
   },
   {
    "duration": 3,
    "start_time": "2022-04-12T16:31:35.815Z"
   },
   {
    "duration": 700,
    "start_time": "2022-04-12T16:31:35.821Z"
   },
   {
    "duration": 13,
    "start_time": "2022-04-12T16:31:36.523Z"
   },
   {
    "duration": 10,
    "start_time": "2022-04-12T16:31:36.902Z"
   },
   {
    "duration": 7,
    "start_time": "2022-04-12T16:31:36.914Z"
   },
   {
    "duration": 12,
    "start_time": "2022-04-12T16:31:37.005Z"
   },
   {
    "duration": 4,
    "start_time": "2022-04-12T16:31:37.021Z"
   },
   {
    "duration": 26,
    "start_time": "2022-04-12T16:31:37.027Z"
   },
   {
    "duration": 30,
    "start_time": "2022-04-12T16:31:37.056Z"
   },
   {
    "duration": 54,
    "start_time": "2022-04-12T16:31:37.088Z"
   },
   {
    "duration": 86,
    "start_time": "2022-04-12T16:31:37.144Z"
   },
   {
    "duration": 67,
    "start_time": "2022-04-12T16:31:37.232Z"
   },
   {
    "duration": 68,
    "start_time": "2022-04-12T16:31:37.301Z"
   },
   {
    "duration": 41,
    "start_time": "2022-04-12T16:31:39.562Z"
   },
   {
    "duration": 4,
    "start_time": "2022-04-12T16:31:54.122Z"
   },
   {
    "duration": 13,
    "start_time": "2022-04-12T16:31:55.515Z"
   },
   {
    "duration": 63,
    "start_time": "2022-04-12T16:31:59.664Z"
   },
   {
    "duration": 67,
    "start_time": "2022-04-12T16:54:14.880Z"
   },
   {
    "duration": 10,
    "start_time": "2022-04-12T16:54:24.708Z"
   },
   {
    "duration": 10,
    "start_time": "2022-04-12T16:54:37.564Z"
   },
   {
    "duration": 31,
    "start_time": "2022-04-12T16:56:11.666Z"
   },
   {
    "duration": 35,
    "start_time": "2022-04-12T16:56:22.887Z"
   },
   {
    "duration": 19,
    "start_time": "2022-04-12T16:57:08.273Z"
   },
   {
    "duration": 36,
    "start_time": "2022-04-12T16:57:24.169Z"
   },
   {
    "duration": 8,
    "start_time": "2022-04-12T16:57:31.679Z"
   },
   {
    "duration": 12,
    "start_time": "2022-04-12T16:57:42.105Z"
   },
   {
    "duration": 3,
    "start_time": "2022-04-12T17:00:02.963Z"
   },
   {
    "duration": 2,
    "start_time": "2022-04-12T17:00:13.181Z"
   },
   {
    "duration": 12,
    "start_time": "2022-04-12T17:00:38.945Z"
   },
   {
    "duration": 75,
    "start_time": "2022-04-12T17:05:31.794Z"
   },
   {
    "duration": 4,
    "start_time": "2022-04-12T17:05:37.958Z"
   },
   {
    "duration": 16,
    "start_time": "2022-04-12T17:11:43.050Z"
   },
   {
    "duration": 4,
    "start_time": "2022-04-12T17:12:36.194Z"
   },
   {
    "duration": 18,
    "start_time": "2022-04-12T17:12:38.725Z"
   },
   {
    "duration": 16,
    "start_time": "2022-04-12T17:12:41.455Z"
   },
   {
    "duration": 15,
    "start_time": "2022-04-12T17:12:43.026Z"
   },
   {
    "duration": 15,
    "start_time": "2022-04-12T17:12:44.197Z"
   },
   {
    "duration": 18,
    "start_time": "2022-04-12T17:12:46.188Z"
   },
   {
    "duration": 15,
    "start_time": "2022-04-12T17:12:47.269Z"
   },
   {
    "duration": 27,
    "start_time": "2022-04-12T17:16:30.437Z"
   },
   {
    "duration": 21,
    "start_time": "2022-04-12T17:16:43.106Z"
   },
   {
    "duration": 20,
    "start_time": "2022-04-12T17:17:14.196Z"
   },
   {
    "duration": 8,
    "start_time": "2022-04-12T17:21:45.204Z"
   },
   {
    "duration": 9,
    "start_time": "2022-04-12T17:22:13.621Z"
   },
   {
    "duration": 368,
    "start_time": "2022-04-14T16:47:58.970Z"
   },
   {
    "duration": 632,
    "start_time": "2022-04-14T16:47:59.340Z"
   },
   {
    "duration": 15,
    "start_time": "2022-04-14T16:47:59.974Z"
   },
   {
    "duration": 80,
    "start_time": "2022-04-14T16:47:59.991Z"
   },
   {
    "duration": 17,
    "start_time": "2022-04-14T16:48:00.073Z"
   },
   {
    "duration": 23,
    "start_time": "2022-04-14T16:48:00.091Z"
   },
   {
    "duration": 13,
    "start_time": "2022-04-14T16:48:00.116Z"
   },
   {
    "duration": 40,
    "start_time": "2022-04-14T16:48:00.131Z"
   },
   {
    "duration": 30,
    "start_time": "2022-04-14T16:48:00.172Z"
   },
   {
    "duration": 24,
    "start_time": "2022-04-14T16:48:00.204Z"
   },
   {
    "duration": 59,
    "start_time": "2022-04-14T16:48:00.229Z"
   },
   {
    "duration": 78,
    "start_time": "2022-04-14T16:48:00.289Z"
   },
   {
    "duration": 62,
    "start_time": "2022-04-14T16:48:00.368Z"
   },
   {
    "duration": 37,
    "start_time": "2022-04-14T16:48:00.432Z"
   },
   {
    "duration": 10,
    "start_time": "2022-04-14T16:48:00.470Z"
   },
   {
    "duration": 15,
    "start_time": "2022-04-14T16:48:00.481Z"
   },
   {
    "duration": 41,
    "start_time": "2022-04-14T16:48:12.530Z"
   },
   {
    "duration": 2,
    "start_time": "2022-04-14T16:52:20.486Z"
   },
   {
    "duration": 613,
    "start_time": "2022-04-14T16:52:20.490Z"
   },
   {
    "duration": 10,
    "start_time": "2022-04-14T16:52:21.105Z"
   },
   {
    "duration": 67,
    "start_time": "2022-04-14T16:52:21.117Z"
   },
   {
    "duration": 5,
    "start_time": "2022-04-14T16:52:21.186Z"
   },
   {
    "duration": 14,
    "start_time": "2022-04-14T16:52:21.193Z"
   },
   {
    "duration": 4,
    "start_time": "2022-04-14T16:52:21.208Z"
   },
   {
    "duration": 30,
    "start_time": "2022-04-14T16:52:21.213Z"
   },
   {
    "duration": 18,
    "start_time": "2022-04-14T16:52:21.245Z"
   },
   {
    "duration": 23,
    "start_time": "2022-04-14T16:52:21.264Z"
   },
   {
    "duration": 74,
    "start_time": "2022-04-14T16:52:21.288Z"
   },
   {
    "duration": 89,
    "start_time": "2022-04-14T16:52:21.363Z"
   },
   {
    "duration": 61,
    "start_time": "2022-04-14T16:52:21.453Z"
   },
   {
    "duration": 39,
    "start_time": "2022-04-14T16:52:21.517Z"
   },
   {
    "duration": 3,
    "start_time": "2022-04-14T16:52:21.557Z"
   },
   {
    "duration": 13,
    "start_time": "2022-04-14T16:52:21.561Z"
   },
   {
    "duration": 60,
    "start_time": "2022-04-14T16:52:21.576Z"
   },
   {
    "duration": 13,
    "start_time": "2022-04-14T16:52:21.637Z"
   },
   {
    "duration": 12,
    "start_time": "2022-04-14T16:52:21.651Z"
   },
   {
    "duration": 4,
    "start_time": "2022-04-14T16:52:21.665Z"
   },
   {
    "duration": 43,
    "start_time": "2022-04-14T16:52:21.671Z"
   },
   {
    "duration": 16,
    "start_time": "2022-04-14T16:52:21.716Z"
   },
   {
    "duration": 16,
    "start_time": "2022-04-14T16:52:21.734Z"
   },
   {
    "duration": 15,
    "start_time": "2022-04-14T16:52:21.752Z"
   },
   {
    "duration": 51,
    "start_time": "2022-04-14T16:52:21.769Z"
   },
   {
    "duration": 16,
    "start_time": "2022-04-14T16:52:21.822Z"
   },
   {
    "duration": 9,
    "start_time": "2022-04-14T16:52:30.204Z"
   },
   {
    "duration": 70,
    "start_time": "2022-04-14T16:55:58.005Z"
   },
   {
    "duration": 4,
    "start_time": "2022-04-14T17:01:18.954Z"
   },
   {
    "duration": 68,
    "start_time": "2022-04-14T17:01:22.635Z"
   },
   {
    "duration": 9,
    "start_time": "2022-04-14T17:01:29.514Z"
   },
   {
    "duration": 11,
    "start_time": "2022-04-14T17:01:36.125Z"
   },
   {
    "duration": 11,
    "start_time": "2022-04-14T17:01:37.453Z"
   },
   {
    "duration": 4,
    "start_time": "2022-04-14T17:01:38.973Z"
   },
   {
    "duration": 19,
    "start_time": "2022-04-14T17:01:42.655Z"
   },
   {
    "duration": 4,
    "start_time": "2022-04-14T17:02:52.452Z"
   },
   {
    "duration": 19,
    "start_time": "2022-04-14T17:02:54.875Z"
   },
   {
    "duration": 4,
    "start_time": "2022-04-14T17:03:19.615Z"
   },
   {
    "duration": 12,
    "start_time": "2022-04-14T17:03:22.244Z"
   },
   {
    "duration": 75,
    "start_time": "2022-04-14T17:03:44.125Z"
   },
   {
    "duration": 7,
    "start_time": "2022-04-14T17:03:47.816Z"
   },
   {
    "duration": 9,
    "start_time": "2022-04-14T17:03:57.854Z"
   },
   {
    "duration": 13,
    "start_time": "2022-04-14T17:04:01.197Z"
   },
   {
    "duration": 13,
    "start_time": "2022-04-14T17:04:03.908Z"
   },
   {
    "duration": 2,
    "start_time": "2022-04-14T17:04:56.444Z"
   },
   {
    "duration": 623,
    "start_time": "2022-04-14T17:04:56.448Z"
   },
   {
    "duration": 11,
    "start_time": "2022-04-14T17:04:57.073Z"
   },
   {
    "duration": 71,
    "start_time": "2022-04-14T17:04:57.085Z"
   },
   {
    "duration": 10,
    "start_time": "2022-04-14T17:04:57.158Z"
   },
   {
    "duration": 12,
    "start_time": "2022-04-14T17:04:57.170Z"
   },
   {
    "duration": 4,
    "start_time": "2022-04-14T17:04:57.184Z"
   },
   {
    "duration": 27,
    "start_time": "2022-04-14T17:04:57.189Z"
   },
   {
    "duration": 17,
    "start_time": "2022-04-14T17:04:57.218Z"
   },
   {
    "duration": 25,
    "start_time": "2022-04-14T17:04:57.237Z"
   },
   {
    "duration": 83,
    "start_time": "2022-04-14T17:04:57.263Z"
   },
   {
    "duration": 76,
    "start_time": "2022-04-14T17:04:57.347Z"
   },
   {
    "duration": 57,
    "start_time": "2022-04-14T17:04:57.425Z"
   },
   {
    "duration": 54,
    "start_time": "2022-04-14T17:04:57.486Z"
   },
   {
    "duration": 3,
    "start_time": "2022-04-14T17:04:57.541Z"
   },
   {
    "duration": 12,
    "start_time": "2022-04-14T17:04:57.546Z"
   },
   {
    "duration": 56,
    "start_time": "2022-04-14T17:04:57.560Z"
   },
   {
    "duration": 13,
    "start_time": "2022-04-14T17:04:57.618Z"
   },
   {
    "duration": 12,
    "start_time": "2022-04-14T17:04:57.632Z"
   },
   {
    "duration": 18,
    "start_time": "2022-04-14T17:04:57.646Z"
   },
   {
    "duration": 26,
    "start_time": "2022-04-14T17:04:57.666Z"
   },
   {
    "duration": 26,
    "start_time": "2022-04-14T17:04:57.694Z"
   },
   {
    "duration": 24,
    "start_time": "2022-04-14T17:04:57.722Z"
   },
   {
    "duration": 14,
    "start_time": "2022-04-14T17:04:57.748Z"
   },
   {
    "duration": 16,
    "start_time": "2022-04-14T17:04:57.763Z"
   },
   {
    "duration": 34,
    "start_time": "2022-04-14T17:04:57.780Z"
   },
   {
    "duration": 9,
    "start_time": "2022-04-14T17:04:57.816Z"
   },
   {
    "duration": 14,
    "start_time": "2022-04-14T17:04:57.827Z"
   },
   {
    "duration": 12,
    "start_time": "2022-04-14T17:04:57.842Z"
   },
   {
    "duration": 4,
    "start_time": "2022-04-14T17:04:57.856Z"
   },
   {
    "duration": 47,
    "start_time": "2022-04-14T17:04:57.861Z"
   },
   {
    "duration": 12,
    "start_time": "2022-04-14T17:04:57.910Z"
   },
   {
    "duration": 16,
    "start_time": "2022-04-14T17:04:57.923Z"
   },
   {
    "duration": 16,
    "start_time": "2022-04-14T17:05:00.555Z"
   },
   {
    "duration": 11,
    "start_time": "2022-04-14T17:05:02.143Z"
   },
   {
    "duration": 4,
    "start_time": "2022-04-14T17:14:04.741Z"
   },
   {
    "duration": 19,
    "start_time": "2022-04-14T17:14:07.205Z"
   },
   {
    "duration": 13,
    "start_time": "2022-04-14T17:14:07.824Z"
   },
   {
    "duration": 15,
    "start_time": "2022-04-14T17:14:10.945Z"
   },
   {
    "duration": 13,
    "start_time": "2022-04-14T17:14:12.874Z"
   },
   {
    "duration": 15,
    "start_time": "2022-04-14T19:52:10.027Z"
   },
   {
    "duration": 11,
    "start_time": "2022-04-14T19:52:21.666Z"
   },
   {
    "duration": 71,
    "start_time": "2022-04-14T19:52:24.066Z"
   },
   {
    "duration": 9,
    "start_time": "2022-04-14T19:52:28.407Z"
   },
   {
    "duration": 8,
    "start_time": "2022-04-14T19:53:21.256Z"
   },
   {
    "duration": 8,
    "start_time": "2022-04-14T19:53:23.157Z"
   },
   {
    "duration": 3,
    "start_time": "2022-04-14T19:55:57.756Z"
   },
   {
    "duration": 722,
    "start_time": "2022-04-14T19:55:57.761Z"
   },
   {
    "duration": 11,
    "start_time": "2022-04-14T19:55:58.485Z"
   },
   {
    "duration": 68,
    "start_time": "2022-04-14T19:55:58.497Z"
   },
   {
    "duration": 5,
    "start_time": "2022-04-14T19:55:58.567Z"
   },
   {
    "duration": 9,
    "start_time": "2022-04-14T19:55:58.574Z"
   },
   {
    "duration": 5,
    "start_time": "2022-04-14T19:55:58.585Z"
   },
   {
    "duration": 37,
    "start_time": "2022-04-14T19:55:58.591Z"
   },
   {
    "duration": 30,
    "start_time": "2022-04-14T19:55:58.631Z"
   },
   {
    "duration": 27,
    "start_time": "2022-04-14T19:55:58.663Z"
   },
   {
    "duration": 108,
    "start_time": "2022-04-14T19:55:58.692Z"
   },
   {
    "duration": 81,
    "start_time": "2022-04-14T19:55:58.801Z"
   },
   {
    "duration": 72,
    "start_time": "2022-04-14T19:55:58.883Z"
   },
   {
    "duration": 58,
    "start_time": "2022-04-14T19:55:58.959Z"
   },
   {
    "duration": 4,
    "start_time": "2022-04-14T19:55:59.023Z"
   },
   {
    "duration": 18,
    "start_time": "2022-04-14T19:55:59.030Z"
   },
   {
    "duration": 87,
    "start_time": "2022-04-14T19:55:59.051Z"
   },
   {
    "duration": 17,
    "start_time": "2022-04-14T19:55:59.140Z"
   },
   {
    "duration": 12,
    "start_time": "2022-04-14T19:55:59.159Z"
   },
   {
    "duration": 3,
    "start_time": "2022-04-14T19:55:59.172Z"
   },
   {
    "duration": 52,
    "start_time": "2022-04-14T19:55:59.177Z"
   },
   {
    "duration": 16,
    "start_time": "2022-04-14T19:55:59.231Z"
   },
   {
    "duration": 16,
    "start_time": "2022-04-14T19:55:59.248Z"
   },
   {
    "duration": 48,
    "start_time": "2022-04-14T19:55:59.266Z"
   },
   {
    "duration": 22,
    "start_time": "2022-04-14T19:55:59.318Z"
   },
   {
    "duration": 29,
    "start_time": "2022-04-14T19:55:59.342Z"
   },
   {
    "duration": 41,
    "start_time": "2022-04-14T19:55:59.373Z"
   },
   {
    "duration": 18,
    "start_time": "2022-04-14T19:55:59.419Z"
   },
   {
    "duration": 13,
    "start_time": "2022-04-14T19:55:59.439Z"
   },
   {
    "duration": 4,
    "start_time": "2022-04-14T19:55:59.454Z"
   },
   {
    "duration": 59,
    "start_time": "2022-04-14T19:55:59.460Z"
   },
   {
    "duration": 17,
    "start_time": "2022-04-14T19:55:59.521Z"
   },
   {
    "duration": 22,
    "start_time": "2022-04-14T19:55:59.540Z"
   },
   {
    "duration": 12,
    "start_time": "2022-04-14T19:55:59.564Z"
   },
   {
    "duration": 49,
    "start_time": "2022-04-14T19:55:59.577Z"
   },
   {
    "duration": 5,
    "start_time": "2022-04-14T19:55:59.628Z"
   },
   {
    "duration": 12,
    "start_time": "2022-04-14T19:55:59.636Z"
   },
   {
    "duration": 424,
    "start_time": "2022-04-24T07:45:56.455Z"
   },
   {
    "duration": 734,
    "start_time": "2022-04-24T07:45:56.881Z"
   },
   {
    "duration": 16,
    "start_time": "2022-04-24T07:45:57.618Z"
   },
   {
    "duration": 61,
    "start_time": "2022-04-24T07:45:57.636Z"
   },
   {
    "duration": 5,
    "start_time": "2022-04-24T07:45:57.699Z"
   },
   {
    "duration": 15,
    "start_time": "2022-04-24T07:45:57.706Z"
   },
   {
    "duration": 6,
    "start_time": "2022-04-24T07:45:57.723Z"
   },
   {
    "duration": 27,
    "start_time": "2022-04-24T07:45:57.731Z"
   },
   {
    "duration": 23,
    "start_time": "2022-04-24T07:45:57.759Z"
   },
   {
    "duration": 25,
    "start_time": "2022-04-24T07:45:57.784Z"
   },
   {
    "duration": 76,
    "start_time": "2022-04-24T07:45:57.810Z"
   },
   {
    "duration": 85,
    "start_time": "2022-04-24T07:45:57.888Z"
   },
   {
    "duration": 63,
    "start_time": "2022-04-24T07:45:57.975Z"
   },
   {
    "duration": 55,
    "start_time": "2022-04-24T07:45:58.043Z"
   },
   {
    "duration": 3,
    "start_time": "2022-04-24T07:45:58.100Z"
   },
   {
    "duration": 15,
    "start_time": "2022-04-24T07:45:58.104Z"
   },
   {
    "duration": 54,
    "start_time": "2022-04-24T07:45:58.120Z"
   },
   {
    "duration": 12,
    "start_time": "2022-04-24T07:45:58.176Z"
   },
   {
    "duration": 12,
    "start_time": "2022-04-24T07:45:58.190Z"
   },
   {
    "duration": 5,
    "start_time": "2022-04-24T07:45:58.204Z"
   },
   {
    "duration": 29,
    "start_time": "2022-04-24T07:45:58.211Z"
   },
   {
    "duration": 37,
    "start_time": "2022-04-24T07:45:58.242Z"
   },
   {
    "duration": 14,
    "start_time": "2022-04-24T07:45:58.281Z"
   },
   {
    "duration": 13,
    "start_time": "2022-04-24T07:45:58.297Z"
   },
   {
    "duration": 17,
    "start_time": "2022-04-24T07:45:58.312Z"
   },
   {
    "duration": 44,
    "start_time": "2022-04-24T07:45:58.331Z"
   },
   {
    "duration": 9,
    "start_time": "2022-04-24T07:45:58.376Z"
   },
   {
    "duration": 12,
    "start_time": "2022-04-24T07:45:58.387Z"
   },
   {
    "duration": 9,
    "start_time": "2022-04-24T07:45:58.401Z"
   },
   {
    "duration": 4,
    "start_time": "2022-04-24T07:45:58.412Z"
   },
   {
    "duration": 22,
    "start_time": "2022-04-24T07:45:58.418Z"
   },
   {
    "duration": 41,
    "start_time": "2022-04-24T07:45:58.442Z"
   },
   {
    "duration": 16,
    "start_time": "2022-04-24T07:45:58.485Z"
   },
   {
    "duration": 11,
    "start_time": "2022-04-24T07:45:58.503Z"
   },
   {
    "duration": 10,
    "start_time": "2022-04-24T07:45:58.516Z"
   },
   {
    "duration": 5,
    "start_time": "2022-04-24T07:45:58.528Z"
   },
   {
    "duration": 39,
    "start_time": "2022-04-24T07:45:58.534Z"
   },
   {
    "duration": 6,
    "start_time": "2022-04-24T07:45:58.575Z"
   },
   {
    "duration": 2,
    "start_time": "2022-04-24T07:46:20.826Z"
   },
   {
    "duration": 929,
    "start_time": "2022-04-24T07:46:20.830Z"
   },
   {
    "duration": 10,
    "start_time": "2022-04-24T07:46:21.761Z"
   },
   {
    "duration": 68,
    "start_time": "2022-04-24T07:46:21.773Z"
   },
   {
    "duration": 5,
    "start_time": "2022-04-24T07:46:21.844Z"
   },
   {
    "duration": 29,
    "start_time": "2022-04-24T07:46:21.851Z"
   },
   {
    "duration": 4,
    "start_time": "2022-04-24T07:46:21.882Z"
   },
   {
    "duration": 30,
    "start_time": "2022-04-24T07:46:21.887Z"
   },
   {
    "duration": 68,
    "start_time": "2022-04-24T07:46:21.918Z"
   },
   {
    "duration": 25,
    "start_time": "2022-04-24T07:46:21.988Z"
   },
   {
    "duration": 167,
    "start_time": "2022-04-24T07:46:22.014Z"
   },
   {
    "duration": 115,
    "start_time": "2022-04-24T07:46:22.183Z"
   },
   {
    "duration": 108,
    "start_time": "2022-04-24T07:46:22.300Z"
   },
   {
    "duration": 86,
    "start_time": "2022-04-24T07:46:22.411Z"
   },
   {
    "duration": 3,
    "start_time": "2022-04-24T07:46:22.498Z"
   },
   {
    "duration": 18,
    "start_time": "2022-04-24T07:46:22.502Z"
   },
   {
    "duration": 86,
    "start_time": "2022-04-24T07:46:22.522Z"
   },
   {
    "duration": 69,
    "start_time": "2022-04-24T07:46:22.610Z"
   },
   {
    "duration": 11,
    "start_time": "2022-04-24T07:46:22.681Z"
   },
   {
    "duration": 4,
    "start_time": "2022-04-24T07:46:22.693Z"
   },
   {
    "duration": 75,
    "start_time": "2022-04-24T07:46:22.698Z"
   },
   {
    "duration": 16,
    "start_time": "2022-04-24T07:46:22.775Z"
   },
   {
    "duration": 16,
    "start_time": "2022-04-24T07:46:22.793Z"
   },
   {
    "duration": 73,
    "start_time": "2022-04-24T07:46:22.811Z"
   },
   {
    "duration": 23,
    "start_time": "2022-04-24T07:46:22.886Z"
   },
   {
    "duration": 72,
    "start_time": "2022-04-24T07:46:22.910Z"
   },
   {
    "duration": 8,
    "start_time": "2022-04-24T07:46:22.984Z"
   },
   {
    "duration": 21,
    "start_time": "2022-04-24T07:46:22.994Z"
   },
   {
    "duration": 64,
    "start_time": "2022-04-24T07:46:23.017Z"
   },
   {
    "duration": 4,
    "start_time": "2022-04-24T07:46:23.083Z"
   },
   {
    "duration": 25,
    "start_time": "2022-04-24T07:46:23.089Z"
   },
   {
    "duration": 68,
    "start_time": "2022-04-24T07:46:23.116Z"
   },
   {
    "duration": 17,
    "start_time": "2022-04-24T07:46:23.185Z"
   },
   {
    "duration": 12,
    "start_time": "2022-04-24T07:46:23.204Z"
   },
   {
    "duration": 56,
    "start_time": "2022-04-24T07:46:23.217Z"
   },
   {
    "duration": 6,
    "start_time": "2022-04-24T07:46:23.275Z"
   },
   {
    "duration": 10,
    "start_time": "2022-04-24T07:46:23.282Z"
   },
   {
    "duration": 5,
    "start_time": "2022-04-24T07:46:23.294Z"
   },
   {
    "duration": 9,
    "start_time": "2022-04-24T07:46:43.815Z"
   },
   {
    "duration": 15,
    "start_time": "2022-04-24T07:49:00.598Z"
   },
   {
    "duration": 7,
    "start_time": "2022-04-24T07:50:26.053Z"
   },
   {
    "duration": 40,
    "start_time": "2022-04-24T12:42:12.944Z"
   },
   {
    "duration": 5,
    "start_time": "2022-04-24T12:42:19.453Z"
   },
   {
    "duration": 343,
    "start_time": "2022-04-24T12:42:34.633Z"
   },
   {
    "duration": 670,
    "start_time": "2022-04-24T12:42:34.978Z"
   },
   {
    "duration": 16,
    "start_time": "2022-04-24T12:42:35.650Z"
   },
   {
    "duration": 66,
    "start_time": "2022-04-24T12:42:35.668Z"
   },
   {
    "duration": 29,
    "start_time": "2022-04-24T12:42:35.736Z"
   },
   {
    "duration": 2,
    "start_time": "2022-04-24T12:43:36.383Z"
   },
   {
    "duration": 714,
    "start_time": "2022-04-24T12:43:36.387Z"
   },
   {
    "duration": 10,
    "start_time": "2022-04-24T12:43:37.103Z"
   },
   {
    "duration": 73,
    "start_time": "2022-04-24T12:43:37.114Z"
   },
   {
    "duration": 29,
    "start_time": "2022-04-24T12:43:37.189Z"
   },
   {
    "duration": 3,
    "start_time": "2022-04-24T12:43:37.220Z"
   },
   {
    "duration": 11,
    "start_time": "2022-04-24T12:43:37.224Z"
   },
   {
    "duration": 6,
    "start_time": "2022-04-24T12:43:37.236Z"
   },
   {
    "duration": 24,
    "start_time": "2022-04-24T12:43:37.244Z"
   },
   {
    "duration": 30,
    "start_time": "2022-04-24T12:43:37.270Z"
   },
   {
    "duration": 21,
    "start_time": "2022-04-24T12:43:37.302Z"
   },
   {
    "duration": 59,
    "start_time": "2022-04-24T12:43:37.324Z"
   },
   {
    "duration": 83,
    "start_time": "2022-04-24T12:43:37.385Z"
   },
   {
    "duration": 65,
    "start_time": "2022-04-24T12:43:37.470Z"
   },
   {
    "duration": 38,
    "start_time": "2022-04-24T12:43:37.537Z"
   },
   {
    "duration": 4,
    "start_time": "2022-04-24T12:43:37.576Z"
   },
   {
    "duration": 23,
    "start_time": "2022-04-24T12:43:37.581Z"
   },
   {
    "duration": 37,
    "start_time": "2022-04-24T12:43:37.605Z"
   },
   {
    "duration": 11,
    "start_time": "2022-04-24T12:43:40.623Z"
   },
   {
    "duration": 2,
    "start_time": "2022-04-24T12:45:31.234Z"
   },
   {
    "duration": 701,
    "start_time": "2022-04-24T12:45:31.238Z"
   },
   {
    "duration": 10,
    "start_time": "2022-04-24T12:45:31.941Z"
   },
   {
    "duration": 78,
    "start_time": "2022-04-24T12:45:31.952Z"
   },
   {
    "duration": 29,
    "start_time": "2022-04-24T12:45:32.032Z"
   },
   {
    "duration": 6,
    "start_time": "2022-04-24T12:45:32.062Z"
   },
   {
    "duration": 11,
    "start_time": "2022-04-24T12:45:32.069Z"
   },
   {
    "duration": 7,
    "start_time": "2022-04-24T12:45:32.081Z"
   },
   {
    "duration": 29,
    "start_time": "2022-04-24T12:45:32.089Z"
   },
   {
    "duration": 33,
    "start_time": "2022-04-24T12:45:32.120Z"
   },
   {
    "duration": 22,
    "start_time": "2022-04-24T12:45:32.156Z"
   },
   {
    "duration": 81,
    "start_time": "2022-04-24T12:45:32.179Z"
   },
   {
    "duration": 59,
    "start_time": "2022-04-24T12:45:32.262Z"
   },
   {
    "duration": 48,
    "start_time": "2022-04-24T12:45:32.322Z"
   },
   {
    "duration": 44,
    "start_time": "2022-04-24T12:45:32.372Z"
   },
   {
    "duration": 3,
    "start_time": "2022-04-24T12:45:32.417Z"
   },
   {
    "duration": 23,
    "start_time": "2022-04-24T12:45:32.421Z"
   },
   {
    "duration": 36,
    "start_time": "2022-04-24T12:45:32.445Z"
   },
   {
    "duration": 23,
    "start_time": "2022-04-24T12:45:32.482Z"
   },
   {
    "duration": 11,
    "start_time": "2022-04-24T12:45:32.507Z"
   },
   {
    "duration": 21,
    "start_time": "2022-04-24T12:45:32.519Z"
   },
   {
    "duration": 3,
    "start_time": "2022-04-24T12:45:32.542Z"
   },
   {
    "duration": 23,
    "start_time": "2022-04-24T12:45:32.546Z"
   },
   {
    "duration": 30,
    "start_time": "2022-04-24T12:45:32.571Z"
   },
   {
    "duration": 14,
    "start_time": "2022-04-24T12:45:32.602Z"
   },
   {
    "duration": 12,
    "start_time": "2022-04-24T12:45:32.617Z"
   },
   {
    "duration": 15,
    "start_time": "2022-04-24T12:45:32.630Z"
   },
   {
    "duration": 15,
    "start_time": "2022-04-24T12:45:32.647Z"
   },
   {
    "duration": 8,
    "start_time": "2022-04-24T12:45:32.699Z"
   },
   {
    "duration": 12,
    "start_time": "2022-04-24T12:45:32.709Z"
   },
   {
    "duration": 7,
    "start_time": "2022-04-24T12:45:32.723Z"
   },
   {
    "duration": 6,
    "start_time": "2022-04-24T12:45:32.732Z"
   },
   {
    "duration": 21,
    "start_time": "2022-04-24T12:45:32.739Z"
   },
   {
    "duration": 10,
    "start_time": "2022-04-24T12:45:32.761Z"
   },
   {
    "duration": 15,
    "start_time": "2022-04-24T12:45:35.283Z"
   },
   {
    "duration": 11,
    "start_time": "2022-04-24T12:45:40.193Z"
   },
   {
    "duration": 25,
    "start_time": "2022-04-24T12:46:26.733Z"
   },
   {
    "duration": 2,
    "start_time": "2022-04-24T12:46:31.784Z"
   },
   {
    "duration": 721,
    "start_time": "2022-04-24T12:46:31.788Z"
   },
   {
    "duration": 11,
    "start_time": "2022-04-24T12:46:32.510Z"
   },
   {
    "duration": 76,
    "start_time": "2022-04-24T12:46:32.522Z"
   },
   {
    "duration": 31,
    "start_time": "2022-04-24T12:46:32.600Z"
   },
   {
    "duration": 4,
    "start_time": "2022-04-24T12:46:32.632Z"
   },
   {
    "duration": 8,
    "start_time": "2022-04-24T12:46:32.637Z"
   },
   {
    "duration": 3,
    "start_time": "2022-04-24T12:46:32.646Z"
   },
   {
    "duration": 23,
    "start_time": "2022-04-24T12:46:32.651Z"
   },
   {
    "duration": 37,
    "start_time": "2022-04-24T12:46:32.676Z"
   },
   {
    "duration": 21,
    "start_time": "2022-04-24T12:46:32.715Z"
   },
   {
    "duration": 67,
    "start_time": "2022-04-24T12:46:32.738Z"
   },
   {
    "duration": 60,
    "start_time": "2022-04-24T12:46:32.806Z"
   },
   {
    "duration": 61,
    "start_time": "2022-04-24T12:46:32.868Z"
   },
   {
    "duration": 36,
    "start_time": "2022-04-24T12:46:32.931Z"
   },
   {
    "duration": 3,
    "start_time": "2022-04-24T12:46:32.969Z"
   },
   {
    "duration": 10,
    "start_time": "2022-04-24T12:46:32.973Z"
   },
   {
    "duration": 49,
    "start_time": "2022-04-24T12:46:32.984Z"
   },
   {
    "duration": 11,
    "start_time": "2022-04-24T12:46:33.035Z"
   },
   {
    "duration": 11,
    "start_time": "2022-04-24T12:46:33.047Z"
   },
   {
    "duration": 12,
    "start_time": "2022-04-24T12:46:33.059Z"
   },
   {
    "duration": 3,
    "start_time": "2022-04-24T12:46:33.100Z"
   },
   {
    "duration": 20,
    "start_time": "2022-04-24T12:46:33.105Z"
   },
   {
    "duration": 13,
    "start_time": "2022-04-24T12:46:33.126Z"
   },
   {
    "duration": 13,
    "start_time": "2022-04-24T12:46:33.140Z"
   },
   {
    "duration": 12,
    "start_time": "2022-04-24T12:46:33.155Z"
   },
   {
    "duration": 42,
    "start_time": "2022-04-24T12:46:33.168Z"
   },
   {
    "duration": 16,
    "start_time": "2022-04-24T12:46:33.211Z"
   },
   {
    "duration": 7,
    "start_time": "2022-04-24T12:46:33.230Z"
   },
   {
    "duration": 16,
    "start_time": "2022-04-24T12:46:33.239Z"
   },
   {
    "duration": 9,
    "start_time": "2022-04-24T12:46:33.256Z"
   },
   {
    "duration": 7,
    "start_time": "2022-04-24T12:46:33.267Z"
   },
   {
    "duration": 40,
    "start_time": "2022-04-24T12:46:33.276Z"
   },
   {
    "duration": 12,
    "start_time": "2022-04-24T12:46:33.317Z"
   },
   {
    "duration": 15,
    "start_time": "2022-04-24T12:46:33.330Z"
   },
   {
    "duration": 10,
    "start_time": "2022-04-24T12:46:33.347Z"
   },
   {
    "duration": 8,
    "start_time": "2022-04-24T12:46:33.359Z"
   },
   {
    "duration": 6,
    "start_time": "2022-04-24T12:46:36.604Z"
   },
   {
    "duration": 10,
    "start_time": "2022-04-24T12:48:27.883Z"
   },
   {
    "duration": 9,
    "start_time": "2022-04-24T12:49:59.974Z"
   },
   {
    "duration": 11,
    "start_time": "2022-04-24T12:51:45.508Z"
   },
   {
    "duration": 11,
    "start_time": "2022-04-24T12:51:54.594Z"
   },
   {
    "duration": 12,
    "start_time": "2022-04-24T12:52:36.043Z"
   },
   {
    "duration": 6,
    "start_time": "2022-04-24T12:53:13.674Z"
   },
   {
    "duration": 15,
    "start_time": "2022-04-24T12:53:59.414Z"
   }
  ],
  "colab": {
   "collapsed_sections": [
    "E0vqbgi9ay0H",
    "VUC88oWjTJw2"
   ],
   "name": "yandex_music_project.ipynb",
   "provenance": []
  },
  "kernelspec": {
   "display_name": "Python 3 (ipykernel)",
   "language": "python",
   "name": "python3"
  },
  "language_info": {
   "codemirror_mode": {
    "name": "ipython",
    "version": 3
   },
   "file_extension": ".py",
   "mimetype": "text/x-python",
   "name": "python",
   "nbconvert_exporter": "python",
   "pygments_lexer": "ipython3",
   "version": "3.9.13"
  },
  "toc": {
   "base_numbering": 1,
   "nav_menu": {},
   "number_sections": true,
   "sideBar": true,
   "skip_h1_title": true,
   "title_cell": "Table of Contents",
   "title_sidebar": "Contents",
   "toc_cell": false,
   "toc_position": {
    "height": "calc(100% - 180px)",
    "left": "10px",
    "top": "150px",
    "width": "235px"
   },
   "toc_section_display": true,
   "toc_window_display": true
  }
 },
 "nbformat": 4,
 "nbformat_minor": 1
}

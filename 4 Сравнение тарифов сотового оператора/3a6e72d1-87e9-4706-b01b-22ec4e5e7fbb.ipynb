{
 "cells": [
  {
   "cell_type": "markdown",
   "id": "4b7b199e",
   "metadata": {
    "toc": true
   },
   "source": [
    "<h1>Содержание<span class=\"tocSkip\"></span></h1>\n",
    "<div class=\"toc\"><ul class=\"toc-item\"><li><span><a href=\"#Обзор-данных\" data-toc-modified-id=\"Обзор-данных-1\"><span class=\"toc-item-num\">1&nbsp;&nbsp;</span>Обзор данных</a></span><ul class=\"toc-item\"><li><span><a href=\"#Заполнение-пропусков\" data-toc-modified-id=\"Заполнение-пропусков-1.1\"><span class=\"toc-item-num\">1.1&nbsp;&nbsp;</span>Заполнение пропусков</a></span></li><li><span><a href=\"#Поиск-ошибок-в-данных,-аномалий-и-исправления.\" data-toc-modified-id=\"Поиск-ошибок-в-данных,-аномалий-и-исправления.-1.2\"><span class=\"toc-item-num\">1.2&nbsp;&nbsp;</span>Поиск ошибок в данных, аномалий и исправления.</a></span></li><li><span><a href=\"#Изменение-типов-данных.\" data-toc-modified-id=\"Изменение-типов-данных.-1.3\"><span class=\"toc-item-num\">1.3&nbsp;&nbsp;</span>Изменение типов данных.</a></span></li></ul></li><li><span><a href=\"#Предобработка-данных.\" data-toc-modified-id=\"Предобработка-данных.-2\"><span class=\"toc-item-num\">2&nbsp;&nbsp;</span>Предобработка данных.</a></span><ul class=\"toc-item\"><li><span><a href=\"#Удаление-дубликатов.\" data-toc-modified-id=\"Удаление-дубликатов.-2.1\"><span class=\"toc-item-num\">2.1&nbsp;&nbsp;</span>Удаление дубликатов.</a></span></li><li><span><a href=\"#Расчеты-и-округления\" data-toc-modified-id=\"Расчеты-и-округления-2.2\"><span class=\"toc-item-num\">2.2&nbsp;&nbsp;</span>Расчеты и округления</a></span></li></ul></li><li><span><a href=\"#Исследовательский-анализ\" data-toc-modified-id=\"Исследовательский-анализ-3\"><span class=\"toc-item-num\">3&nbsp;&nbsp;</span>Исследовательский анализ</a></span></li><li><span><a href=\"#Проверка-гипотез\" data-toc-modified-id=\"Проверка-гипотез-4\"><span class=\"toc-item-num\">4&nbsp;&nbsp;</span>Проверка гипотез</a></span><ul class=\"toc-item\"><li><span><a href=\"#Cредняя-выручка-пользователей-тарифов-«Ультра»-и-«Смарт»-различаются\" data-toc-modified-id=\"Cредняя-выручка-пользователей-тарифов-«Ультра»-и-«Смарт»-различаются-4.1\"><span class=\"toc-item-num\">4.1&nbsp;&nbsp;</span>Cредняя выручка пользователей тарифов «Ультра» и «Смарт» различаются</a></span></li><li><span><a href=\"#Cредняя-выручка-пользователей-из-Москвы-отличается-от-выручки-пользователей-из-других-регионов\" data-toc-modified-id=\"Cредняя-выручка-пользователей-из-Москвы-отличается-от-выручки-пользователей-из-других-регионов-4.2\"><span class=\"toc-item-num\">4.2&nbsp;&nbsp;</span>Cредняя выручка пользователей из Москвы отличается от выручки пользователей из других регионов</a></span></li></ul></li><li><span><a href=\"#Общий-вывод:\" data-toc-modified-id=\"Общий-вывод:-5\"><span class=\"toc-item-num\">5&nbsp;&nbsp;</span>Общий вывод:</a></span></li></ul></div>"
   ]
  },
  {
   "cell_type": "markdown",
   "id": "ac9f12f1",
   "metadata": {},
   "source": [
    "# Сравнение тарифов сотового оператора\n",
    "\n",
    "Чтобы скорректировать рекламный бюджет, коммерческий департамент хочет понять, какой тариф приносит больше денег.\n",
    "Необходим предварительный анализ тарифов на небольшой выборке клиентов. В нашем распоряжении данные 500 пользователей «Мегалайна»: кто они, откуда, каким тарифом пользуются, сколько звонков и сообщений каждый отправил за 2018 год.\n",
    "\n",
    "**Описание тарифов**\n",
    "* Тариф «Смарт»\n",
    "    * Ежемесячная плата: 550 рублей\n",
    "    * Включено 500 минут разговора, 50 сообщений и 15 Гб интернет-трафика\n",
    "    * Стоимость услуг сверх тарифного пакета:\n",
    "        * минута разговора: 3 рубля\n",
    "        * сообщение: 3 рубля\n",
    "        * 1 Гб интернет-трафика: 200 рублей\n",
    "* Тариф «Ультра»\n",
    "    * Ежемесячная плата: 1950 рублей\n",
    "    * Включено 3000 минут разговора, 1000 сообщений и 30 Гб интернет-трафика\n",
    "    * Стоимость услуг сверх тарифного пакета:\n",
    "        * минута разговора: 1 рубль\n",
    "        * сообщение: 1 рубль\n",
    "        * 1 Гб интернет-трафика: 150 рублей\n",
    "\n",
    "**Цель исследования** - проанализировать поведение клиентов и сделать вывод, какой тариф лучше.\n",
    "\n",
    "**План исследования**:\n",
    "1. Обзор данных, предобработка\n",
    "2. Исследовательский анализ данных\n",
    "3. Статистический анализ данных"
   ]
  },
  {
   "cell_type": "markdown",
   "id": "808c273d",
   "metadata": {},
   "source": [
    "## Обзор данных"
   ]
  },
  {
   "cell_type": "code",
   "execution_count": 2,
   "id": "f50ed5e0",
   "metadata": {},
   "outputs": [
    {
     "name": "stdout",
     "output_type": "stream",
     "text": [
      "<class 'pandas.core.frame.DataFrame'>\n",
      "RangeIndex: 202607 entries, 0 to 202606\n",
      "Data columns (total 4 columns):\n",
      " #   Column     Non-Null Count   Dtype         \n",
      "---  ------     --------------   -----         \n",
      " 0   id         202607 non-null  object        \n",
      " 1   call_date  202607 non-null  datetime64[ns]\n",
      " 2   duration   202607 non-null  float64       \n",
      " 3   user_id    202607 non-null  int64         \n",
      "dtypes: datetime64[ns](1), float64(1), int64(1), object(1)\n",
      "memory usage: 6.2+ MB\n"
     ]
    },
    {
     "data": {
      "text/html": [
       "<div>\n",
       "<style scoped>\n",
       "    .dataframe tbody tr th:only-of-type {\n",
       "        vertical-align: middle;\n",
       "    }\n",
       "\n",
       "    .dataframe tbody tr th {\n",
       "        vertical-align: top;\n",
       "    }\n",
       "\n",
       "    .dataframe thead th {\n",
       "        text-align: right;\n",
       "    }\n",
       "</style>\n",
       "<table border=\"1\" class=\"dataframe\">\n",
       "  <thead>\n",
       "    <tr style=\"text-align: right;\">\n",
       "      <th></th>\n",
       "      <th>id</th>\n",
       "      <th>call_date</th>\n",
       "      <th>duration</th>\n",
       "      <th>user_id</th>\n",
       "    </tr>\n",
       "  </thead>\n",
       "  <tbody>\n",
       "    <tr>\n",
       "      <th>0</th>\n",
       "      <td>1000_0</td>\n",
       "      <td>2018-07-25</td>\n",
       "      <td>0.00</td>\n",
       "      <td>1000</td>\n",
       "    </tr>\n",
       "    <tr>\n",
       "      <th>1</th>\n",
       "      <td>1000_1</td>\n",
       "      <td>2018-08-17</td>\n",
       "      <td>0.00</td>\n",
       "      <td>1000</td>\n",
       "    </tr>\n",
       "    <tr>\n",
       "      <th>2</th>\n",
       "      <td>1000_2</td>\n",
       "      <td>2018-06-11</td>\n",
       "      <td>2.85</td>\n",
       "      <td>1000</td>\n",
       "    </tr>\n",
       "    <tr>\n",
       "      <th>3</th>\n",
       "      <td>1000_3</td>\n",
       "      <td>2018-09-21</td>\n",
       "      <td>13.80</td>\n",
       "      <td>1000</td>\n",
       "    </tr>\n",
       "    <tr>\n",
       "      <th>4</th>\n",
       "      <td>1000_4</td>\n",
       "      <td>2018-12-15</td>\n",
       "      <td>5.18</td>\n",
       "      <td>1000</td>\n",
       "    </tr>\n",
       "  </tbody>\n",
       "</table>\n",
       "</div>"
      ],
      "text/plain": [
       "       id  call_date  duration  user_id\n",
       "0  1000_0 2018-07-25      0.00     1000\n",
       "1  1000_1 2018-08-17      0.00     1000\n",
       "2  1000_2 2018-06-11      2.85     1000\n",
       "3  1000_3 2018-09-21     13.80     1000\n",
       "4  1000_4 2018-12-15      5.18     1000"
      ]
     },
     "metadata": {},
     "output_type": "display_data"
    },
    {
     "name": "stdout",
     "output_type": "stream",
     "text": [
      "<class 'pandas.core.frame.DataFrame'>\n",
      "RangeIndex: 149396 entries, 0 to 149395\n",
      "Data columns (total 5 columns):\n",
      " #   Column        Non-Null Count   Dtype         \n",
      "---  ------        --------------   -----         \n",
      " 0   Unnamed: 0    149396 non-null  int64         \n",
      " 1   id            149396 non-null  object        \n",
      " 2   mb_used       149396 non-null  float64       \n",
      " 3   session_date  149396 non-null  datetime64[ns]\n",
      " 4   user_id       149396 non-null  int64         \n",
      "dtypes: datetime64[ns](1), float64(1), int64(2), object(1)\n",
      "memory usage: 5.7+ MB\n"
     ]
    },
    {
     "data": {
      "text/html": [
       "<div>\n",
       "<style scoped>\n",
       "    .dataframe tbody tr th:only-of-type {\n",
       "        vertical-align: middle;\n",
       "    }\n",
       "\n",
       "    .dataframe tbody tr th {\n",
       "        vertical-align: top;\n",
       "    }\n",
       "\n",
       "    .dataframe thead th {\n",
       "        text-align: right;\n",
       "    }\n",
       "</style>\n",
       "<table border=\"1\" class=\"dataframe\">\n",
       "  <thead>\n",
       "    <tr style=\"text-align: right;\">\n",
       "      <th></th>\n",
       "      <th>Unnamed: 0</th>\n",
       "      <th>id</th>\n",
       "      <th>mb_used</th>\n",
       "      <th>session_date</th>\n",
       "      <th>user_id</th>\n",
       "    </tr>\n",
       "  </thead>\n",
       "  <tbody>\n",
       "    <tr>\n",
       "      <th>0</th>\n",
       "      <td>0</td>\n",
       "      <td>1000_0</td>\n",
       "      <td>112.95</td>\n",
       "      <td>2018-11-25</td>\n",
       "      <td>1000</td>\n",
       "    </tr>\n",
       "    <tr>\n",
       "      <th>1</th>\n",
       "      <td>1</td>\n",
       "      <td>1000_1</td>\n",
       "      <td>1052.81</td>\n",
       "      <td>2018-09-07</td>\n",
       "      <td>1000</td>\n",
       "    </tr>\n",
       "    <tr>\n",
       "      <th>2</th>\n",
       "      <td>2</td>\n",
       "      <td>1000_2</td>\n",
       "      <td>1197.26</td>\n",
       "      <td>2018-06-25</td>\n",
       "      <td>1000</td>\n",
       "    </tr>\n",
       "    <tr>\n",
       "      <th>3</th>\n",
       "      <td>3</td>\n",
       "      <td>1000_3</td>\n",
       "      <td>550.27</td>\n",
       "      <td>2018-08-22</td>\n",
       "      <td>1000</td>\n",
       "    </tr>\n",
       "    <tr>\n",
       "      <th>4</th>\n",
       "      <td>4</td>\n",
       "      <td>1000_4</td>\n",
       "      <td>302.56</td>\n",
       "      <td>2018-09-24</td>\n",
       "      <td>1000</td>\n",
       "    </tr>\n",
       "  </tbody>\n",
       "</table>\n",
       "</div>"
      ],
      "text/plain": [
       "   Unnamed: 0      id  mb_used session_date  user_id\n",
       "0           0  1000_0   112.95   2018-11-25     1000\n",
       "1           1  1000_1  1052.81   2018-09-07     1000\n",
       "2           2  1000_2  1197.26   2018-06-25     1000\n",
       "3           3  1000_3   550.27   2018-08-22     1000\n",
       "4           4  1000_4   302.56   2018-09-24     1000"
      ]
     },
     "metadata": {},
     "output_type": "display_data"
    },
    {
     "name": "stdout",
     "output_type": "stream",
     "text": [
      "<class 'pandas.core.frame.DataFrame'>\n",
      "RangeIndex: 123036 entries, 0 to 123035\n",
      "Data columns (total 3 columns):\n",
      " #   Column        Non-Null Count   Dtype         \n",
      "---  ------        --------------   -----         \n",
      " 0   id            123036 non-null  object        \n",
      " 1   message_date  123036 non-null  datetime64[ns]\n",
      " 2   user_id       123036 non-null  int64         \n",
      "dtypes: datetime64[ns](1), int64(1), object(1)\n",
      "memory usage: 2.8+ MB\n"
     ]
    },
    {
     "data": {
      "text/html": [
       "<div>\n",
       "<style scoped>\n",
       "    .dataframe tbody tr th:only-of-type {\n",
       "        vertical-align: middle;\n",
       "    }\n",
       "\n",
       "    .dataframe tbody tr th {\n",
       "        vertical-align: top;\n",
       "    }\n",
       "\n",
       "    .dataframe thead th {\n",
       "        text-align: right;\n",
       "    }\n",
       "</style>\n",
       "<table border=\"1\" class=\"dataframe\">\n",
       "  <thead>\n",
       "    <tr style=\"text-align: right;\">\n",
       "      <th></th>\n",
       "      <th>id</th>\n",
       "      <th>message_date</th>\n",
       "      <th>user_id</th>\n",
       "    </tr>\n",
       "  </thead>\n",
       "  <tbody>\n",
       "    <tr>\n",
       "      <th>0</th>\n",
       "      <td>1000_0</td>\n",
       "      <td>2018-06-27</td>\n",
       "      <td>1000</td>\n",
       "    </tr>\n",
       "    <tr>\n",
       "      <th>1</th>\n",
       "      <td>1000_1</td>\n",
       "      <td>2018-10-08</td>\n",
       "      <td>1000</td>\n",
       "    </tr>\n",
       "    <tr>\n",
       "      <th>2</th>\n",
       "      <td>1000_2</td>\n",
       "      <td>2018-08-04</td>\n",
       "      <td>1000</td>\n",
       "    </tr>\n",
       "    <tr>\n",
       "      <th>3</th>\n",
       "      <td>1000_3</td>\n",
       "      <td>2018-06-16</td>\n",
       "      <td>1000</td>\n",
       "    </tr>\n",
       "    <tr>\n",
       "      <th>4</th>\n",
       "      <td>1000_4</td>\n",
       "      <td>2018-12-05</td>\n",
       "      <td>1000</td>\n",
       "    </tr>\n",
       "  </tbody>\n",
       "</table>\n",
       "</div>"
      ],
      "text/plain": [
       "       id message_date  user_id\n",
       "0  1000_0   2018-06-27     1000\n",
       "1  1000_1   2018-10-08     1000\n",
       "2  1000_2   2018-08-04     1000\n",
       "3  1000_3   2018-06-16     1000\n",
       "4  1000_4   2018-12-05     1000"
      ]
     },
     "metadata": {},
     "output_type": "display_data"
    },
    {
     "name": "stdout",
     "output_type": "stream",
     "text": [
      "<class 'pandas.core.frame.DataFrame'>\n",
      "RangeIndex: 2 entries, 0 to 1\n",
      "Data columns (total 8 columns):\n",
      " #   Column                 Non-Null Count  Dtype \n",
      "---  ------                 --------------  ----- \n",
      " 0   messages_included      2 non-null      int64 \n",
      " 1   mb_per_month_included  2 non-null      int64 \n",
      " 2   minutes_included       2 non-null      int64 \n",
      " 3   rub_monthly_fee        2 non-null      int64 \n",
      " 4   rub_per_gb             2 non-null      int64 \n",
      " 5   rub_per_message        2 non-null      int64 \n",
      " 6   rub_per_minute         2 non-null      int64 \n",
      " 7   tariff                 2 non-null      object\n",
      "dtypes: int64(7), object(1)\n",
      "memory usage: 256.0+ bytes\n"
     ]
    },
    {
     "data": {
      "text/html": [
       "<div>\n",
       "<style scoped>\n",
       "    .dataframe tbody tr th:only-of-type {\n",
       "        vertical-align: middle;\n",
       "    }\n",
       "\n",
       "    .dataframe tbody tr th {\n",
       "        vertical-align: top;\n",
       "    }\n",
       "\n",
       "    .dataframe thead th {\n",
       "        text-align: right;\n",
       "    }\n",
       "</style>\n",
       "<table border=\"1\" class=\"dataframe\">\n",
       "  <thead>\n",
       "    <tr style=\"text-align: right;\">\n",
       "      <th></th>\n",
       "      <th>messages_included</th>\n",
       "      <th>mb_per_month_included</th>\n",
       "      <th>minutes_included</th>\n",
       "      <th>rub_monthly_fee</th>\n",
       "      <th>rub_per_gb</th>\n",
       "      <th>rub_per_message</th>\n",
       "      <th>rub_per_minute</th>\n",
       "      <th>tariff</th>\n",
       "    </tr>\n",
       "  </thead>\n",
       "  <tbody>\n",
       "    <tr>\n",
       "      <th>0</th>\n",
       "      <td>50</td>\n",
       "      <td>15360</td>\n",
       "      <td>500</td>\n",
       "      <td>550</td>\n",
       "      <td>200</td>\n",
       "      <td>3</td>\n",
       "      <td>3</td>\n",
       "      <td>smart</td>\n",
       "    </tr>\n",
       "    <tr>\n",
       "      <th>1</th>\n",
       "      <td>1000</td>\n",
       "      <td>30720</td>\n",
       "      <td>3000</td>\n",
       "      <td>1950</td>\n",
       "      <td>150</td>\n",
       "      <td>1</td>\n",
       "      <td>1</td>\n",
       "      <td>ultra</td>\n",
       "    </tr>\n",
       "  </tbody>\n",
       "</table>\n",
       "</div>"
      ],
      "text/plain": [
       "   messages_included  mb_per_month_included  minutes_included  \\\n",
       "0                 50                  15360               500   \n",
       "1               1000                  30720              3000   \n",
       "\n",
       "   rub_monthly_fee  rub_per_gb  rub_per_message  rub_per_minute tariff  \n",
       "0              550         200                3               3  smart  \n",
       "1             1950         150                1               1  ultra  "
      ]
     },
     "metadata": {},
     "output_type": "display_data"
    },
    {
     "name": "stdout",
     "output_type": "stream",
     "text": [
      "<class 'pandas.core.frame.DataFrame'>\n",
      "RangeIndex: 500 entries, 0 to 499\n",
      "Data columns (total 8 columns):\n",
      " #   Column      Non-Null Count  Dtype         \n",
      "---  ------      --------------  -----         \n",
      " 0   user_id     500 non-null    int64         \n",
      " 1   age         500 non-null    int64         \n",
      " 2   churn_date  38 non-null     datetime64[ns]\n",
      " 3   city        500 non-null    object        \n",
      " 4   first_name  500 non-null    object        \n",
      " 5   last_name   500 non-null    object        \n",
      " 6   reg_date    500 non-null    datetime64[ns]\n",
      " 7   tariff      500 non-null    object        \n",
      "dtypes: datetime64[ns](2), int64(2), object(4)\n",
      "memory usage: 31.4+ KB\n"
     ]
    },
    {
     "data": {
      "text/html": [
       "<div>\n",
       "<style scoped>\n",
       "    .dataframe tbody tr th:only-of-type {\n",
       "        vertical-align: middle;\n",
       "    }\n",
       "\n",
       "    .dataframe tbody tr th {\n",
       "        vertical-align: top;\n",
       "    }\n",
       "\n",
       "    .dataframe thead th {\n",
       "        text-align: right;\n",
       "    }\n",
       "</style>\n",
       "<table border=\"1\" class=\"dataframe\">\n",
       "  <thead>\n",
       "    <tr style=\"text-align: right;\">\n",
       "      <th></th>\n",
       "      <th>user_id</th>\n",
       "      <th>age</th>\n",
       "      <th>churn_date</th>\n",
       "      <th>city</th>\n",
       "      <th>first_name</th>\n",
       "      <th>last_name</th>\n",
       "      <th>reg_date</th>\n",
       "      <th>tariff</th>\n",
       "    </tr>\n",
       "  </thead>\n",
       "  <tbody>\n",
       "    <tr>\n",
       "      <th>0</th>\n",
       "      <td>1000</td>\n",
       "      <td>52</td>\n",
       "      <td>NaT</td>\n",
       "      <td>Краснодар</td>\n",
       "      <td>Рафаил</td>\n",
       "      <td>Верещагин</td>\n",
       "      <td>2018-05-25</td>\n",
       "      <td>ultra</td>\n",
       "    </tr>\n",
       "    <tr>\n",
       "      <th>1</th>\n",
       "      <td>1001</td>\n",
       "      <td>41</td>\n",
       "      <td>NaT</td>\n",
       "      <td>Москва</td>\n",
       "      <td>Иван</td>\n",
       "      <td>Ежов</td>\n",
       "      <td>2018-11-01</td>\n",
       "      <td>smart</td>\n",
       "    </tr>\n",
       "    <tr>\n",
       "      <th>2</th>\n",
       "      <td>1002</td>\n",
       "      <td>59</td>\n",
       "      <td>NaT</td>\n",
       "      <td>Стерлитамак</td>\n",
       "      <td>Евгений</td>\n",
       "      <td>Абрамович</td>\n",
       "      <td>2018-06-17</td>\n",
       "      <td>smart</td>\n",
       "    </tr>\n",
       "    <tr>\n",
       "      <th>3</th>\n",
       "      <td>1003</td>\n",
       "      <td>23</td>\n",
       "      <td>NaT</td>\n",
       "      <td>Москва</td>\n",
       "      <td>Белла</td>\n",
       "      <td>Белякова</td>\n",
       "      <td>2018-08-17</td>\n",
       "      <td>ultra</td>\n",
       "    </tr>\n",
       "    <tr>\n",
       "      <th>4</th>\n",
       "      <td>1004</td>\n",
       "      <td>68</td>\n",
       "      <td>NaT</td>\n",
       "      <td>Новокузнецк</td>\n",
       "      <td>Татьяна</td>\n",
       "      <td>Авдеенко</td>\n",
       "      <td>2018-05-14</td>\n",
       "      <td>ultra</td>\n",
       "    </tr>\n",
       "    <tr>\n",
       "      <th>...</th>\n",
       "      <td>...</td>\n",
       "      <td>...</td>\n",
       "      <td>...</td>\n",
       "      <td>...</td>\n",
       "      <td>...</td>\n",
       "      <td>...</td>\n",
       "      <td>...</td>\n",
       "      <td>...</td>\n",
       "    </tr>\n",
       "    <tr>\n",
       "      <th>495</th>\n",
       "      <td>1495</td>\n",
       "      <td>65</td>\n",
       "      <td>NaT</td>\n",
       "      <td>Иркутск</td>\n",
       "      <td>Авксентий</td>\n",
       "      <td>Фокин</td>\n",
       "      <td>2018-08-28</td>\n",
       "      <td>ultra</td>\n",
       "    </tr>\n",
       "    <tr>\n",
       "      <th>496</th>\n",
       "      <td>1496</td>\n",
       "      <td>36</td>\n",
       "      <td>NaT</td>\n",
       "      <td>Вологда</td>\n",
       "      <td>Трифон</td>\n",
       "      <td>Блохин</td>\n",
       "      <td>2018-01-27</td>\n",
       "      <td>smart</td>\n",
       "    </tr>\n",
       "    <tr>\n",
       "      <th>497</th>\n",
       "      <td>1497</td>\n",
       "      <td>32</td>\n",
       "      <td>NaT</td>\n",
       "      <td>Челябинск</td>\n",
       "      <td>Каролина</td>\n",
       "      <td>Агеева</td>\n",
       "      <td>2018-10-09</td>\n",
       "      <td>smart</td>\n",
       "    </tr>\n",
       "    <tr>\n",
       "      <th>498</th>\n",
       "      <td>1498</td>\n",
       "      <td>68</td>\n",
       "      <td>2018-10-25</td>\n",
       "      <td>Владикавказ</td>\n",
       "      <td>Всеволод</td>\n",
       "      <td>Акимчин</td>\n",
       "      <td>2018-07-19</td>\n",
       "      <td>smart</td>\n",
       "    </tr>\n",
       "    <tr>\n",
       "      <th>499</th>\n",
       "      <td>1499</td>\n",
       "      <td>35</td>\n",
       "      <td>NaT</td>\n",
       "      <td>Пермь</td>\n",
       "      <td>Гектор</td>\n",
       "      <td>Корнилов</td>\n",
       "      <td>2018-09-27</td>\n",
       "      <td>smart</td>\n",
       "    </tr>\n",
       "  </tbody>\n",
       "</table>\n",
       "<p>500 rows × 8 columns</p>\n",
       "</div>"
      ],
      "text/plain": [
       "     user_id  age churn_date         city first_name  last_name   reg_date  \\\n",
       "0       1000   52        NaT    Краснодар     Рафаил  Верещагин 2018-05-25   \n",
       "1       1001   41        NaT       Москва       Иван       Ежов 2018-11-01   \n",
       "2       1002   59        NaT  Стерлитамак    Евгений  Абрамович 2018-06-17   \n",
       "3       1003   23        NaT       Москва      Белла   Белякова 2018-08-17   \n",
       "4       1004   68        NaT  Новокузнецк    Татьяна   Авдеенко 2018-05-14   \n",
       "..       ...  ...        ...          ...        ...        ...        ...   \n",
       "495     1495   65        NaT      Иркутск  Авксентий      Фокин 2018-08-28   \n",
       "496     1496   36        NaT      Вологда     Трифон     Блохин 2018-01-27   \n",
       "497     1497   32        NaT    Челябинск   Каролина     Агеева 2018-10-09   \n",
       "498     1498   68 2018-10-25  Владикавказ   Всеволод    Акимчин 2018-07-19   \n",
       "499     1499   35        NaT        Пермь     Гектор   Корнилов 2018-09-27   \n",
       "\n",
       "    tariff  \n",
       "0    ultra  \n",
       "1    smart  \n",
       "2    smart  \n",
       "3    ultra  \n",
       "4    ultra  \n",
       "..     ...  \n",
       "495  ultra  \n",
       "496  smart  \n",
       "497  smart  \n",
       "498  smart  \n",
       "499  smart  \n",
       "\n",
       "[500 rows x 8 columns]"
      ]
     },
     "metadata": {},
     "output_type": "display_data"
    }
   ],
   "source": [
    "import pandas as pd\n",
    "import numpy as np\n",
    "import datetime\n",
    "from datetime import date\n",
    "from scipy import stats as st\n",
    "\n",
    "try:\n",
    "    df_calls = pd.read_csv('calls.csv', parse_dates=[1])\n",
    "#    df_calls = pd.read_csv('https://code.s3.yandex.net/datasets/calls.csv')\n",
    "    df_internet = pd.read_csv('internet.csv', parse_dates=[3])\n",
    "    df_messages = pd.read_csv('messages.csv', parse_dates=[1])\n",
    "    df_tariffs = pd.read_csv('tariffs.csv', )\n",
    "#    df_users = pd.read_csv('users.csv', dtype={'user_id':np.int8, 'age':np.int8}, parse_dates=[2,6])\n",
    "    df_users = pd.read_csv('users.csv', parse_dates=[2,6])\n",
    "    \n",
    "except:\n",
    "    df_calls = pd.read_csv('/datasets/calls.csv', parse_dates=[1])\n",
    "    df_internet = pd.read_csv('/datasets/internet.csv', parse_dates=[3])\n",
    "    df_messages = pd.read_csv('/datasets/messages.csv', parse_dates=[1])\n",
    "    df_tariffs = pd.read_csv('/datasets/tariffs.csv')\n",
    "    df_users = pd.read_csv('/datasets/users.csv', parse_dates=[2,6])    \n",
    "\n",
    "df_calls.info()\n",
    "display(df_calls.head())\n",
    "df_internet.info()\n",
    "display(df_internet.head())\n",
    "df_messages.info()\n",
    "display(df_messages.head())\n",
    "\n",
    "#Переименовываем, чтобы потом было проще объединять\n",
    "df_tariffs.rename(columns={'tariff_name': 'tariff'}, inplace=True)\n",
    "\n",
    "df_tariffs.info()\n",
    "display(df_tariffs)\n",
    "\n",
    "df_users.info()\n",
    "display(df_users)\n",
    "\n",
    "df_internet.drop('Unnamed: 0',axis=1, inplace=True)"
   ]
  },
  {
   "cell_type": "markdown",
   "id": "0975695b",
   "metadata": {},
   "source": [
    "### Заполнение пропусков"
   ]
  },
  {
   "cell_type": "code",
   "execution_count": 3,
   "id": "929cc119",
   "metadata": {},
   "outputs": [
    {
     "data": {
      "text/plain": [
       "id           0.0\n",
       "call_date    0.0\n",
       "duration     0.0\n",
       "user_id      0.0\n",
       "dtype: float64"
      ]
     },
     "metadata": {},
     "output_type": "display_data"
    },
    {
     "data": {
      "text/plain": [
       "id              0.0\n",
       "mb_used         0.0\n",
       "session_date    0.0\n",
       "user_id         0.0\n",
       "dtype: float64"
      ]
     },
     "metadata": {},
     "output_type": "display_data"
    },
    {
     "data": {
      "text/plain": [
       "id              0.0\n",
       "message_date    0.0\n",
       "user_id         0.0\n",
       "dtype: float64"
      ]
     },
     "metadata": {},
     "output_type": "display_data"
    },
    {
     "data": {
      "text/plain": [
       "messages_included        0.0\n",
       "mb_per_month_included    0.0\n",
       "minutes_included         0.0\n",
       "rub_monthly_fee          0.0\n",
       "rub_per_gb               0.0\n",
       "rub_per_message          0.0\n",
       "rub_per_minute           0.0\n",
       "tariff                   0.0\n",
       "dtype: float64"
      ]
     },
     "metadata": {},
     "output_type": "display_data"
    },
    {
     "data": {
      "text/plain": [
       "user_id       0.000\n",
       "age           0.000\n",
       "churn_date    0.924\n",
       "city          0.000\n",
       "first_name    0.000\n",
       "last_name     0.000\n",
       "reg_date      0.000\n",
       "tariff        0.000\n",
       "dtype: float64"
      ]
     },
     "metadata": {},
     "output_type": "display_data"
    }
   ],
   "source": [
    "display(df_calls.isna().mean())\n",
    "display(df_internet.isna().mean())\n",
    "display(df_messages.isna().mean())\n",
    "display(df_tariffs.isna().mean())\n",
    "display(df_users.isna().mean())"
   ]
  },
  {
   "cell_type": "markdown",
   "id": "c2fad7e7",
   "metadata": {},
   "source": [
    "Пропусков в данных нет, кроме churn_date в таблице users. По условию задачи, если значение пропущено, то тариф ещё действовал на момент выгрузки данных. Для удобства сравнения заполним их текущей датой"
   ]
  },
  {
   "cell_type": "code",
   "execution_count": 4,
   "id": "ae6b59b2",
   "metadata": {},
   "outputs": [
    {
     "data": {
      "text/plain": [
       "user_id       0.0\n",
       "age           0.0\n",
       "churn_date    0.0\n",
       "city          0.0\n",
       "first_name    0.0\n",
       "last_name     0.0\n",
       "reg_date      0.0\n",
       "tariff        0.0\n",
       "dtype: float64"
      ]
     },
     "metadata": {},
     "output_type": "display_data"
    }
   ],
   "source": [
    "df_users.churn_date.fillna(date.today(), inplace=True)\n",
    "display(df_users.isna().mean())"
   ]
  },
  {
   "cell_type": "markdown",
   "id": "626babbf",
   "metadata": {},
   "source": [
    "### Поиск ошибок в данных, аномалий и исправления.\n",
    "Подозрительно, что в колонке user_id есть отрицательные значения, но вряд ли это может считаться ошибкой\n"
   ]
  },
  {
   "cell_type": "code",
   "execution_count": 5,
   "id": "0cb9f401",
   "metadata": {},
   "outputs": [
    {
     "data": {
      "text/plain": [
       "array([1000, 1001, 1002, 1003, 1004, 1005, 1006, 1007, 1008, 1009, 1010,\n",
       "       1011, 1012, 1013, 1014, 1015, 1016, 1017, 1018, 1019, 1020, 1021,\n",
       "       1022, 1023, 1024, 1025, 1026, 1027, 1028, 1029, 1030, 1031, 1032,\n",
       "       1033, 1034, 1035, 1036, 1037, 1038, 1039, 1040, 1041, 1042, 1043,\n",
       "       1044, 1045, 1046, 1047, 1048, 1049, 1050, 1051, 1052, 1053, 1054,\n",
       "       1055, 1056, 1057, 1058, 1059, 1060, 1061, 1062, 1063, 1064, 1065,\n",
       "       1066, 1067, 1068, 1069, 1070, 1071, 1072, 1073, 1074, 1075, 1076,\n",
       "       1077, 1078, 1079, 1080, 1081, 1082, 1083, 1084, 1085, 1086, 1087,\n",
       "       1088, 1089, 1090, 1092, 1093, 1094, 1095, 1096, 1097, 1098, 1099,\n",
       "       1100, 1101, 1102, 1103, 1104, 1105, 1107, 1108, 1109, 1110, 1111,\n",
       "       1112, 1113, 1114, 1115, 1116, 1117, 1118, 1119, 1120, 1121, 1122,\n",
       "       1123, 1124, 1125, 1126, 1127, 1129, 1130, 1131, 1132, 1133, 1134,\n",
       "       1135, 1136, 1137, 1138, 1139, 1140, 1141, 1142, 1143, 1144, 1145,\n",
       "       1146, 1147, 1148, 1149, 1150, 1151, 1152, 1153, 1154, 1155, 1156,\n",
       "       1157, 1158, 1159, 1160, 1161, 1162, 1163, 1164, 1165, 1166, 1167,\n",
       "       1168, 1169, 1170, 1171, 1172, 1173, 1174, 1175, 1176, 1177, 1178,\n",
       "       1179, 1180, 1181, 1182, 1183, 1184, 1185, 1186, 1187, 1188, 1189,\n",
       "       1190, 1191, 1192, 1193, 1194, 1195, 1196, 1197, 1198, 1199, 1200,\n",
       "       1201, 1202, 1203, 1204, 1205, 1206, 1207, 1208, 1209, 1210, 1211,\n",
       "       1212, 1213, 1214, 1215, 1216, 1217, 1218, 1219, 1220, 1221, 1222,\n",
       "       1223, 1224, 1225, 1226, 1227, 1228, 1229, 1230, 1232, 1233, 1234,\n",
       "       1235, 1236, 1237, 1238, 1239, 1240, 1241, 1242, 1243, 1244, 1245,\n",
       "       1246, 1247, 1248, 1249, 1250, 1251, 1252, 1253, 1254, 1255, 1256,\n",
       "       1257, 1258, 1259, 1260, 1261, 1262, 1263, 1264, 1265, 1266, 1267,\n",
       "       1268, 1269, 1270, 1271, 1272, 1273, 1274, 1275, 1276, 1277, 1278,\n",
       "       1279, 1280, 1281, 1282, 1283, 1284, 1285, 1286, 1287, 1288, 1289,\n",
       "       1290, 1291, 1292, 1293, 1294, 1295, 1296, 1297, 1298, 1299, 1300,\n",
       "       1301, 1302, 1303, 1304, 1305, 1306, 1307, 1308, 1309, 1310, 1311,\n",
       "       1312, 1313, 1314, 1315, 1316, 1317, 1318, 1319, 1320, 1321, 1322,\n",
       "       1323, 1324, 1325, 1326, 1327, 1329, 1330, 1331, 1332, 1333, 1334,\n",
       "       1335, 1336, 1337, 1338, 1339, 1340, 1341, 1342, 1343, 1344, 1345,\n",
       "       1346, 1347, 1348, 1349, 1350, 1351, 1352, 1353, 1354, 1355, 1356,\n",
       "       1357, 1358, 1359, 1360, 1361, 1362, 1363, 1364, 1365, 1366, 1367,\n",
       "       1368, 1369, 1370, 1372, 1373, 1374, 1375, 1376, 1377, 1378, 1379,\n",
       "       1380, 1381, 1382, 1383, 1384, 1385, 1386, 1387, 1388, 1389, 1390,\n",
       "       1391, 1392, 1393, 1394, 1395, 1396, 1397, 1398, 1399, 1400, 1401,\n",
       "       1402, 1403, 1404, 1405, 1406, 1407, 1408, 1409, 1410, 1411, 1412,\n",
       "       1413, 1414, 1415, 1416, 1417, 1418, 1419, 1420, 1421, 1422, 1423,\n",
       "       1424, 1425, 1426, 1427, 1428, 1429, 1430, 1431, 1432, 1433, 1434,\n",
       "       1435, 1436, 1437, 1438, 1439, 1440, 1441, 1442, 1443, 1444, 1445,\n",
       "       1446, 1447, 1448, 1449, 1450, 1451, 1452, 1453, 1454, 1455, 1456,\n",
       "       1457, 1458, 1459, 1460, 1461, 1462, 1463, 1464, 1465, 1466, 1467,\n",
       "       1468, 1469, 1470, 1471, 1472, 1474, 1475, 1476, 1477, 1478, 1479,\n",
       "       1480, 1481, 1482, 1483, 1484, 1485, 1486, 1487, 1488, 1490, 1491,\n",
       "       1492, 1493, 1494, 1495, 1496, 1497, 1498, 1499], dtype=int64)"
      ]
     },
     "execution_count": 5,
     "metadata": {},
     "output_type": "execute_result"
    }
   ],
   "source": [
    "df_calls.user_id.unique()"
   ]
  },
  {
   "cell_type": "markdown",
   "id": "170acd1e",
   "metadata": {},
   "source": [
    "Проверим, чтобы не было случая, когда churn_date < reg_date. Это явно ошибка."
   ]
  },
  {
   "cell_type": "code",
   "execution_count": 6,
   "id": "e994abd9",
   "metadata": {},
   "outputs": [
    {
     "data": {
      "text/html": [
       "<div>\n",
       "<style scoped>\n",
       "    .dataframe tbody tr th:only-of-type {\n",
       "        vertical-align: middle;\n",
       "    }\n",
       "\n",
       "    .dataframe tbody tr th {\n",
       "        vertical-align: top;\n",
       "    }\n",
       "\n",
       "    .dataframe thead th {\n",
       "        text-align: right;\n",
       "    }\n",
       "</style>\n",
       "<table border=\"1\" class=\"dataframe\">\n",
       "  <thead>\n",
       "    <tr style=\"text-align: right;\">\n",
       "      <th></th>\n",
       "      <th>user_id</th>\n",
       "      <th>age</th>\n",
       "      <th>churn_date</th>\n",
       "      <th>city</th>\n",
       "      <th>first_name</th>\n",
       "      <th>last_name</th>\n",
       "      <th>reg_date</th>\n",
       "      <th>tariff</th>\n",
       "    </tr>\n",
       "  </thead>\n",
       "  <tbody>\n",
       "  </tbody>\n",
       "</table>\n",
       "</div>"
      ],
      "text/plain": [
       "Empty DataFrame\n",
       "Columns: [user_id, age, churn_date, city, first_name, last_name, reg_date, tariff]\n",
       "Index: []"
      ]
     },
     "execution_count": 6,
     "metadata": {},
     "output_type": "execute_result"
    }
   ],
   "source": [
    "df_users.query('churn_date < reg_date')"
   ]
  },
  {
   "cell_type": "code",
   "execution_count": 7,
   "id": "ae11f57b",
   "metadata": {},
   "outputs": [
    {
     "data": {
      "text/plain": [
       "<bound method NDFrame.abs of Москва             99\n",
       "Санкт-Петербург    39\n",
       "Новосибирск        16\n",
       "Омск               14\n",
       "Казань             14\n",
       "                   ..\n",
       "Архангельск         1\n",
       "Иваново             1\n",
       "Нижневартовск       1\n",
       "Химки               1\n",
       "Подольск            1\n",
       "Name: city, Length: 76, dtype: int64>"
      ]
     },
     "execution_count": 7,
     "metadata": {},
     "output_type": "execute_result"
    }
   ],
   "source": [
    "df_users['city'].value_counts().abs"
   ]
  },
  {
   "cell_type": "code",
   "execution_count": 8,
   "id": "79691543",
   "metadata": {},
   "outputs": [
    {
     "data": {
      "text/plain": [
       "['Архангельск',\n",
       " 'Астрахань',\n",
       " 'Балашиха',\n",
       " 'Барнаул',\n",
       " 'Белгород',\n",
       " 'Брянск',\n",
       " 'Владивосток',\n",
       " 'Владикавказ',\n",
       " 'Владимир',\n",
       " 'Волгоград',\n",
       " 'Волжский',\n",
       " 'Вологда',\n",
       " 'Воронеж',\n",
       " 'Грозный',\n",
       " 'Екатеринбург',\n",
       " 'Иваново',\n",
       " 'Ижевск',\n",
       " 'Иркутск',\n",
       " 'Казань',\n",
       " 'Калининград',\n",
       " 'Калуга',\n",
       " 'Кемерово',\n",
       " 'Киров',\n",
       " 'Кострома',\n",
       " 'Краснодар',\n",
       " 'Красноярск',\n",
       " 'Курган',\n",
       " 'Курск',\n",
       " 'Липецк',\n",
       " 'Магнитогорск',\n",
       " 'Махачкала',\n",
       " 'Москва',\n",
       " 'Мурманск',\n",
       " 'Набережные Челны',\n",
       " 'Нижневартовск',\n",
       " 'Нижний Новгород',\n",
       " 'Нижний Тагил',\n",
       " 'Новокузнецк',\n",
       " 'Новороссийск',\n",
       " 'Новосибирск',\n",
       " 'Омск',\n",
       " 'Оренбург',\n",
       " 'Орёл',\n",
       " 'Пенза',\n",
       " 'Пермь',\n",
       " 'Петрозаводск',\n",
       " 'Подольск',\n",
       " 'Ростов-на-Дону',\n",
       " 'Рязань',\n",
       " 'Самара',\n",
       " 'Санкт-Петербург',\n",
       " 'Саранск',\n",
       " 'Саратов',\n",
       " 'Севастополь',\n",
       " 'Смоленск',\n",
       " 'Сочи',\n",
       " 'Ставрополь',\n",
       " 'Стерлитамак',\n",
       " 'Сургут',\n",
       " 'Тамбов',\n",
       " 'Тверь',\n",
       " 'Тольятти',\n",
       " 'Томск',\n",
       " 'Тула',\n",
       " 'Тюмень',\n",
       " 'Улан-Удэ',\n",
       " 'Ульяновск',\n",
       " 'Уфа',\n",
       " 'Хабаровск',\n",
       " 'Химки',\n",
       " 'Чебоксары',\n",
       " 'Челябинск',\n",
       " 'Череповец',\n",
       " 'Чита',\n",
       " 'Якутск',\n",
       " 'Ярославль']"
      ]
     },
     "execution_count": 8,
     "metadata": {},
     "output_type": "execute_result"
    }
   ],
   "source": [
    "#Проверка на неявные дубликаты\n",
    "sorted(df_users['city'].unique())"
   ]
  },
  {
   "cell_type": "markdown",
   "id": "85df205c",
   "metadata": {},
   "source": [
    "Аномалий и неявных дубликатов не выявлено в данных"
   ]
  },
  {
   "cell_type": "code",
   "execution_count": 9,
   "id": "725e9d09",
   "metadata": {},
   "outputs": [
    {
     "data": {
      "text/plain": [
       "74              Якутск\n",
       "332             Москва\n",
       "52     Санкт-Петербург\n",
       "270      Нижневартовск\n",
       "301          Махачкала\n",
       "            ...       \n",
       "209               Омск\n",
       "419       Новороссийск\n",
       "228    Нижний Новгород\n",
       "265               Омск\n",
       "323          Челябинск\n",
       "Name: city, Length: 100, dtype: object"
      ]
     },
     "execution_count": 9,
     "metadata": {},
     "output_type": "execute_result"
    }
   ],
   "source": [
    "# Просто выборочно посмотрим на города\n",
    "df_users['city'].sample(100)"
   ]
  },
  {
   "cell_type": "code",
   "execution_count": 10,
   "id": "7fa15310",
   "metadata": {},
   "outputs": [
    {
     "data": {
      "text/plain": [
       "<AxesSubplot:>"
      ]
     },
     "execution_count": 10,
     "metadata": {},
     "output_type": "execute_result"
    },
    {
     "data": {
      "image/png": "[encoded data removed]",
      "text/plain": [
       "<Figure size 432x288 with 1 Axes>"
      ]
     },
     "metadata": {
      "needs_background": "light"
     },
     "output_type": "display_data"
    }
   ],
   "source": [
    "df_calls.duration.hist(bins=50)"
   ]
  },
  {
   "cell_type": "code",
   "execution_count": 11,
   "id": "367d1470",
   "metadata": {},
   "outputs": [
    {
     "data": {
      "text/plain": [
       "<AxesSubplot:>"
      ]
     },
     "execution_count": 11,
     "metadata": {},
     "output_type": "execute_result"
    },
    {
     "data": {
      "image/png": "[encoded data removed]",
      "text/plain": [
       "<Figure size 1080x360 with 1 Axes>"
      ]
     },
     "metadata": {
      "needs_background": "light"
     },
     "output_type": "display_data"
    }
   ],
   "source": [
    "#Увеличим масштаб\n",
    "df_calls.duration.hist(bins=50, range=(0,5), figsize=(15,5))"
   ]
  },
  {
   "cell_type": "code",
   "execution_count": 12,
   "id": "01b97e8a",
   "metadata": {},
   "outputs": [
    {
     "data": {
      "text/plain": [
       "<AxesSubplot:>"
      ]
     },
     "execution_count": 12,
     "metadata": {},
     "output_type": "execute_result"
    },
    {
     "data": {
      "image/png": "[encoded data removed]",
      "text/plain": [
       "<Figure size 432x288 with 1 Axes>"
      ]
     },
     "metadata": {
      "needs_background": "light"
     },
     "output_type": "display_data"
    }
   ],
   "source": [
    "df_calls.boxplot('duration')"
   ]
  },
  {
   "cell_type": "markdown",
   "id": "cb811073",
   "metadata": {},
   "source": [
    "В распределении длительности звонков виден пик около нуля, что, кажется, не является ошибкой, т.к. звонок может прерваться моментально. Они явля\n",
    "ются легитимными по условию задачи.\n",
    "Есть аномальные длинные звонки в таблице df_calls (выбросы), они могут исказить статистику. Уберем звонки длиннее 25 минут."
   ]
  },
  {
   "cell_type": "markdown",
   "id": "0c3dd54e",
   "metadata": {},
   "source": [
    "\n"
   ]
  },
  {
   "cell_type": "code",
   "execution_count": 13,
   "id": "166c179f",
   "metadata": {},
   "outputs": [],
   "source": [
    "#df_calls = df_calls[df_calls.duration < 25]"
   ]
  },
  {
   "cell_type": "code",
   "execution_count": 14,
   "id": "e9932386",
   "metadata": {},
   "outputs": [
    {
     "data": {
      "text/plain": [
       "<AxesSubplot:>"
      ]
     },
     "execution_count": 14,
     "metadata": {},
     "output_type": "execute_result"
    },
    {
     "data": {
      "image/png": "[encoded data removed]",
      "text/plain": [
       "<Figure size 432x288 with 1 Axes>"
      ]
     },
     "metadata": {
      "needs_background": "light"
     },
     "output_type": "display_data"
    }
   ],
   "source": [
    "df_internet.mb_used.hist(bins=50)"
   ]
  },
  {
   "cell_type": "code",
   "execution_count": 15,
   "id": "a895f16a",
   "metadata": {},
   "outputs": [
    {
     "data": {
      "text/plain": [
       "<AxesSubplot:>"
      ]
     },
     "execution_count": 15,
     "metadata": {},
     "output_type": "execute_result"
    },
    {
     "data": {
      "image/png": "[encoded data removed]",
      "text/plain": [
       "<Figure size 1080x360 with 1 Axes>"
      ]
     },
     "metadata": {
      "needs_background": "light"
     },
     "output_type": "display_data"
    }
   ],
   "source": [
    "#Увеличим масштаб\n",
    "df_internet.mb_used.hist(bins=50, range=(0,250), figsize=(15,5))"
   ]
  },
  {
   "cell_type": "code",
   "execution_count": 16,
   "id": "0db695c4",
   "metadata": {},
   "outputs": [
    {
     "data": {
      "text/plain": [
       "<AxesSubplot:>"
      ]
     },
     "execution_count": 16,
     "metadata": {},
     "output_type": "execute_result"
    },
    {
     "data": {
      "image/png": "[encoded data removed]",
      "text/plain": [
       "<Figure size 432x288 with 1 Axes>"
      ]
     },
     "metadata": {
      "needs_background": "light"
     },
     "output_type": "display_data"
    }
   ],
   "source": [
    "df_internet.boxplot('mb_used')"
   ]
  },
  {
   "cell_type": "markdown",
   "id": "2f272247",
   "metadata": {},
   "source": [
    "Есть аномальное большое количество потребления интернета, которое может исказить выводы. Уберем из выборки потребление выше 1250 Мб."
   ]
  },
  {
   "cell_type": "code",
   "execution_count": 17,
   "id": "6d1fe5c1",
   "metadata": {},
   "outputs": [],
   "source": [
    "df_internet = df_internet[df_internet.mb_used < 1250]"
   ]
  },
  {
   "cell_type": "markdown",
   "id": "b1018e14",
   "metadata": {},
   "source": [
    "### Изменение типов данных.\n",
    "Нужные типы установлены на этапе чтения файла\n"
   ]
  },
  {
   "cell_type": "markdown",
   "id": "4d4ca769",
   "metadata": {},
   "source": [
    "## Предобработка данных."
   ]
  },
  {
   "cell_type": "markdown",
   "id": "44930a87",
   "metadata": {},
   "source": [
    "### Удаление дубликатов.\n",
    "Можно удалить только явные, т.к. неявных здесь быть не может"
   ]
  },
  {
   "cell_type": "code",
   "execution_count": 18,
   "id": "30906149",
   "metadata": {},
   "outputs": [],
   "source": [
    "df_calls.drop_duplicates(inplace=True)\n",
    "df_internet.drop_duplicates(inplace=True)\n",
    "df_messages.drop_duplicates(inplace=True)"
   ]
  },
  {
   "cell_type": "markdown",
   "id": "c93059d5",
   "metadata": {},
   "source": [
    "### Расчеты и округления\n",
    "\n",
    "Посчитайте для каждого пользователя:\n",
    "* количество сделанных звонков и израсходованных минут разговора по месяцам;\n",
    "* количество отправленных сообщений по месяцам;\n",
    "* объем израсходованного интернет-трафика по месяцам;\n",
    "* помесячную выручку с каждого пользователя (вычтите бесплатный лимит из суммарного количества звонков, сообщений и интернет-трафика; остаток умножьте на значение из тарифного плана; прибавьте абонентскую плату, соответствующую тарифному плану)\n",
    "\n",
    "**Примечание:**\n",
    "«Мегалайн» всегда округляет секунды до минут, а мегабайты — до гигабайт. Каждый звонок округляется отдельно: даже если он длился всего 1 секунду, будет засчитан как 1 минута.\n",
    "Для веб-трафика отдельные сессии не считаются. Вместо этого общая сумма за месяц округляется в бо́льшую сторону. Если абонент использует 1025 мегабайт в этом месяце, с него возьмут плату за 2 гигабайта."
   ]
  },
  {
   "cell_type": "code",
   "execution_count": 19,
   "id": "e9dfde4a",
   "metadata": {},
   "outputs": [
    {
     "data": {
      "text/plain": [
       "'Date period in calls dataset: 01/01/2018 - 12/31/2018'"
      ]
     },
     "metadata": {},
     "output_type": "display_data"
    },
    {
     "data": {
      "text/plain": [
       "'Date period in internet dataset: 01/01/2018 - 12/31/2018'"
      ]
     },
     "metadata": {},
     "output_type": "display_data"
    },
    {
     "data": {
      "text/plain": [
       "'Date period in messages dataset: 01/02/2018 - 12/31/2018'"
      ]
     },
     "metadata": {},
     "output_type": "display_data"
    }
   ],
   "source": [
    "#Проверка периода\n",
    "display(\"Date period in calls dataset: \" + df_calls.call_date.min().strftime(\"%m/%d/%Y\") + \" - \" + df_calls.call_date.max().strftime(\"%m/%d/%Y\"))\n",
    "display(\"Date period in internet dataset: \" + df_internet.session_date.min().strftime(\"%m/%d/%Y\") + \" - \" + df_internet.session_date.max().strftime(\"%m/%d/%Y\"))\n",
    "display(\"Date period in messages dataset: \" + df_messages.message_date.min().strftime(\"%m/%d/%Y\") + \" - \" + df_messages.message_date.max().strftime(\"%m/%d/%Y\"))"
   ]
  },
  {
   "cell_type": "markdown",
   "id": "63bbc4a0",
   "metadata": {},
   "source": [
    "Все данные за 2018 год, поэтому по году можно не группировать"
   ]
  },
  {
   "cell_type": "code",
   "execution_count": 20,
   "id": "6041ee8c",
   "metadata": {},
   "outputs": [
    {
     "data": {
      "text/html": [
       "<div>\n",
       "<style scoped>\n",
       "    .dataframe tbody tr th:only-of-type {\n",
       "        vertical-align: middle;\n",
       "    }\n",
       "\n",
       "    .dataframe tbody tr th {\n",
       "        vertical-align: top;\n",
       "    }\n",
       "\n",
       "    .dataframe thead th {\n",
       "        text-align: right;\n",
       "    }\n",
       "</style>\n",
       "<table border=\"1\" class=\"dataframe\">\n",
       "  <thead>\n",
       "    <tr style=\"text-align: right;\">\n",
       "      <th></th>\n",
       "      <th>user_id</th>\n",
       "      <th>month</th>\n",
       "      <th>calls_count</th>\n",
       "      <th>duration</th>\n",
       "    </tr>\n",
       "  </thead>\n",
       "  <tbody>\n",
       "    <tr>\n",
       "      <th>0</th>\n",
       "      <td>1000</td>\n",
       "      <td>5</td>\n",
       "      <td>22</td>\n",
       "      <td>159.0</td>\n",
       "    </tr>\n",
       "    <tr>\n",
       "      <th>1</th>\n",
       "      <td>1000</td>\n",
       "      <td>6</td>\n",
       "      <td>43</td>\n",
       "      <td>172.0</td>\n",
       "    </tr>\n",
       "    <tr>\n",
       "      <th>2</th>\n",
       "      <td>1000</td>\n",
       "      <td>7</td>\n",
       "      <td>47</td>\n",
       "      <td>340.0</td>\n",
       "    </tr>\n",
       "    <tr>\n",
       "      <th>3</th>\n",
       "      <td>1000</td>\n",
       "      <td>8</td>\n",
       "      <td>52</td>\n",
       "      <td>408.0</td>\n",
       "    </tr>\n",
       "    <tr>\n",
       "      <th>4</th>\n",
       "      <td>1000</td>\n",
       "      <td>9</td>\n",
       "      <td>58</td>\n",
       "      <td>466.0</td>\n",
       "    </tr>\n",
       "    <tr>\n",
       "      <th>...</th>\n",
       "      <td>...</td>\n",
       "      <td>...</td>\n",
       "      <td>...</td>\n",
       "      <td>...</td>\n",
       "    </tr>\n",
       "    <tr>\n",
       "      <th>3169</th>\n",
       "      <td>1498</td>\n",
       "      <td>10</td>\n",
       "      <td>41</td>\n",
       "      <td>247.0</td>\n",
       "    </tr>\n",
       "    <tr>\n",
       "      <th>3170</th>\n",
       "      <td>1499</td>\n",
       "      <td>9</td>\n",
       "      <td>9</td>\n",
       "      <td>70.0</td>\n",
       "    </tr>\n",
       "    <tr>\n",
       "      <th>3171</th>\n",
       "      <td>1499</td>\n",
       "      <td>10</td>\n",
       "      <td>68</td>\n",
       "      <td>449.0</td>\n",
       "    </tr>\n",
       "    <tr>\n",
       "      <th>3172</th>\n",
       "      <td>1499</td>\n",
       "      <td>11</td>\n",
       "      <td>74</td>\n",
       "      <td>612.0</td>\n",
       "    </tr>\n",
       "    <tr>\n",
       "      <th>3173</th>\n",
       "      <td>1499</td>\n",
       "      <td>12</td>\n",
       "      <td>69</td>\n",
       "      <td>492.0</td>\n",
       "    </tr>\n",
       "  </tbody>\n",
       "</table>\n",
       "<p>3174 rows × 4 columns</p>\n",
       "</div>"
      ],
      "text/plain": [
       "      user_id  month  calls_count  duration\n",
       "0        1000      5           22     159.0\n",
       "1        1000      6           43     172.0\n",
       "2        1000      7           47     340.0\n",
       "3        1000      8           52     408.0\n",
       "4        1000      9           58     466.0\n",
       "...       ...    ...          ...       ...\n",
       "3169     1498     10           41     247.0\n",
       "3170     1499      9            9      70.0\n",
       "3171     1499     10           68     449.0\n",
       "3172     1499     11           74     612.0\n",
       "3173     1499     12           69     492.0\n",
       "\n",
       "[3174 rows x 4 columns]"
      ]
     },
     "execution_count": 20,
     "metadata": {},
     "output_type": "execute_result"
    }
   ],
   "source": [
    "#Округляем каждый звонок до минут в большую сторону, меняем тип, группируем\n",
    "df_calls['duration'] = np.ceil(df_calls['duration'])\n",
    "df_calls['duration'] = df_calls['duration'].astype('int8')\n",
    "df_calls['month'] = df_calls.call_date.dt.month\n",
    "\n",
    "#df_calls_grouped = df_calls.groupby(by=['user_id','call_month'])['duration'].agg(['count', 'sum'])\n",
    "df_calls_grouped = (df_calls\n",
    "                        .pivot_table(index=['user_id','month'], values='duration', aggfunc=['count', 'sum'])\n",
    "                        .reset_index()\n",
    "                   )\n",
    "df_calls_grouped.columns = ['user_id', 'month', 'calls_count', 'duration']\n",
    "df_calls_grouped"
   ]
  },
  {
   "cell_type": "code",
   "execution_count": 21,
   "id": "ea499b87",
   "metadata": {},
   "outputs": [
    {
     "data": {
      "text/html": [
       "<div>\n",
       "<style scoped>\n",
       "    .dataframe tbody tr th:only-of-type {\n",
       "        vertical-align: middle;\n",
       "    }\n",
       "\n",
       "    .dataframe tbody tr th {\n",
       "        vertical-align: top;\n",
       "    }\n",
       "\n",
       "    .dataframe thead th {\n",
       "        text-align: right;\n",
       "    }\n",
       "</style>\n",
       "<table border=\"1\" class=\"dataframe\">\n",
       "  <thead>\n",
       "    <tr style=\"text-align: right;\">\n",
       "      <th></th>\n",
       "      <th>user_id</th>\n",
       "      <th>month</th>\n",
       "      <th>message_count</th>\n",
       "    </tr>\n",
       "  </thead>\n",
       "  <tbody>\n",
       "    <tr>\n",
       "      <th>0</th>\n",
       "      <td>1000</td>\n",
       "      <td>5</td>\n",
       "      <td>22</td>\n",
       "    </tr>\n",
       "    <tr>\n",
       "      <th>1</th>\n",
       "      <td>1000</td>\n",
       "      <td>6</td>\n",
       "      <td>60</td>\n",
       "    </tr>\n",
       "    <tr>\n",
       "      <th>2</th>\n",
       "      <td>1000</td>\n",
       "      <td>7</td>\n",
       "      <td>75</td>\n",
       "    </tr>\n",
       "    <tr>\n",
       "      <th>3</th>\n",
       "      <td>1000</td>\n",
       "      <td>8</td>\n",
       "      <td>81</td>\n",
       "    </tr>\n",
       "    <tr>\n",
       "      <th>4</th>\n",
       "      <td>1000</td>\n",
       "      <td>9</td>\n",
       "      <td>57</td>\n",
       "    </tr>\n",
       "    <tr>\n",
       "      <th>...</th>\n",
       "      <td>...</td>\n",
       "      <td>...</td>\n",
       "      <td>...</td>\n",
       "    </tr>\n",
       "    <tr>\n",
       "      <th>2712</th>\n",
       "      <td>1498</td>\n",
       "      <td>10</td>\n",
       "      <td>42</td>\n",
       "    </tr>\n",
       "    <tr>\n",
       "      <th>2713</th>\n",
       "      <td>1499</td>\n",
       "      <td>9</td>\n",
       "      <td>11</td>\n",
       "    </tr>\n",
       "    <tr>\n",
       "      <th>2714</th>\n",
       "      <td>1499</td>\n",
       "      <td>10</td>\n",
       "      <td>48</td>\n",
       "    </tr>\n",
       "    <tr>\n",
       "      <th>2715</th>\n",
       "      <td>1499</td>\n",
       "      <td>11</td>\n",
       "      <td>59</td>\n",
       "    </tr>\n",
       "    <tr>\n",
       "      <th>2716</th>\n",
       "      <td>1499</td>\n",
       "      <td>12</td>\n",
       "      <td>66</td>\n",
       "    </tr>\n",
       "  </tbody>\n",
       "</table>\n",
       "<p>2717 rows × 3 columns</p>\n",
       "</div>"
      ],
      "text/plain": [
       "      user_id  month  message_count\n",
       "0        1000      5             22\n",
       "1        1000      6             60\n",
       "2        1000      7             75\n",
       "3        1000      8             81\n",
       "4        1000      9             57\n",
       "...       ...    ...            ...\n",
       "2712     1498     10             42\n",
       "2713     1499      9             11\n",
       "2714     1499     10             48\n",
       "2715     1499     11             59\n",
       "2716     1499     12             66\n",
       "\n",
       "[2717 rows x 3 columns]"
      ]
     },
     "execution_count": 21,
     "metadata": {},
     "output_type": "execute_result"
    }
   ],
   "source": [
    "df_messages['month'] = df_messages.message_date.dt.month\n",
    "df_messages_grouped = df_messages.groupby(by=['user_id','month'])['id'].count().reset_index()\n",
    "df_messages_grouped.rename(columns={'id' : 'message_count'}, inplace=True)\n",
    "df_messages_grouped"
   ]
  },
  {
   "cell_type": "code",
   "execution_count": 22,
   "id": "c0502b42",
   "metadata": {
    "scrolled": true
   },
   "outputs": [
    {
     "data": {
      "text/html": [
       "<div>\n",
       "<style scoped>\n",
       "    .dataframe tbody tr th:only-of-type {\n",
       "        vertical-align: middle;\n",
       "    }\n",
       "\n",
       "    .dataframe tbody tr th {\n",
       "        vertical-align: top;\n",
       "    }\n",
       "\n",
       "    .dataframe thead th {\n",
       "        text-align: right;\n",
       "    }\n",
       "</style>\n",
       "<table border=\"1\" class=\"dataframe\">\n",
       "  <thead>\n",
       "    <tr style=\"text-align: right;\">\n",
       "      <th></th>\n",
       "      <th>user_id</th>\n",
       "      <th>month</th>\n",
       "      <th>sum</th>\n",
       "      <th>gb_used</th>\n",
       "    </tr>\n",
       "  </thead>\n",
       "  <tbody>\n",
       "    <tr>\n",
       "      <th>0</th>\n",
       "      <td>1000</td>\n",
       "      <td>5</td>\n",
       "      <td>2253.49</td>\n",
       "      <td>3.0</td>\n",
       "    </tr>\n",
       "    <tr>\n",
       "      <th>1</th>\n",
       "      <td>1000</td>\n",
       "      <td>6</td>\n",
       "      <td>23233.77</td>\n",
       "      <td>23.0</td>\n",
       "    </tr>\n",
       "    <tr>\n",
       "      <th>2</th>\n",
       "      <td>1000</td>\n",
       "      <td>7</td>\n",
       "      <td>14003.64</td>\n",
       "      <td>14.0</td>\n",
       "    </tr>\n",
       "    <tr>\n",
       "      <th>3</th>\n",
       "      <td>1000</td>\n",
       "      <td>8</td>\n",
       "      <td>14055.93</td>\n",
       "      <td>14.0</td>\n",
       "    </tr>\n",
       "    <tr>\n",
       "      <th>4</th>\n",
       "      <td>1000</td>\n",
       "      <td>9</td>\n",
       "      <td>14568.91</td>\n",
       "      <td>15.0</td>\n",
       "    </tr>\n",
       "    <tr>\n",
       "      <th>...</th>\n",
       "      <td>...</td>\n",
       "      <td>...</td>\n",
       "      <td>...</td>\n",
       "      <td>...</td>\n",
       "    </tr>\n",
       "    <tr>\n",
       "      <th>3198</th>\n",
       "      <td>1498</td>\n",
       "      <td>10</td>\n",
       "      <td>20579.36</td>\n",
       "      <td>21.0</td>\n",
       "    </tr>\n",
       "    <tr>\n",
       "      <th>3199</th>\n",
       "      <td>1499</td>\n",
       "      <td>9</td>\n",
       "      <td>1845.75</td>\n",
       "      <td>2.0</td>\n",
       "    </tr>\n",
       "    <tr>\n",
       "      <th>3200</th>\n",
       "      <td>1499</td>\n",
       "      <td>10</td>\n",
       "      <td>17788.51</td>\n",
       "      <td>18.0</td>\n",
       "    </tr>\n",
       "    <tr>\n",
       "      <th>3201</th>\n",
       "      <td>1499</td>\n",
       "      <td>11</td>\n",
       "      <td>16675.38</td>\n",
       "      <td>17.0</td>\n",
       "    </tr>\n",
       "    <tr>\n",
       "      <th>3202</th>\n",
       "      <td>1499</td>\n",
       "      <td>12</td>\n",
       "      <td>13055.58</td>\n",
       "      <td>13.0</td>\n",
       "    </tr>\n",
       "  </tbody>\n",
       "</table>\n",
       "<p>3203 rows × 4 columns</p>\n",
       "</div>"
      ],
      "text/plain": [
       "      user_id  month       sum  gb_used\n",
       "0        1000      5   2253.49      3.0\n",
       "1        1000      6  23233.77     23.0\n",
       "2        1000      7  14003.64     14.0\n",
       "3        1000      8  14055.93     14.0\n",
       "4        1000      9  14568.91     15.0\n",
       "...       ...    ...       ...      ...\n",
       "3198     1498     10  20579.36     21.0\n",
       "3199     1499      9   1845.75      2.0\n",
       "3200     1499     10  17788.51     18.0\n",
       "3201     1499     11  16675.38     17.0\n",
       "3202     1499     12  13055.58     13.0\n",
       "\n",
       "[3203 rows x 4 columns]"
      ]
     },
     "metadata": {},
     "output_type": "display_data"
    }
   ],
   "source": [
    "df_internet['month'] = df_internet.session_date.dt.month\n",
    "df_internet_grouped = (df_internet\n",
    "                       .groupby(by=['user_id','month'])['mb_used'].agg(['sum'])\n",
    "                       .reset_index()\n",
    "                      )\n",
    "#Округление до Гб в разрезе каждого месяца\n",
    "df_internet_grouped['gb_used'] = np.ceil(df_internet_grouped['sum'] / 1024)\n",
    "display(df_internet_grouped)\n",
    "\n",
    "#В тарифы добавим колонку для последующего сравнения в Гб\n",
    "df_tariffs['gb_per_month_included'] =  df_tariffs['mb_per_month_included'] / 1024\n"
   ]
  },
  {
   "cell_type": "code",
   "execution_count": 23,
   "id": "16e8e32b",
   "metadata": {},
   "outputs": [
    {
     "data": {
      "text/plain": [
       "'df_calls_grouped :3174'"
      ]
     },
     "metadata": {},
     "output_type": "display_data"
    },
    {
     "data": {
      "text/plain": [
       "'df_messages_grouped :2717'"
      ]
     },
     "metadata": {},
     "output_type": "display_data"
    },
    {
     "data": {
      "text/plain": [
       "'df_internet_grouped :3203'"
      ]
     },
     "metadata": {},
     "output_type": "display_data"
    }
   ],
   "source": [
    "#Проверим длину результирующих таблиц\n",
    "display(\"df_calls_grouped :\" + str(len(df_calls_grouped)))\n",
    "display(\"df_messages_grouped :\" + str(len(df_messages_grouped)))\n",
    "display(\"df_internet_grouped :\" + str(len(df_internet_grouped)))"
   ]
  },
  {
   "cell_type": "code",
   "execution_count": 24,
   "id": "38d21c60",
   "metadata": {},
   "outputs": [
    {
     "data": {
      "text/html": [
       "<div>\n",
       "<style scoped>\n",
       "    .dataframe tbody tr th:only-of-type {\n",
       "        vertical-align: middle;\n",
       "    }\n",
       "\n",
       "    .dataframe tbody tr th {\n",
       "        vertical-align: top;\n",
       "    }\n",
       "\n",
       "    .dataframe thead th {\n",
       "        text-align: right;\n",
       "    }\n",
       "</style>\n",
       "<table border=\"1\" class=\"dataframe\">\n",
       "  <thead>\n",
       "    <tr style=\"text-align: right;\">\n",
       "      <th></th>\n",
       "      <th>user_id</th>\n",
       "      <th>month</th>\n",
       "      <th>calls_count</th>\n",
       "      <th>duration</th>\n",
       "      <th>message_count</th>\n",
       "      <th>sum</th>\n",
       "      <th>gb_used</th>\n",
       "      <th>age</th>\n",
       "      <th>churn_date</th>\n",
       "      <th>city</th>\n",
       "      <th>...</th>\n",
       "      <th>tariff</th>\n",
       "      <th>messages_included</th>\n",
       "      <th>mb_per_month_included</th>\n",
       "      <th>minutes_included</th>\n",
       "      <th>rub_monthly_fee</th>\n",
       "      <th>rub_per_gb</th>\n",
       "      <th>rub_per_message</th>\n",
       "      <th>rub_per_minute</th>\n",
       "      <th>gb_per_month_included</th>\n",
       "      <th>fee</th>\n",
       "    </tr>\n",
       "  </thead>\n",
       "  <tbody>\n",
       "    <tr>\n",
       "      <th>0</th>\n",
       "      <td>1000</td>\n",
       "      <td>5</td>\n",
       "      <td>22.0</td>\n",
       "      <td>159.0</td>\n",
       "      <td>22.0</td>\n",
       "      <td>2253.49</td>\n",
       "      <td>3.0</td>\n",
       "      <td>52</td>\n",
       "      <td>2022-06-05</td>\n",
       "      <td>Краснодар</td>\n",
       "      <td>...</td>\n",
       "      <td>ultra</td>\n",
       "      <td>1000</td>\n",
       "      <td>30720</td>\n",
       "      <td>3000</td>\n",
       "      <td>1950</td>\n",
       "      <td>150</td>\n",
       "      <td>1</td>\n",
       "      <td>1</td>\n",
       "      <td>30.0</td>\n",
       "      <td>1950.0</td>\n",
       "    </tr>\n",
       "    <tr>\n",
       "      <th>1</th>\n",
       "      <td>1000</td>\n",
       "      <td>6</td>\n",
       "      <td>43.0</td>\n",
       "      <td>172.0</td>\n",
       "      <td>60.0</td>\n",
       "      <td>23233.77</td>\n",
       "      <td>23.0</td>\n",
       "      <td>52</td>\n",
       "      <td>2022-06-05</td>\n",
       "      <td>Краснодар</td>\n",
       "      <td>...</td>\n",
       "      <td>ultra</td>\n",
       "      <td>1000</td>\n",
       "      <td>30720</td>\n",
       "      <td>3000</td>\n",
       "      <td>1950</td>\n",
       "      <td>150</td>\n",
       "      <td>1</td>\n",
       "      <td>1</td>\n",
       "      <td>30.0</td>\n",
       "      <td>1950.0</td>\n",
       "    </tr>\n",
       "    <tr>\n",
       "      <th>2</th>\n",
       "      <td>1000</td>\n",
       "      <td>7</td>\n",
       "      <td>47.0</td>\n",
       "      <td>340.0</td>\n",
       "      <td>75.0</td>\n",
       "      <td>14003.64</td>\n",
       "      <td>14.0</td>\n",
       "      <td>52</td>\n",
       "      <td>2022-06-05</td>\n",
       "      <td>Краснодар</td>\n",
       "      <td>...</td>\n",
       "      <td>ultra</td>\n",
       "      <td>1000</td>\n",
       "      <td>30720</td>\n",
       "      <td>3000</td>\n",
       "      <td>1950</td>\n",
       "      <td>150</td>\n",
       "      <td>1</td>\n",
       "      <td>1</td>\n",
       "      <td>30.0</td>\n",
       "      <td>1950.0</td>\n",
       "    </tr>\n",
       "    <tr>\n",
       "      <th>3</th>\n",
       "      <td>1000</td>\n",
       "      <td>8</td>\n",
       "      <td>52.0</td>\n",
       "      <td>408.0</td>\n",
       "      <td>81.0</td>\n",
       "      <td>14055.93</td>\n",
       "      <td>14.0</td>\n",
       "      <td>52</td>\n",
       "      <td>2022-06-05</td>\n",
       "      <td>Краснодар</td>\n",
       "      <td>...</td>\n",
       "      <td>ultra</td>\n",
       "      <td>1000</td>\n",
       "      <td>30720</td>\n",
       "      <td>3000</td>\n",
       "      <td>1950</td>\n",
       "      <td>150</td>\n",
       "      <td>1</td>\n",
       "      <td>1</td>\n",
       "      <td>30.0</td>\n",
       "      <td>1950.0</td>\n",
       "    </tr>\n",
       "    <tr>\n",
       "      <th>4</th>\n",
       "      <td>1000</td>\n",
       "      <td>9</td>\n",
       "      <td>58.0</td>\n",
       "      <td>466.0</td>\n",
       "      <td>57.0</td>\n",
       "      <td>14568.91</td>\n",
       "      <td>15.0</td>\n",
       "      <td>52</td>\n",
       "      <td>2022-06-05</td>\n",
       "      <td>Краснодар</td>\n",
       "      <td>...</td>\n",
       "      <td>ultra</td>\n",
       "      <td>1000</td>\n",
       "      <td>30720</td>\n",
       "      <td>3000</td>\n",
       "      <td>1950</td>\n",
       "      <td>150</td>\n",
       "      <td>1</td>\n",
       "      <td>1</td>\n",
       "      <td>30.0</td>\n",
       "      <td>1950.0</td>\n",
       "    </tr>\n",
       "    <tr>\n",
       "      <th>...</th>\n",
       "      <td>...</td>\n",
       "      <td>...</td>\n",
       "      <td>...</td>\n",
       "      <td>...</td>\n",
       "      <td>...</td>\n",
       "      <td>...</td>\n",
       "      <td>...</td>\n",
       "      <td>...</td>\n",
       "      <td>...</td>\n",
       "      <td>...</td>\n",
       "      <td>...</td>\n",
       "      <td>...</td>\n",
       "      <td>...</td>\n",
       "      <td>...</td>\n",
       "      <td>...</td>\n",
       "      <td>...</td>\n",
       "      <td>...</td>\n",
       "      <td>...</td>\n",
       "      <td>...</td>\n",
       "      <td>...</td>\n",
       "      <td>...</td>\n",
       "    </tr>\n",
       "    <tr>\n",
       "      <th>3209</th>\n",
       "      <td>1489</td>\n",
       "      <td>9</td>\n",
       "      <td>0.0</td>\n",
       "      <td>0.0</td>\n",
       "      <td>32.0</td>\n",
       "      <td>17206.30</td>\n",
       "      <td>17.0</td>\n",
       "      <td>35</td>\n",
       "      <td>2022-06-05</td>\n",
       "      <td>Санкт-Петербург</td>\n",
       "      <td>...</td>\n",
       "      <td>smart</td>\n",
       "      <td>50</td>\n",
       "      <td>15360</td>\n",
       "      <td>500</td>\n",
       "      <td>550</td>\n",
       "      <td>200</td>\n",
       "      <td>3</td>\n",
       "      <td>3</td>\n",
       "      <td>15.0</td>\n",
       "      <td>950.0</td>\n",
       "    </tr>\n",
       "    <tr>\n",
       "      <th>3210</th>\n",
       "      <td>1489</td>\n",
       "      <td>10</td>\n",
       "      <td>0.0</td>\n",
       "      <td>0.0</td>\n",
       "      <td>21.0</td>\n",
       "      <td>19559.44</td>\n",
       "      <td>20.0</td>\n",
       "      <td>35</td>\n",
       "      <td>2022-06-05</td>\n",
       "      <td>Санкт-Петербург</td>\n",
       "      <td>...</td>\n",
       "      <td>smart</td>\n",
       "      <td>50</td>\n",
       "      <td>15360</td>\n",
       "      <td>500</td>\n",
       "      <td>550</td>\n",
       "      <td>200</td>\n",
       "      <td>3</td>\n",
       "      <td>3</td>\n",
       "      <td>15.0</td>\n",
       "      <td>1550.0</td>\n",
       "    </tr>\n",
       "    <tr>\n",
       "      <th>3211</th>\n",
       "      <td>1489</td>\n",
       "      <td>11</td>\n",
       "      <td>0.0</td>\n",
       "      <td>0.0</td>\n",
       "      <td>20.0</td>\n",
       "      <td>17491.56</td>\n",
       "      <td>18.0</td>\n",
       "      <td>35</td>\n",
       "      <td>2022-06-05</td>\n",
       "      <td>Санкт-Петербург</td>\n",
       "      <td>...</td>\n",
       "      <td>smart</td>\n",
       "      <td>50</td>\n",
       "      <td>15360</td>\n",
       "      <td>500</td>\n",
       "      <td>550</td>\n",
       "      <td>200</td>\n",
       "      <td>3</td>\n",
       "      <td>3</td>\n",
       "      <td>15.0</td>\n",
       "      <td>1150.0</td>\n",
       "    </tr>\n",
       "    <tr>\n",
       "      <th>3212</th>\n",
       "      <td>1489</td>\n",
       "      <td>12</td>\n",
       "      <td>0.0</td>\n",
       "      <td>0.0</td>\n",
       "      <td>35.0</td>\n",
       "      <td>17322.51</td>\n",
       "      <td>17.0</td>\n",
       "      <td>35</td>\n",
       "      <td>2022-06-05</td>\n",
       "      <td>Санкт-Петербург</td>\n",
       "      <td>...</td>\n",
       "      <td>smart</td>\n",
       "      <td>50</td>\n",
       "      <td>15360</td>\n",
       "      <td>500</td>\n",
       "      <td>550</td>\n",
       "      <td>200</td>\n",
       "      <td>3</td>\n",
       "      <td>3</td>\n",
       "      <td>15.0</td>\n",
       "      <td>950.0</td>\n",
       "    </tr>\n",
       "    <tr>\n",
       "      <th>3213</th>\n",
       "      <td>1476</td>\n",
       "      <td>4</td>\n",
       "      <td>0.0</td>\n",
       "      <td>0.0</td>\n",
       "      <td>0.0</td>\n",
       "      <td>530.78</td>\n",
       "      <td>1.0</td>\n",
       "      <td>50</td>\n",
       "      <td>2022-06-05</td>\n",
       "      <td>Москва</td>\n",
       "      <td>...</td>\n",
       "      <td>ultra</td>\n",
       "      <td>1000</td>\n",
       "      <td>30720</td>\n",
       "      <td>3000</td>\n",
       "      <td>1950</td>\n",
       "      <td>150</td>\n",
       "      <td>1</td>\n",
       "      <td>1</td>\n",
       "      <td>30.0</td>\n",
       "      <td>1950.0</td>\n",
       "    </tr>\n",
       "  </tbody>\n",
       "</table>\n",
       "<p>3214 rows × 23 columns</p>\n",
       "</div>"
      ],
      "text/plain": [
       "      user_id  month  calls_count  duration  message_count       sum  gb_used  \\\n",
       "0        1000      5         22.0     159.0           22.0   2253.49      3.0   \n",
       "1        1000      6         43.0     172.0           60.0  23233.77     23.0   \n",
       "2        1000      7         47.0     340.0           75.0  14003.64     14.0   \n",
       "3        1000      8         52.0     408.0           81.0  14055.93     14.0   \n",
       "4        1000      9         58.0     466.0           57.0  14568.91     15.0   \n",
       "...       ...    ...          ...       ...            ...       ...      ...   \n",
       "3209     1489      9          0.0       0.0           32.0  17206.30     17.0   \n",
       "3210     1489     10          0.0       0.0           21.0  19559.44     20.0   \n",
       "3211     1489     11          0.0       0.0           20.0  17491.56     18.0   \n",
       "3212     1489     12          0.0       0.0           35.0  17322.51     17.0   \n",
       "3213     1476      4          0.0       0.0            0.0    530.78      1.0   \n",
       "\n",
       "      age  churn_date             city  ... tariff messages_included  \\\n",
       "0      52  2022-06-05        Краснодар  ...  ultra              1000   \n",
       "1      52  2022-06-05        Краснодар  ...  ultra              1000   \n",
       "2      52  2022-06-05        Краснодар  ...  ultra              1000   \n",
       "3      52  2022-06-05        Краснодар  ...  ultra              1000   \n",
       "4      52  2022-06-05        Краснодар  ...  ultra              1000   \n",
       "...   ...         ...              ...  ...    ...               ...   \n",
       "3209   35  2022-06-05  Санкт-Петербург  ...  smart                50   \n",
       "3210   35  2022-06-05  Санкт-Петербург  ...  smart                50   \n",
       "3211   35  2022-06-05  Санкт-Петербург  ...  smart                50   \n",
       "3212   35  2022-06-05  Санкт-Петербург  ...  smart                50   \n",
       "3213   50  2022-06-05           Москва  ...  ultra              1000   \n",
       "\n",
       "     mb_per_month_included minutes_included  rub_monthly_fee  rub_per_gb  \\\n",
       "0                    30720             3000             1950         150   \n",
       "1                    30720             3000             1950         150   \n",
       "2                    30720             3000             1950         150   \n",
       "3                    30720             3000             1950         150   \n",
       "4                    30720             3000             1950         150   \n",
       "...                    ...              ...              ...         ...   \n",
       "3209                 15360              500              550         200   \n",
       "3210                 15360              500              550         200   \n",
       "3211                 15360              500              550         200   \n",
       "3212                 15360              500              550         200   \n",
       "3213                 30720             3000             1950         150   \n",
       "\n",
       "      rub_per_message  rub_per_minute  gb_per_month_included     fee  \n",
       "0                   1               1                   30.0  1950.0  \n",
       "1                   1               1                   30.0  1950.0  \n",
       "2                   1               1                   30.0  1950.0  \n",
       "3                   1               1                   30.0  1950.0  \n",
       "4                   1               1                   30.0  1950.0  \n",
       "...               ...             ...                    ...     ...  \n",
       "3209                3               3                   15.0   950.0  \n",
       "3210                3               3                   15.0  1550.0  \n",
       "3211                3               3                   15.0  1150.0  \n",
       "3212                3               3                   15.0   950.0  \n",
       "3213                1               1                   30.0  1950.0  \n",
       "\n",
       "[3214 rows x 23 columns]"
      ]
     },
     "execution_count": 24,
     "metadata": {},
     "output_type": "execute_result"
    }
   ],
   "source": [
    "df_totals = (df_calls_grouped\n",
    "                  .merge(df_messages_grouped, on=['user_id', 'month'], how='outer')\n",
    "                  .merge(df_internet_grouped, on=['user_id', 'month'], how='outer')\n",
    "                  .merge(df_users, on='user_id', how='left')\n",
    "                  .merge(df_tariffs, on='tariff', how='left')\n",
    "                 )\n",
    "\n",
    "def calc_add_fee(row):\n",
    "    add_min_fee = 0\n",
    "    add_message_fee = 0\n",
    "    add_internet_fee = 0\n",
    "\n",
    "    if row['duration'] > row['minutes_included']:\n",
    "        add_min_fee = (row['duration'] - row['minutes_included']) * row['rub_per_minute']\n",
    "    if row['message_count'] > row['messages_included']:\n",
    "        add_message_fee = (row['message_count'] - row['messages_included']) * row['rub_per_message']\n",
    "    if row['gb_used'] > row['gb_per_month_included']:\n",
    "        add_internet_fee =  np.ceil((row['gb_used'] - row['gb_per_month_included'])) * row['rub_per_gb']\n",
    "    \n",
    "    return row['rub_monthly_fee'] + add_min_fee + add_message_fee + add_internet_fee\n",
    "\n",
    "df_totals['fee'] = df_totals.apply(calc_add_fee, axis=1)\n",
    "\n",
    "def create_row_date(row):\n",
    "    return datetime.date(2018, row['month'], 1) \n",
    "\n",
    "#Отфильтровываем строки за пределами тарифов\n",
    "#df_totals['row_date'] = df_totals.apply(create_row_date, axis=1) \n",
    "#df_totals = df_totals.query('reg_date <= row_date <=churn_date')\n",
    "\n",
    "df_totals.fillna(0, inplace=True)\n",
    "df_totals"
   ]
  },
  {
   "cell_type": "code",
   "execution_count": 25,
   "id": "f2f9c96d",
   "metadata": {},
   "outputs": [
    {
     "data": {
      "text/plain": [
       "3214"
      ]
     },
     "execution_count": 25,
     "metadata": {},
     "output_type": "execute_result"
    }
   ],
   "source": [
    "#Код ревьюера\n",
    "df_totals.shape[0]"
   ]
  },
  {
   "cell_type": "markdown",
   "id": "26b55561",
   "metadata": {},
   "source": [
    "## Исследовательский анализ"
   ]
  },
  {
   "cell_type": "code",
   "execution_count": 26,
   "id": "858117dc",
   "metadata": {},
   "outputs": [
    {
     "data": {
      "text/html": [
       "<div>\n",
       "<style scoped>\n",
       "    .dataframe tbody tr th:only-of-type {\n",
       "        vertical-align: middle;\n",
       "    }\n",
       "\n",
       "    .dataframe tbody tr th {\n",
       "        vertical-align: top;\n",
       "    }\n",
       "\n",
       "    .dataframe thead tr th {\n",
       "        text-align: left;\n",
       "    }\n",
       "\n",
       "    .dataframe thead tr:last-of-type th {\n",
       "        text-align: right;\n",
       "    }\n",
       "</style>\n",
       "<table border=\"1\" class=\"dataframe\">\n",
       "  <thead>\n",
       "    <tr>\n",
       "      <th></th>\n",
       "      <th colspan=\"3\" halign=\"left\">mean</th>\n",
       "      <th colspan=\"3\" halign=\"left\">median</th>\n",
       "    </tr>\n",
       "    <tr>\n",
       "      <th></th>\n",
       "      <th>duration</th>\n",
       "      <th>gb_used</th>\n",
       "      <th>message_count</th>\n",
       "      <th>duration</th>\n",
       "      <th>gb_used</th>\n",
       "      <th>message_count</th>\n",
       "    </tr>\n",
       "    <tr>\n",
       "      <th>tariff</th>\n",
       "      <th></th>\n",
       "      <th></th>\n",
       "      <th></th>\n",
       "      <th></th>\n",
       "      <th></th>\n",
       "      <th></th>\n",
       "    </tr>\n",
       "  </thead>\n",
       "  <tbody>\n",
       "    <tr>\n",
       "      <th>smart</th>\n",
       "      <td>417.934948</td>\n",
       "      <td>16.285778</td>\n",
       "      <td>33.384029</td>\n",
       "      <td>422.0</td>\n",
       "      <td>17.0</td>\n",
       "      <td>28.0</td>\n",
       "    </tr>\n",
       "    <tr>\n",
       "      <th>ultra</th>\n",
       "      <td>526.623350</td>\n",
       "      <td>19.181726</td>\n",
       "      <td>49.363452</td>\n",
       "      <td>518.0</td>\n",
       "      <td>19.0</td>\n",
       "      <td>38.0</td>\n",
       "    </tr>\n",
       "  </tbody>\n",
       "</table>\n",
       "</div>"
      ],
      "text/plain": [
       "              mean                            median                      \n",
       "          duration    gb_used message_count duration gb_used message_count\n",
       "tariff                                                                    \n",
       "smart   417.934948  16.285778     33.384029    422.0    17.0          28.0\n",
       "ultra   526.623350  19.181726     49.363452    518.0    19.0          38.0"
      ]
     },
     "metadata": {},
     "output_type": "display_data"
    },
    {
     "data": {
      "text/plain": [
       "array([[<AxesSubplot:title={'center':'gb_used'}>]], dtype=object)"
      ]
     },
     "execution_count": 26,
     "metadata": {},
     "output_type": "execute_result"
    },
    {
     "data": {
      "image/png": "[encoded data removed]",
      "text/plain": [
       "<Figure size 432x288 with 1 Axes>"
      ]
     },
     "metadata": {
      "needs_background": "light"
     },
     "output_type": "display_data"
    },
    {
     "data": {
      "image/png": "[encoded data removed]",
      "text/plain": [
       "<Figure size 432x288 with 1 Axes>"
      ]
     },
     "metadata": {
      "needs_background": "light"
     },
     "output_type": "display_data"
    },
    {
     "data": {
      "image/png": "[encoded data removed]",
      "text/plain": [
       "<Figure size 432x288 with 1 Axes>"
      ]
     },
     "metadata": {
      "needs_background": "light"
     },
     "output_type": "display_data"
    }
   ],
   "source": [
    "df_pivot = df_totals.pivot_table(index='tariff', values = ['duration', 'message_count', 'gb_used'], aggfunc=['mean', 'median'])\n",
    "display(df_pivot)\n",
    "df_smart = df_totals[df_totals.tariff == 'smart']\n",
    "df_ultra = df_totals[df_totals.tariff == 'ultra']\n",
    "\n",
    "#df_smart.rename(columns={'duration':'smart_duration', 'message_count':'smart_message_count', 'gb_used':'smart_gb_used'}, inplace=True)\n",
    "#df_ultra.rename(columns={'duration':'ultra_duration', 'message_count':'ultra_message_count', 'gb_used':'ultra_gb_used'}, inplace=True)\n",
    "\n",
    "ax = df_smart.hist(['duration'], bins=50, legend=True, alpha=0.8)\n",
    "df_ultra.hist(['duration'], bins=50, ax=ax, legend=True, alpha=0.8)\n",
    "#Не смог в легенде вывести различные тарифы\n",
    "\n",
    "ax = df_smart.hist(['message_count'], bins=50, legend=True, alpha=0.8)\n",
    "df_ultra.hist(['message_count'], bins=50, ax=ax, legend=True, alpha=0.8)\n",
    "\n",
    "\n",
    "ax = df_smart.hist(['gb_used'], bins=50, legend=True, alpha=0.8)\n",
    "df_ultra.hist(['gb_used'], bins=50, ax=ax, legend=True, alpha=0.8)\n"
   ]
  },
  {
   "cell_type": "markdown",
   "id": "cb7cc467",
   "metadata": {},
   "source": [
    "Видно, что в среднем абонент тарифа \"Смарт\" расходует 413 мин / мес, использует 16 Гб интернета и отправляет 38 сообщений.\n",
    "Для тарифа \"Ультра\" эти цифры составляют 538 мин/мес, 19 Гб и 61 сообщение.\n",
    "Медианные значения меньше, это означает, что есть существуют абоненты с показателями значительно выше средних по выборке (выборки скошены вправо). Распределение, отдаленно напоминающее нормальное  - звонки по тарифу \"Смарт\" и расход интернета по тарифу \"Ультра\""
   ]
  },
  {
   "cell_type": "code",
   "execution_count": 27,
   "id": "48494da7",
   "metadata": {},
   "outputs": [
    {
     "data": {
      "text/html": [
       "<div>\n",
       "<style scoped>\n",
       "    .dataframe tbody tr th:only-of-type {\n",
       "        vertical-align: middle;\n",
       "    }\n",
       "\n",
       "    .dataframe tbody tr th {\n",
       "        vertical-align: top;\n",
       "    }\n",
       "\n",
       "    .dataframe thead th {\n",
       "        text-align: right;\n",
       "    }\n",
       "</style>\n",
       "<table border=\"1\" class=\"dataframe\">\n",
       "  <thead>\n",
       "    <tr style=\"text-align: right;\">\n",
       "      <th></th>\n",
       "      <th>calls_mean</th>\n",
       "      <th>calls_variance</th>\n",
       "      <th>calls_std</th>\n",
       "      <th>messages_mean</th>\n",
       "      <th>messages_variance</th>\n",
       "      <th>messages_std</th>\n",
       "      <th>internet_mean</th>\n",
       "      <th>internet_variance</th>\n",
       "      <th>internet_std</th>\n",
       "      <th>fee_mean</th>\n",
       "    </tr>\n",
       "  </thead>\n",
       "  <tbody>\n",
       "    <tr>\n",
       "      <th>smart</th>\n",
       "      <td>417.934948</td>\n",
       "      <td>36203.066652</td>\n",
       "      <td>190.271035</td>\n",
       "      <td>33.384029</td>\n",
       "      <td>796.455483</td>\n",
       "      <td>28.221543</td>\n",
       "      <td>16.285778</td>\n",
       "      <td>32.855522</td>\n",
       "      <td>5.731974</td>\n",
       "      <td>1283.333782</td>\n",
       "    </tr>\n",
       "    <tr>\n",
       "      <th>ultra</th>\n",
       "      <td>526.623350</td>\n",
       "      <td>100771.223617</td>\n",
       "      <td>100771.223617</td>\n",
       "      <td>49.363452</td>\n",
       "      <td>2282.946075</td>\n",
       "      <td>2282.946075</td>\n",
       "      <td>19.181726</td>\n",
       "      <td>93.708092</td>\n",
       "      <td>93.708092</td>\n",
       "      <td>2057.512690</td>\n",
       "    </tr>\n",
       "  </tbody>\n",
       "</table>\n",
       "</div>"
      ],
      "text/plain": [
       "       calls_mean  calls_variance      calls_std  messages_mean  \\\n",
       "smart  417.934948    36203.066652     190.271035      33.384029   \n",
       "ultra  526.623350   100771.223617  100771.223617      49.363452   \n",
       "\n",
       "       messages_variance  messages_std  internet_mean  internet_variance  \\\n",
       "smart         796.455483     28.221543      16.285778          32.855522   \n",
       "ultra        2282.946075   2282.946075      19.181726          93.708092   \n",
       "\n",
       "       internet_std     fee_mean  \n",
       "smart      5.731974  1283.333782  \n",
       "ultra     93.708092  2057.512690  "
      ]
     },
     "execution_count": 27,
     "metadata": {},
     "output_type": "execute_result"
    }
   ],
   "source": [
    "df_stat = pd.DataFrame(index=['smart', 'ultra'],\n",
    "            data = {\n",
    "            'calls_mean':[df_smart['duration'].mean(), df_ultra['duration'].mean()],\n",
    "            'calls_variance':[np.var(df_smart['duration']), np.var(df_ultra['duration'])],\n",
    "            'calls_std':[np.std(df_smart['duration']), np.var(df_ultra['duration'])],\n",
    "                \n",
    "            'messages_mean':[df_smart['message_count'].mean(), df_ultra['message_count'].mean()],\n",
    "            'messages_variance':[np.var(df_smart['message_count']), np.var(df_ultra['message_count'])],\n",
    "            'messages_std':[np.std(df_smart['message_count']), np.var(df_ultra['message_count'])],\n",
    "\n",
    "            'internet_mean':[df_smart['gb_used'].mean(), df_ultra['gb_used'].mean()],\n",
    "            'internet_variance':[np.var(df_smart['gb_used']), np.var(df_ultra['gb_used'])],\n",
    "            'internet_std':[np.std(df_smart['gb_used']), np.var(df_ultra['gb_used'])],\n",
    "                \n",
    "            'fee_mean':[df_smart['fee'].mean(), df_ultra['fee'].mean()],\n",
    "\n",
    "            }\n",
    "            )\n",
    "df_stat"
   ]
  },
  {
   "cell_type": "markdown",
   "id": "8f847e77",
   "metadata": {},
   "source": [
    "Большинство пользователей не отправляют смс (особенно в тарифе \"Смарт\"), а также много пропущенных звонков. \n",
    "Абоненты тарифа Smart более однородны в использованных минутах звонков и стараются укладываться предоплаченные минуты, но многие выходят за пределы включенных 500 минут. Тогда как пользователи тарифа Ultra более разнообразны в этом отношении, но мало кто выходит за пределы предоплаченных 3000 минут. Аналогично в контексте использования интернета и отправки сообщений: у тарифа \"Смарт\" более однородная аудитория."
   ]
  },
  {
   "cell_type": "markdown",
   "id": "e8eb562c",
   "metadata": {},
   "source": [
    "## Проверка гипотез"
   ]
  },
  {
   "cell_type": "markdown",
   "id": "c5a5acbd",
   "metadata": {},
   "source": [
    "### Cредняя выручка пользователей тарифов «Ультра» и «Смарт» различаются\n",
    "Здесь нулевая гипотеза звучит так:\n",
    "* средняя выручка абонентов тарифов «Ультра» и «Смарт» равна\n",
    "\n",
    "Альтернативная:\n",
    "* средняя выручка абонентов тарифа «Ультра» отличается от средней выручки абонентов тарифа «Смарт» (двусторонняя)"
   ]
  },
  {
   "cell_type": "code",
   "execution_count": 31,
   "id": "844aa770",
   "metadata": {},
   "outputs": [
    {
     "name": "stdout",
     "output_type": "stream",
     "text": [
      "p-значение: 2.497642503312942e-161\n",
      "Отвергаем нулевую гипотезу\n"
     ]
    }
   ],
   "source": [
    "#Гипотеза о равенстве средних двух генеральных совокупностей\n",
    "alpha = .05\n",
    "results = st.ttest_ind(\n",
    "    df_smart['fee'], \n",
    "    df_ultra['fee'])\n",
    "\n",
    "print('p-значение:', results.pvalue)\n",
    "\n",
    "if results.pvalue < alpha:\n",
    "    print(\"Отвергаем нулевую гипотезу\")\n",
    "else:\n",
    "    print(\"Не получилось отвергнуть нулевую гипотезу\") "
   ]
  },
  {
   "cell_type": "markdown",
   "id": "1757478a",
   "metadata": {},
   "source": [
    "### Cредняя выручка пользователей из Москвы отличается от выручки пользователей из других регионов\n",
    "Здесь нулевая гипотеза звучит так:\n",
    "* средняя выручка от абонентов из Москвы равна средней выручке от абонентов из других регионов \n",
    "\n",
    "Альтернативная:\n",
    "* средняя выручка от абонентов из Москвы отличается от абонентов из других регионов (двусторонняя)"
   ]
  },
  {
   "cell_type": "code",
   "execution_count": 29,
   "id": "30421aef",
   "metadata": {},
   "outputs": [
    {
     "data": {
      "text/plain": [
       "Index(['user_id', 'month', 'calls_count', 'duration', 'message_count', 'sum',\n",
       "       'gb_used', 'age', 'churn_date', 'city', 'first_name', 'last_name',\n",
       "       'reg_date', 'tariff', 'messages_included', 'mb_per_month_included',\n",
       "       'minutes_included', 'rub_monthly_fee', 'rub_per_gb', 'rub_per_message',\n",
       "       'rub_per_minute', 'gb_per_month_included', 'fee'],\n",
       "      dtype='object')"
      ]
     },
     "execution_count": 29,
     "metadata": {},
     "output_type": "execute_result"
    }
   ],
   "source": [
    "df_totals.columns"
   ]
  },
  {
   "cell_type": "code",
   "execution_count": 30,
   "id": "82e3087a",
   "metadata": {},
   "outputs": [
    {
     "name": "stdout",
     "output_type": "stream",
     "text": [
      "p-значение: 0.6026072544084788\n",
      "Не получилось отвергнуть нулевую гипотезу\n"
     ]
    }
   ],
   "source": [
    "df_moscow = (df_totals\n",
    "                .query('city == \"Москва\"')\n",
    "            )\n",
    "df_other = (df_totals\n",
    "                .query('city != \"Москва\"')\n",
    "            )\n",
    "\n",
    "#Гипотеза о равенстве средних двух генеральных совокупностей\n",
    "alpha = .05\n",
    "results = st.ttest_ind(\n",
    "    df_moscow['fee'], \n",
    "    df_other['fee'])\n",
    "\n",
    "print('p-значение:', results.pvalue)\n",
    "\n",
    "if results.pvalue < alpha:\n",
    "    print(\"Отвергаем нулевую гипотезу\")\n",
    "else:\n",
    "    print(\"Не получилось отвергнуть нулевую гипотезу\") "
   ]
  },
  {
   "cell_type": "markdown",
   "id": "d9cc5a41",
   "metadata": {},
   "source": [
    "## Общий вывод:"
   ]
  },
  {
   "cell_type": "markdown",
   "id": "77d62561",
   "metadata": {},
   "source": [
    "Изучили поведение абонентов тарифов \"Смарт\" и \"Ультра\" компании сотовой связи \"Мегалайн\" на ограниченной выборке из 500 пользователей за 2018 год.\n",
    "\n",
    "Выяснили, что в среднем абонент тарифа \"Смарт\" расходует 417 мин / мес, использует 16 Гб интернета и отправляет 33 7сообщений. Для тарифа \"Ультра\" эти цифры составляют 526 мин/мес, 19 Гб и 49 сообщений соответственно. Медианные значения меньше, это означает, что есть существуют абоненты с показателями значительно выше средних по выборке (выборки скошены вправо)\n",
    "\n",
    "Проверили 2 гипотезы и определили:\n",
    "1. Есть статистически значимое отличие средней выручки от абонентов тарифов \"Смарт\" и \"Ультра\" с уровнем значимости 0.05.\n",
    "При этом средняя выручка по тарифу \"Смарт\" составляет 1 283 руб/мес, по тарифу \"Ультра\" - 2 057\n",
    " руб/мес. Исходя из этого маркетингу рекомендуется продвигать тариф \"Ультра\".\n",
    "\n",
    "2. На предоставленной выборке отсутствуют данные, чтобы утверждать, что средняя выручка абонентов из Москвы отличается от средней выручки абонентов из регионов.\n",
    "Исходя из этого усилия по продвижению и в Москве, и в регионах не должны отличаться\n"
   ]
  }
 ],
 "metadata": {
  "ExecuteTimeLog": [
   {
    "duration": 915,
    "start_time": "2022-06-01T11:39:12.125Z"
   },
   {
    "duration": 0,
    "start_time": "2022-06-01T11:39:13.042Z"
   },
   {
    "duration": 0,
    "start_time": "2022-06-01T11:39:13.043Z"
   },
   {
    "duration": 0,
    "start_time": "2022-06-01T11:39:13.044Z"
   },
   {
    "duration": 0,
    "start_time": "2022-06-01T11:39:13.045Z"
   },
   {
    "duration": 0,
    "start_time": "2022-06-01T11:39:13.052Z"
   },
   {
    "duration": 0,
    "start_time": "2022-06-01T11:39:13.052Z"
   },
   {
    "duration": 0,
    "start_time": "2022-06-01T11:39:13.053Z"
   },
   {
    "duration": 0,
    "start_time": "2022-06-01T11:39:13.055Z"
   },
   {
    "duration": 0,
    "start_time": "2022-06-01T11:39:13.056Z"
   },
   {
    "duration": 0,
    "start_time": "2022-06-01T11:39:13.057Z"
   },
   {
    "duration": 0,
    "start_time": "2022-06-01T11:39:13.059Z"
   },
   {
    "duration": 0,
    "start_time": "2022-06-01T11:39:13.060Z"
   },
   {
    "duration": 0,
    "start_time": "2022-06-01T11:39:13.061Z"
   },
   {
    "duration": 0,
    "start_time": "2022-06-01T11:39:13.062Z"
   },
   {
    "duration": 0,
    "start_time": "2022-06-01T11:39:13.063Z"
   },
   {
    "duration": 0,
    "start_time": "2022-06-01T11:39:13.064Z"
   },
   {
    "duration": 0,
    "start_time": "2022-06-01T11:39:13.065Z"
   },
   {
    "duration": 0,
    "start_time": "2022-06-01T11:39:13.066Z"
   },
   {
    "duration": 0,
    "start_time": "2022-06-01T11:39:13.067Z"
   },
   {
    "duration": 0,
    "start_time": "2022-06-01T11:39:13.069Z"
   },
   {
    "duration": 0,
    "start_time": "2022-06-01T11:39:13.070Z"
   },
   {
    "duration": 0,
    "start_time": "2022-06-01T11:39:13.071Z"
   },
   {
    "duration": 0,
    "start_time": "2022-06-01T11:39:13.072Z"
   },
   {
    "duration": 0,
    "start_time": "2022-06-01T11:39:13.073Z"
   },
   {
    "duration": 0,
    "start_time": "2022-06-01T11:39:13.075Z"
   },
   {
    "duration": 63,
    "start_time": "2022-06-01T11:40:55.165Z"
   },
   {
    "duration": 1145,
    "start_time": "2022-06-01T11:41:16.131Z"
   },
   {
    "duration": 1420,
    "start_time": "2022-06-01T11:41:22.369Z"
   },
   {
    "duration": 36,
    "start_time": "2022-06-01T11:41:23.791Z"
   },
   {
    "duration": 8,
    "start_time": "2022-06-01T11:41:23.853Z"
   },
   {
    "duration": 20,
    "start_time": "2022-06-01T11:41:23.862Z"
   },
   {
    "duration": 11,
    "start_time": "2022-06-01T11:41:23.884Z"
   },
   {
    "duration": 5,
    "start_time": "2022-06-01T11:41:23.896Z"
   },
   {
    "duration": 7,
    "start_time": "2022-06-01T11:41:23.903Z"
   },
   {
    "duration": 9,
    "start_time": "2022-06-01T11:41:23.912Z"
   },
   {
    "duration": 491,
    "start_time": "2022-06-01T11:41:23.922Z"
   },
   {
    "duration": 247,
    "start_time": "2022-06-01T11:41:24.414Z"
   },
   {
    "duration": 271,
    "start_time": "2022-06-01T11:41:24.663Z"
   },
   {
    "duration": 224,
    "start_time": "2022-06-01T11:41:24.936Z"
   },
   {
    "duration": 254,
    "start_time": "2022-06-01T11:41:25.162Z"
   },
   {
    "duration": 132,
    "start_time": "2022-06-01T11:41:25.420Z"
   },
   {
    "duration": 67,
    "start_time": "2022-06-01T11:41:25.554Z"
   },
   {
    "duration": 80,
    "start_time": "2022-06-01T11:41:25.623Z"
   },
   {
    "duration": 1850,
    "start_time": "2022-06-01T11:41:25.705Z"
   },
   {
    "duration": 10,
    "start_time": "2022-06-01T11:41:27.557Z"
   },
   {
    "duration": 102,
    "start_time": "2022-06-01T11:41:27.569Z"
   },
   {
    "duration": 1136,
    "start_time": "2022-06-01T11:41:27.673Z"
   },
   {
    "duration": 1426,
    "start_time": "2022-06-01T11:41:28.811Z"
   },
   {
    "duration": 46,
    "start_time": "2022-06-01T11:41:30.239Z"
   },
   {
    "duration": 867,
    "start_time": "2022-06-01T11:41:30.287Z"
   },
   {
    "duration": 20,
    "start_time": "2022-06-01T11:41:31.156Z"
   },
   {
    "duration": 14,
    "start_time": "2022-06-01T11:41:31.178Z"
   },
   {
    "duration": 40,
    "start_time": "2022-06-01T11:41:31.194Z"
   },
   {
    "duration": 7,
    "start_time": "2022-06-01T12:02:23.056Z"
   },
   {
    "duration": 7,
    "start_time": "2022-06-01T12:02:35.114Z"
   },
   {
    "duration": 10,
    "start_time": "2022-06-01T12:06:12.434Z"
   },
   {
    "duration": 4,
    "start_time": "2022-06-01T12:08:51.875Z"
   },
   {
    "duration": 3003,
    "start_time": "2022-06-02T15:25:04.776Z"
   },
   {
    "duration": 889,
    "start_time": "2022-06-02T15:35:39.580Z"
   },
   {
    "duration": 266,
    "start_time": "2022-06-02T18:46:35.112Z"
   },
   {
    "duration": 1144,
    "start_time": "2022-06-02T18:48:53.506Z"
   },
   {
    "duration": 37,
    "start_time": "2022-06-02T18:48:54.652Z"
   },
   {
    "duration": 8,
    "start_time": "2022-06-02T18:48:54.691Z"
   },
   {
    "duration": 19,
    "start_time": "2022-06-02T18:48:54.701Z"
   },
   {
    "duration": 34,
    "start_time": "2022-06-02T18:48:54.722Z"
   },
   {
    "duration": 12,
    "start_time": "2022-06-02T18:48:54.757Z"
   },
   {
    "duration": 18,
    "start_time": "2022-06-02T18:48:54.771Z"
   },
   {
    "duration": 48,
    "start_time": "2022-06-02T18:48:54.790Z"
   },
   {
    "duration": 206,
    "start_time": "2022-06-02T18:48:54.840Z"
   },
   {
    "duration": 237,
    "start_time": "2022-06-02T18:48:55.048Z"
   },
   {
    "duration": 13,
    "start_time": "2022-06-02T18:48:55.287Z"
   },
   {
    "duration": 224,
    "start_time": "2022-06-02T18:48:55.302Z"
   },
   {
    "duration": 202,
    "start_time": "2022-06-02T18:48:55.528Z"
   },
   {
    "duration": 10,
    "start_time": "2022-06-02T18:48:58.271Z"
   },
   {
    "duration": 12,
    "start_time": "2022-06-02T18:49:17.187Z"
   },
   {
    "duration": 160,
    "start_time": "2022-06-02T18:49:21.626Z"
   },
   {
    "duration": 187,
    "start_time": "2022-06-02T18:52:04.891Z"
   },
   {
    "duration": 34,
    "start_time": "2022-06-02T18:53:05.291Z"
   },
   {
    "duration": 250,
    "start_time": "2022-06-02T18:53:18.920Z"
   },
   {
    "duration": 217,
    "start_time": "2022-06-02T18:53:32.451Z"
   },
   {
    "duration": 243,
    "start_time": "2022-06-02T18:54:08.554Z"
   },
   {
    "duration": 219,
    "start_time": "2022-06-02T18:54:20.254Z"
   },
   {
    "duration": 206,
    "start_time": "2022-06-02T18:58:37.786Z"
   },
   {
    "duration": 115,
    "start_time": "2022-06-02T18:58:48.792Z"
   },
   {
    "duration": 32,
    "start_time": "2022-06-02T18:58:59.411Z"
   },
   {
    "duration": 119,
    "start_time": "2022-06-02T18:59:04.771Z"
   },
   {
    "duration": 115,
    "start_time": "2022-06-02T18:59:16.465Z"
   },
   {
    "duration": 110,
    "start_time": "2022-06-02T18:59:29.076Z"
   },
   {
    "duration": 111,
    "start_time": "2022-06-02T18:59:53.499Z"
   },
   {
    "duration": 116,
    "start_time": "2022-06-02T19:03:24.901Z"
   },
   {
    "duration": 111,
    "start_time": "2022-06-02T19:05:27.073Z"
   },
   {
    "duration": 113,
    "start_time": "2022-06-02T19:06:06.987Z"
   },
   {
    "duration": 125,
    "start_time": "2022-06-02T19:06:13.440Z"
   },
   {
    "duration": 109,
    "start_time": "2022-06-02T19:07:08.777Z"
   },
   {
    "duration": 124,
    "start_time": "2022-06-02T19:30:23.463Z"
   },
   {
    "duration": 10,
    "start_time": "2022-06-02T19:30:40.559Z"
   },
   {
    "duration": 119,
    "start_time": "2022-06-02T19:30:49.231Z"
   },
   {
    "duration": 90,
    "start_time": "2022-06-02T19:31:44.332Z"
   },
   {
    "duration": 36,
    "start_time": "2022-06-02T19:32:25.376Z"
   },
   {
    "duration": 46,
    "start_time": "2022-06-02T19:32:38.359Z"
   },
   {
    "duration": 16,
    "start_time": "2022-06-02T19:33:22.052Z"
   },
   {
    "duration": 1227,
    "start_time": "2022-06-02T19:33:57.087Z"
   },
   {
    "duration": 648,
    "start_time": "2022-06-02T19:34:32.119Z"
   },
   {
    "duration": 38,
    "start_time": "2022-06-02T19:34:32.769Z"
   },
   {
    "duration": 7,
    "start_time": "2022-06-02T19:34:32.808Z"
   },
   {
    "duration": 29,
    "start_time": "2022-06-02T19:34:32.817Z"
   },
   {
    "duration": 29,
    "start_time": "2022-06-02T19:34:32.849Z"
   },
   {
    "duration": 10,
    "start_time": "2022-06-02T19:34:32.879Z"
   },
   {
    "duration": 10,
    "start_time": "2022-06-02T19:34:32.891Z"
   },
   {
    "duration": 9,
    "start_time": "2022-06-02T19:34:32.903Z"
   },
   {
    "duration": 199,
    "start_time": "2022-06-02T19:34:32.914Z"
   },
   {
    "duration": 208,
    "start_time": "2022-06-02T19:34:33.115Z"
   },
   {
    "duration": 304,
    "start_time": "2022-06-02T19:34:33.325Z"
   },
   {
    "duration": 25,
    "start_time": "2022-06-02T19:34:33.631Z"
   },
   {
    "duration": 177,
    "start_time": "2022-06-02T19:34:33.658Z"
   },
   {
    "duration": 202,
    "start_time": "2022-06-02T19:34:33.845Z"
   },
   {
    "duration": 211,
    "start_time": "2022-06-02T19:34:34.048Z"
   },
   {
    "duration": 9,
    "start_time": "2022-06-02T19:34:34.261Z"
   },
   {
    "duration": 211,
    "start_time": "2022-06-02T19:34:34.272Z"
   },
   {
    "duration": 12,
    "start_time": "2022-06-02T19:34:34.484Z"
   },
   {
    "duration": 86,
    "start_time": "2022-06-02T19:34:34.497Z"
   },
   {
    "duration": 35,
    "start_time": "2022-06-02T19:34:34.585Z"
   },
   {
    "duration": 57,
    "start_time": "2022-06-02T19:34:34.622Z"
   },
   {
    "duration": 1993,
    "start_time": "2022-06-02T19:34:34.681Z"
   },
   {
    "duration": 10,
    "start_time": "2022-06-02T19:34:36.675Z"
   },
   {
    "duration": 95,
    "start_time": "2022-06-02T19:34:36.687Z"
   },
   {
    "duration": 1518,
    "start_time": "2022-06-02T19:34:36.784Z"
   },
   {
    "duration": 1330,
    "start_time": "2022-06-02T19:34:38.304Z"
   },
   {
    "duration": 0,
    "start_time": "2022-06-02T19:34:39.637Z"
   },
   {
    "duration": 0,
    "start_time": "2022-06-02T19:34:39.645Z"
   },
   {
    "duration": 0,
    "start_time": "2022-06-02T19:34:39.646Z"
   },
   {
    "duration": 0,
    "start_time": "2022-06-02T19:34:39.647Z"
   },
   {
    "duration": 0,
    "start_time": "2022-06-02T19:34:39.650Z"
   },
   {
    "duration": 1800,
    "start_time": "2022-06-02T20:08:43.882Z"
   },
   {
    "duration": 41,
    "start_time": "2022-06-02T20:08:49.220Z"
   },
   {
    "duration": 889,
    "start_time": "2022-06-02T20:08:51.931Z"
   },
   {
    "duration": 26,
    "start_time": "2022-06-02T20:08:55.361Z"
   },
   {
    "duration": 6,
    "start_time": "2022-06-02T20:08:59.099Z"
   },
   {
    "duration": 18,
    "start_time": "2022-06-02T20:09:01.226Z"
   },
   {
    "duration": 30,
    "start_time": "2022-06-02T20:17:05.879Z"
   },
   {
    "duration": 24,
    "start_time": "2022-06-02T20:17:29.230Z"
   },
   {
    "duration": 36,
    "start_time": "2022-06-02T20:17:35.324Z"
   },
   {
    "duration": 43,
    "start_time": "2022-06-02T20:17:44.411Z"
   },
   {
    "duration": 67,
    "start_time": "2022-06-02T20:18:38.862Z"
   },
   {
    "duration": 13,
    "start_time": "2022-06-02T20:39:35.020Z"
   },
   {
    "duration": 22,
    "start_time": "2022-06-02T20:39:47.564Z"
   },
   {
    "duration": 82,
    "start_time": "2022-06-02T20:41:34.051Z"
   },
   {
    "duration": 27,
    "start_time": "2022-06-02T20:41:51.970Z"
   },
   {
    "duration": 32,
    "start_time": "2022-06-02T20:41:55.434Z"
   },
   {
    "duration": 34,
    "start_time": "2022-06-02T20:42:20.139Z"
   },
   {
    "duration": 31,
    "start_time": "2022-06-02T20:42:24.619Z"
   },
   {
    "duration": 17,
    "start_time": "2022-06-02T20:42:43.630Z"
   },
   {
    "duration": 24,
    "start_time": "2022-06-02T20:43:08.530Z"
   },
   {
    "duration": 32,
    "start_time": "2022-06-02T20:44:47.192Z"
   },
   {
    "duration": 41,
    "start_time": "2022-06-02T20:45:03.032Z"
   },
   {
    "duration": 31,
    "start_time": "2022-06-02T20:45:12.931Z"
   },
   {
    "duration": 64,
    "start_time": "2022-06-02T20:45:27.078Z"
   },
   {
    "duration": 20,
    "start_time": "2022-06-02T20:45:33.333Z"
   },
   {
    "duration": 126,
    "start_time": "2022-06-02T20:51:01.667Z"
   },
   {
    "duration": 21,
    "start_time": "2022-06-02T20:51:32.950Z"
   },
   {
    "duration": 32,
    "start_time": "2022-06-02T20:55:20.210Z"
   },
   {
    "duration": 6,
    "start_time": "2022-06-02T21:01:58.697Z"
   },
   {
    "duration": 616,
    "start_time": "2022-06-02T21:02:03.437Z"
   },
   {
    "duration": 33,
    "start_time": "2022-06-02T21:07:56.308Z"
   },
   {
    "duration": 789,
    "start_time": "2022-06-02T21:08:02.809Z"
   },
   {
    "duration": 573,
    "start_time": "2022-06-02T21:15:43.709Z"
   },
   {
    "duration": 713,
    "start_time": "2022-06-02T21:18:15.096Z"
   },
   {
    "duration": 2180,
    "start_time": "2022-06-03T07:50:46.147Z"
   },
   {
    "duration": 579,
    "start_time": "2022-06-03T07:53:42.407Z"
   },
   {
    "duration": 97,
    "start_time": "2022-06-03T07:54:49.069Z"
   },
   {
    "duration": 574,
    "start_time": "2022-06-03T07:56:09.805Z"
   },
   {
    "duration": 30,
    "start_time": "2022-06-03T07:56:48.128Z"
   },
   {
    "duration": 589,
    "start_time": "2022-06-03T08:03:49.638Z"
   },
   {
    "duration": 38,
    "start_time": "2022-06-03T08:03:50.230Z"
   },
   {
    "duration": 8,
    "start_time": "2022-06-03T08:03:50.269Z"
   },
   {
    "duration": 12,
    "start_time": "2022-06-03T08:03:50.278Z"
   },
   {
    "duration": 33,
    "start_time": "2022-06-03T08:03:50.292Z"
   },
   {
    "duration": 5,
    "start_time": "2022-06-03T08:03:50.327Z"
   },
   {
    "duration": 13,
    "start_time": "2022-06-03T08:03:50.334Z"
   },
   {
    "duration": 7,
    "start_time": "2022-06-03T08:03:50.348Z"
   },
   {
    "duration": 604,
    "start_time": "2022-06-03T08:03:50.356Z"
   },
   {
    "duration": 288,
    "start_time": "2022-06-03T08:03:50.961Z"
   },
   {
    "duration": 239,
    "start_time": "2022-06-03T08:03:51.251Z"
   },
   {
    "duration": 17,
    "start_time": "2022-06-03T08:03:51.491Z"
   },
   {
    "duration": 203,
    "start_time": "2022-06-03T08:03:51.510Z"
   },
   {
    "duration": 211,
    "start_time": "2022-06-03T08:03:51.716Z"
   },
   {
    "duration": 212,
    "start_time": "2022-06-03T08:03:51.928Z"
   },
   {
    "duration": 12,
    "start_time": "2022-06-03T08:03:52.142Z"
   },
   {
    "duration": 192,
    "start_time": "2022-06-03T08:03:52.156Z"
   },
   {
    "duration": 11,
    "start_time": "2022-06-03T08:03:52.349Z"
   },
   {
    "duration": 89,
    "start_time": "2022-06-03T08:03:52.361Z"
   },
   {
    "duration": 31,
    "start_time": "2022-06-03T08:03:52.451Z"
   },
   {
    "duration": 55,
    "start_time": "2022-06-03T08:03:52.483Z"
   },
   {
    "duration": 32,
    "start_time": "2022-06-03T08:03:56.156Z"
   },
   {
    "duration": 27,
    "start_time": "2022-06-03T08:04:42.878Z"
   },
   {
    "duration": 458,
    "start_time": "2022-06-03T08:04:53.004Z"
   },
   {
    "duration": 48,
    "start_time": "2022-06-03T08:05:17.022Z"
   },
   {
    "duration": 77,
    "start_time": "2022-06-03T08:05:43.907Z"
   },
   {
    "duration": 643,
    "start_time": "2022-06-03T08:05:50.877Z"
   },
   {
    "duration": 51,
    "start_time": "2022-06-03T08:06:09.659Z"
   },
   {
    "duration": 97,
    "start_time": "2022-06-03T08:07:03.235Z"
   },
   {
    "duration": 33,
    "start_time": "2022-06-03T08:07:07.585Z"
   },
   {
    "duration": 42,
    "start_time": "2022-06-03T08:07:14.164Z"
   },
   {
    "duration": 163,
    "start_time": "2022-06-03T08:10:23.547Z"
   },
   {
    "duration": 145,
    "start_time": "2022-06-03T08:14:18.015Z"
   },
   {
    "duration": 139,
    "start_time": "2022-06-03T08:14:33.267Z"
   },
   {
    "duration": 1108,
    "start_time": "2022-06-03T08:14:45.370Z"
   },
   {
    "duration": 202,
    "start_time": "2022-06-03T08:14:50.187Z"
   },
   {
    "duration": 133,
    "start_time": "2022-06-03T08:16:30.765Z"
   },
   {
    "duration": 647,
    "start_time": "2022-06-03T08:16:59.688Z"
   },
   {
    "duration": 638,
    "start_time": "2022-06-03T08:17:18.050Z"
   },
   {
    "duration": 634,
    "start_time": "2022-06-03T08:17:40.238Z"
   },
   {
    "duration": 85,
    "start_time": "2022-06-03T08:17:40.874Z"
   },
   {
    "duration": 12,
    "start_time": "2022-06-03T08:17:40.961Z"
   },
   {
    "duration": 16,
    "start_time": "2022-06-03T08:17:40.976Z"
   },
   {
    "duration": 40,
    "start_time": "2022-06-03T08:17:40.994Z"
   },
   {
    "duration": 12,
    "start_time": "2022-06-03T08:17:41.037Z"
   },
   {
    "duration": 18,
    "start_time": "2022-06-03T08:17:41.051Z"
   },
   {
    "duration": 27,
    "start_time": "2022-06-03T08:17:41.071Z"
   },
   {
    "duration": 253,
    "start_time": "2022-06-03T08:17:41.105Z"
   },
   {
    "duration": 324,
    "start_time": "2022-06-03T08:17:41.360Z"
   },
   {
    "duration": 276,
    "start_time": "2022-06-03T08:17:41.686Z"
   },
   {
    "duration": 13,
    "start_time": "2022-06-03T08:17:41.964Z"
   },
   {
    "duration": 219,
    "start_time": "2022-06-03T08:17:41.978Z"
   },
   {
    "duration": 228,
    "start_time": "2022-06-03T08:17:42.199Z"
   },
   {
    "duration": 239,
    "start_time": "2022-06-03T08:17:42.429Z"
   },
   {
    "duration": 9,
    "start_time": "2022-06-03T08:17:42.669Z"
   },
   {
    "duration": 207,
    "start_time": "2022-06-03T08:17:42.681Z"
   },
   {
    "duration": 12,
    "start_time": "2022-06-03T08:17:42.890Z"
   },
   {
    "duration": 84,
    "start_time": "2022-06-03T08:17:42.903Z"
   },
   {
    "duration": 62,
    "start_time": "2022-06-03T08:17:42.989Z"
   },
   {
    "duration": 46,
    "start_time": "2022-06-03T08:17:43.053Z"
   },
   {
    "duration": 148,
    "start_time": "2022-06-03T08:17:49.486Z"
   },
   {
    "duration": 141,
    "start_time": "2022-06-03T08:18:03.560Z"
   },
   {
    "duration": 135,
    "start_time": "2022-06-03T08:18:09.744Z"
   },
   {
    "duration": 131,
    "start_time": "2022-06-03T08:18:19.298Z"
   },
   {
    "duration": 176,
    "start_time": "2022-06-03T08:18:43.162Z"
   },
   {
    "duration": 128,
    "start_time": "2022-06-03T08:19:09.573Z"
   },
   {
    "duration": 130,
    "start_time": "2022-06-03T08:19:32.405Z"
   },
   {
    "duration": 126,
    "start_time": "2022-06-03T08:19:42.857Z"
   },
   {
    "duration": 146,
    "start_time": "2022-06-03T08:20:19.438Z"
   },
   {
    "duration": 153,
    "start_time": "2022-06-03T08:27:33.824Z"
   },
   {
    "duration": 192,
    "start_time": "2022-06-03T08:27:49.004Z"
   },
   {
    "duration": 184,
    "start_time": "2022-06-03T08:27:59.308Z"
   },
   {
    "duration": 200,
    "start_time": "2022-06-03T08:28:15.855Z"
   },
   {
    "duration": 212,
    "start_time": "2022-06-03T08:28:49.792Z"
   },
   {
    "duration": 32,
    "start_time": "2022-06-03T08:29:49.013Z"
   },
   {
    "duration": 978,
    "start_time": "2022-06-03T08:30:03.224Z"
   },
   {
    "duration": 44,
    "start_time": "2022-06-03T08:34:00.330Z"
   },
   {
    "duration": 19,
    "start_time": "2022-06-03T08:34:05.915Z"
   },
   {
    "duration": 76,
    "start_time": "2022-06-03T08:34:08.735Z"
   },
   {
    "duration": 6,
    "start_time": "2022-06-03T08:34:25.840Z"
   },
   {
    "duration": 26,
    "start_time": "2022-06-03T08:34:30.706Z"
   },
   {
    "duration": 1213,
    "start_time": "2022-06-03T08:35:26.987Z"
   },
   {
    "duration": 57,
    "start_time": "2022-06-03T08:35:28.202Z"
   },
   {
    "duration": 9,
    "start_time": "2022-06-03T08:35:28.262Z"
   },
   {
    "duration": 11,
    "start_time": "2022-06-03T08:35:28.273Z"
   },
   {
    "duration": 11,
    "start_time": "2022-06-03T08:35:28.286Z"
   },
   {
    "duration": 8,
    "start_time": "2022-06-03T08:35:28.298Z"
   },
   {
    "duration": 7,
    "start_time": "2022-06-03T08:35:28.308Z"
   },
   {
    "duration": 7,
    "start_time": "2022-06-03T08:35:28.316Z"
   },
   {
    "duration": 237,
    "start_time": "2022-06-03T08:35:28.324Z"
   },
   {
    "duration": 234,
    "start_time": "2022-06-03T08:35:28.563Z"
   },
   {
    "duration": 276,
    "start_time": "2022-06-03T08:35:28.798Z"
   },
   {
    "duration": 12,
    "start_time": "2022-06-03T08:35:29.076Z"
   },
   {
    "duration": 203,
    "start_time": "2022-06-03T08:35:29.090Z"
   },
   {
    "duration": 223,
    "start_time": "2022-06-03T08:35:29.296Z"
   },
   {
    "duration": 253,
    "start_time": "2022-06-03T08:35:29.525Z"
   },
   {
    "duration": 9,
    "start_time": "2022-06-03T08:35:29.780Z"
   },
   {
    "duration": 188,
    "start_time": "2022-06-03T08:35:29.790Z"
   },
   {
    "duration": 17,
    "start_time": "2022-06-03T08:35:29.980Z"
   },
   {
    "duration": 162,
    "start_time": "2022-06-03T08:35:29.999Z"
   },
   {
    "duration": 68,
    "start_time": "2022-06-03T08:35:30.162Z"
   },
   {
    "duration": 168,
    "start_time": "2022-06-03T08:35:30.231Z"
   },
   {
    "duration": 224,
    "start_time": "2022-06-03T08:35:30.401Z"
   },
   {
    "duration": 40,
    "start_time": "2022-06-03T08:35:30.627Z"
   },
   {
    "duration": 1077,
    "start_time": "2022-06-03T08:35:30.668Z"
   },
   {
    "duration": 33,
    "start_time": "2022-06-03T08:35:31.749Z"
   },
   {
    "duration": 7,
    "start_time": "2022-06-03T08:35:31.785Z"
   },
   {
    "duration": 16,
    "start_time": "2022-06-03T08:35:36.391Z"
   },
   {
    "duration": 11,
    "start_time": "2022-06-03T08:36:09.850Z"
   },
   {
    "duration": 9,
    "start_time": "2022-06-03T08:36:18.978Z"
   },
   {
    "duration": 4,
    "start_time": "2022-06-03T08:36:26.507Z"
   },
   {
    "duration": 12,
    "start_time": "2022-06-03T08:37:12.881Z"
   },
   {
    "duration": 21,
    "start_time": "2022-06-03T08:44:55.930Z"
   },
   {
    "duration": 1887,
    "start_time": "2022-06-03T11:30:25.893Z"
   },
   {
    "duration": 38,
    "start_time": "2022-06-03T11:30:27.782Z"
   },
   {
    "duration": 8,
    "start_time": "2022-06-03T11:30:27.821Z"
   },
   {
    "duration": 35,
    "start_time": "2022-06-03T11:30:27.831Z"
   },
   {
    "duration": 13,
    "start_time": "2022-06-03T11:30:27.867Z"
   },
   {
    "duration": 29,
    "start_time": "2022-06-03T11:30:27.881Z"
   },
   {
    "duration": 10,
    "start_time": "2022-06-03T11:30:27.912Z"
   },
   {
    "duration": 9,
    "start_time": "2022-06-03T11:30:27.924Z"
   },
   {
    "duration": 605,
    "start_time": "2022-06-03T11:30:27.935Z"
   },
   {
    "duration": 291,
    "start_time": "2022-06-03T11:30:28.544Z"
   },
   {
    "duration": 311,
    "start_time": "2022-06-03T11:30:28.837Z"
   },
   {
    "duration": 30,
    "start_time": "2022-06-03T11:30:29.150Z"
   },
   {
    "duration": 186,
    "start_time": "2022-06-03T11:30:29.181Z"
   },
   {
    "duration": 201,
    "start_time": "2022-06-03T11:30:29.369Z"
   },
   {
    "duration": 210,
    "start_time": "2022-06-03T11:30:29.571Z"
   },
   {
    "duration": 17,
    "start_time": "2022-06-03T11:30:29.783Z"
   },
   {
    "duration": 185,
    "start_time": "2022-06-03T11:30:29.802Z"
   },
   {
    "duration": 10,
    "start_time": "2022-06-03T11:30:29.989Z"
   },
   {
    "duration": 89,
    "start_time": "2022-06-03T11:30:30.001Z"
   },
   {
    "duration": 32,
    "start_time": "2022-06-03T11:30:30.091Z"
   },
   {
    "duration": 55,
    "start_time": "2022-06-03T11:30:30.124Z"
   },
   {
    "duration": 186,
    "start_time": "2022-06-03T11:30:30.180Z"
   },
   {
    "duration": 27,
    "start_time": "2022-06-03T11:30:30.368Z"
   },
   {
    "duration": 798,
    "start_time": "2022-06-03T11:30:30.397Z"
   },
   {
    "duration": 106,
    "start_time": "2022-06-03T11:30:31.197Z"
   },
   {
    "duration": 14,
    "start_time": "2022-06-03T11:30:31.304Z"
   },
   {
    "duration": 23,
    "start_time": "2022-06-03T11:30:31.320Z"
   },
   {
    "duration": 19,
    "start_time": "2022-06-03T11:30:31.345Z"
   },
   {
    "duration": 735,
    "start_time": "2022-06-03T11:38:16.930Z"
   },
   {
    "duration": 10,
    "start_time": "2022-06-03T11:38:34.780Z"
   },
   {
    "duration": 12,
    "start_time": "2022-06-03T11:40:25.153Z"
   },
   {
    "duration": 11,
    "start_time": "2022-06-03T11:45:06.254Z"
   },
   {
    "duration": 64,
    "start_time": "2022-06-03T18:07:36.509Z"
   },
   {
    "duration": 3186,
    "start_time": "2022-06-03T18:07:43.141Z"
   },
   {
    "duration": 85,
    "start_time": "2022-06-03T18:07:46.330Z"
   },
   {
    "duration": 10,
    "start_time": "2022-06-03T18:07:46.417Z"
   },
   {
    "duration": 17,
    "start_time": "2022-06-03T18:07:46.430Z"
   },
   {
    "duration": 13,
    "start_time": "2022-06-03T18:07:46.449Z"
   },
   {
    "duration": 6,
    "start_time": "2022-06-03T18:07:46.464Z"
   },
   {
    "duration": 5,
    "start_time": "2022-06-03T18:07:46.493Z"
   },
   {
    "duration": 42,
    "start_time": "2022-06-03T18:07:46.500Z"
   },
   {
    "duration": 859,
    "start_time": "2022-06-03T18:07:46.544Z"
   },
   {
    "duration": 355,
    "start_time": "2022-06-03T18:07:47.407Z"
   },
   {
    "duration": 350,
    "start_time": "2022-06-03T18:07:47.764Z"
   },
   {
    "duration": 27,
    "start_time": "2022-06-03T18:07:48.116Z"
   },
   {
    "duration": 292,
    "start_time": "2022-06-03T18:07:48.146Z"
   },
   {
    "duration": 331,
    "start_time": "2022-06-03T18:07:48.440Z"
   },
   {
    "duration": 300,
    "start_time": "2022-06-03T18:07:48.773Z"
   },
   {
    "duration": 30,
    "start_time": "2022-06-03T18:07:49.075Z"
   },
   {
    "duration": 259,
    "start_time": "2022-06-03T18:07:49.108Z"
   },
   {
    "duration": 22,
    "start_time": "2022-06-03T18:07:49.369Z"
   },
   {
    "duration": 87,
    "start_time": "2022-06-03T18:07:49.395Z"
   },
   {
    "duration": 47,
    "start_time": "2022-06-03T18:07:49.493Z"
   },
   {
    "duration": 62,
    "start_time": "2022-06-03T18:07:49.541Z"
   },
   {
    "duration": 201,
    "start_time": "2022-06-03T18:07:56.478Z"
   },
   {
    "duration": 224,
    "start_time": "2022-06-03T18:08:46.260Z"
   },
   {
    "duration": 1517,
    "start_time": "2022-06-03T18:09:03.350Z"
   },
   {
    "duration": 66,
    "start_time": "2022-06-03T18:09:04.869Z"
   },
   {
    "duration": 9,
    "start_time": "2022-06-03T18:09:04.937Z"
   },
   {
    "duration": 8,
    "start_time": "2022-06-03T18:09:04.948Z"
   },
   {
    "duration": 43,
    "start_time": "2022-06-03T18:09:04.957Z"
   },
   {
    "duration": 7,
    "start_time": "2022-06-03T18:09:05.002Z"
   },
   {
    "duration": 8,
    "start_time": "2022-06-03T18:09:05.011Z"
   },
   {
    "duration": 8,
    "start_time": "2022-06-03T18:09:05.021Z"
   },
   {
    "duration": 512,
    "start_time": "2022-06-03T18:09:05.030Z"
   },
   {
    "duration": 261,
    "start_time": "2022-06-03T18:09:05.544Z"
   },
   {
    "duration": 372,
    "start_time": "2022-06-03T18:09:05.808Z"
   },
   {
    "duration": 28,
    "start_time": "2022-06-03T18:09:06.181Z"
   },
   {
    "duration": 258,
    "start_time": "2022-06-03T18:09:06.212Z"
   },
   {
    "duration": 270,
    "start_time": "2022-06-03T18:09:06.472Z"
   },
   {
    "duration": 268,
    "start_time": "2022-06-03T18:09:06.744Z"
   },
   {
    "duration": 12,
    "start_time": "2022-06-03T18:09:07.014Z"
   },
   {
    "duration": 224,
    "start_time": "2022-06-03T18:09:07.028Z"
   },
   {
    "duration": 13,
    "start_time": "2022-06-03T18:09:07.254Z"
   },
   {
    "duration": 97,
    "start_time": "2022-06-03T18:09:07.269Z"
   },
   {
    "duration": 51,
    "start_time": "2022-06-03T18:09:07.368Z"
   },
   {
    "duration": 49,
    "start_time": "2022-06-03T18:09:07.421Z"
   },
   {
    "duration": 215,
    "start_time": "2022-06-03T18:09:07.492Z"
   },
   {
    "duration": 43,
    "start_time": "2022-06-03T18:09:07.709Z"
   },
   {
    "duration": 1085,
    "start_time": "2022-06-03T18:09:07.754Z"
   },
   {
    "duration": 25,
    "start_time": "2022-06-03T18:09:08.840Z"
   },
   {
    "duration": 5,
    "start_time": "2022-06-03T18:09:08.866Z"
   },
   {
    "duration": 40,
    "start_time": "2022-06-03T18:09:08.873Z"
   },
   {
    "duration": 14,
    "start_time": "2022-06-03T18:09:08.917Z"
   },
   {
    "duration": 307,
    "start_time": "2022-06-03T18:09:39.810Z"
   },
   {
    "duration": 233,
    "start_time": "2022-06-03T18:09:47.015Z"
   },
   {
    "duration": 34,
    "start_time": "2022-06-03T18:09:56.106Z"
   },
   {
    "duration": 139,
    "start_time": "2022-06-03T18:13:23.030Z"
   },
   {
    "duration": 6,
    "start_time": "2022-06-03T18:13:44.232Z"
   },
   {
    "duration": 5,
    "start_time": "2022-06-03T18:14:16.036Z"
   },
   {
    "duration": 8,
    "start_time": "2022-06-03T18:15:05.511Z"
   },
   {
    "duration": 42,
    "start_time": "2022-06-03T18:21:39.279Z"
   },
   {
    "duration": 721,
    "start_time": "2022-06-03T18:21:47.579Z"
   },
   {
    "duration": 58,
    "start_time": "2022-06-03T18:21:48.303Z"
   },
   {
    "duration": 40,
    "start_time": "2022-06-03T18:21:48.364Z"
   },
   {
    "duration": 10,
    "start_time": "2022-06-03T18:21:48.407Z"
   },
   {
    "duration": 19,
    "start_time": "2022-06-03T18:21:48.419Z"
   },
   {
    "duration": 24,
    "start_time": "2022-06-03T18:21:48.440Z"
   },
   {
    "duration": 12,
    "start_time": "2022-06-03T18:21:48.466Z"
   },
   {
    "duration": 24,
    "start_time": "2022-06-03T18:21:48.480Z"
   },
   {
    "duration": 248,
    "start_time": "2022-06-03T18:21:48.506Z"
   },
   {
    "duration": 253,
    "start_time": "2022-06-03T18:21:48.757Z"
   },
   {
    "duration": 311,
    "start_time": "2022-06-03T18:21:49.011Z"
   },
   {
    "duration": 12,
    "start_time": "2022-06-03T18:21:49.324Z"
   },
   {
    "duration": 234,
    "start_time": "2022-06-03T18:21:49.338Z"
   },
   {
    "duration": 274,
    "start_time": "2022-06-03T18:21:49.573Z"
   },
   {
    "duration": 253,
    "start_time": "2022-06-03T18:21:49.849Z"
   },
   {
    "duration": 11,
    "start_time": "2022-06-03T18:21:50.105Z"
   },
   {
    "duration": 230,
    "start_time": "2022-06-03T18:21:50.117Z"
   },
   {
    "duration": 13,
    "start_time": "2022-06-03T18:21:50.349Z"
   },
   {
    "duration": 105,
    "start_time": "2022-06-03T18:21:50.363Z"
   },
   {
    "duration": 52,
    "start_time": "2022-06-03T18:21:50.469Z"
   },
   {
    "duration": 50,
    "start_time": "2022-06-03T18:21:50.524Z"
   },
   {
    "duration": 31,
    "start_time": "2022-06-03T18:21:50.576Z"
   },
   {
    "duration": 263,
    "start_time": "2022-06-03T18:21:50.610Z"
   },
   {
    "duration": 51,
    "start_time": "2022-06-03T18:22:03.206Z"
   },
   {
    "duration": 675,
    "start_time": "2022-06-03T18:22:46.153Z"
   },
   {
    "duration": 75,
    "start_time": "2022-06-03T18:22:46.831Z"
   },
   {
    "duration": 9,
    "start_time": "2022-06-03T18:22:46.908Z"
   },
   {
    "duration": 9,
    "start_time": "2022-06-03T18:22:46.919Z"
   },
   {
    "duration": 13,
    "start_time": "2022-06-03T18:22:46.929Z"
   },
   {
    "duration": 7,
    "start_time": "2022-06-03T18:22:46.943Z"
   },
   {
    "duration": 47,
    "start_time": "2022-06-03T18:22:46.952Z"
   },
   {
    "duration": 23,
    "start_time": "2022-06-03T18:22:47.000Z"
   },
   {
    "duration": 231,
    "start_time": "2022-06-03T18:22:47.026Z"
   },
   {
    "duration": 364,
    "start_time": "2022-06-03T18:22:47.260Z"
   },
   {
    "duration": 312,
    "start_time": "2022-06-03T18:22:47.626Z"
   },
   {
    "duration": 13,
    "start_time": "2022-06-03T18:22:47.940Z"
   },
   {
    "duration": 260,
    "start_time": "2022-06-03T18:22:47.955Z"
   },
   {
    "duration": 329,
    "start_time": "2022-06-03T18:22:48.216Z"
   },
   {
    "duration": 334,
    "start_time": "2022-06-03T18:22:48.548Z"
   },
   {
    "duration": 22,
    "start_time": "2022-06-03T18:22:48.884Z"
   },
   {
    "duration": 220,
    "start_time": "2022-06-03T18:22:48.915Z"
   },
   {
    "duration": 13,
    "start_time": "2022-06-03T18:22:49.136Z"
   },
   {
    "duration": 105,
    "start_time": "2022-06-03T18:22:49.151Z"
   },
   {
    "duration": 55,
    "start_time": "2022-06-03T18:22:49.258Z"
   },
   {
    "duration": 48,
    "start_time": "2022-06-03T18:22:49.315Z"
   },
   {
    "duration": 26,
    "start_time": "2022-06-03T18:22:49.364Z"
   },
   {
    "duration": 250,
    "start_time": "2022-06-03T18:22:49.392Z"
   },
   {
    "duration": 35,
    "start_time": "2022-06-03T18:23:17.817Z"
   },
   {
    "duration": 225,
    "start_time": "2022-06-03T18:24:07.510Z"
   },
   {
    "duration": 232,
    "start_time": "2022-06-03T18:27:15.772Z"
   },
   {
    "duration": 242,
    "start_time": "2022-06-03T18:31:09.430Z"
   },
   {
    "duration": 1212,
    "start_time": "2022-06-03T18:32:32.422Z"
   },
   {
    "duration": 37,
    "start_time": "2022-06-03T18:35:01.922Z"
   },
   {
    "duration": 1135,
    "start_time": "2022-06-03T18:35:08.136Z"
   },
   {
    "duration": 32,
    "start_time": "2022-06-03T18:36:45.045Z"
   },
   {
    "duration": 2597,
    "start_time": "2022-06-04T05:21:25.310Z"
   },
   {
    "duration": 39,
    "start_time": "2022-06-04T05:21:27.908Z"
   },
   {
    "duration": 9,
    "start_time": "2022-06-04T05:21:27.948Z"
   },
   {
    "duration": 34,
    "start_time": "2022-06-04T05:21:27.959Z"
   },
   {
    "duration": 12,
    "start_time": "2022-06-04T05:21:27.996Z"
   },
   {
    "duration": 6,
    "start_time": "2022-06-04T05:21:28.010Z"
   },
   {
    "duration": 7,
    "start_time": "2022-06-04T05:21:28.018Z"
   },
   {
    "duration": 9,
    "start_time": "2022-06-04T05:21:28.027Z"
   },
   {
    "duration": 724,
    "start_time": "2022-06-04T05:21:28.037Z"
   },
   {
    "duration": 315,
    "start_time": "2022-06-04T05:21:28.763Z"
   },
   {
    "duration": 300,
    "start_time": "2022-06-04T05:21:29.080Z"
   },
   {
    "duration": 23,
    "start_time": "2022-06-04T05:21:29.381Z"
   },
   {
    "duration": 216,
    "start_time": "2022-06-04T05:21:29.405Z"
   },
   {
    "duration": 244,
    "start_time": "2022-06-04T05:21:29.624Z"
   },
   {
    "duration": 232,
    "start_time": "2022-06-04T05:21:29.870Z"
   },
   {
    "duration": 14,
    "start_time": "2022-06-04T05:21:30.104Z"
   },
   {
    "duration": 210,
    "start_time": "2022-06-04T05:21:30.120Z"
   },
   {
    "duration": 12,
    "start_time": "2022-06-04T05:21:30.332Z"
   },
   {
    "duration": 96,
    "start_time": "2022-06-04T05:21:30.345Z"
   },
   {
    "duration": 34,
    "start_time": "2022-06-04T05:21:30.443Z"
   },
   {
    "duration": 44,
    "start_time": "2022-06-04T05:21:30.489Z"
   },
   {
    "duration": 7,
    "start_time": "2022-06-04T05:21:30.535Z"
   },
   {
    "duration": 239,
    "start_time": "2022-06-04T05:21:30.544Z"
   },
   {
    "duration": 984,
    "start_time": "2022-06-04T05:21:30.785Z"
   },
   {
    "duration": 34,
    "start_time": "2022-06-04T05:21:31.771Z"
   },
   {
    "duration": 5,
    "start_time": "2022-06-04T05:21:31.807Z"
   },
   {
    "duration": 11,
    "start_time": "2022-06-04T05:21:31.814Z"
   },
   {
    "duration": 16,
    "start_time": "2022-06-04T05:21:31.827Z"
   },
   {
    "duration": 13,
    "start_time": "2022-06-04T05:24:07.452Z"
   },
   {
    "duration": 4,
    "start_time": "2022-06-04T05:31:55.828Z"
   },
   {
    "duration": 2193,
    "start_time": "2022-06-04T10:12:45.113Z"
   },
   {
    "duration": 59,
    "start_time": "2022-06-04T10:12:47.308Z"
   },
   {
    "duration": 8,
    "start_time": "2022-06-04T10:12:47.368Z"
   },
   {
    "duration": 21,
    "start_time": "2022-06-04T10:12:47.379Z"
   },
   {
    "duration": 36,
    "start_time": "2022-06-04T10:12:47.403Z"
   },
   {
    "duration": 6,
    "start_time": "2022-06-04T10:12:47.441Z"
   },
   {
    "duration": 6,
    "start_time": "2022-06-04T10:12:47.449Z"
   },
   {
    "duration": 8,
    "start_time": "2022-06-04T10:12:47.456Z"
   },
   {
    "duration": 669,
    "start_time": "2022-06-04T10:12:47.465Z"
   },
   {
    "duration": 282,
    "start_time": "2022-06-04T10:12:48.135Z"
   },
   {
    "duration": 256,
    "start_time": "2022-06-04T10:12:48.423Z"
   },
   {
    "duration": 18,
    "start_time": "2022-06-04T10:12:48.680Z"
   },
   {
    "duration": 202,
    "start_time": "2022-06-04T10:12:48.700Z"
   },
   {
    "duration": 228,
    "start_time": "2022-06-04T10:12:48.904Z"
   },
   {
    "duration": 220,
    "start_time": "2022-06-04T10:12:49.140Z"
   },
   {
    "duration": 13,
    "start_time": "2022-06-04T10:12:49.362Z"
   },
   {
    "duration": 182,
    "start_time": "2022-06-04T10:12:49.376Z"
   },
   {
    "duration": 14,
    "start_time": "2022-06-04T10:12:49.561Z"
   },
   {
    "duration": 100,
    "start_time": "2022-06-04T10:12:49.577Z"
   },
   {
    "duration": 31,
    "start_time": "2022-06-04T10:12:49.678Z"
   },
   {
    "duration": 55,
    "start_time": "2022-06-04T10:12:49.711Z"
   },
   {
    "duration": 6,
    "start_time": "2022-06-04T10:12:49.768Z"
   },
   {
    "duration": 231,
    "start_time": "2022-06-04T10:12:49.776Z"
   },
   {
    "duration": 5,
    "start_time": "2022-06-04T10:12:50.009Z"
   },
   {
    "duration": 653,
    "start_time": "2022-06-04T10:14:02.010Z"
   },
   {
    "duration": 66,
    "start_time": "2022-06-04T10:14:02.666Z"
   },
   {
    "duration": 13,
    "start_time": "2022-06-04T10:14:02.734Z"
   },
   {
    "duration": 12,
    "start_time": "2022-06-04T10:14:02.749Z"
   },
   {
    "duration": 19,
    "start_time": "2022-06-04T10:14:02.764Z"
   },
   {
    "duration": 9,
    "start_time": "2022-06-04T10:14:02.785Z"
   },
   {
    "duration": 7,
    "start_time": "2022-06-04T10:14:02.796Z"
   },
   {
    "duration": 43,
    "start_time": "2022-06-04T10:14:02.805Z"
   },
   {
    "duration": 207,
    "start_time": "2022-06-04T10:14:02.850Z"
   },
   {
    "duration": 232,
    "start_time": "2022-06-04T10:14:03.058Z"
   },
   {
    "duration": 256,
    "start_time": "2022-06-04T10:14:03.292Z"
   },
   {
    "duration": 11,
    "start_time": "2022-06-04T10:14:03.549Z"
   },
   {
    "duration": 196,
    "start_time": "2022-06-04T10:14:03.562Z"
   },
   {
    "duration": 299,
    "start_time": "2022-06-04T10:14:03.761Z"
   },
   {
    "duration": 225,
    "start_time": "2022-06-04T10:14:04.062Z"
   },
   {
    "duration": 11,
    "start_time": "2022-06-04T10:14:04.290Z"
   },
   {
    "duration": 192,
    "start_time": "2022-06-04T10:14:04.303Z"
   },
   {
    "duration": 11,
    "start_time": "2022-06-04T10:14:04.496Z"
   },
   {
    "duration": 86,
    "start_time": "2022-06-04T10:14:04.509Z"
   },
   {
    "duration": 42,
    "start_time": "2022-06-04T10:14:04.596Z"
   },
   {
    "duration": 40,
    "start_time": "2022-06-04T10:14:04.639Z"
   },
   {
    "duration": 7,
    "start_time": "2022-06-04T10:14:04.681Z"
   },
   {
    "duration": 170,
    "start_time": "2022-06-04T10:14:12.392Z"
   },
   {
    "duration": 4,
    "start_time": "2022-06-04T10:14:16.984Z"
   },
   {
    "duration": 981,
    "start_time": "2022-06-04T10:14:22.846Z"
   },
   {
    "duration": 144,
    "start_time": "2022-06-04T10:18:36.476Z"
   },
   {
    "duration": 973,
    "start_time": "2022-06-04T10:18:49.271Z"
   },
   {
    "duration": 930,
    "start_time": "2022-06-04T10:20:39.146Z"
   },
   {
    "duration": 549,
    "start_time": "2022-06-04T10:25:34.836Z"
   },
   {
    "duration": 56,
    "start_time": "2022-06-04T10:25:35.387Z"
   },
   {
    "duration": 8,
    "start_time": "2022-06-04T10:25:35.445Z"
   },
   {
    "duration": 11,
    "start_time": "2022-06-04T10:25:35.454Z"
   },
   {
    "duration": 12,
    "start_time": "2022-06-04T10:25:35.467Z"
   },
   {
    "duration": 7,
    "start_time": "2022-06-04T10:25:35.481Z"
   },
   {
    "duration": 34,
    "start_time": "2022-06-04T10:25:35.490Z"
   },
   {
    "duration": 6,
    "start_time": "2022-06-04T10:25:35.526Z"
   },
   {
    "duration": 181,
    "start_time": "2022-06-04T10:25:35.533Z"
   },
   {
    "duration": 198,
    "start_time": "2022-06-04T10:25:35.716Z"
   },
   {
    "duration": 262,
    "start_time": "2022-06-04T10:25:35.916Z"
   },
   {
    "duration": 705,
    "start_time": "2022-06-04T10:25:44.401Z"
   },
   {
    "duration": 55,
    "start_time": "2022-06-04T10:25:45.122Z"
   },
   {
    "duration": 7,
    "start_time": "2022-06-04T10:25:45.179Z"
   },
   {
    "duration": 8,
    "start_time": "2022-06-04T10:25:45.188Z"
   },
   {
    "duration": 12,
    "start_time": "2022-06-04T10:25:45.222Z"
   },
   {
    "duration": 8,
    "start_time": "2022-06-04T10:25:45.235Z"
   },
   {
    "duration": 6,
    "start_time": "2022-06-04T10:25:45.244Z"
   },
   {
    "duration": 10,
    "start_time": "2022-06-04T10:25:45.251Z"
   },
   {
    "duration": 214,
    "start_time": "2022-06-04T10:25:45.262Z"
   },
   {
    "duration": 204,
    "start_time": "2022-06-04T10:25:45.478Z"
   },
   {
    "duration": 246,
    "start_time": "2022-06-04T10:25:45.684Z"
   },
   {
    "duration": 2,
    "start_time": "2022-06-04T10:25:45.932Z"
   },
   {
    "duration": 197,
    "start_time": "2022-06-04T10:25:45.936Z"
   },
   {
    "duration": 218,
    "start_time": "2022-06-04T10:25:46.135Z"
   },
   {
    "duration": 209,
    "start_time": "2022-06-04T10:25:46.354Z"
   },
   {
    "duration": 10,
    "start_time": "2022-06-04T10:25:46.564Z"
   },
   {
    "duration": 191,
    "start_time": "2022-06-04T10:25:46.575Z"
   },
   {
    "duration": 11,
    "start_time": "2022-06-04T10:25:46.768Z"
   },
   {
    "duration": 83,
    "start_time": "2022-06-04T10:25:46.780Z"
   },
   {
    "duration": 32,
    "start_time": "2022-06-04T10:25:46.865Z"
   },
   {
    "duration": 53,
    "start_time": "2022-06-04T10:25:46.899Z"
   },
   {
    "duration": 7,
    "start_time": "2022-06-04T10:25:46.954Z"
   },
   {
    "duration": 166,
    "start_time": "2022-06-04T10:25:46.963Z"
   },
   {
    "duration": 3,
    "start_time": "2022-06-04T10:25:47.131Z"
   },
   {
    "duration": 1073,
    "start_time": "2022-06-04T10:25:47.136Z"
   },
   {
    "duration": 386,
    "start_time": "2022-06-04T10:25:48.211Z"
   },
   {
    "duration": 0,
    "start_time": "2022-06-04T10:25:48.598Z"
   },
   {
    "duration": 0,
    "start_time": "2022-06-04T10:25:48.599Z"
   },
   {
    "duration": 0,
    "start_time": "2022-06-04T10:25:48.600Z"
   },
   {
    "duration": 43,
    "start_time": "2022-06-04T10:26:26.091Z"
   },
   {
    "duration": 898,
    "start_time": "2022-06-04T10:26:58.191Z"
   },
   {
    "duration": 22,
    "start_time": "2022-06-04T10:27:10.947Z"
   },
   {
    "duration": 15,
    "start_time": "2022-06-04T10:29:22.204Z"
   },
   {
    "duration": 5,
    "start_time": "2022-06-04T10:29:24.911Z"
   },
   {
    "duration": 16,
    "start_time": "2022-06-04T10:29:26.719Z"
   },
   {
    "duration": 5,
    "start_time": "2022-06-04T10:29:37.483Z"
   },
   {
    "duration": 942,
    "start_time": "2022-06-04T10:29:51.844Z"
   }
  ],
  "kernelspec": {
   "display_name": "Python 3 (ipykernel)",
   "language": "python",
   "name": "python3"
  },
  "language_info": {
   "codemirror_mode": {
    "name": "ipython",
    "version": 3
   },
   "file_extension": ".py",
   "mimetype": "text/x-python",
   "name": "python",
   "nbconvert_exporter": "python",
   "pygments_lexer": "ipython3",
   "version": "3.9.13"
  },
  "toc": {
   "base_numbering": 1,
   "nav_menu": {},
   "number_sections": true,
   "sideBar": true,
   "skip_h1_title": true,
   "title_cell": "Содержание",
   "title_sidebar": "Содержание",
   "toc_cell": true,
   "toc_position": {
    "height": "calc(100% - 180px)",
    "left": "10px",
    "top": "150px",
    "width": "248.018px"
   },
   "toc_section_display": true,
   "toc_window_display": true
  }
 },
 "nbformat": 4,
 "nbformat_minor": 5
}

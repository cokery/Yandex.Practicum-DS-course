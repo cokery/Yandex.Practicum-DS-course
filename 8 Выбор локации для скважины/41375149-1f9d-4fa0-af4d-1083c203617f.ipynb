{
 "cells": [
  {
   "cell_type": "markdown",
   "metadata": {},
   "source": [
    "# Выбор локации для скважины"
   ]
  },
  {
   "cell_type": "markdown",
   "metadata": {},
   "source": [
    "Допустим, вы работаете в добывающей компании «ГлавРосГосНефть». Нужно решить, где бурить новую скважину.\n",
    "\n",
    "Вам предоставлены пробы нефти в трёх регионах: в каждом 10 000 месторождений, где измерили качество нефти и объём её запасов. Постройте модель машинного обучения, которая поможет определить регион, где добыча принесёт наибольшую прибыль. Проанализируйте возможную прибыль и риски техникой *Bootstrap.*\n",
    "\n",
    "Шаги для выбора локации:\n",
    "\n",
    "- В избранном регионе ищут месторождения, для каждого определяют значения признаков;\n",
    "- Строят модель и оценивают объём запасов;\n",
    "- Выбирают месторождения с самым высокими оценками значений. Количество месторождений зависит от бюджета компании и стоимости разработки одной скважины;\n",
    "- Прибыль равна суммарной прибыли отобранных месторождений."
   ]
  },
  {
   "cell_type": "markdown",
   "metadata": {},
   "source": [
    "## Загрузка и подготовка данных"
   ]
  },
  {
   "cell_type": "code",
   "execution_count": 2,
   "metadata": {},
   "outputs": [],
   "source": [
    "import numpy as np\n",
    "\n",
    "import pandas as pd\n",
    "\n",
    "from sklearn.metrics import mean_squared_error\n",
    "from sklearn.linear_model import LinearRegression\n",
    "from sklearn.model_selection import train_test_split"
   ]
  },
  {
   "cell_type": "code",
   "execution_count": 3,
   "metadata": {},
   "outputs": [
    {
     "name": "stdout",
     "output_type": "stream",
     "text": [
      "<class 'pandas.core.frame.DataFrame'>\n",
      "RangeIndex: 100000 entries, 0 to 99999\n",
      "Data columns (total 5 columns):\n",
      " #   Column   Non-Null Count   Dtype  \n",
      "---  ------   --------------   -----  \n",
      " 0   id       100000 non-null  object \n",
      " 1   f0       100000 non-null  float64\n",
      " 2   f1       100000 non-null  float64\n",
      " 3   f2       100000 non-null  float64\n",
      " 4   product  100000 non-null  float64\n",
      "dtypes: float64(4), object(1)\n",
      "memory usage: 3.8+ MB\n"
     ]
    },
    {
     "data": {
      "text/html": [
       "<div>\n",
       "<style scoped>\n",
       "    .dataframe tbody tr th:only-of-type {\n",
       "        vertical-align: middle;\n",
       "    }\n",
       "\n",
       "    .dataframe tbody tr th {\n",
       "        vertical-align: top;\n",
       "    }\n",
       "\n",
       "    .dataframe thead th {\n",
       "        text-align: right;\n",
       "    }\n",
       "</style>\n",
       "<table border=\"1\" class=\"dataframe\">\n",
       "  <thead>\n",
       "    <tr style=\"text-align: right;\">\n",
       "      <th></th>\n",
       "      <th>id</th>\n",
       "      <th>f0</th>\n",
       "      <th>f1</th>\n",
       "      <th>f2</th>\n",
       "      <th>product</th>\n",
       "    </tr>\n",
       "  </thead>\n",
       "  <tbody>\n",
       "    <tr>\n",
       "      <th>0</th>\n",
       "      <td>txEyH</td>\n",
       "      <td>0.705745</td>\n",
       "      <td>-0.497823</td>\n",
       "      <td>1.221170</td>\n",
       "      <td>105.280062</td>\n",
       "    </tr>\n",
       "    <tr>\n",
       "      <th>1</th>\n",
       "      <td>2acmU</td>\n",
       "      <td>1.334711</td>\n",
       "      <td>-0.340164</td>\n",
       "      <td>4.365080</td>\n",
       "      <td>73.037750</td>\n",
       "    </tr>\n",
       "    <tr>\n",
       "      <th>2</th>\n",
       "      <td>409Wp</td>\n",
       "      <td>1.022732</td>\n",
       "      <td>0.151990</td>\n",
       "      <td>1.419926</td>\n",
       "      <td>85.265647</td>\n",
       "    </tr>\n",
       "    <tr>\n",
       "      <th>3</th>\n",
       "      <td>iJLyR</td>\n",
       "      <td>-0.032172</td>\n",
       "      <td>0.139033</td>\n",
       "      <td>2.978566</td>\n",
       "      <td>168.620776</td>\n",
       "    </tr>\n",
       "    <tr>\n",
       "      <th>4</th>\n",
       "      <td>Xdl7t</td>\n",
       "      <td>1.988431</td>\n",
       "      <td>0.155413</td>\n",
       "      <td>4.751769</td>\n",
       "      <td>154.036647</td>\n",
       "    </tr>\n",
       "  </tbody>\n",
       "</table>\n",
       "</div>"
      ],
      "text/plain": [
       "      id        f0        f1        f2     product\n",
       "0  txEyH  0.705745 -0.497823  1.221170  105.280062\n",
       "1  2acmU  1.334711 -0.340164  4.365080   73.037750\n",
       "2  409Wp  1.022732  0.151990  1.419926   85.265647\n",
       "3  iJLyR -0.032172  0.139033  2.978566  168.620776\n",
       "4  Xdl7t  1.988431  0.155413  4.751769  154.036647"
      ]
     },
     "metadata": {},
     "output_type": "display_data"
    },
    {
     "name": "stdout",
     "output_type": "stream",
     "text": [
      "<class 'pandas.core.frame.DataFrame'>\n",
      "RangeIndex: 100000 entries, 0 to 99999\n",
      "Data columns (total 5 columns):\n",
      " #   Column   Non-Null Count   Dtype  \n",
      "---  ------   --------------   -----  \n",
      " 0   id       100000 non-null  object \n",
      " 1   f0       100000 non-null  float64\n",
      " 2   f1       100000 non-null  float64\n",
      " 3   f2       100000 non-null  float64\n",
      " 4   product  100000 non-null  float64\n",
      "dtypes: float64(4), object(1)\n",
      "memory usage: 3.8+ MB\n"
     ]
    },
    {
     "data": {
      "text/html": [
       "<div>\n",
       "<style scoped>\n",
       "    .dataframe tbody tr th:only-of-type {\n",
       "        vertical-align: middle;\n",
       "    }\n",
       "\n",
       "    .dataframe tbody tr th {\n",
       "        vertical-align: top;\n",
       "    }\n",
       "\n",
       "    .dataframe thead th {\n",
       "        text-align: right;\n",
       "    }\n",
       "</style>\n",
       "<table border=\"1\" class=\"dataframe\">\n",
       "  <thead>\n",
       "    <tr style=\"text-align: right;\">\n",
       "      <th></th>\n",
       "      <th>id</th>\n",
       "      <th>f0</th>\n",
       "      <th>f1</th>\n",
       "      <th>f2</th>\n",
       "      <th>product</th>\n",
       "    </tr>\n",
       "  </thead>\n",
       "  <tbody>\n",
       "    <tr>\n",
       "      <th>0</th>\n",
       "      <td>kBEdx</td>\n",
       "      <td>-15.001348</td>\n",
       "      <td>-8.276000</td>\n",
       "      <td>-0.005876</td>\n",
       "      <td>3.179103</td>\n",
       "    </tr>\n",
       "    <tr>\n",
       "      <th>1</th>\n",
       "      <td>62mP7</td>\n",
       "      <td>14.272088</td>\n",
       "      <td>-3.475083</td>\n",
       "      <td>0.999183</td>\n",
       "      <td>26.953261</td>\n",
       "    </tr>\n",
       "    <tr>\n",
       "      <th>2</th>\n",
       "      <td>vyE1P</td>\n",
       "      <td>6.263187</td>\n",
       "      <td>-5.948386</td>\n",
       "      <td>5.001160</td>\n",
       "      <td>134.766305</td>\n",
       "    </tr>\n",
       "    <tr>\n",
       "      <th>3</th>\n",
       "      <td>KcrkZ</td>\n",
       "      <td>-13.081196</td>\n",
       "      <td>-11.506057</td>\n",
       "      <td>4.999415</td>\n",
       "      <td>137.945408</td>\n",
       "    </tr>\n",
       "    <tr>\n",
       "      <th>4</th>\n",
       "      <td>AHL4O</td>\n",
       "      <td>12.702195</td>\n",
       "      <td>-8.147433</td>\n",
       "      <td>5.004363</td>\n",
       "      <td>134.766305</td>\n",
       "    </tr>\n",
       "  </tbody>\n",
       "</table>\n",
       "</div>"
      ],
      "text/plain": [
       "      id         f0         f1        f2     product\n",
       "0  kBEdx -15.001348  -8.276000 -0.005876    3.179103\n",
       "1  62mP7  14.272088  -3.475083  0.999183   26.953261\n",
       "2  vyE1P   6.263187  -5.948386  5.001160  134.766305\n",
       "3  KcrkZ -13.081196 -11.506057  4.999415  137.945408\n",
       "4  AHL4O  12.702195  -8.147433  5.004363  134.766305"
      ]
     },
     "metadata": {},
     "output_type": "display_data"
    },
    {
     "name": "stdout",
     "output_type": "stream",
     "text": [
      "<class 'pandas.core.frame.DataFrame'>\n",
      "RangeIndex: 100000 entries, 0 to 99999\n",
      "Data columns (total 5 columns):\n",
      " #   Column   Non-Null Count   Dtype  \n",
      "---  ------   --------------   -----  \n",
      " 0   id       100000 non-null  object \n",
      " 1   f0       100000 non-null  float64\n",
      " 2   f1       100000 non-null  float64\n",
      " 3   f2       100000 non-null  float64\n",
      " 4   product  100000 non-null  float64\n",
      "dtypes: float64(4), object(1)\n",
      "memory usage: 3.8+ MB\n"
     ]
    },
    {
     "data": {
      "text/html": [
       "<div>\n",
       "<style scoped>\n",
       "    .dataframe tbody tr th:only-of-type {\n",
       "        vertical-align: middle;\n",
       "    }\n",
       "\n",
       "    .dataframe tbody tr th {\n",
       "        vertical-align: top;\n",
       "    }\n",
       "\n",
       "    .dataframe thead th {\n",
       "        text-align: right;\n",
       "    }\n",
       "</style>\n",
       "<table border=\"1\" class=\"dataframe\">\n",
       "  <thead>\n",
       "    <tr style=\"text-align: right;\">\n",
       "      <th></th>\n",
       "      <th>id</th>\n",
       "      <th>f0</th>\n",
       "      <th>f1</th>\n",
       "      <th>f2</th>\n",
       "      <th>product</th>\n",
       "    </tr>\n",
       "  </thead>\n",
       "  <tbody>\n",
       "    <tr>\n",
       "      <th>0</th>\n",
       "      <td>fwXo0</td>\n",
       "      <td>-1.146987</td>\n",
       "      <td>0.963328</td>\n",
       "      <td>-0.828965</td>\n",
       "      <td>27.758673</td>\n",
       "    </tr>\n",
       "    <tr>\n",
       "      <th>1</th>\n",
       "      <td>WJtFt</td>\n",
       "      <td>0.262778</td>\n",
       "      <td>0.269839</td>\n",
       "      <td>-2.530187</td>\n",
       "      <td>56.069697</td>\n",
       "    </tr>\n",
       "    <tr>\n",
       "      <th>2</th>\n",
       "      <td>ovLUW</td>\n",
       "      <td>0.194587</td>\n",
       "      <td>0.289035</td>\n",
       "      <td>-5.586433</td>\n",
       "      <td>62.871910</td>\n",
       "    </tr>\n",
       "    <tr>\n",
       "      <th>3</th>\n",
       "      <td>q6cA6</td>\n",
       "      <td>2.236060</td>\n",
       "      <td>-0.553760</td>\n",
       "      <td>0.930038</td>\n",
       "      <td>114.572842</td>\n",
       "    </tr>\n",
       "    <tr>\n",
       "      <th>4</th>\n",
       "      <td>WPMUX</td>\n",
       "      <td>-0.515993</td>\n",
       "      <td>1.716266</td>\n",
       "      <td>5.899011</td>\n",
       "      <td>149.600746</td>\n",
       "    </tr>\n",
       "  </tbody>\n",
       "</table>\n",
       "</div>"
      ],
      "text/plain": [
       "      id        f0        f1        f2     product\n",
       "0  fwXo0 -1.146987  0.963328 -0.828965   27.758673\n",
       "1  WJtFt  0.262778  0.269839 -2.530187   56.069697\n",
       "2  ovLUW  0.194587  0.289035 -5.586433   62.871910\n",
       "3  q6cA6  2.236060 -0.553760  0.930038  114.572842\n",
       "4  WPMUX -0.515993  1.716266  5.899011  149.600746"
      ]
     },
     "metadata": {},
     "output_type": "display_data"
    }
   ],
   "source": [
    "try:\n",
    "    df0 = pd.read_csv('geo_data_0.csv')\n",
    "    df1 = pd.read_csv('geo_data_1.csv')\n",
    "    df2 = pd.read_csv('geo_data_2.csv')\n",
    "except:\n",
    "    df0 = pd.read_csv('/datasets/geo_data_0.csv')\n",
    "    df1 = pd.read_csv('/datasets/geo_data_1.csv')\n",
    "    df2 = pd.read_csv('/datasets/geo_data_2.csv')\n",
    "    \n",
    "df0.info()\n",
    "display(df0.head())\n",
    "\n",
    "df1.info()\n",
    "df1.head()\n",
    "display(df1.head())\n",
    "\n",
    "df2.info()\n",
    "display(df2.head())"
   ]
  },
  {
   "cell_type": "markdown",
   "metadata": {},
   "source": [
    "Проверка на дубли"
   ]
  },
  {
   "cell_type": "code",
   "execution_count": 25,
   "metadata": {},
   "outputs": [
    {
     "data": {
      "text/html": [
       "<div>\n",
       "<style scoped>\n",
       "    .dataframe tbody tr th:only-of-type {\n",
       "        vertical-align: middle;\n",
       "    }\n",
       "\n",
       "    .dataframe tbody tr th {\n",
       "        vertical-align: top;\n",
       "    }\n",
       "\n",
       "    .dataframe thead th {\n",
       "        text-align: right;\n",
       "    }\n",
       "</style>\n",
       "<table border=\"1\" class=\"dataframe\">\n",
       "  <thead>\n",
       "    <tr style=\"text-align: right;\">\n",
       "      <th></th>\n",
       "      <th>id</th>\n",
       "      <th>f0</th>\n",
       "      <th>f1</th>\n",
       "      <th>f2</th>\n",
       "      <th>product</th>\n",
       "    </tr>\n",
       "  </thead>\n",
       "  <tbody>\n",
       "  </tbody>\n",
       "</table>\n",
       "</div>"
      ],
      "text/plain": [
       "Empty DataFrame\n",
       "Columns: [id, f0, f1, f2, product]\n",
       "Index: []"
      ]
     },
     "metadata": {},
     "output_type": "display_data"
    },
    {
     "data": {
      "text/html": [
       "<div>\n",
       "<style scoped>\n",
       "    .dataframe tbody tr th:only-of-type {\n",
       "        vertical-align: middle;\n",
       "    }\n",
       "\n",
       "    .dataframe tbody tr th {\n",
       "        vertical-align: top;\n",
       "    }\n",
       "\n",
       "    .dataframe thead th {\n",
       "        text-align: right;\n",
       "    }\n",
       "</style>\n",
       "<table border=\"1\" class=\"dataframe\">\n",
       "  <thead>\n",
       "    <tr style=\"text-align: right;\">\n",
       "      <th></th>\n",
       "      <th>id</th>\n",
       "      <th>f0</th>\n",
       "      <th>f1</th>\n",
       "      <th>f2</th>\n",
       "      <th>product</th>\n",
       "    </tr>\n",
       "  </thead>\n",
       "  <tbody>\n",
       "  </tbody>\n",
       "</table>\n",
       "</div>"
      ],
      "text/plain": [
       "Empty DataFrame\n",
       "Columns: [id, f0, f1, f2, product]\n",
       "Index: []"
      ]
     },
     "metadata": {},
     "output_type": "display_data"
    },
    {
     "data": {
      "text/html": [
       "<div>\n",
       "<style scoped>\n",
       "    .dataframe tbody tr th:only-of-type {\n",
       "        vertical-align: middle;\n",
       "    }\n",
       "\n",
       "    .dataframe tbody tr th {\n",
       "        vertical-align: top;\n",
       "    }\n",
       "\n",
       "    .dataframe thead th {\n",
       "        text-align: right;\n",
       "    }\n",
       "</style>\n",
       "<table border=\"1\" class=\"dataframe\">\n",
       "  <thead>\n",
       "    <tr style=\"text-align: right;\">\n",
       "      <th></th>\n",
       "      <th>id</th>\n",
       "      <th>f0</th>\n",
       "      <th>f1</th>\n",
       "      <th>f2</th>\n",
       "      <th>product</th>\n",
       "    </tr>\n",
       "  </thead>\n",
       "  <tbody>\n",
       "  </tbody>\n",
       "</table>\n",
       "</div>"
      ],
      "text/plain": [
       "Empty DataFrame\n",
       "Columns: [id, f0, f1, f2, product]\n",
       "Index: []"
      ]
     },
     "metadata": {},
     "output_type": "display_data"
    }
   ],
   "source": [
    "display(df0[df0.duplicated()])\n",
    "display(df0[df1.duplicated()])\n",
    "display(df0[df2.duplicated()])"
   ]
  },
  {
   "cell_type": "code",
   "execution_count": 26,
   "metadata": {},
   "outputs": [],
   "source": [
    "#Выделение признаков и целевого признака\n",
    "features0 = df0.drop(['id', 'product'], axis=1)\n",
    "features1 = df1.drop(['id', 'product'], axis=1)\n",
    "features2 = df2.drop(['id', 'product'], axis=1)\n",
    "\n",
    "target0 = df0['product']\n",
    "target1 = df1['product']\n",
    "target2 = df2['product']\n",
    "\n",
    "features_train0, features_valid0, target_train0, target_valid0 = (\n",
    "    train_test_split(features0, target0, test_size=0.25, random_state=12345)\n",
    ")\n",
    "features_train1, features_valid1, target_train1, target_valid1 = (\n",
    "    train_test_split(features1, target1, test_size=0.25, random_state=12345)\n",
    ")\n",
    "features_train2, features_valid2, target_train2, target_valid2 = (\n",
    "    train_test_split(features2, target2, test_size=0.25, random_state=12345)\n",
    ")"
   ]
  },
  {
   "cell_type": "markdown",
   "metadata": {},
   "source": [
    "## Обучение и проверка модели"
   ]
  },
  {
   "cell_type": "code",
   "execution_count": 46,
   "metadata": {},
   "outputs": [
    {
     "name": "stdout",
     "output_type": "stream",
     "text": [
      "Средний запас сырья (предсказания, регион 0): 93.0\n",
      "RMSE 0: 37.5794217150813 \n",
      "\n",
      "Средний запас сырья (предсказания, регион 1): 69.0\n",
      "RMSE 1: 0.893099286775617 \n",
      "\n",
      "Средний запас сырья (предсказания, регион 2): 95.0\n",
      "RMSE 2: 40.02970873393434 \n",
      "\n"
     ]
    }
   ],
   "source": [
    "def predict_region(model, features_train, target_train, features_valid, target_valid, num_reg):\n",
    "    model.fit(features_train, target_train)\n",
    "    predictions = model.predict(features_valid)\n",
    "    predictions = pd.Series(predictions, index=target_valid.index)\n",
    "    mse = mean_squared_error(target_valid, predictions)\n",
    "    rmse = mse ** 0.5\n",
    "    print(f'Средний запас сырья (предсказания, регион {num_reg}): {(predictions.sum()/len(predictions)).round(0)}')\n",
    "    print(f'RMSE {num_reg}: {rmse} \\n')\n",
    "    return predictions\n",
    "\n",
    "model0 = LinearRegression()\n",
    "predictions0 = predict_region(model0, features_train0, target_train0, features_valid0, target_valid0, 0)\n",
    "\n",
    "model1 = LinearRegression()\n",
    "predictions1 = predict_region(model1, features_train1, target_train1, features_valid1, target_valid1, 1)\n",
    "\n",
    "model2 = LinearRegression()\n",
    "predictions2 = predict_region(model2, features_train2, target_train2, features_valid2, target_valid2, 2)"
   ]
  },
  {
   "cell_type": "markdown",
   "metadata": {},
   "source": [
    "Если анализировать предсказания по добыче в разных регионах, то средний уровень добычи со скважины наибольший в регионе \"Регион 2\", и составляет 95 тыс. баррелей со скважины (корень из среднеквадратичной ошибки - 40 тыс. баррелей)."
   ]
  },
  {
   "cell_type": "markdown",
   "metadata": {},
   "source": [
    "## Подготовка к расчёту прибыли"
   ]
  },
  {
   "cell_type": "code",
   "execution_count": 28,
   "metadata": {},
   "outputs": [
    {
     "name": "stdout",
     "output_type": "stream",
     "text": [
      "10000000000.0\n",
      "Минимальное среднее значение сырья для достижения точки безубыточности: 111\n"
     ]
    }
   ],
   "source": [
    "#При разведке региона исследуют 500 точек, из которых с помощью машинного обучения выбирают 200 лучших для разработки.\n",
    "Sample_size = 500\n",
    "Count_best = 200\n",
    "#Бюджет на разработку скважин в регионе — 10 млрд рублей.\n",
    "Budget = 1e10\n",
    "print(Budget)\n",
    "#При нынешних ценах один баррель сырья приносит 450 рублей дохода. Доход с каждой единицы продукта составляет 450 тыс. рублей, поскольку объём указан в тысячах баррелей.\n",
    "Revenue_per_bar = 450_000\n",
    "#После оценки рисков нужно оставить лишь те регионы, в которых вероятность убытков меньше 2.5%. Среди них выбирают регион с наибольшей средней прибылью.\n",
    "Loss_prob = 0.025\n",
    "#Объем для достижения точки безубыточности\n",
    "Min_volume_limit = round(Budget / Revenue_per_bar / Count_best)\n",
    "\n",
    "print(\"Минимальное среднее значение сырья для достижения точки безубыточности:\", Min_volume_limit)"
   ]
  },
  {
   "cell_type": "markdown",
   "metadata": {},
   "source": [
    "Видно, что в среднем уровень безубыточности достигается при среднем объеме сырья в скважине - 111 тыс. бар. Если анализировать по среднему, то ни один из регионов не подходит для разработки. Т.е. 100% гарантии нет. Однако, нам на помощь приходит машинное обучение, которое сможет подобрать регион с большей вероятностью получения прибыли и меньшими рисками убытков. К тому же, цены на нефть могут вырасти, как бывало неоднократно в истории."
   ]
  },
  {
   "cell_type": "markdown",
   "metadata": {},
   "source": [
    "## Расчёт прибыли и рисков "
   ]
  },
  {
   "cell_type": "code",
   "execution_count": 49,
   "metadata": {},
   "outputs": [
    {
     "name": "stdout",
     "output_type": "stream",
     "text": [
      "Средняя прибыль (регион 0): 396,164,985.0\n",
      "Вероятность получения убытка (регион 0): 6.9%\n",
      "95% доверительный интервал (регион 0): (-111,215,546.0 909,766,942.0)  \n",
      "\n",
      "Средняя прибыль (регион 1): 461,155,817.0\n",
      "Вероятность получения убытка (регион 1): 0.7%\n",
      "95% доверительный интервал (регион 1): (78,050,811.0 862,952,060.0)  \n",
      "\n",
      "Средняя прибыль (регион 2): 392,950,475.0\n",
      "Вероятность получения убытка (регион 2): 6.5%\n",
      "95% доверительный интервал (регион 2): (-112,227,625.0 934,562,915.0)  \n",
      "\n"
     ]
    }
   ],
   "source": [
    "#Количество итераций для bootstrap\n",
    "N_iter = 1000\n",
    "state = np.random.RandomState(12345)\n",
    "\n",
    "#Функция для расчет прибыли\n",
    "def revenue(predictions, target, count):\n",
    "    predictions.sort_values(ascending=False, inplace=True)\n",
    "    selected = target[predictions.index][:count]\n",
    "    return revenue_per_bar * selected.sum() - budget\n",
    "\n",
    "def bootstrap_region(predictions, target, n_reg):\n",
    "    values = []\n",
    "    loss_count = 0\n",
    "    pred = pd.Series(predictions)\n",
    "    for i in range(N_iter):\n",
    "        pred_subsample = pred.sample(n=Sample_size, random_state=state, replace=True)\n",
    "        cur_revenue = revenue(pred_subsample, target, Count_best)\n",
    "        values.append(cur_revenue)\n",
    "        loss_count += (cur_revenue < 0)\n",
    "\n",
    "    values = pd.Series(values)\n",
    "    mean = values.mean().round(0)\n",
    "    print(f'Средняя прибыль (регион {n_reg}): {mean:,}')\n",
    "    print(f'Вероятность получения убытка (регион {n_reg}): {round(100 * loss_count/N_iter, 4)}%')\n",
    "    low = values.quantile(0.025).round(0)\n",
    "    high = values.quantile(0.975).round(0)\n",
    "    print(f'95% доверительный интервал (регион {n_reg}): ({low:,} {high:,})  \\n')\n",
    "    \n",
    "\n",
    "bootstrap_region(predictions0, target_valid0, 0)\n",
    "bootstrap_region(predictions1, target_valid1, 1)\n",
    "bootstrap_region(predictions2, target_valid2, 2)"
   ]
  },
  {
   "cell_type": "markdown",
   "metadata": {},
   "source": [
    "Выше всего потенциальная средняя прибыль в регионе \"Регион 1\", и составляет 461,155,817 руб.  с 95% доверительным интервалом (78,050,811.0 862,952,060.0)"
   ]
  },
  {
   "cell_type": "markdown",
   "metadata": {},
   "source": [
    "## Выводы\n",
    "\n",
    "Проведен выбор наиболее оптимального региона для бурения новых скважин путем анализа данных по уже функционирующим скважинам.\n",
    "Более всего подходит \"Регион 1\", т. к. потенциально полученная прибыль при бурении в нем 200 скважин составляет 461,155,817 руб. с 95% доверительным интервалом (78,050,811.0 862,952,060.0), а вероятность получения убытка - 0.7%"
   ]
  }
 ],
 "metadata": {
  "ExecuteTimeLog": [
   {
    "duration": 50,
    "start_time": "2022-07-20T20:02:46.327Z"
   },
   {
    "duration": 432,
    "start_time": "2022-07-20T20:03:04.060Z"
   },
   {
    "duration": 158,
    "start_time": "2022-07-20T20:03:04.680Z"
   },
   {
    "duration": 3,
    "start_time": "2022-07-20T20:03:42.198Z"
   },
   {
    "duration": 1867,
    "start_time": "2022-07-20T20:03:42.691Z"
   },
   {
    "duration": 465,
    "start_time": "2022-07-20T20:05:30.183Z"
   },
   {
    "duration": 445,
    "start_time": "2022-07-20T20:05:39.426Z"
   },
   {
    "duration": 463,
    "start_time": "2022-07-20T20:05:53.498Z"
   },
   {
    "duration": 562,
    "start_time": "2022-07-20T20:06:03.620Z"
   },
   {
    "duration": 81,
    "start_time": "2022-07-20T20:06:34.651Z"
   },
   {
    "duration": 477,
    "start_time": "2022-07-20T20:06:47.454Z"
   },
   {
    "duration": 436,
    "start_time": "2022-07-20T20:06:53.182Z"
   },
   {
    "duration": 459,
    "start_time": "2022-07-20T20:07:16.649Z"
   },
   {
    "duration": 448,
    "start_time": "2022-07-20T20:07:33.439Z"
   },
   {
    "duration": 450,
    "start_time": "2022-07-20T20:07:54.540Z"
   },
   {
    "duration": 497,
    "start_time": "2022-07-20T20:08:10.961Z"
   },
   {
    "duration": 346,
    "start_time": "2022-07-21T12:11:51.716Z"
   },
   {
    "duration": 865,
    "start_time": "2022-07-21T12:11:54.009Z"
   },
   {
    "duration": 491,
    "start_time": "2022-07-21T12:13:21.639Z"
   },
   {
    "duration": 46,
    "start_time": "2022-07-21T12:14:02.500Z"
   },
   {
    "duration": 127,
    "start_time": "2022-07-21T12:14:12.498Z"
   },
   {
    "duration": 20,
    "start_time": "2022-07-21T12:17:16.816Z"
   },
   {
    "duration": 11,
    "start_time": "2022-07-21T12:17:42.316Z"
   },
   {
    "duration": 2,
    "start_time": "2022-07-21T12:18:45.828Z"
   },
   {
    "duration": 19,
    "start_time": "2022-07-21T12:19:05.500Z"
   },
   {
    "duration": 19,
    "start_time": "2022-07-21T12:19:08.758Z"
   },
   {
    "duration": 646,
    "start_time": "2022-07-21T12:19:39.052Z"
   },
   {
    "duration": 28,
    "start_time": "2022-07-21T12:19:42.467Z"
   },
   {
    "duration": 61,
    "start_time": "2022-07-21T12:20:34.925Z"
   },
   {
    "duration": 25,
    "start_time": "2022-07-21T12:37:46.381Z"
   },
   {
    "duration": 39,
    "start_time": "2022-07-21T12:37:52.617Z"
   },
   {
    "duration": 8,
    "start_time": "2022-07-21T12:38:26.798Z"
   },
   {
    "duration": 8,
    "start_time": "2022-07-21T12:38:33.979Z"
   },
   {
    "duration": 32,
    "start_time": "2022-07-21T12:39:38.180Z"
   },
   {
    "duration": 47,
    "start_time": "2022-07-21T12:40:14.231Z"
   },
   {
    "duration": 11,
    "start_time": "2022-07-21T12:40:16.923Z"
   },
   {
    "duration": 13,
    "start_time": "2022-07-21T12:41:51.530Z"
   },
   {
    "duration": 3,
    "start_time": "2022-07-21T12:49:04.294Z"
   },
   {
    "duration": 78,
    "start_time": "2022-07-21T12:50:10.473Z"
   },
   {
    "duration": 49,
    "start_time": "2022-07-21T12:50:15.638Z"
   },
   {
    "duration": 95,
    "start_time": "2022-07-21T12:50:22.573Z"
   },
   {
    "duration": 23,
    "start_time": "2022-07-21T12:50:33.079Z"
   },
   {
    "duration": 40,
    "start_time": "2022-07-21T13:09:22.927Z"
   },
   {
    "duration": 162,
    "start_time": "2022-07-21T13:47:52.009Z"
   },
   {
    "duration": 33,
    "start_time": "2022-07-21T13:48:19.131Z"
   },
   {
    "duration": 187,
    "start_time": "2022-07-21T13:48:22.181Z"
   },
   {
    "duration": 4,
    "start_time": "2022-07-21T14:33:09.837Z"
   },
   {
    "duration": 10,
    "start_time": "2022-07-21T14:44:55.046Z"
   },
   {
    "duration": 4,
    "start_time": "2022-07-21T14:45:06.074Z"
   },
   {
    "duration": 979,
    "start_time": "2022-07-21T14:45:08.014Z"
   },
   {
    "duration": 3021,
    "start_time": "2022-07-21T14:47:59.988Z"
   },
   {
    "duration": 286,
    "start_time": "2022-07-21T14:49:39.976Z"
   },
   {
    "duration": 2424,
    "start_time": "2022-07-21T15:02:34.506Z"
   },
   {
    "duration": 2249,
    "start_time": "2022-07-21T15:03:40.525Z"
   },
   {
    "duration": 2228,
    "start_time": "2022-07-21T15:08:11.126Z"
   },
   {
    "duration": 2217,
    "start_time": "2022-07-21T15:08:40.975Z"
   },
   {
    "duration": 1122,
    "start_time": "2022-07-21T19:57:46.031Z"
   },
   {
    "duration": 1985,
    "start_time": "2022-07-21T19:57:47.156Z"
   },
   {
    "duration": 155,
    "start_time": "2022-07-21T19:57:49.143Z"
   },
   {
    "duration": 40,
    "start_time": "2022-07-21T19:57:49.309Z"
   },
   {
    "duration": 112,
    "start_time": "2022-07-21T19:57:49.351Z"
   },
   {
    "duration": 0,
    "start_time": "2022-07-21T19:57:49.464Z"
   },
   {
    "duration": 0,
    "start_time": "2022-07-21T19:57:49.466Z"
   },
   {
    "duration": 22,
    "start_time": "2022-07-21T19:58:11.334Z"
   },
   {
    "duration": 270,
    "start_time": "2022-07-21T19:58:40.442Z"
   },
   {
    "duration": 1161,
    "start_time": "2022-07-21T19:58:48.083Z"
   },
   {
    "duration": 529,
    "start_time": "2022-07-21T19:58:49.246Z"
   },
   {
    "duration": 172,
    "start_time": "2022-07-21T19:58:49.777Z"
   },
   {
    "duration": 39,
    "start_time": "2022-07-21T19:58:49.952Z"
   },
   {
    "duration": 428,
    "start_time": "2022-07-21T19:58:49.993Z"
   },
   {
    "duration": 301,
    "start_time": "2022-07-21T19:58:50.423Z"
   },
   {
    "duration": 0,
    "start_time": "2022-07-21T19:58:50.726Z"
   },
   {
    "duration": 4,
    "start_time": "2022-07-21T19:59:15.421Z"
   },
   {
    "duration": 3245,
    "start_time": "2022-07-21T19:59:19.602Z"
   },
   {
    "duration": 3112,
    "start_time": "2022-07-21T19:59:53.159Z"
   },
   {
    "duration": 3152,
    "start_time": "2022-07-21T20:00:56.310Z"
   },
   {
    "duration": 3150,
    "start_time": "2022-07-21T20:08:11.836Z"
   },
   {
    "duration": 3235,
    "start_time": "2022-07-21T20:09:11.381Z"
   },
   {
    "duration": 1408,
    "start_time": "2022-07-21T20:11:54.972Z"
   },
   {
    "duration": 1150,
    "start_time": "2022-07-21T20:14:46.668Z"
   },
   {
    "duration": 546,
    "start_time": "2022-07-21T20:14:47.821Z"
   },
   {
    "duration": 209,
    "start_time": "2022-07-21T20:14:48.370Z"
   },
   {
    "duration": 52,
    "start_time": "2022-07-21T20:14:48.582Z"
   },
   {
    "duration": 253,
    "start_time": "2022-07-21T20:14:48.636Z"
   },
   {
    "duration": 0,
    "start_time": "2022-07-21T20:14:48.891Z"
   },
   {
    "duration": 0,
    "start_time": "2022-07-21T20:14:48.892Z"
   },
   {
    "duration": 1174,
    "start_time": "2022-07-21T20:18:06.562Z"
   },
   {
    "duration": 557,
    "start_time": "2022-07-21T20:18:07.738Z"
   },
   {
    "duration": 173,
    "start_time": "2022-07-21T20:18:08.309Z"
   },
   {
    "duration": 61,
    "start_time": "2022-07-21T20:18:08.485Z"
   },
   {
    "duration": 254,
    "start_time": "2022-07-21T20:18:08.549Z"
   },
   {
    "duration": 0,
    "start_time": "2022-07-21T20:18:08.810Z"
   },
   {
    "duration": 0,
    "start_time": "2022-07-21T20:18:08.811Z"
   },
   {
    "duration": 59,
    "start_time": "2022-07-21T20:19:37.651Z"
   },
   {
    "duration": 243,
    "start_time": "2022-07-21T20:19:53.177Z"
   },
   {
    "duration": 417,
    "start_time": "2022-07-21T20:20:10.396Z"
   },
   {
    "duration": 1134,
    "start_time": "2022-07-21T20:20:37.061Z"
   },
   {
    "duration": 529,
    "start_time": "2022-07-21T20:20:38.198Z"
   },
   {
    "duration": 207,
    "start_time": "2022-07-21T20:20:38.729Z"
   },
   {
    "duration": 51,
    "start_time": "2022-07-21T20:20:38.939Z"
   },
   {
    "duration": 318,
    "start_time": "2022-07-21T20:20:38.992Z"
   },
   {
    "duration": 10,
    "start_time": "2022-07-21T20:20:39.313Z"
   },
   {
    "duration": 198,
    "start_time": "2022-07-21T20:20:39.325Z"
   },
   {
    "duration": 22,
    "start_time": "2022-07-21T20:25:29.795Z"
   },
   {
    "duration": 20,
    "start_time": "2022-07-21T20:25:52.411Z"
   },
   {
    "duration": 921,
    "start_time": "2022-07-21T20:26:25.244Z"
   },
   {
    "duration": 1330,
    "start_time": "2022-07-21T20:26:49.051Z"
   },
   {
    "duration": 1387,
    "start_time": "2022-07-21T20:27:17.248Z"
   },
   {
    "duration": 1350,
    "start_time": "2022-07-21T20:27:35.897Z"
   },
   {
    "duration": 1448,
    "start_time": "2022-07-21T20:28:59.472Z"
   },
   {
    "duration": 1493,
    "start_time": "2022-07-22T07:36:26.581Z"
   },
   {
    "duration": 1507,
    "start_time": "2022-07-22T07:45:10.804Z"
   },
   {
    "duration": 96,
    "start_time": "2022-07-22T07:45:54.982Z"
   },
   {
    "duration": 1395,
    "start_time": "2022-07-22T07:46:13.741Z"
   },
   {
    "duration": 1497,
    "start_time": "2022-07-22T07:56:31.118Z"
   },
   {
    "duration": 1271,
    "start_time": "2022-07-22T20:22:45.985Z"
   },
   {
    "duration": 874,
    "start_time": "2022-07-22T20:22:49.639Z"
   },
   {
    "duration": 41,
    "start_time": "2022-07-22T20:22:55.217Z"
   },
   {
    "duration": 345,
    "start_time": "2022-07-22T20:23:01.420Z"
   },
   {
    "duration": 4,
    "start_time": "2022-07-22T20:23:11.269Z"
   },
   {
    "duration": 5,
    "start_time": "2022-07-22T20:24:14.067Z"
   },
   {
    "duration": 6,
    "start_time": "2022-07-22T20:24:33.785Z"
   },
   {
    "duration": 2635,
    "start_time": "2022-07-22T20:28:01.452Z"
   },
   {
    "duration": 48,
    "start_time": "2022-07-23T12:18:31.009Z"
   },
   {
    "duration": 1051,
    "start_time": "2022-07-23T12:18:41.644Z"
   },
   {
    "duration": 87,
    "start_time": "2022-07-23T12:18:42.697Z"
   },
   {
    "duration": 0,
    "start_time": "2022-07-23T12:18:42.785Z"
   },
   {
    "duration": 0,
    "start_time": "2022-07-23T12:18:42.786Z"
   },
   {
    "duration": 60,
    "start_time": "2022-07-23T12:18:48.584Z"
   },
   {
    "duration": 0,
    "start_time": "2022-07-23T12:20:24.518Z"
   },
   {
    "duration": 16,
    "start_time": "2022-07-23T12:20:28.906Z"
   },
   {
    "duration": 73,
    "start_time": "2022-07-23T12:20:35.749Z"
   },
   {
    "duration": 839,
    "start_time": "2022-07-23T12:20:54.353Z"
   },
   {
    "duration": 136,
    "start_time": "2022-07-23T12:20:58.050Z"
   },
   {
    "duration": 39,
    "start_time": "2022-07-23T12:20:58.773Z"
   },
   {
    "duration": 13,
    "start_time": "2022-07-23T12:21:01.345Z"
   },
   {
    "duration": 29,
    "start_time": "2022-07-23T12:21:23.200Z"
   },
   {
    "duration": 148,
    "start_time": "2022-07-23T12:21:32.787Z"
   },
   {
    "duration": 148,
    "start_time": "2022-07-23T12:21:46.681Z"
   },
   {
    "duration": 299,
    "start_time": "2022-07-23T12:22:53.141Z"
   },
   {
    "duration": 231,
    "start_time": "2022-07-23T12:23:13.793Z"
   },
   {
    "duration": 13,
    "start_time": "2022-07-23T12:24:27.349Z"
   },
   {
    "duration": 47,
    "start_time": "2022-07-23T12:24:50.840Z"
   },
   {
    "duration": 4,
    "start_time": "2022-07-23T12:24:55.983Z"
   },
   {
    "duration": 10,
    "start_time": "2022-07-23T12:30:55.369Z"
   },
   {
    "duration": 4,
    "start_time": "2022-07-23T12:31:14.997Z"
   },
   {
    "duration": 3,
    "start_time": "2022-07-23T13:01:24.051Z"
   },
   {
    "duration": 431,
    "start_time": "2022-07-23T13:01:24.056Z"
   },
   {
    "duration": 149,
    "start_time": "2022-07-23T13:01:24.489Z"
   },
   {
    "duration": 35,
    "start_time": "2022-07-23T13:01:24.639Z"
   },
   {
    "duration": 255,
    "start_time": "2022-07-23T13:01:24.675Z"
   },
   {
    "duration": 93,
    "start_time": "2022-07-23T13:01:24.932Z"
   },
   {
    "duration": 1333,
    "start_time": "2022-07-23T13:01:27.990Z"
   },
   {
    "duration": 2421,
    "start_time": "2022-07-23T13:02:08.816Z"
   },
   {
    "duration": 2325,
    "start_time": "2022-07-23T13:05:09.011Z"
   },
   {
    "duration": 2313,
    "start_time": "2022-07-23T13:06:57.624Z"
   },
   {
    "duration": 2121,
    "start_time": "2022-07-23T13:07:42.278Z"
   },
   {
    "duration": 72,
    "start_time": "2022-07-23T13:08:28.869Z"
   },
   {
    "duration": 456,
    "start_time": "2022-07-23T13:08:44.792Z"
   },
   {
    "duration": 80,
    "start_time": "2022-07-23T13:09:13.752Z"
   },
   {
    "duration": 84,
    "start_time": "2022-07-23T13:09:24.678Z"
   },
   {
    "duration": 526,
    "start_time": "2022-07-23T13:09:38.881Z"
   },
   {
    "duration": 169,
    "start_time": "2022-07-23T13:10:44.379Z"
   },
   {
    "duration": 2171,
    "start_time": "2022-07-23T13:11:21.442Z"
   },
   {
    "duration": 68,
    "start_time": "2022-07-23T13:11:34.514Z"
   },
   {
    "duration": 2239,
    "start_time": "2022-07-23T13:12:59.610Z"
   },
   {
    "duration": 2356,
    "start_time": "2022-07-23T13:13:09.362Z"
   },
   {
    "duration": 1307,
    "start_time": "2022-07-23T13:13:40.386Z"
   },
   {
    "duration": 27,
    "start_time": "2022-07-23T13:37:42.298Z"
   },
   {
    "duration": 224,
    "start_time": "2022-07-23T13:38:02.809Z"
   },
   {
    "duration": 12,
    "start_time": "2022-07-23T13:38:23.182Z"
   },
   {
    "duration": 12,
    "start_time": "2022-07-23T13:38:52.736Z"
   },
   {
    "duration": 2107,
    "start_time": "2022-07-23T13:39:14.120Z"
   }
  ],
  "kernelspec": {
   "display_name": "Python 3 (ipykernel)",
   "language": "python",
   "name": "python3"
  },
  "language_info": {
   "codemirror_mode": {
    "name": "ipython",
    "version": 3
   },
   "file_extension": ".py",
   "mimetype": "text/x-python",
   "name": "python",
   "nbconvert_exporter": "python",
   "pygments_lexer": "ipython3",
   "version": "3.9.13"
  },
  "toc": {
   "base_numbering": 1,
   "nav_menu": {},
   "number_sections": true,
   "sideBar": true,
   "skip_h1_title": true,
   "title_cell": "Table of Contents",
   "title_sidebar": "Contents",
   "toc_cell": false,
   "toc_position": {},
   "toc_section_display": true,
   "toc_window_display": false
  }
 },
 "nbformat": 4,
 "nbformat_minor": 2
}

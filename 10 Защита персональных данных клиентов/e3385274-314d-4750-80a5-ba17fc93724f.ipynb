{
 "cells": [
  {
   "cell_type": "markdown",
   "metadata": {
    "toc": true
   },
   "source": [
    "<h1>Содержание<span class=\"tocSkip\"></span></h1>\n",
    "<div class=\"toc\"><ul class=\"toc-item\"><li><span><a href=\"#Загрузка-данных\" data-toc-modified-id=\"Загрузка-данных-1\"><span class=\"toc-item-num\">1&nbsp;&nbsp;</span>Загрузка данных</a></span></li><li><span><a href=\"#Умножение-матриц\" data-toc-modified-id=\"Умножение-матриц-2\"><span class=\"toc-item-num\">2&nbsp;&nbsp;</span>Умножение матриц</a></span></li><li><span><a href=\"#Алгоритм-преобразования\" data-toc-modified-id=\"Алгоритм-преобразования-3\"><span class=\"toc-item-num\">3&nbsp;&nbsp;</span>Алгоритм преобразования</a></span></li><li><span><a href=\"#Проверка-алгоритма\" data-toc-modified-id=\"Проверка-алгоритма-4\"><span class=\"toc-item-num\">4&nbsp;&nbsp;</span>Проверка алгоритма</a></span></li><li><span><a href=\"#Чек-лист-проверки\" data-toc-modified-id=\"Чек-лист-проверки-5\"><span class=\"toc-item-num\">5&nbsp;&nbsp;</span>Чек-лист проверки</a></span></li></ul></div>"
   ]
  },
  {
   "cell_type": "markdown",
   "metadata": {},
   "source": [
    "# Защита персональных данных клиентов"
   ]
  },
  {
   "cell_type": "markdown",
   "metadata": {},
   "source": [
    "Вам нужно защитить данные клиентов страховой компании «Хоть потоп». Разработайте такой метод преобразования данных, чтобы по ним было сложно восстановить персональную информацию. Обоснуйте корректность его работы.\n",
    "\n",
    "Нужно защитить данные, чтобы при преобразовании качество моделей машинного обучения не ухудшилось. Подбирать наилучшую модель не требуется."
   ]
  },
  {
   "cell_type": "markdown",
   "metadata": {},
   "source": [
    "## Загрузка данных"
   ]
  },
  {
   "cell_type": "code",
   "execution_count": 1,
   "metadata": {},
   "outputs": [],
   "source": [
    "import numpy as np\n",
    "import pandas as pd\n",
    "\n",
    "from sklearn.metrics import r2_score\n",
    "from sklearn.linear_model import LinearRegression\n",
    "from sklearn.model_selection import train_test_split"
   ]
  },
  {
   "cell_type": "code",
   "execution_count": 2,
   "metadata": {},
   "outputs": [
    {
     "name": "stdout",
     "output_type": "stream",
     "text": [
      "<class 'pandas.core.frame.DataFrame'>\n",
      "RangeIndex: 5000 entries, 0 to 4999\n",
      "Data columns (total 5 columns):\n",
      " #   Column             Non-Null Count  Dtype  \n",
      "---  ------             --------------  -----  \n",
      " 0   Пол                5000 non-null   int64  \n",
      " 1   Возраст            5000 non-null   float64\n",
      " 2   Зарплата           5000 non-null   float64\n",
      " 3   Члены семьи        5000 non-null   int64  \n",
      " 4   Страховые выплаты  5000 non-null   int64  \n",
      "dtypes: float64(2), int64(3)\n",
      "memory usage: 195.4 KB\n"
     ]
    },
    {
     "data": {
      "text/html": [
       "<div>\n",
       "<style scoped>\n",
       "    .dataframe tbody tr th:only-of-type {\n",
       "        vertical-align: middle;\n",
       "    }\n",
       "\n",
       "    .dataframe tbody tr th {\n",
       "        vertical-align: top;\n",
       "    }\n",
       "\n",
       "    .dataframe thead th {\n",
       "        text-align: right;\n",
       "    }\n",
       "</style>\n",
       "<table border=\"1\" class=\"dataframe\">\n",
       "  <thead>\n",
       "    <tr style=\"text-align: right;\">\n",
       "      <th></th>\n",
       "      <th>Пол</th>\n",
       "      <th>Возраст</th>\n",
       "      <th>Зарплата</th>\n",
       "      <th>Члены семьи</th>\n",
       "      <th>Страховые выплаты</th>\n",
       "    </tr>\n",
       "  </thead>\n",
       "  <tbody>\n",
       "    <tr>\n",
       "      <th>0</th>\n",
       "      <td>1</td>\n",
       "      <td>41.0</td>\n",
       "      <td>49600.0</td>\n",
       "      <td>1</td>\n",
       "      <td>0</td>\n",
       "    </tr>\n",
       "    <tr>\n",
       "      <th>1</th>\n",
       "      <td>0</td>\n",
       "      <td>46.0</td>\n",
       "      <td>38000.0</td>\n",
       "      <td>1</td>\n",
       "      <td>1</td>\n",
       "    </tr>\n",
       "    <tr>\n",
       "      <th>2</th>\n",
       "      <td>0</td>\n",
       "      <td>29.0</td>\n",
       "      <td>21000.0</td>\n",
       "      <td>0</td>\n",
       "      <td>0</td>\n",
       "    </tr>\n",
       "    <tr>\n",
       "      <th>3</th>\n",
       "      <td>0</td>\n",
       "      <td>21.0</td>\n",
       "      <td>41700.0</td>\n",
       "      <td>2</td>\n",
       "      <td>0</td>\n",
       "    </tr>\n",
       "    <tr>\n",
       "      <th>4</th>\n",
       "      <td>1</td>\n",
       "      <td>28.0</td>\n",
       "      <td>26100.0</td>\n",
       "      <td>0</td>\n",
       "      <td>0</td>\n",
       "    </tr>\n",
       "    <tr>\n",
       "      <th>...</th>\n",
       "      <td>...</td>\n",
       "      <td>...</td>\n",
       "      <td>...</td>\n",
       "      <td>...</td>\n",
       "      <td>...</td>\n",
       "    </tr>\n",
       "    <tr>\n",
       "      <th>4995</th>\n",
       "      <td>0</td>\n",
       "      <td>28.0</td>\n",
       "      <td>35700.0</td>\n",
       "      <td>2</td>\n",
       "      <td>0</td>\n",
       "    </tr>\n",
       "    <tr>\n",
       "      <th>4996</th>\n",
       "      <td>0</td>\n",
       "      <td>34.0</td>\n",
       "      <td>52400.0</td>\n",
       "      <td>1</td>\n",
       "      <td>0</td>\n",
       "    </tr>\n",
       "    <tr>\n",
       "      <th>4997</th>\n",
       "      <td>0</td>\n",
       "      <td>20.0</td>\n",
       "      <td>33900.0</td>\n",
       "      <td>2</td>\n",
       "      <td>0</td>\n",
       "    </tr>\n",
       "    <tr>\n",
       "      <th>4998</th>\n",
       "      <td>1</td>\n",
       "      <td>22.0</td>\n",
       "      <td>32700.0</td>\n",
       "      <td>3</td>\n",
       "      <td>0</td>\n",
       "    </tr>\n",
       "    <tr>\n",
       "      <th>4999</th>\n",
       "      <td>1</td>\n",
       "      <td>28.0</td>\n",
       "      <td>40600.0</td>\n",
       "      <td>1</td>\n",
       "      <td>0</td>\n",
       "    </tr>\n",
       "  </tbody>\n",
       "</table>\n",
       "<p>5000 rows × 5 columns</p>\n",
       "</div>"
      ],
      "text/plain": [
       "      Пол  Возраст  Зарплата  Члены семьи  Страховые выплаты\n",
       "0       1     41.0   49600.0            1                  0\n",
       "1       0     46.0   38000.0            1                  1\n",
       "2       0     29.0   21000.0            0                  0\n",
       "3       0     21.0   41700.0            2                  0\n",
       "4       1     28.0   26100.0            0                  0\n",
       "...   ...      ...       ...          ...                ...\n",
       "4995    0     28.0   35700.0            2                  0\n",
       "4996    0     34.0   52400.0            1                  0\n",
       "4997    0     20.0   33900.0            2                  0\n",
       "4998    1     22.0   32700.0            3                  0\n",
       "4999    1     28.0   40600.0            1                  0\n",
       "\n",
       "[5000 rows x 5 columns]"
      ]
     },
     "execution_count": 2,
     "metadata": {},
     "output_type": "execute_result"
    }
   ],
   "source": [
    "try:\n",
    "    df = pd.read_csv('insurance.csv')\n",
    "except:\n",
    "    df = pd.read_csv('/datasets/insurance.csv')\n",
    "\n",
    "df.info()\n",
    "df"
   ]
  },
  {
   "cell_type": "markdown",
   "metadata": {},
   "source": [
    "Данные без пропусков, можно поменять названия колонок, но для текущей задачи - это необязательно. Предобработка и исследовательский анализ не требуются."
   ]
  },
  {
   "cell_type": "markdown",
   "metadata": {},
   "source": [
    "## Умножение матриц"
   ]
  },
  {
   "cell_type": "markdown",
   "metadata": {},
   "source": [
    "В этом задании вы можете записывать формулы в *Jupyter Notebook.*\n",
    "\n",
    "Чтобы записать формулу внутри текста, окружите её символами доллара \\\\$; если снаружи —  двойными символами \\\\$\\\\$. Эти формулы записываются на языке вёрстки *LaTeX.* \n",
    "\n",
    "Для примера мы записали формулы линейной регрессии. Можете их скопировать и отредактировать, чтобы решить задачу.\n",
    "\n",
    "Работать в *LaTeX* необязательно."
   ]
  },
  {
   "cell_type": "markdown",
   "metadata": {},
   "source": [
    "Обозначения:\n",
    "\n",
    "- $X$ — матрица признаков (нулевой столбец состоит из единиц)\n",
    "\n",
    "- $y$ — вектор целевого признака\n",
    "\n",
    "- $P$ — матрица, на которую умножаются признаки\n",
    "\n",
    "- $w$ — вектор весов линейной регрессии (нулевой элемент равен сдвигу)"
   ]
  },
  {
   "cell_type": "markdown",
   "metadata": {},
   "source": [
    "Предсказания:\n",
    "\n",
    "$$\n",
    "a = Xw\n",
    "$$\n",
    "\n",
    "Задача обучения:\n",
    "\n",
    "$$\n",
    "w = \\arg\\min_w MSE(Xw, y)\n",
    "$$\n",
    "\n",
    "Формула обучения:\n",
    "\n",
    "$$\n",
    "w = (X^T X)^{-1} X^T y\n",
    "$$"
   ]
  },
  {
   "cell_type": "markdown",
   "metadata": {},
   "source": [
    "**Вопрос: Изменится ли качество линейной регрессии после умножения признаков на обратимую матрицу?**\n",
    "- Изменится. Приведите примеры матриц.\n",
    "- Не изменится. Укажите, как связаны параметры линейной регрессии в исходной задаче и в преобразованной"
   ]
  },
  {
   "cell_type": "markdown",
   "metadata": {},
   "source": [
    "**Ответ: Качество не изменится**\n",
    "Доказательство:\n",
    "\n",
    "1) раскроем внутренние скобки, применим ассоциативность\n",
    "$$\n",
    "XP((XP)^T XP)^{-1} (XP)^T y = XP(P^T X^T XP)^{-1} (P^T X^T) y = XP(P^T (X^T X) P)^{-1} (P^T X^T) y\n",
    "$$\n",
    "2) пусть $(X^T X) = B$ , это квадратная матрица, поэтому можем раскрыть скобки, $P^T = С$\n",
    "$$\n",
    "XP(P^T (X^T X) P)^{-1} (P^T X^T) y  =  XP(P^T B P)^{-1} (P^T X^T) y = XP P^{-1} B^{-1} C^{-1} C X^T y\n",
    "$$\n",
    "3) $P P^{-1} = E$ , $C^{-1} C = E$ (единичная матрица, при умножении на которую получаем исходную)\n",
    "$$\n",
    "XP P^{-1} B^{-1} C^{-1} C X^T y = XEB^{-1} E X^T y = XB^{-1}X^T y = X(X^T X)^{-1}X^T y = a\n",
    "$$\n",
    "Что и требовалось доказать"
   ]
  },
  {
   "cell_type": "markdown",
   "metadata": {},
   "source": [
    "## Алгоритм преобразования"
   ]
  },
  {
   "cell_type": "markdown",
   "metadata": {},
   "source": [
    "**Алгоритм**\n",
    "\n",
    "В качестве алгоритма преобразования предлагается умножение на обратимую квадратную матрицу с числом строк и столбцов таким же, как число признаков."
   ]
  },
  {
   "cell_type": "markdown",
   "metadata": {},
   "source": [
    "**Обоснование**: метрика качества модели R2 не меняется"
   ]
  },
  {
   "cell_type": "markdown",
   "metadata": {},
   "source": [
    "## Проверка алгоритма"
   ]
  },
  {
   "cell_type": "code",
   "execution_count": 3,
   "metadata": {},
   "outputs": [
    {
     "name": "stdout",
     "output_type": "stream",
     "text": [
      "Метрика r2 до умножения: 0.42494550286668\n"
     ]
    },
    {
     "data": {
      "text/plain": [
       "array([[ 0.62705425,  1.57708648, -0.69317372, -1.35566626],\n",
       "       [-0.65617435, -0.53005706,  0.3799826 ,  2.08340672],\n",
       "       [-3.55191632, -1.38912053,  4.45932622,  1.78635121],\n",
       "       [ 3.38956281, -0.2717004 , -1.83800084, -2.4046728 ]])"
      ]
     },
     "metadata": {},
     "output_type": "display_data"
    },
    {
     "name": "stdout",
     "output_type": "stream",
     "text": [
      "Метрика r2 после умножения: 0.4249455028664323\n"
     ]
    }
   ],
   "source": [
    "class LinearRegression_test:\n",
    "    def fit(self, train_features, train_target):\n",
    "        X = np.concatenate((np.ones((train_features.shape[0], 1)), train_features), axis=1)\n",
    "        y = train_target\n",
    "        w = np.linalg.inv(X.T.dot(X)).dot(X.T).dot(y) \n",
    "        self.w = w[1:]\n",
    "        self.w0 = w[0]\n",
    "\n",
    "    def predict(self, test_features):\n",
    "        return test_features.dot(self.w) + self.w0\n",
    "    \n",
    "features = df.drop('Страховые выплаты', axis=1)\n",
    "target = df['Страховые выплаты']\n",
    "\n",
    "model = LinearRegression_test()\n",
    "model.fit(features, target)\n",
    "predictions = model.predict(features)\n",
    "print('Метрика r2 до умножения:', r2_score(target, predictions))\n",
    "\n",
    "#Генерируем обратимую матрицу\n",
    "rand_matrix = np.random.random((features.shape[1],features.shape[1]))\n",
    "\n",
    "#Проверка на обратимость\n",
    "inv_matrix = np.linalg.inv(rand_matrix)\n",
    "display(inv_matrix)\n",
    "\n",
    "#Умножаем признаки\n",
    "features_new = features.values.dot(rand_matrix)\n",
    "model.fit(features_new, target)\n",
    "predictions = model.predict(features_new)\n",
    "print('Метрика r2 после умножения:', r2_score(target, predictions))"
   ]
  },
  {
   "cell_type": "markdown",
   "metadata": {},
   "source": [
    "\n",
    "**Ответ:** После умножения признаков на обратимую матрицу качество обучения, измеряемое по метрике R2, не поменялось\n",
    "\n",
    "**Обоснование:** Т.к. задачей обучения является минимизация функции потерь за счет подбора соответствующего вектора весов, умножение матрицы признаков на произвольную обратимую матрицу также способствует тому, что будет подобраны нужные веса"
   ]
  }
 ],
 "metadata": {
  "ExecuteTimeLog": [
   {
    "duration": 436,
    "start_time": "2022-08-12T10:15:24.832Z"
   },
   {
    "duration": 2,
    "start_time": "2022-08-12T10:15:30.233Z"
   },
   {
    "duration": 159,
    "start_time": "2022-08-12T10:16:27.315Z"
   },
   {
    "duration": 78,
    "start_time": "2022-08-12T10:16:32.115Z"
   },
   {
    "duration": 80,
    "start_time": "2022-08-12T11:36:39.752Z"
   },
   {
    "duration": 55,
    "start_time": "2022-08-12T11:47:17.729Z"
   },
   {
    "duration": 66,
    "start_time": "2022-08-12T11:47:34.432Z"
   },
   {
    "duration": 69,
    "start_time": "2022-08-12T11:48:04.993Z"
   },
   {
    "duration": 643,
    "start_time": "2022-08-12T11:48:22.711Z"
   },
   {
    "duration": 11,
    "start_time": "2022-08-12T11:48:25.552Z"
   },
   {
    "duration": 160,
    "start_time": "2022-08-12T11:58:22.716Z"
   },
   {
    "duration": 12,
    "start_time": "2022-08-12T11:58:35.443Z"
   },
   {
    "duration": 10,
    "start_time": "2022-08-12T12:00:12.243Z"
   },
   {
    "duration": 13,
    "start_time": "2022-08-12T12:02:52.490Z"
   },
   {
    "duration": 13,
    "start_time": "2022-08-12T12:03:10.562Z"
   },
   {
    "duration": 159,
    "start_time": "2022-08-12T12:07:54.005Z"
   },
   {
    "duration": 17,
    "start_time": "2022-08-12T12:08:19.882Z"
   },
   {
    "duration": 83,
    "start_time": "2022-08-12T12:12:17.082Z"
   },
   {
    "duration": 984,
    "start_time": "2022-08-20T11:57:55.049Z"
   },
   {
    "duration": 140,
    "start_time": "2022-08-20T11:57:56.034Z"
   },
   {
    "duration": 16,
    "start_time": "2022-08-20T11:59:28.128Z"
   },
   {
    "duration": 171,
    "start_time": "2022-08-20T12:02:02.217Z"
   },
   {
    "duration": 8,
    "start_time": "2022-08-20T12:43:30.763Z"
   },
   {
    "duration": 271,
    "start_time": "2022-08-20T12:45:13.372Z"
   },
   {
    "duration": 20,
    "start_time": "2022-08-20T12:45:34.099Z"
   },
   {
    "duration": 27,
    "start_time": "2022-08-20T12:50:35.114Z"
   },
   {
    "duration": 45,
    "start_time": "2022-08-20T16:58:50.490Z"
   },
   {
    "duration": 936,
    "start_time": "2022-08-20T16:58:56.863Z"
   },
   {
    "duration": 159,
    "start_time": "2022-08-20T16:58:57.801Z"
   },
   {
    "duration": 48,
    "start_time": "2022-08-20T16:58:57.961Z"
   },
   {
    "duration": 57,
    "start_time": "2022-08-20T16:59:01.294Z"
   },
   {
    "duration": 8,
    "start_time": "2022-08-20T17:01:06.220Z"
   },
   {
    "duration": 4,
    "start_time": "2022-08-20T17:01:09.440Z"
   },
   {
    "duration": 368,
    "start_time": "2022-08-20T17:01:43.063Z"
   },
   {
    "duration": 10,
    "start_time": "2022-08-20T17:03:38.170Z"
   },
   {
    "duration": 18,
    "start_time": "2022-08-20T17:04:13.532Z"
   },
   {
    "duration": 17,
    "start_time": "2022-08-20T17:16:46.424Z"
   },
   {
    "duration": 8,
    "start_time": "2022-08-20T17:16:48.699Z"
   },
   {
    "duration": 1189,
    "start_time": "2022-08-23T14:17:49.846Z"
   },
   {
    "duration": 151,
    "start_time": "2022-08-23T14:17:51.037Z"
   },
   {
    "duration": 19,
    "start_time": "2022-08-23T14:20:49.120Z"
   }
  ],
  "kernelspec": {
   "display_name": "Python 3 (ipykernel)",
   "language": "python",
   "name": "python3"
  },
  "language_info": {
   "codemirror_mode": {
    "name": "ipython",
    "version": 3
   },
   "file_extension": ".py",
   "mimetype": "text/x-python",
   "name": "python",
   "nbconvert_exporter": "python",
   "pygments_lexer": "ipython3",
   "version": "3.9.13"
  },
  "toc": {
   "base_numbering": 1,
   "nav_menu": {},
   "number_sections": true,
   "sideBar": true,
   "skip_h1_title": true,
   "title_cell": "Содержание",
   "title_sidebar": "Contents",
   "toc_cell": true,
   "toc_position": {},
   "toc_section_display": true,
   "toc_window_display": true
  }
 },
 "nbformat": 4,
 "nbformat_minor": 2
}

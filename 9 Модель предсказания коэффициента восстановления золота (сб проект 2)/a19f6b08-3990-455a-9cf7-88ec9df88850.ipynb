{
 "cells": [
  {
   "cell_type": "markdown",
   "metadata": {
    "toc": true
   },
   "source": [
    "<h1>Содержание<span class=\"tocSkip\"></span></h1>\n",
    "<div class=\"toc\"><ul class=\"toc-item\"><li><span><a href=\"#Подготовка-данных\" data-toc-modified-id=\"Подготовка-данных-1\"><span class=\"toc-item-num\">1&nbsp;&nbsp;</span>Подготовка данных</a></span></li><li><span><a href=\"#Анализ-данных\" data-toc-modified-id=\"Анализ-данных-2\"><span class=\"toc-item-num\">2&nbsp;&nbsp;</span>Анализ данных</a></span><ul class=\"toc-item\"><li><span><a href=\"#Анализ-признаков,-недоступных-в-тестовой-выборке\" data-toc-modified-id=\"Анализ-признаков,-недоступных-в-тестовой-выборке-2.1\"><span class=\"toc-item-num\">2.1&nbsp;&nbsp;</span>Анализ признаков, недоступных в тестовой выборке</a></span></li><li><span><a href=\"#Анализ-изменений-концентрация-металлов-(Au,-Ag,-Pb)-на-различных-этапах-очистки\" data-toc-modified-id=\"Анализ-изменений-концентрация-металлов-(Au,-Ag,-Pb)-на-различных-этапах-очистки-2.2\"><span class=\"toc-item-num\">2.2&nbsp;&nbsp;</span>Анализ изменений концентрация металлов (Au, Ag, Pb) на различных этапах очистки</a></span></li><li><span><a href=\"#Сравнение-распределения-размеров-гранул-сырья-на-обучающей-и-тестовой-выборках.-Если-распределения-сильно-отличаются-друг-от-друга,-оценка-модели-будет-неправильной\" data-toc-modified-id=\"Сравнение-распределения-размеров-гранул-сырья-на-обучающей-и-тестовой-выборках.-Если-распределения-сильно-отличаются-друг-от-друга,-оценка-модели-будет-неправильной-2.3\"><span class=\"toc-item-num\">2.3&nbsp;&nbsp;</span>Сравнение распределения размеров гранул сырья на обучающей и тестовой выборках. Если распределения сильно отличаются друг от друга, оценка модели будет неправильной</a></span></li><li><span><a href=\"#Исследование-суммарной-концентрации-всех-веществ-на-разных-стадиях:-в-сырье,-в-черновом-и-финальном-концентратах.\" data-toc-modified-id=\"Исследование-суммарной-концентрации-всех-веществ-на-разных-стадиях:-в-сырье,-в-черновом-и-финальном-концентратах.-2.4\"><span class=\"toc-item-num\">2.4&nbsp;&nbsp;</span>Исследование суммарной концентрации всех веществ на разных стадиях: в сырье, в черновом и финальном концентратах.</a></span></li></ul></li><li><span><a href=\"#Модель\" data-toc-modified-id=\"Модель-3\"><span class=\"toc-item-num\">3&nbsp;&nbsp;</span>Модель</a></span></li><li><span><a href=\"#Вывод\" data-toc-modified-id=\"Вывод-4\"><span class=\"toc-item-num\">4&nbsp;&nbsp;</span>Вывод</a></span></li><li><span><a href=\"#Чек-лист-готовности-проекта\" data-toc-modified-id=\"Чек-лист-готовности-проекта-5\"><span class=\"toc-item-num\">5&nbsp;&nbsp;</span>Чек-лист готовности проекта</a></span></li></ul></div>"
   ]
  },
  {
   "cell_type": "markdown",
   "metadata": {},
   "source": [
    "# Восстановление золота из руды"
   ]
  },
  {
   "cell_type": "markdown",
   "metadata": {},
   "source": [
    "Подготовьте прототип модели машинного обучения для «Цифры». Компания разрабатывает решения для эффективной работы промышленных предприятий.\n",
    "\n",
    "Модель должна предсказать коэффициент восстановления золота из золотосодержащей руды. Используйте данные с параметрами добычи и очистки. \n",
    "\n",
    "Модель поможет оптимизировать производство, чтобы не запускать предприятие с убыточными характеристиками.\n",
    "\n",
    "Вам нужно:\n",
    "\n",
    "1. Подготовить данные;\n",
    "2. Провести исследовательский анализ данных;\n",
    "3. Построить и обучить модель.\n",
    "\n",
    "Чтобы выполнить проект, обращайтесь к библиотекам *pandas*, *matplotlib* и *sklearn.* Вам поможет их документация."
   ]
  },
  {
   "cell_type": "markdown",
   "metadata": {},
   "source": [
    "## Подготовка данных"
   ]
  },
  {
   "cell_type": "code",
   "execution_count": 1,
   "metadata": {},
   "outputs": [],
   "source": [
    "import numpy as np\n",
    "import pandas as pd\n",
    "\n",
    "import matplotlib.pyplot as plt\n",
    "\n",
    "from sklearn.metrics import mean_absolute_error, make_scorer\n",
    "from sklearn.dummy import DummyRegressor\n",
    "from sklearn.linear_model import LinearRegression\n",
    "from sklearn.tree import DecisionTreeRegressor\n",
    "from sklearn.ensemble import RandomForestRegressor\n",
    "from sklearn.model_selection import cross_val_score, GridSearchCV"
   ]
  },
  {
   "cell_type": "code",
   "execution_count": 2,
   "metadata": {
    "scrolled": false
   },
   "outputs": [
    {
     "name": "stdout",
     "output_type": "stream",
     "text": [
      "<class 'pandas.core.frame.DataFrame'>\n",
      "RangeIndex: 14149 entries, 0 to 14148\n",
      "Data columns (total 87 columns):\n",
      " #   Column                                              Non-Null Count  Dtype  \n",
      "---  ------                                              --------------  -----  \n",
      " 0   date                                                14149 non-null  object \n",
      " 1   final.output.concentrate_ag                         14148 non-null  float64\n",
      " 2   final.output.concentrate_pb                         14148 non-null  float64\n",
      " 3   final.output.concentrate_sol                        13938 non-null  float64\n",
      " 4   final.output.concentrate_au                         14149 non-null  float64\n",
      " 5   final.output.recovery                               14149 non-null  float64\n",
      " 6   final.output.tail_ag                                14149 non-null  float64\n",
      " 7   final.output.tail_pb                                14049 non-null  float64\n",
      " 8   final.output.tail_sol                               14144 non-null  float64\n",
      " 9   final.output.tail_au                                14149 non-null  float64\n",
      " 10  primary_cleaner.input.sulfate                       14129 non-null  float64\n",
      " 11  primary_cleaner.input.depressant                    14117 non-null  float64\n",
      " 12  primary_cleaner.input.feed_size                     14149 non-null  float64\n",
      " 13  primary_cleaner.input.xanthate                      14049 non-null  float64\n",
      " 14  primary_cleaner.output.concentrate_ag               14149 non-null  float64\n",
      " 15  primary_cleaner.output.concentrate_pb               14063 non-null  float64\n",
      " 16  primary_cleaner.output.concentrate_sol              13863 non-null  float64\n",
      " 17  primary_cleaner.output.concentrate_au               14149 non-null  float64\n",
      " 18  primary_cleaner.output.tail_ag                      14148 non-null  float64\n",
      " 19  primary_cleaner.output.tail_pb                      14134 non-null  float64\n",
      " 20  primary_cleaner.output.tail_sol                     14103 non-null  float64\n",
      " 21  primary_cleaner.output.tail_au                      14149 non-null  float64\n",
      " 22  primary_cleaner.state.floatbank8_a_air              14145 non-null  float64\n",
      " 23  primary_cleaner.state.floatbank8_a_level            14148 non-null  float64\n",
      " 24  primary_cleaner.state.floatbank8_b_air              14145 non-null  float64\n",
      " 25  primary_cleaner.state.floatbank8_b_level            14148 non-null  float64\n",
      " 26  primary_cleaner.state.floatbank8_c_air              14147 non-null  float64\n",
      " 27  primary_cleaner.state.floatbank8_c_level            14148 non-null  float64\n",
      " 28  primary_cleaner.state.floatbank8_d_air              14146 non-null  float64\n",
      " 29  primary_cleaner.state.floatbank8_d_level            14148 non-null  float64\n",
      " 30  rougher.calculation.sulfate_to_au_concentrate       14148 non-null  float64\n",
      " 31  rougher.calculation.floatbank10_sulfate_to_au_feed  14148 non-null  float64\n",
      " 32  rougher.calculation.floatbank11_sulfate_to_au_feed  14148 non-null  float64\n",
      " 33  rougher.calculation.au_pb_ratio                     14149 non-null  float64\n",
      " 34  rougher.input.feed_ag                               14149 non-null  float64\n",
      " 35  rougher.input.feed_pb                               14049 non-null  float64\n",
      " 36  rougher.input.feed_rate                             14141 non-null  float64\n",
      " 37  rougher.input.feed_size                             14005 non-null  float64\n",
      " 38  rougher.input.feed_sol                              14071 non-null  float64\n",
      " 39  rougher.input.feed_au                               14149 non-null  float64\n",
      " 40  rougher.input.floatbank10_sulfate                   14120 non-null  float64\n",
      " 41  rougher.input.floatbank10_xanthate                  14141 non-null  float64\n",
      " 42  rougher.input.floatbank11_sulfate                   14113 non-null  float64\n",
      " 43  rougher.input.floatbank11_xanthate                  13721 non-null  float64\n",
      " 44  rougher.output.concentrate_ag                       14149 non-null  float64\n",
      " 45  rougher.output.concentrate_pb                       14149 non-null  float64\n",
      " 46  rougher.output.concentrate_sol                      14127 non-null  float64\n",
      " 47  rougher.output.concentrate_au                       14149 non-null  float64\n",
      " 48  rougher.output.recovery                             14149 non-null  float64\n",
      " 49  rougher.output.tail_ag                              14148 non-null  float64\n",
      " 50  rougher.output.tail_pb                              14149 non-null  float64\n",
      " 51  rougher.output.tail_sol                             14149 non-null  float64\n",
      " 52  rougher.output.tail_au                              14149 non-null  float64\n",
      " 53  rougher.state.floatbank10_a_air                     14148 non-null  float64\n",
      " 54  rougher.state.floatbank10_a_level                   14148 non-null  float64\n",
      " 55  rougher.state.floatbank10_b_air                     14148 non-null  float64\n",
      " 56  rougher.state.floatbank10_b_level                   14148 non-null  float64\n",
      " 57  rougher.state.floatbank10_c_air                     14148 non-null  float64\n",
      " 58  rougher.state.floatbank10_c_level                   14148 non-null  float64\n",
      " 59  rougher.state.floatbank10_d_air                     14149 non-null  float64\n",
      " 60  rougher.state.floatbank10_d_level                   14149 non-null  float64\n",
      " 61  rougher.state.floatbank10_e_air                     13713 non-null  float64\n",
      " 62  rougher.state.floatbank10_e_level                   14149 non-null  float64\n",
      " 63  rougher.state.floatbank10_f_air                     14149 non-null  float64\n",
      " 64  rougher.state.floatbank10_f_level                   14149 non-null  float64\n",
      " 65  secondary_cleaner.output.tail_ag                    14147 non-null  float64\n",
      " 66  secondary_cleaner.output.tail_pb                    14139 non-null  float64\n",
      " 67  secondary_cleaner.output.tail_sol                   12544 non-null  float64\n",
      " 68  secondary_cleaner.output.tail_au                    14149 non-null  float64\n",
      " 69  secondary_cleaner.state.floatbank2_a_air            13932 non-null  float64\n",
      " 70  secondary_cleaner.state.floatbank2_a_level          14148 non-null  float64\n",
      " 71  secondary_cleaner.state.floatbank2_b_air            14128 non-null  float64\n",
      " 72  secondary_cleaner.state.floatbank2_b_level          14148 non-null  float64\n",
      " 73  secondary_cleaner.state.floatbank3_a_air            14145 non-null  float64\n",
      " 74  secondary_cleaner.state.floatbank3_a_level          14148 non-null  float64\n",
      " 75  secondary_cleaner.state.floatbank3_b_air            14148 non-null  float64\n",
      " 76  secondary_cleaner.state.floatbank3_b_level          14148 non-null  float64\n",
      " 77  secondary_cleaner.state.floatbank4_a_air            14143 non-null  float64\n",
      " 78  secondary_cleaner.state.floatbank4_a_level          14148 non-null  float64\n",
      " 79  secondary_cleaner.state.floatbank4_b_air            14148 non-null  float64\n",
      " 80  secondary_cleaner.state.floatbank4_b_level          14148 non-null  float64\n",
      " 81  secondary_cleaner.state.floatbank5_a_air            14148 non-null  float64\n",
      " 82  secondary_cleaner.state.floatbank5_a_level          14148 non-null  float64\n",
      " 83  secondary_cleaner.state.floatbank5_b_air            14148 non-null  float64\n",
      " 84  secondary_cleaner.state.floatbank5_b_level          14148 non-null  float64\n",
      " 85  secondary_cleaner.state.floatbank6_a_air            14147 non-null  float64\n",
      " 86  secondary_cleaner.state.floatbank6_a_level          14148 non-null  float64\n",
      "dtypes: float64(86), object(1)\n",
      "memory usage: 9.4+ MB\n"
     ]
    },
    {
     "data": {
      "text/html": [
       "<div>\n",
       "<style scoped>\n",
       "    .dataframe tbody tr th:only-of-type {\n",
       "        vertical-align: middle;\n",
       "    }\n",
       "\n",
       "    .dataframe tbody tr th {\n",
       "        vertical-align: top;\n",
       "    }\n",
       "\n",
       "    .dataframe thead th {\n",
       "        text-align: right;\n",
       "    }\n",
       "</style>\n",
       "<table border=\"1\" class=\"dataframe\">\n",
       "  <thead>\n",
       "    <tr style=\"text-align: right;\">\n",
       "      <th></th>\n",
       "      <th>date</th>\n",
       "      <th>final.output.concentrate_ag</th>\n",
       "      <th>final.output.concentrate_pb</th>\n",
       "      <th>final.output.concentrate_sol</th>\n",
       "      <th>final.output.concentrate_au</th>\n",
       "      <th>final.output.recovery</th>\n",
       "      <th>final.output.tail_ag</th>\n",
       "      <th>final.output.tail_pb</th>\n",
       "      <th>final.output.tail_sol</th>\n",
       "      <th>final.output.tail_au</th>\n",
       "      <th>...</th>\n",
       "      <th>secondary_cleaner.state.floatbank4_a_air</th>\n",
       "      <th>secondary_cleaner.state.floatbank4_a_level</th>\n",
       "      <th>secondary_cleaner.state.floatbank4_b_air</th>\n",
       "      <th>secondary_cleaner.state.floatbank4_b_level</th>\n",
       "      <th>secondary_cleaner.state.floatbank5_a_air</th>\n",
       "      <th>secondary_cleaner.state.floatbank5_a_level</th>\n",
       "      <th>secondary_cleaner.state.floatbank5_b_air</th>\n",
       "      <th>secondary_cleaner.state.floatbank5_b_level</th>\n",
       "      <th>secondary_cleaner.state.floatbank6_a_air</th>\n",
       "      <th>secondary_cleaner.state.floatbank6_a_level</th>\n",
       "    </tr>\n",
       "  </thead>\n",
       "  <tbody>\n",
       "    <tr>\n",
       "      <th>0</th>\n",
       "      <td>2016-01-15 00:00:00</td>\n",
       "      <td>6.055403</td>\n",
       "      <td>9.889648</td>\n",
       "      <td>5.507324</td>\n",
       "      <td>42.192020</td>\n",
       "      <td>70.541216</td>\n",
       "      <td>10.411962</td>\n",
       "      <td>0.895447</td>\n",
       "      <td>16.904297</td>\n",
       "      <td>2.143149</td>\n",
       "      <td>...</td>\n",
       "      <td>14.016835</td>\n",
       "      <td>-502.488007</td>\n",
       "      <td>12.099931</td>\n",
       "      <td>-504.715942</td>\n",
       "      <td>9.925633</td>\n",
       "      <td>-498.310211</td>\n",
       "      <td>8.079666</td>\n",
       "      <td>-500.470978</td>\n",
       "      <td>14.151341</td>\n",
       "      <td>-605.841980</td>\n",
       "    </tr>\n",
       "    <tr>\n",
       "      <th>1</th>\n",
       "      <td>2016-01-15 01:00:00</td>\n",
       "      <td>6.029369</td>\n",
       "      <td>9.968944</td>\n",
       "      <td>5.257781</td>\n",
       "      <td>42.701629</td>\n",
       "      <td>69.266198</td>\n",
       "      <td>10.462676</td>\n",
       "      <td>0.927452</td>\n",
       "      <td>16.634514</td>\n",
       "      <td>2.224930</td>\n",
       "      <td>...</td>\n",
       "      <td>13.992281</td>\n",
       "      <td>-505.503262</td>\n",
       "      <td>11.950531</td>\n",
       "      <td>-501.331529</td>\n",
       "      <td>10.039245</td>\n",
       "      <td>-500.169983</td>\n",
       "      <td>7.984757</td>\n",
       "      <td>-500.582168</td>\n",
       "      <td>13.998353</td>\n",
       "      <td>-599.787184</td>\n",
       "    </tr>\n",
       "    <tr>\n",
       "      <th>2</th>\n",
       "      <td>2016-01-15 02:00:00</td>\n",
       "      <td>6.055926</td>\n",
       "      <td>10.213995</td>\n",
       "      <td>5.383759</td>\n",
       "      <td>42.657501</td>\n",
       "      <td>68.116445</td>\n",
       "      <td>10.507046</td>\n",
       "      <td>0.953716</td>\n",
       "      <td>16.208849</td>\n",
       "      <td>2.257889</td>\n",
       "      <td>...</td>\n",
       "      <td>14.015015</td>\n",
       "      <td>-502.520901</td>\n",
       "      <td>11.912783</td>\n",
       "      <td>-501.133383</td>\n",
       "      <td>10.070913</td>\n",
       "      <td>-500.129135</td>\n",
       "      <td>8.013877</td>\n",
       "      <td>-500.517572</td>\n",
       "      <td>14.028663</td>\n",
       "      <td>-601.427363</td>\n",
       "    </tr>\n",
       "    <tr>\n",
       "      <th>3</th>\n",
       "      <td>2016-01-15 03:00:00</td>\n",
       "      <td>6.047977</td>\n",
       "      <td>9.977019</td>\n",
       "      <td>4.858634</td>\n",
       "      <td>42.689819</td>\n",
       "      <td>68.347543</td>\n",
       "      <td>10.422762</td>\n",
       "      <td>0.883763</td>\n",
       "      <td>16.532835</td>\n",
       "      <td>2.146849</td>\n",
       "      <td>...</td>\n",
       "      <td>14.036510</td>\n",
       "      <td>-500.857308</td>\n",
       "      <td>11.999550</td>\n",
       "      <td>-501.193686</td>\n",
       "      <td>9.970366</td>\n",
       "      <td>-499.201640</td>\n",
       "      <td>7.977324</td>\n",
       "      <td>-500.255908</td>\n",
       "      <td>14.005551</td>\n",
       "      <td>-599.996129</td>\n",
       "    </tr>\n",
       "    <tr>\n",
       "      <th>4</th>\n",
       "      <td>2016-01-15 04:00:00</td>\n",
       "      <td>6.148599</td>\n",
       "      <td>10.142511</td>\n",
       "      <td>4.939416</td>\n",
       "      <td>42.774141</td>\n",
       "      <td>66.927016</td>\n",
       "      <td>10.360302</td>\n",
       "      <td>0.792826</td>\n",
       "      <td>16.525686</td>\n",
       "      <td>2.055292</td>\n",
       "      <td>...</td>\n",
       "      <td>14.027298</td>\n",
       "      <td>-499.838632</td>\n",
       "      <td>11.953070</td>\n",
       "      <td>-501.053894</td>\n",
       "      <td>9.925709</td>\n",
       "      <td>-501.686727</td>\n",
       "      <td>7.894242</td>\n",
       "      <td>-500.356035</td>\n",
       "      <td>13.996647</td>\n",
       "      <td>-601.496691</td>\n",
       "    </tr>\n",
       "  </tbody>\n",
       "</table>\n",
       "<p>5 rows × 87 columns</p>\n",
       "</div>"
      ],
      "text/plain": [
       "                  date  final.output.concentrate_ag  \\\n",
       "0  2016-01-15 00:00:00                     6.055403   \n",
       "1  2016-01-15 01:00:00                     6.029369   \n",
       "2  2016-01-15 02:00:00                     6.055926   \n",
       "3  2016-01-15 03:00:00                     6.047977   \n",
       "4  2016-01-15 04:00:00                     6.148599   \n",
       "\n",
       "   final.output.concentrate_pb  final.output.concentrate_sol  \\\n",
       "0                     9.889648                      5.507324   \n",
       "1                     9.968944                      5.257781   \n",
       "2                    10.213995                      5.383759   \n",
       "3                     9.977019                      4.858634   \n",
       "4                    10.142511                      4.939416   \n",
       "\n",
       "   final.output.concentrate_au  final.output.recovery  final.output.tail_ag  \\\n",
       "0                    42.192020              70.541216             10.411962   \n",
       "1                    42.701629              69.266198             10.462676   \n",
       "2                    42.657501              68.116445             10.507046   \n",
       "3                    42.689819              68.347543             10.422762   \n",
       "4                    42.774141              66.927016             10.360302   \n",
       "\n",
       "   final.output.tail_pb  final.output.tail_sol  final.output.tail_au  ...  \\\n",
       "0              0.895447              16.904297              2.143149  ...   \n",
       "1              0.927452              16.634514              2.224930  ...   \n",
       "2              0.953716              16.208849              2.257889  ...   \n",
       "3              0.883763              16.532835              2.146849  ...   \n",
       "4              0.792826              16.525686              2.055292  ...   \n",
       "\n",
       "   secondary_cleaner.state.floatbank4_a_air  \\\n",
       "0                                 14.016835   \n",
       "1                                 13.992281   \n",
       "2                                 14.015015   \n",
       "3                                 14.036510   \n",
       "4                                 14.027298   \n",
       "\n",
       "   secondary_cleaner.state.floatbank4_a_level  \\\n",
       "0                                 -502.488007   \n",
       "1                                 -505.503262   \n",
       "2                                 -502.520901   \n",
       "3                                 -500.857308   \n",
       "4                                 -499.838632   \n",
       "\n",
       "   secondary_cleaner.state.floatbank4_b_air  \\\n",
       "0                                 12.099931   \n",
       "1                                 11.950531   \n",
       "2                                 11.912783   \n",
       "3                                 11.999550   \n",
       "4                                 11.953070   \n",
       "\n",
       "   secondary_cleaner.state.floatbank4_b_level  \\\n",
       "0                                 -504.715942   \n",
       "1                                 -501.331529   \n",
       "2                                 -501.133383   \n",
       "3                                 -501.193686   \n",
       "4                                 -501.053894   \n",
       "\n",
       "   secondary_cleaner.state.floatbank5_a_air  \\\n",
       "0                                  9.925633   \n",
       "1                                 10.039245   \n",
       "2                                 10.070913   \n",
       "3                                  9.970366   \n",
       "4                                  9.925709   \n",
       "\n",
       "   secondary_cleaner.state.floatbank5_a_level  \\\n",
       "0                                 -498.310211   \n",
       "1                                 -500.169983   \n",
       "2                                 -500.129135   \n",
       "3                                 -499.201640   \n",
       "4                                 -501.686727   \n",
       "\n",
       "   secondary_cleaner.state.floatbank5_b_air  \\\n",
       "0                                  8.079666   \n",
       "1                                  7.984757   \n",
       "2                                  8.013877   \n",
       "3                                  7.977324   \n",
       "4                                  7.894242   \n",
       "\n",
       "   secondary_cleaner.state.floatbank5_b_level  \\\n",
       "0                                 -500.470978   \n",
       "1                                 -500.582168   \n",
       "2                                 -500.517572   \n",
       "3                                 -500.255908   \n",
       "4                                 -500.356035   \n",
       "\n",
       "   secondary_cleaner.state.floatbank6_a_air  \\\n",
       "0                                 14.151341   \n",
       "1                                 13.998353   \n",
       "2                                 14.028663   \n",
       "3                                 14.005551   \n",
       "4                                 13.996647   \n",
       "\n",
       "   secondary_cleaner.state.floatbank6_a_level  \n",
       "0                                 -605.841980  \n",
       "1                                 -599.787184  \n",
       "2                                 -601.427363  \n",
       "3                                 -599.996129  \n",
       "4                                 -601.496691  \n",
       "\n",
       "[5 rows x 87 columns]"
      ]
     },
     "metadata": {},
     "output_type": "display_data"
    },
    {
     "name": "stdout",
     "output_type": "stream",
     "text": [
      "<class 'pandas.core.frame.DataFrame'>\n",
      "RangeIndex: 5290 entries, 0 to 5289\n",
      "Data columns (total 53 columns):\n",
      " #   Column                                      Non-Null Count  Dtype  \n",
      "---  ------                                      --------------  -----  \n",
      " 0   date                                        5290 non-null   object \n",
      " 1   primary_cleaner.input.sulfate               5286 non-null   float64\n",
      " 2   primary_cleaner.input.depressant            5285 non-null   float64\n",
      " 3   primary_cleaner.input.feed_size             5290 non-null   float64\n",
      " 4   primary_cleaner.input.xanthate              5286 non-null   float64\n",
      " 5   primary_cleaner.state.floatbank8_a_air      5290 non-null   float64\n",
      " 6   primary_cleaner.state.floatbank8_a_level    5290 non-null   float64\n",
      " 7   primary_cleaner.state.floatbank8_b_air      5290 non-null   float64\n",
      " 8   primary_cleaner.state.floatbank8_b_level    5290 non-null   float64\n",
      " 9   primary_cleaner.state.floatbank8_c_air      5290 non-null   float64\n",
      " 10  primary_cleaner.state.floatbank8_c_level    5290 non-null   float64\n",
      " 11  primary_cleaner.state.floatbank8_d_air      5290 non-null   float64\n",
      " 12  primary_cleaner.state.floatbank8_d_level    5290 non-null   float64\n",
      " 13  rougher.input.feed_ag                       5290 non-null   float64\n",
      " 14  rougher.input.feed_pb                       5290 non-null   float64\n",
      " 15  rougher.input.feed_rate                     5287 non-null   float64\n",
      " 16  rougher.input.feed_size                     5289 non-null   float64\n",
      " 17  rougher.input.feed_sol                      5269 non-null   float64\n",
      " 18  rougher.input.feed_au                       5290 non-null   float64\n",
      " 19  rougher.input.floatbank10_sulfate           5285 non-null   float64\n",
      " 20  rougher.input.floatbank10_xanthate          5290 non-null   float64\n",
      " 21  rougher.input.floatbank11_sulfate           5282 non-null   float64\n",
      " 22  rougher.input.floatbank11_xanthate          5265 non-null   float64\n",
      " 23  rougher.state.floatbank10_a_air             5290 non-null   float64\n",
      " 24  rougher.state.floatbank10_a_level           5290 non-null   float64\n",
      " 25  rougher.state.floatbank10_b_air             5290 non-null   float64\n",
      " 26  rougher.state.floatbank10_b_level           5290 non-null   float64\n",
      " 27  rougher.state.floatbank10_c_air             5290 non-null   float64\n",
      " 28  rougher.state.floatbank10_c_level           5290 non-null   float64\n",
      " 29  rougher.state.floatbank10_d_air             5290 non-null   float64\n",
      " 30  rougher.state.floatbank10_d_level           5290 non-null   float64\n",
      " 31  rougher.state.floatbank10_e_air             5290 non-null   float64\n",
      " 32  rougher.state.floatbank10_e_level           5290 non-null   float64\n",
      " 33  rougher.state.floatbank10_f_air             5290 non-null   float64\n",
      " 34  rougher.state.floatbank10_f_level           5290 non-null   float64\n",
      " 35  secondary_cleaner.state.floatbank2_a_air    5287 non-null   float64\n",
      " 36  secondary_cleaner.state.floatbank2_a_level  5290 non-null   float64\n",
      " 37  secondary_cleaner.state.floatbank2_b_air    5288 non-null   float64\n",
      " 38  secondary_cleaner.state.floatbank2_b_level  5290 non-null   float64\n",
      " 39  secondary_cleaner.state.floatbank3_a_air    5281 non-null   float64\n",
      " 40  secondary_cleaner.state.floatbank3_a_level  5290 non-null   float64\n",
      " 41  secondary_cleaner.state.floatbank3_b_air    5290 non-null   float64\n",
      " 42  secondary_cleaner.state.floatbank3_b_level  5290 non-null   float64\n",
      " 43  secondary_cleaner.state.floatbank4_a_air    5290 non-null   float64\n",
      " 44  secondary_cleaner.state.floatbank4_a_level  5290 non-null   float64\n",
      " 45  secondary_cleaner.state.floatbank4_b_air    5290 non-null   float64\n",
      " 46  secondary_cleaner.state.floatbank4_b_level  5290 non-null   float64\n",
      " 47  secondary_cleaner.state.floatbank5_a_air    5290 non-null   float64\n",
      " 48  secondary_cleaner.state.floatbank5_a_level  5290 non-null   float64\n",
      " 49  secondary_cleaner.state.floatbank5_b_air    5290 non-null   float64\n",
      " 50  secondary_cleaner.state.floatbank5_b_level  5290 non-null   float64\n",
      " 51  secondary_cleaner.state.floatbank6_a_air    5290 non-null   float64\n",
      " 52  secondary_cleaner.state.floatbank6_a_level  5290 non-null   float64\n",
      "dtypes: float64(52), object(1)\n",
      "memory usage: 2.1+ MB\n"
     ]
    },
    {
     "data": {
      "text/html": [
       "<div>\n",
       "<style scoped>\n",
       "    .dataframe tbody tr th:only-of-type {\n",
       "        vertical-align: middle;\n",
       "    }\n",
       "\n",
       "    .dataframe tbody tr th {\n",
       "        vertical-align: top;\n",
       "    }\n",
       "\n",
       "    .dataframe thead th {\n",
       "        text-align: right;\n",
       "    }\n",
       "</style>\n",
       "<table border=\"1\" class=\"dataframe\">\n",
       "  <thead>\n",
       "    <tr style=\"text-align: right;\">\n",
       "      <th></th>\n",
       "      <th>date</th>\n",
       "      <th>primary_cleaner.input.sulfate</th>\n",
       "      <th>primary_cleaner.input.depressant</th>\n",
       "      <th>primary_cleaner.input.feed_size</th>\n",
       "      <th>primary_cleaner.input.xanthate</th>\n",
       "      <th>primary_cleaner.state.floatbank8_a_air</th>\n",
       "      <th>primary_cleaner.state.floatbank8_a_level</th>\n",
       "      <th>primary_cleaner.state.floatbank8_b_air</th>\n",
       "      <th>primary_cleaner.state.floatbank8_b_level</th>\n",
       "      <th>primary_cleaner.state.floatbank8_c_air</th>\n",
       "      <th>...</th>\n",
       "      <th>secondary_cleaner.state.floatbank4_a_air</th>\n",
       "      <th>secondary_cleaner.state.floatbank4_a_level</th>\n",
       "      <th>secondary_cleaner.state.floatbank4_b_air</th>\n",
       "      <th>secondary_cleaner.state.floatbank4_b_level</th>\n",
       "      <th>secondary_cleaner.state.floatbank5_a_air</th>\n",
       "      <th>secondary_cleaner.state.floatbank5_a_level</th>\n",
       "      <th>secondary_cleaner.state.floatbank5_b_air</th>\n",
       "      <th>secondary_cleaner.state.floatbank5_b_level</th>\n",
       "      <th>secondary_cleaner.state.floatbank6_a_air</th>\n",
       "      <th>secondary_cleaner.state.floatbank6_a_level</th>\n",
       "    </tr>\n",
       "  </thead>\n",
       "  <tbody>\n",
       "    <tr>\n",
       "      <th>0</th>\n",
       "      <td>2016-09-01 00:59:59</td>\n",
       "      <td>210.800909</td>\n",
       "      <td>14.993118</td>\n",
       "      <td>8.080000</td>\n",
       "      <td>1.005021</td>\n",
       "      <td>1398.981301</td>\n",
       "      <td>-500.225577</td>\n",
       "      <td>1399.144926</td>\n",
       "      <td>-499.919735</td>\n",
       "      <td>1400.102998</td>\n",
       "      <td>...</td>\n",
       "      <td>12.023554</td>\n",
       "      <td>-497.795834</td>\n",
       "      <td>8.016656</td>\n",
       "      <td>-501.289139</td>\n",
       "      <td>7.946562</td>\n",
       "      <td>-432.317850</td>\n",
       "      <td>4.872511</td>\n",
       "      <td>-500.037437</td>\n",
       "      <td>26.705889</td>\n",
       "      <td>-499.709414</td>\n",
       "    </tr>\n",
       "    <tr>\n",
       "      <th>1</th>\n",
       "      <td>2016-09-01 01:59:59</td>\n",
       "      <td>215.392455</td>\n",
       "      <td>14.987471</td>\n",
       "      <td>8.080000</td>\n",
       "      <td>0.990469</td>\n",
       "      <td>1398.777912</td>\n",
       "      <td>-500.057435</td>\n",
       "      <td>1398.055362</td>\n",
       "      <td>-499.778182</td>\n",
       "      <td>1396.151033</td>\n",
       "      <td>...</td>\n",
       "      <td>12.058140</td>\n",
       "      <td>-498.695773</td>\n",
       "      <td>8.130979</td>\n",
       "      <td>-499.634209</td>\n",
       "      <td>7.958270</td>\n",
       "      <td>-525.839648</td>\n",
       "      <td>4.878850</td>\n",
       "      <td>-500.162375</td>\n",
       "      <td>25.019940</td>\n",
       "      <td>-499.819438</td>\n",
       "    </tr>\n",
       "    <tr>\n",
       "      <th>2</th>\n",
       "      <td>2016-09-01 02:59:59</td>\n",
       "      <td>215.259946</td>\n",
       "      <td>12.884934</td>\n",
       "      <td>7.786667</td>\n",
       "      <td>0.996043</td>\n",
       "      <td>1398.493666</td>\n",
       "      <td>-500.868360</td>\n",
       "      <td>1398.860436</td>\n",
       "      <td>-499.764529</td>\n",
       "      <td>1398.075709</td>\n",
       "      <td>...</td>\n",
       "      <td>11.962366</td>\n",
       "      <td>-498.767484</td>\n",
       "      <td>8.096893</td>\n",
       "      <td>-500.827423</td>\n",
       "      <td>8.071056</td>\n",
       "      <td>-500.801673</td>\n",
       "      <td>4.905125</td>\n",
       "      <td>-499.828510</td>\n",
       "      <td>24.994862</td>\n",
       "      <td>-500.622559</td>\n",
       "    </tr>\n",
       "    <tr>\n",
       "      <th>3</th>\n",
       "      <td>2016-09-01 03:59:59</td>\n",
       "      <td>215.336236</td>\n",
       "      <td>12.006805</td>\n",
       "      <td>7.640000</td>\n",
       "      <td>0.863514</td>\n",
       "      <td>1399.618111</td>\n",
       "      <td>-498.863574</td>\n",
       "      <td>1397.440120</td>\n",
       "      <td>-499.211024</td>\n",
       "      <td>1400.129303</td>\n",
       "      <td>...</td>\n",
       "      <td>12.033091</td>\n",
       "      <td>-498.350935</td>\n",
       "      <td>8.074946</td>\n",
       "      <td>-499.474407</td>\n",
       "      <td>7.897085</td>\n",
       "      <td>-500.868509</td>\n",
       "      <td>4.931400</td>\n",
       "      <td>-499.963623</td>\n",
       "      <td>24.948919</td>\n",
       "      <td>-498.709987</td>\n",
       "    </tr>\n",
       "    <tr>\n",
       "      <th>4</th>\n",
       "      <td>2016-09-01 04:59:59</td>\n",
       "      <td>199.099327</td>\n",
       "      <td>10.682530</td>\n",
       "      <td>7.530000</td>\n",
       "      <td>0.805575</td>\n",
       "      <td>1401.268123</td>\n",
       "      <td>-500.808305</td>\n",
       "      <td>1398.128818</td>\n",
       "      <td>-499.504543</td>\n",
       "      <td>1402.172226</td>\n",
       "      <td>...</td>\n",
       "      <td>12.025367</td>\n",
       "      <td>-500.786497</td>\n",
       "      <td>8.054678</td>\n",
       "      <td>-500.397500</td>\n",
       "      <td>8.107890</td>\n",
       "      <td>-509.526725</td>\n",
       "      <td>4.957674</td>\n",
       "      <td>-500.360026</td>\n",
       "      <td>25.003331</td>\n",
       "      <td>-500.856333</td>\n",
       "    </tr>\n",
       "  </tbody>\n",
       "</table>\n",
       "<p>5 rows × 53 columns</p>\n",
       "</div>"
      ],
      "text/plain": [
       "                  date  primary_cleaner.input.sulfate  \\\n",
       "0  2016-09-01 00:59:59                     210.800909   \n",
       "1  2016-09-01 01:59:59                     215.392455   \n",
       "2  2016-09-01 02:59:59                     215.259946   \n",
       "3  2016-09-01 03:59:59                     215.336236   \n",
       "4  2016-09-01 04:59:59                     199.099327   \n",
       "\n",
       "   primary_cleaner.input.depressant  primary_cleaner.input.feed_size  \\\n",
       "0                         14.993118                         8.080000   \n",
       "1                         14.987471                         8.080000   \n",
       "2                         12.884934                         7.786667   \n",
       "3                         12.006805                         7.640000   \n",
       "4                         10.682530                         7.530000   \n",
       "\n",
       "   primary_cleaner.input.xanthate  primary_cleaner.state.floatbank8_a_air  \\\n",
       "0                        1.005021                             1398.981301   \n",
       "1                        0.990469                             1398.777912   \n",
       "2                        0.996043                             1398.493666   \n",
       "3                        0.863514                             1399.618111   \n",
       "4                        0.805575                             1401.268123   \n",
       "\n",
       "   primary_cleaner.state.floatbank8_a_level  \\\n",
       "0                               -500.225577   \n",
       "1                               -500.057435   \n",
       "2                               -500.868360   \n",
       "3                               -498.863574   \n",
       "4                               -500.808305   \n",
       "\n",
       "   primary_cleaner.state.floatbank8_b_air  \\\n",
       "0                             1399.144926   \n",
       "1                             1398.055362   \n",
       "2                             1398.860436   \n",
       "3                             1397.440120   \n",
       "4                             1398.128818   \n",
       "\n",
       "   primary_cleaner.state.floatbank8_b_level  \\\n",
       "0                               -499.919735   \n",
       "1                               -499.778182   \n",
       "2                               -499.764529   \n",
       "3                               -499.211024   \n",
       "4                               -499.504543   \n",
       "\n",
       "   primary_cleaner.state.floatbank8_c_air  ...  \\\n",
       "0                             1400.102998  ...   \n",
       "1                             1396.151033  ...   \n",
       "2                             1398.075709  ...   \n",
       "3                             1400.129303  ...   \n",
       "4                             1402.172226  ...   \n",
       "\n",
       "   secondary_cleaner.state.floatbank4_a_air  \\\n",
       "0                                 12.023554   \n",
       "1                                 12.058140   \n",
       "2                                 11.962366   \n",
       "3                                 12.033091   \n",
       "4                                 12.025367   \n",
       "\n",
       "   secondary_cleaner.state.floatbank4_a_level  \\\n",
       "0                                 -497.795834   \n",
       "1                                 -498.695773   \n",
       "2                                 -498.767484   \n",
       "3                                 -498.350935   \n",
       "4                                 -500.786497   \n",
       "\n",
       "   secondary_cleaner.state.floatbank4_b_air  \\\n",
       "0                                  8.016656   \n",
       "1                                  8.130979   \n",
       "2                                  8.096893   \n",
       "3                                  8.074946   \n",
       "4                                  8.054678   \n",
       "\n",
       "   secondary_cleaner.state.floatbank4_b_level  \\\n",
       "0                                 -501.289139   \n",
       "1                                 -499.634209   \n",
       "2                                 -500.827423   \n",
       "3                                 -499.474407   \n",
       "4                                 -500.397500   \n",
       "\n",
       "   secondary_cleaner.state.floatbank5_a_air  \\\n",
       "0                                  7.946562   \n",
       "1                                  7.958270   \n",
       "2                                  8.071056   \n",
       "3                                  7.897085   \n",
       "4                                  8.107890   \n",
       "\n",
       "   secondary_cleaner.state.floatbank5_a_level  \\\n",
       "0                                 -432.317850   \n",
       "1                                 -525.839648   \n",
       "2                                 -500.801673   \n",
       "3                                 -500.868509   \n",
       "4                                 -509.526725   \n",
       "\n",
       "   secondary_cleaner.state.floatbank5_b_air  \\\n",
       "0                                  4.872511   \n",
       "1                                  4.878850   \n",
       "2                                  4.905125   \n",
       "3                                  4.931400   \n",
       "4                                  4.957674   \n",
       "\n",
       "   secondary_cleaner.state.floatbank5_b_level  \\\n",
       "0                                 -500.037437   \n",
       "1                                 -500.162375   \n",
       "2                                 -499.828510   \n",
       "3                                 -499.963623   \n",
       "4                                 -500.360026   \n",
       "\n",
       "   secondary_cleaner.state.floatbank6_a_air  \\\n",
       "0                                 26.705889   \n",
       "1                                 25.019940   \n",
       "2                                 24.994862   \n",
       "3                                 24.948919   \n",
       "4                                 25.003331   \n",
       "\n",
       "   secondary_cleaner.state.floatbank6_a_level  \n",
       "0                                 -499.709414  \n",
       "1                                 -499.819438  \n",
       "2                                 -500.622559  \n",
       "3                                 -498.709987  \n",
       "4                                 -500.856333  \n",
       "\n",
       "[5 rows x 53 columns]"
      ]
     },
     "metadata": {},
     "output_type": "display_data"
    }
   ],
   "source": [
    "try:\n",
    "    df_train = pd.read_csv('gold_recovery_train_new.csv')\n",
    "    df_test = pd.read_csv('gold_recovery_test_new.csv')\n",
    "    df_full = pd.read_csv('gold_recovery_full_new.csv')\n",
    "except:\n",
    "    df_train = pd.read_csv('/datasets/gold_recovery_train_new.csv')\n",
    "    df_test = pd.read_csv('/datasets/gold_recovery_test_new.csv')\n",
    "    df_full = pd.read_csv('/datasets/gold_recovery_full_new.csv')\n",
    "    \n",
    "df_train.info()\n",
    "display(df_train.head())\n",
    "\n",
    "df_test.info()\n",
    "display(df_test.head())"
   ]
  },
  {
   "cell_type": "code",
   "execution_count": 3,
   "metadata": {
    "scrolled": false
   },
   "outputs": [
    {
     "data": {
      "text/html": [
       "<div>\n",
       "<style scoped>\n",
       "    .dataframe tbody tr th:only-of-type {\n",
       "        vertical-align: middle;\n",
       "    }\n",
       "\n",
       "    .dataframe tbody tr th {\n",
       "        vertical-align: top;\n",
       "    }\n",
       "\n",
       "    .dataframe thead th {\n",
       "        text-align: right;\n",
       "    }\n",
       "</style>\n",
       "<table border=\"1\" class=\"dataframe\">\n",
       "  <thead>\n",
       "    <tr style=\"text-align: right;\">\n",
       "      <th></th>\n",
       "      <th>space</th>\n",
       "    </tr>\n",
       "  </thead>\n",
       "  <tbody>\n",
       "    <tr>\n",
       "      <th>secondary_cleaner.output.tail_sol</th>\n",
       "      <td>11.343558</td>\n",
       "    </tr>\n",
       "    <tr>\n",
       "      <th>rougher.state.floatbank10_e_air</th>\n",
       "      <td>3.081490</td>\n",
       "    </tr>\n",
       "    <tr>\n",
       "      <th>rougher.input.floatbank11_xanthate</th>\n",
       "      <td>3.024949</td>\n",
       "    </tr>\n",
       "    <tr>\n",
       "      <th>primary_cleaner.output.concentrate_sol</th>\n",
       "      <td>2.021344</td>\n",
       "    </tr>\n",
       "    <tr>\n",
       "      <th>secondary_cleaner.state.floatbank2_a_air</th>\n",
       "      <td>1.533677</td>\n",
       "    </tr>\n",
       "    <tr>\n",
       "      <th>...</th>\n",
       "      <td>...</td>\n",
       "    </tr>\n",
       "    <tr>\n",
       "      <th>rougher.state.floatbank10_a_air</th>\n",
       "      <td>0.007068</td>\n",
       "    </tr>\n",
       "    <tr>\n",
       "      <th>rougher.state.floatbank10_a_level</th>\n",
       "      <td>0.007068</td>\n",
       "    </tr>\n",
       "    <tr>\n",
       "      <th>rougher.state.floatbank10_b_air</th>\n",
       "      <td>0.007068</td>\n",
       "    </tr>\n",
       "    <tr>\n",
       "      <th>rougher.state.floatbank10_b_level</th>\n",
       "      <td>0.007068</td>\n",
       "    </tr>\n",
       "    <tr>\n",
       "      <th>secondary_cleaner.state.floatbank6_a_level</th>\n",
       "      <td>0.007068</td>\n",
       "    </tr>\n",
       "  </tbody>\n",
       "</table>\n",
       "<p>62 rows × 1 columns</p>\n",
       "</div>"
      ],
      "text/plain": [
       "                                                space\n",
       "secondary_cleaner.output.tail_sol           11.343558\n",
       "rougher.state.floatbank10_e_air              3.081490\n",
       "rougher.input.floatbank11_xanthate           3.024949\n",
       "primary_cleaner.output.concentrate_sol       2.021344\n",
       "secondary_cleaner.state.floatbank2_a_air     1.533677\n",
       "...                                               ...\n",
       "rougher.state.floatbank10_a_air              0.007068\n",
       "rougher.state.floatbank10_a_level            0.007068\n",
       "rougher.state.floatbank10_b_air              0.007068\n",
       "rougher.state.floatbank10_b_level            0.007068\n",
       "secondary_cleaner.state.floatbank6_a_level   0.007068\n",
       "\n",
       "[62 rows x 1 columns]"
      ]
     },
     "metadata": {},
     "output_type": "display_data"
    },
    {
     "data": {
      "text/html": [
       "<div>\n",
       "<style scoped>\n",
       "    .dataframe tbody tr th:only-of-type {\n",
       "        vertical-align: middle;\n",
       "    }\n",
       "\n",
       "    .dataframe tbody tr th {\n",
       "        vertical-align: top;\n",
       "    }\n",
       "\n",
       "    .dataframe thead th {\n",
       "        text-align: right;\n",
       "    }\n",
       "</style>\n",
       "<table border=\"1\" class=\"dataframe\">\n",
       "  <thead>\n",
       "    <tr style=\"text-align: right;\">\n",
       "      <th></th>\n",
       "      <th>space</th>\n",
       "    </tr>\n",
       "  </thead>\n",
       "  <tbody>\n",
       "    <tr>\n",
       "      <th>rougher.input.floatbank11_xanthate</th>\n",
       "      <td>0.472590</td>\n",
       "    </tr>\n",
       "    <tr>\n",
       "      <th>rougher.input.feed_sol</th>\n",
       "      <td>0.396975</td>\n",
       "    </tr>\n",
       "    <tr>\n",
       "      <th>secondary_cleaner.state.floatbank3_a_air</th>\n",
       "      <td>0.170132</td>\n",
       "    </tr>\n",
       "    <tr>\n",
       "      <th>rougher.input.floatbank11_sulfate</th>\n",
       "      <td>0.151229</td>\n",
       "    </tr>\n",
       "    <tr>\n",
       "      <th>primary_cleaner.input.depressant</th>\n",
       "      <td>0.094518</td>\n",
       "    </tr>\n",
       "    <tr>\n",
       "      <th>rougher.input.floatbank10_sulfate</th>\n",
       "      <td>0.094518</td>\n",
       "    </tr>\n",
       "    <tr>\n",
       "      <th>primary_cleaner.input.sulfate</th>\n",
       "      <td>0.075614</td>\n",
       "    </tr>\n",
       "    <tr>\n",
       "      <th>primary_cleaner.input.xanthate</th>\n",
       "      <td>0.075614</td>\n",
       "    </tr>\n",
       "    <tr>\n",
       "      <th>rougher.input.feed_rate</th>\n",
       "      <td>0.056711</td>\n",
       "    </tr>\n",
       "    <tr>\n",
       "      <th>secondary_cleaner.state.floatbank2_a_air</th>\n",
       "      <td>0.056711</td>\n",
       "    </tr>\n",
       "    <tr>\n",
       "      <th>secondary_cleaner.state.floatbank2_b_air</th>\n",
       "      <td>0.037807</td>\n",
       "    </tr>\n",
       "    <tr>\n",
       "      <th>rougher.input.feed_size</th>\n",
       "      <td>0.018904</td>\n",
       "    </tr>\n",
       "  </tbody>\n",
       "</table>\n",
       "</div>"
      ],
      "text/plain": [
       "                                             space\n",
       "rougher.input.floatbank11_xanthate        0.472590\n",
       "rougher.input.feed_sol                    0.396975\n",
       "secondary_cleaner.state.floatbank3_a_air  0.170132\n",
       "rougher.input.floatbank11_sulfate         0.151229\n",
       "primary_cleaner.input.depressant          0.094518\n",
       "rougher.input.floatbank10_sulfate         0.094518\n",
       "primary_cleaner.input.sulfate             0.075614\n",
       "primary_cleaner.input.xanthate            0.075614\n",
       "rougher.input.feed_rate                   0.056711\n",
       "secondary_cleaner.state.floatbank2_a_air  0.056711\n",
       "secondary_cleaner.state.floatbank2_b_air  0.037807\n",
       "rougher.input.feed_size                   0.018904"
      ]
     },
     "metadata": {},
     "output_type": "display_data"
    }
   ],
   "source": [
    "# Анализ пропусков\n",
    "(display((df_train.isna().mean()*100)\n",
    "        .to_frame()\n",
    "        .rename(columns = {0:'space'})\n",
    "        .query('space > 0')\n",
    "        .sort_values(by='space', ascending=False))\n",
    ")\n",
    "(display((df_test.isna().mean()*100)\n",
    "        .to_frame()\n",
    "        .rename(columns = {0:'space'})\n",
    "        .query('space > 0')\n",
    "        .sort_values(by='space', ascending=False))\n",
    ")"
   ]
  },
  {
   "cell_type": "markdown",
   "metadata": {},
   "source": [
    "Пропуски заполняем значениями соседних строк, т.к. значения из соседних дат похожи по условиям задачи"
   ]
  },
  {
   "cell_type": "code",
   "execution_count": 4,
   "metadata": {},
   "outputs": [
    {
     "data": {
      "text/html": [
       "<div>\n",
       "<style scoped>\n",
       "    .dataframe tbody tr th:only-of-type {\n",
       "        vertical-align: middle;\n",
       "    }\n",
       "\n",
       "    .dataframe tbody tr th {\n",
       "        vertical-align: top;\n",
       "    }\n",
       "\n",
       "    .dataframe thead th {\n",
       "        text-align: right;\n",
       "    }\n",
       "</style>\n",
       "<table border=\"1\" class=\"dataframe\">\n",
       "  <thead>\n",
       "    <tr style=\"text-align: right;\">\n",
       "      <th></th>\n",
       "      <th>space</th>\n",
       "    </tr>\n",
       "  </thead>\n",
       "  <tbody>\n",
       "  </tbody>\n",
       "</table>\n",
       "</div>"
      ],
      "text/plain": [
       "Empty DataFrame\n",
       "Columns: [space]\n",
       "Index: []"
      ]
     },
     "metadata": {},
     "output_type": "display_data"
    },
    {
     "data": {
      "text/html": [
       "<div>\n",
       "<style scoped>\n",
       "    .dataframe tbody tr th:only-of-type {\n",
       "        vertical-align: middle;\n",
       "    }\n",
       "\n",
       "    .dataframe tbody tr th {\n",
       "        vertical-align: top;\n",
       "    }\n",
       "\n",
       "    .dataframe thead th {\n",
       "        text-align: right;\n",
       "    }\n",
       "</style>\n",
       "<table border=\"1\" class=\"dataframe\">\n",
       "  <thead>\n",
       "    <tr style=\"text-align: right;\">\n",
       "      <th></th>\n",
       "      <th>space</th>\n",
       "    </tr>\n",
       "  </thead>\n",
       "  <tbody>\n",
       "  </tbody>\n",
       "</table>\n",
       "</div>"
      ],
      "text/plain": [
       "Empty DataFrame\n",
       "Columns: [space]\n",
       "Index: []"
      ]
     },
     "metadata": {},
     "output_type": "display_data"
    }
   ],
   "source": [
    "df_train.fillna(method='ffill', inplace=True)\n",
    "df_test.fillna(method='ffill', inplace=True)\n",
    "df_full.fillna(method='ffill', inplace=True)\n",
    "\n",
    "(display((df_train.isna().mean()*100)\n",
    "        .to_frame()\n",
    "        .rename(columns = {0:'space'})\n",
    "        .query('space > 0')\n",
    "        .sort_values(by='space', ascending=False))\n",
    ")\n",
    "(display((df_test.isna().mean()*100)\n",
    "        .to_frame()\n",
    "        .rename(columns = {0:'space'})\n",
    "        .query('space > 0')\n",
    "        .sort_values(by='space', ascending=False))\n",
    ")"
   ]
  },
  {
   "cell_type": "code",
   "execution_count": 5,
   "metadata": {},
   "outputs": [
    {
     "name": "stdout",
     "output_type": "stream",
     "text": [
      "Ср. значение rougher.output.recovery в исходных данных:  82.70450164550293\n",
      "Ср. расчетное значение rougher.output.recovery:  82.70450164550293\n",
      "MAE (ср абсолютное отклонение между расчетным значением recovery и исходным):  9.73512347450521e-15\n"
     ]
    }
   ],
   "source": [
    "#Проверка, что эффективность обогащения рассчитана правильно\n",
    "def recovery(row):\n",
    "    c = row['rougher.output.concentrate_au'] \n",
    "    f = row['rougher.input.feed_au']\n",
    "    t = row['rougher.output.tail_au']\n",
    "    return (c*(f-t))/(f*(c-t))*100\n",
    "\n",
    "df_train['rougher.output.recovery_calc'] = df_train.apply(recovery, axis=1)\n",
    "mae = mean_absolute_error(df_train['rougher.output.recovery'], df_train['rougher.output.recovery_calc'])\n",
    "print('Ср. значение rougher.output.recovery в исходных данных: ', df_train['rougher.output.recovery'].mean()) \n",
    "print('Ср. расчетное значение rougher.output.recovery: ', df_train['rougher.output.recovery_calc'].mean()) \n",
    "print('MAE (ср абсолютное отклонение между расчетным значением recovery и исходным): ', mae)"
   ]
  },
  {
   "cell_type": "markdown",
   "metadata": {},
   "source": [
    "Значение MAE составляет 9.7e-15 : пренебрежительно мало, что говорит о корректности расчета эффективности обогащения"
   ]
  },
  {
   "cell_type": "markdown",
   "metadata": {},
   "source": [
    "## Анализ данных"
   ]
  },
  {
   "cell_type": "markdown",
   "metadata": {},
   "source": [
    "### Анализ признаков, недоступных в тестовой выборке"
   ]
  },
  {
   "cell_type": "code",
   "execution_count": 6,
   "metadata": {},
   "outputs": [
    {
     "data": {
      "text/plain": [
       "['final.output.concentrate_ag',\n",
       " 'final.output.concentrate_au',\n",
       " 'final.output.concentrate_pb',\n",
       " 'final.output.concentrate_sol',\n",
       " 'final.output.recovery',\n",
       " 'final.output.tail_ag',\n",
       " 'final.output.tail_au',\n",
       " 'final.output.tail_pb',\n",
       " 'final.output.tail_sol',\n",
       " 'primary_cleaner.output.concentrate_ag',\n",
       " 'primary_cleaner.output.concentrate_au',\n",
       " 'primary_cleaner.output.concentrate_pb',\n",
       " 'primary_cleaner.output.concentrate_sol',\n",
       " 'primary_cleaner.output.tail_ag',\n",
       " 'primary_cleaner.output.tail_au',\n",
       " 'primary_cleaner.output.tail_pb',\n",
       " 'primary_cleaner.output.tail_sol',\n",
       " 'rougher.calculation.au_pb_ratio',\n",
       " 'rougher.calculation.floatbank10_sulfate_to_au_feed',\n",
       " 'rougher.calculation.floatbank11_sulfate_to_au_feed',\n",
       " 'rougher.calculation.sulfate_to_au_concentrate',\n",
       " 'rougher.output.concentrate_ag',\n",
       " 'rougher.output.concentrate_au',\n",
       " 'rougher.output.concentrate_pb',\n",
       " 'rougher.output.concentrate_sol',\n",
       " 'rougher.output.recovery',\n",
       " 'rougher.output.recovery_calc',\n",
       " 'rougher.output.tail_ag',\n",
       " 'rougher.output.tail_au',\n",
       " 'rougher.output.tail_pb',\n",
       " 'rougher.output.tail_sol',\n",
       " 'secondary_cleaner.output.tail_ag',\n",
       " 'secondary_cleaner.output.tail_au',\n",
       " 'secondary_cleaner.output.tail_pb',\n",
       " 'secondary_cleaner.output.tail_sol']"
      ]
     },
     "metadata": {},
     "output_type": "display_data"
    }
   ],
   "source": [
    "#Проанализируйте признаки, недоступные в тестовой выборке. Что это за параметры? К какому типу относятся?\n",
    "\n",
    "set_train_columns = set(df_train.columns)\n",
    "set_test_columns = set(df_test.columns)\n",
    "diff = set_train_columns.difference(set_test_columns) \n",
    "display(sorted(diff))"
   ]
  },
  {
   "cell_type": "markdown",
   "metadata": {},
   "source": [
    "Мы видим, что часть признаков отсутствует в тестовой выборке, удалим их из тренировочной. Это признаки, связанные с выходами после флотации, финальными выходами, а такжепризнаки, связанные с отвальными хвостами на всех этапах. Также отсутствует целевой признак - финальный коэффициент восстановления `final.output.recovery` и  коэффициент восстановления после флотации `rougher.output.recovery`"
   ]
  },
  {
   "cell_type": "markdown",
   "metadata": {},
   "source": [
    "### Анализ изменений концентрация металлов (Au, Ag, Pb) на различных этапах очистки"
   ]
  },
  {
   "cell_type": "code",
   "execution_count": 7,
   "metadata": {
    "scrolled": false
   },
   "outputs": [
    {
     "data": {
      "image/png": "[encoded data removed]",
      "text/plain": [
       "<Figure size 1368x432 with 1 Axes>"
      ]
     },
     "metadata": {
      "needs_background": "light"
     },
     "output_type": "display_data"
    }
   ],
   "source": [
    "#2.1. Посмотрите, как меняется концентрация металлов (Au, Ag, Pb) на различных этапах очистки. \n",
    "data_au = [df_train['rougher.output.concentrate_au'].mean(), \n",
    "           df_train['primary_cleaner.output.concentrate_au'].mean(), \n",
    "           df_train['final.output.concentrate_au'].mean()]\n",
    "\n",
    "data_ag = [df_train['rougher.output.concentrate_ag'].mean(), \n",
    "           df_train['primary_cleaner.output.concentrate_ag'].mean(), \n",
    "           df_train['final.output.concentrate_ag'].mean()]\n",
    "\n",
    "data_pb = [df_train['rougher.output.concentrate_pb'].mean(), \n",
    "           df_train['primary_cleaner.output.concentrate_pb'].mean(), \n",
    "           df_train['final.output.concentrate_pb'].mean()]\n",
    "\n",
    "plotdata = pd.DataFrame({\n",
    "    \"Золото\":data_au,\n",
    "    \"Серебро\":data_ag,\n",
    "    \"Свинец\":data_pb\n",
    "    }, \n",
    "    index=['флотация', 'первичная очистка', 'вторичная очистка']\n",
    ")\n",
    "plotdata.plot(kind=\"bar\", figsize=(19,6))\n",
    "plt.title('Изменение средних параметров по этапам очистки')\n",
    "plt.xlabel(\"Этап очистки\")\n",
    "plt.ylabel(\"Концентрация выходного продукта\")\n",
    "\n",
    "plt.show()\n",
    "\n"
   ]
  },
  {
   "cell_type": "markdown",
   "metadata": {},
   "source": [
    "С каждым этапом очистки концентрация золота растет, в то время, как концентрация серебра и свинца снижается все сильнее"
   ]
  },
  {
   "cell_type": "markdown",
   "metadata": {},
   "source": [
    "### Сравнение распределения размеров гранул сырья на обучающей и тестовой выборках. Если распределения сильно отличаются друг от друга, оценка модели будет неправильной\n",
    "\n",
    "Сырье  - то, что поступает на вход этапа \"флотация\", т.е. параметр `rougher.input.feed_size`"
   ]
  },
  {
   "cell_type": "code",
   "execution_count": 8,
   "metadata": {
    "scrolled": true
   },
   "outputs": [
    {
     "data": {
      "image/png": "[encoded data removed]",
      "text/plain": [
       "<Figure size 1368x432 with 1 Axes>"
      ]
     },
     "metadata": {
      "needs_background": "light"
     },
     "output_type": "display_data"
    }
   ],
   "source": [
    "ax = df_train['rougher.input.feed_size'].plot(\n",
    "    kind='hist', density=True, bins=100, figsize=(19,6), alpha=0.8, label='train', legend=True)\n",
    "df_test['rougher.input.feed_size'].plot(\n",
    "    ax=ax, kind='hist', density=True, bins=100, figsize=(19,6), label='test',  alpha=0.8, legend=True)\n",
    "plt.title(\"Распределение размеров гранул на обучающей и тестовой выборках\")\n",
    "plt.show()"
   ]
  },
  {
   "cell_type": "markdown",
   "metadata": {},
   "source": [
    "Видно, что распределение размера гранул сырья для обучающей и тестовой выборки несколько отличается, но в целом несущественно. Но есть выбросы, их удалим."
   ]
  },
  {
   "cell_type": "code",
   "execution_count": 9,
   "metadata": {},
   "outputs": [
    {
     "data": {
      "image/png": "[encoded data removed]",
      "text/plain": [
       "<Figure size 432x288 with 1 Axes>"
      ]
     },
     "metadata": {
      "needs_background": "light"
     },
     "output_type": "display_data"
    },
    {
     "data": {
      "image/png": "[encoded data removed]",
      "text/plain": [
       "<Figure size 432x288 with 1 Axes>"
      ]
     },
     "metadata": {
      "needs_background": "light"
     },
     "output_type": "display_data"
    }
   ],
   "source": [
    "df_train.boxplot(column='rougher.input.feed_size')\n",
    "plt.show()\n",
    "df_test.boxplot(column='rougher.input.feed_size')\n",
    "plt.show()"
   ]
  },
  {
   "cell_type": "code",
   "execution_count": 10,
   "metadata": {},
   "outputs": [
    {
     "data": {
      "image/png": "[encoded data removed]",
      "text/plain": [
       "<Figure size 1368x432 with 1 Axes>"
      ]
     },
     "metadata": {
      "needs_background": "light"
     },
     "output_type": "display_data"
    }
   ],
   "source": [
    "df_train = df_train[(df_train['rougher.input.feed_size'] < 120) & (df_train['rougher.input.feed_size'] > 30) ]\n",
    "df_test = df_test[(df_test['rougher.input.feed_size'] < 120) & (df_test['rougher.input.feed_size'] > 30)]\n",
    "\n",
    "ax = df_train['rougher.input.feed_size'].plot(\n",
    "    kind='hist', bins=100, density=True, figsize=(19,6), alpha=0.8, label='train', legend=True)\n",
    "df_test['rougher.input.feed_size'].plot(\n",
    "    ax=ax, kind='hist', bins=100, density=True, figsize=(19,6), label='test',  alpha=0.8, legend=True)\n",
    "plt.title(\"Распределение размеров гранул на обучающей и тестовой выборках\")\n",
    "plt.show()"
   ]
  },
  {
   "cell_type": "markdown",
   "metadata": {},
   "source": [
    "Выбросы теперь не исказят результаты исследования"
   ]
  },
  {
   "cell_type": "markdown",
   "metadata": {},
   "source": [
    "### Исследование суммарной концентрации всех веществ на разных стадиях: в сырье, в черновом и финальном концентратах."
   ]
  },
  {
   "cell_type": "code",
   "execution_count": 11,
   "metadata": {},
   "outputs": [
    {
     "data": {
      "text/html": [
       "<div>\n",
       "<style scoped>\n",
       "    .dataframe tbody tr th:only-of-type {\n",
       "        vertical-align: middle;\n",
       "    }\n",
       "\n",
       "    .dataframe tbody tr th {\n",
       "        vertical-align: top;\n",
       "    }\n",
       "\n",
       "    .dataframe thead th {\n",
       "        text-align: right;\n",
       "    }\n",
       "</style>\n",
       "<table border=\"1\" class=\"dataframe\">\n",
       "  <thead>\n",
       "    <tr style=\"text-align: right;\">\n",
       "      <th></th>\n",
       "      <th>Золото</th>\n",
       "      <th>Серебро</th>\n",
       "      <th>Свинец</th>\n",
       "      <th>Соли</th>\n",
       "    </tr>\n",
       "  </thead>\n",
       "  <tbody>\n",
       "    <tr>\n",
       "      <th>сырье</th>\n",
       "      <td>7.872634</td>\n",
       "      <td>8.587078</td>\n",
       "      <td>3.509515</td>\n",
       "      <td>36.357965</td>\n",
       "    </tr>\n",
       "    <tr>\n",
       "      <th>черновой концентрат</th>\n",
       "      <td>19.433403</td>\n",
       "      <td>11.773031</td>\n",
       "      <td>7.661018</td>\n",
       "      <td>28.287084</td>\n",
       "    </tr>\n",
       "    <tr>\n",
       "      <th>финальный концентрат</th>\n",
       "      <td>44.038175</td>\n",
       "      <td>5.133094</td>\n",
       "      <td>10.135302</td>\n",
       "      <td>9.121156</td>\n",
       "    </tr>\n",
       "  </tbody>\n",
       "</table>\n",
       "</div>"
      ],
      "text/plain": [
       "                         Золото    Серебро     Свинец       Соли\n",
       "сырье                  7.872634   8.587078   3.509515  36.357965\n",
       "черновой концентрат   19.433403  11.773031   7.661018  28.287084\n",
       "финальный концентрат  44.038175   5.133094  10.135302   9.121156"
      ]
     },
     "metadata": {},
     "output_type": "display_data"
    },
    {
     "data": {
      "image/png": "[encoded data removed]",
      "text/plain": [
       "<Figure size 1368x432 with 1 Axes>"
      ]
     },
     "metadata": {
      "needs_background": "light"
     },
     "output_type": "display_data"
    }
   ],
   "source": [
    "data_au = [df_train['rougher.input.feed_au'].mean(), \n",
    "           df_train['rougher.output.concentrate_au'].mean(), \n",
    "           df_train['final.output.concentrate_au'].mean()]\n",
    "\n",
    "data_ag = [df_train['rougher.input.feed_ag'].mean(), \n",
    "           df_train['rougher.output.concentrate_ag'].mean(), \n",
    "           df_train['final.output.concentrate_ag'].mean()]\n",
    "\n",
    "data_pb = [df_train['rougher.input.feed_pb'].mean(), \n",
    "           df_train['rougher.output.concentrate_pb'].mean(), \n",
    "           df_train['final.output.concentrate_pb'].mean()]\n",
    "\n",
    "data_sol = [df_train['rougher.input.feed_sol'].mean(), \n",
    "           df_train['rougher.output.concentrate_sol'].mean(), \n",
    "           df_train['final.output.concentrate_sol'].mean()]\n",
    "\n",
    "plotdata = pd.DataFrame({\n",
    "    \"Золото\":data_au,\n",
    "    \"Серебро\":data_ag,\n",
    "    \"Свинец\":data_pb,\n",
    "    \"Соли\":data_sol\n",
    "    }, \n",
    "    index=['сырье', 'черновой концентрат', 'финальный концентрат']\n",
    ")\n",
    "display(plotdata)\n",
    "plotdata.plot(kind=\"bar\", stacked=True, figsize=(19,6))\n",
    "plt.title('Суммарная концентрация всех веществ на разных стадиях')\n",
    "plt.xlabel(\"Стадия\")\n",
    "plt.ylabel(\"Концентрация выходного продукта\")\n",
    "\n",
    "plt.show()\n"
   ]
  },
  {
   "cell_type": "markdown",
   "metadata": {},
   "source": [
    "Видно, что с прохождением каждой из стадий суммарная концентрация металлов постепенно растет с ~20 до ~60 процентов, количество солей уменьшается."
   ]
  },
  {
   "cell_type": "code",
   "execution_count": 12,
   "metadata": {},
   "outputs": [
    {
     "data": {
      "image/png": "[encoded data removed]",
      "text/plain": [
       "<Figure size 1368x432 with 1 Axes>"
      ]
     },
     "metadata": {
      "needs_background": "light"
     },
     "output_type": "display_data"
    }
   ],
   "source": [
    "data_1 = (df_train['rougher.input.feed_au'] + df_train['rougher.input.feed_ag'] \n",
    "            + df_train['rougher.input.feed_pb'] +  df_train['rougher.input.feed_sol'])\n",
    "    \n",
    "data_2 = (df_train['rougher.output.concentrate_au'] + df_train['rougher.output.concentrate_ag']\n",
    "            + df_train['rougher.output.concentrate_pb'] + df_train['rougher.output.concentrate_sol'])\n",
    "    \n",
    "data_3 = (df_train['final.output.concentrate_au'] + df_train['final.output.concentrate_ag']\n",
    "            + df_train['final.output.concentrate_pb'] +  df_train['final.output.concentrate_sol'])\n",
    "\n",
    "ax = data_1.plot(\n",
    "    kind='hist', bins=100, figsize=(19,6), alpha=0.8, label='сырье', legend=True)\n",
    "data_2.plot(\n",
    "    ax=ax, kind='hist', bins=100, figsize=(19,6), label='черновой концентрат',  alpha=0.8, legend=True)\n",
    "data_3.plot(\n",
    "    ax=ax, kind='hist', bins=100, figsize=(19,6), label='финальный концентрат',  alpha=0.8, legend=True)\n",
    "plt.title(\"Суммарная концентрация всех веществ на разных стадиях\")\n",
    "plt.show()"
   ]
  },
  {
   "cell_type": "markdown",
   "metadata": {},
   "source": [
    "Видно, что есть выбросы нулевым значением, которые могут исказить результаты. Избавимся от них и заодно от значений меньше 30"
   ]
  },
  {
   "cell_type": "code",
   "execution_count": 13,
   "metadata": {},
   "outputs": [
    {
     "data": {
      "image/png": "[encoded data removed]",
      "text/plain": [
       "<Figure size 1368x432 with 1 Axes>"
      ]
     },
     "metadata": {
      "needs_background": "light"
     },
     "output_type": "display_data"
    }
   ],
   "source": [
    "df_train = (df_train.query(\n",
    "                '(`rougher.input.feed_au` + `rougher.input.feed_ag` + `rougher.input.feed_pb` + `rougher.input.feed_sol` > 30)'\n",
    "                + '& (`rougher.output.concentrate_au` + `rougher.output.concentrate_ag` + `rougher.output.concentrate_pb` + `rougher.output.concentrate_sol` > 30)'\n",
    "                + '& (`final.output.concentrate_au` + `final.output.concentrate_ag` + `final.output.concentrate_pb` + `final.output.concentrate_sol` > 30)')\n",
    "            )\n",
    "\n",
    "data_1 = (df_train['rougher.input.feed_au'] + df_train['rougher.input.feed_ag'] \n",
    "            + df_train['rougher.input.feed_pb'] +  df_train['rougher.input.feed_sol'])\n",
    "    \n",
    "data_2 = (df_train['rougher.output.concentrate_au'] + df_train['rougher.output.concentrate_ag']\n",
    "            + df_train['rougher.output.concentrate_pb'] + df_train['rougher.output.concentrate_sol'])\n",
    "    \n",
    "data_3 = (df_train['final.output.concentrate_au'] + df_train['final.output.concentrate_ag']\n",
    "            + df_train['final.output.concentrate_pb'] +  df_train['final.output.concentrate_sol'])\n",
    "\n",
    "ax = data_1.plot(\n",
    "    kind='hist', bins=100, figsize=(19,6), alpha=0.8, label='сырье', legend=True)\n",
    "data_2.plot(\n",
    "    ax=ax, kind='hist', bins=100, figsize=(19,6), label='черновой концентрат',  alpha=0.8, legend=True)\n",
    "data_3.plot(\n",
    "    ax=ax, kind='hist', bins=100, figsize=(19,6), label='финальный концентрат',  alpha=0.8, legend=True)\n",
    "plt.title(\"Суммарная концентрация всех веществ на разных стадиях\")\n",
    "plt.show()"
   ]
  },
  {
   "cell_type": "markdown",
   "metadata": {},
   "source": [
    "## Модель\n",
    "\n",
    "Нужно спрогнозировать сразу две величины:\n",
    " - эффективность обогащения чернового концентрата `rougher.output.recovery`;\n",
    " - эффективность обогащения финального концентрата `final.output.recovery`."
   ]
  },
  {
   "cell_type": "code",
   "execution_count": 14,
   "metadata": {
    "scrolled": false
   },
   "outputs": [
    {
     "data": {
      "text/html": [
       "<div>\n",
       "<style scoped>\n",
       "    .dataframe tbody tr th:only-of-type {\n",
       "        vertical-align: middle;\n",
       "    }\n",
       "\n",
       "    .dataframe tbody tr th {\n",
       "        vertical-align: top;\n",
       "    }\n",
       "\n",
       "    .dataframe thead th {\n",
       "        text-align: right;\n",
       "    }\n",
       "</style>\n",
       "<table border=\"1\" class=\"dataframe\">\n",
       "  <thead>\n",
       "    <tr style=\"text-align: right;\">\n",
       "      <th></th>\n",
       "      <th>date</th>\n",
       "      <th>primary_cleaner.input.sulfate</th>\n",
       "      <th>primary_cleaner.input.depressant</th>\n",
       "      <th>primary_cleaner.input.feed_size</th>\n",
       "      <th>primary_cleaner.input.xanthate</th>\n",
       "      <th>primary_cleaner.state.floatbank8_a_air</th>\n",
       "      <th>primary_cleaner.state.floatbank8_a_level</th>\n",
       "      <th>primary_cleaner.state.floatbank8_b_air</th>\n",
       "      <th>primary_cleaner.state.floatbank8_b_level</th>\n",
       "      <th>primary_cleaner.state.floatbank8_c_air</th>\n",
       "      <th>...</th>\n",
       "      <th>secondary_cleaner.state.floatbank4_a_air</th>\n",
       "      <th>secondary_cleaner.state.floatbank4_a_level</th>\n",
       "      <th>secondary_cleaner.state.floatbank4_b_air</th>\n",
       "      <th>secondary_cleaner.state.floatbank4_b_level</th>\n",
       "      <th>secondary_cleaner.state.floatbank5_a_air</th>\n",
       "      <th>secondary_cleaner.state.floatbank5_a_level</th>\n",
       "      <th>secondary_cleaner.state.floatbank5_b_air</th>\n",
       "      <th>secondary_cleaner.state.floatbank5_b_level</th>\n",
       "      <th>secondary_cleaner.state.floatbank6_a_air</th>\n",
       "      <th>secondary_cleaner.state.floatbank6_a_level</th>\n",
       "    </tr>\n",
       "  </thead>\n",
       "  <tbody>\n",
       "    <tr>\n",
       "      <th>0</th>\n",
       "      <td>2016-09-01 00:59:59</td>\n",
       "      <td>210.800909</td>\n",
       "      <td>14.993118</td>\n",
       "      <td>8.080000</td>\n",
       "      <td>1.005021</td>\n",
       "      <td>1398.981301</td>\n",
       "      <td>-500.225577</td>\n",
       "      <td>1399.144926</td>\n",
       "      <td>-499.919735</td>\n",
       "      <td>1400.102998</td>\n",
       "      <td>...</td>\n",
       "      <td>12.023554</td>\n",
       "      <td>-497.795834</td>\n",
       "      <td>8.016656</td>\n",
       "      <td>-501.289139</td>\n",
       "      <td>7.946562</td>\n",
       "      <td>-432.317850</td>\n",
       "      <td>4.872511</td>\n",
       "      <td>-500.037437</td>\n",
       "      <td>26.705889</td>\n",
       "      <td>-499.709414</td>\n",
       "    </tr>\n",
       "    <tr>\n",
       "      <th>1</th>\n",
       "      <td>2016-09-01 01:59:59</td>\n",
       "      <td>215.392455</td>\n",
       "      <td>14.987471</td>\n",
       "      <td>8.080000</td>\n",
       "      <td>0.990469</td>\n",
       "      <td>1398.777912</td>\n",
       "      <td>-500.057435</td>\n",
       "      <td>1398.055362</td>\n",
       "      <td>-499.778182</td>\n",
       "      <td>1396.151033</td>\n",
       "      <td>...</td>\n",
       "      <td>12.058140</td>\n",
       "      <td>-498.695773</td>\n",
       "      <td>8.130979</td>\n",
       "      <td>-499.634209</td>\n",
       "      <td>7.958270</td>\n",
       "      <td>-525.839648</td>\n",
       "      <td>4.878850</td>\n",
       "      <td>-500.162375</td>\n",
       "      <td>25.019940</td>\n",
       "      <td>-499.819438</td>\n",
       "    </tr>\n",
       "    <tr>\n",
       "      <th>2</th>\n",
       "      <td>2016-09-01 02:59:59</td>\n",
       "      <td>215.259946</td>\n",
       "      <td>12.884934</td>\n",
       "      <td>7.786667</td>\n",
       "      <td>0.996043</td>\n",
       "      <td>1398.493666</td>\n",
       "      <td>-500.868360</td>\n",
       "      <td>1398.860436</td>\n",
       "      <td>-499.764529</td>\n",
       "      <td>1398.075709</td>\n",
       "      <td>...</td>\n",
       "      <td>11.962366</td>\n",
       "      <td>-498.767484</td>\n",
       "      <td>8.096893</td>\n",
       "      <td>-500.827423</td>\n",
       "      <td>8.071056</td>\n",
       "      <td>-500.801673</td>\n",
       "      <td>4.905125</td>\n",
       "      <td>-499.828510</td>\n",
       "      <td>24.994862</td>\n",
       "      <td>-500.622559</td>\n",
       "    </tr>\n",
       "    <tr>\n",
       "      <th>3</th>\n",
       "      <td>2016-09-01 03:59:59</td>\n",
       "      <td>215.336236</td>\n",
       "      <td>12.006805</td>\n",
       "      <td>7.640000</td>\n",
       "      <td>0.863514</td>\n",
       "      <td>1399.618111</td>\n",
       "      <td>-498.863574</td>\n",
       "      <td>1397.440120</td>\n",
       "      <td>-499.211024</td>\n",
       "      <td>1400.129303</td>\n",
       "      <td>...</td>\n",
       "      <td>12.033091</td>\n",
       "      <td>-498.350935</td>\n",
       "      <td>8.074946</td>\n",
       "      <td>-499.474407</td>\n",
       "      <td>7.897085</td>\n",
       "      <td>-500.868509</td>\n",
       "      <td>4.931400</td>\n",
       "      <td>-499.963623</td>\n",
       "      <td>24.948919</td>\n",
       "      <td>-498.709987</td>\n",
       "    </tr>\n",
       "    <tr>\n",
       "      <th>4</th>\n",
       "      <td>2016-09-01 04:59:59</td>\n",
       "      <td>199.099327</td>\n",
       "      <td>10.682530</td>\n",
       "      <td>7.530000</td>\n",
       "      <td>0.805575</td>\n",
       "      <td>1401.268123</td>\n",
       "      <td>-500.808305</td>\n",
       "      <td>1398.128818</td>\n",
       "      <td>-499.504543</td>\n",
       "      <td>1402.172226</td>\n",
       "      <td>...</td>\n",
       "      <td>12.025367</td>\n",
       "      <td>-500.786497</td>\n",
       "      <td>8.054678</td>\n",
       "      <td>-500.397500</td>\n",
       "      <td>8.107890</td>\n",
       "      <td>-509.526725</td>\n",
       "      <td>4.957674</td>\n",
       "      <td>-500.360026</td>\n",
       "      <td>25.003331</td>\n",
       "      <td>-500.856333</td>\n",
       "    </tr>\n",
       "  </tbody>\n",
       "</table>\n",
       "<p>5 rows × 53 columns</p>\n",
       "</div>"
      ],
      "text/plain": [
       "                  date  primary_cleaner.input.sulfate  \\\n",
       "0  2016-09-01 00:59:59                     210.800909   \n",
       "1  2016-09-01 01:59:59                     215.392455   \n",
       "2  2016-09-01 02:59:59                     215.259946   \n",
       "3  2016-09-01 03:59:59                     215.336236   \n",
       "4  2016-09-01 04:59:59                     199.099327   \n",
       "\n",
       "   primary_cleaner.input.depressant  primary_cleaner.input.feed_size  \\\n",
       "0                         14.993118                         8.080000   \n",
       "1                         14.987471                         8.080000   \n",
       "2                         12.884934                         7.786667   \n",
       "3                         12.006805                         7.640000   \n",
       "4                         10.682530                         7.530000   \n",
       "\n",
       "   primary_cleaner.input.xanthate  primary_cleaner.state.floatbank8_a_air  \\\n",
       "0                        1.005021                             1398.981301   \n",
       "1                        0.990469                             1398.777912   \n",
       "2                        0.996043                             1398.493666   \n",
       "3                        0.863514                             1399.618111   \n",
       "4                        0.805575                             1401.268123   \n",
       "\n",
       "   primary_cleaner.state.floatbank8_a_level  \\\n",
       "0                               -500.225577   \n",
       "1                               -500.057435   \n",
       "2                               -500.868360   \n",
       "3                               -498.863574   \n",
       "4                               -500.808305   \n",
       "\n",
       "   primary_cleaner.state.floatbank8_b_air  \\\n",
       "0                             1399.144926   \n",
       "1                             1398.055362   \n",
       "2                             1398.860436   \n",
       "3                             1397.440120   \n",
       "4                             1398.128818   \n",
       "\n",
       "   primary_cleaner.state.floatbank8_b_level  \\\n",
       "0                               -499.919735   \n",
       "1                               -499.778182   \n",
       "2                               -499.764529   \n",
       "3                               -499.211024   \n",
       "4                               -499.504543   \n",
       "\n",
       "   primary_cleaner.state.floatbank8_c_air  ...  \\\n",
       "0                             1400.102998  ...   \n",
       "1                             1396.151033  ...   \n",
       "2                             1398.075709  ...   \n",
       "3                             1400.129303  ...   \n",
       "4                             1402.172226  ...   \n",
       "\n",
       "   secondary_cleaner.state.floatbank4_a_air  \\\n",
       "0                                 12.023554   \n",
       "1                                 12.058140   \n",
       "2                                 11.962366   \n",
       "3                                 12.033091   \n",
       "4                                 12.025367   \n",
       "\n",
       "   secondary_cleaner.state.floatbank4_a_level  \\\n",
       "0                                 -497.795834   \n",
       "1                                 -498.695773   \n",
       "2                                 -498.767484   \n",
       "3                                 -498.350935   \n",
       "4                                 -500.786497   \n",
       "\n",
       "   secondary_cleaner.state.floatbank4_b_air  \\\n",
       "0                                  8.016656   \n",
       "1                                  8.130979   \n",
       "2                                  8.096893   \n",
       "3                                  8.074946   \n",
       "4                                  8.054678   \n",
       "\n",
       "   secondary_cleaner.state.floatbank4_b_level  \\\n",
       "0                                 -501.289139   \n",
       "1                                 -499.634209   \n",
       "2                                 -500.827423   \n",
       "3                                 -499.474407   \n",
       "4                                 -500.397500   \n",
       "\n",
       "   secondary_cleaner.state.floatbank5_a_air  \\\n",
       "0                                  7.946562   \n",
       "1                                  7.958270   \n",
       "2                                  8.071056   \n",
       "3                                  7.897085   \n",
       "4                                  8.107890   \n",
       "\n",
       "   secondary_cleaner.state.floatbank5_a_level  \\\n",
       "0                                 -432.317850   \n",
       "1                                 -525.839648   \n",
       "2                                 -500.801673   \n",
       "3                                 -500.868509   \n",
       "4                                 -509.526725   \n",
       "\n",
       "   secondary_cleaner.state.floatbank5_b_air  \\\n",
       "0                                  4.872511   \n",
       "1                                  4.878850   \n",
       "2                                  4.905125   \n",
       "3                                  4.931400   \n",
       "4                                  4.957674   \n",
       "\n",
       "   secondary_cleaner.state.floatbank5_b_level  \\\n",
       "0                                 -500.037437   \n",
       "1                                 -500.162375   \n",
       "2                                 -499.828510   \n",
       "3                                 -499.963623   \n",
       "4                                 -500.360026   \n",
       "\n",
       "   secondary_cleaner.state.floatbank6_a_air  \\\n",
       "0                                 26.705889   \n",
       "1                                 25.019940   \n",
       "2                                 24.994862   \n",
       "3                                 24.948919   \n",
       "4                                 25.003331   \n",
       "\n",
       "   secondary_cleaner.state.floatbank6_a_level  \n",
       "0                                 -499.709414  \n",
       "1                                 -499.819438  \n",
       "2                                 -500.622559  \n",
       "3                                 -498.709987  \n",
       "4                                 -500.856333  \n",
       "\n",
       "[5 rows x 53 columns]"
      ]
     },
     "execution_count": 14,
     "metadata": {},
     "output_type": "execute_result"
    }
   ],
   "source": [
    "df_test.head()"
   ]
  },
  {
   "cell_type": "code",
   "execution_count": 15,
   "metadata": {},
   "outputs": [
    {
     "data": {
      "text/html": [
       "<div>\n",
       "<style scoped>\n",
       "    .dataframe tbody tr th:only-of-type {\n",
       "        vertical-align: middle;\n",
       "    }\n",
       "\n",
       "    .dataframe tbody tr th {\n",
       "        vertical-align: top;\n",
       "    }\n",
       "\n",
       "    .dataframe thead th {\n",
       "        text-align: right;\n",
       "    }\n",
       "</style>\n",
       "<table border=\"1\" class=\"dataframe\">\n",
       "  <thead>\n",
       "    <tr style=\"text-align: right;\">\n",
       "      <th></th>\n",
       "      <th>rougher.output.recovery</th>\n",
       "      <th>final.output.recovery</th>\n",
       "      <th>date</th>\n",
       "    </tr>\n",
       "  </thead>\n",
       "  <tbody>\n",
       "    <tr>\n",
       "      <th>0</th>\n",
       "      <td>87.107763</td>\n",
       "      <td>70.541216</td>\n",
       "      <td>2016-01-15 00:00:00</td>\n",
       "    </tr>\n",
       "    <tr>\n",
       "      <th>1</th>\n",
       "      <td>86.843261</td>\n",
       "      <td>69.266198</td>\n",
       "      <td>2016-01-15 01:00:00</td>\n",
       "    </tr>\n",
       "    <tr>\n",
       "      <th>2</th>\n",
       "      <td>86.842308</td>\n",
       "      <td>68.116445</td>\n",
       "      <td>2016-01-15 02:00:00</td>\n",
       "    </tr>\n",
       "    <tr>\n",
       "      <th>3</th>\n",
       "      <td>87.226430</td>\n",
       "      <td>68.347543</td>\n",
       "      <td>2016-01-15 03:00:00</td>\n",
       "    </tr>\n",
       "    <tr>\n",
       "      <th>4</th>\n",
       "      <td>86.688794</td>\n",
       "      <td>66.927016</td>\n",
       "      <td>2016-01-15 04:00:00</td>\n",
       "    </tr>\n",
       "  </tbody>\n",
       "</table>\n",
       "</div>"
      ],
      "text/plain": [
       "   rougher.output.recovery  final.output.recovery                 date\n",
       "0                87.107763              70.541216  2016-01-15 00:00:00\n",
       "1                86.843261              69.266198  2016-01-15 01:00:00\n",
       "2                86.842308              68.116445  2016-01-15 02:00:00\n",
       "3                87.226430              68.347543  2016-01-15 03:00:00\n",
       "4                86.688794              66.927016  2016-01-15 04:00:00"
      ]
     },
     "execution_count": 15,
     "metadata": {},
     "output_type": "execute_result"
    }
   ],
   "source": [
    "df_full[['rougher.output.recovery', 'final.output.recovery', 'date']].head()"
   ]
  },
  {
   "cell_type": "code",
   "execution_count": 16,
   "metadata": {},
   "outputs": [],
   "source": [
    "target_train_rougher = df_train['rougher.output.recovery']\n",
    "target_train_final = df_train['final.output.recovery']\n",
    "#Удаляем колонки, которых нет в тестовой\n",
    "features_train = df_train.drop(diff, axis=1)\n",
    "\n",
    "#Удаляем ненужные признаки\n",
    "features_train = features_train.drop(['date'], axis=1)\n",
    "\n",
    "#Подклеим целевой признак из полной выборки в тестовую выборку\n",
    "df_test = pd.merge(df_test, df_full[['rougher.output.recovery', 'final.output.recovery', 'date']], left_on='date', right_on='date', how='left',)\n",
    "features_test = df_test.drop(['date', 'rougher.output.recovery', 'final.output.recovery'], axis=1)\n",
    "target_test_rougher =  df_test['rougher.output.recovery']\n",
    "target_test_final =  df_test['final.output.recovery']\n"
   ]
  },
  {
   "cell_type": "code",
   "execution_count": 17,
   "metadata": {},
   "outputs": [
    {
     "data": {
      "text/html": [
       "<div>\n",
       "<style scoped>\n",
       "    .dataframe tbody tr th:only-of-type {\n",
       "        vertical-align: middle;\n",
       "    }\n",
       "\n",
       "    .dataframe tbody tr th {\n",
       "        vertical-align: top;\n",
       "    }\n",
       "\n",
       "    .dataframe thead th {\n",
       "        text-align: right;\n",
       "    }\n",
       "</style>\n",
       "<table border=\"1\" class=\"dataframe\">\n",
       "  <thead>\n",
       "    <tr style=\"text-align: right;\">\n",
       "      <th></th>\n",
       "      <th>primary_cleaner.input.sulfate</th>\n",
       "      <th>primary_cleaner.input.depressant</th>\n",
       "      <th>primary_cleaner.input.feed_size</th>\n",
       "      <th>primary_cleaner.input.xanthate</th>\n",
       "      <th>primary_cleaner.state.floatbank8_a_air</th>\n",
       "      <th>primary_cleaner.state.floatbank8_a_level</th>\n",
       "      <th>primary_cleaner.state.floatbank8_b_air</th>\n",
       "      <th>primary_cleaner.state.floatbank8_b_level</th>\n",
       "      <th>primary_cleaner.state.floatbank8_c_air</th>\n",
       "      <th>primary_cleaner.state.floatbank8_c_level</th>\n",
       "      <th>...</th>\n",
       "      <th>secondary_cleaner.state.floatbank4_a_air</th>\n",
       "      <th>secondary_cleaner.state.floatbank4_a_level</th>\n",
       "      <th>secondary_cleaner.state.floatbank4_b_air</th>\n",
       "      <th>secondary_cleaner.state.floatbank4_b_level</th>\n",
       "      <th>secondary_cleaner.state.floatbank5_a_air</th>\n",
       "      <th>secondary_cleaner.state.floatbank5_a_level</th>\n",
       "      <th>secondary_cleaner.state.floatbank5_b_air</th>\n",
       "      <th>secondary_cleaner.state.floatbank5_b_level</th>\n",
       "      <th>secondary_cleaner.state.floatbank6_a_air</th>\n",
       "      <th>secondary_cleaner.state.floatbank6_a_level</th>\n",
       "    </tr>\n",
       "  </thead>\n",
       "  <tbody>\n",
       "    <tr>\n",
       "      <th>0</th>\n",
       "      <td>210.800909</td>\n",
       "      <td>14.993118</td>\n",
       "      <td>8.080000</td>\n",
       "      <td>1.005021</td>\n",
       "      <td>1398.981301</td>\n",
       "      <td>-500.225577</td>\n",
       "      <td>1399.144926</td>\n",
       "      <td>-499.919735</td>\n",
       "      <td>1400.102998</td>\n",
       "      <td>-500.704369</td>\n",
       "      <td>...</td>\n",
       "      <td>12.023554</td>\n",
       "      <td>-497.795834</td>\n",
       "      <td>8.016656</td>\n",
       "      <td>-501.289139</td>\n",
       "      <td>7.946562</td>\n",
       "      <td>-432.317850</td>\n",
       "      <td>4.872511</td>\n",
       "      <td>-500.037437</td>\n",
       "      <td>26.705889</td>\n",
       "      <td>-499.709414</td>\n",
       "    </tr>\n",
       "    <tr>\n",
       "      <th>1</th>\n",
       "      <td>215.392455</td>\n",
       "      <td>14.987471</td>\n",
       "      <td>8.080000</td>\n",
       "      <td>0.990469</td>\n",
       "      <td>1398.777912</td>\n",
       "      <td>-500.057435</td>\n",
       "      <td>1398.055362</td>\n",
       "      <td>-499.778182</td>\n",
       "      <td>1396.151033</td>\n",
       "      <td>-499.240168</td>\n",
       "      <td>...</td>\n",
       "      <td>12.058140</td>\n",
       "      <td>-498.695773</td>\n",
       "      <td>8.130979</td>\n",
       "      <td>-499.634209</td>\n",
       "      <td>7.958270</td>\n",
       "      <td>-525.839648</td>\n",
       "      <td>4.878850</td>\n",
       "      <td>-500.162375</td>\n",
       "      <td>25.019940</td>\n",
       "      <td>-499.819438</td>\n",
       "    </tr>\n",
       "    <tr>\n",
       "      <th>2</th>\n",
       "      <td>215.259946</td>\n",
       "      <td>12.884934</td>\n",
       "      <td>7.786667</td>\n",
       "      <td>0.996043</td>\n",
       "      <td>1398.493666</td>\n",
       "      <td>-500.868360</td>\n",
       "      <td>1398.860436</td>\n",
       "      <td>-499.764529</td>\n",
       "      <td>1398.075709</td>\n",
       "      <td>-502.151509</td>\n",
       "      <td>...</td>\n",
       "      <td>11.962366</td>\n",
       "      <td>-498.767484</td>\n",
       "      <td>8.096893</td>\n",
       "      <td>-500.827423</td>\n",
       "      <td>8.071056</td>\n",
       "      <td>-500.801673</td>\n",
       "      <td>4.905125</td>\n",
       "      <td>-499.828510</td>\n",
       "      <td>24.994862</td>\n",
       "      <td>-500.622559</td>\n",
       "    </tr>\n",
       "    <tr>\n",
       "      <th>3</th>\n",
       "      <td>215.336236</td>\n",
       "      <td>12.006805</td>\n",
       "      <td>7.640000</td>\n",
       "      <td>0.863514</td>\n",
       "      <td>1399.618111</td>\n",
       "      <td>-498.863574</td>\n",
       "      <td>1397.440120</td>\n",
       "      <td>-499.211024</td>\n",
       "      <td>1400.129303</td>\n",
       "      <td>-498.355873</td>\n",
       "      <td>...</td>\n",
       "      <td>12.033091</td>\n",
       "      <td>-498.350935</td>\n",
       "      <td>8.074946</td>\n",
       "      <td>-499.474407</td>\n",
       "      <td>7.897085</td>\n",
       "      <td>-500.868509</td>\n",
       "      <td>4.931400</td>\n",
       "      <td>-499.963623</td>\n",
       "      <td>24.948919</td>\n",
       "      <td>-498.709987</td>\n",
       "    </tr>\n",
       "    <tr>\n",
       "      <th>4</th>\n",
       "      <td>199.099327</td>\n",
       "      <td>10.682530</td>\n",
       "      <td>7.530000</td>\n",
       "      <td>0.805575</td>\n",
       "      <td>1401.268123</td>\n",
       "      <td>-500.808305</td>\n",
       "      <td>1398.128818</td>\n",
       "      <td>-499.504543</td>\n",
       "      <td>1402.172226</td>\n",
       "      <td>-500.810606</td>\n",
       "      <td>...</td>\n",
       "      <td>12.025367</td>\n",
       "      <td>-500.786497</td>\n",
       "      <td>8.054678</td>\n",
       "      <td>-500.397500</td>\n",
       "      <td>8.107890</td>\n",
       "      <td>-509.526725</td>\n",
       "      <td>4.957674</td>\n",
       "      <td>-500.360026</td>\n",
       "      <td>25.003331</td>\n",
       "      <td>-500.856333</td>\n",
       "    </tr>\n",
       "  </tbody>\n",
       "</table>\n",
       "<p>5 rows × 52 columns</p>\n",
       "</div>"
      ],
      "text/plain": [
       "   primary_cleaner.input.sulfate  primary_cleaner.input.depressant  \\\n",
       "0                     210.800909                         14.993118   \n",
       "1                     215.392455                         14.987471   \n",
       "2                     215.259946                         12.884934   \n",
       "3                     215.336236                         12.006805   \n",
       "4                     199.099327                         10.682530   \n",
       "\n",
       "   primary_cleaner.input.feed_size  primary_cleaner.input.xanthate  \\\n",
       "0                         8.080000                        1.005021   \n",
       "1                         8.080000                        0.990469   \n",
       "2                         7.786667                        0.996043   \n",
       "3                         7.640000                        0.863514   \n",
       "4                         7.530000                        0.805575   \n",
       "\n",
       "   primary_cleaner.state.floatbank8_a_air  \\\n",
       "0                             1398.981301   \n",
       "1                             1398.777912   \n",
       "2                             1398.493666   \n",
       "3                             1399.618111   \n",
       "4                             1401.268123   \n",
       "\n",
       "   primary_cleaner.state.floatbank8_a_level  \\\n",
       "0                               -500.225577   \n",
       "1                               -500.057435   \n",
       "2                               -500.868360   \n",
       "3                               -498.863574   \n",
       "4                               -500.808305   \n",
       "\n",
       "   primary_cleaner.state.floatbank8_b_air  \\\n",
       "0                             1399.144926   \n",
       "1                             1398.055362   \n",
       "2                             1398.860436   \n",
       "3                             1397.440120   \n",
       "4                             1398.128818   \n",
       "\n",
       "   primary_cleaner.state.floatbank8_b_level  \\\n",
       "0                               -499.919735   \n",
       "1                               -499.778182   \n",
       "2                               -499.764529   \n",
       "3                               -499.211024   \n",
       "4                               -499.504543   \n",
       "\n",
       "   primary_cleaner.state.floatbank8_c_air  \\\n",
       "0                             1400.102998   \n",
       "1                             1396.151033   \n",
       "2                             1398.075709   \n",
       "3                             1400.129303   \n",
       "4                             1402.172226   \n",
       "\n",
       "   primary_cleaner.state.floatbank8_c_level  ...  \\\n",
       "0                               -500.704369  ...   \n",
       "1                               -499.240168  ...   \n",
       "2                               -502.151509  ...   \n",
       "3                               -498.355873  ...   \n",
       "4                               -500.810606  ...   \n",
       "\n",
       "   secondary_cleaner.state.floatbank4_a_air  \\\n",
       "0                                 12.023554   \n",
       "1                                 12.058140   \n",
       "2                                 11.962366   \n",
       "3                                 12.033091   \n",
       "4                                 12.025367   \n",
       "\n",
       "   secondary_cleaner.state.floatbank4_a_level  \\\n",
       "0                                 -497.795834   \n",
       "1                                 -498.695773   \n",
       "2                                 -498.767484   \n",
       "3                                 -498.350935   \n",
       "4                                 -500.786497   \n",
       "\n",
       "   secondary_cleaner.state.floatbank4_b_air  \\\n",
       "0                                  8.016656   \n",
       "1                                  8.130979   \n",
       "2                                  8.096893   \n",
       "3                                  8.074946   \n",
       "4                                  8.054678   \n",
       "\n",
       "   secondary_cleaner.state.floatbank4_b_level  \\\n",
       "0                                 -501.289139   \n",
       "1                                 -499.634209   \n",
       "2                                 -500.827423   \n",
       "3                                 -499.474407   \n",
       "4                                 -500.397500   \n",
       "\n",
       "   secondary_cleaner.state.floatbank5_a_air  \\\n",
       "0                                  7.946562   \n",
       "1                                  7.958270   \n",
       "2                                  8.071056   \n",
       "3                                  7.897085   \n",
       "4                                  8.107890   \n",
       "\n",
       "   secondary_cleaner.state.floatbank5_a_level  \\\n",
       "0                                 -432.317850   \n",
       "1                                 -525.839648   \n",
       "2                                 -500.801673   \n",
       "3                                 -500.868509   \n",
       "4                                 -509.526725   \n",
       "\n",
       "   secondary_cleaner.state.floatbank5_b_air  \\\n",
       "0                                  4.872511   \n",
       "1                                  4.878850   \n",
       "2                                  4.905125   \n",
       "3                                  4.931400   \n",
       "4                                  4.957674   \n",
       "\n",
       "   secondary_cleaner.state.floatbank5_b_level  \\\n",
       "0                                 -500.037437   \n",
       "1                                 -500.162375   \n",
       "2                                 -499.828510   \n",
       "3                                 -499.963623   \n",
       "4                                 -500.360026   \n",
       "\n",
       "   secondary_cleaner.state.floatbank6_a_air  \\\n",
       "0                                 26.705889   \n",
       "1                                 25.019940   \n",
       "2                                 24.994862   \n",
       "3                                 24.948919   \n",
       "4                                 25.003331   \n",
       "\n",
       "   secondary_cleaner.state.floatbank6_a_level  \n",
       "0                                 -499.709414  \n",
       "1                                 -499.819438  \n",
       "2                                 -500.622559  \n",
       "3                                 -498.709987  \n",
       "4                                 -500.856333  \n",
       "\n",
       "[5 rows x 52 columns]"
      ]
     },
     "execution_count": 17,
     "metadata": {},
     "output_type": "execute_result"
    }
   ],
   "source": [
    "features_test.head()"
   ]
  },
  {
   "cell_type": "code",
   "execution_count": 30,
   "metadata": {
    "scrolled": true
   },
   "outputs": [
    {
     "name": "stdout",
     "output_type": "stream",
     "text": [
      "Линейная регрессия. Оценка качества модели для rougher:  6.697525532335507\n",
      "Линейная регрессия. Оценка качества модели для final:  10.414517555807645\n",
      "CPU times: user 1.16 s, sys: 2.75 s, total: 3.92 s\n",
      "Wall time: 3.84 s\n"
     ]
    }
   ],
   "source": [
    "%%time \n",
    "K = 5\n",
    "state = np.random.RandomState(12345)\n",
    "#Подбор оптимальной модели\n",
    "def smape(target, predictions):\n",
    "    return (abs(target - predictions)/((abs(target)+abs(predictions))/2)).mean() * 100 \n",
    "\n",
    "#Линейная регрессия\n",
    "model_lr_rougher = LinearRegression()\n",
    "custom_scorer = make_scorer(smape, greater_is_better=True)\n",
    "scores = cross_val_score(model_lr_rougher, features_train, target_train_rougher, \n",
    "                         scoring=custom_scorer, cv=K)\n",
    "final_score_lr_rougher = pd.Series(scores).mean()\n",
    "print('Линейная регрессия. Оценка качества модели для rougher: ', final_score_lr_rougher)\n",
    "\n",
    "model_lr_final = LinearRegression()\n",
    "scores = cross_val_score(model_lr_final, features_train, target_train_final, \n",
    "                         scoring=custom_scorer, cv=K)\n",
    "final_score_lr_final = pd.Series(scores).mean()\n",
    "print('Линейная регрессия. Оценка качества модели для final: ', final_score_lr_final)"
   ]
  },
  {
   "cell_type": "code",
   "execution_count": 32,
   "metadata": {
    "scrolled": true
   },
   "outputs": [
    {
     "name": "stdout",
     "output_type": "stream",
     "text": [
      "Дерево решений. Оценка качества модели для rougher: 6.432202579725295\n",
      "Дерево решений. Глубина дерева решений для rougher: 3\n",
      "Дерево решений. Оценка качества модели для final: 9.108148004319983\n",
      "Дерево решений. Глубина дерева решений для final: 2\n",
      "CPU times: user 7.69 s, sys: 0 ns, total: 7.69 s\n",
      "Wall time: 7.69 s\n"
     ]
    },
    {
     "data": {
      "text/plain": [
       "\"\\nparameters = {'fit_intercept':[True,False], 'normalize':[True,False], 'copy_X':[True, False]}\\nmodel_dt_rougher = GridSearchCV(model_lr_rougher, parameters=None, cv=K,\\n                    scoring=custom_scorer)\\n\""
      ]
     },
     "execution_count": 32,
     "metadata": {},
     "output_type": "execute_result"
    }
   ],
   "source": [
    "%%time \n",
    "#Дерево решений\n",
    "\n",
    "#напишем функцию для подбора параметров модели\n",
    "def model_dt_select(features, target, stage):\n",
    "    best_model = None\n",
    "    best_score = 100\n",
    "    best_depth = 0\n",
    "    \n",
    "    for depth in range(1, 6):\n",
    "        model = DecisionTreeRegressor(random_state = state, max_depth=depth)\n",
    "        scores = cross_val_score(model, features, target, \n",
    "                         scoring=custom_scorer, cv=K)\n",
    "        score = pd.Series(scores).mean()\n",
    "        if score < best_score:\n",
    "            best_score = score\n",
    "            best_depth = depth\n",
    "            best_model = model\n",
    "    print(f'Дерево решений. Оценка качества модели для {stage}: {best_score}')\n",
    "    print(f'Дерево решений. Глубина дерева решений для {stage}: {best_depth}') \n",
    "    return best_model, best_score, best_depth \n",
    "\n",
    "#Получим параметры моделей для предсказания эффективности 2 процессов \n",
    "model_dt_rougher, model_dt_score_rougher, model_dt_max_depth_rougher = model_dt_select(features_train, target_train_rougher, 'rougher') \n",
    "model_dt_final, model_dt_score_final, model_dt_max_depth_final = model_dt_select(features_train, target_train_final, 'final') \n",
    "\n",
    "#Пробовал сделать через GridSearchCV, но ничего не получилось\n",
    "\"\"\"\n",
    "parameters = {'fit_intercept':[True,False], 'normalize':[True,False], 'copy_X':[True, False]}\n",
    "model_dt_rougher = GridSearchCV(model_lr_rougher, parameters=None, cv=K,\n",
    "                    scoring=custom_scorer)\n",
    "\"\"\""
   ]
  },
  {
   "cell_type": "code",
   "execution_count": 35,
   "metadata": {},
   "outputs": [
    {
     "name": "stdout",
     "output_type": "stream",
     "text": [
      "Случайный лес. Оценка качества модели для rougher: 6.451848036097087\n",
      "Случайный лес. Количество деревьев для rougher: 10\n",
      "Случайный лес. Оценка качества модели для final: 10.044139188157423\n",
      "Случайный лес. Количество деревьев для final: 8\n",
      "CPU times: user 3min 58s, sys: 210 ms, total: 3min 58s\n",
      "Wall time: 3min 58s\n"
     ]
    }
   ],
   "source": [
    "%%time \n",
    "#Случайный лес\n",
    "def model_rf_select(features, target, stage):\n",
    "    best_model = None\n",
    "    best_score = 100\n",
    "    best_est = 0\n",
    "    \n",
    "    for est in range(1, 11):\n",
    "        model = RandomForestRegressor(random_state = state, n_estimators=est)\n",
    "        scores = cross_val_score(model, features, target, \n",
    "                         scoring=custom_scorer, cv=K)\n",
    "        score = pd.Series(scores).mean()\n",
    "        if score < best_score:\n",
    "            best_score = score\n",
    "            best_est = est\n",
    "            best_model = model\n",
    "    print(f'Случайный лес. Оценка качества модели для {stage}: {best_score}')\n",
    "    print(f'Случайный лес. Количество деревьев для {stage}: {best_est}') \n",
    "    return best_model, best_score, best_est \n",
    "\n",
    "#Получим параметры моделей для предсказания эффективности 2 процессов \n",
    "model_rf_rougher, model_rf_score_rougher, model_rf_n_est_rougher = model_rf_select(features_train, target_train_rougher, 'rougher') \n",
    "model_rf_final, model_rf_score_final, model_rf_n_est_final = model_rf_select(features_train, target_train_final, 'final') "
   ]
  },
  {
   "cell_type": "markdown",
   "metadata": {},
   "source": [
    "Подбор наиболее качественной модели по метрике SMAPE показал , что лучшие результаты дают следюущие модели:\n",
    " - для флотации (rougher) дерево решений с гиперпараметром depth = 3(smape = 6,43%)\n",
    " - для финальной очистки (final) дерево решений с гиперпараметром depth = 2 (smape = 9,1%)"
   ]
  },
  {
   "cell_type": "code",
   "execution_count": 36,
   "metadata": {},
   "outputs": [
    {
     "name": "stdout",
     "output_type": "stream",
     "text": [
      "Конечное значение метрики SMAPE на тестовой выборке: 9.383390706816956\n"
     ]
    }
   ],
   "source": [
    "#Итоговое предсказание на тестовой выборке, используя лучшие модели\n",
    "\n",
    "model_dt_rougher.fit(features_train, target_train_rougher)\n",
    "predictions_test_rougher = model_dt_rougher.predict(features_test)\n",
    "\n",
    "model_dt_final.fit(features_train, target_train_final)\n",
    "predictions_test_final = model_dt_final.predict(features_test)\n",
    "total_smape = 0.25 * smape(target_test_rougher, predictions_test_rougher) + 0.75 * smape(target_test_final, predictions_test_final)\n",
    "print(f'Конечное значение метрики SMAPE на тестовой выборке: {total_smape}')"
   ]
  },
  {
   "cell_type": "code",
   "execution_count": 39,
   "metadata": {
    "scrolled": true
   },
   "outputs": [
    {
     "name": "stdout",
     "output_type": "stream",
     "text": [
      "Значени метрики SMAPE на тестовой выборке для константной модели: 9.48767893341456\n"
     ]
    }
   ],
   "source": [
    "#Сравниваем с  константной моделью\n",
    "model_dummy = DummyRegressor()\n",
    "model_dummy.fit(features_train, target_train_rougher)\n",
    "predictions_test_rougher = model_dummy.predict(features_test)\n",
    "\n",
    "model_dummy.fit(features_train, target_train_final)\n",
    "predictions_test_final = model_dummy.predict(features_test)\n",
    "total_smape = 0.25 * smape(target_test_rougher, predictions_test_rougher) + 0.75 * smape(target_test_final, predictions_test_final)\n",
    "print(f'Значение метрики SMAPE на тестовой выборке для константной модели: {total_smape}')"
   ]
  },
  {
   "cell_type": "markdown",
   "metadata": {},
   "source": [
    "Прииспользовании константной модели видно, что суммарная метрика ошибки smape выше, чем у подобранной нами модели. Следовательно, наша модель проходит проверку на адекватность."
   ]
  },
  {
   "cell_type": "markdown",
   "metadata": {},
   "source": [
    "## Вывод\n",
    "По собранным параметрам технологического процесса создана модель для предсказания коэффициента восстановления золота из золотосодержащей руды для этапа флотации и этапа финальной очистки, проведено предсказание на тестовой выборке.\n",
    "\n",
    "Лучшей моделью оказалась:\n",
    " - для флотации (rougher) дерево решений с гиперпараметром depth = 3(smape = 6,43%)\n",
    " - для финальной очистки (final) дерево решений с гиперпараметром depth = 2 (smape = 9,1%)\n",
    "\n",
    "Качество посчитано с помощью метрики SMAPE(Symmetric mean absolute percentage error). Итоговое значения данной метрики на тестовой выборке для всего технологического процесса составило 9,38% \n",
    "Значение метрики SMAPE на тестовой выборке для константной модели -  9.48% , что выше, чем у подобранной нами модели. Следовательно, наша модель проходит проверку на адекватность. \n",
    "\n"
   ]
  }
 ],
 "metadata": {
  "ExecuteTimeLog": [
   {
    "duration": 1027,
    "start_time": "2022-07-27T05:50:03.977Z"
   },
   {
    "duration": 1911,
    "start_time": "2022-07-27T05:52:41.347Z"
   },
   {
    "duration": 776,
    "start_time": "2022-07-27T05:55:24.541Z"
   },
   {
    "duration": 626,
    "start_time": "2022-07-27T05:59:59.214Z"
   },
   {
    "duration": 100,
    "start_time": "2022-07-27T06:03:37.695Z"
   },
   {
    "duration": 2,
    "start_time": "2022-07-27T06:03:50.554Z"
   },
   {
    "duration": 701,
    "start_time": "2022-07-27T06:03:50.557Z"
   },
   {
    "duration": 3203,
    "start_time": "2022-07-27T06:04:28.251Z"
   },
   {
    "duration": 1493,
    "start_time": "2022-07-27T06:06:26.999Z"
   },
   {
    "duration": 1122,
    "start_time": "2022-07-29T05:20:13.690Z"
   },
   {
    "duration": 2682,
    "start_time": "2022-07-29T05:20:14.814Z"
   },
   {
    "duration": 181,
    "start_time": "2022-07-29T05:20:17.498Z"
   },
   {
    "duration": 104,
    "start_time": "2022-07-29T05:20:31.124Z"
   },
   {
    "duration": 178,
    "start_time": "2022-07-29T05:20:45.001Z"
   },
   {
    "duration": 5,
    "start_time": "2022-07-29T05:21:13.943Z"
   },
   {
    "duration": 11,
    "start_time": "2022-07-29T05:21:31.938Z"
   },
   {
    "duration": 9,
    "start_time": "2022-07-29T05:21:37.816Z"
   },
   {
    "duration": 25,
    "start_time": "2022-07-29T05:21:45.452Z"
   },
   {
    "duration": 17,
    "start_time": "2022-07-29T05:22:15.301Z"
   },
   {
    "duration": 20,
    "start_time": "2022-07-29T05:22:35.102Z"
   },
   {
    "duration": 116,
    "start_time": "2022-07-29T05:23:54.905Z"
   },
   {
    "duration": 115,
    "start_time": "2022-07-29T05:24:00.138Z"
   },
   {
    "duration": 131,
    "start_time": "2022-07-29T05:24:29.650Z"
   },
   {
    "duration": 20,
    "start_time": "2022-07-29T05:24:50.127Z"
   },
   {
    "duration": 36,
    "start_time": "2022-07-29T05:25:08.233Z"
   },
   {
    "duration": 1083,
    "start_time": "2022-07-29T05:36:29.058Z"
   },
   {
    "duration": 1038,
    "start_time": "2022-07-29T05:37:15.825Z"
   },
   {
    "duration": 52,
    "start_time": "2022-07-30T10:05:31.795Z"
   },
   {
    "duration": 1025,
    "start_time": "2022-07-30T10:05:36.574Z"
   },
   {
    "duration": 2880,
    "start_time": "2022-07-30T10:05:37.600Z"
   },
   {
    "duration": 27,
    "start_time": "2022-07-30T10:06:04.598Z"
   },
   {
    "duration": 3,
    "start_time": "2022-07-30T10:11:49.035Z"
   },
   {
    "duration": 3,
    "start_time": "2022-07-30T10:18:04.774Z"
   },
   {
    "duration": 3,
    "start_time": "2022-07-30T10:18:07.214Z"
   },
   {
    "duration": 4,
    "start_time": "2022-07-30T10:18:31.503Z"
   },
   {
    "duration": 4,
    "start_time": "2022-07-30T10:18:58.345Z"
   },
   {
    "duration": 3,
    "start_time": "2022-07-30T10:19:43.914Z"
   },
   {
    "duration": 4,
    "start_time": "2022-07-30T10:23:42.434Z"
   },
   {
    "duration": 55,
    "start_time": "2022-07-30T10:26:56.255Z"
   },
   {
    "duration": 46,
    "start_time": "2022-07-30T10:27:33.275Z"
   },
   {
    "duration": 42,
    "start_time": "2022-07-30T10:27:53.574Z"
   },
   {
    "duration": 42,
    "start_time": "2022-07-30T10:28:15.575Z"
   },
   {
    "duration": 3,
    "start_time": "2022-07-30T10:44:39.014Z"
   },
   {
    "duration": 68,
    "start_time": "2022-07-30T11:24:12.015Z"
   },
   {
    "duration": 54,
    "start_time": "2022-07-30T11:24:49.995Z"
   },
   {
    "duration": 49,
    "start_time": "2022-07-30T11:25:08.015Z"
   },
   {
    "duration": 54,
    "start_time": "2022-07-30T11:25:13.995Z"
   },
   {
    "duration": 50,
    "start_time": "2022-07-30T11:25:29.765Z"
   },
   {
    "duration": 62,
    "start_time": "2022-07-30T11:25:44.803Z"
   },
   {
    "duration": 46,
    "start_time": "2022-07-30T11:26:20.395Z"
   },
   {
    "duration": 49,
    "start_time": "2022-07-30T11:26:29.076Z"
   },
   {
    "duration": 57,
    "start_time": "2022-07-30T11:27:13.215Z"
   },
   {
    "duration": 57,
    "start_time": "2022-07-30T11:27:27.375Z"
   },
   {
    "duration": 51,
    "start_time": "2022-07-30T11:27:38.955Z"
   },
   {
    "duration": 54,
    "start_time": "2022-07-30T11:27:57.162Z"
   },
   {
    "duration": 55,
    "start_time": "2022-07-30T11:29:45.295Z"
   },
   {
    "duration": 55,
    "start_time": "2022-07-30T11:30:45.055Z"
   },
   {
    "duration": 53,
    "start_time": "2022-07-30T11:30:53.456Z"
   },
   {
    "duration": 50,
    "start_time": "2022-07-30T11:31:05.273Z"
   },
   {
    "duration": 55,
    "start_time": "2022-07-30T11:31:47.035Z"
   },
   {
    "duration": 47,
    "start_time": "2022-07-30T11:33:18.863Z"
   },
   {
    "duration": 1252,
    "start_time": "2022-07-30T11:34:20.142Z"
   },
   {
    "duration": 340,
    "start_time": "2022-07-30T11:34:37.455Z"
   },
   {
    "duration": 967,
    "start_time": "2022-07-30T12:01:33.814Z"
   },
   {
    "duration": 2,
    "start_time": "2022-07-30T12:01:46.326Z"
   },
   {
    "duration": 8,
    "start_time": "2022-07-30T12:16:00.095Z"
   },
   {
    "duration": 4,
    "start_time": "2022-07-30T12:16:05.933Z"
   },
   {
    "duration": 4,
    "start_time": "2022-07-30T12:16:07.834Z"
   },
   {
    "duration": 758,
    "start_time": "2022-07-30T12:21:01.894Z"
   },
   {
    "duration": 4,
    "start_time": "2022-07-30T12:21:30.114Z"
   },
   {
    "duration": 227,
    "start_time": "2022-07-30T12:35:02.070Z"
   },
   {
    "duration": 481,
    "start_time": "2022-07-30T12:44:35.034Z"
   },
   {
    "duration": 24,
    "start_time": "2022-07-30T12:44:42.074Z"
   },
   {
    "duration": 13,
    "start_time": "2022-07-30T12:44:49.414Z"
   },
   {
    "duration": 16,
    "start_time": "2022-07-30T12:49:11.716Z"
   },
   {
    "duration": 9,
    "start_time": "2022-07-30T12:49:23.774Z"
   },
   {
    "duration": 11,
    "start_time": "2022-07-30T12:49:27.494Z"
   },
   {
    "duration": 3,
    "start_time": "2022-07-30T12:50:33.554Z"
   },
   {
    "duration": 10,
    "start_time": "2022-07-30T12:50:39.294Z"
   },
   {
    "duration": 3,
    "start_time": "2022-07-30T12:51:18.494Z"
   },
   {
    "duration": 7,
    "start_time": "2022-07-30T12:51:22.794Z"
   },
   {
    "duration": 4,
    "start_time": "2022-07-30T12:51:25.134Z"
   },
   {
    "duration": 4,
    "start_time": "2022-07-30T12:51:30.348Z"
   },
   {
    "duration": 307,
    "start_time": "2022-07-30T13:01:37.083Z"
   },
   {
    "duration": 318,
    "start_time": "2022-07-30T13:08:55.434Z"
   },
   {
    "duration": 331,
    "start_time": "2022-07-30T13:09:02.655Z"
   },
   {
    "duration": 303,
    "start_time": "2022-07-30T13:10:00.602Z"
   },
   {
    "duration": 287,
    "start_time": "2022-07-30T13:10:45.262Z"
   },
   {
    "duration": 316,
    "start_time": "2022-07-30T13:11:11.335Z"
   },
   {
    "duration": 294,
    "start_time": "2022-07-30T13:12:41.615Z"
   },
   {
    "duration": 4,
    "start_time": "2022-07-30T14:11:32.025Z"
   },
   {
    "duration": 5,
    "start_time": "2022-07-30T14:11:55.141Z"
   },
   {
    "duration": 58,
    "start_time": "2022-07-30T14:12:09.630Z"
   },
   {
    "duration": 60,
    "start_time": "2022-07-30T14:13:32.020Z"
   },
   {
    "duration": 62,
    "start_time": "2022-07-30T14:13:47.461Z"
   },
   {
    "duration": 45,
    "start_time": "2022-07-30T14:13:51.079Z"
   },
   {
    "duration": 46,
    "start_time": "2022-07-30T14:13:58.692Z"
   },
   {
    "duration": 57,
    "start_time": "2022-07-30T14:14:10.083Z"
   },
   {
    "duration": 53,
    "start_time": "2022-07-30T14:14:17.329Z"
   },
   {
    "duration": 49,
    "start_time": "2022-07-30T14:14:58.306Z"
   },
   {
    "duration": 355,
    "start_time": "2022-07-30T14:15:52.506Z"
   },
   {
    "duration": 316,
    "start_time": "2022-07-30T14:16:06.761Z"
   },
   {
    "duration": 317,
    "start_time": "2022-07-30T14:16:19.807Z"
   },
   {
    "duration": 424,
    "start_time": "2022-07-30T14:18:49.290Z"
   },
   {
    "duration": 58,
    "start_time": "2022-07-30T14:22:08.948Z"
   },
   {
    "duration": 50,
    "start_time": "2022-07-30T14:22:22.642Z"
   },
   {
    "duration": 45,
    "start_time": "2022-07-30T14:22:43.628Z"
   },
   {
    "duration": 48,
    "start_time": "2022-07-30T14:22:51.585Z"
   },
   {
    "duration": 48,
    "start_time": "2022-07-30T14:22:55.325Z"
   },
   {
    "duration": 60,
    "start_time": "2022-07-30T14:36:04.502Z"
   },
   {
    "duration": 49,
    "start_time": "2022-07-30T14:36:15.240Z"
   },
   {
    "duration": 47,
    "start_time": "2022-07-30T14:36:41.108Z"
   },
   {
    "duration": 409,
    "start_time": "2022-07-30T14:37:07.612Z"
   },
   {
    "duration": 50,
    "start_time": "2022-07-30T14:37:39.981Z"
   },
   {
    "duration": 50,
    "start_time": "2022-07-30T14:37:54.589Z"
   },
   {
    "duration": 489,
    "start_time": "2022-07-30T14:39:44.065Z"
   },
   {
    "duration": 71,
    "start_time": "2022-07-30T14:40:13.286Z"
   },
   {
    "duration": 102,
    "start_time": "2022-07-30T14:40:16.560Z"
   },
   {
    "duration": 62,
    "start_time": "2022-07-30T14:40:29.442Z"
   },
   {
    "duration": 78,
    "start_time": "2022-07-30T14:40:56.869Z"
   },
   {
    "duration": 50,
    "start_time": "2022-07-30T14:41:16.036Z"
   },
   {
    "duration": 93,
    "start_time": "2022-07-30T14:42:12.279Z"
   },
   {
    "duration": 50,
    "start_time": "2022-07-30T14:42:25.752Z"
   },
   {
    "duration": 60,
    "start_time": "2022-07-30T14:42:34.704Z"
   },
   {
    "duration": 45,
    "start_time": "2022-07-30T14:42:43.022Z"
   },
   {
    "duration": 393,
    "start_time": "2022-07-30T14:42:49.875Z"
   },
   {
    "duration": 95,
    "start_time": "2022-07-30T14:43:01.265Z"
   },
   {
    "duration": 386,
    "start_time": "2022-07-30T14:44:59.245Z"
   },
   {
    "duration": 389,
    "start_time": "2022-07-30T14:45:09.353Z"
   },
   {
    "duration": 257,
    "start_time": "2022-07-30T14:45:39.293Z"
   },
   {
    "duration": 256,
    "start_time": "2022-07-30T14:46:07.454Z"
   },
   {
    "duration": 273,
    "start_time": "2022-07-30T14:48:06.675Z"
   },
   {
    "duration": 259,
    "start_time": "2022-07-30T14:48:20.151Z"
   },
   {
    "duration": 268,
    "start_time": "2022-07-30T14:48:55.763Z"
   },
   {
    "duration": 268,
    "start_time": "2022-07-30T14:49:28.484Z"
   },
   {
    "duration": 1281,
    "start_time": "2022-07-30T14:49:42.286Z"
   },
   {
    "duration": 708,
    "start_time": "2022-07-30T14:49:43.569Z"
   },
   {
    "duration": 63,
    "start_time": "2022-07-30T14:49:44.279Z"
   },
   {
    "duration": 181,
    "start_time": "2022-07-30T14:49:44.345Z"
   },
   {
    "duration": 10,
    "start_time": "2022-07-30T14:49:44.527Z"
   },
   {
    "duration": 291,
    "start_time": "2022-07-30T14:49:44.539Z"
   },
   {
    "duration": 9,
    "start_time": "2022-07-30T14:49:44.832Z"
   },
   {
    "duration": 164,
    "start_time": "2022-07-30T14:57:12.699Z"
   },
   {
    "duration": 55,
    "start_time": "2022-07-30T14:59:42.279Z"
   },
   {
    "duration": 71,
    "start_time": "2022-07-30T14:59:54.175Z"
   },
   {
    "duration": 45,
    "start_time": "2022-07-30T15:00:10.768Z"
   },
   {
    "duration": 53,
    "start_time": "2022-07-30T15:00:21.880Z"
   },
   {
    "duration": 264,
    "start_time": "2022-07-30T15:00:56.340Z"
   },
   {
    "duration": 45,
    "start_time": "2022-07-30T15:01:22.287Z"
   },
   {
    "duration": 155,
    "start_time": "2022-07-30T15:01:39.260Z"
   },
   {
    "duration": 166,
    "start_time": "2022-07-30T15:01:44.988Z"
   },
   {
    "duration": 234,
    "start_time": "2022-07-30T15:02:10.559Z"
   },
   {
    "duration": 166,
    "start_time": "2022-07-30T15:02:39.320Z"
   },
   {
    "duration": 176,
    "start_time": "2022-07-30T15:03:51.512Z"
   },
   {
    "duration": 207,
    "start_time": "2022-07-30T15:04:55.920Z"
   },
   {
    "duration": 71,
    "start_time": "2022-07-30T15:07:59.225Z"
   },
   {
    "duration": 205,
    "start_time": "2022-07-30T15:08:02.052Z"
   },
   {
    "duration": 176,
    "start_time": "2022-07-30T15:26:28.439Z"
   },
   {
    "duration": 196,
    "start_time": "2022-07-30T15:27:00.509Z"
   },
   {
    "duration": 220,
    "start_time": "2022-07-30T15:27:13.497Z"
   },
   {
    "duration": 209,
    "start_time": "2022-07-30T15:27:25.372Z"
   },
   {
    "duration": 208,
    "start_time": "2022-07-30T15:27:55.428Z"
   },
   {
    "duration": 615,
    "start_time": "2022-07-30T15:28:31.182Z"
   },
   {
    "duration": 189,
    "start_time": "2022-07-30T15:28:47.649Z"
   },
   {
    "duration": 172,
    "start_time": "2022-07-30T15:30:05.980Z"
   },
   {
    "duration": 155,
    "start_time": "2022-07-30T15:39:01.441Z"
   },
   {
    "duration": 198,
    "start_time": "2022-07-30T15:39:21.893Z"
   },
   {
    "duration": 195,
    "start_time": "2022-07-30T15:39:35.694Z"
   },
   {
    "duration": 10,
    "start_time": "2022-07-31T04:45:04.716Z"
   },
   {
    "duration": 11,
    "start_time": "2022-07-31T04:45:23.556Z"
   },
   {
    "duration": 116,
    "start_time": "2022-07-31T04:46:13.176Z"
   },
   {
    "duration": 140,
    "start_time": "2022-07-31T04:46:25.477Z"
   },
   {
    "duration": 173,
    "start_time": "2022-07-31T04:46:57.576Z"
   },
   {
    "duration": 223,
    "start_time": "2022-07-31T04:47:03.256Z"
   },
   {
    "duration": 317,
    "start_time": "2022-07-31T04:47:18.476Z"
   },
   {
    "duration": 318,
    "start_time": "2022-07-31T04:47:50.617Z"
   },
   {
    "duration": 11,
    "start_time": "2022-07-31T04:48:02.876Z"
   },
   {
    "duration": 321,
    "start_time": "2022-07-31T04:48:18.096Z"
   },
   {
    "duration": 399,
    "start_time": "2022-07-31T04:49:12.436Z"
   },
   {
    "duration": 569,
    "start_time": "2022-07-31T04:50:23.972Z"
   },
   {
    "duration": 392,
    "start_time": "2022-07-31T04:51:31.456Z"
   },
   {
    "duration": 346,
    "start_time": "2022-07-31T04:51:51.178Z"
   },
   {
    "duration": 19,
    "start_time": "2022-07-31T05:10:19.116Z"
   },
   {
    "duration": 1219,
    "start_time": "2022-07-31T05:13:51.159Z"
   },
   {
    "duration": 761,
    "start_time": "2022-07-31T05:13:52.380Z"
   },
   {
    "duration": 25,
    "start_time": "2022-07-31T05:13:53.143Z"
   },
   {
    "duration": 65,
    "start_time": "2022-07-31T05:13:53.170Z"
   },
   {
    "duration": 236,
    "start_time": "2022-07-31T05:13:53.236Z"
   },
   {
    "duration": 4,
    "start_time": "2022-07-31T05:13:53.474Z"
   },
   {
    "duration": 212,
    "start_time": "2022-07-31T05:13:53.480Z"
   },
   {
    "duration": 338,
    "start_time": "2022-07-31T05:13:53.693Z"
   },
   {
    "duration": 12,
    "start_time": "2022-07-31T05:13:54.034Z"
   },
   {
    "duration": 44,
    "start_time": "2022-07-31T05:16:54.457Z"
   },
   {
    "duration": 31,
    "start_time": "2022-07-31T05:17:11.676Z"
   },
   {
    "duration": 318,
    "start_time": "2022-07-31T05:26:01.136Z"
   },
   {
    "duration": 335,
    "start_time": "2022-07-31T05:27:04.601Z"
   },
   {
    "duration": 405,
    "start_time": "2022-07-31T05:27:39.677Z"
   },
   {
    "duration": 414,
    "start_time": "2022-07-31T05:28:16.516Z"
   },
   {
    "duration": 502,
    "start_time": "2022-07-31T05:28:32.817Z"
   },
   {
    "duration": 11,
    "start_time": "2022-07-31T05:32:04.426Z"
   },
   {
    "duration": 19,
    "start_time": "2022-07-31T05:32:09.177Z"
   },
   {
    "duration": 1282,
    "start_time": "2022-07-31T05:33:10.098Z"
   },
   {
    "duration": 735,
    "start_time": "2022-07-31T05:33:11.383Z"
   },
   {
    "duration": 33,
    "start_time": "2022-07-31T05:33:12.120Z"
   },
   {
    "duration": 31,
    "start_time": "2022-07-31T05:33:12.155Z"
   },
   {
    "duration": 261,
    "start_time": "2022-07-31T05:33:12.188Z"
   },
   {
    "duration": 4,
    "start_time": "2022-07-31T05:33:12.451Z"
   },
   {
    "duration": 239,
    "start_time": "2022-07-31T05:33:12.456Z"
   },
   {
    "duration": 419,
    "start_time": "2022-07-31T05:33:12.697Z"
   },
   {
    "duration": 22,
    "start_time": "2022-07-31T05:33:13.117Z"
   },
   {
    "duration": 7,
    "start_time": "2022-07-31T05:33:36.696Z"
   },
   {
    "duration": 8,
    "start_time": "2022-07-31T05:34:13.656Z"
   },
   {
    "duration": 18,
    "start_time": "2022-07-31T05:34:19.837Z"
   },
   {
    "duration": 7,
    "start_time": "2022-07-31T05:34:45.047Z"
   },
   {
    "duration": 1357,
    "start_time": "2022-07-31T05:35:20.805Z"
   },
   {
    "duration": 763,
    "start_time": "2022-07-31T05:35:22.164Z"
   },
   {
    "duration": 25,
    "start_time": "2022-07-31T05:35:22.933Z"
   },
   {
    "duration": 31,
    "start_time": "2022-07-31T05:35:22.960Z"
   },
   {
    "duration": 254,
    "start_time": "2022-07-31T05:35:22.993Z"
   },
   {
    "duration": 4,
    "start_time": "2022-07-31T05:35:23.249Z"
   },
   {
    "duration": 211,
    "start_time": "2022-07-31T05:35:23.254Z"
   },
   {
    "duration": 433,
    "start_time": "2022-07-31T05:35:23.467Z"
   },
   {
    "duration": 132,
    "start_time": "2022-07-31T05:35:23.902Z"
   },
   {
    "duration": 0,
    "start_time": "2022-07-31T05:35:24.036Z"
   },
   {
    "duration": 16,
    "start_time": "2022-07-31T05:37:21.636Z"
   },
   {
    "duration": 7,
    "start_time": "2022-07-31T05:37:26.197Z"
   },
   {
    "duration": 7,
    "start_time": "2022-07-31T05:37:42.777Z"
   },
   {
    "duration": 19,
    "start_time": "2022-07-31T05:37:46.877Z"
   },
   {
    "duration": 1688,
    "start_time": "2022-07-31T15:07:04.467Z"
   },
   {
    "duration": 125,
    "start_time": "2022-07-31T15:07:10.382Z"
   },
   {
    "duration": 13,
    "start_time": "2022-07-31T15:07:17.611Z"
   },
   {
    "duration": 4,
    "start_time": "2022-07-31T15:07:29.630Z"
   },
   {
    "duration": 2116,
    "start_time": "2022-07-31T15:07:29.637Z"
   },
   {
    "duration": 27,
    "start_time": "2022-07-31T15:07:31.755Z"
   },
   {
    "duration": 61,
    "start_time": "2022-07-31T15:07:31.784Z"
   },
   {
    "duration": 343,
    "start_time": "2022-07-31T15:07:31.849Z"
   },
   {
    "duration": 4,
    "start_time": "2022-07-31T15:07:32.194Z"
   },
   {
    "duration": 249,
    "start_time": "2022-07-31T15:07:32.209Z"
   },
   {
    "duration": 541,
    "start_time": "2022-07-31T15:07:32.460Z"
   },
   {
    "duration": 30,
    "start_time": "2022-07-31T15:07:33.002Z"
   },
   {
    "duration": 72,
    "start_time": "2022-07-31T15:07:36.302Z"
   },
   {
    "duration": 28,
    "start_time": "2022-07-31T15:08:35.011Z"
   },
   {
    "duration": 50,
    "start_time": "2022-07-31T15:10:51.813Z"
   },
   {
    "duration": 34,
    "start_time": "2022-07-31T15:11:04.171Z"
   },
   {
    "duration": 40,
    "start_time": "2022-07-31T15:11:12.529Z"
   },
   {
    "duration": 21,
    "start_time": "2022-07-31T15:11:16.171Z"
   },
   {
    "duration": 181,
    "start_time": "2022-07-31T15:11:19.531Z"
   },
   {
    "duration": 445,
    "start_time": "2022-07-31T15:15:34.831Z"
   },
   {
    "duration": 48,
    "start_time": "2022-07-31T15:15:48.929Z"
   },
   {
    "duration": 415,
    "start_time": "2022-07-31T15:15:50.581Z"
   },
   {
    "duration": 32,
    "start_time": "2022-07-31T15:16:21.831Z"
   },
   {
    "duration": 4,
    "start_time": "2022-07-31T15:16:47.579Z"
   },
   {
    "duration": 869,
    "start_time": "2022-07-31T15:16:47.587Z"
   },
   {
    "duration": 52,
    "start_time": "2022-07-31T15:16:48.458Z"
   },
   {
    "duration": 36,
    "start_time": "2022-07-31T15:16:48.513Z"
   },
   {
    "duration": 251,
    "start_time": "2022-07-31T15:16:48.552Z"
   },
   {
    "duration": 6,
    "start_time": "2022-07-31T15:16:48.805Z"
   },
   {
    "duration": 232,
    "start_time": "2022-07-31T15:16:48.813Z"
   },
   {
    "duration": 608,
    "start_time": "2022-07-31T15:16:49.047Z"
   },
   {
    "duration": 22,
    "start_time": "2022-07-31T15:16:49.657Z"
   },
   {
    "duration": 33,
    "start_time": "2022-07-31T15:16:49.681Z"
   },
   {
    "duration": 424,
    "start_time": "2022-07-31T15:16:52.439Z"
   },
   {
    "duration": 24,
    "start_time": "2022-07-31T15:19:35.466Z"
   },
   {
    "duration": 3,
    "start_time": "2022-07-31T15:21:48.673Z"
   },
   {
    "duration": 1004,
    "start_time": "2022-07-31T15:21:48.678Z"
   },
   {
    "duration": 44,
    "start_time": "2022-07-31T15:21:49.684Z"
   },
   {
    "duration": 48,
    "start_time": "2022-07-31T15:21:49.730Z"
   },
   {
    "duration": 283,
    "start_time": "2022-07-31T15:21:49.781Z"
   },
   {
    "duration": 6,
    "start_time": "2022-07-31T15:21:50.066Z"
   },
   {
    "duration": 237,
    "start_time": "2022-07-31T15:21:50.074Z"
   },
   {
    "duration": 559,
    "start_time": "2022-07-31T15:21:50.314Z"
   },
   {
    "duration": 27,
    "start_time": "2022-07-31T15:21:53.911Z"
   },
   {
    "duration": 26,
    "start_time": "2022-07-31T15:22:14.301Z"
   },
   {
    "duration": 23,
    "start_time": "2022-07-31T15:22:31.889Z"
   },
   {
    "duration": 12,
    "start_time": "2022-07-31T15:22:57.711Z"
   },
   {
    "duration": 14,
    "start_time": "2022-07-31T15:23:24.621Z"
   },
   {
    "duration": 10,
    "start_time": "2022-07-31T15:23:36.271Z"
   },
   {
    "duration": 28,
    "start_time": "2022-07-31T15:23:45.210Z"
   },
   {
    "duration": 377,
    "start_time": "2022-07-31T15:23:49.839Z"
   },
   {
    "duration": 36,
    "start_time": "2022-07-31T15:24:51.752Z"
   },
   {
    "duration": 4,
    "start_time": "2022-07-31T15:25:01.178Z"
   },
   {
    "duration": 982,
    "start_time": "2022-07-31T15:25:01.185Z"
   },
   {
    "duration": 54,
    "start_time": "2022-07-31T15:25:02.170Z"
   },
   {
    "duration": 45,
    "start_time": "2022-07-31T15:25:02.227Z"
   },
   {
    "duration": 294,
    "start_time": "2022-07-31T15:25:02.274Z"
   },
   {
    "duration": 10,
    "start_time": "2022-07-31T15:25:02.571Z"
   },
   {
    "duration": 254,
    "start_time": "2022-07-31T15:25:02.584Z"
   },
   {
    "duration": 543,
    "start_time": "2022-07-31T15:25:02.840Z"
   },
   {
    "duration": 30,
    "start_time": "2022-07-31T15:25:03.386Z"
   },
   {
    "duration": 16,
    "start_time": "2022-07-31T15:25:03.419Z"
   },
   {
    "duration": 30,
    "start_time": "2022-07-31T15:25:06.759Z"
   },
   {
    "duration": 90083,
    "start_time": "2022-07-31T15:25:08.730Z"
   },
   {
    "duration": 4,
    "start_time": "2022-07-31T17:56:53.857Z"
   },
   {
    "duration": 92038,
    "start_time": "2022-07-31T17:59:16.607Z"
   },
   {
    "duration": 241,
    "start_time": "2022-07-31T18:35:09.630Z"
   },
   {
    "duration": 1240,
    "start_time": "2022-07-31T18:42:29.941Z"
   },
   {
    "duration": 246,
    "start_time": "2022-07-31T18:43:50.214Z"
   },
   {
    "duration": 281,
    "start_time": "2022-07-31T18:43:53.270Z"
   },
   {
    "duration": 21,
    "start_time": "2022-07-31T18:48:03.572Z"
   },
   {
    "duration": 165,
    "start_time": "2022-07-31T18:48:11.395Z"
   },
   {
    "duration": 116,
    "start_time": "2022-07-31T18:48:24.149Z"
   },
   {
    "duration": 242,
    "start_time": "2022-07-31T18:48:40.510Z"
   },
   {
    "duration": 10,
    "start_time": "2022-07-31T18:49:53.981Z"
   },
   {
    "duration": 315,
    "start_time": "2022-07-31T18:50:52.526Z"
   },
   {
    "duration": 537,
    "start_time": "2022-07-31T18:51:30.388Z"
   },
   {
    "duration": 4,
    "start_time": "2022-07-31T18:52:23.161Z"
   },
   {
    "duration": 888,
    "start_time": "2022-07-31T18:52:23.167Z"
   },
   {
    "duration": 27,
    "start_time": "2022-07-31T18:52:24.057Z"
   },
   {
    "duration": 60,
    "start_time": "2022-07-31T18:52:24.086Z"
   },
   {
    "duration": 279,
    "start_time": "2022-07-31T18:52:24.148Z"
   },
   {
    "duration": 6,
    "start_time": "2022-07-31T18:52:24.429Z"
   },
   {
    "duration": 226,
    "start_time": "2022-07-31T18:52:24.438Z"
   },
   {
    "duration": 512,
    "start_time": "2022-07-31T18:52:24.665Z"
   },
   {
    "duration": 448,
    "start_time": "2022-07-31T18:52:25.179Z"
   },
   {
    "duration": 629,
    "start_time": "2022-07-31T18:53:21.491Z"
   },
   {
    "duration": 4,
    "start_time": "2022-07-31T19:24:54.141Z"
   },
   {
    "duration": 865,
    "start_time": "2022-07-31T19:24:54.147Z"
   },
   {
    "duration": 32,
    "start_time": "2022-07-31T19:24:55.014Z"
   },
   {
    "duration": 70,
    "start_time": "2022-07-31T19:24:55.047Z"
   },
   {
    "duration": 304,
    "start_time": "2022-07-31T19:24:55.120Z"
   },
   {
    "duration": 6,
    "start_time": "2022-07-31T19:24:55.426Z"
   },
   {
    "duration": 239,
    "start_time": "2022-07-31T19:24:55.436Z"
   },
   {
    "duration": 545,
    "start_time": "2022-07-31T19:24:55.677Z"
   },
   {
    "duration": 294,
    "start_time": "2022-07-31T19:24:56.225Z"
   },
   {
    "duration": 742,
    "start_time": "2022-07-31T19:24:59.549Z"
   },
   {
    "duration": 222,
    "start_time": "2022-07-31T19:28:14.768Z"
   },
   {
    "duration": 4,
    "start_time": "2022-07-31T19:28:42.861Z"
   },
   {
    "duration": 829,
    "start_time": "2022-07-31T19:28:42.867Z"
   },
   {
    "duration": 33,
    "start_time": "2022-07-31T19:28:43.698Z"
   },
   {
    "duration": 34,
    "start_time": "2022-07-31T19:28:43.733Z"
   },
   {
    "duration": 259,
    "start_time": "2022-07-31T19:28:43.769Z"
   },
   {
    "duration": 6,
    "start_time": "2022-07-31T19:28:44.030Z"
   },
   {
    "duration": 214,
    "start_time": "2022-07-31T19:28:44.038Z"
   },
   {
    "duration": 504,
    "start_time": "2022-07-31T19:28:44.254Z"
   },
   {
    "duration": 241,
    "start_time": "2022-07-31T19:28:44.760Z"
   },
   {
    "duration": 530,
    "start_time": "2022-07-31T19:28:48.430Z"
   },
   {
    "duration": 230,
    "start_time": "2022-07-31T19:28:51.231Z"
   },
   {
    "duration": 714,
    "start_time": "2022-07-31T19:29:07.524Z"
   },
   {
    "duration": 224,
    "start_time": "2022-07-31T19:29:11.373Z"
   },
   {
    "duration": 4,
    "start_time": "2022-07-31T19:30:19.535Z"
   },
   {
    "duration": 823,
    "start_time": "2022-07-31T19:30:19.543Z"
   },
   {
    "duration": 53,
    "start_time": "2022-07-31T19:30:20.369Z"
   },
   {
    "duration": 40,
    "start_time": "2022-07-31T19:30:20.425Z"
   },
   {
    "duration": 267,
    "start_time": "2022-07-31T19:30:20.467Z"
   },
   {
    "duration": 6,
    "start_time": "2022-07-31T19:30:20.736Z"
   },
   {
    "duration": 229,
    "start_time": "2022-07-31T19:30:20.744Z"
   },
   {
    "duration": 524,
    "start_time": "2022-07-31T19:30:20.975Z"
   },
   {
    "duration": 251,
    "start_time": "2022-07-31T19:30:21.501Z"
   },
   {
    "duration": 764,
    "start_time": "2022-07-31T19:30:26.383Z"
   },
   {
    "duration": 4,
    "start_time": "2022-07-31T19:30:47.725Z"
   },
   {
    "duration": 850,
    "start_time": "2022-07-31T19:30:47.740Z"
   },
   {
    "duration": 40,
    "start_time": "2022-07-31T19:30:48.593Z"
   },
   {
    "duration": 37,
    "start_time": "2022-07-31T19:30:48.635Z"
   },
   {
    "duration": 274,
    "start_time": "2022-07-31T19:30:48.674Z"
   },
   {
    "duration": 5,
    "start_time": "2022-07-31T19:30:48.950Z"
   },
   {
    "duration": 233,
    "start_time": "2022-07-31T19:30:48.957Z"
   },
   {
    "duration": 531,
    "start_time": "2022-07-31T19:30:49.191Z"
   },
   {
    "duration": 249,
    "start_time": "2022-07-31T19:30:49.724Z"
   },
   {
    "duration": 536,
    "start_time": "2022-07-31T19:30:56.512Z"
   },
   {
    "duration": 4,
    "start_time": "2022-07-31T19:31:26.751Z"
   },
   {
    "duration": 838,
    "start_time": "2022-07-31T19:31:26.757Z"
   },
   {
    "duration": 35,
    "start_time": "2022-07-31T19:31:27.597Z"
   },
   {
    "duration": 38,
    "start_time": "2022-07-31T19:31:27.634Z"
   },
   {
    "duration": 276,
    "start_time": "2022-07-31T19:31:27.674Z"
   },
   {
    "duration": 5,
    "start_time": "2022-07-31T19:31:27.952Z"
   },
   {
    "duration": 231,
    "start_time": "2022-07-31T19:31:27.960Z"
   },
   {
    "duration": 684,
    "start_time": "2022-07-31T19:31:28.193Z"
   },
   {
    "duration": 240,
    "start_time": "2022-07-31T19:31:28.879Z"
   },
   {
    "duration": 515,
    "start_time": "2022-07-31T19:31:32.936Z"
   },
   {
    "duration": 4,
    "start_time": "2022-07-31T19:32:15.844Z"
   },
   {
    "duration": 824,
    "start_time": "2022-07-31T19:32:15.856Z"
   },
   {
    "duration": 38,
    "start_time": "2022-07-31T19:32:16.682Z"
   },
   {
    "duration": 37,
    "start_time": "2022-07-31T19:32:16.722Z"
   },
   {
    "duration": 262,
    "start_time": "2022-07-31T19:32:16.761Z"
   },
   {
    "duration": 5,
    "start_time": "2022-07-31T19:32:17.024Z"
   },
   {
    "duration": 225,
    "start_time": "2022-07-31T19:32:17.031Z"
   },
   {
    "duration": 507,
    "start_time": "2022-07-31T19:32:17.258Z"
   },
   {
    "duration": 447,
    "start_time": "2022-07-31T19:32:17.768Z"
   },
   {
    "duration": 55,
    "start_time": "2022-07-31T19:32:22.413Z"
   },
   {
    "duration": 24,
    "start_time": "2022-07-31T19:33:03.816Z"
   },
   {
    "duration": 539,
    "start_time": "2022-07-31T19:36:33.078Z"
   },
   {
    "duration": 580,
    "start_time": "2022-07-31T19:36:45.719Z"
   },
   {
    "duration": 575,
    "start_time": "2022-07-31T19:37:19.531Z"
   },
   {
    "duration": 699,
    "start_time": "2022-07-31T19:37:35.591Z"
   },
   {
    "duration": 232,
    "start_time": "2022-07-31T19:37:44.553Z"
   },
   {
    "duration": 18,
    "start_time": "2022-07-31T19:57:29.525Z"
   },
   {
    "duration": 18,
    "start_time": "2022-07-31T19:58:03.422Z"
   },
   {
    "duration": 3,
    "start_time": "2022-07-31T19:58:19.551Z"
   },
   {
    "duration": 818,
    "start_time": "2022-07-31T19:58:19.557Z"
   },
   {
    "duration": 46,
    "start_time": "2022-07-31T19:58:20.377Z"
   },
   {
    "duration": 38,
    "start_time": "2022-07-31T19:58:20.425Z"
   },
   {
    "duration": 257,
    "start_time": "2022-07-31T19:58:20.465Z"
   },
   {
    "duration": 5,
    "start_time": "2022-07-31T19:58:20.723Z"
   },
   {
    "duration": 218,
    "start_time": "2022-07-31T19:58:20.730Z"
   },
   {
    "duration": 526,
    "start_time": "2022-07-31T19:58:20.949Z"
   },
   {
    "duration": 240,
    "start_time": "2022-07-31T19:58:21.478Z"
   },
   {
    "duration": 623,
    "start_time": "2022-07-31T19:58:21.720Z"
   },
   {
    "duration": 234,
    "start_time": "2022-07-31T19:58:22.345Z"
   },
   {
    "duration": 22,
    "start_time": "2022-07-31T19:58:22.581Z"
   },
   {
    "duration": 11,
    "start_time": "2022-07-31T19:58:22.611Z"
   },
   {
    "duration": 20,
    "start_time": "2022-07-31T19:58:26.387Z"
   },
   {
    "duration": 24,
    "start_time": "2022-07-31T19:59:12.586Z"
   },
   {
    "duration": 1499,
    "start_time": "2022-07-31T19:59:43.844Z"
   },
   {
    "duration": 872,
    "start_time": "2022-07-31T19:59:45.345Z"
   },
   {
    "duration": 27,
    "start_time": "2022-07-31T19:59:46.218Z"
   },
   {
    "duration": 35,
    "start_time": "2022-07-31T19:59:46.247Z"
   },
   {
    "duration": 271,
    "start_time": "2022-07-31T19:59:46.309Z"
   },
   {
    "duration": 6,
    "start_time": "2022-07-31T19:59:46.581Z"
   },
   {
    "duration": 241,
    "start_time": "2022-07-31T19:59:46.588Z"
   },
   {
    "duration": 505,
    "start_time": "2022-07-31T19:59:46.831Z"
   },
   {
    "duration": 327,
    "start_time": "2022-07-31T19:59:47.338Z"
   },
   {
    "duration": 549,
    "start_time": "2022-07-31T19:59:47.667Z"
   },
   {
    "duration": 245,
    "start_time": "2022-07-31T19:59:48.218Z"
   },
   {
    "duration": 25,
    "start_time": "2022-07-31T19:59:48.465Z"
   },
   {
    "duration": 25,
    "start_time": "2022-07-31T19:59:48.492Z"
   },
   {
    "duration": 26,
    "start_time": "2022-07-31T19:59:48.519Z"
   },
   {
    "duration": 23,
    "start_time": "2022-07-31T19:59:48.547Z"
   },
   {
    "duration": 148,
    "start_time": "2022-07-31T19:59:48.572Z"
   },
   {
    "duration": 4,
    "start_time": "2022-08-01T04:50:55.077Z"
   },
   {
    "duration": 13,
    "start_time": "2022-08-01T05:01:53.538Z"
   },
   {
    "duration": 4,
    "start_time": "2022-08-01T05:02:49.188Z"
   },
   {
    "duration": 14,
    "start_time": "2022-08-01T05:03:04.934Z"
   },
   {
    "duration": 34,
    "start_time": "2022-08-01T05:03:28.135Z"
   },
   {
    "duration": 57,
    "start_time": "2022-08-01T08:36:16.385Z"
   },
   {
    "duration": 1752,
    "start_time": "2022-08-01T08:36:31.164Z"
   },
   {
    "duration": 114,
    "start_time": "2022-08-01T08:36:49.181Z"
   },
   {
    "duration": 12,
    "start_time": "2022-08-01T08:38:28.878Z"
   },
   {
    "duration": 25,
    "start_time": "2022-08-01T08:39:32.398Z"
   },
   {
    "duration": 10,
    "start_time": "2022-08-01T08:39:44.117Z"
   },
   {
    "duration": 3,
    "start_time": "2022-08-01T08:39:53.451Z"
   },
   {
    "duration": 2164,
    "start_time": "2022-08-01T08:39:53.456Z"
   },
   {
    "duration": 24,
    "start_time": "2022-08-01T08:39:55.622Z"
   },
   {
    "duration": 32,
    "start_time": "2022-08-01T08:39:55.648Z"
   },
   {
    "duration": 279,
    "start_time": "2022-08-01T08:39:55.682Z"
   },
   {
    "duration": 5,
    "start_time": "2022-08-01T08:39:55.963Z"
   },
   {
    "duration": 252,
    "start_time": "2022-08-01T08:39:55.969Z"
   },
   {
    "duration": 602,
    "start_time": "2022-08-01T08:39:56.224Z"
   },
   {
    "duration": 307,
    "start_time": "2022-08-01T08:39:56.828Z"
   },
   {
    "duration": 518,
    "start_time": "2022-08-01T08:39:57.137Z"
   },
   {
    "duration": 242,
    "start_time": "2022-08-01T08:39:57.657Z"
   },
   {
    "duration": 29,
    "start_time": "2022-08-01T08:39:57.901Z"
   },
   {
    "duration": 10,
    "start_time": "2022-08-01T08:39:57.931Z"
   },
   {
    "duration": 23,
    "start_time": "2022-08-01T08:39:57.943Z"
   },
   {
    "duration": 48,
    "start_time": "2022-08-01T08:39:57.968Z"
   },
   {
    "duration": 35,
    "start_time": "2022-08-01T08:40:05.444Z"
   },
   {
    "duration": 20,
    "start_time": "2022-08-01T08:41:13.650Z"
   },
   {
    "duration": 15,
    "start_time": "2022-08-01T08:42:07.962Z"
   },
   {
    "duration": 19,
    "start_time": "2022-08-01T08:42:14.658Z"
   },
   {
    "duration": 87619,
    "start_time": "2022-08-01T08:42:35.378Z"
   },
   {
    "duration": 17,
    "start_time": "2022-08-01T09:16:42.758Z"
   },
   {
    "duration": 81,
    "start_time": "2022-08-01T09:34:51.016Z"
   },
   {
    "duration": 63,
    "start_time": "2022-08-01T09:35:54.156Z"
   },
   {
    "duration": 85,
    "start_time": "2022-08-01T09:38:09.953Z"
   },
   {
    "duration": 2163,
    "start_time": "2022-08-01T09:38:46.959Z"
   },
   {
    "duration": 6,
    "start_time": "2022-08-01T09:39:21.000Z"
   },
   {
    "duration": 875,
    "start_time": "2022-08-01T09:39:21.009Z"
   },
   {
    "duration": 50,
    "start_time": "2022-08-01T09:39:21.886Z"
   },
   {
    "duration": 37,
    "start_time": "2022-08-01T09:39:21.938Z"
   },
   {
    "duration": 297,
    "start_time": "2022-08-01T09:39:21.977Z"
   },
   {
    "duration": 5,
    "start_time": "2022-08-01T09:39:22.276Z"
   },
   {
    "duration": 239,
    "start_time": "2022-08-01T09:39:22.282Z"
   },
   {
    "duration": 537,
    "start_time": "2022-08-01T09:39:22.524Z"
   },
   {
    "duration": 369,
    "start_time": "2022-08-01T09:39:23.063Z"
   },
   {
    "duration": 576,
    "start_time": "2022-08-01T09:39:23.434Z"
   },
   {
    "duration": 249,
    "start_time": "2022-08-01T09:39:24.018Z"
   },
   {
    "duration": 40,
    "start_time": "2022-08-01T09:39:24.270Z"
   },
   {
    "duration": 14,
    "start_time": "2022-08-01T09:39:24.313Z"
   },
   {
    "duration": 27,
    "start_time": "2022-08-01T09:39:24.331Z"
   },
   {
    "duration": 52,
    "start_time": "2022-08-01T09:39:24.360Z"
   },
   {
    "duration": 1839,
    "start_time": "2022-08-01T09:39:27.174Z"
   },
   {
    "duration": 1331,
    "start_time": "2022-08-01T11:51:42.379Z"
   },
   {
    "duration": 1212,
    "start_time": "2022-08-01T11:59:10.293Z"
   },
   {
    "duration": 1056,
    "start_time": "2022-08-01T11:59:35.260Z"
   },
   {
    "duration": 1359,
    "start_time": "2022-08-01T12:06:46.145Z"
   },
   {
    "duration": 51,
    "start_time": "2022-08-01T12:07:15.039Z"
   },
   {
    "duration": 51,
    "start_time": "2022-08-01T12:07:22.431Z"
   },
   {
    "duration": 6,
    "start_time": "2022-08-01T12:07:34.738Z"
   },
   {
    "duration": 1020,
    "start_time": "2022-08-01T12:08:22.790Z"
   },
   {
    "duration": 1445,
    "start_time": "2022-08-01T12:08:37.336Z"
   },
   {
    "duration": 1712,
    "start_time": "2022-08-01T12:08:58.170Z"
   },
   {
    "duration": 1369,
    "start_time": "2022-08-01T12:15:37.538Z"
   },
   {
    "duration": 6,
    "start_time": "2022-08-01T12:16:10.038Z"
   },
   {
    "duration": 1192,
    "start_time": "2022-08-01T12:17:59.913Z"
   },
   {
    "duration": 1752,
    "start_time": "2022-08-01T12:22:17.214Z"
   },
   {
    "duration": 103,
    "start_time": "2022-08-01T16:00:52.499Z"
   },
   {
    "duration": 1546,
    "start_time": "2022-08-01T16:01:15.790Z"
   },
   {
    "duration": 3454,
    "start_time": "2022-08-01T16:01:17.338Z"
   },
   {
    "duration": 27,
    "start_time": "2022-08-01T16:01:20.794Z"
   },
   {
    "duration": 33,
    "start_time": "2022-08-01T16:01:20.823Z"
   },
   {
    "duration": 270,
    "start_time": "2022-08-01T16:01:20.858Z"
   },
   {
    "duration": 5,
    "start_time": "2022-08-01T16:01:21.129Z"
   },
   {
    "duration": 254,
    "start_time": "2022-08-01T16:01:21.135Z"
   },
   {
    "duration": 501,
    "start_time": "2022-08-01T16:01:21.391Z"
   },
   {
    "duration": 293,
    "start_time": "2022-08-01T16:01:21.894Z"
   },
   {
    "duration": 483,
    "start_time": "2022-08-01T16:01:22.189Z"
   },
   {
    "duration": 241,
    "start_time": "2022-08-01T16:01:22.674Z"
   },
   {
    "duration": 19,
    "start_time": "2022-08-01T16:01:22.918Z"
   },
   {
    "duration": 10,
    "start_time": "2022-08-01T16:01:22.939Z"
   },
   {
    "duration": 46,
    "start_time": "2022-08-01T16:01:22.952Z"
   },
   {
    "duration": 20,
    "start_time": "2022-08-01T16:01:23.000Z"
   },
   {
    "duration": 2564,
    "start_time": "2022-08-01T16:01:25.336Z"
   },
   {
    "duration": 1150,
    "start_time": "2022-08-01T16:01:34.452Z"
   },
   {
    "duration": 1319,
    "start_time": "2022-08-01T16:04:28.051Z"
   },
   {
    "duration": 1438,
    "start_time": "2022-08-01T18:50:37.042Z"
   },
   {
    "duration": 3109,
    "start_time": "2022-08-01T18:50:38.482Z"
   },
   {
    "duration": 30,
    "start_time": "2022-08-01T18:50:41.592Z"
   },
   {
    "duration": 32,
    "start_time": "2022-08-01T18:50:41.623Z"
   },
   {
    "duration": 270,
    "start_time": "2022-08-01T18:50:41.657Z"
   },
   {
    "duration": 4,
    "start_time": "2022-08-01T18:50:41.929Z"
   },
   {
    "duration": 227,
    "start_time": "2022-08-01T18:50:41.935Z"
   },
   {
    "duration": 476,
    "start_time": "2022-08-01T18:50:42.164Z"
   },
   {
    "duration": 290,
    "start_time": "2022-08-01T18:50:42.643Z"
   },
   {
    "duration": 494,
    "start_time": "2022-08-01T18:50:42.935Z"
   },
   {
    "duration": 249,
    "start_time": "2022-08-01T18:50:43.431Z"
   },
   {
    "duration": 24,
    "start_time": "2022-08-01T18:50:43.682Z"
   },
   {
    "duration": 11,
    "start_time": "2022-08-01T18:50:43.708Z"
   },
   {
    "duration": 23,
    "start_time": "2022-08-01T18:50:43.722Z"
   },
   {
    "duration": 23,
    "start_time": "2022-08-01T18:50:43.746Z"
   },
   {
    "duration": 91,
    "start_time": "2022-08-02T05:16:09.229Z"
   },
   {
    "duration": 111,
    "start_time": "2022-08-02T05:16:48.720Z"
   },
   {
    "duration": 1486,
    "start_time": "2022-08-02T05:16:57.501Z"
   },
   {
    "duration": 132,
    "start_time": "2022-08-02T05:17:10.399Z"
   },
   {
    "duration": 4,
    "start_time": "2022-08-02T05:17:15.304Z"
   },
   {
    "duration": 2928,
    "start_time": "2022-08-02T05:17:15.310Z"
   },
   {
    "duration": 25,
    "start_time": "2022-08-02T05:17:18.240Z"
   },
   {
    "duration": 58,
    "start_time": "2022-08-02T05:17:18.266Z"
   },
   {
    "duration": 268,
    "start_time": "2022-08-02T05:17:18.327Z"
   },
   {
    "duration": 5,
    "start_time": "2022-08-02T05:17:18.596Z"
   },
   {
    "duration": 224,
    "start_time": "2022-08-02T05:17:18.602Z"
   },
   {
    "duration": 448,
    "start_time": "2022-08-02T05:17:18.828Z"
   },
   {
    "duration": 290,
    "start_time": "2022-08-02T05:17:19.278Z"
   },
   {
    "duration": 478,
    "start_time": "2022-08-02T05:17:19.570Z"
   },
   {
    "duration": 217,
    "start_time": "2022-08-02T05:17:20.050Z"
   },
   {
    "duration": 21,
    "start_time": "2022-08-02T05:17:20.269Z"
   },
   {
    "duration": 14,
    "start_time": "2022-08-02T05:17:20.291Z"
   },
   {
    "duration": 36,
    "start_time": "2022-08-02T05:17:20.307Z"
   },
   {
    "duration": 20,
    "start_time": "2022-08-02T05:17:20.345Z"
   },
   {
    "duration": 1363,
    "start_time": "2022-08-02T05:17:23.562Z"
   },
   {
    "duration": 1288,
    "start_time": "2022-08-02T05:19:51.659Z"
   },
   {
    "duration": 2883,
    "start_time": "2022-08-02T05:23:12.542Z"
   },
   {
    "duration": 107,
    "start_time": "2022-08-02T05:29:40.271Z"
   },
   {
    "duration": 267,
    "start_time": "2022-08-02T05:32:18.240Z"
   },
   {
    "duration": 8537,
    "start_time": "2022-08-02T05:36:08.949Z"
   },
   {
    "duration": 8598,
    "start_time": "2022-08-02T05:37:04.192Z"
   },
   {
    "duration": 8405,
    "start_time": "2022-08-02T05:38:48.225Z"
   },
   {
    "duration": 456,
    "start_time": "2022-08-02T05:44:17.520Z"
   },
   {
    "duration": 8493,
    "start_time": "2022-08-02T05:44:29.841Z"
   },
   {
    "duration": 57411,
    "start_time": "2022-08-02T05:44:39.412Z"
   },
   {
    "duration": 144510,
    "start_time": "2022-08-02T05:46:34.362Z"
   },
   {
    "duration": 289762,
    "start_time": "2022-08-02T05:49:38.935Z"
   },
   {
    "duration": 13,
    "start_time": "2022-08-02T06:01:23.620Z"
   },
   {
    "duration": 10,
    "start_time": "2022-08-02T06:02:22.013Z"
   },
   {
    "duration": 657,
    "start_time": "2022-08-02T06:03:08.750Z"
   },
   {
    "duration": 1859,
    "start_time": "2022-08-02T08:56:19.458Z"
   },
   {
    "duration": 1953,
    "start_time": "2022-08-02T08:56:21.319Z"
   },
   {
    "duration": 22,
    "start_time": "2022-08-02T08:56:23.274Z"
   },
   {
    "duration": 29,
    "start_time": "2022-08-02T08:56:23.301Z"
   },
   {
    "duration": 246,
    "start_time": "2022-08-02T08:56:23.331Z"
   },
   {
    "duration": 4,
    "start_time": "2022-08-02T08:56:23.579Z"
   },
   {
    "duration": 207,
    "start_time": "2022-08-02T08:56:23.584Z"
   },
   {
    "duration": 421,
    "start_time": "2022-08-02T08:56:23.793Z"
   },
   {
    "duration": 277,
    "start_time": "2022-08-02T08:56:24.215Z"
   },
   {
    "duration": 436,
    "start_time": "2022-08-02T08:56:24.494Z"
   },
   {
    "duration": 201,
    "start_time": "2022-08-02T08:56:24.932Z"
   },
   {
    "duration": 20,
    "start_time": "2022-08-02T08:56:25.135Z"
   },
   {
    "duration": 9,
    "start_time": "2022-08-02T08:56:25.157Z"
   },
   {
    "duration": 44,
    "start_time": "2022-08-02T08:56:25.168Z"
   },
   {
    "duration": 20,
    "start_time": "2022-08-02T08:56:25.214Z"
   },
   {
    "duration": 3068,
    "start_time": "2022-08-02T08:56:25.236Z"
   },
   {
    "duration": 43,
    "start_time": "2022-08-02T16:28:32.015Z"
   },
   {
    "duration": 1534,
    "start_time": "2022-08-02T16:28:37.478Z"
   },
   {
    "duration": 1767,
    "start_time": "2022-08-02T16:28:39.014Z"
   },
   {
    "duration": 24,
    "start_time": "2022-08-02T16:28:40.783Z"
   },
   {
    "duration": 5,
    "start_time": "2022-08-02T16:28:52.284Z"
   },
   {
    "duration": 4,
    "start_time": "2022-08-02T16:28:54.830Z"
   },
   {
    "duration": 5,
    "start_time": "2022-08-02T16:29:21.278Z"
   },
   {
    "duration": 6,
    "start_time": "2022-08-02T16:29:39.415Z"
   },
   {
    "duration": 4,
    "start_time": "2022-08-02T16:32:10.715Z"
   },
   {
    "duration": 782,
    "start_time": "2022-08-02T16:32:10.721Z"
   },
   {
    "duration": 24,
    "start_time": "2022-08-02T16:32:11.505Z"
   },
   {
    "duration": 30,
    "start_time": "2022-08-02T16:32:11.531Z"
   },
   {
    "duration": 250,
    "start_time": "2022-08-02T16:32:11.564Z"
   },
   {
    "duration": 5,
    "start_time": "2022-08-02T16:32:11.816Z"
   },
   {
    "duration": 182,
    "start_time": "2022-08-02T16:32:14.014Z"
   },
   {
    "duration": 464,
    "start_time": "2022-08-02T16:33:38.490Z"
   },
   {
    "duration": 505,
    "start_time": "2022-08-02T16:34:43.914Z"
   },
   {
    "duration": 189,
    "start_time": "2022-08-02T16:37:41.157Z"
   },
   {
    "duration": 217,
    "start_time": "2022-08-02T16:39:12.090Z"
   },
   {
    "duration": 72,
    "start_time": "2022-08-02T16:48:15.122Z"
   },
   {
    "duration": 628,
    "start_time": "2022-08-02T16:48:42.674Z"
   },
   {
    "duration": 79,
    "start_time": "2022-08-02T16:58:27.487Z"
   },
   {
    "duration": 135,
    "start_time": "2022-08-02T16:58:56.558Z"
   },
   {
    "duration": 102,
    "start_time": "2022-08-02T16:59:52.821Z"
   },
   {
    "duration": 56,
    "start_time": "2022-08-02T17:01:07.177Z"
   },
   {
    "duration": 1019,
    "start_time": "2022-08-02T17:02:08.767Z"
   },
   {
    "duration": 11,
    "start_time": "2022-08-02T17:02:21.421Z"
   },
   {
    "duration": 30,
    "start_time": "2022-08-02T17:02:23.882Z"
   },
   {
    "duration": 26,
    "start_time": "2022-08-02T17:02:31.021Z"
   },
   {
    "duration": 3848,
    "start_time": "2022-08-02T17:08:50.876Z"
   },
   {
    "duration": 7946,
    "start_time": "2022-08-02T17:09:34.295Z"
   },
   {
    "duration": 7701,
    "start_time": "2022-08-02T17:10:02.623Z"
   },
   {
    "duration": 4,
    "start_time": "2022-08-02T17:14:09.248Z"
   },
   {
    "duration": 238997,
    "start_time": "2022-08-02T17:14:23.346Z"
   },
   {
    "duration": 351,
    "start_time": "2022-08-02T17:19:42.746Z"
   },
   {
    "duration": 13,
    "start_time": "2022-08-02T17:19:47.283Z"
   },
   {
    "duration": 3,
    "start_time": "2022-08-02T17:20:17.436Z"
   },
   {
    "duration": 8,
    "start_time": "2022-08-02T17:20:27.028Z"
   },
   {
    "duration": 2810,
    "start_time": "2022-08-02T18:16:37.024Z"
   },
   {
    "duration": 3907,
    "start_time": "2022-08-02T18:16:39.836Z"
   },
   {
    "duration": 24,
    "start_time": "2022-08-02T18:16:43.744Z"
   },
   {
    "duration": 50,
    "start_time": "2022-08-02T18:16:43.770Z"
   },
   {
    "duration": 280,
    "start_time": "2022-08-02T18:16:43.822Z"
   },
   {
    "duration": 6,
    "start_time": "2022-08-02T18:16:44.104Z"
   },
   {
    "duration": 238,
    "start_time": "2022-08-02T18:16:44.113Z"
   },
   {
    "duration": 532,
    "start_time": "2022-08-02T18:16:44.353Z"
   },
   {
    "duration": 322,
    "start_time": "2022-08-02T18:16:44.887Z"
   },
   {
    "duration": 522,
    "start_time": "2022-08-02T18:16:45.212Z"
   },
   {
    "duration": 291,
    "start_time": "2022-08-02T18:16:45.736Z"
   },
   {
    "duration": 851,
    "start_time": "2022-08-02T18:16:46.028Z"
   },
   {
    "duration": 943,
    "start_time": "2022-08-02T18:16:46.880Z"
   },
   {
    "duration": 21,
    "start_time": "2022-08-02T18:16:47.825Z"
   },
   {
    "duration": 11,
    "start_time": "2022-08-02T18:16:47.849Z"
   },
   {
    "duration": 42,
    "start_time": "2022-08-02T18:16:47.862Z"
   },
   {
    "duration": 22,
    "start_time": "2022-08-02T18:16:47.914Z"
   },
   {
    "duration": 91,
    "start_time": "2022-08-02T18:21:40.827Z"
   },
   {
    "duration": 124,
    "start_time": "2022-08-02T18:22:05.797Z"
   },
   {
    "duration": 19,
    "start_time": "2022-08-02T18:22:37.174Z"
   },
   {
    "duration": 10,
    "start_time": "2022-08-02T18:23:21.334Z"
   },
   {
    "duration": 90,
    "start_time": "2022-08-02T18:24:24.500Z"
   },
   {
    "duration": 83,
    "start_time": "2022-08-02T18:25:14.903Z"
   },
   {
    "duration": 14265,
    "start_time": "2022-08-02T18:25:46.322Z"
   }
  ],
  "kernelspec": {
   "display_name": "Python 3 (ipykernel)",
   "language": "python",
   "name": "python3"
  },
  "language_info": {
   "codemirror_mode": {
    "name": "ipython",
    "version": 3
   },
   "file_extension": ".py",
   "mimetype": "text/x-python",
   "name": "python",
   "nbconvert_exporter": "python",
   "pygments_lexer": "ipython3",
   "version": "3.9.13"
  },
  "toc": {
   "base_numbering": 1,
   "nav_menu": {},
   "number_sections": true,
   "sideBar": true,
   "skip_h1_title": true,
   "title_cell": "Содержание",
   "title_sidebar": "Contents",
   "toc_cell": true,
   "toc_position": {},
   "toc_section_display": true,
   "toc_window_display": true
  }
 },
 "nbformat": 4,
 "nbformat_minor": 2
}

{
 "cells": [
  {
   "cell_type": "markdown",
   "metadata": {},
   "source": [
    "# Определение стоимости автомобилей"
   ]
  },
  {
   "cell_type": "markdown",
   "metadata": {},
   "source": [
    "Сервис по продаже автомобилей с пробегом «Не бит, не крашен» разрабатывает приложение для привлечения новых клиентов. В нём можно быстро узнать рыночную стоимость своего автомобиля. В вашем распоряжении исторические данные: технические характеристики, комплектации и цены автомобилей. Вам нужно построить модель для определения стоимости. \n",
    "\n",
    "Заказчику важны:\n",
    "\n",
    "- качество предсказания;\n",
    "- скорость предсказания;\n",
    "- время обучения."
   ]
  },
  {
   "cell_type": "markdown",
   "metadata": {},
   "source": [
    "## Подготовка данных"
   ]
  },
  {
   "cell_type": "code",
   "execution_count": 31,
   "metadata": {},
   "outputs": [],
   "source": [
    "import numpy as np\n",
    "import pandas as pd\n",
    "\n",
    "import lightgbm as lgb\n",
    "\n",
    "from sklearn.ensemble import RandomForestRegressor\n",
    "from sklearn.linear_model import LinearRegression\n",
    "from sklearn.metrics import mean_squared_error\n",
    "from sklearn.model_selection import GridSearchCV\n",
    "from sklearn.model_selection import cross_val_score\n",
    "from sklearn.model_selection import RepeatedKFold\n",
    "from sklearn.model_selection import train_test_split\n",
    "from sklearn.preprocessing import OrdinalEncoder\n",
    "from sklearn.tree import DecisionTreeRegressor"
   ]
  },
  {
   "cell_type": "code",
   "execution_count": 32,
   "metadata": {},
   "outputs": [
    {
     "name": "stdout",
     "output_type": "stream",
     "text": [
      "<class 'pandas.core.frame.DataFrame'>\n",
      "RangeIndex: 354369 entries, 0 to 354368\n",
      "Data columns (total 16 columns):\n",
      " #   Column             Non-Null Count   Dtype         \n",
      "---  ------             --------------   -----         \n",
      " 0   DateCrawled        354369 non-null  datetime64[ns]\n",
      " 1   Price              354369 non-null  int64         \n",
      " 2   VehicleType        316879 non-null  object        \n",
      " 3   RegistrationYear   354369 non-null  int64         \n",
      " 4   Gearbox            334536 non-null  object        \n",
      " 5   Power              354369 non-null  int64         \n",
      " 6   Model              334664 non-null  object        \n",
      " 7   Kilometer          354369 non-null  int64         \n",
      " 8   RegistrationMonth  354369 non-null  int64         \n",
      " 9   FuelType           321474 non-null  object        \n",
      " 10  Brand              354369 non-null  object        \n",
      " 11  NotRepaired        283215 non-null  object        \n",
      " 12  DateCreated        354369 non-null  datetime64[ns]\n",
      " 13  NumberOfPictures   354369 non-null  int64         \n",
      " 14  PostalCode         354369 non-null  int64         \n",
      " 15  LastSeen           354369 non-null  datetime64[ns]\n",
      "dtypes: datetime64[ns](3), int64(7), object(6)\n",
      "memory usage: 43.3+ MB\n"
     ]
    },
    {
     "data": {
      "text/html": [
       "<div>\n",
       "<style scoped>\n",
       "    .dataframe tbody tr th:only-of-type {\n",
       "        vertical-align: middle;\n",
       "    }\n",
       "\n",
       "    .dataframe tbody tr th {\n",
       "        vertical-align: top;\n",
       "    }\n",
       "\n",
       "    .dataframe thead th {\n",
       "        text-align: right;\n",
       "    }\n",
       "</style>\n",
       "<table border=\"1\" class=\"dataframe\">\n",
       "  <thead>\n",
       "    <tr style=\"text-align: right;\">\n",
       "      <th></th>\n",
       "      <th>DateCrawled</th>\n",
       "      <th>Price</th>\n",
       "      <th>VehicleType</th>\n",
       "      <th>RegistrationYear</th>\n",
       "      <th>Gearbox</th>\n",
       "      <th>Power</th>\n",
       "      <th>Model</th>\n",
       "      <th>Kilometer</th>\n",
       "      <th>RegistrationMonth</th>\n",
       "      <th>FuelType</th>\n",
       "      <th>Brand</th>\n",
       "      <th>NotRepaired</th>\n",
       "      <th>DateCreated</th>\n",
       "      <th>NumberOfPictures</th>\n",
       "      <th>PostalCode</th>\n",
       "      <th>LastSeen</th>\n",
       "    </tr>\n",
       "  </thead>\n",
       "  <tbody>\n",
       "    <tr>\n",
       "      <th>0</th>\n",
       "      <td>2016-03-24 11:52:17</td>\n",
       "      <td>480</td>\n",
       "      <td>NaN</td>\n",
       "      <td>1993</td>\n",
       "      <td>manual</td>\n",
       "      <td>0</td>\n",
       "      <td>golf</td>\n",
       "      <td>150000</td>\n",
       "      <td>0</td>\n",
       "      <td>petrol</td>\n",
       "      <td>volkswagen</td>\n",
       "      <td>NaN</td>\n",
       "      <td>2016-03-24</td>\n",
       "      <td>0</td>\n",
       "      <td>70435</td>\n",
       "      <td>2016-04-07 03:16:57</td>\n",
       "    </tr>\n",
       "    <tr>\n",
       "      <th>1</th>\n",
       "      <td>2016-03-24 10:58:45</td>\n",
       "      <td>18300</td>\n",
       "      <td>coupe</td>\n",
       "      <td>2011</td>\n",
       "      <td>manual</td>\n",
       "      <td>190</td>\n",
       "      <td>NaN</td>\n",
       "      <td>125000</td>\n",
       "      <td>5</td>\n",
       "      <td>gasoline</td>\n",
       "      <td>audi</td>\n",
       "      <td>yes</td>\n",
       "      <td>2016-03-24</td>\n",
       "      <td>0</td>\n",
       "      <td>66954</td>\n",
       "      <td>2016-04-07 01:46:50</td>\n",
       "    </tr>\n",
       "    <tr>\n",
       "      <th>2</th>\n",
       "      <td>2016-03-14 12:52:21</td>\n",
       "      <td>9800</td>\n",
       "      <td>suv</td>\n",
       "      <td>2004</td>\n",
       "      <td>auto</td>\n",
       "      <td>163</td>\n",
       "      <td>grand</td>\n",
       "      <td>125000</td>\n",
       "      <td>8</td>\n",
       "      <td>gasoline</td>\n",
       "      <td>jeep</td>\n",
       "      <td>NaN</td>\n",
       "      <td>2016-03-14</td>\n",
       "      <td>0</td>\n",
       "      <td>90480</td>\n",
       "      <td>2016-04-05 12:47:46</td>\n",
       "    </tr>\n",
       "    <tr>\n",
       "      <th>3</th>\n",
       "      <td>2016-03-17 16:54:04</td>\n",
       "      <td>1500</td>\n",
       "      <td>small</td>\n",
       "      <td>2001</td>\n",
       "      <td>manual</td>\n",
       "      <td>75</td>\n",
       "      <td>golf</td>\n",
       "      <td>150000</td>\n",
       "      <td>6</td>\n",
       "      <td>petrol</td>\n",
       "      <td>volkswagen</td>\n",
       "      <td>no</td>\n",
       "      <td>2016-03-17</td>\n",
       "      <td>0</td>\n",
       "      <td>91074</td>\n",
       "      <td>2016-03-17 17:40:17</td>\n",
       "    </tr>\n",
       "    <tr>\n",
       "      <th>4</th>\n",
       "      <td>2016-03-31 17:25:20</td>\n",
       "      <td>3600</td>\n",
       "      <td>small</td>\n",
       "      <td>2008</td>\n",
       "      <td>manual</td>\n",
       "      <td>69</td>\n",
       "      <td>fabia</td>\n",
       "      <td>90000</td>\n",
       "      <td>7</td>\n",
       "      <td>gasoline</td>\n",
       "      <td>skoda</td>\n",
       "      <td>no</td>\n",
       "      <td>2016-03-31</td>\n",
       "      <td>0</td>\n",
       "      <td>60437</td>\n",
       "      <td>2016-04-06 10:17:21</td>\n",
       "    </tr>\n",
       "    <tr>\n",
       "      <th>...</th>\n",
       "      <td>...</td>\n",
       "      <td>...</td>\n",
       "      <td>...</td>\n",
       "      <td>...</td>\n",
       "      <td>...</td>\n",
       "      <td>...</td>\n",
       "      <td>...</td>\n",
       "      <td>...</td>\n",
       "      <td>...</td>\n",
       "      <td>...</td>\n",
       "      <td>...</td>\n",
       "      <td>...</td>\n",
       "      <td>...</td>\n",
       "      <td>...</td>\n",
       "      <td>...</td>\n",
       "      <td>...</td>\n",
       "    </tr>\n",
       "    <tr>\n",
       "      <th>354364</th>\n",
       "      <td>2016-03-21 09:50:58</td>\n",
       "      <td>0</td>\n",
       "      <td>NaN</td>\n",
       "      <td>2005</td>\n",
       "      <td>manual</td>\n",
       "      <td>0</td>\n",
       "      <td>colt</td>\n",
       "      <td>150000</td>\n",
       "      <td>7</td>\n",
       "      <td>petrol</td>\n",
       "      <td>mitsubishi</td>\n",
       "      <td>yes</td>\n",
       "      <td>2016-03-21</td>\n",
       "      <td>0</td>\n",
       "      <td>2694</td>\n",
       "      <td>2016-03-21 10:42:49</td>\n",
       "    </tr>\n",
       "    <tr>\n",
       "      <th>354365</th>\n",
       "      <td>2016-03-14 17:48:27</td>\n",
       "      <td>2200</td>\n",
       "      <td>NaN</td>\n",
       "      <td>2005</td>\n",
       "      <td>NaN</td>\n",
       "      <td>0</td>\n",
       "      <td>NaN</td>\n",
       "      <td>20000</td>\n",
       "      <td>1</td>\n",
       "      <td>NaN</td>\n",
       "      <td>sonstige_autos</td>\n",
       "      <td>NaN</td>\n",
       "      <td>2016-03-14</td>\n",
       "      <td>0</td>\n",
       "      <td>39576</td>\n",
       "      <td>2016-04-06 00:46:52</td>\n",
       "    </tr>\n",
       "    <tr>\n",
       "      <th>354366</th>\n",
       "      <td>2016-03-05 19:56:21</td>\n",
       "      <td>1199</td>\n",
       "      <td>convertible</td>\n",
       "      <td>2000</td>\n",
       "      <td>auto</td>\n",
       "      <td>101</td>\n",
       "      <td>fortwo</td>\n",
       "      <td>125000</td>\n",
       "      <td>3</td>\n",
       "      <td>petrol</td>\n",
       "      <td>smart</td>\n",
       "      <td>no</td>\n",
       "      <td>2016-03-05</td>\n",
       "      <td>0</td>\n",
       "      <td>26135</td>\n",
       "      <td>2016-03-11 18:17:12</td>\n",
       "    </tr>\n",
       "    <tr>\n",
       "      <th>354367</th>\n",
       "      <td>2016-03-19 18:57:12</td>\n",
       "      <td>9200</td>\n",
       "      <td>bus</td>\n",
       "      <td>1996</td>\n",
       "      <td>manual</td>\n",
       "      <td>102</td>\n",
       "      <td>transporter</td>\n",
       "      <td>150000</td>\n",
       "      <td>3</td>\n",
       "      <td>gasoline</td>\n",
       "      <td>volkswagen</td>\n",
       "      <td>no</td>\n",
       "      <td>2016-03-19</td>\n",
       "      <td>0</td>\n",
       "      <td>87439</td>\n",
       "      <td>2016-04-07 07:15:26</td>\n",
       "    </tr>\n",
       "    <tr>\n",
       "      <th>354368</th>\n",
       "      <td>2016-03-20 19:41:08</td>\n",
       "      <td>3400</td>\n",
       "      <td>wagon</td>\n",
       "      <td>2002</td>\n",
       "      <td>manual</td>\n",
       "      <td>100</td>\n",
       "      <td>golf</td>\n",
       "      <td>150000</td>\n",
       "      <td>6</td>\n",
       "      <td>gasoline</td>\n",
       "      <td>volkswagen</td>\n",
       "      <td>NaN</td>\n",
       "      <td>2016-03-20</td>\n",
       "      <td>0</td>\n",
       "      <td>40764</td>\n",
       "      <td>2016-03-24 12:45:21</td>\n",
       "    </tr>\n",
       "  </tbody>\n",
       "</table>\n",
       "<p>354369 rows × 16 columns</p>\n",
       "</div>"
      ],
      "text/plain": [
       "               DateCrawled  Price  VehicleType  RegistrationYear Gearbox  \\\n",
       "0      2016-03-24 11:52:17    480          NaN              1993  manual   \n",
       "1      2016-03-24 10:58:45  18300        coupe              2011  manual   \n",
       "2      2016-03-14 12:52:21   9800          suv              2004    auto   \n",
       "3      2016-03-17 16:54:04   1500        small              2001  manual   \n",
       "4      2016-03-31 17:25:20   3600        small              2008  manual   \n",
       "...                    ...    ...          ...               ...     ...   \n",
       "354364 2016-03-21 09:50:58      0          NaN              2005  manual   \n",
       "354365 2016-03-14 17:48:27   2200          NaN              2005     NaN   \n",
       "354366 2016-03-05 19:56:21   1199  convertible              2000    auto   \n",
       "354367 2016-03-19 18:57:12   9200          bus              1996  manual   \n",
       "354368 2016-03-20 19:41:08   3400        wagon              2002  manual   \n",
       "\n",
       "        Power        Model  Kilometer  RegistrationMonth  FuelType  \\\n",
       "0           0         golf     150000                  0    petrol   \n",
       "1         190          NaN     125000                  5  gasoline   \n",
       "2         163        grand     125000                  8  gasoline   \n",
       "3          75         golf     150000                  6    petrol   \n",
       "4          69        fabia      90000                  7  gasoline   \n",
       "...       ...          ...        ...                ...       ...   \n",
       "354364      0         colt     150000                  7    petrol   \n",
       "354365      0          NaN      20000                  1       NaN   \n",
       "354366    101       fortwo     125000                  3    petrol   \n",
       "354367    102  transporter     150000                  3  gasoline   \n",
       "354368    100         golf     150000                  6  gasoline   \n",
       "\n",
       "                 Brand NotRepaired DateCreated  NumberOfPictures  PostalCode  \\\n",
       "0           volkswagen         NaN  2016-03-24                 0       70435   \n",
       "1                 audi         yes  2016-03-24                 0       66954   \n",
       "2                 jeep         NaN  2016-03-14                 0       90480   \n",
       "3           volkswagen          no  2016-03-17                 0       91074   \n",
       "4                skoda          no  2016-03-31                 0       60437   \n",
       "...                ...         ...         ...               ...         ...   \n",
       "354364      mitsubishi         yes  2016-03-21                 0        2694   \n",
       "354365  sonstige_autos         NaN  2016-03-14                 0       39576   \n",
       "354366           smart          no  2016-03-05                 0       26135   \n",
       "354367      volkswagen          no  2016-03-19                 0       87439   \n",
       "354368      volkswagen         NaN  2016-03-20                 0       40764   \n",
       "\n",
       "                  LastSeen  \n",
       "0      2016-04-07 03:16:57  \n",
       "1      2016-04-07 01:46:50  \n",
       "2      2016-04-05 12:47:46  \n",
       "3      2016-03-17 17:40:17  \n",
       "4      2016-04-06 10:17:21  \n",
       "...                    ...  \n",
       "354364 2016-03-21 10:42:49  \n",
       "354365 2016-04-06 00:46:52  \n",
       "354366 2016-03-11 18:17:12  \n",
       "354367 2016-04-07 07:15:26  \n",
       "354368 2016-03-24 12:45:21  \n",
       "\n",
       "[354369 rows x 16 columns]"
      ]
     },
     "execution_count": 32,
     "metadata": {},
     "output_type": "execute_result"
    }
   ],
   "source": [
    "try:\n",
    "    df = pd.read_csv('autos.csv', parse_dates=['DateCrawled', 'DateCreated', 'LastSeen'])\n",
    "except:\n",
    "    df = pd.read_csv('/datasets/autos.csv', parse_dates=['DateCrawled', 'DateCreated', 'LastSeen'])\n",
    "\n",
    "df.info()\n",
    "df"
   ]
  },
  {
   "cell_type": "markdown",
   "metadata": {},
   "source": [
    "Признаки `DateCrawled`, `DateCreated`, `NumberOfPictures`, `PostalCode`, `LastSeen` являются избыточными, удалим их"
   ]
  },
  {
   "cell_type": "code",
   "execution_count": 33,
   "metadata": {},
   "outputs": [
    {
     "data": {
      "text/html": [
       "<div>\n",
       "<style scoped>\n",
       "    .dataframe tbody tr th:only-of-type {\n",
       "        vertical-align: middle;\n",
       "    }\n",
       "\n",
       "    .dataframe tbody tr th {\n",
       "        vertical-align: top;\n",
       "    }\n",
       "\n",
       "    .dataframe thead th {\n",
       "        text-align: right;\n",
       "    }\n",
       "</style>\n",
       "<table border=\"1\" class=\"dataframe\">\n",
       "  <thead>\n",
       "    <tr style=\"text-align: right;\">\n",
       "      <th></th>\n",
       "      <th>Price</th>\n",
       "      <th>VehicleType</th>\n",
       "      <th>RegistrationYear</th>\n",
       "      <th>Gearbox</th>\n",
       "      <th>Power</th>\n",
       "      <th>Model</th>\n",
       "      <th>Kilometer</th>\n",
       "      <th>RegistrationMonth</th>\n",
       "      <th>FuelType</th>\n",
       "      <th>Brand</th>\n",
       "      <th>NotRepaired</th>\n",
       "      <th>DateCreated</th>\n",
       "    </tr>\n",
       "  </thead>\n",
       "  <tbody>\n",
       "    <tr>\n",
       "      <th>0</th>\n",
       "      <td>480</td>\n",
       "      <td>NaN</td>\n",
       "      <td>1993</td>\n",
       "      <td>manual</td>\n",
       "      <td>0</td>\n",
       "      <td>golf</td>\n",
       "      <td>150000</td>\n",
       "      <td>0</td>\n",
       "      <td>petrol</td>\n",
       "      <td>volkswagen</td>\n",
       "      <td>NaN</td>\n",
       "      <td>2016-03-24</td>\n",
       "    </tr>\n",
       "    <tr>\n",
       "      <th>1</th>\n",
       "      <td>18300</td>\n",
       "      <td>coupe</td>\n",
       "      <td>2011</td>\n",
       "      <td>manual</td>\n",
       "      <td>190</td>\n",
       "      <td>NaN</td>\n",
       "      <td>125000</td>\n",
       "      <td>5</td>\n",
       "      <td>gasoline</td>\n",
       "      <td>audi</td>\n",
       "      <td>yes</td>\n",
       "      <td>2016-03-24</td>\n",
       "    </tr>\n",
       "    <tr>\n",
       "      <th>2</th>\n",
       "      <td>9800</td>\n",
       "      <td>suv</td>\n",
       "      <td>2004</td>\n",
       "      <td>auto</td>\n",
       "      <td>163</td>\n",
       "      <td>grand</td>\n",
       "      <td>125000</td>\n",
       "      <td>8</td>\n",
       "      <td>gasoline</td>\n",
       "      <td>jeep</td>\n",
       "      <td>NaN</td>\n",
       "      <td>2016-03-14</td>\n",
       "    </tr>\n",
       "    <tr>\n",
       "      <th>3</th>\n",
       "      <td>1500</td>\n",
       "      <td>small</td>\n",
       "      <td>2001</td>\n",
       "      <td>manual</td>\n",
       "      <td>75</td>\n",
       "      <td>golf</td>\n",
       "      <td>150000</td>\n",
       "      <td>6</td>\n",
       "      <td>petrol</td>\n",
       "      <td>volkswagen</td>\n",
       "      <td>no</td>\n",
       "      <td>2016-03-17</td>\n",
       "    </tr>\n",
       "    <tr>\n",
       "      <th>4</th>\n",
       "      <td>3600</td>\n",
       "      <td>small</td>\n",
       "      <td>2008</td>\n",
       "      <td>manual</td>\n",
       "      <td>69</td>\n",
       "      <td>fabia</td>\n",
       "      <td>90000</td>\n",
       "      <td>7</td>\n",
       "      <td>gasoline</td>\n",
       "      <td>skoda</td>\n",
       "      <td>no</td>\n",
       "      <td>2016-03-31</td>\n",
       "    </tr>\n",
       "    <tr>\n",
       "      <th>...</th>\n",
       "      <td>...</td>\n",
       "      <td>...</td>\n",
       "      <td>...</td>\n",
       "      <td>...</td>\n",
       "      <td>...</td>\n",
       "      <td>...</td>\n",
       "      <td>...</td>\n",
       "      <td>...</td>\n",
       "      <td>...</td>\n",
       "      <td>...</td>\n",
       "      <td>...</td>\n",
       "      <td>...</td>\n",
       "    </tr>\n",
       "    <tr>\n",
       "      <th>354364</th>\n",
       "      <td>0</td>\n",
       "      <td>NaN</td>\n",
       "      <td>2005</td>\n",
       "      <td>manual</td>\n",
       "      <td>0</td>\n",
       "      <td>colt</td>\n",
       "      <td>150000</td>\n",
       "      <td>7</td>\n",
       "      <td>petrol</td>\n",
       "      <td>mitsubishi</td>\n",
       "      <td>yes</td>\n",
       "      <td>2016-03-21</td>\n",
       "    </tr>\n",
       "    <tr>\n",
       "      <th>354365</th>\n",
       "      <td>2200</td>\n",
       "      <td>NaN</td>\n",
       "      <td>2005</td>\n",
       "      <td>NaN</td>\n",
       "      <td>0</td>\n",
       "      <td>NaN</td>\n",
       "      <td>20000</td>\n",
       "      <td>1</td>\n",
       "      <td>NaN</td>\n",
       "      <td>sonstige_autos</td>\n",
       "      <td>NaN</td>\n",
       "      <td>2016-03-14</td>\n",
       "    </tr>\n",
       "    <tr>\n",
       "      <th>354366</th>\n",
       "      <td>1199</td>\n",
       "      <td>convertible</td>\n",
       "      <td>2000</td>\n",
       "      <td>auto</td>\n",
       "      <td>101</td>\n",
       "      <td>fortwo</td>\n",
       "      <td>125000</td>\n",
       "      <td>3</td>\n",
       "      <td>petrol</td>\n",
       "      <td>smart</td>\n",
       "      <td>no</td>\n",
       "      <td>2016-03-05</td>\n",
       "    </tr>\n",
       "    <tr>\n",
       "      <th>354367</th>\n",
       "      <td>9200</td>\n",
       "      <td>bus</td>\n",
       "      <td>1996</td>\n",
       "      <td>manual</td>\n",
       "      <td>102</td>\n",
       "      <td>transporter</td>\n",
       "      <td>150000</td>\n",
       "      <td>3</td>\n",
       "      <td>gasoline</td>\n",
       "      <td>volkswagen</td>\n",
       "      <td>no</td>\n",
       "      <td>2016-03-19</td>\n",
       "    </tr>\n",
       "    <tr>\n",
       "      <th>354368</th>\n",
       "      <td>3400</td>\n",
       "      <td>wagon</td>\n",
       "      <td>2002</td>\n",
       "      <td>manual</td>\n",
       "      <td>100</td>\n",
       "      <td>golf</td>\n",
       "      <td>150000</td>\n",
       "      <td>6</td>\n",
       "      <td>gasoline</td>\n",
       "      <td>volkswagen</td>\n",
       "      <td>NaN</td>\n",
       "      <td>2016-03-20</td>\n",
       "    </tr>\n",
       "  </tbody>\n",
       "</table>\n",
       "<p>354369 rows × 12 columns</p>\n",
       "</div>"
      ],
      "text/plain": [
       "        Price  VehicleType  RegistrationYear Gearbox  Power        Model  \\\n",
       "0         480          NaN              1993  manual      0         golf   \n",
       "1       18300        coupe              2011  manual    190          NaN   \n",
       "2        9800          suv              2004    auto    163        grand   \n",
       "3        1500        small              2001  manual     75         golf   \n",
       "4        3600        small              2008  manual     69        fabia   \n",
       "...       ...          ...               ...     ...    ...          ...   \n",
       "354364      0          NaN              2005  manual      0         colt   \n",
       "354365   2200          NaN              2005     NaN      0          NaN   \n",
       "354366   1199  convertible              2000    auto    101       fortwo   \n",
       "354367   9200          bus              1996  manual    102  transporter   \n",
       "354368   3400        wagon              2002  manual    100         golf   \n",
       "\n",
       "        Kilometer  RegistrationMonth  FuelType           Brand NotRepaired  \\\n",
       "0          150000                  0    petrol      volkswagen         NaN   \n",
       "1          125000                  5  gasoline            audi         yes   \n",
       "2          125000                  8  gasoline            jeep         NaN   \n",
       "3          150000                  6    petrol      volkswagen          no   \n",
       "4           90000                  7  gasoline           skoda          no   \n",
       "...           ...                ...       ...             ...         ...   \n",
       "354364     150000                  7    petrol      mitsubishi         yes   \n",
       "354365      20000                  1       NaN  sonstige_autos         NaN   \n",
       "354366     125000                  3    petrol           smart          no   \n",
       "354367     150000                  3  gasoline      volkswagen          no   \n",
       "354368     150000                  6  gasoline      volkswagen         NaN   \n",
       "\n",
       "       DateCreated  \n",
       "0       2016-03-24  \n",
       "1       2016-03-24  \n",
       "2       2016-03-14  \n",
       "3       2016-03-17  \n",
       "4       2016-03-31  \n",
       "...            ...  \n",
       "354364  2016-03-21  \n",
       "354365  2016-03-14  \n",
       "354366  2016-03-05  \n",
       "354367  2016-03-19  \n",
       "354368  2016-03-20  \n",
       "\n",
       "[354369 rows x 12 columns]"
      ]
     },
     "execution_count": 33,
     "metadata": {},
     "output_type": "execute_result"
    }
   ],
   "source": [
    "df.drop(columns = ['DateCrawled', 'NumberOfPictures', 'PostalCode', 'LastSeen'], axis = 1, inplace=True)\n",
    "df"
   ]
  },
  {
   "cell_type": "code",
   "execution_count": 34,
   "metadata": {},
   "outputs": [
    {
     "data": {
      "text/plain": [
       "NotRepaired          0.200791\n",
       "VehicleType          0.105794\n",
       "FuelType             0.092827\n",
       "Gearbox              0.055967\n",
       "Model                0.055606\n",
       "Price                0.000000\n",
       "RegistrationYear     0.000000\n",
       "Power                0.000000\n",
       "Kilometer            0.000000\n",
       "RegistrationMonth    0.000000\n",
       "Brand                0.000000\n",
       "DateCreated          0.000000\n",
       "dtype: float64"
      ]
     },
     "execution_count": 34,
     "metadata": {},
     "output_type": "execute_result"
    }
   ],
   "source": [
    "df.isna().mean().sort_values(ascending=False)"
   ]
  },
  {
   "cell_type": "markdown",
   "metadata": {},
   "source": [
    "Пропуски в категориальных признаках `NotRepaired`, `VehicleType`, `FuelType`, `Gearbox`, `Model` заменим на `unknown`"
   ]
  },
  {
   "cell_type": "code",
   "execution_count": 35,
   "metadata": {},
   "outputs": [
    {
     "data": {
      "text/plain": [
       "Price                0.0\n",
       "VehicleType          0.0\n",
       "RegistrationYear     0.0\n",
       "Gearbox              0.0\n",
       "Power                0.0\n",
       "Model                0.0\n",
       "Kilometer            0.0\n",
       "RegistrationMonth    0.0\n",
       "FuelType             0.0\n",
       "Brand                0.0\n",
       "NotRepaired          0.0\n",
       "DateCreated          0.0\n",
       "dtype: float64"
      ]
     },
     "execution_count": 35,
     "metadata": {},
     "output_type": "execute_result"
    }
   ],
   "source": [
    "df.fillna('unknown', inplace=True)\n",
    "df.isna().mean().sort_values(ascending=False)"
   ]
  },
  {
   "cell_type": "code",
   "execution_count": 36,
   "metadata": {},
   "outputs": [
    {
     "data": {
      "text/plain": [
       "<AxesSubplot:>"
      ]
     },
     "execution_count": 36,
     "metadata": {},
     "output_type": "execute_result"
    },
    {
     "data": {
      "image/png": "[encoded data removed]",
      "text/plain": [
       "<Figure size 432x288 with 1 Axes>"
      ]
     },
     "metadata": {
      "needs_background": "light"
     },
     "output_type": "display_data"
    }
   ],
   "source": [
    "df.Kilometer.hist(bins=100)"
   ]
  },
  {
   "cell_type": "markdown",
   "metadata": {},
   "source": [
    "В признаке `Kilometer` аномалий нет, с ним можно работать"
   ]
  },
  {
   "cell_type": "code",
   "execution_count": 37,
   "metadata": {},
   "outputs": [
    {
     "data": {
      "text/plain": [
       "<AxesSubplot:>"
      ]
     },
     "execution_count": 37,
     "metadata": {},
     "output_type": "execute_result"
    },
    {
     "data": {
      "image/png": "[encoded data removed]",
      "text/plain": [
       "<Figure size 1440x720 with 1 Axes>"
      ]
     },
     "metadata": {
      "needs_background": "light"
     },
     "output_type": "display_data"
    }
   ],
   "source": [
    "df.Price.hist(figsize = (20, 10), bins=100)              "
   ]
  },
  {
   "cell_type": "markdown",
   "metadata": {},
   "source": [
    "Строки с нулевым значением цены есть смысл удалить, т.к. они могут исказить результаты обучения модели"
   ]
  },
  {
   "cell_type": "code",
   "execution_count": 38,
   "metadata": {},
   "outputs": [
    {
     "data": {
      "text/plain": [
       "<AxesSubplot:>"
      ]
     },
     "execution_count": 38,
     "metadata": {},
     "output_type": "execute_result"
    },
    {
     "data": {
      "image/png": "[encoded data removed]",
      "text/plain": [
       "<Figure size 1440x720 with 1 Axes>"
      ]
     },
     "metadata": {
      "needs_background": "light"
     },
     "output_type": "display_data"
    }
   ],
   "source": [
    "df = df[df.Price > 0]\n",
    "df.Price.hist(figsize = (20, 10), bins=100)"
   ]
  },
  {
   "cell_type": "code",
   "execution_count": 39,
   "metadata": {},
   "outputs": [
    {
     "data": {
      "text/plain": [
       "<AxesSubplot:>"
      ]
     },
     "execution_count": 39,
     "metadata": {},
     "output_type": "execute_result"
    },
    {
     "data": {
      "image/png": "[encoded data removed]",
      "text/plain": [
       "<Figure size 432x288 with 1 Axes>"
      ]
     },
     "metadata": {
      "needs_background": "light"
     },
     "output_type": "display_data"
    }
   ],
   "source": [
    "df.boxplot('Price')"
   ]
  },
  {
   "cell_type": "markdown",
   "metadata": {},
   "source": [
    "Больших выбросов по целевому признаку `Price` нет, больше ничего не будем удалять"
   ]
  },
  {
   "cell_type": "code",
   "execution_count": 40,
   "metadata": {},
   "outputs": [
    {
     "name": "stderr",
     "output_type": "stream",
     "text": [
      "/tmp/ipykernel_31/822728949.py:1: SettingWithCopyWarning: \n",
      "A value is trying to be set on a copy of a slice from a DataFrame.\n",
      "Try using .loc[row_indexer,col_indexer] = value instead\n",
      "\n",
      "See the caveats in the documentation: https://pandas.pydata.org/pandas-docs/stable/user_guide/indexing.html#returning-a-view-versus-a-copy\n",
      "  df['DateCreated_year'] = pd.DatetimeIndex(df['DateCreated']).year\n"
     ]
    },
    {
     "data": {
      "text/plain": [
       "<AxesSubplot:>"
      ]
     },
     "execution_count": 40,
     "metadata": {},
     "output_type": "execute_result"
    },
    {
     "data": {
      "image/png": "[encoded data removed]",
      "text/plain": [
       "<Figure size 432x288 with 1 Axes>"
      ]
     },
     "metadata": {
      "needs_background": "light"
     },
     "output_type": "display_data"
    }
   ],
   "source": [
    "df['DateCreated_year'] = pd.DatetimeIndex(df['DateCreated']).year\n",
    "df.boxplot('DateCreated_year')"
   ]
  },
  {
   "cell_type": "code",
   "execution_count": 41,
   "metadata": {
    "scrolled": true
   },
   "outputs": [
    {
     "data": {
      "text/plain": [
       "2016    343571\n",
       "2015        25\n",
       "2014         1\n",
       "Name: DateCreated_year, dtype: int64"
      ]
     },
     "execution_count": 41,
     "metadata": {},
     "output_type": "execute_result"
    }
   ],
   "source": [
    "df['DateCreated_year'].value_counts()"
   ]
  },
  {
   "cell_type": "markdown",
   "metadata": {},
   "source": [
    "Видно, что подавляющее количество объявлений за 2016 г. Строки с объявлениями за 2014 и 2015 удалим, чтобы не искажать выводы."
   ]
  },
  {
   "cell_type": "code",
   "execution_count": 42,
   "metadata": {},
   "outputs": [
    {
     "data": {
      "text/plain": [
       "2016    343571\n",
       "Name: DateCreated_year, dtype: int64"
      ]
     },
     "metadata": {},
     "output_type": "display_data"
    }
   ],
   "source": [
    "df = df[df.DateCreated_year == 2016]\n",
    "display(df['DateCreated_year'].value_counts())"
   ]
  },
  {
   "cell_type": "code",
   "execution_count": 43,
   "metadata": {},
   "outputs": [],
   "source": [
    "#Удалим за ненадобностью колонки DateCreated и DateCreated_year\n",
    "df.drop(columns = ['DateCreated', 'DateCreated_year'], axis = 1, inplace=True)"
   ]
  },
  {
   "cell_type": "code",
   "execution_count": 44,
   "metadata": {
    "scrolled": true
   },
   "outputs": [
    {
     "data": {
      "text/plain": [
       "<AxesSubplot:>"
      ]
     },
     "execution_count": 44,
     "metadata": {},
     "output_type": "execute_result"
    },
    {
     "data": {
      "image/png": "[encoded data removed]",
      "text/plain": [
       "<Figure size 432x288 with 1 Axes>"
      ]
     },
     "metadata": {
      "needs_background": "light"
     },
     "output_type": "display_data"
    }
   ],
   "source": [
    "df.boxplot('Power')"
   ]
  },
  {
   "cell_type": "code",
   "execution_count": 45,
   "metadata": {
    "scrolled": true
   },
   "outputs": [
    {
     "data": {
      "text/plain": [
       "<AxesSubplot:>"
      ]
     },
     "execution_count": 45,
     "metadata": {},
     "output_type": "execute_result"
    },
    {
     "data": {
      "image/png": "[encoded data removed]",
      "text/plain": [
       "<Figure size 432x288 with 1 Axes>"
      ]
     },
     "metadata": {
      "needs_background": "light"
     },
     "output_type": "display_data"
    }
   ],
   "source": [
    "df['Power'].hist()"
   ]
  },
  {
   "cell_type": "markdown",
   "metadata": {},
   "source": [
    "Видно, что в в значениях мощности есть выбросы. Ограничим  `0 < Power < 600`"
   ]
  },
  {
   "cell_type": "code",
   "execution_count": 46,
   "metadata": {},
   "outputs": [
    {
     "data": {
      "text/plain": [
       "<AxesSubplot:>"
      ]
     },
     "execution_count": 46,
     "metadata": {},
     "output_type": "execute_result"
    },
    {
     "data": {
      "image/png": "[encoded data removed]",
      "text/plain": [
       "<Figure size 432x288 with 1 Axes>"
      ]
     },
     "metadata": {
      "needs_background": "light"
     },
     "output_type": "display_data"
    }
   ],
   "source": [
    "df = df[(df['Power'] > 0) & (df['Power'] < 600)]\n",
    "df['Power'].hist()"
   ]
  },
  {
   "cell_type": "code",
   "execution_count": 47,
   "metadata": {},
   "outputs": [
    {
     "data": {
      "text/plain": [
       "3     31351\n",
       "6     28481\n",
       "4     26606\n",
       "5     26407\n",
       "7     24587\n",
       "10    23615\n",
       "12    21910\n",
       "11    21715\n",
       "9     21553\n",
       "1     20793\n",
       "8     20351\n",
       "0     20067\n",
       "2     19407\n",
       "Name: RegistrationMonth, dtype: int64"
      ]
     },
     "execution_count": 47,
     "metadata": {},
     "output_type": "execute_result"
    }
   ],
   "source": [
    "df.RegistrationMonth.value_counts()"
   ]
  },
  {
   "cell_type": "code",
   "execution_count": 48,
   "metadata": {},
   "outputs": [
    {
     "data": {
      "text/plain": [
       "3     31351\n",
       "6     28481\n",
       "4     26606\n",
       "5     26407\n",
       "7     24587\n",
       "10    23615\n",
       "12    21910\n",
       "11    21715\n",
       "9     21553\n",
       "1     20793\n",
       "8     20351\n",
       "2     19407\n",
       "Name: RegistrationMonth, dtype: int64"
      ]
     },
     "execution_count": 48,
     "metadata": {},
     "output_type": "execute_result"
    }
   ],
   "source": [
    "df = df[df.RegistrationMonth != 0]\n",
    "df.RegistrationMonth.value_counts()"
   ]
  },
  {
   "cell_type": "markdown",
   "metadata": {},
   "source": [
    "## Обучение моделей"
   ]
  },
  {
   "cell_type": "code",
   "execution_count": 49,
   "metadata": {},
   "outputs": [
    {
     "data": {
      "text/html": [
       "<div>\n",
       "<style scoped>\n",
       "    .dataframe tbody tr th:only-of-type {\n",
       "        vertical-align: middle;\n",
       "    }\n",
       "\n",
       "    .dataframe tbody tr th {\n",
       "        vertical-align: top;\n",
       "    }\n",
       "\n",
       "    .dataframe thead th {\n",
       "        text-align: right;\n",
       "    }\n",
       "</style>\n",
       "<table border=\"1\" class=\"dataframe\">\n",
       "  <thead>\n",
       "    <tr style=\"text-align: right;\">\n",
       "      <th></th>\n",
       "      <th>Price</th>\n",
       "      <th>VehicleType</th>\n",
       "      <th>RegistrationYear</th>\n",
       "      <th>Gearbox</th>\n",
       "      <th>Power</th>\n",
       "      <th>Model</th>\n",
       "      <th>Kilometer</th>\n",
       "      <th>RegistrationMonth</th>\n",
       "      <th>FuelType</th>\n",
       "      <th>Brand</th>\n",
       "      <th>NotRepaired</th>\n",
       "    </tr>\n",
       "  </thead>\n",
       "  <tbody>\n",
       "    <tr>\n",
       "      <th>1</th>\n",
       "      <td>18300</td>\n",
       "      <td>2.0</td>\n",
       "      <td>2011</td>\n",
       "      <td>1.0</td>\n",
       "      <td>190</td>\n",
       "      <td>227.0</td>\n",
       "      <td>125000</td>\n",
       "      <td>5</td>\n",
       "      <td>2.0</td>\n",
       "      <td>1.0</td>\n",
       "      <td>2.0</td>\n",
       "    </tr>\n",
       "    <tr>\n",
       "      <th>2</th>\n",
       "      <td>9800</td>\n",
       "      <td>6.0</td>\n",
       "      <td>2004</td>\n",
       "      <td>0.0</td>\n",
       "      <td>163</td>\n",
       "      <td>117.0</td>\n",
       "      <td>125000</td>\n",
       "      <td>8</td>\n",
       "      <td>2.0</td>\n",
       "      <td>14.0</td>\n",
       "      <td>1.0</td>\n",
       "    </tr>\n",
       "    <tr>\n",
       "      <th>3</th>\n",
       "      <td>1500</td>\n",
       "      <td>5.0</td>\n",
       "      <td>2001</td>\n",
       "      <td>1.0</td>\n",
       "      <td>75</td>\n",
       "      <td>116.0</td>\n",
       "      <td>150000</td>\n",
       "      <td>6</td>\n",
       "      <td>6.0</td>\n",
       "      <td>38.0</td>\n",
       "      <td>0.0</td>\n",
       "    </tr>\n",
       "    <tr>\n",
       "      <th>4</th>\n",
       "      <td>3600</td>\n",
       "      <td>5.0</td>\n",
       "      <td>2008</td>\n",
       "      <td>1.0</td>\n",
       "      <td>69</td>\n",
       "      <td>101.0</td>\n",
       "      <td>90000</td>\n",
       "      <td>7</td>\n",
       "      <td>2.0</td>\n",
       "      <td>31.0</td>\n",
       "      <td>0.0</td>\n",
       "    </tr>\n",
       "    <tr>\n",
       "      <th>5</th>\n",
       "      <td>650</td>\n",
       "      <td>4.0</td>\n",
       "      <td>1995</td>\n",
       "      <td>1.0</td>\n",
       "      <td>102</td>\n",
       "      <td>11.0</td>\n",
       "      <td>150000</td>\n",
       "      <td>10</td>\n",
       "      <td>6.0</td>\n",
       "      <td>2.0</td>\n",
       "      <td>2.0</td>\n",
       "    </tr>\n",
       "    <tr>\n",
       "      <th>...</th>\n",
       "      <td>...</td>\n",
       "      <td>...</td>\n",
       "      <td>...</td>\n",
       "      <td>...</td>\n",
       "      <td>...</td>\n",
       "      <td>...</td>\n",
       "      <td>...</td>\n",
       "      <td>...</td>\n",
       "      <td>...</td>\n",
       "      <td>...</td>\n",
       "      <td>...</td>\n",
       "    </tr>\n",
       "    <tr>\n",
       "      <th>354361</th>\n",
       "      <td>5250</td>\n",
       "      <td>7.0</td>\n",
       "      <td>2016</td>\n",
       "      <td>0.0</td>\n",
       "      <td>150</td>\n",
       "      <td>4.0</td>\n",
       "      <td>150000</td>\n",
       "      <td>12</td>\n",
       "      <td>7.0</td>\n",
       "      <td>0.0</td>\n",
       "      <td>0.0</td>\n",
       "    </tr>\n",
       "    <tr>\n",
       "      <th>354362</th>\n",
       "      <td>3200</td>\n",
       "      <td>4.0</td>\n",
       "      <td>2004</td>\n",
       "      <td>1.0</td>\n",
       "      <td>225</td>\n",
       "      <td>140.0</td>\n",
       "      <td>150000</td>\n",
       "      <td>5</td>\n",
       "      <td>6.0</td>\n",
       "      <td>30.0</td>\n",
       "      <td>2.0</td>\n",
       "    </tr>\n",
       "    <tr>\n",
       "      <th>354366</th>\n",
       "      <td>1199</td>\n",
       "      <td>1.0</td>\n",
       "      <td>2000</td>\n",
       "      <td>0.0</td>\n",
       "      <td>101</td>\n",
       "      <td>106.0</td>\n",
       "      <td>125000</td>\n",
       "      <td>3</td>\n",
       "      <td>6.0</td>\n",
       "      <td>32.0</td>\n",
       "      <td>0.0</td>\n",
       "    </tr>\n",
       "    <tr>\n",
       "      <th>354367</th>\n",
       "      <td>9200</td>\n",
       "      <td>0.0</td>\n",
       "      <td>1996</td>\n",
       "      <td>1.0</td>\n",
       "      <td>102</td>\n",
       "      <td>223.0</td>\n",
       "      <td>150000</td>\n",
       "      <td>3</td>\n",
       "      <td>2.0</td>\n",
       "      <td>38.0</td>\n",
       "      <td>0.0</td>\n",
       "    </tr>\n",
       "    <tr>\n",
       "      <th>354368</th>\n",
       "      <td>3400</td>\n",
       "      <td>8.0</td>\n",
       "      <td>2002</td>\n",
       "      <td>1.0</td>\n",
       "      <td>100</td>\n",
       "      <td>116.0</td>\n",
       "      <td>150000</td>\n",
       "      <td>6</td>\n",
       "      <td>2.0</td>\n",
       "      <td>38.0</td>\n",
       "      <td>1.0</td>\n",
       "    </tr>\n",
       "  </tbody>\n",
       "</table>\n",
       "<p>286776 rows × 11 columns</p>\n",
       "</div>"
      ],
      "text/plain": [
       "        Price  VehicleType  RegistrationYear  Gearbox  Power  Model  \\\n",
       "1       18300          2.0              2011      1.0    190  227.0   \n",
       "2        9800          6.0              2004      0.0    163  117.0   \n",
       "3        1500          5.0              2001      1.0     75  116.0   \n",
       "4        3600          5.0              2008      1.0     69  101.0   \n",
       "5         650          4.0              1995      1.0    102   11.0   \n",
       "...       ...          ...               ...      ...    ...    ...   \n",
       "354361   5250          7.0              2016      0.0    150    4.0   \n",
       "354362   3200          4.0              2004      1.0    225  140.0   \n",
       "354366   1199          1.0              2000      0.0    101  106.0   \n",
       "354367   9200          0.0              1996      1.0    102  223.0   \n",
       "354368   3400          8.0              2002      1.0    100  116.0   \n",
       "\n",
       "        Kilometer  RegistrationMonth  FuelType  Brand  NotRepaired  \n",
       "1          125000                  5       2.0    1.0          2.0  \n",
       "2          125000                  8       2.0   14.0          1.0  \n",
       "3          150000                  6       6.0   38.0          0.0  \n",
       "4           90000                  7       2.0   31.0          0.0  \n",
       "5          150000                 10       6.0    2.0          2.0  \n",
       "...           ...                ...       ...    ...          ...  \n",
       "354361     150000                 12       7.0    0.0          0.0  \n",
       "354362     150000                  5       6.0   30.0          2.0  \n",
       "354366     125000                  3       6.0   32.0          0.0  \n",
       "354367     150000                  3       2.0   38.0          0.0  \n",
       "354368     150000                  6       2.0   38.0          1.0  \n",
       "\n",
       "[286776 rows x 11 columns]"
      ]
     },
     "execution_count": 49,
     "metadata": {},
     "output_type": "execute_result"
    }
   ],
   "source": [
    "#Кодируем категориальные признаки методом  Ordinal Encoding \n",
    "encoder = OrdinalEncoder(handle_unknown = 'use_encoded_value', unknown_value = -1)\n",
    "df[['VehicleType', 'Gearbox', 'Model', 'FuelType', 'Brand', 'NotRepaired']] = encoder.fit_transform(df[['VehicleType', 'Gearbox', 'Model', 'FuelType', 'Brand', 'NotRepaired']])\n",
    "df"
   ]
  },
  {
   "cell_type": "code",
   "execution_count": 50,
   "metadata": {},
   "outputs": [
    {
     "data": {
      "text/plain": [
       "(229420, 57356)"
      ]
     },
     "execution_count": 50,
     "metadata": {},
     "output_type": "execute_result"
    }
   ],
   "source": [
    "features = df.drop('Price', axis = 1)\n",
    "target = df['Price']\n",
    "features_train, features_test, target_train, target_test = (\n",
    "    train_test_split(features, target, test_size=0.2, random_state=12345)\n",
    ")\n",
    "len(features_train), len(features_test)"
   ]
  },
  {
   "cell_type": "code",
   "execution_count": 51,
   "metadata": {},
   "outputs": [
    {
     "data": {
      "text/plain": [
       "dict_keys(['copy_X', 'fit_intercept', 'n_jobs', 'normalize', 'positive'])"
      ]
     },
     "execution_count": 51,
     "metadata": {},
     "output_type": "execute_result"
    }
   ],
   "source": [
    "#Подбор лучшей модели для линейной регрессии\n",
    "model_lr = LinearRegression()\n",
    "model_lr.get_params().keys()"
   ]
  },
  {
   "cell_type": "code",
   "execution_count": 52,
   "metadata": {},
   "outputs": [
    {
     "name": "stdout",
     "output_type": "stream",
     "text": [
      "Лучшие параметры линейной регрессии {'copy_X': True, 'fit_intercept': False, 'normalize': True}\n",
      "Лучший rmse линейной регрессии 3099.60\n"
     ]
    }
   ],
   "source": [
    "parameters = {'fit_intercept':[True,False], 'normalize':[True,False], 'copy_X':[True, False]}\n",
    "grid = GridSearchCV(model_lr, parameters, cv=5,\n",
    "                    scoring='neg_root_mean_squared_error')\n",
    "grid.fit(features_train, target_train)\n",
    "model_lr = grid.best_estimator_\n",
    "print(f'Лучшие параметры линейной регрессии {grid.best_params_}')\n",
    "print(f'Лучший rmse линейной регрессии {grid.best_score_ * (-1):.2f}')"
   ]
  },
  {
   "cell_type": "code",
   "execution_count": 53,
   "metadata": {},
   "outputs": [
    {
     "data": {
      "text/plain": [
       "dict_keys(['ccp_alpha', 'criterion', 'max_depth', 'max_features', 'max_leaf_nodes', 'min_impurity_decrease', 'min_impurity_split', 'min_samples_leaf', 'min_samples_split', 'min_weight_fraction_leaf', 'random_state', 'splitter'])"
      ]
     },
     "execution_count": 53,
     "metadata": {},
     "output_type": "execute_result"
    }
   ],
   "source": [
    "#Дерево решений - подбор модели\n",
    "model_dt = DecisionTreeRegressor()\n",
    "model_dt.get_params().keys()"
   ]
  },
  {
   "cell_type": "code",
   "execution_count": 54,
   "metadata": {},
   "outputs": [
    {
     "name": "stdout",
     "output_type": "stream",
     "text": [
      "Лучшие параметры дерева решений {'max_depth': 9, 'max_leaf_nodes': 100, 'min_samples_split': 10}\n",
      "Лучший rmse дерева решений 2201.53\n"
     ]
    }
   ],
   "source": [
    "parameters = {\n",
    "    'max_depth': [1,2,3,4,5,6,7,8,9,10], \n",
    "    \"min_samples_split\": [10, 20, 40], \n",
    "    \"min_samples_split\": [10, 20, 40], \n",
    "    \"max_leaf_nodes\": [5, 20, 100]\n",
    "}\n",
    "grid = GridSearchCV(model_dt, parameters, cv=5,\n",
    "                    scoring='neg_root_mean_squared_error')\n",
    "grid.fit(features_train, target_train)\n",
    "model_dt = grid.best_estimator_\n",
    "print(f'Лучшие параметры дерева решений {grid.best_params_}')\n",
    "print(f'Лучший rmse дерева решений {grid.best_score_ * (-1):.2f}')"
   ]
  },
  {
   "cell_type": "code",
   "execution_count": 55,
   "metadata": {},
   "outputs": [
    {
     "data": {
      "text/plain": [
       "dict_keys(['bootstrap', 'ccp_alpha', 'criterion', 'max_depth', 'max_features', 'max_leaf_nodes', 'max_samples', 'min_impurity_decrease', 'min_impurity_split', 'min_samples_leaf', 'min_samples_split', 'min_weight_fraction_leaf', 'n_estimators', 'n_jobs', 'oob_score', 'random_state', 'verbose', 'warm_start'])"
      ]
     },
     "execution_count": 55,
     "metadata": {},
     "output_type": "execute_result"
    }
   ],
   "source": [
    "#Случайный лес - подбор модели\n",
    "model_rf = RandomForestRegressor()\n",
    "model_rf.get_params().keys()"
   ]
  },
  {
   "cell_type": "code",
   "execution_count": 56,
   "metadata": {},
   "outputs": [
    {
     "name": "stdout",
     "output_type": "stream",
     "text": [
      "Лучшие параметры модели случайного леса {'bootstrap': True, 'max_depth': None, 'max_features': 'log2', 'min_samples_split': 2, 'n_estimators': 100}\n",
      "Лучший rmse модели случайного леса  1586.07\n",
      "CPU times: user 31min 6s, sys: 5.47 s, total: 31min 11s\n",
      "Wall time: 31min 12s\n"
     ]
    }
   ],
   "source": [
    "%%time\n",
    "parameters = { \n",
    "    \"n_estimators\"      : [10, 100],\n",
    "    \"max_features\"      : [\"auto\", \"sqrt\", \"log2\"],\n",
    "    \"min_samples_split\" : [2],\n",
    "    \"max_depth\": [None, 1, 2, 3],\n",
    "    \"bootstrap\": [True, False],\n",
    "    } \n",
    "grid = GridSearchCV(model_rf, parameters, cv=5,\n",
    "                    scoring='neg_root_mean_squared_error')\n",
    "grid.fit(features_train, target_train)\n",
    "model_rf = grid.best_estimator_\n",
    "print(f'Лучшие параметры модели случайного леса {grid.best_params_}')\n",
    "print(f'Лучший rmse модели случайного леса  {grid.best_score_ * (-1):.2f}')"
   ]
  },
  {
   "cell_type": "code",
   "execution_count": 57,
   "metadata": {},
   "outputs": [
    {
     "data": {
      "text/plain": [
       "dict_keys(['boosting_type', 'class_weight', 'colsample_bytree', 'importance_type', 'learning_rate', 'max_depth', 'min_child_samples', 'min_child_weight', 'min_split_gain', 'n_estimators', 'n_jobs', 'num_leaves', 'objective', 'random_state', 'reg_alpha', 'reg_lambda', 'silent', 'subsample', 'subsample_for_bin', 'subsample_freq'])"
      ]
     },
     "execution_count": 57,
     "metadata": {},
     "output_type": "execute_result"
    }
   ],
   "source": [
    "#LGBM - подбор модели\n",
    "model_LightGBM = lgb.LGBMRegressor()\n",
    "model_LightGBM.get_params().keys()"
   ]
  },
  {
   "cell_type": "code",
   "execution_count": 58,
   "metadata": {},
   "outputs": [
    {
     "name": "stdout",
     "output_type": "stream",
     "text": [
      "Лучшие параметры модели LGBM {'learning_rate': 0.1, 'max_depth': -1, 'n_estimators': 200, 'num_leaves': 28}\n",
      "Лучший rmse модели LGBM  1670.17\n",
      "CPU times: user 1h 20min 49s, sys: 43.8 s, total: 1h 21min 33s\n",
      "Wall time: 1h 22min 4s\n"
     ]
    }
   ],
   "source": [
    "%%time\n",
    "parameters = { \n",
    "    'num_leaves': [7, 14, 21, 28],\n",
    "    'learning_rate': [0.1, 0.03],\n",
    "    'max_depth': [-1, 3],\n",
    "    'n_estimators': [50, 100, 200],\n",
    "    } \n",
    "grid = GridSearchCV(model_LightGBM, parameters, cv=5,\n",
    "                    scoring='neg_root_mean_squared_error')\n",
    "grid.fit(features_train, target_train)\n",
    "model_LightGBM = grid.best_estimator_\n",
    "print(f'Лучшие параметры модели LGBM {grid.best_params_}')\n",
    "print(f'Лучший rmse модели LGBM  {grid.best_score_ * (-1):.2f}')"
   ]
  },
  {
   "cell_type": "markdown",
   "metadata": {},
   "source": [
    "## Анализ моделей"
   ]
  },
  {
   "cell_type": "markdown",
   "metadata": {},
   "source": [
    "### Замер времени обучения и времени предсказания на обучающей выборке\n"
   ]
  },
  {
   "cell_type": "code",
   "execution_count": 59,
   "metadata": {},
   "outputs": [
    {
     "name": "stdout",
     "output_type": "stream",
     "text": [
      "CPU times: user 52.1 ms, sys: 15.6 ms, total: 67.7 ms\n",
      "Wall time: 84.7 ms\n"
     ]
    },
    {
     "data": {
      "text/plain": [
       "LinearRegression(fit_intercept=False, normalize=True)"
      ]
     },
     "execution_count": 59,
     "metadata": {},
     "output_type": "execute_result"
    }
   ],
   "source": [
    "%%time\n",
    "#Линейная регрессия\n",
    "model_lr.fit(features_train, target_train)"
   ]
  },
  {
   "cell_type": "code",
   "execution_count": 60,
   "metadata": {},
   "outputs": [
    {
     "name": "stdout",
     "output_type": "stream",
     "text": [
      "CPU times: user 37.4 ms, sys: 70.8 ms, total: 108 ms\n",
      "Wall time: 101 ms\n"
     ]
    }
   ],
   "source": [
    "%%time\n",
    "predictions = model_lr.predict(features_train)\n",
    "#rmse = mean_squared_error(target_test, predictions, squared=False)\n",
    "#print(\"RMSE: %.2f\" % rmse)"
   ]
  },
  {
   "cell_type": "code",
   "execution_count": 61,
   "metadata": {},
   "outputs": [
    {
     "name": "stdout",
     "output_type": "stream",
     "text": [
      "CPU times: user 388 ms, sys: 37 µs, total: 388 ms\n",
      "Wall time: 391 ms\n"
     ]
    },
    {
     "data": {
      "text/plain": [
       "DecisionTreeRegressor(max_depth=9, max_leaf_nodes=100, min_samples_split=10)"
      ]
     },
     "execution_count": 61,
     "metadata": {},
     "output_type": "execute_result"
    }
   ],
   "source": [
    "%%time\n",
    "#Дерево решений\n",
    "model_dt.fit(features_train, target_train)"
   ]
  },
  {
   "cell_type": "code",
   "execution_count": 62,
   "metadata": {},
   "outputs": [
    {
     "name": "stdout",
     "output_type": "stream",
     "text": [
      "CPU times: user 24 ms, sys: 36 µs, total: 24 ms\n",
      "Wall time: 21.6 ms\n"
     ]
    }
   ],
   "source": [
    "%%time\n",
    "predictions = model_dt.predict(features_train)\n",
    "#rmse = mean_squared_error(target_test, predictions, squared=False)\n",
    "#print(\"RMSE: %.2f\" % rmse)"
   ]
  },
  {
   "cell_type": "code",
   "execution_count": 63,
   "metadata": {
    "scrolled": true
   },
   "outputs": [
    {
     "name": "stdout",
     "output_type": "stream",
     "text": [
      "CPU times: user 29.1 s, sys: 24.7 ms, total: 29.1 s\n",
      "Wall time: 29.1 s\n"
     ]
    },
    {
     "data": {
      "text/plain": [
       "RandomForestRegressor(max_features='log2')"
      ]
     },
     "execution_count": 63,
     "metadata": {},
     "output_type": "execute_result"
    }
   ],
   "source": [
    "%%time\n",
    "#Случайный лес\n",
    "model_rf.fit(features_train, target_train)"
   ]
  },
  {
   "cell_type": "code",
   "execution_count": 64,
   "metadata": {},
   "outputs": [
    {
     "name": "stdout",
     "output_type": "stream",
     "text": [
      "CPU times: user 10.7 s, sys: 5.77 ms, total: 10.7 s\n",
      "Wall time: 10.7 s\n"
     ]
    }
   ],
   "source": [
    "%%time\n",
    "predictions = model_rf.predict(features_train)\n",
    "#rmse = mean_squared_error(target_test, predictions, squared=False)\n",
    "#print(\"RMSE: %.2f\" % rmse)"
   ]
  },
  {
   "cell_type": "code",
   "execution_count": 65,
   "metadata": {
    "scrolled": true
   },
   "outputs": [
    {
     "name": "stdout",
     "output_type": "stream",
     "text": [
      "CPU times: user 9min 58s, sys: 5.98 s, total: 10min 4s\n",
      "Wall time: 10min 8s\n"
     ]
    },
    {
     "data": {
      "text/plain": [
       "LGBMRegressor(n_estimators=200, num_leaves=28)"
      ]
     },
     "execution_count": 65,
     "metadata": {},
     "output_type": "execute_result"
    }
   ],
   "source": [
    "%%time\n",
    "#LGBM\n",
    "model_LightGBM.fit(features_train, target_train)"
   ]
  },
  {
   "cell_type": "code",
   "execution_count": 66,
   "metadata": {},
   "outputs": [
    {
     "name": "stdout",
     "output_type": "stream",
     "text": [
      "CPU times: user 2.83 s, sys: 4.92 ms, total: 2.83 s\n",
      "Wall time: 2.83 s\n"
     ]
    }
   ],
   "source": [
    "%%time\n",
    "predictions = model_LightGBM.predict(features_train)\n",
    "#rmse = mean_squared_error(target_test, predictions, squared=False)\n",
    "#print(\"RMSE: %.2f\" % rmse)"
   ]
  },
  {
   "cell_type": "markdown",
   "metadata": {},
   "source": [
    "### Сравнение моделей на обучающей выборке\n",
    "\n",
    "№ | Модель | Гиперпараметры | RMSE | Время обучения, сек. | Время предсказания, сек. \n",
    "---:|:---|:---:|:---:|:---:| ---\n",
    "1 | **Линейная регрессия** | {'copy_X': True, 'fit_intercept': False, 'normalize': True} | 3099.60 | 84.7 ms | 101 ms\n",
    "2 | **Дерево решений** | {'max_depth': 9, 'max_leaf_nodes': 100, 'min_samples_split': 10} | 2201.53 | 391 ms | 21.6 ms\n",
    "3 | **Случайный лес** |  {'bootstrap': True, 'max_depth': None, 'max_features': 'log2', 'min_samples_split': 2, 'n_estimators': 100} | 1586.07 | 29.1 s| 10.7 s\n",
    "4 | **LGBM** | {'learning_rate': 0.1, 'max_depth': -1, 'n_estimators': 200, 'num_leaves': 28} | 1670.17 | 10min 8s | 2.83 s\n"
   ]
  },
  {
   "cell_type": "markdown",
   "metadata": {},
   "source": [
    "Провели анализ четырех разных моделей с подбором гиперпараметов через GridSearchCV и сравнение по метрике RMSE и по времени обучения. Можно сделать следующие выводы:\n",
    "- Самую низкую ошибку RMSE 1586.07 (самая качественная модель) дает модель на основе случайного леса, самая высокая RMSE 3099.60 у модели на основе линейной регрессии . \n",
    "- Наименьшее время обучения у модели на основе линейной регрессии (84.7 ms), наибольшее - у LGBM (10min 8s)\n",
    "\n",
    "Итак, самая лучшая модель - Случайный лес. Проверим ее на тестовой выборке"
   ]
  },
  {
   "cell_type": "code",
   "execution_count": 68,
   "metadata": {},
   "outputs": [
    {
     "name": "stdout",
     "output_type": "stream",
     "text": [
      "RMSE: 1580.30\n",
      "CPU times: user 2.54 s, sys: 404 µs, total: 2.54 s\n",
      "Wall time: 2.54 s\n"
     ]
    }
   ],
   "source": [
    "%%time\n",
    "predictions = model_rf.predict(features_test)\n",
    "rmse = mean_squared_error(target_test, predictions, squared=False)\n",
    "print(\"RMSE: %.2f\" % rmse)"
   ]
  },
  {
   "cell_type": "markdown",
   "metadata": {},
   "source": [
    "RMSE модели случайного леса на тестовой выборке составила 1580.30, скорость предсказания - 2.54 s"
   ]
  },
  {
   "cell_type": "code",
   "execution_count": null,
   "metadata": {},
   "outputs": [],
   "source": []
  }
 ],
 "metadata": {
  "ExecuteTimeLog": [
   {
    "duration": 369,
    "start_time": "2022-08-26T11:18:21.940Z"
   },
   {
    "duration": 3132,
    "start_time": "2022-08-26T11:18:22.469Z"
   },
   {
    "duration": 87,
    "start_time": "2022-08-26T11:24:25.984Z"
   },
   {
    "duration": 47,
    "start_time": "2022-08-26T11:25:04.402Z"
   },
   {
    "duration": 18,
    "start_time": "2022-08-26T11:25:20.802Z"
   },
   {
    "duration": 69,
    "start_time": "2022-08-26T11:27:28.929Z"
   },
   {
    "duration": 8,
    "start_time": "2022-08-26T11:34:27.996Z"
   },
   {
    "duration": 29,
    "start_time": "2022-08-26T11:34:37.940Z"
   },
   {
    "duration": 599,
    "start_time": "2022-08-26T11:36:12.240Z"
   },
   {
    "duration": 251,
    "start_time": "2022-08-26T11:36:20.960Z"
   },
   {
    "duration": 27,
    "start_time": "2022-08-26T11:36:54.961Z"
   },
   {
    "duration": 46,
    "start_time": "2022-08-26T11:37:38.696Z"
   },
   {
    "duration": 45,
    "start_time": "2022-08-28T08:20:21.340Z"
   },
   {
    "duration": 383,
    "start_time": "2022-08-28T08:20:27.849Z"
   },
   {
    "duration": 1126,
    "start_time": "2022-08-28T08:20:28.233Z"
   },
   {
    "duration": 63,
    "start_time": "2022-08-28T08:20:29.360Z"
   },
   {
    "duration": 79,
    "start_time": "2022-08-28T08:20:29.425Z"
   },
   {
    "duration": 141,
    "start_time": "2022-08-28T08:20:35.137Z"
   },
   {
    "duration": 652,
    "start_time": "2022-08-28T08:22:39.581Z"
   },
   {
    "duration": 316,
    "start_time": "2022-08-28T08:23:13.868Z"
   },
   {
    "duration": 251,
    "start_time": "2022-08-28T08:23:26.429Z"
   },
   {
    "duration": 269,
    "start_time": "2022-08-28T08:23:41.160Z"
   },
   {
    "duration": 39,
    "start_time": "2022-08-28T08:27:05.059Z"
   },
   {
    "duration": 400,
    "start_time": "2022-08-28T08:27:26.559Z"
   },
   {
    "duration": 342,
    "start_time": "2022-08-28T08:29:04.079Z"
   },
   {
    "duration": 707,
    "start_time": "2022-08-28T09:09:52.544Z"
   },
   {
    "duration": 84,
    "start_time": "2022-08-28T09:10:53.083Z"
   },
   {
    "duration": 23,
    "start_time": "2022-08-28T09:28:53.854Z"
   },
   {
    "duration": 140,
    "start_time": "2022-08-28T09:33:10.582Z"
   },
   {
    "duration": 51,
    "start_time": "2022-08-28T09:43:54.134Z"
   },
   {
    "duration": 23,
    "start_time": "2022-08-28T09:43:59.743Z"
   },
   {
    "duration": 127,
    "start_time": "2022-08-28T09:44:03.574Z"
   },
   {
    "duration": 3,
    "start_time": "2022-08-28T13:24:32.563Z"
   },
   {
    "duration": 751,
    "start_time": "2022-08-28T13:25:11.435Z"
   },
   {
    "duration": 265,
    "start_time": "2022-08-28T13:25:13.303Z"
   },
   {
    "duration": 645,
    "start_time": "2022-08-28T13:25:42.162Z"
   },
   {
    "duration": 613,
    "start_time": "2022-08-28T13:26:19.322Z"
   },
   {
    "duration": 63,
    "start_time": "2022-08-28T13:26:22.792Z"
   },
   {
    "duration": 167,
    "start_time": "2022-08-28T13:28:00.734Z"
   },
   {
    "duration": 256,
    "start_time": "2022-08-28T13:28:15.082Z"
   },
   {
    "duration": 3,
    "start_time": "2022-08-28T13:29:08.275Z"
   },
   {
    "duration": 617,
    "start_time": "2022-08-28T13:29:12.310Z"
   },
   {
    "duration": 341,
    "start_time": "2022-08-28T13:29:14.562Z"
   },
   {
    "duration": 145,
    "start_time": "2022-08-28T13:29:24.256Z"
   },
   {
    "duration": 67,
    "start_time": "2022-08-28T13:30:26.463Z"
   },
   {
    "duration": 49900,
    "start_time": "2022-08-28T13:30:43.217Z"
   },
   {
    "duration": 1045,
    "start_time": "2022-08-30T10:15:55.760Z"
   },
   {
    "duration": 1162,
    "start_time": "2022-08-30T10:15:56.807Z"
   },
   {
    "duration": 57,
    "start_time": "2022-08-30T10:15:57.970Z"
   },
   {
    "duration": 83,
    "start_time": "2022-08-30T10:15:58.028Z"
   },
   {
    "duration": 147,
    "start_time": "2022-08-30T10:15:58.113Z"
   },
   {
    "duration": 560,
    "start_time": "2022-08-30T10:15:58.262Z"
   },
   {
    "duration": 293,
    "start_time": "2022-08-30T10:15:58.824Z"
   },
   {
    "duration": 420,
    "start_time": "2022-08-30T10:15:59.118Z"
   },
   {
    "duration": 397,
    "start_time": "2022-08-30T10:15:59.540Z"
   },
   {
    "duration": 867,
    "start_time": "2022-08-30T10:15:59.939Z"
   },
   {
    "duration": 179,
    "start_time": "2022-08-30T10:16:02.631Z"
   },
   {
    "duration": 77,
    "start_time": "2022-08-30T10:16:04.837Z"
   },
   {
    "duration": 14,
    "start_time": "2022-08-30T10:16:07.072Z"
   },
   {
    "duration": 273544,
    "start_time": "2022-08-30T10:17:35.076Z"
   },
   {
    "duration": 667,
    "start_time": "2022-08-30T10:22:12.446Z"
   },
   {
    "duration": 187,
    "start_time": "2022-08-30T10:24:13.553Z"
   },
   {
    "duration": 8,
    "start_time": "2022-08-30T10:24:30.192Z"
   },
   {
    "duration": 8,
    "start_time": "2022-08-30T10:25:04.032Z"
   },
   {
    "duration": 5,
    "start_time": "2022-08-30T10:25:39.431Z"
   },
   {
    "duration": 894946,
    "start_time": "2022-08-30T10:26:35.671Z"
   },
   {
    "duration": 3,
    "start_time": "2022-08-30T11:54:37.952Z"
   },
   {
    "duration": 1093,
    "start_time": "2022-08-31T08:14:52.189Z"
   },
   {
    "duration": 3081,
    "start_time": "2022-08-31T08:14:53.284Z"
   },
   {
    "duration": 65,
    "start_time": "2022-08-31T08:14:56.367Z"
   },
   {
    "duration": 96,
    "start_time": "2022-08-31T08:14:56.434Z"
   },
   {
    "duration": 159,
    "start_time": "2022-08-31T08:14:56.533Z"
   },
   {
    "duration": 682,
    "start_time": "2022-08-31T08:14:56.693Z"
   },
   {
    "duration": 324,
    "start_time": "2022-08-31T08:14:57.377Z"
   },
   {
    "duration": 504,
    "start_time": "2022-08-31T08:14:57.705Z"
   },
   {
    "duration": 391,
    "start_time": "2022-08-31T08:14:58.211Z"
   },
   {
    "duration": 730,
    "start_time": "2022-08-31T08:14:58.606Z"
   },
   {
    "duration": 175,
    "start_time": "2022-08-31T08:14:59.338Z"
   },
   {
    "duration": 98,
    "start_time": "2022-08-31T08:14:59.515Z"
   },
   {
    "duration": 6797,
    "start_time": "2022-08-31T08:14:59.617Z"
   },
   {
    "duration": 503,
    "start_time": "2022-08-31T08:15:06.417Z"
   },
   {
    "duration": 9,
    "start_time": "2022-08-31T08:44:06.328Z"
   },
   {
    "duration": 42298,
    "start_time": "2022-08-31T08:44:07.821Z"
   },
   {
    "duration": 457,
    "start_time": "2022-08-31T08:44:52.155Z"
   },
   {
    "duration": 171,
    "start_time": "2022-08-31T08:44:58.990Z"
   },
   {
    "duration": 95,
    "start_time": "2022-08-31T08:45:19.595Z"
   },
   {
    "duration": 483306,
    "start_time": "2022-08-31T08:45:27.622Z"
   },
   {
    "duration": 302799,
    "start_time": "2022-08-31T08:53:37.568Z"
   },
   {
    "duration": 702,
    "start_time": "2022-08-31T09:04:08.346Z"
   },
   {
    "duration": 77,
    "start_time": "2022-09-01T07:43:49.865Z"
   },
   {
    "duration": 1353,
    "start_time": "2022-09-01T07:43:55.280Z"
   },
   {
    "duration": 1586,
    "start_time": "2022-09-01T07:43:56.635Z"
   },
   {
    "duration": 55,
    "start_time": "2022-09-01T07:43:58.222Z"
   },
   {
    "duration": 79,
    "start_time": "2022-09-01T07:43:58.288Z"
   },
   {
    "duration": 173,
    "start_time": "2022-09-01T07:43:58.369Z"
   },
   {
    "duration": 704,
    "start_time": "2022-09-01T07:43:58.544Z"
   },
   {
    "duration": 374,
    "start_time": "2022-09-01T07:43:59.250Z"
   },
   {
    "duration": 515,
    "start_time": "2022-09-01T07:43:59.626Z"
   },
   {
    "duration": 497,
    "start_time": "2022-09-01T07:44:00.143Z"
   },
   {
    "duration": 190,
    "start_time": "2022-09-01T07:44:03.487Z"
   },
   {
    "duration": 1330,
    "start_time": "2022-09-01T07:45:28.881Z"
   },
   {
    "duration": 447,
    "start_time": "2022-09-01T07:45:43.010Z"
   },
   {
    "duration": 4,
    "start_time": "2022-09-01T07:46:17.817Z"
   },
   {
    "duration": 1201,
    "start_time": "2022-09-01T07:46:17.823Z"
   },
   {
    "duration": 67,
    "start_time": "2022-09-01T07:46:19.026Z"
   },
   {
    "duration": 104,
    "start_time": "2022-09-01T07:46:19.095Z"
   },
   {
    "duration": 165,
    "start_time": "2022-09-01T07:46:19.207Z"
   },
   {
    "duration": 292,
    "start_time": "2022-09-01T07:46:19.374Z"
   },
   {
    "duration": 385,
    "start_time": "2022-09-01T07:46:19.667Z"
   },
   {
    "duration": 463,
    "start_time": "2022-09-01T07:46:20.054Z"
   },
   {
    "duration": 478,
    "start_time": "2022-09-01T07:46:20.519Z"
   },
   {
    "duration": 1988,
    "start_time": "2022-09-02T10:02:02.780Z"
   },
   {
    "duration": 122,
    "start_time": "2022-09-02T10:02:56.026Z"
   },
   {
    "duration": 4,
    "start_time": "2022-09-02T10:03:21.877Z"
   },
   {
    "duration": 1257,
    "start_time": "2022-09-02T10:03:21.888Z"
   },
   {
    "duration": 70,
    "start_time": "2022-09-02T10:03:23.147Z"
   },
   {
    "duration": 85,
    "start_time": "2022-09-02T10:03:23.219Z"
   },
   {
    "duration": 187,
    "start_time": "2022-09-02T10:03:23.306Z"
   },
   {
    "duration": 254,
    "start_time": "2022-09-02T10:03:23.495Z"
   },
   {
    "duration": 321,
    "start_time": "2022-09-02T10:03:23.751Z"
   },
   {
    "duration": 583,
    "start_time": "2022-09-02T10:03:24.073Z"
   },
   {
    "duration": 413,
    "start_time": "2022-09-02T10:03:24.659Z"
   },
   {
    "duration": 124,
    "start_time": "2022-09-02T10:03:34.743Z"
   },
   {
    "duration": 87,
    "start_time": "2022-09-02T10:04:56.715Z"
   },
   {
    "duration": 2012,
    "start_time": "2022-09-02T10:05:00.371Z"
   },
   {
    "duration": 1975,
    "start_time": "2022-09-02T10:05:08.618Z"
   },
   {
    "duration": 2030,
    "start_time": "2022-09-02T10:05:19.557Z"
   },
   {
    "duration": 363,
    "start_time": "2022-09-02T10:08:09.066Z"
   },
   {
    "duration": 1090,
    "start_time": "2022-09-02T10:10:07.143Z"
   },
   {
    "duration": 1017,
    "start_time": "2022-09-02T10:10:36.010Z"
   },
   {
    "duration": 30,
    "start_time": "2022-09-02T10:11:14.341Z"
   },
   {
    "duration": 354,
    "start_time": "2022-09-02T10:11:30.046Z"
   },
   {
    "duration": 15,
    "start_time": "2022-09-02T10:12:02.448Z"
   },
   {
    "duration": 13,
    "start_time": "2022-09-02T10:12:14.309Z"
   },
   {
    "duration": 8,
    "start_time": "2022-09-02T10:12:30.640Z"
   },
   {
    "duration": 174,
    "start_time": "2022-09-02T10:36:59.182Z"
   },
   {
    "duration": 18,
    "start_time": "2022-09-02T10:38:47.326Z"
   },
   {
    "duration": 8,
    "start_time": "2022-09-02T10:39:12.897Z"
   },
   {
    "duration": 10,
    "start_time": "2022-09-02T10:44:50.017Z"
   },
   {
    "duration": 9,
    "start_time": "2022-09-02T10:45:21.359Z"
   },
   {
    "duration": 9,
    "start_time": "2022-09-02T10:45:26.888Z"
   },
   {
    "duration": 9,
    "start_time": "2022-09-02T10:46:21.332Z"
   },
   {
    "duration": 4,
    "start_time": "2022-09-02T10:46:25.626Z"
   },
   {
    "duration": 4,
    "start_time": "2022-09-02T10:50:33.065Z"
   },
   {
    "duration": 1151,
    "start_time": "2022-09-02T10:50:33.074Z"
   },
   {
    "duration": 34,
    "start_time": "2022-09-02T10:50:34.228Z"
   },
   {
    "duration": 85,
    "start_time": "2022-09-02T10:50:34.263Z"
   },
   {
    "duration": 184,
    "start_time": "2022-09-02T10:50:34.350Z"
   },
   {
    "duration": 480,
    "start_time": "2022-09-02T10:50:34.537Z"
   },
   {
    "duration": 350,
    "start_time": "2022-09-02T10:50:35.018Z"
   },
   {
    "duration": 381,
    "start_time": "2022-09-02T10:50:35.370Z"
   },
   {
    "duration": 427,
    "start_time": "2022-09-02T10:50:35.753Z"
   },
   {
    "duration": 353,
    "start_time": "2022-09-02T10:50:36.184Z"
   },
   {
    "duration": 8,
    "start_time": "2022-09-02T10:50:36.539Z"
   },
   {
    "duration": 23,
    "start_time": "2022-09-02T10:50:36.548Z"
   },
   {
    "duration": 11,
    "start_time": "2022-09-02T10:50:36.573Z"
   },
   {
    "duration": 39,
    "start_time": "2022-09-02T10:50:40.029Z"
   },
   {
    "duration": 20,
    "start_time": "2022-09-02T10:52:55.510Z"
   },
   {
    "duration": 309,
    "start_time": "2022-09-02T10:52:59.037Z"
   },
   {
    "duration": 159,
    "start_time": "2022-09-02T10:53:40.445Z"
   },
   {
    "duration": 17,
    "start_time": "2022-09-02T10:54:40.438Z"
   },
   {
    "duration": 11,
    "start_time": "2022-09-02T10:55:31.258Z"
   },
   {
    "duration": 165,
    "start_time": "2022-09-02T10:56:04.720Z"
   },
   {
    "duration": 155,
    "start_time": "2022-09-02T10:56:27.195Z"
   },
   {
    "duration": 175,
    "start_time": "2022-09-02T10:56:36.855Z"
   },
   {
    "duration": 186,
    "start_time": "2022-09-02T10:56:47.992Z"
   },
   {
    "duration": 41,
    "start_time": "2022-09-03T09:54:21.975Z"
   },
   {
    "duration": 1150,
    "start_time": "2022-09-03T09:54:26.331Z"
   },
   {
    "duration": 3117,
    "start_time": "2022-09-03T09:54:27.483Z"
   },
   {
    "duration": 44,
    "start_time": "2022-09-03T09:54:30.601Z"
   },
   {
    "duration": 74,
    "start_time": "2022-09-03T09:54:30.646Z"
   },
   {
    "duration": 162,
    "start_time": "2022-09-03T09:54:30.722Z"
   },
   {
    "duration": 583,
    "start_time": "2022-09-03T09:54:30.885Z"
   },
   {
    "duration": 287,
    "start_time": "2022-09-03T09:54:31.469Z"
   },
   {
    "duration": 413,
    "start_time": "2022-09-03T09:54:31.758Z"
   },
   {
    "duration": 338,
    "start_time": "2022-09-03T09:54:32.173Z"
   },
   {
    "duration": 312,
    "start_time": "2022-09-03T09:54:32.512Z"
   },
   {
    "duration": 6,
    "start_time": "2022-09-03T09:54:32.825Z"
   },
   {
    "duration": 59,
    "start_time": "2022-09-03T09:54:32.833Z"
   },
   {
    "duration": 18,
    "start_time": "2022-09-03T09:54:32.893Z"
   },
   {
    "duration": 278,
    "start_time": "2022-09-03T09:54:32.914Z"
   },
   {
    "duration": 141,
    "start_time": "2022-09-03T09:54:33.193Z"
   },
   {
    "duration": 150,
    "start_time": "2022-09-03T09:54:33.335Z"
   },
   {
    "duration": 76,
    "start_time": "2022-09-03T09:54:37.713Z"
   },
   {
    "duration": 9,
    "start_time": "2022-09-03T09:54:46.389Z"
   },
   {
    "duration": 7,
    "start_time": "2022-09-03T09:54:49.994Z"
   },
   {
    "duration": 542,
    "start_time": "2022-09-03T10:00:53.639Z"
   },
   {
    "duration": 4,
    "start_time": "2022-09-03T10:04:20.717Z"
   },
   {
    "duration": 542,
    "start_time": "2022-09-03T10:04:26.647Z"
   },
   {
    "duration": 514,
    "start_time": "2022-09-03T10:04:43.823Z"
   },
   {
    "duration": 10,
    "start_time": "2022-09-03T10:10:02.504Z"
   },
   {
    "duration": 10,
    "start_time": "2022-09-03T10:11:15.356Z"
   },
   {
    "duration": 11,
    "start_time": "2022-09-03T10:11:20.518Z"
   },
   {
    "duration": 781,
    "start_time": "2022-09-03T10:11:42.084Z"
   },
   {
    "duration": 599,
    "start_time": "2022-09-03T10:11:57.296Z"
   },
   {
    "duration": 9,
    "start_time": "2022-09-03T10:14:02.598Z"
   },
   {
    "duration": 9,
    "start_time": "2022-09-03T10:14:10.932Z"
   },
   {
    "duration": 10,
    "start_time": "2022-09-03T10:15:00.538Z"
   },
   {
    "duration": 592,
    "start_time": "2022-09-03T10:15:07.881Z"
   },
   {
    "duration": 573,
    "start_time": "2022-09-03T10:16:12.282Z"
   },
   {
    "duration": 71,
    "start_time": "2022-09-03T10:16:21.060Z"
   },
   {
    "duration": 108,
    "start_time": "2022-09-03T10:16:57.746Z"
   },
   {
    "duration": 90,
    "start_time": "2022-09-03T10:17:00.726Z"
   },
   {
    "duration": 82,
    "start_time": "2022-09-03T10:25:26.029Z"
   },
   {
    "duration": 129329,
    "start_time": "2022-09-03T10:25:30.730Z"
   },
   {
    "duration": 496,
    "start_time": "2022-09-03T10:27:40.060Z"
   },
   {
    "duration": 351,
    "start_time": "2022-09-03T10:34:40.317Z"
   },
   {
    "duration": 4,
    "start_time": "2022-09-03T10:34:51.045Z"
   },
   {
    "duration": 1033,
    "start_time": "2022-09-03T10:34:51.050Z"
   },
   {
    "duration": 34,
    "start_time": "2022-09-03T10:34:52.084Z"
   },
   {
    "duration": 73,
    "start_time": "2022-09-03T10:34:52.120Z"
   },
   {
    "duration": 133,
    "start_time": "2022-09-03T10:34:52.194Z"
   },
   {
    "duration": 219,
    "start_time": "2022-09-03T10:34:52.329Z"
   },
   {
    "duration": 274,
    "start_time": "2022-09-03T10:34:52.550Z"
   },
   {
    "duration": 407,
    "start_time": "2022-09-03T10:34:52.826Z"
   },
   {
    "duration": 328,
    "start_time": "2022-09-03T10:34:53.236Z"
   },
   {
    "duration": 327,
    "start_time": "2022-09-03T10:34:53.566Z"
   },
   {
    "duration": 7,
    "start_time": "2022-09-03T10:34:53.894Z"
   },
   {
    "duration": 39,
    "start_time": "2022-09-03T10:34:53.902Z"
   },
   {
    "duration": 28,
    "start_time": "2022-09-03T10:34:53.942Z"
   },
   {
    "duration": 284,
    "start_time": "2022-09-03T10:34:53.972Z"
   },
   {
    "duration": 146,
    "start_time": "2022-09-03T10:34:54.257Z"
   },
   {
    "duration": 152,
    "start_time": "2022-09-03T10:34:54.405Z"
   },
   {
    "duration": 6,
    "start_time": "2022-09-03T10:34:54.559Z"
   },
   {
    "duration": 831,
    "start_time": "2022-09-03T10:34:54.566Z"
   },
   {
    "duration": 89,
    "start_time": "2022-09-03T10:34:55.399Z"
   },
   {
    "duration": 168,
    "start_time": "2022-09-03T10:34:55.490Z"
   },
   {
    "duration": 98,
    "start_time": "2022-09-03T10:34:55.660Z"
   },
   {
    "duration": 4400,
    "start_time": "2022-09-03T10:34:55.759Z"
   },
   {
    "duration": 308,
    "start_time": "2022-09-03T10:35:00.160Z"
   },
   {
    "duration": 3685,
    "start_time": "2022-09-03T10:35:00.471Z"
   },
   {
    "duration": 408,
    "start_time": "2022-09-03T10:35:04.157Z"
   },
   {
    "duration": 370,
    "start_time": "2022-09-03T10:43:33.810Z"
   },
   {
    "duration": 315,
    "start_time": "2022-09-03T11:06:10.241Z"
   },
   {
    "duration": 4,
    "start_time": "2022-09-03T11:07:02.745Z"
   },
   {
    "duration": 358,
    "start_time": "2022-09-03T11:07:12.729Z"
   },
   {
    "duration": 1095,
    "start_time": "2022-09-04T17:42:13.543Z"
   },
   {
    "duration": 3329,
    "start_time": "2022-09-04T17:42:14.640Z"
   },
   {
    "duration": 50,
    "start_time": "2022-09-04T17:42:17.970Z"
   },
   {
    "duration": 67,
    "start_time": "2022-09-04T17:42:18.021Z"
   },
   {
    "duration": 137,
    "start_time": "2022-09-04T17:42:18.091Z"
   },
   {
    "duration": 544,
    "start_time": "2022-09-04T17:42:18.229Z"
   },
   {
    "duration": 309,
    "start_time": "2022-09-04T17:42:18.775Z"
   },
   {
    "duration": 480,
    "start_time": "2022-09-04T17:42:19.086Z"
   },
   {
    "duration": 441,
    "start_time": "2022-09-04T17:42:19.568Z"
   },
   {
    "duration": 349,
    "start_time": "2022-09-04T17:42:20.010Z"
   },
   {
    "duration": 7,
    "start_time": "2022-09-04T17:42:20.360Z"
   },
   {
    "duration": 51,
    "start_time": "2022-09-04T17:42:20.368Z"
   },
   {
    "duration": 17,
    "start_time": "2022-09-04T17:42:20.420Z"
   },
   {
    "duration": 289,
    "start_time": "2022-09-04T17:42:20.440Z"
   },
   {
    "duration": 146,
    "start_time": "2022-09-04T17:42:20.730Z"
   },
   {
    "duration": 160,
    "start_time": "2022-09-04T17:42:20.878Z"
   },
   {
    "duration": 6,
    "start_time": "2022-09-04T17:42:21.040Z"
   },
   {
    "duration": 19,
    "start_time": "2022-09-04T17:42:23.860Z"
   },
   {
    "duration": 32,
    "start_time": "2022-09-04T17:42:32.031Z"
   },
   {
    "duration": 3,
    "start_time": "2022-09-04T19:19:45.824Z"
   },
   {
    "duration": 93,
    "start_time": "2022-09-04T19:20:41.674Z"
   },
   {
    "duration": 99,
    "start_time": "2022-09-04T19:20:49.778Z"
   },
   {
    "duration": 123,
    "start_time": "2022-09-04T19:20:54.711Z"
   },
   {
    "duration": 111,
    "start_time": "2022-09-04T19:20:56.965Z"
   },
   {
    "duration": 3,
    "start_time": "2022-09-04T19:21:05.976Z"
   },
   {
    "duration": 1078,
    "start_time": "2022-09-04T19:21:05.981Z"
   },
   {
    "duration": 52,
    "start_time": "2022-09-04T19:21:07.061Z"
   },
   {
    "duration": 65,
    "start_time": "2022-09-04T19:21:07.114Z"
   },
   {
    "duration": 139,
    "start_time": "2022-09-04T19:21:07.180Z"
   },
   {
    "duration": 218,
    "start_time": "2022-09-04T19:21:07.321Z"
   },
   {
    "duration": 284,
    "start_time": "2022-09-04T19:21:07.540Z"
   },
   {
    "duration": 469,
    "start_time": "2022-09-04T19:21:07.826Z"
   },
   {
    "duration": 351,
    "start_time": "2022-09-04T19:21:08.296Z"
   },
   {
    "duration": 330,
    "start_time": "2022-09-04T19:21:08.648Z"
   },
   {
    "duration": 6,
    "start_time": "2022-09-04T19:21:08.979Z"
   },
   {
    "duration": 53,
    "start_time": "2022-09-04T19:21:08.986Z"
   },
   {
    "duration": 18,
    "start_time": "2022-09-04T19:21:09.041Z"
   },
   {
    "duration": 304,
    "start_time": "2022-09-04T19:21:09.061Z"
   },
   {
    "duration": 149,
    "start_time": "2022-09-04T19:21:09.366Z"
   },
   {
    "duration": 160,
    "start_time": "2022-09-04T19:21:09.517Z"
   },
   {
    "duration": 6,
    "start_time": "2022-09-04T19:21:09.678Z"
   },
   {
    "duration": 33,
    "start_time": "2022-09-04T19:21:09.686Z"
   },
   {
    "duration": 777,
    "start_time": "2022-09-04T19:21:09.720Z"
   },
   {
    "duration": 75,
    "start_time": "2022-09-04T19:21:10.499Z"
   },
   {
    "duration": 85,
    "start_time": "2022-09-04T19:22:12.129Z"
   },
   {
    "duration": 105,
    "start_time": "2022-09-04T19:22:13.901Z"
   },
   {
    "duration": 4,
    "start_time": "2022-09-04T19:22:17.202Z"
   },
   {
    "duration": 12,
    "start_time": "2022-09-04T19:28:39.323Z"
   },
   {
    "duration": 39,
    "start_time": "2022-09-04T19:28:45.322Z"
   },
   {
    "duration": 15,
    "start_time": "2022-09-04T19:28:46.038Z"
   },
   {
    "duration": 3,
    "start_time": "2022-09-04T19:28:46.780Z"
   },
   {
    "duration": 8,
    "start_time": "2022-09-04T19:28:47.383Z"
   },
   {
    "duration": 8201,
    "start_time": "2022-09-04T19:29:13.322Z"
   },
   {
    "duration": 4,
    "start_time": "2022-09-04T19:29:39.707Z"
   },
   {
    "duration": 8086,
    "start_time": "2022-09-04T19:29:46.234Z"
   },
   {
    "duration": 8136,
    "start_time": "2022-09-04T19:30:31.082Z"
   },
   {
    "duration": 8365,
    "start_time": "2022-09-04T19:31:58.442Z"
   },
   {
    "duration": 4,
    "start_time": "2022-09-04T19:36:23.265Z"
   },
   {
    "duration": 8,
    "start_time": "2022-09-04T19:37:12.433Z"
   },
   {
    "duration": 18,
    "start_time": "2022-09-04T19:38:25.001Z"
   },
   {
    "duration": 4,
    "start_time": "2022-09-04T19:38:31.443Z"
   },
   {
    "duration": 8679,
    "start_time": "2022-09-04T19:42:42.041Z"
   },
   {
    "duration": 54596,
    "start_time": "2022-09-04T19:46:18.787Z"
   },
   {
    "duration": 58,
    "start_time": "2022-09-04T19:48:47.783Z"
   },
   {
    "duration": 10,
    "start_time": "2022-09-04T19:50:57.405Z"
   },
   {
    "duration": 4,
    "start_time": "2022-09-04T19:51:08.092Z"
   },
   {
    "duration": 79,
    "start_time": "2022-09-04T19:55:35.083Z"
   },
   {
    "duration": 13,
    "start_time": "2022-09-04T19:55:44.675Z"
   },
   {
    "duration": 4,
    "start_time": "2022-09-04T19:55:50.684Z"
   },
   {
    "duration": 31396,
    "start_time": "2022-09-04T19:55:51.863Z"
   },
   {
    "duration": 43,
    "start_time": "2022-09-04T20:04:06.724Z"
   },
   {
    "duration": 1183,
    "start_time": "2022-09-04T20:04:12.495Z"
   },
   {
    "duration": 3361,
    "start_time": "2022-09-04T20:04:13.680Z"
   },
   {
    "duration": 43,
    "start_time": "2022-09-04T20:04:17.043Z"
   },
   {
    "duration": 77,
    "start_time": "2022-09-04T20:04:17.087Z"
   },
   {
    "duration": 142,
    "start_time": "2022-09-04T20:04:17.166Z"
   },
   {
    "duration": 405,
    "start_time": "2022-09-04T20:04:17.316Z"
   },
   {
    "duration": 279,
    "start_time": "2022-09-04T20:04:17.723Z"
   },
   {
    "duration": 419,
    "start_time": "2022-09-04T20:04:18.015Z"
   },
   {
    "duration": 361,
    "start_time": "2022-09-04T20:04:18.436Z"
   },
   {
    "duration": 344,
    "start_time": "2022-09-04T20:04:18.799Z"
   },
   {
    "duration": 7,
    "start_time": "2022-09-04T20:04:19.144Z"
   },
   {
    "duration": 39,
    "start_time": "2022-09-04T20:04:19.152Z"
   },
   {
    "duration": 20,
    "start_time": "2022-09-04T20:04:19.206Z"
   },
   {
    "duration": 306,
    "start_time": "2022-09-04T20:04:19.229Z"
   },
   {
    "duration": 175,
    "start_time": "2022-09-04T20:04:19.536Z"
   },
   {
    "duration": 157,
    "start_time": "2022-09-04T20:04:19.717Z"
   },
   {
    "duration": 6,
    "start_time": "2022-09-04T20:04:19.875Z"
   },
   {
    "duration": 36,
    "start_time": "2022-09-04T20:04:19.883Z"
   },
   {
    "duration": 854,
    "start_time": "2022-09-04T20:04:19.920Z"
   },
   {
    "duration": 58,
    "start_time": "2022-09-04T20:04:20.775Z"
   },
   {
    "duration": 3,
    "start_time": "2022-09-04T20:04:20.835Z"
   },
   {
    "duration": 9013,
    "start_time": "2022-09-04T20:04:20.839Z"
   },
   {
    "duration": 60,
    "start_time": "2022-09-04T20:04:29.854Z"
   },
   {
    "duration": 77435,
    "start_time": "2022-09-04T20:04:29.922Z"
   },
   {
    "duration": 4,
    "start_time": "2022-09-04T20:05:47.358Z"
   },
   {
    "duration": 41,
    "start_time": "2022-09-05T05:15:25.800Z"
   },
   {
    "duration": 1134,
    "start_time": "2022-09-05T05:18:19.239Z"
   },
   {
    "duration": 3120,
    "start_time": "2022-09-05T05:18:20.375Z"
   },
   {
    "duration": 50,
    "start_time": "2022-09-05T05:18:23.496Z"
   },
   {
    "duration": 75,
    "start_time": "2022-09-05T05:18:23.547Z"
   },
   {
    "duration": 126,
    "start_time": "2022-09-05T05:18:23.625Z"
   },
   {
    "duration": 396,
    "start_time": "2022-09-05T05:18:23.752Z"
   },
   {
    "duration": 277,
    "start_time": "2022-09-05T05:18:24.150Z"
   },
   {
    "duration": 407,
    "start_time": "2022-09-05T05:18:24.428Z"
   },
   {
    "duration": 346,
    "start_time": "2022-09-05T05:18:24.837Z"
   },
   {
    "duration": 326,
    "start_time": "2022-09-05T05:18:25.185Z"
   },
   {
    "duration": 6,
    "start_time": "2022-09-05T05:18:25.513Z"
   },
   {
    "duration": 40,
    "start_time": "2022-09-05T05:18:25.521Z"
   },
   {
    "duration": 17,
    "start_time": "2022-09-05T05:18:25.562Z"
   },
   {
    "duration": 289,
    "start_time": "2022-09-05T05:18:25.582Z"
   },
   {
    "duration": 141,
    "start_time": "2022-09-05T05:18:25.873Z"
   },
   {
    "duration": 168,
    "start_time": "2022-09-05T05:18:26.015Z"
   },
   {
    "duration": 7,
    "start_time": "2022-09-05T05:18:26.185Z"
   },
   {
    "duration": 22,
    "start_time": "2022-09-05T05:18:26.206Z"
   },
   {
    "duration": 802,
    "start_time": "2022-09-05T05:18:26.230Z"
   },
   {
    "duration": 48,
    "start_time": "2022-09-05T05:18:27.034Z"
   },
   {
    "duration": 5,
    "start_time": "2022-09-05T05:18:27.083Z"
   },
   {
    "duration": 8718,
    "start_time": "2022-09-05T05:18:27.089Z"
   },
   {
    "duration": 4,
    "start_time": "2022-09-05T05:18:35.809Z"
   },
   {
    "duration": 72718,
    "start_time": "2022-09-05T05:18:35.815Z"
   },
   {
    "duration": 4,
    "start_time": "2022-09-05T05:19:48.535Z"
   },
   {
    "duration": 219,
    "start_time": "2022-09-05T05:19:48.540Z"
   },
   {
    "duration": 2130,
    "start_time": "2022-09-05T05:22:49.226Z"
   },
   {
    "duration": 20228,
    "start_time": "2022-09-05T05:23:07.060Z"
   },
   {
    "duration": 35662,
    "start_time": "2022-09-05T05:23:56.853Z"
   },
   {
    "duration": 68815,
    "start_time": "2022-09-05T05:24:58.510Z"
   },
   {
    "duration": 1656518,
    "start_time": "2022-09-05T05:26:33.481Z"
   },
   {
    "duration": 6,
    "start_time": "2022-09-05T05:54:10.001Z"
   },
   {
    "duration": 5005062,
    "start_time": "2022-09-05T06:43:06.981Z"
   },
   {
    "duration": 9799,
    "start_time": "2022-09-05T08:06:49.611Z"
   },
   {
    "duration": 21409,
    "start_time": "2022-09-05T08:07:43.406Z"
   },
   {
    "duration": 49073,
    "start_time": "2022-09-05T08:08:19.734Z"
   },
   {
    "duration": 95864,
    "start_time": "2022-09-05T08:11:49.450Z"
   },
   {
    "duration": 184336,
    "start_time": "2022-09-05T08:15:40.787Z"
   },
   {
    "duration": 291027,
    "start_time": "2022-09-05T08:20:13.985Z"
   },
   {
    "duration": 620779,
    "start_time": "2022-09-05T08:26:51.045Z"
   },
   {
    "duration": 849988,
    "start_time": "2022-09-05T08:45:39.527Z"
   },
   {
    "duration": 53,
    "start_time": "2022-09-05T09:06:23.021Z"
   },
   {
    "duration": 52,
    "start_time": "2022-09-05T09:06:31.768Z"
   },
   {
    "duration": 6,
    "start_time": "2022-09-05T09:07:01.587Z"
   },
   {
    "duration": 10,
    "start_time": "2022-09-05T09:08:55.737Z"
   },
   {
    "duration": 47,
    "start_time": "2022-09-05T09:11:18.165Z"
   },
   {
    "duration": 363,
    "start_time": "2022-09-05T09:11:24.036Z"
   },
   {
    "duration": 10,
    "start_time": "2022-09-05T09:11:26.845Z"
   },
   {
    "duration": 24359,
    "start_time": "2022-09-05T09:13:07.778Z"
   },
   {
    "duration": 2938,
    "start_time": "2022-09-05T09:13:39.173Z"
   },
   {
    "duration": 6724,
    "start_time": "2022-09-05T09:15:12.092Z"
   },
   {
    "duration": 623,
    "start_time": "2022-09-05T09:15:32.790Z"
   },
   {
    "duration": 559,
    "start_time": "2022-09-05T09:15:36.960Z"
   },
   {
    "duration": 1722447,
    "start_time": "2022-09-05T09:24:20.985Z"
   },
   {
    "duration": 111,
    "start_time": "2022-09-05T10:02:12.774Z"
   },
   {
    "duration": 125,
    "start_time": "2022-09-07T06:33:14.824Z"
   },
   {
    "duration": 1195,
    "start_time": "2022-09-07T06:33:22.761Z"
   },
   {
    "duration": 3317,
    "start_time": "2022-09-07T06:33:23.958Z"
   },
   {
    "duration": 52,
    "start_time": "2022-09-07T06:33:27.277Z"
   },
   {
    "duration": 80,
    "start_time": "2022-09-07T06:33:27.332Z"
   },
   {
    "duration": 148,
    "start_time": "2022-09-07T06:33:27.414Z"
   },
   {
    "duration": 609,
    "start_time": "2022-09-07T06:33:27.565Z"
   },
   {
    "duration": 343,
    "start_time": "2022-09-07T06:33:28.176Z"
   },
   {
    "duration": 449,
    "start_time": "2022-09-07T06:33:28.521Z"
   },
   {
    "duration": 395,
    "start_time": "2022-09-07T06:33:28.971Z"
   },
   {
    "duration": 352,
    "start_time": "2022-09-07T06:33:29.369Z"
   },
   {
    "duration": 8,
    "start_time": "2022-09-07T06:33:29.723Z"
   },
   {
    "duration": 47,
    "start_time": "2022-09-07T06:33:29.732Z"
   },
   {
    "duration": 35,
    "start_time": "2022-09-07T06:33:29.782Z"
   },
   {
    "duration": 302,
    "start_time": "2022-09-07T06:33:29.819Z"
   },
   {
    "duration": 155,
    "start_time": "2022-09-07T06:33:30.123Z"
   },
   {
    "duration": 151,
    "start_time": "2022-09-07T06:33:30.280Z"
   },
   {
    "duration": 6,
    "start_time": "2022-09-07T06:33:30.433Z"
   },
   {
    "duration": 33,
    "start_time": "2022-09-07T06:33:30.441Z"
   },
   {
    "duration": 769,
    "start_time": "2022-09-07T06:33:30.476Z"
   },
   {
    "duration": 51,
    "start_time": "2022-09-07T06:33:31.246Z"
   },
   {
    "duration": 4,
    "start_time": "2022-09-07T06:33:31.306Z"
   },
   {
    "duration": 9336,
    "start_time": "2022-09-07T06:33:31.311Z"
   },
   {
    "duration": 60,
    "start_time": "2022-09-07T06:33:40.649Z"
   },
   {
    "duration": 90621,
    "start_time": "2022-09-07T06:33:40.710Z"
   },
   {
    "duration": 5,
    "start_time": "2022-09-07T06:35:11.335Z"
   },
   {
    "duration": 2045893,
    "start_time": "2022-09-07T06:35:11.342Z"
   },
   {
    "duration": 5,
    "start_time": "2022-09-07T07:09:17.237Z"
   },
   {
    "duration": 8710342,
    "start_time": "2022-09-07T07:09:17.247Z"
   },
   {
    "duration": 67,
    "start_time": "2022-09-07T09:34:27.591Z"
   },
   {
    "duration": 3,
    "start_time": "2022-09-07T09:34:34.573Z"
   },
   {
    "duration": 1307,
    "start_time": "2022-09-07T09:34:34.580Z"
   },
   {
    "duration": 56,
    "start_time": "2022-09-07T09:34:35.889Z"
   },
   {
    "duration": 87,
    "start_time": "2022-09-07T09:34:35.948Z"
   },
   {
    "duration": 197,
    "start_time": "2022-09-07T09:34:36.044Z"
   },
   {
    "duration": 355,
    "start_time": "2022-09-07T09:34:36.243Z"
   },
   {
    "duration": 494,
    "start_time": "2022-09-07T09:34:36.601Z"
   },
   {
    "duration": 461,
    "start_time": "2022-09-07T09:34:37.097Z"
   },
   {
    "duration": 502,
    "start_time": "2022-09-07T09:34:37.560Z"
   },
   {
    "duration": 431,
    "start_time": "2022-09-07T09:34:38.064Z"
   },
   {
    "duration": 18,
    "start_time": "2022-09-07T09:34:38.498Z"
   },
   {
    "duration": 60,
    "start_time": "2022-09-07T09:34:38.518Z"
   },
   {
    "duration": 22,
    "start_time": "2022-09-07T09:34:38.579Z"
   },
   {
    "duration": 379,
    "start_time": "2022-09-07T09:34:38.602Z"
   },
   {
    "duration": 193,
    "start_time": "2022-09-07T09:34:38.982Z"
   },
   {
    "duration": 208,
    "start_time": "2022-09-07T09:34:39.177Z"
   },
   {
    "duration": 8,
    "start_time": "2022-09-07T09:34:39.386Z"
   },
   {
    "duration": 50,
    "start_time": "2022-09-07T09:34:39.395Z"
   },
   {
    "duration": 1106,
    "start_time": "2022-09-07T09:34:39.447Z"
   },
   {
    "duration": 78,
    "start_time": "2022-09-07T09:34:40.557Z"
   },
   {
    "duration": 5,
    "start_time": "2022-09-07T09:34:40.636Z"
   },
   {
    "duration": 8630,
    "start_time": "2022-09-07T09:34:40.643Z"
   },
   {
    "duration": 5,
    "start_time": "2022-09-07T09:34:49.313Z"
   },
   {
    "duration": 90267,
    "start_time": "2022-09-07T09:34:49.320Z"
   },
   {
    "duration": 4,
    "start_time": "2022-09-07T09:36:19.589Z"
   },
   {
    "duration": 1872791,
    "start_time": "2022-09-07T09:36:19.595Z"
   },
   {
    "duration": 4,
    "start_time": "2022-09-07T10:07:32.387Z"
   },
   {
    "duration": 4924324,
    "start_time": "2022-09-07T10:07:32.393Z"
   },
   {
    "duration": 90,
    "start_time": "2022-09-07T11:29:36.721Z"
   },
   {
    "duration": 106,
    "start_time": "2022-09-07T11:29:36.813Z"
   },
   {
    "duration": 479,
    "start_time": "2022-09-07T11:29:36.922Z"
   },
   {
    "duration": 27,
    "start_time": "2022-09-07T11:29:37.402Z"
   },
   {
    "duration": 29135,
    "start_time": "2022-09-07T11:29:37.432Z"
   },
   {
    "duration": 10740,
    "start_time": "2022-09-07T11:30:06.571Z"
   },
   {
    "duration": 608201,
    "start_time": "2022-09-07T11:30:17.314Z"
   },
   {
    "duration": 2836,
    "start_time": "2022-09-07T11:40:25.517Z"
   },
   {
    "duration": 2549,
    "start_time": "2022-09-07T13:07:43.608Z"
   },
   {
    "duration": 2547,
    "start_time": "2022-09-07T13:08:16.578Z"
   }
  ],
  "kernelspec": {
   "display_name": "Python 3 (ipykernel)",
   "language": "python",
   "name": "python3"
  },
  "language_info": {
   "codemirror_mode": {
    "name": "ipython",
    "version": 3
   },
   "file_extension": ".py",
   "mimetype": "text/x-python",
   "name": "python",
   "nbconvert_exporter": "python",
   "pygments_lexer": "ipython3",
   "version": "3.9.13"
  },
  "toc": {
   "base_numbering": 1,
   "nav_menu": {},
   "number_sections": true,
   "sideBar": true,
   "skip_h1_title": true,
   "title_cell": "Table of Contents",
   "title_sidebar": "Contents",
   "toc_cell": false,
   "toc_position": {
    "height": "calc(100% - 180px)",
    "left": "10px",
    "top": "150px",
    "width": "165px"
   },
   "toc_section_display": true,
   "toc_window_display": true
  }
 },
 "nbformat": 4,
 "nbformat_minor": 2
}

{
 "cells": [
  {
   "cell_type": "markdown",
   "metadata": {
    "toc": true
   },
   "source": [
    "<h1>Содержание<span class=\"tocSkip\"></span></h1>\n",
    "<div class=\"toc\"><ul class=\"toc-item\"><li><span><a href=\"#Откройте-и-изучите-файл\" data-toc-modified-id=\"Откройте-и-изучите-файл-1\"><span class=\"toc-item-num\">1&nbsp;&nbsp;</span>Откройте и изучите файл</a></span></li><li><span><a href=\"#Разбейте-данные-на-выборки\" data-toc-modified-id=\"Разбейте-данные-на-выборки-2\"><span class=\"toc-item-num\">2&nbsp;&nbsp;</span>Разбейте данные на выборки</a></span></li><li><span><a href=\"#Исследуйте-модели\" data-toc-modified-id=\"Исследуйте-модели-3\"><span class=\"toc-item-num\">3&nbsp;&nbsp;</span>Исследуйте модели</a></span></li><li><span><a href=\"#Проверьте-модель-на-тестовой-выборке\" data-toc-modified-id=\"Проверьте-модель-на-тестовой-выборке-4\"><span class=\"toc-item-num\">4&nbsp;&nbsp;</span>Проверьте модель на тестовой выборке</a></span></li><li><span><a href=\"#(бонус)-Проверьте-модели-на-адекватность\" data-toc-modified-id=\"(бонус)-Проверьте-модели-на-адекватность-5\"><span class=\"toc-item-num\">5&nbsp;&nbsp;</span>(бонус) Проверьте модели на адекватность</a></span></li><li><span><a href=\"#Выводы\" data-toc-modified-id=\"Выводы-6\"><span class=\"toc-item-num\">6&nbsp;&nbsp;</span>Выводы</a></span></li><li><span><a href=\"#Чек-лист-готовности-проекта\" data-toc-modified-id=\"Чек-лист-готовности-проекта-7\"><span class=\"toc-item-num\">7&nbsp;&nbsp;</span>Чек-лист готовности проекта</a></span></li></ul></div>"
   ]
  },
  {
   "cell_type": "markdown",
   "metadata": {},
   "source": [
    "# Рекомендация тарифов"
   ]
  },
  {
   "cell_type": "markdown",
   "metadata": {},
   "source": [
    "В вашем распоряжении данные о поведении клиентов, которые уже перешли на эти тарифы (из проекта курса «Статистический анализ данных»). Нужно построить модель для задачи классификации, которая выберет подходящий тариф. Предобработка данных не понадобится — вы её уже сделали.\n",
    "\n",
    "Постройте модель с максимально большим значением *accuracy*. Чтобы сдать проект успешно, нужно довести долю правильных ответов по крайней мере до 0.75. Проверьте *accuracy* на тестовой выборке самостоятельно."
   ]
  },
  {
   "cell_type": "markdown",
   "metadata": {},
   "source": [
    "## Откройте и изучите файл"
   ]
  },
  {
   "cell_type": "code",
   "execution_count": 1,
   "metadata": {},
   "outputs": [
    {
     "name": "stdout",
     "output_type": "stream",
     "text": [
      "<class 'pandas.core.frame.DataFrame'>\n",
      "RangeIndex: 3214 entries, 0 to 3213\n",
      "Data columns (total 5 columns):\n",
      " #   Column    Non-Null Count  Dtype  \n",
      "---  ------    --------------  -----  \n",
      " 0   calls     3214 non-null   float64\n",
      " 1   minutes   3214 non-null   float64\n",
      " 2   messages  3214 non-null   float64\n",
      " 3   mb_used   3214 non-null   float64\n",
      " 4   is_ultra  3214 non-null   int64  \n",
      "dtypes: float64(4), int64(1)\n",
      "memory usage: 125.7 KB\n"
     ]
    },
    {
     "data": {
      "text/html": [
       "<div>\n",
       "<style scoped>\n",
       "    .dataframe tbody tr th:only-of-type {\n",
       "        vertical-align: middle;\n",
       "    }\n",
       "\n",
       "    .dataframe tbody tr th {\n",
       "        vertical-align: top;\n",
       "    }\n",
       "\n",
       "    .dataframe thead th {\n",
       "        text-align: right;\n",
       "    }\n",
       "</style>\n",
       "<table border=\"1\" class=\"dataframe\">\n",
       "  <thead>\n",
       "    <tr style=\"text-align: right;\">\n",
       "      <th></th>\n",
       "      <th>calls</th>\n",
       "      <th>minutes</th>\n",
       "      <th>messages</th>\n",
       "      <th>mb_used</th>\n",
       "      <th>is_ultra</th>\n",
       "    </tr>\n",
       "  </thead>\n",
       "  <tbody>\n",
       "    <tr>\n",
       "      <th>0</th>\n",
       "      <td>40.0</td>\n",
       "      <td>311.90</td>\n",
       "      <td>83.0</td>\n",
       "      <td>19915.42</td>\n",
       "      <td>0</td>\n",
       "    </tr>\n",
       "    <tr>\n",
       "      <th>1</th>\n",
       "      <td>85.0</td>\n",
       "      <td>516.75</td>\n",
       "      <td>56.0</td>\n",
       "      <td>22696.96</td>\n",
       "      <td>0</td>\n",
       "    </tr>\n",
       "    <tr>\n",
       "      <th>2</th>\n",
       "      <td>77.0</td>\n",
       "      <td>467.66</td>\n",
       "      <td>86.0</td>\n",
       "      <td>21060.45</td>\n",
       "      <td>0</td>\n",
       "    </tr>\n",
       "    <tr>\n",
       "      <th>3</th>\n",
       "      <td>106.0</td>\n",
       "      <td>745.53</td>\n",
       "      <td>81.0</td>\n",
       "      <td>8437.39</td>\n",
       "      <td>1</td>\n",
       "    </tr>\n",
       "    <tr>\n",
       "      <th>4</th>\n",
       "      <td>66.0</td>\n",
       "      <td>418.74</td>\n",
       "      <td>1.0</td>\n",
       "      <td>14502.75</td>\n",
       "      <td>0</td>\n",
       "    </tr>\n",
       "  </tbody>\n",
       "</table>\n",
       "</div>"
      ],
      "text/plain": [
       "   calls  minutes  messages   mb_used  is_ultra\n",
       "0   40.0   311.90      83.0  19915.42         0\n",
       "1   85.0   516.75      56.0  22696.96         0\n",
       "2   77.0   467.66      86.0  21060.45         0\n",
       "3  106.0   745.53      81.0   8437.39         1\n",
       "4   66.0   418.74       1.0  14502.75         0"
      ]
     },
     "execution_count": 1,
     "metadata": {},
     "output_type": "execute_result"
    }
   ],
   "source": [
    "import pandas as pd\n",
    "import numpy as np\n",
    "from sklearn.model_selection import train_test_split\n",
    "from sklearn.tree import DecisionTreeClassifier\n",
    "from sklearn.ensemble import RandomForestClassifier\n",
    "from sklearn.linear_model import LogisticRegression\n",
    "\n",
    "from sklearn.metrics import accuracy_score\n",
    "\n",
    "try:\n",
    "    df = pd.read_csv('users_behavior.csv')\n",
    "except:\n",
    "    df = pd.read_csv('/datasets/users_behavior.csv')\n",
    "    \n",
    "df.info()\n",
    "df.head()"
   ]
  },
  {
   "cell_type": "markdown",
   "metadata": {},
   "source": [
    "В датасете 3214 строк, 5 колонок, данные без пропусков, все колонки нужных типов и с корректными названиями. С виду датасет не нуждается в предобработке, качество данных достаточное для проведения исследования."
   ]
  },
  {
   "cell_type": "markdown",
   "metadata": {},
   "source": [
    "## Разбейте данные на выборки"
   ]
  },
  {
   "cell_type": "markdown",
   "metadata": {},
   "source": [
    "Разбиваем данные на 3 выборки, руководствуясь эмпирическим правилом:\n",
    "* тестовая выборка - 20%\n",
    "* обучающая выборка ~ 60%\n",
    "* валидационная выборка ~ 20%\n"
   ]
  },
  {
   "cell_type": "code",
   "execution_count": 2,
   "metadata": {},
   "outputs": [
    {
     "data": {
      "text/plain": [
       "(2056, 643, 515)"
      ]
     },
     "execution_count": 2,
     "metadata": {},
     "output_type": "execute_result"
    }
   ],
   "source": [
    "features = df.drop(['is_ultra'], axis=1)\n",
    "target = df['is_ultra']\n",
    "\n",
    "features_train, features_test, target_train, target_test = (\n",
    "    train_test_split(features, target, test_size=0.2, random_state=12345)\n",
    ")\n",
    "features_train, features_valid, target_train, target_valid = (\n",
    "    train_test_split(features_train, target_train, test_size=0.25, random_state=12345)\n",
    ")\n",
    "len(features_train), len(features_test), len(features_valid)"
   ]
  },
  {
   "cell_type": "code",
   "execution_count": null,
   "metadata": {},
   "outputs": [],
   "source": [
    "#Kод ревьюера\n",
    "!pip install fast_ml\n",
    "from fast_ml.model_development import train_valid_test_split\n",
    "\n",
    "X_train, y_train, X_valid, y_valid, X_test, y_test = train_valid_test_split(df, target = 'is_ultra', \n",
    "                                                                            train_size=0.6, valid_size=0.2, test_size=0.2)\n",
    "\n"
   ]
  },
  {
   "cell_type": "markdown",
   "metadata": {},
   "source": [
    "## Исследуйте модели"
   ]
  },
  {
   "cell_type": "markdown",
   "metadata": {},
   "source": [
    "У нас задача классификации. Проверим три модели: Решающее дерево, Случайный лес, Логистическая регрессия. Посчитаем их accuracy и найдем оптимальные гиперпараметры"
   ]
  },
  {
   "cell_type": "code",
   "execution_count": 3,
   "metadata": {},
   "outputs": [
    {
     "name": "stdout",
     "output_type": "stream",
     "text": [
      "Дерево решений (depth = 5): accuracy = 0.7572815533980582\n",
      "Случайный лес (n_estimators = 9): accuracy = 0.7708737864077669\n",
      "Логистическая регрессия: accuracy = 0.6936236391912908\n"
     ]
    }
   ],
   "source": [
    "#Подбор гиперпараметров для дерева решений\n",
    "best_result = 0\n",
    "best_model_decision_tree = None\n",
    "best_depth = 0\n",
    "for depth in range(1, 6):\n",
    "    model = DecisionTreeClassifier(max_depth = depth, random_state=12345)\n",
    "    model.fit(features_train, target_train)\n",
    "    result = model.score(features_valid, target_valid)\n",
    "    if result > best_result:\n",
    "        best_model_decision_tree = model\n",
    "        best_result = result\n",
    "        best_depth = depth\n",
    "print(f'Дерево решений (depth = {best_depth}): accuracy = {best_result}')\n",
    "   \n",
    "#Случайный лес\n",
    "best_result = 0\n",
    "best_est = 0\n",
    "best_model_random_forest  = None\n",
    "for est in range(1, 11):\n",
    "    model = RandomForestClassifier(random_state=12345, n_estimators=est)\n",
    "    model.fit(features_train, target_train)\n",
    "    result = model.score(features_valid, target_valid)\n",
    "    if result > best_result:\n",
    "        best_model_random_forest = model\n",
    "        best_est = est\n",
    "        best_result = result\n",
    "\n",
    "print(f'Случайный лес (n_estimators = {best_est}): accuracy = {best_result}')\n",
    "    \n",
    "#Логистическая регрессия\n",
    "model_logistic_regression = LogisticRegression(random_state=12345, solver='lbfgs', max_iter=1000)\n",
    "model_logistic_regression.fit(features_valid, target_valid)\n",
    "best_result = model_logistic_regression.score(features_test, target_test)\n",
    "\n",
    "print(f'Логистическая регрессия: accuracy = {best_result}')"
   ]
  },
  {
   "cell_type": "markdown",
   "metadata": {},
   "source": [
    "Лучше всего себя показала модель на основе алгоритма \"случайный лес\""
   ]
  },
  {
   "cell_type": "markdown",
   "metadata": {},
   "source": [
    "## Проверьте модель на тестовой выборке"
   ]
  },
  {
   "cell_type": "code",
   "execution_count": 4,
   "metadata": {},
   "outputs": [
    {
     "name": "stdout",
     "output_type": "stream",
     "text": [
      "Проверка на тестовой выборке: accuracy = 0.774\n"
     ]
    }
   ],
   "source": [
    "predictions = model.predict(features_test)\n",
    "result = accuracy_score(target_test,predictions).round(3)\n",
    "print(f'Проверка на тестовой выборке: accuracy = {result}')"
   ]
  },
  {
   "cell_type": "markdown",
   "metadata": {},
   "source": [
    "## (бонус) Проверьте модели на адекватность"
   ]
  },
  {
   "cell_type": "code",
   "execution_count": 5,
   "metadata": {},
   "outputs": [
    {
     "name": "stdout",
     "output_type": "stream",
     "text": [
      "Заполнение случайными значениями: accuracy = 0.496\n"
     ]
    }
   ],
   "source": [
    "#Заполним случайными значениями\n",
    "np.random.seed(42)\n",
    "target_test_rand = pd.Series(np.random.randint(0, 2, len(target_test)))\n",
    "print(\"Заполнение случайными значениями: accuracy =\", accuracy_score(target_test, target_test_rand).round(3))"
   ]
  },
  {
   "cell_type": "markdown",
   "metadata": {},
   "source": [
    "Заполнение данными случайнами значениями дало значение accuracy = 0.496, что говорит о том, что наша модель прошла проверку на вменяемость (sanity check)"
   ]
  },
  {
   "cell_type": "code",
   "execution_count": 3,
   "metadata": {},
   "outputs": [
    {
     "data": {
      "text/plain": [
       "0    2229\n",
       "1     985\n",
       "Name: is_ultra, dtype: int64"
      ]
     },
     "execution_count": 3,
     "metadata": {},
     "output_type": "execute_result"
    }
   ],
   "source": [
    "df['is_ultra'].value_counts()"
   ]
  },
  {
   "cell_type": "code",
   "execution_count": 4,
   "metadata": {},
   "outputs": [
    {
     "data": {
      "text/plain": [
       "3214"
      ]
     },
     "execution_count": 4,
     "metadata": {},
     "output_type": "execute_result"
    }
   ],
   "source": [
    "df.shape[0]"
   ]
  },
  {
   "cell_type": "markdown",
   "metadata": {},
   "source": [
    "## Выводы"
   ]
  },
  {
   "cell_type": "markdown",
   "metadata": {},
   "source": [
    "Создана наиболее оптимальная модель машинного обучения для рекомендации тарифа абонентов сотового оператора \"Мегалайн\". Проанализировано три различных алгоритма машинного обучения с различными гиперпараметрами. В итоге выбрана модель на основе алгоритма \"случайный лес\" с n_estimators = 9. Модель показала свою адекватность по сравнению со случайной, процент правильных ответов (accuracy) у нее составляет 77,4%"
   ]
  }
 ],
 "metadata": {
  "ExecuteTimeLog": [
   {
    "duration": 60,
    "start_time": "2022-06-18T09:00:02.716Z"
   },
   {
    "duration": 544,
    "start_time": "2022-06-18T09:00:12.617Z"
   },
   {
    "duration": 798,
    "start_time": "2022-06-18T09:34:36.007Z"
   },
   {
    "duration": 14,
    "start_time": "2022-06-18T09:41:22.237Z"
   },
   {
    "duration": 57,
    "start_time": "2022-06-18T09:42:20.591Z"
   },
   {
    "duration": 9,
    "start_time": "2022-06-18T09:42:34.212Z"
   },
   {
    "duration": 14,
    "start_time": "2022-06-18T09:42:40.094Z"
   },
   {
    "duration": 18,
    "start_time": "2022-06-18T09:48:49.382Z"
   },
   {
    "duration": 8,
    "start_time": "2022-06-18T09:49:29.523Z"
   },
   {
    "duration": 10,
    "start_time": "2022-06-18T10:18:37.269Z"
   },
   {
    "duration": 30,
    "start_time": "2022-06-18T15:28:26.637Z"
   },
   {
    "duration": 1037,
    "start_time": "2022-06-18T15:33:22.362Z"
   },
   {
    "duration": 9,
    "start_time": "2022-06-18T15:33:23.401Z"
   },
   {
    "duration": 103,
    "start_time": "2022-06-18T15:33:23.411Z"
   },
   {
    "duration": 957,
    "start_time": "2022-06-18T15:35:17.244Z"
   },
   {
    "duration": 9,
    "start_time": "2022-06-18T15:35:18.203Z"
   },
   {
    "duration": 114,
    "start_time": "2022-06-18T15:35:18.213Z"
   },
   {
    "duration": 1020,
    "start_time": "2022-06-18T15:37:00.185Z"
   },
   {
    "duration": 8,
    "start_time": "2022-06-18T15:37:01.207Z"
   },
   {
    "duration": 308,
    "start_time": "2022-06-18T15:37:01.217Z"
   },
   {
    "duration": 1007,
    "start_time": "2022-06-18T15:46:05.114Z"
   },
   {
    "duration": 12,
    "start_time": "2022-06-18T15:46:06.123Z"
   },
   {
    "duration": 133,
    "start_time": "2022-06-18T15:46:06.136Z"
   },
   {
    "duration": 0,
    "start_time": "2022-06-18T15:46:06.271Z"
   },
   {
    "duration": 1011,
    "start_time": "2022-06-18T15:49:12.409Z"
   },
   {
    "duration": 10,
    "start_time": "2022-06-18T15:49:13.422Z"
   },
   {
    "duration": 298,
    "start_time": "2022-06-18T15:49:13.433Z"
   },
   {
    "duration": 8,
    "start_time": "2022-06-18T15:49:13.733Z"
   },
   {
    "duration": 8,
    "start_time": "2022-06-18T15:50:36.168Z"
   },
   {
    "duration": 8,
    "start_time": "2022-06-18T15:50:51.680Z"
   },
   {
    "duration": 4,
    "start_time": "2022-06-18T15:57:57.767Z"
   },
   {
    "duration": 99,
    "start_time": "2022-06-18T15:58:40.027Z"
   },
   {
    "duration": 1113,
    "start_time": "2022-06-18T15:59:05.834Z"
   },
   {
    "duration": 8,
    "start_time": "2022-06-18T15:59:06.949Z"
   },
   {
    "duration": 290,
    "start_time": "2022-06-18T15:59:06.958Z"
   },
   {
    "duration": 7,
    "start_time": "2022-06-18T15:59:07.249Z"
   },
   {
    "duration": 7,
    "start_time": "2022-06-18T15:59:07.258Z"
   },
   {
    "duration": 7,
    "start_time": "2022-06-18T16:00:56.706Z"
   },
   {
    "duration": 6,
    "start_time": "2022-06-18T16:01:19.895Z"
   },
   {
    "duration": 89,
    "start_time": "2022-06-18T16:02:23.175Z"
   },
   {
    "duration": 5,
    "start_time": "2022-06-18T16:02:52.278Z"
   },
   {
    "duration": 6,
    "start_time": "2022-06-18T16:04:16.287Z"
   },
   {
    "duration": 1004,
    "start_time": "2022-06-18T16:14:15.235Z"
   },
   {
    "duration": 8,
    "start_time": "2022-06-18T16:14:16.241Z"
   },
   {
    "duration": 325,
    "start_time": "2022-06-18T16:14:16.251Z"
   },
   {
    "duration": 10,
    "start_time": "2022-06-18T16:14:16.579Z"
   },
   {
    "duration": 8,
    "start_time": "2022-06-18T16:14:16.591Z"
   },
   {
    "duration": 1184,
    "start_time": "2022-06-20T20:21:20.530Z"
   },
   {
    "duration": 10,
    "start_time": "2022-06-20T20:21:21.717Z"
   },
   {
    "duration": 5,
    "start_time": "2022-06-20T20:34:52.988Z"
   },
   {
    "duration": 3,
    "start_time": "2022-06-20T20:35:10.847Z"
   }
  ],
  "kernelspec": {
   "display_name": "Python 3 (ipykernel)",
   "language": "python",
   "name": "python3"
  },
  "language_info": {
   "codemirror_mode": {
    "name": "ipython",
    "version": 3
   },
   "file_extension": ".py",
   "mimetype": "text/x-python",
   "name": "python",
   "nbconvert_exporter": "python",
   "pygments_lexer": "ipython3",
   "version": "3.9.13"
  },
  "toc": {
   "base_numbering": 1,
   "nav_menu": {},
   "number_sections": true,
   "sideBar": true,
   "skip_h1_title": true,
   "title_cell": "Содержание",
   "title_sidebar": "Содержание",
   "toc_cell": true,
   "toc_position": {
    "height": "calc(100% - 180px)",
    "left": "10px",
    "top": "150px",
    "width": "320px"
   },
   "toc_section_display": true,
   "toc_window_display": true
  }
 },
 "nbformat": 4,
 "nbformat_minor": 2
}
